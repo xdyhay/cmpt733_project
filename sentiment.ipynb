{
 "cells": [
  {
   "cell_type": "code",
   "execution_count": 1,
   "metadata": {},
   "outputs": [
    {
     "data": {
      "text/html": [
       "        <script type=\"text/javascript\">\n",
       "        window.PlotlyConfig = {MathJaxConfig: 'local'};\n",
       "        if (window.MathJax) {MathJax.Hub.Config({SVG: {font: \"STIX-Web\"}});}\n",
       "        if (typeof require !== 'undefined') {\n",
       "        require.undef(\"plotly\");\n",
       "        requirejs.config({\n",
       "            paths: {\n",
       "                'plotly': ['https://cdn.plot.ly/plotly-2.2.0.min']\n",
       "            }\n",
       "        });\n",
       "        require(['plotly'], function(Plotly) {\n",
       "            window._Plotly = Plotly;\n",
       "        });\n",
       "        }\n",
       "        </script>\n",
       "        "
      ]
     },
     "metadata": {},
     "output_type": "display_data"
    }
   ],
   "source": [
    "import re\n",
    "import numpy as np \n",
    "import pandas as pd\n",
    "import matplotlib.pyplot as plt\n",
    "import seaborn as sns\n",
    "#from colour import Color\n",
    "\n",
    "import nltk  \n",
    "from nltk.tokenize import word_tokenize\n",
    "from nltk.corpus import stopwords\n",
    "from nltk.sentiment.vader import SentimentIntensityAnalyzer\n",
    "from nltk.stem import WordNetLemmatizer \n",
    "from nltk.corpus import wordnet\n",
    "\n",
    "from flair.models import TextClassifier\n",
    "from flair.data import Sentence\n",
    "import plotly.graph_objects as go\n",
    "import plotly.express as px\n",
    "from plotly.subplots import make_subplots\n",
    "\n",
    "import plotly.offline as offline\n",
    "offline.init_notebook_mode(connected=True)"
   ]
  },
  {
   "cell_type": "code",
   "execution_count": 2,
   "metadata": {},
   "outputs": [
    {
     "name": "stderr",
     "output_type": "stream",
     "text": [
      "[nltk_data] Downloading package stopwords to /home/huiyiz/nltk_data...\n",
      "[nltk_data]   Package stopwords is already up-to-date!\n",
      "[nltk_data] Downloading package punkt to /home/huiyiz/nltk_data...\n",
      "[nltk_data]   Package punkt is already up-to-date!\n",
      "[nltk_data] Downloading package averaged_perceptron_tagger to\n",
      "[nltk_data]     /home/huiyiz/nltk_data...\n",
      "[nltk_data]   Package averaged_perceptron_tagger is already up-to-\n",
      "[nltk_data]       date!\n",
      "[nltk_data] Downloading package wordnet to /home/huiyiz/nltk_data...\n",
      "[nltk_data]   Package wordnet is already up-to-date!\n"
     ]
    },
    {
     "data": {
      "text/plain": [
       "True"
      ]
     },
     "execution_count": 2,
     "metadata": {},
     "output_type": "execute_result"
    }
   ],
   "source": [
    "nltk.download('stopwords')\n",
    "nltk.download('punkt')\n",
    "nltk.download('averaged_perceptron_tagger')\n",
    "nltk.download('wordnet')"
   ]
  },
  {
   "cell_type": "code",
   "execution_count": 3,
   "metadata": {},
   "outputs": [
    {
     "name": "stdout",
     "output_type": "stream",
     "text": [
      "2022-04-09 12:28:07,192 loading file /home/huiyiz/.flair/models/sentiment-en-mix-distillbert_4.pt\n"
     ]
    }
   ],
   "source": [
    "lemmatizer = WordNetLemmatizer()\n",
    "stopword = set(stopwords.words('english'))\n",
    "sia = TextClassifier.load('en-sentiment')"
   ]
  },
  {
   "cell_type": "code",
   "execution_count": 4,
   "metadata": {
    "scrolled": true
   },
   "outputs": [
    {
     "data": {
      "text/html": [
       "<div>\n",
       "<style scoped>\n",
       "    .dataframe tbody tr th:only-of-type {\n",
       "        vertical-align: middle;\n",
       "    }\n",
       "\n",
       "    .dataframe tbody tr th {\n",
       "        vertical-align: top;\n",
       "    }\n",
       "\n",
       "    .dataframe thead th {\n",
       "        text-align: right;\n",
       "    }\n",
       "</style>\n",
       "<table border=\"1\" class=\"dataframe\">\n",
       "  <thead>\n",
       "    <tr style=\"text-align: right;\">\n",
       "      <th></th>\n",
       "      <th>id</th>\n",
       "      <th>date</th>\n",
       "      <th>search</th>\n",
       "      <th>tweet</th>\n",
       "      <th>tidyTweet</th>\n",
       "    </tr>\n",
       "  </thead>\n",
       "  <tbody>\n",
       "    <tr>\n",
       "      <th>0</th>\n",
       "      <td>1484309873059934208</td>\n",
       "      <td>2022-01-20 15:40:25</td>\n",
       "      <td>#americafirst</td>\n",
       "      <td>@77WABCradio @RudyGiuliani I suppose all the e...</td>\n",
       "      <td>I suppose all the election fraud, the Biden ...</td>\n",
       "    </tr>\n",
       "    <tr>\n",
       "      <th>1</th>\n",
       "      <td>1484309738808840192</td>\n",
       "      <td>2022-01-20 15:39:53</td>\n",
       "      <td>#americafirst</td>\n",
       "      <td>The press had a lot of questions about Ukraine...</td>\n",
       "      <td>The press had a lot of questions about Ukraine...</td>\n",
       "    </tr>\n",
       "    <tr>\n",
       "      <th>2</th>\n",
       "      <td>1484309298867933186</td>\n",
       "      <td>2022-01-20 15:38:08</td>\n",
       "      <td>#americafirst</td>\n",
       "      <td>Nevada, vote for the candidate who has the rig...</td>\n",
       "      <td>Nevada, vote for the candidate who has the rig...</td>\n",
       "    </tr>\n",
       "    <tr>\n",
       "      <th>3</th>\n",
       "      <td>1484307683532754944</td>\n",
       "      <td>2022-01-20 15:31:43</td>\n",
       "      <td>#americafirst</td>\n",
       "      <td>@POTUS PLEASE TAKE ACTION AND ABOLISH YOUR TRU...</td>\n",
       "      <td>PLEASE TAKE ACTION AND ABOLISH YOUR TRUTH IN ...</td>\n",
       "    </tr>\n",
       "    <tr>\n",
       "      <th>4</th>\n",
       "      <td>1484306314432032768</td>\n",
       "      <td>2022-01-20 15:26:17</td>\n",
       "      <td>#americafirst</td>\n",
       "      <td>#Trump Backs Banning #NancyPelosi from #StockT...</td>\n",
       "      <td>#Trump Backs Banning #NancyPelosi from #StockT...</td>\n",
       "    </tr>\n",
       "    <tr>\n",
       "      <th>...</th>\n",
       "      <td>...</td>\n",
       "      <td>...</td>\n",
       "      <td>...</td>\n",
       "      <td>...</td>\n",
       "      <td>...</td>\n",
       "    </tr>\n",
       "    <tr>\n",
       "      <th>12084</th>\n",
       "      <td>1502623553891741701</td>\n",
       "      <td>2022-03-12 04:32:27</td>\n",
       "      <td>#wheresfauci</td>\n",
       "      <td>@MusicManVA 🐸🐷  Missing❗️  🌸  #WheresFauci??? ...</td>\n",
       "      <td>🐸🐷  Missing❗️  🌸  #WheresFauci???  😆</td>\n",
       "    </tr>\n",
       "    <tr>\n",
       "      <th>12085</th>\n",
       "      <td>1502623511592173570</td>\n",
       "      <td>2022-03-12 04:32:17</td>\n",
       "      <td>#wheresfauci</td>\n",
       "      <td>🐸🐷  Missing❗️  🌸  #WheresFauci???  😆  https://...</td>\n",
       "      <td>🐸🐷  Missing❗️  🌸  #WheresFauci???  😆</td>\n",
       "    </tr>\n",
       "    <tr>\n",
       "      <th>12086</th>\n",
       "      <td>1502621900618489856</td>\n",
       "      <td>2022-03-12 04:25:53</td>\n",
       "      <td>#wheresfauci</td>\n",
       "      <td>#WheresFauci  ??  His stubby little fingerprin...</td>\n",
       "      <td>#WheresFauci  ??  His stubby little fingerprin...</td>\n",
       "    </tr>\n",
       "    <tr>\n",
       "      <th>12087</th>\n",
       "      <td>1502607009652293634</td>\n",
       "      <td>2022-03-12 03:26:42</td>\n",
       "      <td>#wheresfauci</td>\n",
       "      <td>good morning...#WheresFauci</td>\n",
       "      <td>good morning...#WheresFauci</td>\n",
       "    </tr>\n",
       "    <tr>\n",
       "      <th>12088</th>\n",
       "      <td>1502600791571501061</td>\n",
       "      <td>2022-03-12 03:02:00</td>\n",
       "      <td>#wheresfauci</td>\n",
       "      <td>Good morning and don't forget to \"Spring Ahead...</td>\n",
       "      <td>Good morning and don't forget to \"Spring Ahead...</td>\n",
       "    </tr>\n",
       "  </tbody>\n",
       "</table>\n",
       "<p>12089 rows × 5 columns</p>\n",
       "</div>"
      ],
      "text/plain": [
       "                        id                 date         search  \\\n",
       "0      1484309873059934208  2022-01-20 15:40:25  #americafirst   \n",
       "1      1484309738808840192  2022-01-20 15:39:53  #americafirst   \n",
       "2      1484309298867933186  2022-01-20 15:38:08  #americafirst   \n",
       "3      1484307683532754944  2022-01-20 15:31:43  #americafirst   \n",
       "4      1484306314432032768  2022-01-20 15:26:17  #americafirst   \n",
       "...                    ...                  ...            ...   \n",
       "12084  1502623553891741701  2022-03-12 04:32:27   #wheresfauci   \n",
       "12085  1502623511592173570  2022-03-12 04:32:17   #wheresfauci   \n",
       "12086  1502621900618489856  2022-03-12 04:25:53   #wheresfauci   \n",
       "12087  1502607009652293634  2022-03-12 03:26:42   #wheresfauci   \n",
       "12088  1502600791571501061  2022-03-12 03:02:00   #wheresfauci   \n",
       "\n",
       "                                                   tweet  \\\n",
       "0      @77WABCradio @RudyGiuliani I suppose all the e...   \n",
       "1      The press had a lot of questions about Ukraine...   \n",
       "2      Nevada, vote for the candidate who has the rig...   \n",
       "3      @POTUS PLEASE TAKE ACTION AND ABOLISH YOUR TRU...   \n",
       "4      #Trump Backs Banning #NancyPelosi from #StockT...   \n",
       "...                                                  ...   \n",
       "12084  @MusicManVA 🐸🐷  Missing❗️  🌸  #WheresFauci??? ...   \n",
       "12085  🐸🐷  Missing❗️  🌸  #WheresFauci???  😆  https://...   \n",
       "12086  #WheresFauci  ??  His stubby little fingerprin...   \n",
       "12087                        good morning...#WheresFauci   \n",
       "12088  Good morning and don't forget to \"Spring Ahead...   \n",
       "\n",
       "                                               tidyTweet  \n",
       "0        I suppose all the election fraud, the Biden ...  \n",
       "1      The press had a lot of questions about Ukraine...  \n",
       "2      Nevada, vote for the candidate who has the rig...  \n",
       "3       PLEASE TAKE ACTION AND ABOLISH YOUR TRUTH IN ...  \n",
       "4      #Trump Backs Banning #NancyPelosi from #StockT...  \n",
       "...                                                  ...  \n",
       "12084             🐸🐷  Missing❗️  🌸  #WheresFauci???  😆    \n",
       "12085             🐸🐷  Missing❗️  🌸  #WheresFauci???  😆    \n",
       "12086  #WheresFauci  ??  His stubby little fingerprin...  \n",
       "12087                        good morning...#WheresFauci  \n",
       "12088  Good morning and don't forget to \"Spring Ahead...  \n",
       "\n",
       "[12089 rows x 5 columns]"
      ]
     },
     "execution_count": 4,
     "metadata": {},
     "output_type": "execute_result"
    }
   ],
   "source": [
    "df = pd.read_csv('./conspiracy_theories_data.csv')\n",
    "df"
   ]
  },
  {
   "cell_type": "code",
   "execution_count": 5,
   "metadata": {},
   "outputs": [],
   "source": [
    "def clean_tweet(s):\n",
    "    s = str(s).lower()\n",
    "    url_pattern = re.compile(r'https?://\\S+')\n",
    "    no_url = url_pattern.sub(r'', s)\n",
    "    username_pattern = re.compile(r'@\\w+')\n",
    "    no_username = username_pattern.sub(r'', no_url)\n",
    "    hashtag_pattern = re.compile(r'#')\n",
    "    no_hashtag = hashtag_pattern.sub(r'', no_username)\n",
    "    punct_pattern = re.compile(r'[^\\w\\s\\']')\n",
    "    no_punct = punct_pattern.sub(r'', no_hashtag)\n",
    "    amp_pattern = re.compile(r'&amp;')\n",
    "    tidy_tweet = amp_pattern.sub(r'and', no_punct)\n",
    "    return tidy_tweet\n",
    "\n",
    "def get_wordnet_pos(word):\n",
    "    tag = nltk.pos_tag([word])[0][1][0].upper()\n",
    "    tag_dict = {\"J\": wordnet.ADJ,\n",
    "                \"N\": wordnet.NOUN,\n",
    "                \"V\": wordnet.VERB,\n",
    "                \"R\": wordnet.ADV}\n",
    "    return tag_dict.get(tag, wordnet.NOUN)\n",
    "\n",
    "def normalize_words(tokens):\n",
    "    norm_tokens = [lemmatizer.lemmatize(t, get_wordnet_pos(t)) for t in tokens]\n",
    "    return norm_tokens\n",
    "\n",
    "def remove_stopwords(tokens):\n",
    "    result_tokens = []\n",
    "    for t in tokens:\n",
    "        if (t not in stopword and len(t) > 2 and not t.isnumeric() and t.isalpha()):\n",
    "            result_tokens.append(t)\n",
    "    return result_tokens\n",
    "\n",
    "def combine_tokens(tokens): \n",
    "    non_tokenized = ' '.join([t for t in tokens])\n",
    "    return non_tokenized\n",
    "\n",
    "def tweets_preprocessing(tweet):\n",
    "    tidy_tweet = clean_tweet(tweet)\n",
    "    tokens = nltk.word_tokenize(tidy_tweet)\n",
    "    norm_tokens = normalize_words(tokens)\n",
    "    result_tokens = remove_stopwords(norm_tokens)\n",
    "    non_tokenized = combine_tokens(result_tokens)\n",
    "    return non_tokenized if len(non_tokenized) != 0 else np.nan"
   ]
  },
  {
   "cell_type": "code",
   "execution_count": 6,
   "metadata": {},
   "outputs": [],
   "source": [
    "def sentiment_Flair_score(tweet):\n",
    "    sentence = Sentence(tweet)\n",
    "    sia.predict(sentence)\n",
    "    if 'NEGATIVE' in str(sentence.labels[0]):\n",
    "        score = -(sentence.labels[0].score)\n",
    "    else:\n",
    "        score = sentence.labels[0].score\n",
    "    return score\n",
    "\n",
    "def sentiment_Vader_score(text):\n",
    "    score = SentimentIntensityAnalyzer().polarity_scores(text)\n",
    "    compound_score = score['compound']\n",
    "    return compound_score\n",
    "\n",
    "def sentiment_analysis(score):\n",
    "    if score >= 0:\n",
    "        return 'positive'\n",
    "    else:\n",
    "        return 'negative'"
   ]
  },
  {
   "cell_type": "code",
   "execution_count": 7,
   "metadata": {},
   "outputs": [],
   "source": [
    "def get_sentiment_analysis(df):\n",
    "    df['tidyTweet'] = df['tweet'].apply(tweets_preprocessing)\n",
    "    df = df.dropna(subset=['tidyTweet']).reset_index(drop=True)\n",
    "    df['flair_score'] = df['tidyTweet'].apply(sentiment_Flair_score)\n",
    "    df['sentiment_flair'] = df['flair_score'].apply(sentiment_analysis)\n",
    "\n",
    "    df['vader_score'] = df['tidyTweet'].apply(sentiment_Vader_score)\n",
    "    df['sentiment_vader'] = df['vader_score'].apply(sentiment_analysis)\n",
    "    return df"
   ]
  },
  {
   "cell_type": "code",
   "execution_count": 8,
   "metadata": {},
   "outputs": [],
   "source": [
    "df = pd.read_csv('./conspiracy_theories_data.csv')\n",
    "df = get_sentiment_analysis(df)\n",
    "covid_df = pd.read_csv('./test_covid_data.csv')\n",
    "covid_df = get_sentiment_analysis(covid_df)\n",
    "truckers_df = pd.read_csv('./test_truckers_data.csv')\n",
    "truckers_df = get_sentiment_analysis(truckers_df)"
   ]
  },
  {
   "cell_type": "code",
   "execution_count": 9,
   "metadata": {},
   "outputs": [
    {
     "ename": "AttributeError",
     "evalue": "module 'seaborn' has no attribute 'histplot'",
     "output_type": "error",
     "traceback": [
      "\u001b[0;31m---------------------------------------------------------------------------\u001b[0m",
      "\u001b[0;31mAttributeError\u001b[0m                            Traceback (most recent call last)",
      "\u001b[0;32m<ipython-input-9-fd2f45bec7b3>\u001b[0m in \u001b[0;36m<module>\u001b[0;34m\u001b[0m\n\u001b[1;32m      1\u001b[0m \u001b[0mfig1\u001b[0m \u001b[0;34m=\u001b[0m \u001b[0mplt\u001b[0m\u001b[0;34m.\u001b[0m\u001b[0mfigure\u001b[0m\u001b[0;34m(\u001b[0m\u001b[0mfigsize\u001b[0m\u001b[0;34m=\u001b[0m\u001b[0;34m(\u001b[0m\u001b[0;36m17\u001b[0m\u001b[0;34m,\u001b[0m\u001b[0;36m10\u001b[0m\u001b[0;34m)\u001b[0m\u001b[0;34m)\u001b[0m\u001b[0;34m\u001b[0m\u001b[0;34m\u001b[0m\u001b[0m\n\u001b[1;32m      2\u001b[0m \u001b[0;34m\u001b[0m\u001b[0m\n\u001b[0;32m----> 3\u001b[0;31m \u001b[0msns\u001b[0m\u001b[0;34m.\u001b[0m\u001b[0mhistplot\u001b[0m\u001b[0;34m(\u001b[0m\u001b[0mdf\u001b[0m\u001b[0;34m[\u001b[0m\u001b[0;34m'flair_score'\u001b[0m\u001b[0;34m]\u001b[0m\u001b[0;34m,\u001b[0m \u001b[0mkde\u001b[0m\u001b[0;34m=\u001b[0m\u001b[0;32mTrue\u001b[0m\u001b[0;34m,\u001b[0m \u001b[0mcolor\u001b[0m\u001b[0;34m=\u001b[0m\u001b[0;34m\"olive\"\u001b[0m\u001b[0;34m,\u001b[0m \u001b[0mstat\u001b[0m\u001b[0;34m=\u001b[0m\u001b[0;34m\"density\"\u001b[0m\u001b[0;34m,\u001b[0m \u001b[0mbins\u001b[0m\u001b[0;34m=\u001b[0m\u001b[0;36m50\u001b[0m\u001b[0;34m,\u001b[0m \u001b[0malpha\u001b[0m\u001b[0;34m=\u001b[0m\u001b[0;36m0.6\u001b[0m\u001b[0;34m,\u001b[0m \u001b[0mlinewidth\u001b[0m\u001b[0;34m=\u001b[0m\u001b[0;36m0\u001b[0m\u001b[0;34m,\u001b[0m \u001b[0mlabel\u001b[0m\u001b[0;34m=\u001b[0m\u001b[0;34m'Flair_score'\u001b[0m\u001b[0;34m)\u001b[0m\u001b[0;34m\u001b[0m\u001b[0;34m\u001b[0m\u001b[0m\n\u001b[0m\u001b[1;32m      4\u001b[0m \u001b[0msns\u001b[0m\u001b[0;34m.\u001b[0m\u001b[0mhistplot\u001b[0m\u001b[0;34m(\u001b[0m\u001b[0mdf\u001b[0m\u001b[0;34m[\u001b[0m\u001b[0;34m'vader_score'\u001b[0m\u001b[0;34m]\u001b[0m\u001b[0;34m,\u001b[0m \u001b[0mkde\u001b[0m\u001b[0;34m=\u001b[0m\u001b[0;32mTrue\u001b[0m\u001b[0;34m,\u001b[0m \u001b[0mcolor\u001b[0m\u001b[0;34m=\u001b[0m\u001b[0;34m\"gold\"\u001b[0m\u001b[0;34m,\u001b[0m \u001b[0mstat\u001b[0m\u001b[0;34m=\u001b[0m\u001b[0;34m\"density\"\u001b[0m\u001b[0;34m,\u001b[0m \u001b[0mbins\u001b[0m\u001b[0;34m=\u001b[0m\u001b[0;36m50\u001b[0m\u001b[0;34m,\u001b[0m \u001b[0malpha\u001b[0m\u001b[0;34m=\u001b[0m\u001b[0;36m0.6\u001b[0m\u001b[0;34m,\u001b[0m \u001b[0mlinewidth\u001b[0m\u001b[0;34m=\u001b[0m\u001b[0;36m0\u001b[0m\u001b[0;34m,\u001b[0m \u001b[0mlabel\u001b[0m\u001b[0;34m=\u001b[0m\u001b[0;34m'Vader_score'\u001b[0m\u001b[0;34m)\u001b[0m\u001b[0;34m\u001b[0m\u001b[0;34m\u001b[0m\u001b[0m\n\u001b[1;32m      5\u001b[0m \u001b[0;34m\u001b[0m\u001b[0m\n",
      "\u001b[0;31mAttributeError\u001b[0m: module 'seaborn' has no attribute 'histplot'"
     ]
    },
    {
     "data": {
      "text/plain": [
       "<Figure size 1224x720 with 0 Axes>"
      ]
     },
     "metadata": {},
     "output_type": "display_data"
    }
   ],
   "source": [
    "fig1 = plt.figure(figsize=(17,10))\n",
    "\n",
    "sns.histplot(df['flair_score'], kde=True, color=\"olive\", stat=\"density\", bins=50, alpha=0.6, linewidth=0, label='Flair_score')\n",
    "sns.histplot(df['vader_score'], kde=True, color=\"gold\", stat=\"density\", bins=50, alpha=0.6, linewidth=0, label='Vader_score')\n",
    "\n",
    "plt.legend(fontsize=10)\n",
    "plt.title('Distribution of Sentiment Scores: Vader vs Flair', fontsize=15)\n",
    "plt.ylabel('Density of sentiment scores', fontsize=11)\n",
    "plt.xlabel('Sentiment scores', fontsize=11)\n",
    "\n",
    "plt.show()\n",
    "fig1.savefig('libraries_distribution.png')"
   ]
  },
  {
   "cell_type": "code",
   "execution_count": 10,
   "metadata": {},
   "outputs": [
    {
     "data": {
      "image/png": "[encoded data removed]",
      "text/plain": [
       "<Figure size 1224x720 with 1 Axes>"
      ]
     },
     "metadata": {
      "needs_background": "light"
     },
     "output_type": "display_data"
    }
   ],
   "source": [
    "flair_percent = (df['sentiment_flair'].value_counts()/len(df['sentiment_flair']))*100\n",
    "vader_percent = (df['sentiment_vader'].value_counts()/len(df['sentiment_vader']))*100\n",
    "\n",
    "#plt.figure(figsize=[10,8],dpi=100)\n",
    "fig2 = plt.figure(figsize=(17,10))\n",
    "x_axis = np.arange(2)\n",
    "\n",
    "plt.bar(x_axis-0.15, flair_percent, label='Flair', width=0.3, color='olive')\n",
    "plt.bar(x_axis+0.15, vader_percent, label='Vader', width=0.3, color='gold')\n",
    "\n",
    "plt.xticks(x_axis, df['sentiment_flair'].value_counts().index)\n",
    "plt.legend(fontsize=10)\n",
    "plt.title('Percentage Distribution of Sentiment: Vader vs Flair', fontsize=15)\n",
    "plt.ylabel('Percent', fontsize=11)\n",
    "plt.xlabel('Sentiment', fontsize=11)\n",
    "\n",
    "plt.show()\n",
    "fig2.savefig('libraries_percent.png')"
   ]
  },
  {
   "cell_type": "code",
   "execution_count": 11,
   "metadata": {},
   "outputs": [],
   "source": [
    "df['diff'] = np.where(df['sentiment_flair'] == df['sentiment_vader'], 1, 0)\n",
    "df_diff = df.query('diff == 0')\n",
    "great_diff = df_diff.loc[(df_diff['flair_score'].abs() > 0.9) & (df_diff['vader_score'].abs() > 0.90)]\n",
    "great_diff = great_diff [['tweet', 'sentiment_flair', 'sentiment_vader']]"
   ]
  },
  {
   "cell_type": "code",
   "execution_count": 12,
   "metadata": {},
   "outputs": [
    {
     "name": "stdout",
     "output_type": "stream",
     "text": [
      "If you need a lawyer, do you hire the best, or trust the public defender. If you HAVE to send secure pkg, use FedEx or postal service?..so WHY WOULD YOU TRUST A GOVT FRAUD OVER BRILLIANT PRIVATE DOCTORS? #Covid_19 #MandateFreedom #NHS #FauciLied @RandPaul @BuckSexton @ClayTravis\n",
      "\n",
      "\n",
      "Who else loves America??  This is the GREATEST COUNTRY on the planet!!   The anti-American ideologues should move to any other Country on earth. Just choose one. You will beg to get back to America.   Don’t let them take America away.  We are America. Respect it. #AmericaFirst  https://t.co/IJ9PWTpIOY\n",
      "\n",
      "\n",
      "Wow @Spotify glad I don’t use you.  You keep an #Antivaxxer like Joe Rogan and delete a national treasure like Neil Young?  #DumpSpotify #BoycottSpotify\n",
      "\n",
      "\n",
      "It’s absolutely no wonder that #QAnon &amp; the #GOP are so focused on child sexual abuse &amp; #childtrafficking they are the predators &amp; the perpetrators of these crimes. Those that scream the loudest are usually the guilty parties. #GOPHypocrisy\n",
      "\n",
      "\n",
      "So you’re a #Veteran pushing against peace, democracy &amp; public health &amp; safety. Way to expose yourself.  #Traitor #January6th #TrumpTreason #QAnonCult The #CanadaTruckers have been infiltrated by right wing militias, just like Jan 6 “freedom fighters.” #VaccinesWork #USA #Canada\n",
      "\n",
      "\n",
      "Canadian Pappu got scared by few truckers and even pretends to be #chinavirus positive. #BeAMan and face the brave #CanadaTruckers who are braving all hardships to demand freedom peacefully.\n",
      "\n",
      "\n",
      "Any Jan. 6th insurrectionist who believes Trump cares and will Pardon them, might as well just kiss any hope of a good life goodbye now. You are too much of a follower to survive on your own. #InsurrectionHasConsequences #TrumpCrimeFamily\n",
      "\n",
      "\n",
      ".@bbcnews usually taking a #depopulation alarmist position. gradual ethical attrition is the best hope of humans surviving without losing any more humanity. #antinatalism\n",
      "\n",
      "\n",
      "I hope all the governors in the country are paying attention to this.  It brings me joy to see kids get this excited about masks coming off.  Now they can have their freedom back.  @Justine_Brooke @JackPosobiec @w_terrence @CarriePrejean1  #Masks #MasksOff #MasksDontWork\n",
      "\n",
      "\n",
      "@kakar_harsha @globaltimesnews @HuXijin_GT @SpokespersonCHN All wise men and any human striving for human decency and dignity of other human won't support this. Only slaves including all those who remain silent to know #wuhanvirus origin will support a #CCPvirus regime. Karma is awaiting huge on all responsible. Om Namah Shivaya 🙏\n",
      "\n",
      "\n",
      "PHOTO ~ I am also active on LinkedIn ~ Andre Bloem ~ Journalist and Teacher ~ Feel free to connect 🌝 ~ Best wishes from #Wuhan ~ #Sport #Music #Nature #China #SouthAfrica  https://t.co/eFv3AbFrrS\n",
      "\n",
      "\n",
      "Watching @RSBNetwork. Help @CollinsforTX, @Israel4PA, and many others candidates win their seats and help #SaveAmerica and put #AMERICAFIRST. Retweet, donate, and #HelpTheUnderDogs for America's sake! To God be the glory!  https://t.co/4yOTvEKUHM\n",
      "\n",
      "\n",
      "President Trump proved World Peace is attainable with a rational economic approach and a strong hand.  He had the best work ethic in living memory and the world was a safer place during his administration.  #AmericaFirst  #WeThePeople  #TrumpWasRight #FairElectionsMatter  #MAGA\n",
      "\n",
      "\n",
      "@Ktuttle24 @Ditzy_horse @Mensa142 @GraySavage @OttawaPolice That's your subconscious trying to tell you what you need to hear, #antimasker #antivaxxer nutjob.  You confuse freedom with privileges, which are earned. Get vaxxed &amp; you too can enjoy privileges like restaurants, bars, flights that are private businesses, not public spaces.\n",
      "\n",
      "\n",
      "@Urunderarrest It's a gamble either way but I'd prefer to gamble on proven talent like Watson over unproven talent like #MAGA. Also, Steelers tried to trade Ben once over similar allegations yet yinzers act like he walks on water.\n",
      "\n",
      "\n",
      "Wine of peace treaty of Mexico and a @NRA we got peace! That can't contest anyone 🤣 Italy stable of good marriage and Irish liquor 🥃 #COVIDIOT take our country!  https://t.co/5qVIWsxnVs\n",
      "\n",
      "\n",
      "#RussiaInvasion is forcing me to cleanse my list of follows. All is fun &amp; games until #ConspiracyTheories pop up invoking #GeorgeSoros. Have we not learned anything? Consider yourself fortunate, intelligent, and respected to be still followed by this account.\n",
      "\n",
      "\n",
      "#ConspiracyTheory: #Trump tries to \"negotiate\" peace between #Russia (aka #Putin) and #Ukraine. Magically Putin accepts some weirdly good compromise solution. This will tell you this was all a rehearsed show to make them both great again. I hope I'm wrong.\n",
      "\n",
      "\n",
      "@_mitchmitchell Bonus! People will die too! Wow!! What's not for the cabal to like? The smart meters are on hand to make sure any rations are adhered to, mercilessly. #DepopulationAgenda\n",
      "\n",
      "\n",
      "@PaulSonne @IvanOnTech if you guys think Russia wasn’t provoked into this war by Biden and NATO, Then I should remind the non intellectuals who is behind the #inflation and #Plandemic, This is what they need to happen for the great reset. Wake up!!!\n",
      "\n",
      "\n",
      "Trippy blog lady has been documenting her holiday at parliament. She's talking about rumors of police clearing the Uni tonight &amp; how the box on his head guy had a pretty good voice. She coughs at bit, laugh's dismissively about her \"little cold\"  #COVIDIOT #endtheprotest  https://t.co/UWqZkzDLve\n",
      "\n",
      "\n",
      "@vixey_voter Hope you have the ear of other #veterans. Between #FauxNews playing 24/7 on military bases &amp; #ConspiracyTheories on social media, not sure the folks are voting in their OWN best interest 😣🥺🥺 #PutinsMitch #ComplicitCorruptGOP #MAGA\n",
      "\n",
      "\n",
      "She hit us with I have a black friend taking point and now admits she got a friend in the Azov battalion lmfao wow wtf #ConspiracyTheories  https://t.co/yIvEUGIDGw\n",
      "\n",
      "\n",
      "Thread 🧵 about what #AmericaFirst means to elected #Republicans. Based upon their voting records, it doesn't mean taking care of the American people. Their agenda is always in favor of the rich &amp; corporate America, not the regular people like you and me.\n",
      "\n",
      "\n",
      "@RyuseiiMasamune @Nick_McGurk @catturd2 Wow, Ryuseii- The level of denial of (obvious) facts you display is truly astounding. You could easily be the poster child for brainwashed #MAGA #Trump supporter. Also astounding?  The number of times Twitter has to warn me that your tweets may contain insensitive content.\n",
      "\n",
      "\n",
      "@mitchisright @FrankGrimes_Jr Unemployed after 20 yrs, for an ultimatum is definitely not informed consent or freedom of choice. #freedom #pfizerdocuments #pfizerwhistleblower #CrimesAgainstHumanity\n",
      "\n",
      "\n"
     ]
    }
   ],
   "source": [
    "for t in great_diff['tweet']:\n",
    "    print(t)\n",
    "    print('\\n')"
   ]
  },
  {
   "cell_type": "code",
   "execution_count": 44,
   "metadata": {},
   "outputs": [
    {
     "data": {
      "image/png": "[encoded data removed]",
      "text/plain": [
       "<Figure size 1224x1080 with 1 Axes>"
      ]
     },
     "metadata": {
      "needs_background": "light"
     },
     "output_type": "display_data"
    }
   ],
   "source": [
    "df1 = df.groupby('search')['flair_score'].mean().sort_values().head(10).to_frame().reset_index()\n",
    "\n",
    "fig5 = plt.figure(figsize=(17,15))\n",
    "\n",
    "olive = Color(\"olive\")\n",
    "colors = list(olive.range_to(Color(\"gold\"), 10))\n",
    "colors = [color.rgb for color in colors]\n",
    "\n",
    "plt.bar(df1['search'], df1['flair_score'], width=0.3, color=colors)\n",
    "\n",
    "plt.title('Top 10 Negative Sentiment Twitter Hashtags', fontsize=15)\n",
    "plt.ylabel('Sentiment Score', fontsize=13)\n",
    "plt.xlabel('Hashtag', fontsize=13)\n",
    "plt.xticks(rotation=50, fontsize=11)\n",
    "\n",
    "plt.show()\n",
    "fig5.savefig('top10.png')"
   ]
  },
  {
   "cell_type": "code",
   "execution_count": 14,
   "metadata": {},
   "outputs": [],
   "source": [
    "df2 = pd.read_excel(\"month.xlsx\")"
   ]
  },
  {
   "cell_type": "code",
   "execution_count": 15,
   "metadata": {},
   "outputs": [],
   "source": [
    "def get_datetime(df):\n",
    "    df['date_notime'] = df['date'].str.split(' ', expand=True,)[0]\n",
    "    df3 = df.groupby('date_notime')['flair_score'].describe()\n",
    "    df3['datetime'] = df3.index\n",
    "    return df3"
   ]
  },
  {
   "cell_type": "code",
   "execution_count": 16,
   "metadata": {},
   "outputs": [],
   "source": [
    "df3 = get_datetime(df)\n",
    "covid_df3 = get_datetime(covid_df)\n",
    "truckers_df3 = get_datetime(truckers_df)"
   ]
  },
  {
   "cell_type": "code",
   "execution_count": 17,
   "metadata": {},
   "outputs": [],
   "source": [
    "def get_avg_std_graph(df3, name):\n",
    "    fig = plt.figure(figsize=(17,10))\n",
    "    plt.subplots_adjust(left=None, bottom=None, right=None, top=None,\n",
    "                wspace=None, hspace=0.3)\n",
    "    ax_1_1 = fig.add_subplot(2,1,1)\n",
    "    ax_1_1.bar(df3['datetime'], df3['mean'], width=0.5, label='mean', color='olive') \n",
    "    ax_1_1.set_title(r'Average and Standard Deviation of Sentiment Scores by Date', fontsize=15)\n",
    "    ax_1_1.set_ylabel(r'Average', fontsize=11)\n",
    "    ax_1_1.tick_params(axis='x', labelrotation=50, size=6, direction='inout')\n",
    "\n",
    "    ax_1_2 = fig.add_subplot(2,1,2)\n",
    "    ax_1_2.bar(df3['datetime'], df3['std'], width=0.5, label='std', color='gold')\n",
    "    ax_1_2.set_ylabel(r'Standard Deviation', fontsize=11)\n",
    "    ax_1_2.tick_params(axis='x', labelrotation=50, size=6, direction='inout')\n",
    "\n",
    "    fig.savefig(name+'_mean&std.png')   "
   ]
  },
  {
   "cell_type": "code",
   "execution_count": 18,
   "metadata": {},
   "outputs": [
    {
     "data": {
      "image/png": "[encoded data removed]",
      "text/plain": [
       "<Figure size 1224x720 with 2 Axes>"
      ]
     },
     "metadata": {
      "needs_background": "light"
     },
     "output_type": "display_data"
    }
   ],
   "source": [
    "get_avg_std_graph(df3, 'conspiracy')"
   ]
  },
  {
   "cell_type": "code",
   "execution_count": 19,
   "metadata": {},
   "outputs": [
    {
     "data": {
      "image/png": "[encoded data removed]",
      "text/plain": [
       "<Figure size 1224x720 with 2 Axes>"
      ]
     },
     "metadata": {
      "needs_background": "light"
     },
     "output_type": "display_data"
    }
   ],
   "source": [
    "get_avg_std_graph(truckers_df3, 'truckers')"
   ]
  },
  {
   "cell_type": "code",
   "execution_count": 20,
   "metadata": {},
   "outputs": [
    {
     "data": {
      "image/png": "[encoded data removed]",
      "text/plain": [
       "<Figure size 1224x720 with 2 Axes>"
      ]
     },
     "metadata": {
      "needs_background": "light"
     },
     "output_type": "display_data"
    }
   ],
   "source": [
    "get_avg_std_graph(covid_df3, 'covid')"
   ]
  },
  {
   "cell_type": "code",
   "execution_count": 21,
   "metadata": {},
   "outputs": [],
   "source": [
    "def get_month(df2, df3):\n",
    "    df4 = pd.merge(df2, df3, how = \"outer\")\n",
    "    df4['day'] = df4['datetime'].apply(lambda x: pd.to_datetime(x).strftime(\"%A\"))\n",
    "    df4['month'] = df4['datetime'].str.slice(5, 7)\n",
    "\n",
    "    df_jan = df4[df4['month'] == '01']\n",
    "    df_feb = df4[df4['month'] == '02']\n",
    "    df_mar = df4[df4['month'] == '03']\n",
    "    return df_jan, df_feb, df_mar"
   ]
  },
  {
   "cell_type": "code",
   "execution_count": 22,
   "metadata": {},
   "outputs": [],
   "source": [
    "df_jan, df_feb, df_mar = get_month(df2, df3)\n",
    "covid_jan, covid_feb, covid_mar = get_month(df2, covid_df3)\n",
    "truckers_jan, truckers_feb, truckers_mar = get_month(df2, truckers_df3)"
   ]
  },
  {
   "cell_type": "code",
   "execution_count": 23,
   "metadata": {},
   "outputs": [],
   "source": [
    "def get_calender_graph(df_jan, df_feb, df_mar, name, vmin, vmax):\n",
    "    fig4, (ax_2_1, ax_2_2, ax_2_3) = plt.subplots(figsize=(17,10), nrows = 3)\n",
    "    plt.subplots_adjust(left=None, bottom=None, right=None, top=None,\n",
    "                wspace=None, hspace=0.4)\n",
    "\n",
    "    column_order = ['Sunday', 'Monday', 'Tuesday', 'Wednesday', 'Thursday', 'Friday', 'Saturday']\n",
    "\n",
    "    pivot1 = df_jan.pivot(index='week_num', columns='day', values='mean')\n",
    "    pivot1 = pivot1.reindex(column_order, axis=1)\n",
    "    sns.heatmap(pivot1, annot=True, cmap='YlGnBu_r', ax=ax_2_1, vmin=vmin, vmax=vmax)\n",
    "    ax_2_1.set_title('January', fontsize=15)\n",
    "\n",
    "    pivot2 = df_feb.pivot(index='week_num', columns='day', values='mean')\n",
    "    pivot2 = pivot2.reindex(column_order, axis=1)\n",
    "    sns.heatmap(pivot2, annot=True, cmap='YlGnBu_r', ax=ax_2_2, vmin=vmin, vmax=vmax)\n",
    "    ax_2_2.set_title('February',  fontsize=15)\n",
    "\n",
    "    pivot3 = df_mar.pivot(index='week_num', columns='day', values='mean')\n",
    "    pivot3 = pivot3.reindex(column_order, axis=1)\n",
    "    sns.heatmap(pivot3, annot=True, cmap='YlGnBu_r', ax=ax_2_3, vmin=vmin, vmax=vmax)\n",
    "    ax_2_3.set_title('March',  fontsize=15)\n",
    "\n",
    "    fig4.savefig(name+'_calendar.png')  "
   ]
  },
  {
   "cell_type": "code",
   "execution_count": 24,
   "metadata": {},
   "outputs": [
    {
     "data": {
      "image/png": "[encoded data removed]",
      "text/plain": [
       "<Figure size 1224x720 with 6 Axes>"
      ]
     },
     "metadata": {
      "needs_background": "light"
     },
     "output_type": "display_data"
    }
   ],
   "source": [
    "get_calender_graph(df_jan, df_feb, df_mar, 'conspiracy', -0.45, -0.75)"
   ]
  },
  {
   "cell_type": "code",
   "execution_count": 25,
   "metadata": {},
   "outputs": [
    {
     "data": {
      "image/png": "[encoded data removed]",
      "text/plain": [
       "<Figure size 1224x720 with 6 Axes>"
      ]
     },
     "metadata": {
      "needs_background": "light"
     },
     "output_type": "display_data"
    }
   ],
   "source": [
    "get_calender_graph(covid_jan, covid_feb, covid_mar, 'covid', 0, -0.7)"
   ]
  },
  {
   "cell_type": "code",
   "execution_count": 26,
   "metadata": {},
   "outputs": [
    {
     "data": {
      "image/png": "[encoded data removed]",
      "text/plain": [
       "<Figure size 1224x720 with 6 Axes>"
      ]
     },
     "metadata": {
      "needs_background": "light"
     },
     "output_type": "display_data"
    }
   ],
   "source": [
    "get_calender_graph(truckers_jan, truckers_feb, truckers_mar, 'truckers', 0.4, -0.6)"
   ]
  },
  {
   "cell_type": "code",
   "execution_count": 11,
   "metadata": {},
   "outputs": [],
   "source": [
    "def get_flair_dummies(df):\n",
    "    df['date'] = pd.to_datetime(df['date'])\n",
    "    flair_sentiment = pd.get_dummies(\n",
    "        df[['date', 'sentiment_flair']],\n",
    "        columns=['sentiment_flair']\n",
    "    )\n",
    "    sentiment_df = flair_sentiment.groupby(\n",
    "        flair_sentiment['date'].dt.date).sum()\n",
    "    sentiment_df = sentiment_df.reset_index()\n",
    "    sentiment_df['negative_pecent'] = (sentiment_df['sentiment_flair_negative']/(sentiment_df['sentiment_flair_negative']\n",
    "                                                                                 +sentiment_df['sentiment_flair_positive']))*100\n",
    "    sentiment_df['positive_percent'] = (sentiment_df['sentiment_flair_positive']/(sentiment_df['sentiment_flair_negative']\n",
    "                                                                                  +sentiment_df['sentiment_flair_positive']))*100\n",
    "    return sentiment_df"
   ]
  },
  {
   "cell_type": "code",
   "execution_count": 12,
   "metadata": {},
   "outputs": [],
   "source": [
    "def get_scatter_animation(sentiment_df):\n",
    "    fig = go.Figure(\n",
    "        layout=go.Layout(\n",
    "            updatemenus=[dict(type='buttons', direction='right', x=0.9, y=1.16)],\n",
    "            xaxis=dict(title_text=\"date\", tickmode='linear'),\n",
    "            yaxis=dict(title_text=\"percentage(%)\"),\n",
    "            title='Sentiment by Time',\n",
    "    ))\n",
    "    fig.add_trace(\n",
    "        go.Scatter(x=sentiment_df.date,\n",
    "                   y=sentiment_df.negative_pecent,\n",
    "                   name=\"Negative\",\n",
    "                   visible=True,\n",
    "                   line=dict(color=\"olive\", dash=\"dash\")))\n",
    "    \n",
    "    fig.add_trace(\n",
    "        go.Scatter(x=sentiment_df.date,\n",
    "                   y=sentiment_df.positive_percent,\n",
    "                   name=\"Positive\",\n",
    "                   visible=True,\n",
    "                   line=dict(color=\"gold\", dash=\"dash\")))\n",
    "    \n",
    "    fig.update(frames=[\n",
    "        go.Frame(\n",
    "            data=[\n",
    "                go.Scatter(x=sentiment_df.date[:k], y=sentiment_df.negative_pecent[:k]),\n",
    "                go.Scatter(x=sentiment_df.date[:k], y=sentiment_df.positive_percent[:k])]\n",
    "        )\n",
    "        for k in range(0, len(sentiment_df)+1)])\n",
    "    \n",
    "    fig.update_xaxes(ticks=\"outside\", tickwidth=2, tickcolor='white')\n",
    "    fig.update_yaxes(ticks=\"outside\", tickwidth=2, tickcolor='white')\n",
    "    fig.update_layout(yaxis_tickformat=',')\n",
    "    fig.update_layout(legend=dict(x=0, y=1.1), legend_orientation='h')\n",
    "    \n",
    "    fig.update_layout(\n",
    "        updatemenus=[\n",
    "            dict(\n",
    "                buttons=list([\n",
    "                    dict(label=\"Play\",\n",
    "                            method=\"animate\",\n",
    "                        args=[None, {\"frame\": {\"duration\": 700}}]),\n",
    "                    dict(label=\"Positive\",\n",
    "                        method=\"update\",\n",
    "                        args=[{\"visible\": [False, True]},\n",
    "                              {\"showlegend\": True}]),\n",
    "                    dict(label=\"Negative\",\n",
    "                        method=\"update\",\n",
    "                        args=[{\"visible\": [True, False]},\n",
    "                              {\"showlegend\": True}]),\n",
    "                    dict(label=\"All\",\n",
    "                        method=\"update\",\n",
    "                        args=[{\"visible\": [True, True, True]},\n",
    "                              {\"showlegend\": True}]),\n",
    "                ]))])\n",
    "\n",
    "    return fig"
   ]
  },
  {
   "cell_type": "code",
   "execution_count": 29,
   "metadata": {},
   "outputs": [
    {
     "data": {
      "text/html": [
       "        <script type=\"text/javascript\">\n",
       "        window.PlotlyConfig = {MathJaxConfig: 'local'};\n",
       "        if (window.MathJax) {MathJax.Hub.Config({SVG: {font: \"STIX-Web\"}});}\n",
       "        if (typeof require !== 'undefined') {\n",
       "        require.undef(\"plotly\");\n",
       "        requirejs.config({\n",
       "            paths: {\n",
       "                'plotly': ['https://cdn.plot.ly/plotly-2.6.3.min']\n",
       "            }\n",
       "        });\n",
       "        require(['plotly'], function(Plotly) {\n",
       "            window._Plotly = Plotly;\n",
       "        });\n",
       "        }\n",
       "        </script>\n",
       "        "
      ]
     },
     "metadata": {},
     "output_type": "display_data"
    },
    {
     "data": {
      "text/html": [
       "<div>                            <div id=\"175ac970-2c7d-471a-af11-6700664e9328\" class=\"plotly-graph-div\" style=\"height:525px; width:100%;\"></div>            <script type=\"text/javascript\">                require([\"plotly\"], function(Plotly) {                    window.PLOTLYENV=window.PLOTLYENV || {};                                    if (document.getElementById(\"175ac970-2c7d-471a-af11-6700664e9328\")) {                    Plotly.newPlot(                        \"175ac970-2c7d-471a-af11-6700664e9328\",                        [{\"line\":{\"color\":\"olive\",\"dash\":\"dash\"},\"name\":\"Negative\",\"visible\":true,\"x\":[\"2022-01-20\",\"2022-01-21\",\"2022-01-22\",\"2022-01-23\",\"2022-01-24\",\"2022-01-25\",\"2022-01-26\",\"2022-01-27\",\"2022-01-28\",\"2022-01-29\",\"2022-01-30\",\"2022-01-31\",\"2022-02-01\",\"2022-02-02\",\"2022-02-03\",\"2022-02-04\",\"2022-02-05\",\"2022-02-06\",\"2022-02-07\",\"2022-02-08\",\"2022-02-09\",\"2022-02-10\",\"2022-02-11\",\"2022-02-12\",\"2022-02-13\",\"2022-02-14\",\"2022-02-15\",\"2022-02-16\",\"2022-02-17\",\"2022-02-18\",\"2022-02-19\",\"2022-02-20\",\"2022-02-21\",\"2022-02-22\",\"2022-02-23\",\"2022-02-24\",\"2022-02-25\",\"2022-02-26\",\"2022-02-27\",\"2022-02-28\",\"2022-03-01\",\"2022-03-02\",\"2022-03-03\",\"2022-03-04\",\"2022-03-05\",\"2022-03-06\",\"2022-03-07\",\"2022-03-08\",\"2022-03-09\",\"2022-03-10\",\"2022-03-11\",\"2022-03-12\"],\"y\":[79.03225806451613,79.59866220735786,73.33333333333333,78.6842105263158,86.66666666666667,84.33333333333334,88.63636363636364,74.88584474885845,86.98630136986301,77.83018867924528,83.83838383838383,82.87671232876713,84.01360544217688,79.06976744186046,82.94573643410853,81.56862745098039,82.09606986899564,85.7707509881423,85.43046357615894,85.0574712643678,81.0,81.2274368231047,84.04907975460122,70.0,78.60262008733623,76.8729641693811,86.22448979591837,83.33333333333334,77.72511848341233,73.68421052631578,76.25,78.66666666666666,81.78913738019169,82.6086956521739,83.79446640316206,81.41592920353983,84.72222222222221,81.57894736842105,86.36363636363636,82.19895287958116,82.96703296703298,83.75,72.38307349665925,79.63800904977376,76.4423076923077,84.05172413793103,81.17647058823529,81.13879003558719,80.60606060606061,88.96551724137932,82.11382113821138,81.53846153846153],\"type\":\"scatter\"},{\"line\":{\"color\":\"gold\",\"dash\":\"dash\"},\"name\":\"Positive\",\"visible\":true,\"x\":[\"2022-01-20\",\"2022-01-21\",\"2022-01-22\",\"2022-01-23\",\"2022-01-24\",\"2022-01-25\",\"2022-01-26\",\"2022-01-27\",\"2022-01-28\",\"2022-01-29\",\"2022-01-30\",\"2022-01-31\",\"2022-02-01\",\"2022-02-02\",\"2022-02-03\",\"2022-02-04\",\"2022-02-05\",\"2022-02-06\",\"2022-02-07\",\"2022-02-08\",\"2022-02-09\",\"2022-02-10\",\"2022-02-11\",\"2022-02-12\",\"2022-02-13\",\"2022-02-14\",\"2022-02-15\",\"2022-02-16\",\"2022-02-17\",\"2022-02-18\",\"2022-02-19\",\"2022-02-20\",\"2022-02-21\",\"2022-02-22\",\"2022-02-23\",\"2022-02-24\",\"2022-02-25\",\"2022-02-26\",\"2022-02-27\",\"2022-02-28\",\"2022-03-01\",\"2022-03-02\",\"2022-03-03\",\"2022-03-04\",\"2022-03-05\",\"2022-03-06\",\"2022-03-07\",\"2022-03-08\",\"2022-03-09\",\"2022-03-10\",\"2022-03-11\",\"2022-03-12\"],\"y\":[20.967741935483872,20.401337792642142,26.666666666666668,21.31578947368421,13.333333333333334,15.666666666666668,11.363636363636363,25.11415525114155,13.013698630136986,22.169811320754718,16.161616161616163,17.123287671232877,15.98639455782313,20.930232558139537,17.05426356589147,18.43137254901961,17.903930131004365,14.229249011857709,14.56953642384106,14.942528735632186,19.0,18.772563176895307,15.950920245398773,30.0,21.397379912663755,23.12703583061889,13.77551020408163,16.666666666666664,22.274881516587676,26.31578947368421,23.75,21.333333333333336,18.210862619808307,17.391304347826086,16.205533596837945,18.58407079646018,15.277777777777779,18.421052631578945,13.636363636363635,17.801047120418847,17.032967032967033,16.25,27.616926503340757,20.361990950226243,23.557692307692307,15.948275862068966,18.823529411764707,18.86120996441281,19.393939393939394,11.03448275862069,17.88617886178862,18.461538461538463],\"type\":\"scatter\"}],                        {\"title\":{\"text\":\"Sentiment by Time\"},\"updatemenus\":[{\"direction\":\"right\",\"type\":\"buttons\",\"x\":0.9,\"y\":1.16,\"buttons\":[{\"args\":[null,{\"frame\":{\"duration\":700}}],\"label\":\"Play\",\"method\":\"animate\"},{\"args\":[{\"visible\":[false,true]},{\"showlegend\":true}],\"label\":\"Positive\",\"method\":\"update\"},{\"args\":[{\"visible\":[true,false]},{\"showlegend\":true}],\"label\":\"Negative\",\"method\":\"update\"},{\"args\":[{\"visible\":[true,true,true]},{\"showlegend\":true}],\"label\":\"All\",\"method\":\"update\"}]}],\"xaxis\":{\"tickmode\":\"linear\",\"title\":{\"text\":\"date\"},\"ticks\":\"outside\",\"tickwidth\":2,\"tickcolor\":\"white\"},\"yaxis\":{\"title\":{\"text\":\"percentage(%)\"},\"ticks\":\"outside\",\"tickwidth\":2,\"tickcolor\":\"white\",\"tickformat\":\",\"},\"template\":{\"data\":{\"bar\":[{\"error_x\":{\"color\":\"#2a3f5f\"},\"error_y\":{\"color\":\"#2a3f5f\"},\"marker\":{\"line\":{\"color\":\"#E5ECF6\",\"width\":0.5},\"pattern\":{\"fillmode\":\"overlay\",\"size\":10,\"solidity\":0.2}},\"type\":\"bar\"}],\"barpolar\":[{\"marker\":{\"line\":{\"color\":\"#E5ECF6\",\"width\":0.5},\"pattern\":{\"fillmode\":\"overlay\",\"size\":10,\"solidity\":0.2}},\"type\":\"barpolar\"}],\"carpet\":[{\"aaxis\":{\"endlinecolor\":\"#2a3f5f\",\"gridcolor\":\"white\",\"linecolor\":\"white\",\"minorgridcolor\":\"white\",\"startlinecolor\":\"#2a3f5f\"},\"baxis\":{\"endlinecolor\":\"#2a3f5f\",\"gridcolor\":\"white\",\"linecolor\":\"white\",\"minorgridcolor\":\"white\",\"startlinecolor\":\"#2a3f5f\"},\"type\":\"carpet\"}],\"choropleth\":[{\"colorbar\":{\"outlinewidth\":0,\"ticks\":\"\"},\"type\":\"choropleth\"}],\"contour\":[{\"colorbar\":{\"outlinewidth\":0,\"ticks\":\"\"},\"colorscale\":[[0.0,\"#0d0887\"],[0.1111111111111111,\"#46039f\"],[0.2222222222222222,\"#7201a8\"],[0.3333333333333333,\"#9c179e\"],[0.4444444444444444,\"#bd3786\"],[0.5555555555555556,\"#d8576b\"],[0.6666666666666666,\"#ed7953\"],[0.7777777777777778,\"#fb9f3a\"],[0.8888888888888888,\"#fdca26\"],[1.0,\"#f0f921\"]],\"type\":\"contour\"}],\"contourcarpet\":[{\"colorbar\":{\"outlinewidth\":0,\"ticks\":\"\"},\"type\":\"contourcarpet\"}],\"heatmap\":[{\"colorbar\":{\"outlinewidth\":0,\"ticks\":\"\"},\"colorscale\":[[0.0,\"#0d0887\"],[0.1111111111111111,\"#46039f\"],[0.2222222222222222,\"#7201a8\"],[0.3333333333333333,\"#9c179e\"],[0.4444444444444444,\"#bd3786\"],[0.5555555555555556,\"#d8576b\"],[0.6666666666666666,\"#ed7953\"],[0.7777777777777778,\"#fb9f3a\"],[0.8888888888888888,\"#fdca26\"],[1.0,\"#f0f921\"]],\"type\":\"heatmap\"}],\"heatmapgl\":[{\"colorbar\":{\"outlinewidth\":0,\"ticks\":\"\"},\"colorscale\":[[0.0,\"#0d0887\"],[0.1111111111111111,\"#46039f\"],[0.2222222222222222,\"#7201a8\"],[0.3333333333333333,\"#9c179e\"],[0.4444444444444444,\"#bd3786\"],[0.5555555555555556,\"#d8576b\"],[0.6666666666666666,\"#ed7953\"],[0.7777777777777778,\"#fb9f3a\"],[0.8888888888888888,\"#fdca26\"],[1.0,\"#f0f921\"]],\"type\":\"heatmapgl\"}],\"histogram\":[{\"marker\":{\"pattern\":{\"fillmode\":\"overlay\",\"size\":10,\"solidity\":0.2}},\"type\":\"histogram\"}],\"histogram2d\":[{\"colorbar\":{\"outlinewidth\":0,\"ticks\":\"\"},\"colorscale\":[[0.0,\"#0d0887\"],[0.1111111111111111,\"#46039f\"],[0.2222222222222222,\"#7201a8\"],[0.3333333333333333,\"#9c179e\"],[0.4444444444444444,\"#bd3786\"],[0.5555555555555556,\"#d8576b\"],[0.6666666666666666,\"#ed7953\"],[0.7777777777777778,\"#fb9f3a\"],[0.8888888888888888,\"#fdca26\"],[1.0,\"#f0f921\"]],\"type\":\"histogram2d\"}],\"histogram2dcontour\":[{\"colorbar\":{\"outlinewidth\":0,\"ticks\":\"\"},\"colorscale\":[[0.0,\"#0d0887\"],[0.1111111111111111,\"#46039f\"],[0.2222222222222222,\"#7201a8\"],[0.3333333333333333,\"#9c179e\"],[0.4444444444444444,\"#bd3786\"],[0.5555555555555556,\"#d8576b\"],[0.6666666666666666,\"#ed7953\"],[0.7777777777777778,\"#fb9f3a\"],[0.8888888888888888,\"#fdca26\"],[1.0,\"#f0f921\"]],\"type\":\"histogram2dcontour\"}],\"mesh3d\":[{\"colorbar\":{\"outlinewidth\":0,\"ticks\":\"\"},\"type\":\"mesh3d\"}],\"parcoords\":[{\"line\":{\"colorbar\":{\"outlinewidth\":0,\"ticks\":\"\"}},\"type\":\"parcoords\"}],\"pie\":[{\"automargin\":true,\"type\":\"pie\"}],\"scatter\":[{\"marker\":{\"colorbar\":{\"outlinewidth\":0,\"ticks\":\"\"}},\"type\":\"scatter\"}],\"scatter3d\":[{\"line\":{\"colorbar\":{\"outlinewidth\":0,\"ticks\":\"\"}},\"marker\":{\"colorbar\":{\"outlinewidth\":0,\"ticks\":\"\"}},\"type\":\"scatter3d\"}],\"scattercarpet\":[{\"marker\":{\"colorbar\":{\"outlinewidth\":0,\"ticks\":\"\"}},\"type\":\"scattercarpet\"}],\"scattergeo\":[{\"marker\":{\"colorbar\":{\"outlinewidth\":0,\"ticks\":\"\"}},\"type\":\"scattergeo\"}],\"scattergl\":[{\"marker\":{\"colorbar\":{\"outlinewidth\":0,\"ticks\":\"\"}},\"type\":\"scattergl\"}],\"scattermapbox\":[{\"marker\":{\"colorbar\":{\"outlinewidth\":0,\"ticks\":\"\"}},\"type\":\"scattermapbox\"}],\"scatterpolar\":[{\"marker\":{\"colorbar\":{\"outlinewidth\":0,\"ticks\":\"\"}},\"type\":\"scatterpolar\"}],\"scatterpolargl\":[{\"marker\":{\"colorbar\":{\"outlinewidth\":0,\"ticks\":\"\"}},\"type\":\"scatterpolargl\"}],\"scatterternary\":[{\"marker\":{\"colorbar\":{\"outlinewidth\":0,\"ticks\":\"\"}},\"type\":\"scatterternary\"}],\"surface\":[{\"colorbar\":{\"outlinewidth\":0,\"ticks\":\"\"},\"colorscale\":[[0.0,\"#0d0887\"],[0.1111111111111111,\"#46039f\"],[0.2222222222222222,\"#7201a8\"],[0.3333333333333333,\"#9c179e\"],[0.4444444444444444,\"#bd3786\"],[0.5555555555555556,\"#d8576b\"],[0.6666666666666666,\"#ed7953\"],[0.7777777777777778,\"#fb9f3a\"],[0.8888888888888888,\"#fdca26\"],[1.0,\"#f0f921\"]],\"type\":\"surface\"}],\"table\":[{\"cells\":{\"fill\":{\"color\":\"#EBF0F8\"},\"line\":{\"color\":\"white\"}},\"header\":{\"fill\":{\"color\":\"#C8D4E3\"},\"line\":{\"color\":\"white\"}},\"type\":\"table\"}]},\"layout\":{\"annotationdefaults\":{\"arrowcolor\":\"#2a3f5f\",\"arrowhead\":0,\"arrowwidth\":1},\"autotypenumbers\":\"strict\",\"coloraxis\":{\"colorbar\":{\"outlinewidth\":0,\"ticks\":\"\"}},\"colorscale\":{\"diverging\":[[0,\"#8e0152\"],[0.1,\"#c51b7d\"],[0.2,\"#de77ae\"],[0.3,\"#f1b6da\"],[0.4,\"#fde0ef\"],[0.5,\"#f7f7f7\"],[0.6,\"#e6f5d0\"],[0.7,\"#b8e186\"],[0.8,\"#7fbc41\"],[0.9,\"#4d9221\"],[1,\"#276419\"]],\"sequential\":[[0.0,\"#0d0887\"],[0.1111111111111111,\"#46039f\"],[0.2222222222222222,\"#7201a8\"],[0.3333333333333333,\"#9c179e\"],[0.4444444444444444,\"#bd3786\"],[0.5555555555555556,\"#d8576b\"],[0.6666666666666666,\"#ed7953\"],[0.7777777777777778,\"#fb9f3a\"],[0.8888888888888888,\"#fdca26\"],[1.0,\"#f0f921\"]],\"sequentialminus\":[[0.0,\"#0d0887\"],[0.1111111111111111,\"#46039f\"],[0.2222222222222222,\"#7201a8\"],[0.3333333333333333,\"#9c179e\"],[0.4444444444444444,\"#bd3786\"],[0.5555555555555556,\"#d8576b\"],[0.6666666666666666,\"#ed7953\"],[0.7777777777777778,\"#fb9f3a\"],[0.8888888888888888,\"#fdca26\"],[1.0,\"#f0f921\"]]},\"colorway\":[\"#636efa\",\"#EF553B\",\"#00cc96\",\"#ab63fa\",\"#FFA15A\",\"#19d3f3\",\"#FF6692\",\"#B6E880\",\"#FF97FF\",\"#FECB52\"],\"font\":{\"color\":\"#2a3f5f\"},\"geo\":{\"bgcolor\":\"white\",\"lakecolor\":\"white\",\"landcolor\":\"#E5ECF6\",\"showlakes\":true,\"showland\":true,\"subunitcolor\":\"white\"},\"hoverlabel\":{\"align\":\"left\"},\"hovermode\":\"closest\",\"mapbox\":{\"style\":\"light\"},\"paper_bgcolor\":\"white\",\"plot_bgcolor\":\"#E5ECF6\",\"polar\":{\"angularaxis\":{\"gridcolor\":\"white\",\"linecolor\":\"white\",\"ticks\":\"\"},\"bgcolor\":\"#E5ECF6\",\"radialaxis\":{\"gridcolor\":\"white\",\"linecolor\":\"white\",\"ticks\":\"\"}},\"scene\":{\"xaxis\":{\"backgroundcolor\":\"#E5ECF6\",\"gridcolor\":\"white\",\"gridwidth\":2,\"linecolor\":\"white\",\"showbackground\":true,\"ticks\":\"\",\"zerolinecolor\":\"white\"},\"yaxis\":{\"backgroundcolor\":\"#E5ECF6\",\"gridcolor\":\"white\",\"gridwidth\":2,\"linecolor\":\"white\",\"showbackground\":true,\"ticks\":\"\",\"zerolinecolor\":\"white\"},\"zaxis\":{\"backgroundcolor\":\"#E5ECF6\",\"gridcolor\":\"white\",\"gridwidth\":2,\"linecolor\":\"white\",\"showbackground\":true,\"ticks\":\"\",\"zerolinecolor\":\"white\"}},\"shapedefaults\":{\"line\":{\"color\":\"#2a3f5f\"}},\"ternary\":{\"aaxis\":{\"gridcolor\":\"white\",\"linecolor\":\"white\",\"ticks\":\"\"},\"baxis\":{\"gridcolor\":\"white\",\"linecolor\":\"white\",\"ticks\":\"\"},\"bgcolor\":\"#E5ECF6\",\"caxis\":{\"gridcolor\":\"white\",\"linecolor\":\"white\",\"ticks\":\"\"}},\"title\":{\"x\":0.05},\"xaxis\":{\"automargin\":true,\"gridcolor\":\"white\",\"linecolor\":\"white\",\"ticks\":\"\",\"title\":{\"standoff\":15},\"zerolinecolor\":\"white\",\"zerolinewidth\":2},\"yaxis\":{\"automargin\":true,\"gridcolor\":\"white\",\"linecolor\":\"white\",\"ticks\":\"\",\"title\":{\"standoff\":15},\"zerolinecolor\":\"white\",\"zerolinewidth\":2}}},\"legend\":{\"x\":0,\"y\":1.1,\"orientation\":\"h\"}},                        {\"responsive\": true}                    ).then(function(){\n",
       "                            Plotly.addFrames('175ac970-2c7d-471a-af11-6700664e9328', [{\"data\":[{\"x\":[],\"y\":[],\"type\":\"scatter\"},{\"x\":[],\"y\":[],\"type\":\"scatter\"}]},{\"data\":[{\"x\":[\"2022-01-20\"],\"y\":[79.03225806451613],\"type\":\"scatter\"},{\"x\":[\"2022-01-20\"],\"y\":[20.967741935483872],\"type\":\"scatter\"}]},{\"data\":[{\"x\":[\"2022-01-20\",\"2022-01-21\"],\"y\":[79.03225806451613,79.59866220735786],\"type\":\"scatter\"},{\"x\":[\"2022-01-20\",\"2022-01-21\"],\"y\":[20.967741935483872,20.401337792642142],\"type\":\"scatter\"}]},{\"data\":[{\"x\":[\"2022-01-20\",\"2022-01-21\",\"2022-01-22\"],\"y\":[79.03225806451613,79.59866220735786,73.33333333333333],\"type\":\"scatter\"},{\"x\":[\"2022-01-20\",\"2022-01-21\",\"2022-01-22\"],\"y\":[20.967741935483872,20.401337792642142,26.666666666666668],\"type\":\"scatter\"}]},{\"data\":[{\"x\":[\"2022-01-20\",\"2022-01-21\",\"2022-01-22\",\"2022-01-23\"],\"y\":[79.03225806451613,79.59866220735786,73.33333333333333,78.6842105263158],\"type\":\"scatter\"},{\"x\":[\"2022-01-20\",\"2022-01-21\",\"2022-01-22\",\"2022-01-23\"],\"y\":[20.967741935483872,20.401337792642142,26.666666666666668,21.31578947368421],\"type\":\"scatter\"}]},{\"data\":[{\"x\":[\"2022-01-20\",\"2022-01-21\",\"2022-01-22\",\"2022-01-23\",\"2022-01-24\"],\"y\":[79.03225806451613,79.59866220735786,73.33333333333333,78.6842105263158,86.66666666666667],\"type\":\"scatter\"},{\"x\":[\"2022-01-20\",\"2022-01-21\",\"2022-01-22\",\"2022-01-23\",\"2022-01-24\"],\"y\":[20.967741935483872,20.401337792642142,26.666666666666668,21.31578947368421,13.333333333333334],\"type\":\"scatter\"}]},{\"data\":[{\"x\":[\"2022-01-20\",\"2022-01-21\",\"2022-01-22\",\"2022-01-23\",\"2022-01-24\",\"2022-01-25\"],\"y\":[79.03225806451613,79.59866220735786,73.33333333333333,78.6842105263158,86.66666666666667,84.33333333333334],\"type\":\"scatter\"},{\"x\":[\"2022-01-20\",\"2022-01-21\",\"2022-01-22\",\"2022-01-23\",\"2022-01-24\",\"2022-01-25\"],\"y\":[20.967741935483872,20.401337792642142,26.666666666666668,21.31578947368421,13.333333333333334,15.666666666666668],\"type\":\"scatter\"}]},{\"data\":[{\"x\":[\"2022-01-20\",\"2022-01-21\",\"2022-01-22\",\"2022-01-23\",\"2022-01-24\",\"2022-01-25\",\"2022-01-26\"],\"y\":[79.03225806451613,79.59866220735786,73.33333333333333,78.6842105263158,86.66666666666667,84.33333333333334,88.63636363636364],\"type\":\"scatter\"},{\"x\":[\"2022-01-20\",\"2022-01-21\",\"2022-01-22\",\"2022-01-23\",\"2022-01-24\",\"2022-01-25\",\"2022-01-26\"],\"y\":[20.967741935483872,20.401337792642142,26.666666666666668,21.31578947368421,13.333333333333334,15.666666666666668,11.363636363636363],\"type\":\"scatter\"}]},{\"data\":[{\"x\":[\"2022-01-20\",\"2022-01-21\",\"2022-01-22\",\"2022-01-23\",\"2022-01-24\",\"2022-01-25\",\"2022-01-26\",\"2022-01-27\"],\"y\":[79.03225806451613,79.59866220735786,73.33333333333333,78.6842105263158,86.66666666666667,84.33333333333334,88.63636363636364,74.88584474885845],\"type\":\"scatter\"},{\"x\":[\"2022-01-20\",\"2022-01-21\",\"2022-01-22\",\"2022-01-23\",\"2022-01-24\",\"2022-01-25\",\"2022-01-26\",\"2022-01-27\"],\"y\":[20.967741935483872,20.401337792642142,26.666666666666668,21.31578947368421,13.333333333333334,15.666666666666668,11.363636363636363,25.11415525114155],\"type\":\"scatter\"}]},{\"data\":[{\"x\":[\"2022-01-20\",\"2022-01-21\",\"2022-01-22\",\"2022-01-23\",\"2022-01-24\",\"2022-01-25\",\"2022-01-26\",\"2022-01-27\",\"2022-01-28\"],\"y\":[79.03225806451613,79.59866220735786,73.33333333333333,78.6842105263158,86.66666666666667,84.33333333333334,88.63636363636364,74.88584474885845,86.98630136986301],\"type\":\"scatter\"},{\"x\":[\"2022-01-20\",\"2022-01-21\",\"2022-01-22\",\"2022-01-23\",\"2022-01-24\",\"2022-01-25\",\"2022-01-26\",\"2022-01-27\",\"2022-01-28\"],\"y\":[20.967741935483872,20.401337792642142,26.666666666666668,21.31578947368421,13.333333333333334,15.666666666666668,11.363636363636363,25.11415525114155,13.013698630136986],\"type\":\"scatter\"}]},{\"data\":[{\"x\":[\"2022-01-20\",\"2022-01-21\",\"2022-01-22\",\"2022-01-23\",\"2022-01-24\",\"2022-01-25\",\"2022-01-26\",\"2022-01-27\",\"2022-01-28\",\"2022-01-29\"],\"y\":[79.03225806451613,79.59866220735786,73.33333333333333,78.6842105263158,86.66666666666667,84.33333333333334,88.63636363636364,74.88584474885845,86.98630136986301,77.83018867924528],\"type\":\"scatter\"},{\"x\":[\"2022-01-20\",\"2022-01-21\",\"2022-01-22\",\"2022-01-23\",\"2022-01-24\",\"2022-01-25\",\"2022-01-26\",\"2022-01-27\",\"2022-01-28\",\"2022-01-29\"],\"y\":[20.967741935483872,20.401337792642142,26.666666666666668,21.31578947368421,13.333333333333334,15.666666666666668,11.363636363636363,25.11415525114155,13.013698630136986,22.169811320754718],\"type\":\"scatter\"}]},{\"data\":[{\"x\":[\"2022-01-20\",\"2022-01-21\",\"2022-01-22\",\"2022-01-23\",\"2022-01-24\",\"2022-01-25\",\"2022-01-26\",\"2022-01-27\",\"2022-01-28\",\"2022-01-29\",\"2022-01-30\"],\"y\":[79.03225806451613,79.59866220735786,73.33333333333333,78.6842105263158,86.66666666666667,84.33333333333334,88.63636363636364,74.88584474885845,86.98630136986301,77.83018867924528,83.83838383838383],\"type\":\"scatter\"},{\"x\":[\"2022-01-20\",\"2022-01-21\",\"2022-01-22\",\"2022-01-23\",\"2022-01-24\",\"2022-01-25\",\"2022-01-26\",\"2022-01-27\",\"2022-01-28\",\"2022-01-29\",\"2022-01-30\"],\"y\":[20.967741935483872,20.401337792642142,26.666666666666668,21.31578947368421,13.333333333333334,15.666666666666668,11.363636363636363,25.11415525114155,13.013698630136986,22.169811320754718,16.161616161616163],\"type\":\"scatter\"}]},{\"data\":[{\"x\":[\"2022-01-20\",\"2022-01-21\",\"2022-01-22\",\"2022-01-23\",\"2022-01-24\",\"2022-01-25\",\"2022-01-26\",\"2022-01-27\",\"2022-01-28\",\"2022-01-29\",\"2022-01-30\",\"2022-01-31\"],\"y\":[79.03225806451613,79.59866220735786,73.33333333333333,78.6842105263158,86.66666666666667,84.33333333333334,88.63636363636364,74.88584474885845,86.98630136986301,77.83018867924528,83.83838383838383,82.87671232876713],\"type\":\"scatter\"},{\"x\":[\"2022-01-20\",\"2022-01-21\",\"2022-01-22\",\"2022-01-23\",\"2022-01-24\",\"2022-01-25\",\"2022-01-26\",\"2022-01-27\",\"2022-01-28\",\"2022-01-29\",\"2022-01-30\",\"2022-01-31\"],\"y\":[20.967741935483872,20.401337792642142,26.666666666666668,21.31578947368421,13.333333333333334,15.666666666666668,11.363636363636363,25.11415525114155,13.013698630136986,22.169811320754718,16.161616161616163,17.123287671232877],\"type\":\"scatter\"}]},{\"data\":[{\"x\":[\"2022-01-20\",\"2022-01-21\",\"2022-01-22\",\"2022-01-23\",\"2022-01-24\",\"2022-01-25\",\"2022-01-26\",\"2022-01-27\",\"2022-01-28\",\"2022-01-29\",\"2022-01-30\",\"2022-01-31\",\"2022-02-01\"],\"y\":[79.03225806451613,79.59866220735786,73.33333333333333,78.6842105263158,86.66666666666667,84.33333333333334,88.63636363636364,74.88584474885845,86.98630136986301,77.83018867924528,83.83838383838383,82.87671232876713,84.01360544217688],\"type\":\"scatter\"},{\"x\":[\"2022-01-20\",\"2022-01-21\",\"2022-01-22\",\"2022-01-23\",\"2022-01-24\",\"2022-01-25\",\"2022-01-26\",\"2022-01-27\",\"2022-01-28\",\"2022-01-29\",\"2022-01-30\",\"2022-01-31\",\"2022-02-01\"],\"y\":[20.967741935483872,20.401337792642142,26.666666666666668,21.31578947368421,13.333333333333334,15.666666666666668,11.363636363636363,25.11415525114155,13.013698630136986,22.169811320754718,16.161616161616163,17.123287671232877,15.98639455782313],\"type\":\"scatter\"}]},{\"data\":[{\"x\":[\"2022-01-20\",\"2022-01-21\",\"2022-01-22\",\"2022-01-23\",\"2022-01-24\",\"2022-01-25\",\"2022-01-26\",\"2022-01-27\",\"2022-01-28\",\"2022-01-29\",\"2022-01-30\",\"2022-01-31\",\"2022-02-01\",\"2022-02-02\"],\"y\":[79.03225806451613,79.59866220735786,73.33333333333333,78.6842105263158,86.66666666666667,84.33333333333334,88.63636363636364,74.88584474885845,86.98630136986301,77.83018867924528,83.83838383838383,82.87671232876713,84.01360544217688,79.06976744186046],\"type\":\"scatter\"},{\"x\":[\"2022-01-20\",\"2022-01-21\",\"2022-01-22\",\"2022-01-23\",\"2022-01-24\",\"2022-01-25\",\"2022-01-26\",\"2022-01-27\",\"2022-01-28\",\"2022-01-29\",\"2022-01-30\",\"2022-01-31\",\"2022-02-01\",\"2022-02-02\"],\"y\":[20.967741935483872,20.401337792642142,26.666666666666668,21.31578947368421,13.333333333333334,15.666666666666668,11.363636363636363,25.11415525114155,13.013698630136986,22.169811320754718,16.161616161616163,17.123287671232877,15.98639455782313,20.930232558139537],\"type\":\"scatter\"}]},{\"data\":[{\"x\":[\"2022-01-20\",\"2022-01-21\",\"2022-01-22\",\"2022-01-23\",\"2022-01-24\",\"2022-01-25\",\"2022-01-26\",\"2022-01-27\",\"2022-01-28\",\"2022-01-29\",\"2022-01-30\",\"2022-01-31\",\"2022-02-01\",\"2022-02-02\",\"2022-02-03\"],\"y\":[79.03225806451613,79.59866220735786,73.33333333333333,78.6842105263158,86.66666666666667,84.33333333333334,88.63636363636364,74.88584474885845,86.98630136986301,77.83018867924528,83.83838383838383,82.87671232876713,84.01360544217688,79.06976744186046,82.94573643410853],\"type\":\"scatter\"},{\"x\":[\"2022-01-20\",\"2022-01-21\",\"2022-01-22\",\"2022-01-23\",\"2022-01-24\",\"2022-01-25\",\"2022-01-26\",\"2022-01-27\",\"2022-01-28\",\"2022-01-29\",\"2022-01-30\",\"2022-01-31\",\"2022-02-01\",\"2022-02-02\",\"2022-02-03\"],\"y\":[20.967741935483872,20.401337792642142,26.666666666666668,21.31578947368421,13.333333333333334,15.666666666666668,11.363636363636363,25.11415525114155,13.013698630136986,22.169811320754718,16.161616161616163,17.123287671232877,15.98639455782313,20.930232558139537,17.05426356589147],\"type\":\"scatter\"}]},{\"data\":[{\"x\":[\"2022-01-20\",\"2022-01-21\",\"2022-01-22\",\"2022-01-23\",\"2022-01-24\",\"2022-01-25\",\"2022-01-26\",\"2022-01-27\",\"2022-01-28\",\"2022-01-29\",\"2022-01-30\",\"2022-01-31\",\"2022-02-01\",\"2022-02-02\",\"2022-02-03\",\"2022-02-04\"],\"y\":[79.03225806451613,79.59866220735786,73.33333333333333,78.6842105263158,86.66666666666667,84.33333333333334,88.63636363636364,74.88584474885845,86.98630136986301,77.83018867924528,83.83838383838383,82.87671232876713,84.01360544217688,79.06976744186046,82.94573643410853,81.56862745098039],\"type\":\"scatter\"},{\"x\":[\"2022-01-20\",\"2022-01-21\",\"2022-01-22\",\"2022-01-23\",\"2022-01-24\",\"2022-01-25\",\"2022-01-26\",\"2022-01-27\",\"2022-01-28\",\"2022-01-29\",\"2022-01-30\",\"2022-01-31\",\"2022-02-01\",\"2022-02-02\",\"2022-02-03\",\"2022-02-04\"],\"y\":[20.967741935483872,20.401337792642142,26.666666666666668,21.31578947368421,13.333333333333334,15.666666666666668,11.363636363636363,25.11415525114155,13.013698630136986,22.169811320754718,16.161616161616163,17.123287671232877,15.98639455782313,20.930232558139537,17.05426356589147,18.43137254901961],\"type\":\"scatter\"}]},{\"data\":[{\"x\":[\"2022-01-20\",\"2022-01-21\",\"2022-01-22\",\"2022-01-23\",\"2022-01-24\",\"2022-01-25\",\"2022-01-26\",\"2022-01-27\",\"2022-01-28\",\"2022-01-29\",\"2022-01-30\",\"2022-01-31\",\"2022-02-01\",\"2022-02-02\",\"2022-02-03\",\"2022-02-04\",\"2022-02-05\"],\"y\":[79.03225806451613,79.59866220735786,73.33333333333333,78.6842105263158,86.66666666666667,84.33333333333334,88.63636363636364,74.88584474885845,86.98630136986301,77.83018867924528,83.83838383838383,82.87671232876713,84.01360544217688,79.06976744186046,82.94573643410853,81.56862745098039,82.09606986899564],\"type\":\"scatter\"},{\"x\":[\"2022-01-20\",\"2022-01-21\",\"2022-01-22\",\"2022-01-23\",\"2022-01-24\",\"2022-01-25\",\"2022-01-26\",\"2022-01-27\",\"2022-01-28\",\"2022-01-29\",\"2022-01-30\",\"2022-01-31\",\"2022-02-01\",\"2022-02-02\",\"2022-02-03\",\"2022-02-04\",\"2022-02-05\"],\"y\":[20.967741935483872,20.401337792642142,26.666666666666668,21.31578947368421,13.333333333333334,15.666666666666668,11.363636363636363,25.11415525114155,13.013698630136986,22.169811320754718,16.161616161616163,17.123287671232877,15.98639455782313,20.930232558139537,17.05426356589147,18.43137254901961,17.903930131004365],\"type\":\"scatter\"}]},{\"data\":[{\"x\":[\"2022-01-20\",\"2022-01-21\",\"2022-01-22\",\"2022-01-23\",\"2022-01-24\",\"2022-01-25\",\"2022-01-26\",\"2022-01-27\",\"2022-01-28\",\"2022-01-29\",\"2022-01-30\",\"2022-01-31\",\"2022-02-01\",\"2022-02-02\",\"2022-02-03\",\"2022-02-04\",\"2022-02-05\",\"2022-02-06\"],\"y\":[79.03225806451613,79.59866220735786,73.33333333333333,78.6842105263158,86.66666666666667,84.33333333333334,88.63636363636364,74.88584474885845,86.98630136986301,77.83018867924528,83.83838383838383,82.87671232876713,84.01360544217688,79.06976744186046,82.94573643410853,81.56862745098039,82.09606986899564,85.7707509881423],\"type\":\"scatter\"},{\"x\":[\"2022-01-20\",\"2022-01-21\",\"2022-01-22\",\"2022-01-23\",\"2022-01-24\",\"2022-01-25\",\"2022-01-26\",\"2022-01-27\",\"2022-01-28\",\"2022-01-29\",\"2022-01-30\",\"2022-01-31\",\"2022-02-01\",\"2022-02-02\",\"2022-02-03\",\"2022-02-04\",\"2022-02-05\",\"2022-02-06\"],\"y\":[20.967741935483872,20.401337792642142,26.666666666666668,21.31578947368421,13.333333333333334,15.666666666666668,11.363636363636363,25.11415525114155,13.013698630136986,22.169811320754718,16.161616161616163,17.123287671232877,15.98639455782313,20.930232558139537,17.05426356589147,18.43137254901961,17.903930131004365,14.229249011857709],\"type\":\"scatter\"}]},{\"data\":[{\"x\":[\"2022-01-20\",\"2022-01-21\",\"2022-01-22\",\"2022-01-23\",\"2022-01-24\",\"2022-01-25\",\"2022-01-26\",\"2022-01-27\",\"2022-01-28\",\"2022-01-29\",\"2022-01-30\",\"2022-01-31\",\"2022-02-01\",\"2022-02-02\",\"2022-02-03\",\"2022-02-04\",\"2022-02-05\",\"2022-02-06\",\"2022-02-07\"],\"y\":[79.03225806451613,79.59866220735786,73.33333333333333,78.6842105263158,86.66666666666667,84.33333333333334,88.63636363636364,74.88584474885845,86.98630136986301,77.83018867924528,83.83838383838383,82.87671232876713,84.01360544217688,79.06976744186046,82.94573643410853,81.56862745098039,82.09606986899564,85.7707509881423,85.43046357615894],\"type\":\"scatter\"},{\"x\":[\"2022-01-20\",\"2022-01-21\",\"2022-01-22\",\"2022-01-23\",\"2022-01-24\",\"2022-01-25\",\"2022-01-26\",\"2022-01-27\",\"2022-01-28\",\"2022-01-29\",\"2022-01-30\",\"2022-01-31\",\"2022-02-01\",\"2022-02-02\",\"2022-02-03\",\"2022-02-04\",\"2022-02-05\",\"2022-02-06\",\"2022-02-07\"],\"y\":[20.967741935483872,20.401337792642142,26.666666666666668,21.31578947368421,13.333333333333334,15.666666666666668,11.363636363636363,25.11415525114155,13.013698630136986,22.169811320754718,16.161616161616163,17.123287671232877,15.98639455782313,20.930232558139537,17.05426356589147,18.43137254901961,17.903930131004365,14.229249011857709,14.56953642384106],\"type\":\"scatter\"}]},{\"data\":[{\"x\":[\"2022-01-20\",\"2022-01-21\",\"2022-01-22\",\"2022-01-23\",\"2022-01-24\",\"2022-01-25\",\"2022-01-26\",\"2022-01-27\",\"2022-01-28\",\"2022-01-29\",\"2022-01-30\",\"2022-01-31\",\"2022-02-01\",\"2022-02-02\",\"2022-02-03\",\"2022-02-04\",\"2022-02-05\",\"2022-02-06\",\"2022-02-07\",\"2022-02-08\"],\"y\":[79.03225806451613,79.59866220735786,73.33333333333333,78.6842105263158,86.66666666666667,84.33333333333334,88.63636363636364,74.88584474885845,86.98630136986301,77.83018867924528,83.83838383838383,82.87671232876713,84.01360544217688,79.06976744186046,82.94573643410853,81.56862745098039,82.09606986899564,85.7707509881423,85.43046357615894,85.0574712643678],\"type\":\"scatter\"},{\"x\":[\"2022-01-20\",\"2022-01-21\",\"2022-01-22\",\"2022-01-23\",\"2022-01-24\",\"2022-01-25\",\"2022-01-26\",\"2022-01-27\",\"2022-01-28\",\"2022-01-29\",\"2022-01-30\",\"2022-01-31\",\"2022-02-01\",\"2022-02-02\",\"2022-02-03\",\"2022-02-04\",\"2022-02-05\",\"2022-02-06\",\"2022-02-07\",\"2022-02-08\"],\"y\":[20.967741935483872,20.401337792642142,26.666666666666668,21.31578947368421,13.333333333333334,15.666666666666668,11.363636363636363,25.11415525114155,13.013698630136986,22.169811320754718,16.161616161616163,17.123287671232877,15.98639455782313,20.930232558139537,17.05426356589147,18.43137254901961,17.903930131004365,14.229249011857709,14.56953642384106,14.942528735632186],\"type\":\"scatter\"}]},{\"data\":[{\"x\":[\"2022-01-20\",\"2022-01-21\",\"2022-01-22\",\"2022-01-23\",\"2022-01-24\",\"2022-01-25\",\"2022-01-26\",\"2022-01-27\",\"2022-01-28\",\"2022-01-29\",\"2022-01-30\",\"2022-01-31\",\"2022-02-01\",\"2022-02-02\",\"2022-02-03\",\"2022-02-04\",\"2022-02-05\",\"2022-02-06\",\"2022-02-07\",\"2022-02-08\",\"2022-02-09\"],\"y\":[79.03225806451613,79.59866220735786,73.33333333333333,78.6842105263158,86.66666666666667,84.33333333333334,88.63636363636364,74.88584474885845,86.98630136986301,77.83018867924528,83.83838383838383,82.87671232876713,84.01360544217688,79.06976744186046,82.94573643410853,81.56862745098039,82.09606986899564,85.7707509881423,85.43046357615894,85.0574712643678,81.0],\"type\":\"scatter\"},{\"x\":[\"2022-01-20\",\"2022-01-21\",\"2022-01-22\",\"2022-01-23\",\"2022-01-24\",\"2022-01-25\",\"2022-01-26\",\"2022-01-27\",\"2022-01-28\",\"2022-01-29\",\"2022-01-30\",\"2022-01-31\",\"2022-02-01\",\"2022-02-02\",\"2022-02-03\",\"2022-02-04\",\"2022-02-05\",\"2022-02-06\",\"2022-02-07\",\"2022-02-08\",\"2022-02-09\"],\"y\":[20.967741935483872,20.401337792642142,26.666666666666668,21.31578947368421,13.333333333333334,15.666666666666668,11.363636363636363,25.11415525114155,13.013698630136986,22.169811320754718,16.161616161616163,17.123287671232877,15.98639455782313,20.930232558139537,17.05426356589147,18.43137254901961,17.903930131004365,14.229249011857709,14.56953642384106,14.942528735632186,19.0],\"type\":\"scatter\"}]},{\"data\":[{\"x\":[\"2022-01-20\",\"2022-01-21\",\"2022-01-22\",\"2022-01-23\",\"2022-01-24\",\"2022-01-25\",\"2022-01-26\",\"2022-01-27\",\"2022-01-28\",\"2022-01-29\",\"2022-01-30\",\"2022-01-31\",\"2022-02-01\",\"2022-02-02\",\"2022-02-03\",\"2022-02-04\",\"2022-02-05\",\"2022-02-06\",\"2022-02-07\",\"2022-02-08\",\"2022-02-09\",\"2022-02-10\"],\"y\":[79.03225806451613,79.59866220735786,73.33333333333333,78.6842105263158,86.66666666666667,84.33333333333334,88.63636363636364,74.88584474885845,86.98630136986301,77.83018867924528,83.83838383838383,82.87671232876713,84.01360544217688,79.06976744186046,82.94573643410853,81.56862745098039,82.09606986899564,85.7707509881423,85.43046357615894,85.0574712643678,81.0,81.2274368231047],\"type\":\"scatter\"},{\"x\":[\"2022-01-20\",\"2022-01-21\",\"2022-01-22\",\"2022-01-23\",\"2022-01-24\",\"2022-01-25\",\"2022-01-26\",\"2022-01-27\",\"2022-01-28\",\"2022-01-29\",\"2022-01-30\",\"2022-01-31\",\"2022-02-01\",\"2022-02-02\",\"2022-02-03\",\"2022-02-04\",\"2022-02-05\",\"2022-02-06\",\"2022-02-07\",\"2022-02-08\",\"2022-02-09\",\"2022-02-10\"],\"y\":[20.967741935483872,20.401337792642142,26.666666666666668,21.31578947368421,13.333333333333334,15.666666666666668,11.363636363636363,25.11415525114155,13.013698630136986,22.169811320754718,16.161616161616163,17.123287671232877,15.98639455782313,20.930232558139537,17.05426356589147,18.43137254901961,17.903930131004365,14.229249011857709,14.56953642384106,14.942528735632186,19.0,18.772563176895307],\"type\":\"scatter\"}]},{\"data\":[{\"x\":[\"2022-01-20\",\"2022-01-21\",\"2022-01-22\",\"2022-01-23\",\"2022-01-24\",\"2022-01-25\",\"2022-01-26\",\"2022-01-27\",\"2022-01-28\",\"2022-01-29\",\"2022-01-30\",\"2022-01-31\",\"2022-02-01\",\"2022-02-02\",\"2022-02-03\",\"2022-02-04\",\"2022-02-05\",\"2022-02-06\",\"2022-02-07\",\"2022-02-08\",\"2022-02-09\",\"2022-02-10\",\"2022-02-11\"],\"y\":[79.03225806451613,79.59866220735786,73.33333333333333,78.6842105263158,86.66666666666667,84.33333333333334,88.63636363636364,74.88584474885845,86.98630136986301,77.83018867924528,83.83838383838383,82.87671232876713,84.01360544217688,79.06976744186046,82.94573643410853,81.56862745098039,82.09606986899564,85.7707509881423,85.43046357615894,85.0574712643678,81.0,81.2274368231047,84.04907975460122],\"type\":\"scatter\"},{\"x\":[\"2022-01-20\",\"2022-01-21\",\"2022-01-22\",\"2022-01-23\",\"2022-01-24\",\"2022-01-25\",\"2022-01-26\",\"2022-01-27\",\"2022-01-28\",\"2022-01-29\",\"2022-01-30\",\"2022-01-31\",\"2022-02-01\",\"2022-02-02\",\"2022-02-03\",\"2022-02-04\",\"2022-02-05\",\"2022-02-06\",\"2022-02-07\",\"2022-02-08\",\"2022-02-09\",\"2022-02-10\",\"2022-02-11\"],\"y\":[20.967741935483872,20.401337792642142,26.666666666666668,21.31578947368421,13.333333333333334,15.666666666666668,11.363636363636363,25.11415525114155,13.013698630136986,22.169811320754718,16.161616161616163,17.123287671232877,15.98639455782313,20.930232558139537,17.05426356589147,18.43137254901961,17.903930131004365,14.229249011857709,14.56953642384106,14.942528735632186,19.0,18.772563176895307,15.950920245398773],\"type\":\"scatter\"}]},{\"data\":[{\"x\":[\"2022-01-20\",\"2022-01-21\",\"2022-01-22\",\"2022-01-23\",\"2022-01-24\",\"2022-01-25\",\"2022-01-26\",\"2022-01-27\",\"2022-01-28\",\"2022-01-29\",\"2022-01-30\",\"2022-01-31\",\"2022-02-01\",\"2022-02-02\",\"2022-02-03\",\"2022-02-04\",\"2022-02-05\",\"2022-02-06\",\"2022-02-07\",\"2022-02-08\",\"2022-02-09\",\"2022-02-10\",\"2022-02-11\",\"2022-02-12\"],\"y\":[79.03225806451613,79.59866220735786,73.33333333333333,78.6842105263158,86.66666666666667,84.33333333333334,88.63636363636364,74.88584474885845,86.98630136986301,77.83018867924528,83.83838383838383,82.87671232876713,84.01360544217688,79.06976744186046,82.94573643410853,81.56862745098039,82.09606986899564,85.7707509881423,85.43046357615894,85.0574712643678,81.0,81.2274368231047,84.04907975460122,70.0],\"type\":\"scatter\"},{\"x\":[\"2022-01-20\",\"2022-01-21\",\"2022-01-22\",\"2022-01-23\",\"2022-01-24\",\"2022-01-25\",\"2022-01-26\",\"2022-01-27\",\"2022-01-28\",\"2022-01-29\",\"2022-01-30\",\"2022-01-31\",\"2022-02-01\",\"2022-02-02\",\"2022-02-03\",\"2022-02-04\",\"2022-02-05\",\"2022-02-06\",\"2022-02-07\",\"2022-02-08\",\"2022-02-09\",\"2022-02-10\",\"2022-02-11\",\"2022-02-12\"],\"y\":[20.967741935483872,20.401337792642142,26.666666666666668,21.31578947368421,13.333333333333334,15.666666666666668,11.363636363636363,25.11415525114155,13.013698630136986,22.169811320754718,16.161616161616163,17.123287671232877,15.98639455782313,20.930232558139537,17.05426356589147,18.43137254901961,17.903930131004365,14.229249011857709,14.56953642384106,14.942528735632186,19.0,18.772563176895307,15.950920245398773,30.0],\"type\":\"scatter\"}]},{\"data\":[{\"x\":[\"2022-01-20\",\"2022-01-21\",\"2022-01-22\",\"2022-01-23\",\"2022-01-24\",\"2022-01-25\",\"2022-01-26\",\"2022-01-27\",\"2022-01-28\",\"2022-01-29\",\"2022-01-30\",\"2022-01-31\",\"2022-02-01\",\"2022-02-02\",\"2022-02-03\",\"2022-02-04\",\"2022-02-05\",\"2022-02-06\",\"2022-02-07\",\"2022-02-08\",\"2022-02-09\",\"2022-02-10\",\"2022-02-11\",\"2022-02-12\",\"2022-02-13\"],\"y\":[79.03225806451613,79.59866220735786,73.33333333333333,78.6842105263158,86.66666666666667,84.33333333333334,88.63636363636364,74.88584474885845,86.98630136986301,77.83018867924528,83.83838383838383,82.87671232876713,84.01360544217688,79.06976744186046,82.94573643410853,81.56862745098039,82.09606986899564,85.7707509881423,85.43046357615894,85.0574712643678,81.0,81.2274368231047,84.04907975460122,70.0,78.60262008733623],\"type\":\"scatter\"},{\"x\":[\"2022-01-20\",\"2022-01-21\",\"2022-01-22\",\"2022-01-23\",\"2022-01-24\",\"2022-01-25\",\"2022-01-26\",\"2022-01-27\",\"2022-01-28\",\"2022-01-29\",\"2022-01-30\",\"2022-01-31\",\"2022-02-01\",\"2022-02-02\",\"2022-02-03\",\"2022-02-04\",\"2022-02-05\",\"2022-02-06\",\"2022-02-07\",\"2022-02-08\",\"2022-02-09\",\"2022-02-10\",\"2022-02-11\",\"2022-02-12\",\"2022-02-13\"],\"y\":[20.967741935483872,20.401337792642142,26.666666666666668,21.31578947368421,13.333333333333334,15.666666666666668,11.363636363636363,25.11415525114155,13.013698630136986,22.169811320754718,16.161616161616163,17.123287671232877,15.98639455782313,20.930232558139537,17.05426356589147,18.43137254901961,17.903930131004365,14.229249011857709,14.56953642384106,14.942528735632186,19.0,18.772563176895307,15.950920245398773,30.0,21.397379912663755],\"type\":\"scatter\"}]},{\"data\":[{\"x\":[\"2022-01-20\",\"2022-01-21\",\"2022-01-22\",\"2022-01-23\",\"2022-01-24\",\"2022-01-25\",\"2022-01-26\",\"2022-01-27\",\"2022-01-28\",\"2022-01-29\",\"2022-01-30\",\"2022-01-31\",\"2022-02-01\",\"2022-02-02\",\"2022-02-03\",\"2022-02-04\",\"2022-02-05\",\"2022-02-06\",\"2022-02-07\",\"2022-02-08\",\"2022-02-09\",\"2022-02-10\",\"2022-02-11\",\"2022-02-12\",\"2022-02-13\",\"2022-02-14\"],\"y\":[79.03225806451613,79.59866220735786,73.33333333333333,78.6842105263158,86.66666666666667,84.33333333333334,88.63636363636364,74.88584474885845,86.98630136986301,77.83018867924528,83.83838383838383,82.87671232876713,84.01360544217688,79.06976744186046,82.94573643410853,81.56862745098039,82.09606986899564,85.7707509881423,85.43046357615894,85.0574712643678,81.0,81.2274368231047,84.04907975460122,70.0,78.60262008733623,76.8729641693811],\"type\":\"scatter\"},{\"x\":[\"2022-01-20\",\"2022-01-21\",\"2022-01-22\",\"2022-01-23\",\"2022-01-24\",\"2022-01-25\",\"2022-01-26\",\"2022-01-27\",\"2022-01-28\",\"2022-01-29\",\"2022-01-30\",\"2022-01-31\",\"2022-02-01\",\"2022-02-02\",\"2022-02-03\",\"2022-02-04\",\"2022-02-05\",\"2022-02-06\",\"2022-02-07\",\"2022-02-08\",\"2022-02-09\",\"2022-02-10\",\"2022-02-11\",\"2022-02-12\",\"2022-02-13\",\"2022-02-14\"],\"y\":[20.967741935483872,20.401337792642142,26.666666666666668,21.31578947368421,13.333333333333334,15.666666666666668,11.363636363636363,25.11415525114155,13.013698630136986,22.169811320754718,16.161616161616163,17.123287671232877,15.98639455782313,20.930232558139537,17.05426356589147,18.43137254901961,17.903930131004365,14.229249011857709,14.56953642384106,14.942528735632186,19.0,18.772563176895307,15.950920245398773,30.0,21.397379912663755,23.12703583061889],\"type\":\"scatter\"}]},{\"data\":[{\"x\":[\"2022-01-20\",\"2022-01-21\",\"2022-01-22\",\"2022-01-23\",\"2022-01-24\",\"2022-01-25\",\"2022-01-26\",\"2022-01-27\",\"2022-01-28\",\"2022-01-29\",\"2022-01-30\",\"2022-01-31\",\"2022-02-01\",\"2022-02-02\",\"2022-02-03\",\"2022-02-04\",\"2022-02-05\",\"2022-02-06\",\"2022-02-07\",\"2022-02-08\",\"2022-02-09\",\"2022-02-10\",\"2022-02-11\",\"2022-02-12\",\"2022-02-13\",\"2022-02-14\",\"2022-02-15\"],\"y\":[79.03225806451613,79.59866220735786,73.33333333333333,78.6842105263158,86.66666666666667,84.33333333333334,88.63636363636364,74.88584474885845,86.98630136986301,77.83018867924528,83.83838383838383,82.87671232876713,84.01360544217688,79.06976744186046,82.94573643410853,81.56862745098039,82.09606986899564,85.7707509881423,85.43046357615894,85.0574712643678,81.0,81.2274368231047,84.04907975460122,70.0,78.60262008733623,76.8729641693811,86.22448979591837],\"type\":\"scatter\"},{\"x\":[\"2022-01-20\",\"2022-01-21\",\"2022-01-22\",\"2022-01-23\",\"2022-01-24\",\"2022-01-25\",\"2022-01-26\",\"2022-01-27\",\"2022-01-28\",\"2022-01-29\",\"2022-01-30\",\"2022-01-31\",\"2022-02-01\",\"2022-02-02\",\"2022-02-03\",\"2022-02-04\",\"2022-02-05\",\"2022-02-06\",\"2022-02-07\",\"2022-02-08\",\"2022-02-09\",\"2022-02-10\",\"2022-02-11\",\"2022-02-12\",\"2022-02-13\",\"2022-02-14\",\"2022-02-15\"],\"y\":[20.967741935483872,20.401337792642142,26.666666666666668,21.31578947368421,13.333333333333334,15.666666666666668,11.363636363636363,25.11415525114155,13.013698630136986,22.169811320754718,16.161616161616163,17.123287671232877,15.98639455782313,20.930232558139537,17.05426356589147,18.43137254901961,17.903930131004365,14.229249011857709,14.56953642384106,14.942528735632186,19.0,18.772563176895307,15.950920245398773,30.0,21.397379912663755,23.12703583061889,13.77551020408163],\"type\":\"scatter\"}]},{\"data\":[{\"x\":[\"2022-01-20\",\"2022-01-21\",\"2022-01-22\",\"2022-01-23\",\"2022-01-24\",\"2022-01-25\",\"2022-01-26\",\"2022-01-27\",\"2022-01-28\",\"2022-01-29\",\"2022-01-30\",\"2022-01-31\",\"2022-02-01\",\"2022-02-02\",\"2022-02-03\",\"2022-02-04\",\"2022-02-05\",\"2022-02-06\",\"2022-02-07\",\"2022-02-08\",\"2022-02-09\",\"2022-02-10\",\"2022-02-11\",\"2022-02-12\",\"2022-02-13\",\"2022-02-14\",\"2022-02-15\",\"2022-02-16\"],\"y\":[79.03225806451613,79.59866220735786,73.33333333333333,78.6842105263158,86.66666666666667,84.33333333333334,88.63636363636364,74.88584474885845,86.98630136986301,77.83018867924528,83.83838383838383,82.87671232876713,84.01360544217688,79.06976744186046,82.94573643410853,81.56862745098039,82.09606986899564,85.7707509881423,85.43046357615894,85.0574712643678,81.0,81.2274368231047,84.04907975460122,70.0,78.60262008733623,76.8729641693811,86.22448979591837,83.33333333333334],\"type\":\"scatter\"},{\"x\":[\"2022-01-20\",\"2022-01-21\",\"2022-01-22\",\"2022-01-23\",\"2022-01-24\",\"2022-01-25\",\"2022-01-26\",\"2022-01-27\",\"2022-01-28\",\"2022-01-29\",\"2022-01-30\",\"2022-01-31\",\"2022-02-01\",\"2022-02-02\",\"2022-02-03\",\"2022-02-04\",\"2022-02-05\",\"2022-02-06\",\"2022-02-07\",\"2022-02-08\",\"2022-02-09\",\"2022-02-10\",\"2022-02-11\",\"2022-02-12\",\"2022-02-13\",\"2022-02-14\",\"2022-02-15\",\"2022-02-16\"],\"y\":[20.967741935483872,20.401337792642142,26.666666666666668,21.31578947368421,13.333333333333334,15.666666666666668,11.363636363636363,25.11415525114155,13.013698630136986,22.169811320754718,16.161616161616163,17.123287671232877,15.98639455782313,20.930232558139537,17.05426356589147,18.43137254901961,17.903930131004365,14.229249011857709,14.56953642384106,14.942528735632186,19.0,18.772563176895307,15.950920245398773,30.0,21.397379912663755,23.12703583061889,13.77551020408163,16.666666666666664],\"type\":\"scatter\"}]},{\"data\":[{\"x\":[\"2022-01-20\",\"2022-01-21\",\"2022-01-22\",\"2022-01-23\",\"2022-01-24\",\"2022-01-25\",\"2022-01-26\",\"2022-01-27\",\"2022-01-28\",\"2022-01-29\",\"2022-01-30\",\"2022-01-31\",\"2022-02-01\",\"2022-02-02\",\"2022-02-03\",\"2022-02-04\",\"2022-02-05\",\"2022-02-06\",\"2022-02-07\",\"2022-02-08\",\"2022-02-09\",\"2022-02-10\",\"2022-02-11\",\"2022-02-12\",\"2022-02-13\",\"2022-02-14\",\"2022-02-15\",\"2022-02-16\",\"2022-02-17\"],\"y\":[79.03225806451613,79.59866220735786,73.33333333333333,78.6842105263158,86.66666666666667,84.33333333333334,88.63636363636364,74.88584474885845,86.98630136986301,77.83018867924528,83.83838383838383,82.87671232876713,84.01360544217688,79.06976744186046,82.94573643410853,81.56862745098039,82.09606986899564,85.7707509881423,85.43046357615894,85.0574712643678,81.0,81.2274368231047,84.04907975460122,70.0,78.60262008733623,76.8729641693811,86.22448979591837,83.33333333333334,77.72511848341233],\"type\":\"scatter\"},{\"x\":[\"2022-01-20\",\"2022-01-21\",\"2022-01-22\",\"2022-01-23\",\"2022-01-24\",\"2022-01-25\",\"2022-01-26\",\"2022-01-27\",\"2022-01-28\",\"2022-01-29\",\"2022-01-30\",\"2022-01-31\",\"2022-02-01\",\"2022-02-02\",\"2022-02-03\",\"2022-02-04\",\"2022-02-05\",\"2022-02-06\",\"2022-02-07\",\"2022-02-08\",\"2022-02-09\",\"2022-02-10\",\"2022-02-11\",\"2022-02-12\",\"2022-02-13\",\"2022-02-14\",\"2022-02-15\",\"2022-02-16\",\"2022-02-17\"],\"y\":[20.967741935483872,20.401337792642142,26.666666666666668,21.31578947368421,13.333333333333334,15.666666666666668,11.363636363636363,25.11415525114155,13.013698630136986,22.169811320754718,16.161616161616163,17.123287671232877,15.98639455782313,20.930232558139537,17.05426356589147,18.43137254901961,17.903930131004365,14.229249011857709,14.56953642384106,14.942528735632186,19.0,18.772563176895307,15.950920245398773,30.0,21.397379912663755,23.12703583061889,13.77551020408163,16.666666666666664,22.274881516587676],\"type\":\"scatter\"}]},{\"data\":[{\"x\":[\"2022-01-20\",\"2022-01-21\",\"2022-01-22\",\"2022-01-23\",\"2022-01-24\",\"2022-01-25\",\"2022-01-26\",\"2022-01-27\",\"2022-01-28\",\"2022-01-29\",\"2022-01-30\",\"2022-01-31\",\"2022-02-01\",\"2022-02-02\",\"2022-02-03\",\"2022-02-04\",\"2022-02-05\",\"2022-02-06\",\"2022-02-07\",\"2022-02-08\",\"2022-02-09\",\"2022-02-10\",\"2022-02-11\",\"2022-02-12\",\"2022-02-13\",\"2022-02-14\",\"2022-02-15\",\"2022-02-16\",\"2022-02-17\",\"2022-02-18\"],\"y\":[79.03225806451613,79.59866220735786,73.33333333333333,78.6842105263158,86.66666666666667,84.33333333333334,88.63636363636364,74.88584474885845,86.98630136986301,77.83018867924528,83.83838383838383,82.87671232876713,84.01360544217688,79.06976744186046,82.94573643410853,81.56862745098039,82.09606986899564,85.7707509881423,85.43046357615894,85.0574712643678,81.0,81.2274368231047,84.04907975460122,70.0,78.60262008733623,76.8729641693811,86.22448979591837,83.33333333333334,77.72511848341233,73.68421052631578],\"type\":\"scatter\"},{\"x\":[\"2022-01-20\",\"2022-01-21\",\"2022-01-22\",\"2022-01-23\",\"2022-01-24\",\"2022-01-25\",\"2022-01-26\",\"2022-01-27\",\"2022-01-28\",\"2022-01-29\",\"2022-01-30\",\"2022-01-31\",\"2022-02-01\",\"2022-02-02\",\"2022-02-03\",\"2022-02-04\",\"2022-02-05\",\"2022-02-06\",\"2022-02-07\",\"2022-02-08\",\"2022-02-09\",\"2022-02-10\",\"2022-02-11\",\"2022-02-12\",\"2022-02-13\",\"2022-02-14\",\"2022-02-15\",\"2022-02-16\",\"2022-02-17\",\"2022-02-18\"],\"y\":[20.967741935483872,20.401337792642142,26.666666666666668,21.31578947368421,13.333333333333334,15.666666666666668,11.363636363636363,25.11415525114155,13.013698630136986,22.169811320754718,16.161616161616163,17.123287671232877,15.98639455782313,20.930232558139537,17.05426356589147,18.43137254901961,17.903930131004365,14.229249011857709,14.56953642384106,14.942528735632186,19.0,18.772563176895307,15.950920245398773,30.0,21.397379912663755,23.12703583061889,13.77551020408163,16.666666666666664,22.274881516587676,26.31578947368421],\"type\":\"scatter\"}]},{\"data\":[{\"x\":[\"2022-01-20\",\"2022-01-21\",\"2022-01-22\",\"2022-01-23\",\"2022-01-24\",\"2022-01-25\",\"2022-01-26\",\"2022-01-27\",\"2022-01-28\",\"2022-01-29\",\"2022-01-30\",\"2022-01-31\",\"2022-02-01\",\"2022-02-02\",\"2022-02-03\",\"2022-02-04\",\"2022-02-05\",\"2022-02-06\",\"2022-02-07\",\"2022-02-08\",\"2022-02-09\",\"2022-02-10\",\"2022-02-11\",\"2022-02-12\",\"2022-02-13\",\"2022-02-14\",\"2022-02-15\",\"2022-02-16\",\"2022-02-17\",\"2022-02-18\",\"2022-02-19\"],\"y\":[79.03225806451613,79.59866220735786,73.33333333333333,78.6842105263158,86.66666666666667,84.33333333333334,88.63636363636364,74.88584474885845,86.98630136986301,77.83018867924528,83.83838383838383,82.87671232876713,84.01360544217688,79.06976744186046,82.94573643410853,81.56862745098039,82.09606986899564,85.7707509881423,85.43046357615894,85.0574712643678,81.0,81.2274368231047,84.04907975460122,70.0,78.60262008733623,76.8729641693811,86.22448979591837,83.33333333333334,77.72511848341233,73.68421052631578,76.25],\"type\":\"scatter\"},{\"x\":[\"2022-01-20\",\"2022-01-21\",\"2022-01-22\",\"2022-01-23\",\"2022-01-24\",\"2022-01-25\",\"2022-01-26\",\"2022-01-27\",\"2022-01-28\",\"2022-01-29\",\"2022-01-30\",\"2022-01-31\",\"2022-02-01\",\"2022-02-02\",\"2022-02-03\",\"2022-02-04\",\"2022-02-05\",\"2022-02-06\",\"2022-02-07\",\"2022-02-08\",\"2022-02-09\",\"2022-02-10\",\"2022-02-11\",\"2022-02-12\",\"2022-02-13\",\"2022-02-14\",\"2022-02-15\",\"2022-02-16\",\"2022-02-17\",\"2022-02-18\",\"2022-02-19\"],\"y\":[20.967741935483872,20.401337792642142,26.666666666666668,21.31578947368421,13.333333333333334,15.666666666666668,11.363636363636363,25.11415525114155,13.013698630136986,22.169811320754718,16.161616161616163,17.123287671232877,15.98639455782313,20.930232558139537,17.05426356589147,18.43137254901961,17.903930131004365,14.229249011857709,14.56953642384106,14.942528735632186,19.0,18.772563176895307,15.950920245398773,30.0,21.397379912663755,23.12703583061889,13.77551020408163,16.666666666666664,22.274881516587676,26.31578947368421,23.75],\"type\":\"scatter\"}]},{\"data\":[{\"x\":[\"2022-01-20\",\"2022-01-21\",\"2022-01-22\",\"2022-01-23\",\"2022-01-24\",\"2022-01-25\",\"2022-01-26\",\"2022-01-27\",\"2022-01-28\",\"2022-01-29\",\"2022-01-30\",\"2022-01-31\",\"2022-02-01\",\"2022-02-02\",\"2022-02-03\",\"2022-02-04\",\"2022-02-05\",\"2022-02-06\",\"2022-02-07\",\"2022-02-08\",\"2022-02-09\",\"2022-02-10\",\"2022-02-11\",\"2022-02-12\",\"2022-02-13\",\"2022-02-14\",\"2022-02-15\",\"2022-02-16\",\"2022-02-17\",\"2022-02-18\",\"2022-02-19\",\"2022-02-20\"],\"y\":[79.03225806451613,79.59866220735786,73.33333333333333,78.6842105263158,86.66666666666667,84.33333333333334,88.63636363636364,74.88584474885845,86.98630136986301,77.83018867924528,83.83838383838383,82.87671232876713,84.01360544217688,79.06976744186046,82.94573643410853,81.56862745098039,82.09606986899564,85.7707509881423,85.43046357615894,85.0574712643678,81.0,81.2274368231047,84.04907975460122,70.0,78.60262008733623,76.8729641693811,86.22448979591837,83.33333333333334,77.72511848341233,73.68421052631578,76.25,78.66666666666666],\"type\":\"scatter\"},{\"x\":[\"2022-01-20\",\"2022-01-21\",\"2022-01-22\",\"2022-01-23\",\"2022-01-24\",\"2022-01-25\",\"2022-01-26\",\"2022-01-27\",\"2022-01-28\",\"2022-01-29\",\"2022-01-30\",\"2022-01-31\",\"2022-02-01\",\"2022-02-02\",\"2022-02-03\",\"2022-02-04\",\"2022-02-05\",\"2022-02-06\",\"2022-02-07\",\"2022-02-08\",\"2022-02-09\",\"2022-02-10\",\"2022-02-11\",\"2022-02-12\",\"2022-02-13\",\"2022-02-14\",\"2022-02-15\",\"2022-02-16\",\"2022-02-17\",\"2022-02-18\",\"2022-02-19\",\"2022-02-20\"],\"y\":[20.967741935483872,20.401337792642142,26.666666666666668,21.31578947368421,13.333333333333334,15.666666666666668,11.363636363636363,25.11415525114155,13.013698630136986,22.169811320754718,16.161616161616163,17.123287671232877,15.98639455782313,20.930232558139537,17.05426356589147,18.43137254901961,17.903930131004365,14.229249011857709,14.56953642384106,14.942528735632186,19.0,18.772563176895307,15.950920245398773,30.0,21.397379912663755,23.12703583061889,13.77551020408163,16.666666666666664,22.274881516587676,26.31578947368421,23.75,21.333333333333336],\"type\":\"scatter\"}]},{\"data\":[{\"x\":[\"2022-01-20\",\"2022-01-21\",\"2022-01-22\",\"2022-01-23\",\"2022-01-24\",\"2022-01-25\",\"2022-01-26\",\"2022-01-27\",\"2022-01-28\",\"2022-01-29\",\"2022-01-30\",\"2022-01-31\",\"2022-02-01\",\"2022-02-02\",\"2022-02-03\",\"2022-02-04\",\"2022-02-05\",\"2022-02-06\",\"2022-02-07\",\"2022-02-08\",\"2022-02-09\",\"2022-02-10\",\"2022-02-11\",\"2022-02-12\",\"2022-02-13\",\"2022-02-14\",\"2022-02-15\",\"2022-02-16\",\"2022-02-17\",\"2022-02-18\",\"2022-02-19\",\"2022-02-20\",\"2022-02-21\"],\"y\":[79.03225806451613,79.59866220735786,73.33333333333333,78.6842105263158,86.66666666666667,84.33333333333334,88.63636363636364,74.88584474885845,86.98630136986301,77.83018867924528,83.83838383838383,82.87671232876713,84.01360544217688,79.06976744186046,82.94573643410853,81.56862745098039,82.09606986899564,85.7707509881423,85.43046357615894,85.0574712643678,81.0,81.2274368231047,84.04907975460122,70.0,78.60262008733623,76.8729641693811,86.22448979591837,83.33333333333334,77.72511848341233,73.68421052631578,76.25,78.66666666666666,81.78913738019169],\"type\":\"scatter\"},{\"x\":[\"2022-01-20\",\"2022-01-21\",\"2022-01-22\",\"2022-01-23\",\"2022-01-24\",\"2022-01-25\",\"2022-01-26\",\"2022-01-27\",\"2022-01-28\",\"2022-01-29\",\"2022-01-30\",\"2022-01-31\",\"2022-02-01\",\"2022-02-02\",\"2022-02-03\",\"2022-02-04\",\"2022-02-05\",\"2022-02-06\",\"2022-02-07\",\"2022-02-08\",\"2022-02-09\",\"2022-02-10\",\"2022-02-11\",\"2022-02-12\",\"2022-02-13\",\"2022-02-14\",\"2022-02-15\",\"2022-02-16\",\"2022-02-17\",\"2022-02-18\",\"2022-02-19\",\"2022-02-20\",\"2022-02-21\"],\"y\":[20.967741935483872,20.401337792642142,26.666666666666668,21.31578947368421,13.333333333333334,15.666666666666668,11.363636363636363,25.11415525114155,13.013698630136986,22.169811320754718,16.161616161616163,17.123287671232877,15.98639455782313,20.930232558139537,17.05426356589147,18.43137254901961,17.903930131004365,14.229249011857709,14.56953642384106,14.942528735632186,19.0,18.772563176895307,15.950920245398773,30.0,21.397379912663755,23.12703583061889,13.77551020408163,16.666666666666664,22.274881516587676,26.31578947368421,23.75,21.333333333333336,18.210862619808307],\"type\":\"scatter\"}]},{\"data\":[{\"x\":[\"2022-01-20\",\"2022-01-21\",\"2022-01-22\",\"2022-01-23\",\"2022-01-24\",\"2022-01-25\",\"2022-01-26\",\"2022-01-27\",\"2022-01-28\",\"2022-01-29\",\"2022-01-30\",\"2022-01-31\",\"2022-02-01\",\"2022-02-02\",\"2022-02-03\",\"2022-02-04\",\"2022-02-05\",\"2022-02-06\",\"2022-02-07\",\"2022-02-08\",\"2022-02-09\",\"2022-02-10\",\"2022-02-11\",\"2022-02-12\",\"2022-02-13\",\"2022-02-14\",\"2022-02-15\",\"2022-02-16\",\"2022-02-17\",\"2022-02-18\",\"2022-02-19\",\"2022-02-20\",\"2022-02-21\",\"2022-02-22\"],\"y\":[79.03225806451613,79.59866220735786,73.33333333333333,78.6842105263158,86.66666666666667,84.33333333333334,88.63636363636364,74.88584474885845,86.98630136986301,77.83018867924528,83.83838383838383,82.87671232876713,84.01360544217688,79.06976744186046,82.94573643410853,81.56862745098039,82.09606986899564,85.7707509881423,85.43046357615894,85.0574712643678,81.0,81.2274368231047,84.04907975460122,70.0,78.60262008733623,76.8729641693811,86.22448979591837,83.33333333333334,77.72511848341233,73.68421052631578,76.25,78.66666666666666,81.78913738019169,82.6086956521739],\"type\":\"scatter\"},{\"x\":[\"2022-01-20\",\"2022-01-21\",\"2022-01-22\",\"2022-01-23\",\"2022-01-24\",\"2022-01-25\",\"2022-01-26\",\"2022-01-27\",\"2022-01-28\",\"2022-01-29\",\"2022-01-30\",\"2022-01-31\",\"2022-02-01\",\"2022-02-02\",\"2022-02-03\",\"2022-02-04\",\"2022-02-05\",\"2022-02-06\",\"2022-02-07\",\"2022-02-08\",\"2022-02-09\",\"2022-02-10\",\"2022-02-11\",\"2022-02-12\",\"2022-02-13\",\"2022-02-14\",\"2022-02-15\",\"2022-02-16\",\"2022-02-17\",\"2022-02-18\",\"2022-02-19\",\"2022-02-20\",\"2022-02-21\",\"2022-02-22\"],\"y\":[20.967741935483872,20.401337792642142,26.666666666666668,21.31578947368421,13.333333333333334,15.666666666666668,11.363636363636363,25.11415525114155,13.013698630136986,22.169811320754718,16.161616161616163,17.123287671232877,15.98639455782313,20.930232558139537,17.05426356589147,18.43137254901961,17.903930131004365,14.229249011857709,14.56953642384106,14.942528735632186,19.0,18.772563176895307,15.950920245398773,30.0,21.397379912663755,23.12703583061889,13.77551020408163,16.666666666666664,22.274881516587676,26.31578947368421,23.75,21.333333333333336,18.210862619808307,17.391304347826086],\"type\":\"scatter\"}]},{\"data\":[{\"x\":[\"2022-01-20\",\"2022-01-21\",\"2022-01-22\",\"2022-01-23\",\"2022-01-24\",\"2022-01-25\",\"2022-01-26\",\"2022-01-27\",\"2022-01-28\",\"2022-01-29\",\"2022-01-30\",\"2022-01-31\",\"2022-02-01\",\"2022-02-02\",\"2022-02-03\",\"2022-02-04\",\"2022-02-05\",\"2022-02-06\",\"2022-02-07\",\"2022-02-08\",\"2022-02-09\",\"2022-02-10\",\"2022-02-11\",\"2022-02-12\",\"2022-02-13\",\"2022-02-14\",\"2022-02-15\",\"2022-02-16\",\"2022-02-17\",\"2022-02-18\",\"2022-02-19\",\"2022-02-20\",\"2022-02-21\",\"2022-02-22\",\"2022-02-23\"],\"y\":[79.03225806451613,79.59866220735786,73.33333333333333,78.6842105263158,86.66666666666667,84.33333333333334,88.63636363636364,74.88584474885845,86.98630136986301,77.83018867924528,83.83838383838383,82.87671232876713,84.01360544217688,79.06976744186046,82.94573643410853,81.56862745098039,82.09606986899564,85.7707509881423,85.43046357615894,85.0574712643678,81.0,81.2274368231047,84.04907975460122,70.0,78.60262008733623,76.8729641693811,86.22448979591837,83.33333333333334,77.72511848341233,73.68421052631578,76.25,78.66666666666666,81.78913738019169,82.6086956521739,83.79446640316206],\"type\":\"scatter\"},{\"x\":[\"2022-01-20\",\"2022-01-21\",\"2022-01-22\",\"2022-01-23\",\"2022-01-24\",\"2022-01-25\",\"2022-01-26\",\"2022-01-27\",\"2022-01-28\",\"2022-01-29\",\"2022-01-30\",\"2022-01-31\",\"2022-02-01\",\"2022-02-02\",\"2022-02-03\",\"2022-02-04\",\"2022-02-05\",\"2022-02-06\",\"2022-02-07\",\"2022-02-08\",\"2022-02-09\",\"2022-02-10\",\"2022-02-11\",\"2022-02-12\",\"2022-02-13\",\"2022-02-14\",\"2022-02-15\",\"2022-02-16\",\"2022-02-17\",\"2022-02-18\",\"2022-02-19\",\"2022-02-20\",\"2022-02-21\",\"2022-02-22\",\"2022-02-23\"],\"y\":[20.967741935483872,20.401337792642142,26.666666666666668,21.31578947368421,13.333333333333334,15.666666666666668,11.363636363636363,25.11415525114155,13.013698630136986,22.169811320754718,16.161616161616163,17.123287671232877,15.98639455782313,20.930232558139537,17.05426356589147,18.43137254901961,17.903930131004365,14.229249011857709,14.56953642384106,14.942528735632186,19.0,18.772563176895307,15.950920245398773,30.0,21.397379912663755,23.12703583061889,13.77551020408163,16.666666666666664,22.274881516587676,26.31578947368421,23.75,21.333333333333336,18.210862619808307,17.391304347826086,16.205533596837945],\"type\":\"scatter\"}]},{\"data\":[{\"x\":[\"2022-01-20\",\"2022-01-21\",\"2022-01-22\",\"2022-01-23\",\"2022-01-24\",\"2022-01-25\",\"2022-01-26\",\"2022-01-27\",\"2022-01-28\",\"2022-01-29\",\"2022-01-30\",\"2022-01-31\",\"2022-02-01\",\"2022-02-02\",\"2022-02-03\",\"2022-02-04\",\"2022-02-05\",\"2022-02-06\",\"2022-02-07\",\"2022-02-08\",\"2022-02-09\",\"2022-02-10\",\"2022-02-11\",\"2022-02-12\",\"2022-02-13\",\"2022-02-14\",\"2022-02-15\",\"2022-02-16\",\"2022-02-17\",\"2022-02-18\",\"2022-02-19\",\"2022-02-20\",\"2022-02-21\",\"2022-02-22\",\"2022-02-23\",\"2022-02-24\"],\"y\":[79.03225806451613,79.59866220735786,73.33333333333333,78.6842105263158,86.66666666666667,84.33333333333334,88.63636363636364,74.88584474885845,86.98630136986301,77.83018867924528,83.83838383838383,82.87671232876713,84.01360544217688,79.06976744186046,82.94573643410853,81.56862745098039,82.09606986899564,85.7707509881423,85.43046357615894,85.0574712643678,81.0,81.2274368231047,84.04907975460122,70.0,78.60262008733623,76.8729641693811,86.22448979591837,83.33333333333334,77.72511848341233,73.68421052631578,76.25,78.66666666666666,81.78913738019169,82.6086956521739,83.79446640316206,81.41592920353983],\"type\":\"scatter\"},{\"x\":[\"2022-01-20\",\"2022-01-21\",\"2022-01-22\",\"2022-01-23\",\"2022-01-24\",\"2022-01-25\",\"2022-01-26\",\"2022-01-27\",\"2022-01-28\",\"2022-01-29\",\"2022-01-30\",\"2022-01-31\",\"2022-02-01\",\"2022-02-02\",\"2022-02-03\",\"2022-02-04\",\"2022-02-05\",\"2022-02-06\",\"2022-02-07\",\"2022-02-08\",\"2022-02-09\",\"2022-02-10\",\"2022-02-11\",\"2022-02-12\",\"2022-02-13\",\"2022-02-14\",\"2022-02-15\",\"2022-02-16\",\"2022-02-17\",\"2022-02-18\",\"2022-02-19\",\"2022-02-20\",\"2022-02-21\",\"2022-02-22\",\"2022-02-23\",\"2022-02-24\"],\"y\":[20.967741935483872,20.401337792642142,26.666666666666668,21.31578947368421,13.333333333333334,15.666666666666668,11.363636363636363,25.11415525114155,13.013698630136986,22.169811320754718,16.161616161616163,17.123287671232877,15.98639455782313,20.930232558139537,17.05426356589147,18.43137254901961,17.903930131004365,14.229249011857709,14.56953642384106,14.942528735632186,19.0,18.772563176895307,15.950920245398773,30.0,21.397379912663755,23.12703583061889,13.77551020408163,16.666666666666664,22.274881516587676,26.31578947368421,23.75,21.333333333333336,18.210862619808307,17.391304347826086,16.205533596837945,18.58407079646018],\"type\":\"scatter\"}]},{\"data\":[{\"x\":[\"2022-01-20\",\"2022-01-21\",\"2022-01-22\",\"2022-01-23\",\"2022-01-24\",\"2022-01-25\",\"2022-01-26\",\"2022-01-27\",\"2022-01-28\",\"2022-01-29\",\"2022-01-30\",\"2022-01-31\",\"2022-02-01\",\"2022-02-02\",\"2022-02-03\",\"2022-02-04\",\"2022-02-05\",\"2022-02-06\",\"2022-02-07\",\"2022-02-08\",\"2022-02-09\",\"2022-02-10\",\"2022-02-11\",\"2022-02-12\",\"2022-02-13\",\"2022-02-14\",\"2022-02-15\",\"2022-02-16\",\"2022-02-17\",\"2022-02-18\",\"2022-02-19\",\"2022-02-20\",\"2022-02-21\",\"2022-02-22\",\"2022-02-23\",\"2022-02-24\",\"2022-02-25\"],\"y\":[79.03225806451613,79.59866220735786,73.33333333333333,78.6842105263158,86.66666666666667,84.33333333333334,88.63636363636364,74.88584474885845,86.98630136986301,77.83018867924528,83.83838383838383,82.87671232876713,84.01360544217688,79.06976744186046,82.94573643410853,81.56862745098039,82.09606986899564,85.7707509881423,85.43046357615894,85.0574712643678,81.0,81.2274368231047,84.04907975460122,70.0,78.60262008733623,76.8729641693811,86.22448979591837,83.33333333333334,77.72511848341233,73.68421052631578,76.25,78.66666666666666,81.78913738019169,82.6086956521739,83.79446640316206,81.41592920353983,84.72222222222221],\"type\":\"scatter\"},{\"x\":[\"2022-01-20\",\"2022-01-21\",\"2022-01-22\",\"2022-01-23\",\"2022-01-24\",\"2022-01-25\",\"2022-01-26\",\"2022-01-27\",\"2022-01-28\",\"2022-01-29\",\"2022-01-30\",\"2022-01-31\",\"2022-02-01\",\"2022-02-02\",\"2022-02-03\",\"2022-02-04\",\"2022-02-05\",\"2022-02-06\",\"2022-02-07\",\"2022-02-08\",\"2022-02-09\",\"2022-02-10\",\"2022-02-11\",\"2022-02-12\",\"2022-02-13\",\"2022-02-14\",\"2022-02-15\",\"2022-02-16\",\"2022-02-17\",\"2022-02-18\",\"2022-02-19\",\"2022-02-20\",\"2022-02-21\",\"2022-02-22\",\"2022-02-23\",\"2022-02-24\",\"2022-02-25\"],\"y\":[20.967741935483872,20.401337792642142,26.666666666666668,21.31578947368421,13.333333333333334,15.666666666666668,11.363636363636363,25.11415525114155,13.013698630136986,22.169811320754718,16.161616161616163,17.123287671232877,15.98639455782313,20.930232558139537,17.05426356589147,18.43137254901961,17.903930131004365,14.229249011857709,14.56953642384106,14.942528735632186,19.0,18.772563176895307,15.950920245398773,30.0,21.397379912663755,23.12703583061889,13.77551020408163,16.666666666666664,22.274881516587676,26.31578947368421,23.75,21.333333333333336,18.210862619808307,17.391304347826086,16.205533596837945,18.58407079646018,15.277777777777779],\"type\":\"scatter\"}]},{\"data\":[{\"x\":[\"2022-01-20\",\"2022-01-21\",\"2022-01-22\",\"2022-01-23\",\"2022-01-24\",\"2022-01-25\",\"2022-01-26\",\"2022-01-27\",\"2022-01-28\",\"2022-01-29\",\"2022-01-30\",\"2022-01-31\",\"2022-02-01\",\"2022-02-02\",\"2022-02-03\",\"2022-02-04\",\"2022-02-05\",\"2022-02-06\",\"2022-02-07\",\"2022-02-08\",\"2022-02-09\",\"2022-02-10\",\"2022-02-11\",\"2022-02-12\",\"2022-02-13\",\"2022-02-14\",\"2022-02-15\",\"2022-02-16\",\"2022-02-17\",\"2022-02-18\",\"2022-02-19\",\"2022-02-20\",\"2022-02-21\",\"2022-02-22\",\"2022-02-23\",\"2022-02-24\",\"2022-02-25\",\"2022-02-26\"],\"y\":[79.03225806451613,79.59866220735786,73.33333333333333,78.6842105263158,86.66666666666667,84.33333333333334,88.63636363636364,74.88584474885845,86.98630136986301,77.83018867924528,83.83838383838383,82.87671232876713,84.01360544217688,79.06976744186046,82.94573643410853,81.56862745098039,82.09606986899564,85.7707509881423,85.43046357615894,85.0574712643678,81.0,81.2274368231047,84.04907975460122,70.0,78.60262008733623,76.8729641693811,86.22448979591837,83.33333333333334,77.72511848341233,73.68421052631578,76.25,78.66666666666666,81.78913738019169,82.6086956521739,83.79446640316206,81.41592920353983,84.72222222222221,81.57894736842105],\"type\":\"scatter\"},{\"x\":[\"2022-01-20\",\"2022-01-21\",\"2022-01-22\",\"2022-01-23\",\"2022-01-24\",\"2022-01-25\",\"2022-01-26\",\"2022-01-27\",\"2022-01-28\",\"2022-01-29\",\"2022-01-30\",\"2022-01-31\",\"2022-02-01\",\"2022-02-02\",\"2022-02-03\",\"2022-02-04\",\"2022-02-05\",\"2022-02-06\",\"2022-02-07\",\"2022-02-08\",\"2022-02-09\",\"2022-02-10\",\"2022-02-11\",\"2022-02-12\",\"2022-02-13\",\"2022-02-14\",\"2022-02-15\",\"2022-02-16\",\"2022-02-17\",\"2022-02-18\",\"2022-02-19\",\"2022-02-20\",\"2022-02-21\",\"2022-02-22\",\"2022-02-23\",\"2022-02-24\",\"2022-02-25\",\"2022-02-26\"],\"y\":[20.967741935483872,20.401337792642142,26.666666666666668,21.31578947368421,13.333333333333334,15.666666666666668,11.363636363636363,25.11415525114155,13.013698630136986,22.169811320754718,16.161616161616163,17.123287671232877,15.98639455782313,20.930232558139537,17.05426356589147,18.43137254901961,17.903930131004365,14.229249011857709,14.56953642384106,14.942528735632186,19.0,18.772563176895307,15.950920245398773,30.0,21.397379912663755,23.12703583061889,13.77551020408163,16.666666666666664,22.274881516587676,26.31578947368421,23.75,21.333333333333336,18.210862619808307,17.391304347826086,16.205533596837945,18.58407079646018,15.277777777777779,18.421052631578945],\"type\":\"scatter\"}]},{\"data\":[{\"x\":[\"2022-01-20\",\"2022-01-21\",\"2022-01-22\",\"2022-01-23\",\"2022-01-24\",\"2022-01-25\",\"2022-01-26\",\"2022-01-27\",\"2022-01-28\",\"2022-01-29\",\"2022-01-30\",\"2022-01-31\",\"2022-02-01\",\"2022-02-02\",\"2022-02-03\",\"2022-02-04\",\"2022-02-05\",\"2022-02-06\",\"2022-02-07\",\"2022-02-08\",\"2022-02-09\",\"2022-02-10\",\"2022-02-11\",\"2022-02-12\",\"2022-02-13\",\"2022-02-14\",\"2022-02-15\",\"2022-02-16\",\"2022-02-17\",\"2022-02-18\",\"2022-02-19\",\"2022-02-20\",\"2022-02-21\",\"2022-02-22\",\"2022-02-23\",\"2022-02-24\",\"2022-02-25\",\"2022-02-26\",\"2022-02-27\"],\"y\":[79.03225806451613,79.59866220735786,73.33333333333333,78.6842105263158,86.66666666666667,84.33333333333334,88.63636363636364,74.88584474885845,86.98630136986301,77.83018867924528,83.83838383838383,82.87671232876713,84.01360544217688,79.06976744186046,82.94573643410853,81.56862745098039,82.09606986899564,85.7707509881423,85.43046357615894,85.0574712643678,81.0,81.2274368231047,84.04907975460122,70.0,78.60262008733623,76.8729641693811,86.22448979591837,83.33333333333334,77.72511848341233,73.68421052631578,76.25,78.66666666666666,81.78913738019169,82.6086956521739,83.79446640316206,81.41592920353983,84.72222222222221,81.57894736842105,86.36363636363636],\"type\":\"scatter\"},{\"x\":[\"2022-01-20\",\"2022-01-21\",\"2022-01-22\",\"2022-01-23\",\"2022-01-24\",\"2022-01-25\",\"2022-01-26\",\"2022-01-27\",\"2022-01-28\",\"2022-01-29\",\"2022-01-30\",\"2022-01-31\",\"2022-02-01\",\"2022-02-02\",\"2022-02-03\",\"2022-02-04\",\"2022-02-05\",\"2022-02-06\",\"2022-02-07\",\"2022-02-08\",\"2022-02-09\",\"2022-02-10\",\"2022-02-11\",\"2022-02-12\",\"2022-02-13\",\"2022-02-14\",\"2022-02-15\",\"2022-02-16\",\"2022-02-17\",\"2022-02-18\",\"2022-02-19\",\"2022-02-20\",\"2022-02-21\",\"2022-02-22\",\"2022-02-23\",\"2022-02-24\",\"2022-02-25\",\"2022-02-26\",\"2022-02-27\"],\"y\":[20.967741935483872,20.401337792642142,26.666666666666668,21.31578947368421,13.333333333333334,15.666666666666668,11.363636363636363,25.11415525114155,13.013698630136986,22.169811320754718,16.161616161616163,17.123287671232877,15.98639455782313,20.930232558139537,17.05426356589147,18.43137254901961,17.903930131004365,14.229249011857709,14.56953642384106,14.942528735632186,19.0,18.772563176895307,15.950920245398773,30.0,21.397379912663755,23.12703583061889,13.77551020408163,16.666666666666664,22.274881516587676,26.31578947368421,23.75,21.333333333333336,18.210862619808307,17.391304347826086,16.205533596837945,18.58407079646018,15.277777777777779,18.421052631578945,13.636363636363635],\"type\":\"scatter\"}]},{\"data\":[{\"x\":[\"2022-01-20\",\"2022-01-21\",\"2022-01-22\",\"2022-01-23\",\"2022-01-24\",\"2022-01-25\",\"2022-01-26\",\"2022-01-27\",\"2022-01-28\",\"2022-01-29\",\"2022-01-30\",\"2022-01-31\",\"2022-02-01\",\"2022-02-02\",\"2022-02-03\",\"2022-02-04\",\"2022-02-05\",\"2022-02-06\",\"2022-02-07\",\"2022-02-08\",\"2022-02-09\",\"2022-02-10\",\"2022-02-11\",\"2022-02-12\",\"2022-02-13\",\"2022-02-14\",\"2022-02-15\",\"2022-02-16\",\"2022-02-17\",\"2022-02-18\",\"2022-02-19\",\"2022-02-20\",\"2022-02-21\",\"2022-02-22\",\"2022-02-23\",\"2022-02-24\",\"2022-02-25\",\"2022-02-26\",\"2022-02-27\",\"2022-02-28\"],\"y\":[79.03225806451613,79.59866220735786,73.33333333333333,78.6842105263158,86.66666666666667,84.33333333333334,88.63636363636364,74.88584474885845,86.98630136986301,77.83018867924528,83.83838383838383,82.87671232876713,84.01360544217688,79.06976744186046,82.94573643410853,81.56862745098039,82.09606986899564,85.7707509881423,85.43046357615894,85.0574712643678,81.0,81.2274368231047,84.04907975460122,70.0,78.60262008733623,76.8729641693811,86.22448979591837,83.33333333333334,77.72511848341233,73.68421052631578,76.25,78.66666666666666,81.78913738019169,82.6086956521739,83.79446640316206,81.41592920353983,84.72222222222221,81.57894736842105,86.36363636363636,82.19895287958116],\"type\":\"scatter\"},{\"x\":[\"2022-01-20\",\"2022-01-21\",\"2022-01-22\",\"2022-01-23\",\"2022-01-24\",\"2022-01-25\",\"2022-01-26\",\"2022-01-27\",\"2022-01-28\",\"2022-01-29\",\"2022-01-30\",\"2022-01-31\",\"2022-02-01\",\"2022-02-02\",\"2022-02-03\",\"2022-02-04\",\"2022-02-05\",\"2022-02-06\",\"2022-02-07\",\"2022-02-08\",\"2022-02-09\",\"2022-02-10\",\"2022-02-11\",\"2022-02-12\",\"2022-02-13\",\"2022-02-14\",\"2022-02-15\",\"2022-02-16\",\"2022-02-17\",\"2022-02-18\",\"2022-02-19\",\"2022-02-20\",\"2022-02-21\",\"2022-02-22\",\"2022-02-23\",\"2022-02-24\",\"2022-02-25\",\"2022-02-26\",\"2022-02-27\",\"2022-02-28\"],\"y\":[20.967741935483872,20.401337792642142,26.666666666666668,21.31578947368421,13.333333333333334,15.666666666666668,11.363636363636363,25.11415525114155,13.013698630136986,22.169811320754718,16.161616161616163,17.123287671232877,15.98639455782313,20.930232558139537,17.05426356589147,18.43137254901961,17.903930131004365,14.229249011857709,14.56953642384106,14.942528735632186,19.0,18.772563176895307,15.950920245398773,30.0,21.397379912663755,23.12703583061889,13.77551020408163,16.666666666666664,22.274881516587676,26.31578947368421,23.75,21.333333333333336,18.210862619808307,17.391304347826086,16.205533596837945,18.58407079646018,15.277777777777779,18.421052631578945,13.636363636363635,17.801047120418847],\"type\":\"scatter\"}]},{\"data\":[{\"x\":[\"2022-01-20\",\"2022-01-21\",\"2022-01-22\",\"2022-01-23\",\"2022-01-24\",\"2022-01-25\",\"2022-01-26\",\"2022-01-27\",\"2022-01-28\",\"2022-01-29\",\"2022-01-30\",\"2022-01-31\",\"2022-02-01\",\"2022-02-02\",\"2022-02-03\",\"2022-02-04\",\"2022-02-05\",\"2022-02-06\",\"2022-02-07\",\"2022-02-08\",\"2022-02-09\",\"2022-02-10\",\"2022-02-11\",\"2022-02-12\",\"2022-02-13\",\"2022-02-14\",\"2022-02-15\",\"2022-02-16\",\"2022-02-17\",\"2022-02-18\",\"2022-02-19\",\"2022-02-20\",\"2022-02-21\",\"2022-02-22\",\"2022-02-23\",\"2022-02-24\",\"2022-02-25\",\"2022-02-26\",\"2022-02-27\",\"2022-02-28\",\"2022-03-01\"],\"y\":[79.03225806451613,79.59866220735786,73.33333333333333,78.6842105263158,86.66666666666667,84.33333333333334,88.63636363636364,74.88584474885845,86.98630136986301,77.83018867924528,83.83838383838383,82.87671232876713,84.01360544217688,79.06976744186046,82.94573643410853,81.56862745098039,82.09606986899564,85.7707509881423,85.43046357615894,85.0574712643678,81.0,81.2274368231047,84.04907975460122,70.0,78.60262008733623,76.8729641693811,86.22448979591837,83.33333333333334,77.72511848341233,73.68421052631578,76.25,78.66666666666666,81.78913738019169,82.6086956521739,83.79446640316206,81.41592920353983,84.72222222222221,81.57894736842105,86.36363636363636,82.19895287958116,82.96703296703298],\"type\":\"scatter\"},{\"x\":[\"2022-01-20\",\"2022-01-21\",\"2022-01-22\",\"2022-01-23\",\"2022-01-24\",\"2022-01-25\",\"2022-01-26\",\"2022-01-27\",\"2022-01-28\",\"2022-01-29\",\"2022-01-30\",\"2022-01-31\",\"2022-02-01\",\"2022-02-02\",\"2022-02-03\",\"2022-02-04\",\"2022-02-05\",\"2022-02-06\",\"2022-02-07\",\"2022-02-08\",\"2022-02-09\",\"2022-02-10\",\"2022-02-11\",\"2022-02-12\",\"2022-02-13\",\"2022-02-14\",\"2022-02-15\",\"2022-02-16\",\"2022-02-17\",\"2022-02-18\",\"2022-02-19\",\"2022-02-20\",\"2022-02-21\",\"2022-02-22\",\"2022-02-23\",\"2022-02-24\",\"2022-02-25\",\"2022-02-26\",\"2022-02-27\",\"2022-02-28\",\"2022-03-01\"],\"y\":[20.967741935483872,20.401337792642142,26.666666666666668,21.31578947368421,13.333333333333334,15.666666666666668,11.363636363636363,25.11415525114155,13.013698630136986,22.169811320754718,16.161616161616163,17.123287671232877,15.98639455782313,20.930232558139537,17.05426356589147,18.43137254901961,17.903930131004365,14.229249011857709,14.56953642384106,14.942528735632186,19.0,18.772563176895307,15.950920245398773,30.0,21.397379912663755,23.12703583061889,13.77551020408163,16.666666666666664,22.274881516587676,26.31578947368421,23.75,21.333333333333336,18.210862619808307,17.391304347826086,16.205533596837945,18.58407079646018,15.277777777777779,18.421052631578945,13.636363636363635,17.801047120418847,17.032967032967033],\"type\":\"scatter\"}]},{\"data\":[{\"x\":[\"2022-01-20\",\"2022-01-21\",\"2022-01-22\",\"2022-01-23\",\"2022-01-24\",\"2022-01-25\",\"2022-01-26\",\"2022-01-27\",\"2022-01-28\",\"2022-01-29\",\"2022-01-30\",\"2022-01-31\",\"2022-02-01\",\"2022-02-02\",\"2022-02-03\",\"2022-02-04\",\"2022-02-05\",\"2022-02-06\",\"2022-02-07\",\"2022-02-08\",\"2022-02-09\",\"2022-02-10\",\"2022-02-11\",\"2022-02-12\",\"2022-02-13\",\"2022-02-14\",\"2022-02-15\",\"2022-02-16\",\"2022-02-17\",\"2022-02-18\",\"2022-02-19\",\"2022-02-20\",\"2022-02-21\",\"2022-02-22\",\"2022-02-23\",\"2022-02-24\",\"2022-02-25\",\"2022-02-26\",\"2022-02-27\",\"2022-02-28\",\"2022-03-01\",\"2022-03-02\"],\"y\":[79.03225806451613,79.59866220735786,73.33333333333333,78.6842105263158,86.66666666666667,84.33333333333334,88.63636363636364,74.88584474885845,86.98630136986301,77.83018867924528,83.83838383838383,82.87671232876713,84.01360544217688,79.06976744186046,82.94573643410853,81.56862745098039,82.09606986899564,85.7707509881423,85.43046357615894,85.0574712643678,81.0,81.2274368231047,84.04907975460122,70.0,78.60262008733623,76.8729641693811,86.22448979591837,83.33333333333334,77.72511848341233,73.68421052631578,76.25,78.66666666666666,81.78913738019169,82.6086956521739,83.79446640316206,81.41592920353983,84.72222222222221,81.57894736842105,86.36363636363636,82.19895287958116,82.96703296703298,83.75],\"type\":\"scatter\"},{\"x\":[\"2022-01-20\",\"2022-01-21\",\"2022-01-22\",\"2022-01-23\",\"2022-01-24\",\"2022-01-25\",\"2022-01-26\",\"2022-01-27\",\"2022-01-28\",\"2022-01-29\",\"2022-01-30\",\"2022-01-31\",\"2022-02-01\",\"2022-02-02\",\"2022-02-03\",\"2022-02-04\",\"2022-02-05\",\"2022-02-06\",\"2022-02-07\",\"2022-02-08\",\"2022-02-09\",\"2022-02-10\",\"2022-02-11\",\"2022-02-12\",\"2022-02-13\",\"2022-02-14\",\"2022-02-15\",\"2022-02-16\",\"2022-02-17\",\"2022-02-18\",\"2022-02-19\",\"2022-02-20\",\"2022-02-21\",\"2022-02-22\",\"2022-02-23\",\"2022-02-24\",\"2022-02-25\",\"2022-02-26\",\"2022-02-27\",\"2022-02-28\",\"2022-03-01\",\"2022-03-02\"],\"y\":[20.967741935483872,20.401337792642142,26.666666666666668,21.31578947368421,13.333333333333334,15.666666666666668,11.363636363636363,25.11415525114155,13.013698630136986,22.169811320754718,16.161616161616163,17.123287671232877,15.98639455782313,20.930232558139537,17.05426356589147,18.43137254901961,17.903930131004365,14.229249011857709,14.56953642384106,14.942528735632186,19.0,18.772563176895307,15.950920245398773,30.0,21.397379912663755,23.12703583061889,13.77551020408163,16.666666666666664,22.274881516587676,26.31578947368421,23.75,21.333333333333336,18.210862619808307,17.391304347826086,16.205533596837945,18.58407079646018,15.277777777777779,18.421052631578945,13.636363636363635,17.801047120418847,17.032967032967033,16.25],\"type\":\"scatter\"}]},{\"data\":[{\"x\":[\"2022-01-20\",\"2022-01-21\",\"2022-01-22\",\"2022-01-23\",\"2022-01-24\",\"2022-01-25\",\"2022-01-26\",\"2022-01-27\",\"2022-01-28\",\"2022-01-29\",\"2022-01-30\",\"2022-01-31\",\"2022-02-01\",\"2022-02-02\",\"2022-02-03\",\"2022-02-04\",\"2022-02-05\",\"2022-02-06\",\"2022-02-07\",\"2022-02-08\",\"2022-02-09\",\"2022-02-10\",\"2022-02-11\",\"2022-02-12\",\"2022-02-13\",\"2022-02-14\",\"2022-02-15\",\"2022-02-16\",\"2022-02-17\",\"2022-02-18\",\"2022-02-19\",\"2022-02-20\",\"2022-02-21\",\"2022-02-22\",\"2022-02-23\",\"2022-02-24\",\"2022-02-25\",\"2022-02-26\",\"2022-02-27\",\"2022-02-28\",\"2022-03-01\",\"2022-03-02\",\"2022-03-03\"],\"y\":[79.03225806451613,79.59866220735786,73.33333333333333,78.6842105263158,86.66666666666667,84.33333333333334,88.63636363636364,74.88584474885845,86.98630136986301,77.83018867924528,83.83838383838383,82.87671232876713,84.01360544217688,79.06976744186046,82.94573643410853,81.56862745098039,82.09606986899564,85.7707509881423,85.43046357615894,85.0574712643678,81.0,81.2274368231047,84.04907975460122,70.0,78.60262008733623,76.8729641693811,86.22448979591837,83.33333333333334,77.72511848341233,73.68421052631578,76.25,78.66666666666666,81.78913738019169,82.6086956521739,83.79446640316206,81.41592920353983,84.72222222222221,81.57894736842105,86.36363636363636,82.19895287958116,82.96703296703298,83.75,72.38307349665925],\"type\":\"scatter\"},{\"x\":[\"2022-01-20\",\"2022-01-21\",\"2022-01-22\",\"2022-01-23\",\"2022-01-24\",\"2022-01-25\",\"2022-01-26\",\"2022-01-27\",\"2022-01-28\",\"2022-01-29\",\"2022-01-30\",\"2022-01-31\",\"2022-02-01\",\"2022-02-02\",\"2022-02-03\",\"2022-02-04\",\"2022-02-05\",\"2022-02-06\",\"2022-02-07\",\"2022-02-08\",\"2022-02-09\",\"2022-02-10\",\"2022-02-11\",\"2022-02-12\",\"2022-02-13\",\"2022-02-14\",\"2022-02-15\",\"2022-02-16\",\"2022-02-17\",\"2022-02-18\",\"2022-02-19\",\"2022-02-20\",\"2022-02-21\",\"2022-02-22\",\"2022-02-23\",\"2022-02-24\",\"2022-02-25\",\"2022-02-26\",\"2022-02-27\",\"2022-02-28\",\"2022-03-01\",\"2022-03-02\",\"2022-03-03\"],\"y\":[20.967741935483872,20.401337792642142,26.666666666666668,21.31578947368421,13.333333333333334,15.666666666666668,11.363636363636363,25.11415525114155,13.013698630136986,22.169811320754718,16.161616161616163,17.123287671232877,15.98639455782313,20.930232558139537,17.05426356589147,18.43137254901961,17.903930131004365,14.229249011857709,14.56953642384106,14.942528735632186,19.0,18.772563176895307,15.950920245398773,30.0,21.397379912663755,23.12703583061889,13.77551020408163,16.666666666666664,22.274881516587676,26.31578947368421,23.75,21.333333333333336,18.210862619808307,17.391304347826086,16.205533596837945,18.58407079646018,15.277777777777779,18.421052631578945,13.636363636363635,17.801047120418847,17.032967032967033,16.25,27.616926503340757],\"type\":\"scatter\"}]},{\"data\":[{\"x\":[\"2022-01-20\",\"2022-01-21\",\"2022-01-22\",\"2022-01-23\",\"2022-01-24\",\"2022-01-25\",\"2022-01-26\",\"2022-01-27\",\"2022-01-28\",\"2022-01-29\",\"2022-01-30\",\"2022-01-31\",\"2022-02-01\",\"2022-02-02\",\"2022-02-03\",\"2022-02-04\",\"2022-02-05\",\"2022-02-06\",\"2022-02-07\",\"2022-02-08\",\"2022-02-09\",\"2022-02-10\",\"2022-02-11\",\"2022-02-12\",\"2022-02-13\",\"2022-02-14\",\"2022-02-15\",\"2022-02-16\",\"2022-02-17\",\"2022-02-18\",\"2022-02-19\",\"2022-02-20\",\"2022-02-21\",\"2022-02-22\",\"2022-02-23\",\"2022-02-24\",\"2022-02-25\",\"2022-02-26\",\"2022-02-27\",\"2022-02-28\",\"2022-03-01\",\"2022-03-02\",\"2022-03-03\",\"2022-03-04\"],\"y\":[79.03225806451613,79.59866220735786,73.33333333333333,78.6842105263158,86.66666666666667,84.33333333333334,88.63636363636364,74.88584474885845,86.98630136986301,77.83018867924528,83.83838383838383,82.87671232876713,84.01360544217688,79.06976744186046,82.94573643410853,81.56862745098039,82.09606986899564,85.7707509881423,85.43046357615894,85.0574712643678,81.0,81.2274368231047,84.04907975460122,70.0,78.60262008733623,76.8729641693811,86.22448979591837,83.33333333333334,77.72511848341233,73.68421052631578,76.25,78.66666666666666,81.78913738019169,82.6086956521739,83.79446640316206,81.41592920353983,84.72222222222221,81.57894736842105,86.36363636363636,82.19895287958116,82.96703296703298,83.75,72.38307349665925,79.63800904977376],\"type\":\"scatter\"},{\"x\":[\"2022-01-20\",\"2022-01-21\",\"2022-01-22\",\"2022-01-23\",\"2022-01-24\",\"2022-01-25\",\"2022-01-26\",\"2022-01-27\",\"2022-01-28\",\"2022-01-29\",\"2022-01-30\",\"2022-01-31\",\"2022-02-01\",\"2022-02-02\",\"2022-02-03\",\"2022-02-04\",\"2022-02-05\",\"2022-02-06\",\"2022-02-07\",\"2022-02-08\",\"2022-02-09\",\"2022-02-10\",\"2022-02-11\",\"2022-02-12\",\"2022-02-13\",\"2022-02-14\",\"2022-02-15\",\"2022-02-16\",\"2022-02-17\",\"2022-02-18\",\"2022-02-19\",\"2022-02-20\",\"2022-02-21\",\"2022-02-22\",\"2022-02-23\",\"2022-02-24\",\"2022-02-25\",\"2022-02-26\",\"2022-02-27\",\"2022-02-28\",\"2022-03-01\",\"2022-03-02\",\"2022-03-03\",\"2022-03-04\"],\"y\":[20.967741935483872,20.401337792642142,26.666666666666668,21.31578947368421,13.333333333333334,15.666666666666668,11.363636363636363,25.11415525114155,13.013698630136986,22.169811320754718,16.161616161616163,17.123287671232877,15.98639455782313,20.930232558139537,17.05426356589147,18.43137254901961,17.903930131004365,14.229249011857709,14.56953642384106,14.942528735632186,19.0,18.772563176895307,15.950920245398773,30.0,21.397379912663755,23.12703583061889,13.77551020408163,16.666666666666664,22.274881516587676,26.31578947368421,23.75,21.333333333333336,18.210862619808307,17.391304347826086,16.205533596837945,18.58407079646018,15.277777777777779,18.421052631578945,13.636363636363635,17.801047120418847,17.032967032967033,16.25,27.616926503340757,20.361990950226243],\"type\":\"scatter\"}]},{\"data\":[{\"x\":[\"2022-01-20\",\"2022-01-21\",\"2022-01-22\",\"2022-01-23\",\"2022-01-24\",\"2022-01-25\",\"2022-01-26\",\"2022-01-27\",\"2022-01-28\",\"2022-01-29\",\"2022-01-30\",\"2022-01-31\",\"2022-02-01\",\"2022-02-02\",\"2022-02-03\",\"2022-02-04\",\"2022-02-05\",\"2022-02-06\",\"2022-02-07\",\"2022-02-08\",\"2022-02-09\",\"2022-02-10\",\"2022-02-11\",\"2022-02-12\",\"2022-02-13\",\"2022-02-14\",\"2022-02-15\",\"2022-02-16\",\"2022-02-17\",\"2022-02-18\",\"2022-02-19\",\"2022-02-20\",\"2022-02-21\",\"2022-02-22\",\"2022-02-23\",\"2022-02-24\",\"2022-02-25\",\"2022-02-26\",\"2022-02-27\",\"2022-02-28\",\"2022-03-01\",\"2022-03-02\",\"2022-03-03\",\"2022-03-04\",\"2022-03-05\"],\"y\":[79.03225806451613,79.59866220735786,73.33333333333333,78.6842105263158,86.66666666666667,84.33333333333334,88.63636363636364,74.88584474885845,86.98630136986301,77.83018867924528,83.83838383838383,82.87671232876713,84.01360544217688,79.06976744186046,82.94573643410853,81.56862745098039,82.09606986899564,85.7707509881423,85.43046357615894,85.0574712643678,81.0,81.2274368231047,84.04907975460122,70.0,78.60262008733623,76.8729641693811,86.22448979591837,83.33333333333334,77.72511848341233,73.68421052631578,76.25,78.66666666666666,81.78913738019169,82.6086956521739,83.79446640316206,81.41592920353983,84.72222222222221,81.57894736842105,86.36363636363636,82.19895287958116,82.96703296703298,83.75,72.38307349665925,79.63800904977376,76.4423076923077],\"type\":\"scatter\"},{\"x\":[\"2022-01-20\",\"2022-01-21\",\"2022-01-22\",\"2022-01-23\",\"2022-01-24\",\"2022-01-25\",\"2022-01-26\",\"2022-01-27\",\"2022-01-28\",\"2022-01-29\",\"2022-01-30\",\"2022-01-31\",\"2022-02-01\",\"2022-02-02\",\"2022-02-03\",\"2022-02-04\",\"2022-02-05\",\"2022-02-06\",\"2022-02-07\",\"2022-02-08\",\"2022-02-09\",\"2022-02-10\",\"2022-02-11\",\"2022-02-12\",\"2022-02-13\",\"2022-02-14\",\"2022-02-15\",\"2022-02-16\",\"2022-02-17\",\"2022-02-18\",\"2022-02-19\",\"2022-02-20\",\"2022-02-21\",\"2022-02-22\",\"2022-02-23\",\"2022-02-24\",\"2022-02-25\",\"2022-02-26\",\"2022-02-27\",\"2022-02-28\",\"2022-03-01\",\"2022-03-02\",\"2022-03-03\",\"2022-03-04\",\"2022-03-05\"],\"y\":[20.967741935483872,20.401337792642142,26.666666666666668,21.31578947368421,13.333333333333334,15.666666666666668,11.363636363636363,25.11415525114155,13.013698630136986,22.169811320754718,16.161616161616163,17.123287671232877,15.98639455782313,20.930232558139537,17.05426356589147,18.43137254901961,17.903930131004365,14.229249011857709,14.56953642384106,14.942528735632186,19.0,18.772563176895307,15.950920245398773,30.0,21.397379912663755,23.12703583061889,13.77551020408163,16.666666666666664,22.274881516587676,26.31578947368421,23.75,21.333333333333336,18.210862619808307,17.391304347826086,16.205533596837945,18.58407079646018,15.277777777777779,18.421052631578945,13.636363636363635,17.801047120418847,17.032967032967033,16.25,27.616926503340757,20.361990950226243,23.557692307692307],\"type\":\"scatter\"}]},{\"data\":[{\"x\":[\"2022-01-20\",\"2022-01-21\",\"2022-01-22\",\"2022-01-23\",\"2022-01-24\",\"2022-01-25\",\"2022-01-26\",\"2022-01-27\",\"2022-01-28\",\"2022-01-29\",\"2022-01-30\",\"2022-01-31\",\"2022-02-01\",\"2022-02-02\",\"2022-02-03\",\"2022-02-04\",\"2022-02-05\",\"2022-02-06\",\"2022-02-07\",\"2022-02-08\",\"2022-02-09\",\"2022-02-10\",\"2022-02-11\",\"2022-02-12\",\"2022-02-13\",\"2022-02-14\",\"2022-02-15\",\"2022-02-16\",\"2022-02-17\",\"2022-02-18\",\"2022-02-19\",\"2022-02-20\",\"2022-02-21\",\"2022-02-22\",\"2022-02-23\",\"2022-02-24\",\"2022-02-25\",\"2022-02-26\",\"2022-02-27\",\"2022-02-28\",\"2022-03-01\",\"2022-03-02\",\"2022-03-03\",\"2022-03-04\",\"2022-03-05\",\"2022-03-06\"],\"y\":[79.03225806451613,79.59866220735786,73.33333333333333,78.6842105263158,86.66666666666667,84.33333333333334,88.63636363636364,74.88584474885845,86.98630136986301,77.83018867924528,83.83838383838383,82.87671232876713,84.01360544217688,79.06976744186046,82.94573643410853,81.56862745098039,82.09606986899564,85.7707509881423,85.43046357615894,85.0574712643678,81.0,81.2274368231047,84.04907975460122,70.0,78.60262008733623,76.8729641693811,86.22448979591837,83.33333333333334,77.72511848341233,73.68421052631578,76.25,78.66666666666666,81.78913738019169,82.6086956521739,83.79446640316206,81.41592920353983,84.72222222222221,81.57894736842105,86.36363636363636,82.19895287958116,82.96703296703298,83.75,72.38307349665925,79.63800904977376,76.4423076923077,84.05172413793103],\"type\":\"scatter\"},{\"x\":[\"2022-01-20\",\"2022-01-21\",\"2022-01-22\",\"2022-01-23\",\"2022-01-24\",\"2022-01-25\",\"2022-01-26\",\"2022-01-27\",\"2022-01-28\",\"2022-01-29\",\"2022-01-30\",\"2022-01-31\",\"2022-02-01\",\"2022-02-02\",\"2022-02-03\",\"2022-02-04\",\"2022-02-05\",\"2022-02-06\",\"2022-02-07\",\"2022-02-08\",\"2022-02-09\",\"2022-02-10\",\"2022-02-11\",\"2022-02-12\",\"2022-02-13\",\"2022-02-14\",\"2022-02-15\",\"2022-02-16\",\"2022-02-17\",\"2022-02-18\",\"2022-02-19\",\"2022-02-20\",\"2022-02-21\",\"2022-02-22\",\"2022-02-23\",\"2022-02-24\",\"2022-02-25\",\"2022-02-26\",\"2022-02-27\",\"2022-02-28\",\"2022-03-01\",\"2022-03-02\",\"2022-03-03\",\"2022-03-04\",\"2022-03-05\",\"2022-03-06\"],\"y\":[20.967741935483872,20.401337792642142,26.666666666666668,21.31578947368421,13.333333333333334,15.666666666666668,11.363636363636363,25.11415525114155,13.013698630136986,22.169811320754718,16.161616161616163,17.123287671232877,15.98639455782313,20.930232558139537,17.05426356589147,18.43137254901961,17.903930131004365,14.229249011857709,14.56953642384106,14.942528735632186,19.0,18.772563176895307,15.950920245398773,30.0,21.397379912663755,23.12703583061889,13.77551020408163,16.666666666666664,22.274881516587676,26.31578947368421,23.75,21.333333333333336,18.210862619808307,17.391304347826086,16.205533596837945,18.58407079646018,15.277777777777779,18.421052631578945,13.636363636363635,17.801047120418847,17.032967032967033,16.25,27.616926503340757,20.361990950226243,23.557692307692307,15.948275862068966],\"type\":\"scatter\"}]},{\"data\":[{\"x\":[\"2022-01-20\",\"2022-01-21\",\"2022-01-22\",\"2022-01-23\",\"2022-01-24\",\"2022-01-25\",\"2022-01-26\",\"2022-01-27\",\"2022-01-28\",\"2022-01-29\",\"2022-01-30\",\"2022-01-31\",\"2022-02-01\",\"2022-02-02\",\"2022-02-03\",\"2022-02-04\",\"2022-02-05\",\"2022-02-06\",\"2022-02-07\",\"2022-02-08\",\"2022-02-09\",\"2022-02-10\",\"2022-02-11\",\"2022-02-12\",\"2022-02-13\",\"2022-02-14\",\"2022-02-15\",\"2022-02-16\",\"2022-02-17\",\"2022-02-18\",\"2022-02-19\",\"2022-02-20\",\"2022-02-21\",\"2022-02-22\",\"2022-02-23\",\"2022-02-24\",\"2022-02-25\",\"2022-02-26\",\"2022-02-27\",\"2022-02-28\",\"2022-03-01\",\"2022-03-02\",\"2022-03-03\",\"2022-03-04\",\"2022-03-05\",\"2022-03-06\",\"2022-03-07\"],\"y\":[79.03225806451613,79.59866220735786,73.33333333333333,78.6842105263158,86.66666666666667,84.33333333333334,88.63636363636364,74.88584474885845,86.98630136986301,77.83018867924528,83.83838383838383,82.87671232876713,84.01360544217688,79.06976744186046,82.94573643410853,81.56862745098039,82.09606986899564,85.7707509881423,85.43046357615894,85.0574712643678,81.0,81.2274368231047,84.04907975460122,70.0,78.60262008733623,76.8729641693811,86.22448979591837,83.33333333333334,77.72511848341233,73.68421052631578,76.25,78.66666666666666,81.78913738019169,82.6086956521739,83.79446640316206,81.41592920353983,84.72222222222221,81.57894736842105,86.36363636363636,82.19895287958116,82.96703296703298,83.75,72.38307349665925,79.63800904977376,76.4423076923077,84.05172413793103,81.17647058823529],\"type\":\"scatter\"},{\"x\":[\"2022-01-20\",\"2022-01-21\",\"2022-01-22\",\"2022-01-23\",\"2022-01-24\",\"2022-01-25\",\"2022-01-26\",\"2022-01-27\",\"2022-01-28\",\"2022-01-29\",\"2022-01-30\",\"2022-01-31\",\"2022-02-01\",\"2022-02-02\",\"2022-02-03\",\"2022-02-04\",\"2022-02-05\",\"2022-02-06\",\"2022-02-07\",\"2022-02-08\",\"2022-02-09\",\"2022-02-10\",\"2022-02-11\",\"2022-02-12\",\"2022-02-13\",\"2022-02-14\",\"2022-02-15\",\"2022-02-16\",\"2022-02-17\",\"2022-02-18\",\"2022-02-19\",\"2022-02-20\",\"2022-02-21\",\"2022-02-22\",\"2022-02-23\",\"2022-02-24\",\"2022-02-25\",\"2022-02-26\",\"2022-02-27\",\"2022-02-28\",\"2022-03-01\",\"2022-03-02\",\"2022-03-03\",\"2022-03-04\",\"2022-03-05\",\"2022-03-06\",\"2022-03-07\"],\"y\":[20.967741935483872,20.401337792642142,26.666666666666668,21.31578947368421,13.333333333333334,15.666666666666668,11.363636363636363,25.11415525114155,13.013698630136986,22.169811320754718,16.161616161616163,17.123287671232877,15.98639455782313,20.930232558139537,17.05426356589147,18.43137254901961,17.903930131004365,14.229249011857709,14.56953642384106,14.942528735632186,19.0,18.772563176895307,15.950920245398773,30.0,21.397379912663755,23.12703583061889,13.77551020408163,16.666666666666664,22.274881516587676,26.31578947368421,23.75,21.333333333333336,18.210862619808307,17.391304347826086,16.205533596837945,18.58407079646018,15.277777777777779,18.421052631578945,13.636363636363635,17.801047120418847,17.032967032967033,16.25,27.616926503340757,20.361990950226243,23.557692307692307,15.948275862068966,18.823529411764707],\"type\":\"scatter\"}]},{\"data\":[{\"x\":[\"2022-01-20\",\"2022-01-21\",\"2022-01-22\",\"2022-01-23\",\"2022-01-24\",\"2022-01-25\",\"2022-01-26\",\"2022-01-27\",\"2022-01-28\",\"2022-01-29\",\"2022-01-30\",\"2022-01-31\",\"2022-02-01\",\"2022-02-02\",\"2022-02-03\",\"2022-02-04\",\"2022-02-05\",\"2022-02-06\",\"2022-02-07\",\"2022-02-08\",\"2022-02-09\",\"2022-02-10\",\"2022-02-11\",\"2022-02-12\",\"2022-02-13\",\"2022-02-14\",\"2022-02-15\",\"2022-02-16\",\"2022-02-17\",\"2022-02-18\",\"2022-02-19\",\"2022-02-20\",\"2022-02-21\",\"2022-02-22\",\"2022-02-23\",\"2022-02-24\",\"2022-02-25\",\"2022-02-26\",\"2022-02-27\",\"2022-02-28\",\"2022-03-01\",\"2022-03-02\",\"2022-03-03\",\"2022-03-04\",\"2022-03-05\",\"2022-03-06\",\"2022-03-07\",\"2022-03-08\"],\"y\":[79.03225806451613,79.59866220735786,73.33333333333333,78.6842105263158,86.66666666666667,84.33333333333334,88.63636363636364,74.88584474885845,86.98630136986301,77.83018867924528,83.83838383838383,82.87671232876713,84.01360544217688,79.06976744186046,82.94573643410853,81.56862745098039,82.09606986899564,85.7707509881423,85.43046357615894,85.0574712643678,81.0,81.2274368231047,84.04907975460122,70.0,78.60262008733623,76.8729641693811,86.22448979591837,83.33333333333334,77.72511848341233,73.68421052631578,76.25,78.66666666666666,81.78913738019169,82.6086956521739,83.79446640316206,81.41592920353983,84.72222222222221,81.57894736842105,86.36363636363636,82.19895287958116,82.96703296703298,83.75,72.38307349665925,79.63800904977376,76.4423076923077,84.05172413793103,81.17647058823529,81.13879003558719],\"type\":\"scatter\"},{\"x\":[\"2022-01-20\",\"2022-01-21\",\"2022-01-22\",\"2022-01-23\",\"2022-01-24\",\"2022-01-25\",\"2022-01-26\",\"2022-01-27\",\"2022-01-28\",\"2022-01-29\",\"2022-01-30\",\"2022-01-31\",\"2022-02-01\",\"2022-02-02\",\"2022-02-03\",\"2022-02-04\",\"2022-02-05\",\"2022-02-06\",\"2022-02-07\",\"2022-02-08\",\"2022-02-09\",\"2022-02-10\",\"2022-02-11\",\"2022-02-12\",\"2022-02-13\",\"2022-02-14\",\"2022-02-15\",\"2022-02-16\",\"2022-02-17\",\"2022-02-18\",\"2022-02-19\",\"2022-02-20\",\"2022-02-21\",\"2022-02-22\",\"2022-02-23\",\"2022-02-24\",\"2022-02-25\",\"2022-02-26\",\"2022-02-27\",\"2022-02-28\",\"2022-03-01\",\"2022-03-02\",\"2022-03-03\",\"2022-03-04\",\"2022-03-05\",\"2022-03-06\",\"2022-03-07\",\"2022-03-08\"],\"y\":[20.967741935483872,20.401337792642142,26.666666666666668,21.31578947368421,13.333333333333334,15.666666666666668,11.363636363636363,25.11415525114155,13.013698630136986,22.169811320754718,16.161616161616163,17.123287671232877,15.98639455782313,20.930232558139537,17.05426356589147,18.43137254901961,17.903930131004365,14.229249011857709,14.56953642384106,14.942528735632186,19.0,18.772563176895307,15.950920245398773,30.0,21.397379912663755,23.12703583061889,13.77551020408163,16.666666666666664,22.274881516587676,26.31578947368421,23.75,21.333333333333336,18.210862619808307,17.391304347826086,16.205533596837945,18.58407079646018,15.277777777777779,18.421052631578945,13.636363636363635,17.801047120418847,17.032967032967033,16.25,27.616926503340757,20.361990950226243,23.557692307692307,15.948275862068966,18.823529411764707,18.86120996441281],\"type\":\"scatter\"}]},{\"data\":[{\"x\":[\"2022-01-20\",\"2022-01-21\",\"2022-01-22\",\"2022-01-23\",\"2022-01-24\",\"2022-01-25\",\"2022-01-26\",\"2022-01-27\",\"2022-01-28\",\"2022-01-29\",\"2022-01-30\",\"2022-01-31\",\"2022-02-01\",\"2022-02-02\",\"2022-02-03\",\"2022-02-04\",\"2022-02-05\",\"2022-02-06\",\"2022-02-07\",\"2022-02-08\",\"2022-02-09\",\"2022-02-10\",\"2022-02-11\",\"2022-02-12\",\"2022-02-13\",\"2022-02-14\",\"2022-02-15\",\"2022-02-16\",\"2022-02-17\",\"2022-02-18\",\"2022-02-19\",\"2022-02-20\",\"2022-02-21\",\"2022-02-22\",\"2022-02-23\",\"2022-02-24\",\"2022-02-25\",\"2022-02-26\",\"2022-02-27\",\"2022-02-28\",\"2022-03-01\",\"2022-03-02\",\"2022-03-03\",\"2022-03-04\",\"2022-03-05\",\"2022-03-06\",\"2022-03-07\",\"2022-03-08\",\"2022-03-09\"],\"y\":[79.03225806451613,79.59866220735786,73.33333333333333,78.6842105263158,86.66666666666667,84.33333333333334,88.63636363636364,74.88584474885845,86.98630136986301,77.83018867924528,83.83838383838383,82.87671232876713,84.01360544217688,79.06976744186046,82.94573643410853,81.56862745098039,82.09606986899564,85.7707509881423,85.43046357615894,85.0574712643678,81.0,81.2274368231047,84.04907975460122,70.0,78.60262008733623,76.8729641693811,86.22448979591837,83.33333333333334,77.72511848341233,73.68421052631578,76.25,78.66666666666666,81.78913738019169,82.6086956521739,83.79446640316206,81.41592920353983,84.72222222222221,81.57894736842105,86.36363636363636,82.19895287958116,82.96703296703298,83.75,72.38307349665925,79.63800904977376,76.4423076923077,84.05172413793103,81.17647058823529,81.13879003558719,80.60606060606061],\"type\":\"scatter\"},{\"x\":[\"2022-01-20\",\"2022-01-21\",\"2022-01-22\",\"2022-01-23\",\"2022-01-24\",\"2022-01-25\",\"2022-01-26\",\"2022-01-27\",\"2022-01-28\",\"2022-01-29\",\"2022-01-30\",\"2022-01-31\",\"2022-02-01\",\"2022-02-02\",\"2022-02-03\",\"2022-02-04\",\"2022-02-05\",\"2022-02-06\",\"2022-02-07\",\"2022-02-08\",\"2022-02-09\",\"2022-02-10\",\"2022-02-11\",\"2022-02-12\",\"2022-02-13\",\"2022-02-14\",\"2022-02-15\",\"2022-02-16\",\"2022-02-17\",\"2022-02-18\",\"2022-02-19\",\"2022-02-20\",\"2022-02-21\",\"2022-02-22\",\"2022-02-23\",\"2022-02-24\",\"2022-02-25\",\"2022-02-26\",\"2022-02-27\",\"2022-02-28\",\"2022-03-01\",\"2022-03-02\",\"2022-03-03\",\"2022-03-04\",\"2022-03-05\",\"2022-03-06\",\"2022-03-07\",\"2022-03-08\",\"2022-03-09\"],\"y\":[20.967741935483872,20.401337792642142,26.666666666666668,21.31578947368421,13.333333333333334,15.666666666666668,11.363636363636363,25.11415525114155,13.013698630136986,22.169811320754718,16.161616161616163,17.123287671232877,15.98639455782313,20.930232558139537,17.05426356589147,18.43137254901961,17.903930131004365,14.229249011857709,14.56953642384106,14.942528735632186,19.0,18.772563176895307,15.950920245398773,30.0,21.397379912663755,23.12703583061889,13.77551020408163,16.666666666666664,22.274881516587676,26.31578947368421,23.75,21.333333333333336,18.210862619808307,17.391304347826086,16.205533596837945,18.58407079646018,15.277777777777779,18.421052631578945,13.636363636363635,17.801047120418847,17.032967032967033,16.25,27.616926503340757,20.361990950226243,23.557692307692307,15.948275862068966,18.823529411764707,18.86120996441281,19.393939393939394],\"type\":\"scatter\"}]},{\"data\":[{\"x\":[\"2022-01-20\",\"2022-01-21\",\"2022-01-22\",\"2022-01-23\",\"2022-01-24\",\"2022-01-25\",\"2022-01-26\",\"2022-01-27\",\"2022-01-28\",\"2022-01-29\",\"2022-01-30\",\"2022-01-31\",\"2022-02-01\",\"2022-02-02\",\"2022-02-03\",\"2022-02-04\",\"2022-02-05\",\"2022-02-06\",\"2022-02-07\",\"2022-02-08\",\"2022-02-09\",\"2022-02-10\",\"2022-02-11\",\"2022-02-12\",\"2022-02-13\",\"2022-02-14\",\"2022-02-15\",\"2022-02-16\",\"2022-02-17\",\"2022-02-18\",\"2022-02-19\",\"2022-02-20\",\"2022-02-21\",\"2022-02-22\",\"2022-02-23\",\"2022-02-24\",\"2022-02-25\",\"2022-02-26\",\"2022-02-27\",\"2022-02-28\",\"2022-03-01\",\"2022-03-02\",\"2022-03-03\",\"2022-03-04\",\"2022-03-05\",\"2022-03-06\",\"2022-03-07\",\"2022-03-08\",\"2022-03-09\",\"2022-03-10\"],\"y\":[79.03225806451613,79.59866220735786,73.33333333333333,78.6842105263158,86.66666666666667,84.33333333333334,88.63636363636364,74.88584474885845,86.98630136986301,77.83018867924528,83.83838383838383,82.87671232876713,84.01360544217688,79.06976744186046,82.94573643410853,81.56862745098039,82.09606986899564,85.7707509881423,85.43046357615894,85.0574712643678,81.0,81.2274368231047,84.04907975460122,70.0,78.60262008733623,76.8729641693811,86.22448979591837,83.33333333333334,77.72511848341233,73.68421052631578,76.25,78.66666666666666,81.78913738019169,82.6086956521739,83.79446640316206,81.41592920353983,84.72222222222221,81.57894736842105,86.36363636363636,82.19895287958116,82.96703296703298,83.75,72.38307349665925,79.63800904977376,76.4423076923077,84.05172413793103,81.17647058823529,81.13879003558719,80.60606060606061,88.96551724137932],\"type\":\"scatter\"},{\"x\":[\"2022-01-20\",\"2022-01-21\",\"2022-01-22\",\"2022-01-23\",\"2022-01-24\",\"2022-01-25\",\"2022-01-26\",\"2022-01-27\",\"2022-01-28\",\"2022-01-29\",\"2022-01-30\",\"2022-01-31\",\"2022-02-01\",\"2022-02-02\",\"2022-02-03\",\"2022-02-04\",\"2022-02-05\",\"2022-02-06\",\"2022-02-07\",\"2022-02-08\",\"2022-02-09\",\"2022-02-10\",\"2022-02-11\",\"2022-02-12\",\"2022-02-13\",\"2022-02-14\",\"2022-02-15\",\"2022-02-16\",\"2022-02-17\",\"2022-02-18\",\"2022-02-19\",\"2022-02-20\",\"2022-02-21\",\"2022-02-22\",\"2022-02-23\",\"2022-02-24\",\"2022-02-25\",\"2022-02-26\",\"2022-02-27\",\"2022-02-28\",\"2022-03-01\",\"2022-03-02\",\"2022-03-03\",\"2022-03-04\",\"2022-03-05\",\"2022-03-06\",\"2022-03-07\",\"2022-03-08\",\"2022-03-09\",\"2022-03-10\"],\"y\":[20.967741935483872,20.401337792642142,26.666666666666668,21.31578947368421,13.333333333333334,15.666666666666668,11.363636363636363,25.11415525114155,13.013698630136986,22.169811320754718,16.161616161616163,17.123287671232877,15.98639455782313,20.930232558139537,17.05426356589147,18.43137254901961,17.903930131004365,14.229249011857709,14.56953642384106,14.942528735632186,19.0,18.772563176895307,15.950920245398773,30.0,21.397379912663755,23.12703583061889,13.77551020408163,16.666666666666664,22.274881516587676,26.31578947368421,23.75,21.333333333333336,18.210862619808307,17.391304347826086,16.205533596837945,18.58407079646018,15.277777777777779,18.421052631578945,13.636363636363635,17.801047120418847,17.032967032967033,16.25,27.616926503340757,20.361990950226243,23.557692307692307,15.948275862068966,18.823529411764707,18.86120996441281,19.393939393939394,11.03448275862069],\"type\":\"scatter\"}]},{\"data\":[{\"x\":[\"2022-01-20\",\"2022-01-21\",\"2022-01-22\",\"2022-01-23\",\"2022-01-24\",\"2022-01-25\",\"2022-01-26\",\"2022-01-27\",\"2022-01-28\",\"2022-01-29\",\"2022-01-30\",\"2022-01-31\",\"2022-02-01\",\"2022-02-02\",\"2022-02-03\",\"2022-02-04\",\"2022-02-05\",\"2022-02-06\",\"2022-02-07\",\"2022-02-08\",\"2022-02-09\",\"2022-02-10\",\"2022-02-11\",\"2022-02-12\",\"2022-02-13\",\"2022-02-14\",\"2022-02-15\",\"2022-02-16\",\"2022-02-17\",\"2022-02-18\",\"2022-02-19\",\"2022-02-20\",\"2022-02-21\",\"2022-02-22\",\"2022-02-23\",\"2022-02-24\",\"2022-02-25\",\"2022-02-26\",\"2022-02-27\",\"2022-02-28\",\"2022-03-01\",\"2022-03-02\",\"2022-03-03\",\"2022-03-04\",\"2022-03-05\",\"2022-03-06\",\"2022-03-07\",\"2022-03-08\",\"2022-03-09\",\"2022-03-10\",\"2022-03-11\"],\"y\":[79.03225806451613,79.59866220735786,73.33333333333333,78.6842105263158,86.66666666666667,84.33333333333334,88.63636363636364,74.88584474885845,86.98630136986301,77.83018867924528,83.83838383838383,82.87671232876713,84.01360544217688,79.06976744186046,82.94573643410853,81.56862745098039,82.09606986899564,85.7707509881423,85.43046357615894,85.0574712643678,81.0,81.2274368231047,84.04907975460122,70.0,78.60262008733623,76.8729641693811,86.22448979591837,83.33333333333334,77.72511848341233,73.68421052631578,76.25,78.66666666666666,81.78913738019169,82.6086956521739,83.79446640316206,81.41592920353983,84.72222222222221,81.57894736842105,86.36363636363636,82.19895287958116,82.96703296703298,83.75,72.38307349665925,79.63800904977376,76.4423076923077,84.05172413793103,81.17647058823529,81.13879003558719,80.60606060606061,88.96551724137932,82.11382113821138],\"type\":\"scatter\"},{\"x\":[\"2022-01-20\",\"2022-01-21\",\"2022-01-22\",\"2022-01-23\",\"2022-01-24\",\"2022-01-25\",\"2022-01-26\",\"2022-01-27\",\"2022-01-28\",\"2022-01-29\",\"2022-01-30\",\"2022-01-31\",\"2022-02-01\",\"2022-02-02\",\"2022-02-03\",\"2022-02-04\",\"2022-02-05\",\"2022-02-06\",\"2022-02-07\",\"2022-02-08\",\"2022-02-09\",\"2022-02-10\",\"2022-02-11\",\"2022-02-12\",\"2022-02-13\",\"2022-02-14\",\"2022-02-15\",\"2022-02-16\",\"2022-02-17\",\"2022-02-18\",\"2022-02-19\",\"2022-02-20\",\"2022-02-21\",\"2022-02-22\",\"2022-02-23\",\"2022-02-24\",\"2022-02-25\",\"2022-02-26\",\"2022-02-27\",\"2022-02-28\",\"2022-03-01\",\"2022-03-02\",\"2022-03-03\",\"2022-03-04\",\"2022-03-05\",\"2022-03-06\",\"2022-03-07\",\"2022-03-08\",\"2022-03-09\",\"2022-03-10\",\"2022-03-11\"],\"y\":[20.967741935483872,20.401337792642142,26.666666666666668,21.31578947368421,13.333333333333334,15.666666666666668,11.363636363636363,25.11415525114155,13.013698630136986,22.169811320754718,16.161616161616163,17.123287671232877,15.98639455782313,20.930232558139537,17.05426356589147,18.43137254901961,17.903930131004365,14.229249011857709,14.56953642384106,14.942528735632186,19.0,18.772563176895307,15.950920245398773,30.0,21.397379912663755,23.12703583061889,13.77551020408163,16.666666666666664,22.274881516587676,26.31578947368421,23.75,21.333333333333336,18.210862619808307,17.391304347826086,16.205533596837945,18.58407079646018,15.277777777777779,18.421052631578945,13.636363636363635,17.801047120418847,17.032967032967033,16.25,27.616926503340757,20.361990950226243,23.557692307692307,15.948275862068966,18.823529411764707,18.86120996441281,19.393939393939394,11.03448275862069,17.88617886178862],\"type\":\"scatter\"}]},{\"data\":[{\"x\":[\"2022-01-20\",\"2022-01-21\",\"2022-01-22\",\"2022-01-23\",\"2022-01-24\",\"2022-01-25\",\"2022-01-26\",\"2022-01-27\",\"2022-01-28\",\"2022-01-29\",\"2022-01-30\",\"2022-01-31\",\"2022-02-01\",\"2022-02-02\",\"2022-02-03\",\"2022-02-04\",\"2022-02-05\",\"2022-02-06\",\"2022-02-07\",\"2022-02-08\",\"2022-02-09\",\"2022-02-10\",\"2022-02-11\",\"2022-02-12\",\"2022-02-13\",\"2022-02-14\",\"2022-02-15\",\"2022-02-16\",\"2022-02-17\",\"2022-02-18\",\"2022-02-19\",\"2022-02-20\",\"2022-02-21\",\"2022-02-22\",\"2022-02-23\",\"2022-02-24\",\"2022-02-25\",\"2022-02-26\",\"2022-02-27\",\"2022-02-28\",\"2022-03-01\",\"2022-03-02\",\"2022-03-03\",\"2022-03-04\",\"2022-03-05\",\"2022-03-06\",\"2022-03-07\",\"2022-03-08\",\"2022-03-09\",\"2022-03-10\",\"2022-03-11\",\"2022-03-12\"],\"y\":[79.03225806451613,79.59866220735786,73.33333333333333,78.6842105263158,86.66666666666667,84.33333333333334,88.63636363636364,74.88584474885845,86.98630136986301,77.83018867924528,83.83838383838383,82.87671232876713,84.01360544217688,79.06976744186046,82.94573643410853,81.56862745098039,82.09606986899564,85.7707509881423,85.43046357615894,85.0574712643678,81.0,81.2274368231047,84.04907975460122,70.0,78.60262008733623,76.8729641693811,86.22448979591837,83.33333333333334,77.72511848341233,73.68421052631578,76.25,78.66666666666666,81.78913738019169,82.6086956521739,83.79446640316206,81.41592920353983,84.72222222222221,81.57894736842105,86.36363636363636,82.19895287958116,82.96703296703298,83.75,72.38307349665925,79.63800904977376,76.4423076923077,84.05172413793103,81.17647058823529,81.13879003558719,80.60606060606061,88.96551724137932,82.11382113821138,81.53846153846153],\"type\":\"scatter\"},{\"x\":[\"2022-01-20\",\"2022-01-21\",\"2022-01-22\",\"2022-01-23\",\"2022-01-24\",\"2022-01-25\",\"2022-01-26\",\"2022-01-27\",\"2022-01-28\",\"2022-01-29\",\"2022-01-30\",\"2022-01-31\",\"2022-02-01\",\"2022-02-02\",\"2022-02-03\",\"2022-02-04\",\"2022-02-05\",\"2022-02-06\",\"2022-02-07\",\"2022-02-08\",\"2022-02-09\",\"2022-02-10\",\"2022-02-11\",\"2022-02-12\",\"2022-02-13\",\"2022-02-14\",\"2022-02-15\",\"2022-02-16\",\"2022-02-17\",\"2022-02-18\",\"2022-02-19\",\"2022-02-20\",\"2022-02-21\",\"2022-02-22\",\"2022-02-23\",\"2022-02-24\",\"2022-02-25\",\"2022-02-26\",\"2022-02-27\",\"2022-02-28\",\"2022-03-01\",\"2022-03-02\",\"2022-03-03\",\"2022-03-04\",\"2022-03-05\",\"2022-03-06\",\"2022-03-07\",\"2022-03-08\",\"2022-03-09\",\"2022-03-10\",\"2022-03-11\",\"2022-03-12\"],\"y\":[20.967741935483872,20.401337792642142,26.666666666666668,21.31578947368421,13.333333333333334,15.666666666666668,11.363636363636363,25.11415525114155,13.013698630136986,22.169811320754718,16.161616161616163,17.123287671232877,15.98639455782313,20.930232558139537,17.05426356589147,18.43137254901961,17.903930131004365,14.229249011857709,14.56953642384106,14.942528735632186,19.0,18.772563176895307,15.950920245398773,30.0,21.397379912663755,23.12703583061889,13.77551020408163,16.666666666666664,22.274881516587676,26.31578947368421,23.75,21.333333333333336,18.210862619808307,17.391304347826086,16.205533596837945,18.58407079646018,15.277777777777779,18.421052631578945,13.636363636363635,17.801047120418847,17.032967032967033,16.25,27.616926503340757,20.361990950226243,23.557692307692307,15.948275862068966,18.823529411764707,18.86120996441281,19.393939393939394,11.03448275862069,17.88617886178862,18.461538461538463],\"type\":\"scatter\"}]}]);\n",
       "                        }).then(function(){\n",
       "                            \n",
       "var gd = document.getElementById('175ac970-2c7d-471a-af11-6700664e9328');\n",
       "var x = new MutationObserver(function (mutations, observer) {{\n",
       "        var display = window.getComputedStyle(gd).display;\n",
       "        if (!display || display === 'none') {{\n",
       "            console.log([gd, 'removed!']);\n",
       "            Plotly.purge(gd);\n",
       "            observer.disconnect();\n",
       "        }}\n",
       "}});\n",
       "\n",
       "// Listen for the removal of the full notebook cells\n",
       "var notebookContainer = gd.closest('#notebook-container');\n",
       "if (notebookContainer) {{\n",
       "    x.observe(notebookContainer, {childList: true});\n",
       "}}\n",
       "\n",
       "// Listen for the clearing of the current output cell\n",
       "var outputEl = gd.closest('.output');\n",
       "if (outputEl) {{\n",
       "    x.observe(outputEl, {childList: true});\n",
       "}}\n",
       "\n",
       "                        })                };                });            </script>        </div>"
      ]
     },
     "metadata": {},
     "output_type": "display_data"
    }
   ],
   "source": [
    "conspiracy_sentiment_df = get_flair_dummies(df)\n",
    "figure_conspiracy = get_scatter_animation(conspiracy_sentiment_df)\n",
    "figure_conspiracy.show(renderer='notebook_connected')"
   ]
  },
  {
   "cell_type": "code",
   "execution_count": 30,
   "metadata": {},
   "outputs": [
    {
     "data": {
      "text/html": [
       "        <script type=\"text/javascript\">\n",
       "        window.PlotlyConfig = {MathJaxConfig: 'local'};\n",
       "        if (window.MathJax) {MathJax.Hub.Config({SVG: {font: \"STIX-Web\"}});}\n",
       "        if (typeof require !== 'undefined') {\n",
       "        require.undef(\"plotly\");\n",
       "        requirejs.config({\n",
       "            paths: {\n",
       "                'plotly': ['https://cdn.plot.ly/plotly-2.6.3.min']\n",
       "            }\n",
       "        });\n",
       "        require(['plotly'], function(Plotly) {\n",
       "            window._Plotly = Plotly;\n",
       "        });\n",
       "        }\n",
       "        </script>\n",
       "        "
      ]
     },
     "metadata": {},
     "output_type": "display_data"
    },
    {
     "data": {
      "text/html": [
       "<div>                            <div id=\"262f99bf-1c7d-47bb-8937-24482de6f293\" class=\"plotly-graph-div\" style=\"height:525px; width:100%;\"></div>            <script type=\"text/javascript\">                require([\"plotly\"], function(Plotly) {                    window.PLOTLYENV=window.PLOTLYENV || {};                                    if (document.getElementById(\"262f99bf-1c7d-47bb-8937-24482de6f293\")) {                    Plotly.newPlot(                        \"262f99bf-1c7d-47bb-8937-24482de6f293\",                        [{\"line\":{\"color\":\"olive\",\"dash\":\"dash\"},\"name\":\"Negative\",\"visible\":true,\"x\":[\"2022-01-20\",\"2022-01-21\",\"2022-01-22\",\"2022-01-23\",\"2022-01-24\",\"2022-01-25\",\"2022-01-26\",\"2022-01-27\",\"2022-01-28\",\"2022-01-29\",\"2022-01-30\",\"2022-01-31\",\"2022-02-01\",\"2022-02-02\",\"2022-02-03\",\"2022-02-04\",\"2022-02-05\",\"2022-02-06\",\"2022-02-07\",\"2022-02-08\",\"2022-02-09\",\"2022-02-10\",\"2022-02-11\",\"2022-02-12\",\"2022-02-13\",\"2022-02-14\",\"2022-02-15\",\"2022-02-16\",\"2022-02-17\",\"2022-02-18\",\"2022-02-19\",\"2022-02-20\",\"2022-02-21\",\"2022-02-22\",\"2022-02-23\",\"2022-02-24\",\"2022-02-25\",\"2022-02-26\",\"2022-02-27\",\"2022-02-28\",\"2022-03-01\",\"2022-03-02\",\"2022-03-03\",\"2022-03-04\",\"2022-03-05\",\"2022-03-06\",\"2022-03-07\",\"2022-03-08\",\"2022-03-09\",\"2022-03-10\",\"2022-03-11\",\"2022-03-12\"],\"y\":[83.87096774193549,69.23076923076923,68.42105263157895,69.0909090909091,73.17073170731707,84.0909090909091,87.5,65.38461538461539,71.42857142857143,73.61111111111111,76.0,72.72727272727273,71.42857142857143,66.66666666666666,75.60975609756098,68.75,60.0,77.38095238095238,62.19512195121951,81.81818181818183,72.22222222222221,66.66666666666666,75.0,54.90196078431373,81.48148148148148,61.25000000000001,68.75,60.0,62.16216216216216,60.0,46.15384615384615,66.66666666666666,50.0,52.94117647058824,71.66666666666667,58.536585365853654,66.66666666666666,59.09090909090909,70.58823529411765,46.15384615384615,66.66666666666666,66.66666666666666,62.5,69.76744186046511,71.42857142857143,71.05263157894737,65.51724137931035,60.86956521739131,55.55555555555556,75.0,50.0,73.64864864864865],\"type\":\"scatter\"},{\"line\":{\"color\":\"gold\",\"dash\":\"dash\"},\"name\":\"Positive\",\"visible\":true,\"x\":[\"2022-01-20\",\"2022-01-21\",\"2022-01-22\",\"2022-01-23\",\"2022-01-24\",\"2022-01-25\",\"2022-01-26\",\"2022-01-27\",\"2022-01-28\",\"2022-01-29\",\"2022-01-30\",\"2022-01-31\",\"2022-02-01\",\"2022-02-02\",\"2022-02-03\",\"2022-02-04\",\"2022-02-05\",\"2022-02-06\",\"2022-02-07\",\"2022-02-08\",\"2022-02-09\",\"2022-02-10\",\"2022-02-11\",\"2022-02-12\",\"2022-02-13\",\"2022-02-14\",\"2022-02-15\",\"2022-02-16\",\"2022-02-17\",\"2022-02-18\",\"2022-02-19\",\"2022-02-20\",\"2022-02-21\",\"2022-02-22\",\"2022-02-23\",\"2022-02-24\",\"2022-02-25\",\"2022-02-26\",\"2022-02-27\",\"2022-02-28\",\"2022-03-01\",\"2022-03-02\",\"2022-03-03\",\"2022-03-04\",\"2022-03-05\",\"2022-03-06\",\"2022-03-07\",\"2022-03-08\",\"2022-03-09\",\"2022-03-10\",\"2022-03-11\",\"2022-03-12\"],\"y\":[16.129032258064516,30.76923076923077,31.57894736842105,30.909090909090907,26.82926829268293,15.909090909090908,12.5,34.61538461538461,28.57142857142857,26.38888888888889,24.0,27.27272727272727,28.57142857142857,33.33333333333333,24.390243902439025,31.25,40.0,22.61904761904762,37.80487804878049,18.181818181818183,27.77777777777778,33.33333333333333,25.0,45.09803921568628,18.51851851851852,38.75,31.25,40.0,37.83783783783784,40.0,53.84615384615385,33.33333333333333,50.0,47.05882352941176,28.333333333333332,41.46341463414634,33.33333333333333,40.909090909090914,29.411764705882355,53.84615384615385,33.33333333333333,33.33333333333333,37.5,30.23255813953488,28.57142857142857,28.947368421052634,34.48275862068966,39.130434782608695,44.44444444444444,25.0,50.0,26.351351351351347],\"type\":\"scatter\"}],                        {\"title\":{\"text\":\"Sentiment by Time\"},\"updatemenus\":[{\"direction\":\"right\",\"type\":\"buttons\",\"x\":0.9,\"y\":1.16,\"buttons\":[{\"args\":[null,{\"frame\":{\"duration\":700}}],\"label\":\"Play\",\"method\":\"animate\"},{\"args\":[{\"visible\":[false,true]},{\"showlegend\":true}],\"label\":\"Positive\",\"method\":\"update\"},{\"args\":[{\"visible\":[true,false]},{\"showlegend\":true}],\"label\":\"Negative\",\"method\":\"update\"},{\"args\":[{\"visible\":[true,true,true]},{\"showlegend\":true}],\"label\":\"All\",\"method\":\"update\"}]}],\"xaxis\":{\"tickmode\":\"linear\",\"title\":{\"text\":\"date\"},\"ticks\":\"outside\",\"tickwidth\":2,\"tickcolor\":\"white\"},\"yaxis\":{\"title\":{\"text\":\"percentage(%)\"},\"ticks\":\"outside\",\"tickwidth\":2,\"tickcolor\":\"white\",\"tickformat\":\",\"},\"template\":{\"data\":{\"bar\":[{\"error_x\":{\"color\":\"#2a3f5f\"},\"error_y\":{\"color\":\"#2a3f5f\"},\"marker\":{\"line\":{\"color\":\"#E5ECF6\",\"width\":0.5},\"pattern\":{\"fillmode\":\"overlay\",\"size\":10,\"solidity\":0.2}},\"type\":\"bar\"}],\"barpolar\":[{\"marker\":{\"line\":{\"color\":\"#E5ECF6\",\"width\":0.5},\"pattern\":{\"fillmode\":\"overlay\",\"size\":10,\"solidity\":0.2}},\"type\":\"barpolar\"}],\"carpet\":[{\"aaxis\":{\"endlinecolor\":\"#2a3f5f\",\"gridcolor\":\"white\",\"linecolor\":\"white\",\"minorgridcolor\":\"white\",\"startlinecolor\":\"#2a3f5f\"},\"baxis\":{\"endlinecolor\":\"#2a3f5f\",\"gridcolor\":\"white\",\"linecolor\":\"white\",\"minorgridcolor\":\"white\",\"startlinecolor\":\"#2a3f5f\"},\"type\":\"carpet\"}],\"choropleth\":[{\"colorbar\":{\"outlinewidth\":0,\"ticks\":\"\"},\"type\":\"choropleth\"}],\"contour\":[{\"colorbar\":{\"outlinewidth\":0,\"ticks\":\"\"},\"colorscale\":[[0.0,\"#0d0887\"],[0.1111111111111111,\"#46039f\"],[0.2222222222222222,\"#7201a8\"],[0.3333333333333333,\"#9c179e\"],[0.4444444444444444,\"#bd3786\"],[0.5555555555555556,\"#d8576b\"],[0.6666666666666666,\"#ed7953\"],[0.7777777777777778,\"#fb9f3a\"],[0.8888888888888888,\"#fdca26\"],[1.0,\"#f0f921\"]],\"type\":\"contour\"}],\"contourcarpet\":[{\"colorbar\":{\"outlinewidth\":0,\"ticks\":\"\"},\"type\":\"contourcarpet\"}],\"heatmap\":[{\"colorbar\":{\"outlinewidth\":0,\"ticks\":\"\"},\"colorscale\":[[0.0,\"#0d0887\"],[0.1111111111111111,\"#46039f\"],[0.2222222222222222,\"#7201a8\"],[0.3333333333333333,\"#9c179e\"],[0.4444444444444444,\"#bd3786\"],[0.5555555555555556,\"#d8576b\"],[0.6666666666666666,\"#ed7953\"],[0.7777777777777778,\"#fb9f3a\"],[0.8888888888888888,\"#fdca26\"],[1.0,\"#f0f921\"]],\"type\":\"heatmap\"}],\"heatmapgl\":[{\"colorbar\":{\"outlinewidth\":0,\"ticks\":\"\"},\"colorscale\":[[0.0,\"#0d0887\"],[0.1111111111111111,\"#46039f\"],[0.2222222222222222,\"#7201a8\"],[0.3333333333333333,\"#9c179e\"],[0.4444444444444444,\"#bd3786\"],[0.5555555555555556,\"#d8576b\"],[0.6666666666666666,\"#ed7953\"],[0.7777777777777778,\"#fb9f3a\"],[0.8888888888888888,\"#fdca26\"],[1.0,\"#f0f921\"]],\"type\":\"heatmapgl\"}],\"histogram\":[{\"marker\":{\"pattern\":{\"fillmode\":\"overlay\",\"size\":10,\"solidity\":0.2}},\"type\":\"histogram\"}],\"histogram2d\":[{\"colorbar\":{\"outlinewidth\":0,\"ticks\":\"\"},\"colorscale\":[[0.0,\"#0d0887\"],[0.1111111111111111,\"#46039f\"],[0.2222222222222222,\"#7201a8\"],[0.3333333333333333,\"#9c179e\"],[0.4444444444444444,\"#bd3786\"],[0.5555555555555556,\"#d8576b\"],[0.6666666666666666,\"#ed7953\"],[0.7777777777777778,\"#fb9f3a\"],[0.8888888888888888,\"#fdca26\"],[1.0,\"#f0f921\"]],\"type\":\"histogram2d\"}],\"histogram2dcontour\":[{\"colorbar\":{\"outlinewidth\":0,\"ticks\":\"\"},\"colorscale\":[[0.0,\"#0d0887\"],[0.1111111111111111,\"#46039f\"],[0.2222222222222222,\"#7201a8\"],[0.3333333333333333,\"#9c179e\"],[0.4444444444444444,\"#bd3786\"],[0.5555555555555556,\"#d8576b\"],[0.6666666666666666,\"#ed7953\"],[0.7777777777777778,\"#fb9f3a\"],[0.8888888888888888,\"#fdca26\"],[1.0,\"#f0f921\"]],\"type\":\"histogram2dcontour\"}],\"mesh3d\":[{\"colorbar\":{\"outlinewidth\":0,\"ticks\":\"\"},\"type\":\"mesh3d\"}],\"parcoords\":[{\"line\":{\"colorbar\":{\"outlinewidth\":0,\"ticks\":\"\"}},\"type\":\"parcoords\"}],\"pie\":[{\"automargin\":true,\"type\":\"pie\"}],\"scatter\":[{\"marker\":{\"colorbar\":{\"outlinewidth\":0,\"ticks\":\"\"}},\"type\":\"scatter\"}],\"scatter3d\":[{\"line\":{\"colorbar\":{\"outlinewidth\":0,\"ticks\":\"\"}},\"marker\":{\"colorbar\":{\"outlinewidth\":0,\"ticks\":\"\"}},\"type\":\"scatter3d\"}],\"scattercarpet\":[{\"marker\":{\"colorbar\":{\"outlinewidth\":0,\"ticks\":\"\"}},\"type\":\"scattercarpet\"}],\"scattergeo\":[{\"marker\":{\"colorbar\":{\"outlinewidth\":0,\"ticks\":\"\"}},\"type\":\"scattergeo\"}],\"scattergl\":[{\"marker\":{\"colorbar\":{\"outlinewidth\":0,\"ticks\":\"\"}},\"type\":\"scattergl\"}],\"scattermapbox\":[{\"marker\":{\"colorbar\":{\"outlinewidth\":0,\"ticks\":\"\"}},\"type\":\"scattermapbox\"}],\"scatterpolar\":[{\"marker\":{\"colorbar\":{\"outlinewidth\":0,\"ticks\":\"\"}},\"type\":\"scatterpolar\"}],\"scatterpolargl\":[{\"marker\":{\"colorbar\":{\"outlinewidth\":0,\"ticks\":\"\"}},\"type\":\"scatterpolargl\"}],\"scatterternary\":[{\"marker\":{\"colorbar\":{\"outlinewidth\":0,\"ticks\":\"\"}},\"type\":\"scatterternary\"}],\"surface\":[{\"colorbar\":{\"outlinewidth\":0,\"ticks\":\"\"},\"colorscale\":[[0.0,\"#0d0887\"],[0.1111111111111111,\"#46039f\"],[0.2222222222222222,\"#7201a8\"],[0.3333333333333333,\"#9c179e\"],[0.4444444444444444,\"#bd3786\"],[0.5555555555555556,\"#d8576b\"],[0.6666666666666666,\"#ed7953\"],[0.7777777777777778,\"#fb9f3a\"],[0.8888888888888888,\"#fdca26\"],[1.0,\"#f0f921\"]],\"type\":\"surface\"}],\"table\":[{\"cells\":{\"fill\":{\"color\":\"#EBF0F8\"},\"line\":{\"color\":\"white\"}},\"header\":{\"fill\":{\"color\":\"#C8D4E3\"},\"line\":{\"color\":\"white\"}},\"type\":\"table\"}]},\"layout\":{\"annotationdefaults\":{\"arrowcolor\":\"#2a3f5f\",\"arrowhead\":0,\"arrowwidth\":1},\"autotypenumbers\":\"strict\",\"coloraxis\":{\"colorbar\":{\"outlinewidth\":0,\"ticks\":\"\"}},\"colorscale\":{\"diverging\":[[0,\"#8e0152\"],[0.1,\"#c51b7d\"],[0.2,\"#de77ae\"],[0.3,\"#f1b6da\"],[0.4,\"#fde0ef\"],[0.5,\"#f7f7f7\"],[0.6,\"#e6f5d0\"],[0.7,\"#b8e186\"],[0.8,\"#7fbc41\"],[0.9,\"#4d9221\"],[1,\"#276419\"]],\"sequential\":[[0.0,\"#0d0887\"],[0.1111111111111111,\"#46039f\"],[0.2222222222222222,\"#7201a8\"],[0.3333333333333333,\"#9c179e\"],[0.4444444444444444,\"#bd3786\"],[0.5555555555555556,\"#d8576b\"],[0.6666666666666666,\"#ed7953\"],[0.7777777777777778,\"#fb9f3a\"],[0.8888888888888888,\"#fdca26\"],[1.0,\"#f0f921\"]],\"sequentialminus\":[[0.0,\"#0d0887\"],[0.1111111111111111,\"#46039f\"],[0.2222222222222222,\"#7201a8\"],[0.3333333333333333,\"#9c179e\"],[0.4444444444444444,\"#bd3786\"],[0.5555555555555556,\"#d8576b\"],[0.6666666666666666,\"#ed7953\"],[0.7777777777777778,\"#fb9f3a\"],[0.8888888888888888,\"#fdca26\"],[1.0,\"#f0f921\"]]},\"colorway\":[\"#636efa\",\"#EF553B\",\"#00cc96\",\"#ab63fa\",\"#FFA15A\",\"#19d3f3\",\"#FF6692\",\"#B6E880\",\"#FF97FF\",\"#FECB52\"],\"font\":{\"color\":\"#2a3f5f\"},\"geo\":{\"bgcolor\":\"white\",\"lakecolor\":\"white\",\"landcolor\":\"#E5ECF6\",\"showlakes\":true,\"showland\":true,\"subunitcolor\":\"white\"},\"hoverlabel\":{\"align\":\"left\"},\"hovermode\":\"closest\",\"mapbox\":{\"style\":\"light\"},\"paper_bgcolor\":\"white\",\"plot_bgcolor\":\"#E5ECF6\",\"polar\":{\"angularaxis\":{\"gridcolor\":\"white\",\"linecolor\":\"white\",\"ticks\":\"\"},\"bgcolor\":\"#E5ECF6\",\"radialaxis\":{\"gridcolor\":\"white\",\"linecolor\":\"white\",\"ticks\":\"\"}},\"scene\":{\"xaxis\":{\"backgroundcolor\":\"#E5ECF6\",\"gridcolor\":\"white\",\"gridwidth\":2,\"linecolor\":\"white\",\"showbackground\":true,\"ticks\":\"\",\"zerolinecolor\":\"white\"},\"yaxis\":{\"backgroundcolor\":\"#E5ECF6\",\"gridcolor\":\"white\",\"gridwidth\":2,\"linecolor\":\"white\",\"showbackground\":true,\"ticks\":\"\",\"zerolinecolor\":\"white\"},\"zaxis\":{\"backgroundcolor\":\"#E5ECF6\",\"gridcolor\":\"white\",\"gridwidth\":2,\"linecolor\":\"white\",\"showbackground\":true,\"ticks\":\"\",\"zerolinecolor\":\"white\"}},\"shapedefaults\":{\"line\":{\"color\":\"#2a3f5f\"}},\"ternary\":{\"aaxis\":{\"gridcolor\":\"white\",\"linecolor\":\"white\",\"ticks\":\"\"},\"baxis\":{\"gridcolor\":\"white\",\"linecolor\":\"white\",\"ticks\":\"\"},\"bgcolor\":\"#E5ECF6\",\"caxis\":{\"gridcolor\":\"white\",\"linecolor\":\"white\",\"ticks\":\"\"}},\"title\":{\"x\":0.05},\"xaxis\":{\"automargin\":true,\"gridcolor\":\"white\",\"linecolor\":\"white\",\"ticks\":\"\",\"title\":{\"standoff\":15},\"zerolinecolor\":\"white\",\"zerolinewidth\":2},\"yaxis\":{\"automargin\":true,\"gridcolor\":\"white\",\"linecolor\":\"white\",\"ticks\":\"\",\"title\":{\"standoff\":15},\"zerolinecolor\":\"white\",\"zerolinewidth\":2}}},\"legend\":{\"x\":0,\"y\":1.1,\"orientation\":\"h\"}},                        {\"responsive\": true}                    ).then(function(){\n",
       "                            Plotly.addFrames('262f99bf-1c7d-47bb-8937-24482de6f293', [{\"data\":[{\"x\":[],\"y\":[],\"type\":\"scatter\"},{\"x\":[],\"y\":[],\"type\":\"scatter\"}]},{\"data\":[{\"x\":[\"2022-01-20\"],\"y\":[83.87096774193549],\"type\":\"scatter\"},{\"x\":[\"2022-01-20\"],\"y\":[16.129032258064516],\"type\":\"scatter\"}]},{\"data\":[{\"x\":[\"2022-01-20\",\"2022-01-21\"],\"y\":[83.87096774193549,69.23076923076923],\"type\":\"scatter\"},{\"x\":[\"2022-01-20\",\"2022-01-21\"],\"y\":[16.129032258064516,30.76923076923077],\"type\":\"scatter\"}]},{\"data\":[{\"x\":[\"2022-01-20\",\"2022-01-21\",\"2022-01-22\"],\"y\":[83.87096774193549,69.23076923076923,68.42105263157895],\"type\":\"scatter\"},{\"x\":[\"2022-01-20\",\"2022-01-21\",\"2022-01-22\"],\"y\":[16.129032258064516,30.76923076923077,31.57894736842105],\"type\":\"scatter\"}]},{\"data\":[{\"x\":[\"2022-01-20\",\"2022-01-21\",\"2022-01-22\",\"2022-01-23\"],\"y\":[83.87096774193549,69.23076923076923,68.42105263157895,69.0909090909091],\"type\":\"scatter\"},{\"x\":[\"2022-01-20\",\"2022-01-21\",\"2022-01-22\",\"2022-01-23\"],\"y\":[16.129032258064516,30.76923076923077,31.57894736842105,30.909090909090907],\"type\":\"scatter\"}]},{\"data\":[{\"x\":[\"2022-01-20\",\"2022-01-21\",\"2022-01-22\",\"2022-01-23\",\"2022-01-24\"],\"y\":[83.87096774193549,69.23076923076923,68.42105263157895,69.0909090909091,73.17073170731707],\"type\":\"scatter\"},{\"x\":[\"2022-01-20\",\"2022-01-21\",\"2022-01-22\",\"2022-01-23\",\"2022-01-24\"],\"y\":[16.129032258064516,30.76923076923077,31.57894736842105,30.909090909090907,26.82926829268293],\"type\":\"scatter\"}]},{\"data\":[{\"x\":[\"2022-01-20\",\"2022-01-21\",\"2022-01-22\",\"2022-01-23\",\"2022-01-24\",\"2022-01-25\"],\"y\":[83.87096774193549,69.23076923076923,68.42105263157895,69.0909090909091,73.17073170731707,84.0909090909091],\"type\":\"scatter\"},{\"x\":[\"2022-01-20\",\"2022-01-21\",\"2022-01-22\",\"2022-01-23\",\"2022-01-24\",\"2022-01-25\"],\"y\":[16.129032258064516,30.76923076923077,31.57894736842105,30.909090909090907,26.82926829268293,15.909090909090908],\"type\":\"scatter\"}]},{\"data\":[{\"x\":[\"2022-01-20\",\"2022-01-21\",\"2022-01-22\",\"2022-01-23\",\"2022-01-24\",\"2022-01-25\",\"2022-01-26\"],\"y\":[83.87096774193549,69.23076923076923,68.42105263157895,69.0909090909091,73.17073170731707,84.0909090909091,87.5],\"type\":\"scatter\"},{\"x\":[\"2022-01-20\",\"2022-01-21\",\"2022-01-22\",\"2022-01-23\",\"2022-01-24\",\"2022-01-25\",\"2022-01-26\"],\"y\":[16.129032258064516,30.76923076923077,31.57894736842105,30.909090909090907,26.82926829268293,15.909090909090908,12.5],\"type\":\"scatter\"}]},{\"data\":[{\"x\":[\"2022-01-20\",\"2022-01-21\",\"2022-01-22\",\"2022-01-23\",\"2022-01-24\",\"2022-01-25\",\"2022-01-26\",\"2022-01-27\"],\"y\":[83.87096774193549,69.23076923076923,68.42105263157895,69.0909090909091,73.17073170731707,84.0909090909091,87.5,65.38461538461539],\"type\":\"scatter\"},{\"x\":[\"2022-01-20\",\"2022-01-21\",\"2022-01-22\",\"2022-01-23\",\"2022-01-24\",\"2022-01-25\",\"2022-01-26\",\"2022-01-27\"],\"y\":[16.129032258064516,30.76923076923077,31.57894736842105,30.909090909090907,26.82926829268293,15.909090909090908,12.5,34.61538461538461],\"type\":\"scatter\"}]},{\"data\":[{\"x\":[\"2022-01-20\",\"2022-01-21\",\"2022-01-22\",\"2022-01-23\",\"2022-01-24\",\"2022-01-25\",\"2022-01-26\",\"2022-01-27\",\"2022-01-28\"],\"y\":[83.87096774193549,69.23076923076923,68.42105263157895,69.0909090909091,73.17073170731707,84.0909090909091,87.5,65.38461538461539,71.42857142857143],\"type\":\"scatter\"},{\"x\":[\"2022-01-20\",\"2022-01-21\",\"2022-01-22\",\"2022-01-23\",\"2022-01-24\",\"2022-01-25\",\"2022-01-26\",\"2022-01-27\",\"2022-01-28\"],\"y\":[16.129032258064516,30.76923076923077,31.57894736842105,30.909090909090907,26.82926829268293,15.909090909090908,12.5,34.61538461538461,28.57142857142857],\"type\":\"scatter\"}]},{\"data\":[{\"x\":[\"2022-01-20\",\"2022-01-21\",\"2022-01-22\",\"2022-01-23\",\"2022-01-24\",\"2022-01-25\",\"2022-01-26\",\"2022-01-27\",\"2022-01-28\",\"2022-01-29\"],\"y\":[83.87096774193549,69.23076923076923,68.42105263157895,69.0909090909091,73.17073170731707,84.0909090909091,87.5,65.38461538461539,71.42857142857143,73.61111111111111],\"type\":\"scatter\"},{\"x\":[\"2022-01-20\",\"2022-01-21\",\"2022-01-22\",\"2022-01-23\",\"2022-01-24\",\"2022-01-25\",\"2022-01-26\",\"2022-01-27\",\"2022-01-28\",\"2022-01-29\"],\"y\":[16.129032258064516,30.76923076923077,31.57894736842105,30.909090909090907,26.82926829268293,15.909090909090908,12.5,34.61538461538461,28.57142857142857,26.38888888888889],\"type\":\"scatter\"}]},{\"data\":[{\"x\":[\"2022-01-20\",\"2022-01-21\",\"2022-01-22\",\"2022-01-23\",\"2022-01-24\",\"2022-01-25\",\"2022-01-26\",\"2022-01-27\",\"2022-01-28\",\"2022-01-29\",\"2022-01-30\"],\"y\":[83.87096774193549,69.23076923076923,68.42105263157895,69.0909090909091,73.17073170731707,84.0909090909091,87.5,65.38461538461539,71.42857142857143,73.61111111111111,76.0],\"type\":\"scatter\"},{\"x\":[\"2022-01-20\",\"2022-01-21\",\"2022-01-22\",\"2022-01-23\",\"2022-01-24\",\"2022-01-25\",\"2022-01-26\",\"2022-01-27\",\"2022-01-28\",\"2022-01-29\",\"2022-01-30\"],\"y\":[16.129032258064516,30.76923076923077,31.57894736842105,30.909090909090907,26.82926829268293,15.909090909090908,12.5,34.61538461538461,28.57142857142857,26.38888888888889,24.0],\"type\":\"scatter\"}]},{\"data\":[{\"x\":[\"2022-01-20\",\"2022-01-21\",\"2022-01-22\",\"2022-01-23\",\"2022-01-24\",\"2022-01-25\",\"2022-01-26\",\"2022-01-27\",\"2022-01-28\",\"2022-01-29\",\"2022-01-30\",\"2022-01-31\"],\"y\":[83.87096774193549,69.23076923076923,68.42105263157895,69.0909090909091,73.17073170731707,84.0909090909091,87.5,65.38461538461539,71.42857142857143,73.61111111111111,76.0,72.72727272727273],\"type\":\"scatter\"},{\"x\":[\"2022-01-20\",\"2022-01-21\",\"2022-01-22\",\"2022-01-23\",\"2022-01-24\",\"2022-01-25\",\"2022-01-26\",\"2022-01-27\",\"2022-01-28\",\"2022-01-29\",\"2022-01-30\",\"2022-01-31\"],\"y\":[16.129032258064516,30.76923076923077,31.57894736842105,30.909090909090907,26.82926829268293,15.909090909090908,12.5,34.61538461538461,28.57142857142857,26.38888888888889,24.0,27.27272727272727],\"type\":\"scatter\"}]},{\"data\":[{\"x\":[\"2022-01-20\",\"2022-01-21\",\"2022-01-22\",\"2022-01-23\",\"2022-01-24\",\"2022-01-25\",\"2022-01-26\",\"2022-01-27\",\"2022-01-28\",\"2022-01-29\",\"2022-01-30\",\"2022-01-31\",\"2022-02-01\"],\"y\":[83.87096774193549,69.23076923076923,68.42105263157895,69.0909090909091,73.17073170731707,84.0909090909091,87.5,65.38461538461539,71.42857142857143,73.61111111111111,76.0,72.72727272727273,71.42857142857143],\"type\":\"scatter\"},{\"x\":[\"2022-01-20\",\"2022-01-21\",\"2022-01-22\",\"2022-01-23\",\"2022-01-24\",\"2022-01-25\",\"2022-01-26\",\"2022-01-27\",\"2022-01-28\",\"2022-01-29\",\"2022-01-30\",\"2022-01-31\",\"2022-02-01\"],\"y\":[16.129032258064516,30.76923076923077,31.57894736842105,30.909090909090907,26.82926829268293,15.909090909090908,12.5,34.61538461538461,28.57142857142857,26.38888888888889,24.0,27.27272727272727,28.57142857142857],\"type\":\"scatter\"}]},{\"data\":[{\"x\":[\"2022-01-20\",\"2022-01-21\",\"2022-01-22\",\"2022-01-23\",\"2022-01-24\",\"2022-01-25\",\"2022-01-26\",\"2022-01-27\",\"2022-01-28\",\"2022-01-29\",\"2022-01-30\",\"2022-01-31\",\"2022-02-01\",\"2022-02-02\"],\"y\":[83.87096774193549,69.23076923076923,68.42105263157895,69.0909090909091,73.17073170731707,84.0909090909091,87.5,65.38461538461539,71.42857142857143,73.61111111111111,76.0,72.72727272727273,71.42857142857143,66.66666666666666],\"type\":\"scatter\"},{\"x\":[\"2022-01-20\",\"2022-01-21\",\"2022-01-22\",\"2022-01-23\",\"2022-01-24\",\"2022-01-25\",\"2022-01-26\",\"2022-01-27\",\"2022-01-28\",\"2022-01-29\",\"2022-01-30\",\"2022-01-31\",\"2022-02-01\",\"2022-02-02\"],\"y\":[16.129032258064516,30.76923076923077,31.57894736842105,30.909090909090907,26.82926829268293,15.909090909090908,12.5,34.61538461538461,28.57142857142857,26.38888888888889,24.0,27.27272727272727,28.57142857142857,33.33333333333333],\"type\":\"scatter\"}]},{\"data\":[{\"x\":[\"2022-01-20\",\"2022-01-21\",\"2022-01-22\",\"2022-01-23\",\"2022-01-24\",\"2022-01-25\",\"2022-01-26\",\"2022-01-27\",\"2022-01-28\",\"2022-01-29\",\"2022-01-30\",\"2022-01-31\",\"2022-02-01\",\"2022-02-02\",\"2022-02-03\"],\"y\":[83.87096774193549,69.23076923076923,68.42105263157895,69.0909090909091,73.17073170731707,84.0909090909091,87.5,65.38461538461539,71.42857142857143,73.61111111111111,76.0,72.72727272727273,71.42857142857143,66.66666666666666,75.60975609756098],\"type\":\"scatter\"},{\"x\":[\"2022-01-20\",\"2022-01-21\",\"2022-01-22\",\"2022-01-23\",\"2022-01-24\",\"2022-01-25\",\"2022-01-26\",\"2022-01-27\",\"2022-01-28\",\"2022-01-29\",\"2022-01-30\",\"2022-01-31\",\"2022-02-01\",\"2022-02-02\",\"2022-02-03\"],\"y\":[16.129032258064516,30.76923076923077,31.57894736842105,30.909090909090907,26.82926829268293,15.909090909090908,12.5,34.61538461538461,28.57142857142857,26.38888888888889,24.0,27.27272727272727,28.57142857142857,33.33333333333333,24.390243902439025],\"type\":\"scatter\"}]},{\"data\":[{\"x\":[\"2022-01-20\",\"2022-01-21\",\"2022-01-22\",\"2022-01-23\",\"2022-01-24\",\"2022-01-25\",\"2022-01-26\",\"2022-01-27\",\"2022-01-28\",\"2022-01-29\",\"2022-01-30\",\"2022-01-31\",\"2022-02-01\",\"2022-02-02\",\"2022-02-03\",\"2022-02-04\"],\"y\":[83.87096774193549,69.23076923076923,68.42105263157895,69.0909090909091,73.17073170731707,84.0909090909091,87.5,65.38461538461539,71.42857142857143,73.61111111111111,76.0,72.72727272727273,71.42857142857143,66.66666666666666,75.60975609756098,68.75],\"type\":\"scatter\"},{\"x\":[\"2022-01-20\",\"2022-01-21\",\"2022-01-22\",\"2022-01-23\",\"2022-01-24\",\"2022-01-25\",\"2022-01-26\",\"2022-01-27\",\"2022-01-28\",\"2022-01-29\",\"2022-01-30\",\"2022-01-31\",\"2022-02-01\",\"2022-02-02\",\"2022-02-03\",\"2022-02-04\"],\"y\":[16.129032258064516,30.76923076923077,31.57894736842105,30.909090909090907,26.82926829268293,15.909090909090908,12.5,34.61538461538461,28.57142857142857,26.38888888888889,24.0,27.27272727272727,28.57142857142857,33.33333333333333,24.390243902439025,31.25],\"type\":\"scatter\"}]},{\"data\":[{\"x\":[\"2022-01-20\",\"2022-01-21\",\"2022-01-22\",\"2022-01-23\",\"2022-01-24\",\"2022-01-25\",\"2022-01-26\",\"2022-01-27\",\"2022-01-28\",\"2022-01-29\",\"2022-01-30\",\"2022-01-31\",\"2022-02-01\",\"2022-02-02\",\"2022-02-03\",\"2022-02-04\",\"2022-02-05\"],\"y\":[83.87096774193549,69.23076923076923,68.42105263157895,69.0909090909091,73.17073170731707,84.0909090909091,87.5,65.38461538461539,71.42857142857143,73.61111111111111,76.0,72.72727272727273,71.42857142857143,66.66666666666666,75.60975609756098,68.75,60.0],\"type\":\"scatter\"},{\"x\":[\"2022-01-20\",\"2022-01-21\",\"2022-01-22\",\"2022-01-23\",\"2022-01-24\",\"2022-01-25\",\"2022-01-26\",\"2022-01-27\",\"2022-01-28\",\"2022-01-29\",\"2022-01-30\",\"2022-01-31\",\"2022-02-01\",\"2022-02-02\",\"2022-02-03\",\"2022-02-04\",\"2022-02-05\"],\"y\":[16.129032258064516,30.76923076923077,31.57894736842105,30.909090909090907,26.82926829268293,15.909090909090908,12.5,34.61538461538461,28.57142857142857,26.38888888888889,24.0,27.27272727272727,28.57142857142857,33.33333333333333,24.390243902439025,31.25,40.0],\"type\":\"scatter\"}]},{\"data\":[{\"x\":[\"2022-01-20\",\"2022-01-21\",\"2022-01-22\",\"2022-01-23\",\"2022-01-24\",\"2022-01-25\",\"2022-01-26\",\"2022-01-27\",\"2022-01-28\",\"2022-01-29\",\"2022-01-30\",\"2022-01-31\",\"2022-02-01\",\"2022-02-02\",\"2022-02-03\",\"2022-02-04\",\"2022-02-05\",\"2022-02-06\"],\"y\":[83.87096774193549,69.23076923076923,68.42105263157895,69.0909090909091,73.17073170731707,84.0909090909091,87.5,65.38461538461539,71.42857142857143,73.61111111111111,76.0,72.72727272727273,71.42857142857143,66.66666666666666,75.60975609756098,68.75,60.0,77.38095238095238],\"type\":\"scatter\"},{\"x\":[\"2022-01-20\",\"2022-01-21\",\"2022-01-22\",\"2022-01-23\",\"2022-01-24\",\"2022-01-25\",\"2022-01-26\",\"2022-01-27\",\"2022-01-28\",\"2022-01-29\",\"2022-01-30\",\"2022-01-31\",\"2022-02-01\",\"2022-02-02\",\"2022-02-03\",\"2022-02-04\",\"2022-02-05\",\"2022-02-06\"],\"y\":[16.129032258064516,30.76923076923077,31.57894736842105,30.909090909090907,26.82926829268293,15.909090909090908,12.5,34.61538461538461,28.57142857142857,26.38888888888889,24.0,27.27272727272727,28.57142857142857,33.33333333333333,24.390243902439025,31.25,40.0,22.61904761904762],\"type\":\"scatter\"}]},{\"data\":[{\"x\":[\"2022-01-20\",\"2022-01-21\",\"2022-01-22\",\"2022-01-23\",\"2022-01-24\",\"2022-01-25\",\"2022-01-26\",\"2022-01-27\",\"2022-01-28\",\"2022-01-29\",\"2022-01-30\",\"2022-01-31\",\"2022-02-01\",\"2022-02-02\",\"2022-02-03\",\"2022-02-04\",\"2022-02-05\",\"2022-02-06\",\"2022-02-07\"],\"y\":[83.87096774193549,69.23076923076923,68.42105263157895,69.0909090909091,73.17073170731707,84.0909090909091,87.5,65.38461538461539,71.42857142857143,73.61111111111111,76.0,72.72727272727273,71.42857142857143,66.66666666666666,75.60975609756098,68.75,60.0,77.38095238095238,62.19512195121951],\"type\":\"scatter\"},{\"x\":[\"2022-01-20\",\"2022-01-21\",\"2022-01-22\",\"2022-01-23\",\"2022-01-24\",\"2022-01-25\",\"2022-01-26\",\"2022-01-27\",\"2022-01-28\",\"2022-01-29\",\"2022-01-30\",\"2022-01-31\",\"2022-02-01\",\"2022-02-02\",\"2022-02-03\",\"2022-02-04\",\"2022-02-05\",\"2022-02-06\",\"2022-02-07\"],\"y\":[16.129032258064516,30.76923076923077,31.57894736842105,30.909090909090907,26.82926829268293,15.909090909090908,12.5,34.61538461538461,28.57142857142857,26.38888888888889,24.0,27.27272727272727,28.57142857142857,33.33333333333333,24.390243902439025,31.25,40.0,22.61904761904762,37.80487804878049],\"type\":\"scatter\"}]},{\"data\":[{\"x\":[\"2022-01-20\",\"2022-01-21\",\"2022-01-22\",\"2022-01-23\",\"2022-01-24\",\"2022-01-25\",\"2022-01-26\",\"2022-01-27\",\"2022-01-28\",\"2022-01-29\",\"2022-01-30\",\"2022-01-31\",\"2022-02-01\",\"2022-02-02\",\"2022-02-03\",\"2022-02-04\",\"2022-02-05\",\"2022-02-06\",\"2022-02-07\",\"2022-02-08\"],\"y\":[83.87096774193549,69.23076923076923,68.42105263157895,69.0909090909091,73.17073170731707,84.0909090909091,87.5,65.38461538461539,71.42857142857143,73.61111111111111,76.0,72.72727272727273,71.42857142857143,66.66666666666666,75.60975609756098,68.75,60.0,77.38095238095238,62.19512195121951,81.81818181818183],\"type\":\"scatter\"},{\"x\":[\"2022-01-20\",\"2022-01-21\",\"2022-01-22\",\"2022-01-23\",\"2022-01-24\",\"2022-01-25\",\"2022-01-26\",\"2022-01-27\",\"2022-01-28\",\"2022-01-29\",\"2022-01-30\",\"2022-01-31\",\"2022-02-01\",\"2022-02-02\",\"2022-02-03\",\"2022-02-04\",\"2022-02-05\",\"2022-02-06\",\"2022-02-07\",\"2022-02-08\"],\"y\":[16.129032258064516,30.76923076923077,31.57894736842105,30.909090909090907,26.82926829268293,15.909090909090908,12.5,34.61538461538461,28.57142857142857,26.38888888888889,24.0,27.27272727272727,28.57142857142857,33.33333333333333,24.390243902439025,31.25,40.0,22.61904761904762,37.80487804878049,18.181818181818183],\"type\":\"scatter\"}]},{\"data\":[{\"x\":[\"2022-01-20\",\"2022-01-21\",\"2022-01-22\",\"2022-01-23\",\"2022-01-24\",\"2022-01-25\",\"2022-01-26\",\"2022-01-27\",\"2022-01-28\",\"2022-01-29\",\"2022-01-30\",\"2022-01-31\",\"2022-02-01\",\"2022-02-02\",\"2022-02-03\",\"2022-02-04\",\"2022-02-05\",\"2022-02-06\",\"2022-02-07\",\"2022-02-08\",\"2022-02-09\"],\"y\":[83.87096774193549,69.23076923076923,68.42105263157895,69.0909090909091,73.17073170731707,84.0909090909091,87.5,65.38461538461539,71.42857142857143,73.61111111111111,76.0,72.72727272727273,71.42857142857143,66.66666666666666,75.60975609756098,68.75,60.0,77.38095238095238,62.19512195121951,81.81818181818183,72.22222222222221],\"type\":\"scatter\"},{\"x\":[\"2022-01-20\",\"2022-01-21\",\"2022-01-22\",\"2022-01-23\",\"2022-01-24\",\"2022-01-25\",\"2022-01-26\",\"2022-01-27\",\"2022-01-28\",\"2022-01-29\",\"2022-01-30\",\"2022-01-31\",\"2022-02-01\",\"2022-02-02\",\"2022-02-03\",\"2022-02-04\",\"2022-02-05\",\"2022-02-06\",\"2022-02-07\",\"2022-02-08\",\"2022-02-09\"],\"y\":[16.129032258064516,30.76923076923077,31.57894736842105,30.909090909090907,26.82926829268293,15.909090909090908,12.5,34.61538461538461,28.57142857142857,26.38888888888889,24.0,27.27272727272727,28.57142857142857,33.33333333333333,24.390243902439025,31.25,40.0,22.61904761904762,37.80487804878049,18.181818181818183,27.77777777777778],\"type\":\"scatter\"}]},{\"data\":[{\"x\":[\"2022-01-20\",\"2022-01-21\",\"2022-01-22\",\"2022-01-23\",\"2022-01-24\",\"2022-01-25\",\"2022-01-26\",\"2022-01-27\",\"2022-01-28\",\"2022-01-29\",\"2022-01-30\",\"2022-01-31\",\"2022-02-01\",\"2022-02-02\",\"2022-02-03\",\"2022-02-04\",\"2022-02-05\",\"2022-02-06\",\"2022-02-07\",\"2022-02-08\",\"2022-02-09\",\"2022-02-10\"],\"y\":[83.87096774193549,69.23076923076923,68.42105263157895,69.0909090909091,73.17073170731707,84.0909090909091,87.5,65.38461538461539,71.42857142857143,73.61111111111111,76.0,72.72727272727273,71.42857142857143,66.66666666666666,75.60975609756098,68.75,60.0,77.38095238095238,62.19512195121951,81.81818181818183,72.22222222222221,66.66666666666666],\"type\":\"scatter\"},{\"x\":[\"2022-01-20\",\"2022-01-21\",\"2022-01-22\",\"2022-01-23\",\"2022-01-24\",\"2022-01-25\",\"2022-01-26\",\"2022-01-27\",\"2022-01-28\",\"2022-01-29\",\"2022-01-30\",\"2022-01-31\",\"2022-02-01\",\"2022-02-02\",\"2022-02-03\",\"2022-02-04\",\"2022-02-05\",\"2022-02-06\",\"2022-02-07\",\"2022-02-08\",\"2022-02-09\",\"2022-02-10\"],\"y\":[16.129032258064516,30.76923076923077,31.57894736842105,30.909090909090907,26.82926829268293,15.909090909090908,12.5,34.61538461538461,28.57142857142857,26.38888888888889,24.0,27.27272727272727,28.57142857142857,33.33333333333333,24.390243902439025,31.25,40.0,22.61904761904762,37.80487804878049,18.181818181818183,27.77777777777778,33.33333333333333],\"type\":\"scatter\"}]},{\"data\":[{\"x\":[\"2022-01-20\",\"2022-01-21\",\"2022-01-22\",\"2022-01-23\",\"2022-01-24\",\"2022-01-25\",\"2022-01-26\",\"2022-01-27\",\"2022-01-28\",\"2022-01-29\",\"2022-01-30\",\"2022-01-31\",\"2022-02-01\",\"2022-02-02\",\"2022-02-03\",\"2022-02-04\",\"2022-02-05\",\"2022-02-06\",\"2022-02-07\",\"2022-02-08\",\"2022-02-09\",\"2022-02-10\",\"2022-02-11\"],\"y\":[83.87096774193549,69.23076923076923,68.42105263157895,69.0909090909091,73.17073170731707,84.0909090909091,87.5,65.38461538461539,71.42857142857143,73.61111111111111,76.0,72.72727272727273,71.42857142857143,66.66666666666666,75.60975609756098,68.75,60.0,77.38095238095238,62.19512195121951,81.81818181818183,72.22222222222221,66.66666666666666,75.0],\"type\":\"scatter\"},{\"x\":[\"2022-01-20\",\"2022-01-21\",\"2022-01-22\",\"2022-01-23\",\"2022-01-24\",\"2022-01-25\",\"2022-01-26\",\"2022-01-27\",\"2022-01-28\",\"2022-01-29\",\"2022-01-30\",\"2022-01-31\",\"2022-02-01\",\"2022-02-02\",\"2022-02-03\",\"2022-02-04\",\"2022-02-05\",\"2022-02-06\",\"2022-02-07\",\"2022-02-08\",\"2022-02-09\",\"2022-02-10\",\"2022-02-11\"],\"y\":[16.129032258064516,30.76923076923077,31.57894736842105,30.909090909090907,26.82926829268293,15.909090909090908,12.5,34.61538461538461,28.57142857142857,26.38888888888889,24.0,27.27272727272727,28.57142857142857,33.33333333333333,24.390243902439025,31.25,40.0,22.61904761904762,37.80487804878049,18.181818181818183,27.77777777777778,33.33333333333333,25.0],\"type\":\"scatter\"}]},{\"data\":[{\"x\":[\"2022-01-20\",\"2022-01-21\",\"2022-01-22\",\"2022-01-23\",\"2022-01-24\",\"2022-01-25\",\"2022-01-26\",\"2022-01-27\",\"2022-01-28\",\"2022-01-29\",\"2022-01-30\",\"2022-01-31\",\"2022-02-01\",\"2022-02-02\",\"2022-02-03\",\"2022-02-04\",\"2022-02-05\",\"2022-02-06\",\"2022-02-07\",\"2022-02-08\",\"2022-02-09\",\"2022-02-10\",\"2022-02-11\",\"2022-02-12\"],\"y\":[83.87096774193549,69.23076923076923,68.42105263157895,69.0909090909091,73.17073170731707,84.0909090909091,87.5,65.38461538461539,71.42857142857143,73.61111111111111,76.0,72.72727272727273,71.42857142857143,66.66666666666666,75.60975609756098,68.75,60.0,77.38095238095238,62.19512195121951,81.81818181818183,72.22222222222221,66.66666666666666,75.0,54.90196078431373],\"type\":\"scatter\"},{\"x\":[\"2022-01-20\",\"2022-01-21\",\"2022-01-22\",\"2022-01-23\",\"2022-01-24\",\"2022-01-25\",\"2022-01-26\",\"2022-01-27\",\"2022-01-28\",\"2022-01-29\",\"2022-01-30\",\"2022-01-31\",\"2022-02-01\",\"2022-02-02\",\"2022-02-03\",\"2022-02-04\",\"2022-02-05\",\"2022-02-06\",\"2022-02-07\",\"2022-02-08\",\"2022-02-09\",\"2022-02-10\",\"2022-02-11\",\"2022-02-12\"],\"y\":[16.129032258064516,30.76923076923077,31.57894736842105,30.909090909090907,26.82926829268293,15.909090909090908,12.5,34.61538461538461,28.57142857142857,26.38888888888889,24.0,27.27272727272727,28.57142857142857,33.33333333333333,24.390243902439025,31.25,40.0,22.61904761904762,37.80487804878049,18.181818181818183,27.77777777777778,33.33333333333333,25.0,45.09803921568628],\"type\":\"scatter\"}]},{\"data\":[{\"x\":[\"2022-01-20\",\"2022-01-21\",\"2022-01-22\",\"2022-01-23\",\"2022-01-24\",\"2022-01-25\",\"2022-01-26\",\"2022-01-27\",\"2022-01-28\",\"2022-01-29\",\"2022-01-30\",\"2022-01-31\",\"2022-02-01\",\"2022-02-02\",\"2022-02-03\",\"2022-02-04\",\"2022-02-05\",\"2022-02-06\",\"2022-02-07\",\"2022-02-08\",\"2022-02-09\",\"2022-02-10\",\"2022-02-11\",\"2022-02-12\",\"2022-02-13\"],\"y\":[83.87096774193549,69.23076923076923,68.42105263157895,69.0909090909091,73.17073170731707,84.0909090909091,87.5,65.38461538461539,71.42857142857143,73.61111111111111,76.0,72.72727272727273,71.42857142857143,66.66666666666666,75.60975609756098,68.75,60.0,77.38095238095238,62.19512195121951,81.81818181818183,72.22222222222221,66.66666666666666,75.0,54.90196078431373,81.48148148148148],\"type\":\"scatter\"},{\"x\":[\"2022-01-20\",\"2022-01-21\",\"2022-01-22\",\"2022-01-23\",\"2022-01-24\",\"2022-01-25\",\"2022-01-26\",\"2022-01-27\",\"2022-01-28\",\"2022-01-29\",\"2022-01-30\",\"2022-01-31\",\"2022-02-01\",\"2022-02-02\",\"2022-02-03\",\"2022-02-04\",\"2022-02-05\",\"2022-02-06\",\"2022-02-07\",\"2022-02-08\",\"2022-02-09\",\"2022-02-10\",\"2022-02-11\",\"2022-02-12\",\"2022-02-13\"],\"y\":[16.129032258064516,30.76923076923077,31.57894736842105,30.909090909090907,26.82926829268293,15.909090909090908,12.5,34.61538461538461,28.57142857142857,26.38888888888889,24.0,27.27272727272727,28.57142857142857,33.33333333333333,24.390243902439025,31.25,40.0,22.61904761904762,37.80487804878049,18.181818181818183,27.77777777777778,33.33333333333333,25.0,45.09803921568628,18.51851851851852],\"type\":\"scatter\"}]},{\"data\":[{\"x\":[\"2022-01-20\",\"2022-01-21\",\"2022-01-22\",\"2022-01-23\",\"2022-01-24\",\"2022-01-25\",\"2022-01-26\",\"2022-01-27\",\"2022-01-28\",\"2022-01-29\",\"2022-01-30\",\"2022-01-31\",\"2022-02-01\",\"2022-02-02\",\"2022-02-03\",\"2022-02-04\",\"2022-02-05\",\"2022-02-06\",\"2022-02-07\",\"2022-02-08\",\"2022-02-09\",\"2022-02-10\",\"2022-02-11\",\"2022-02-12\",\"2022-02-13\",\"2022-02-14\"],\"y\":[83.87096774193549,69.23076923076923,68.42105263157895,69.0909090909091,73.17073170731707,84.0909090909091,87.5,65.38461538461539,71.42857142857143,73.61111111111111,76.0,72.72727272727273,71.42857142857143,66.66666666666666,75.60975609756098,68.75,60.0,77.38095238095238,62.19512195121951,81.81818181818183,72.22222222222221,66.66666666666666,75.0,54.90196078431373,81.48148148148148,61.25000000000001],\"type\":\"scatter\"},{\"x\":[\"2022-01-20\",\"2022-01-21\",\"2022-01-22\",\"2022-01-23\",\"2022-01-24\",\"2022-01-25\",\"2022-01-26\",\"2022-01-27\",\"2022-01-28\",\"2022-01-29\",\"2022-01-30\",\"2022-01-31\",\"2022-02-01\",\"2022-02-02\",\"2022-02-03\",\"2022-02-04\",\"2022-02-05\",\"2022-02-06\",\"2022-02-07\",\"2022-02-08\",\"2022-02-09\",\"2022-02-10\",\"2022-02-11\",\"2022-02-12\",\"2022-02-13\",\"2022-02-14\"],\"y\":[16.129032258064516,30.76923076923077,31.57894736842105,30.909090909090907,26.82926829268293,15.909090909090908,12.5,34.61538461538461,28.57142857142857,26.38888888888889,24.0,27.27272727272727,28.57142857142857,33.33333333333333,24.390243902439025,31.25,40.0,22.61904761904762,37.80487804878049,18.181818181818183,27.77777777777778,33.33333333333333,25.0,45.09803921568628,18.51851851851852,38.75],\"type\":\"scatter\"}]},{\"data\":[{\"x\":[\"2022-01-20\",\"2022-01-21\",\"2022-01-22\",\"2022-01-23\",\"2022-01-24\",\"2022-01-25\",\"2022-01-26\",\"2022-01-27\",\"2022-01-28\",\"2022-01-29\",\"2022-01-30\",\"2022-01-31\",\"2022-02-01\",\"2022-02-02\",\"2022-02-03\",\"2022-02-04\",\"2022-02-05\",\"2022-02-06\",\"2022-02-07\",\"2022-02-08\",\"2022-02-09\",\"2022-02-10\",\"2022-02-11\",\"2022-02-12\",\"2022-02-13\",\"2022-02-14\",\"2022-02-15\"],\"y\":[83.87096774193549,69.23076923076923,68.42105263157895,69.0909090909091,73.17073170731707,84.0909090909091,87.5,65.38461538461539,71.42857142857143,73.61111111111111,76.0,72.72727272727273,71.42857142857143,66.66666666666666,75.60975609756098,68.75,60.0,77.38095238095238,62.19512195121951,81.81818181818183,72.22222222222221,66.66666666666666,75.0,54.90196078431373,81.48148148148148,61.25000000000001,68.75],\"type\":\"scatter\"},{\"x\":[\"2022-01-20\",\"2022-01-21\",\"2022-01-22\",\"2022-01-23\",\"2022-01-24\",\"2022-01-25\",\"2022-01-26\",\"2022-01-27\",\"2022-01-28\",\"2022-01-29\",\"2022-01-30\",\"2022-01-31\",\"2022-02-01\",\"2022-02-02\",\"2022-02-03\",\"2022-02-04\",\"2022-02-05\",\"2022-02-06\",\"2022-02-07\",\"2022-02-08\",\"2022-02-09\",\"2022-02-10\",\"2022-02-11\",\"2022-02-12\",\"2022-02-13\",\"2022-02-14\",\"2022-02-15\"],\"y\":[16.129032258064516,30.76923076923077,31.57894736842105,30.909090909090907,26.82926829268293,15.909090909090908,12.5,34.61538461538461,28.57142857142857,26.38888888888889,24.0,27.27272727272727,28.57142857142857,33.33333333333333,24.390243902439025,31.25,40.0,22.61904761904762,37.80487804878049,18.181818181818183,27.77777777777778,33.33333333333333,25.0,45.09803921568628,18.51851851851852,38.75,31.25],\"type\":\"scatter\"}]},{\"data\":[{\"x\":[\"2022-01-20\",\"2022-01-21\",\"2022-01-22\",\"2022-01-23\",\"2022-01-24\",\"2022-01-25\",\"2022-01-26\",\"2022-01-27\",\"2022-01-28\",\"2022-01-29\",\"2022-01-30\",\"2022-01-31\",\"2022-02-01\",\"2022-02-02\",\"2022-02-03\",\"2022-02-04\",\"2022-02-05\",\"2022-02-06\",\"2022-02-07\",\"2022-02-08\",\"2022-02-09\",\"2022-02-10\",\"2022-02-11\",\"2022-02-12\",\"2022-02-13\",\"2022-02-14\",\"2022-02-15\",\"2022-02-16\"],\"y\":[83.87096774193549,69.23076923076923,68.42105263157895,69.0909090909091,73.17073170731707,84.0909090909091,87.5,65.38461538461539,71.42857142857143,73.61111111111111,76.0,72.72727272727273,71.42857142857143,66.66666666666666,75.60975609756098,68.75,60.0,77.38095238095238,62.19512195121951,81.81818181818183,72.22222222222221,66.66666666666666,75.0,54.90196078431373,81.48148148148148,61.25000000000001,68.75,60.0],\"type\":\"scatter\"},{\"x\":[\"2022-01-20\",\"2022-01-21\",\"2022-01-22\",\"2022-01-23\",\"2022-01-24\",\"2022-01-25\",\"2022-01-26\",\"2022-01-27\",\"2022-01-28\",\"2022-01-29\",\"2022-01-30\",\"2022-01-31\",\"2022-02-01\",\"2022-02-02\",\"2022-02-03\",\"2022-02-04\",\"2022-02-05\",\"2022-02-06\",\"2022-02-07\",\"2022-02-08\",\"2022-02-09\",\"2022-02-10\",\"2022-02-11\",\"2022-02-12\",\"2022-02-13\",\"2022-02-14\",\"2022-02-15\",\"2022-02-16\"],\"y\":[16.129032258064516,30.76923076923077,31.57894736842105,30.909090909090907,26.82926829268293,15.909090909090908,12.5,34.61538461538461,28.57142857142857,26.38888888888889,24.0,27.27272727272727,28.57142857142857,33.33333333333333,24.390243902439025,31.25,40.0,22.61904761904762,37.80487804878049,18.181818181818183,27.77777777777778,33.33333333333333,25.0,45.09803921568628,18.51851851851852,38.75,31.25,40.0],\"type\":\"scatter\"}]},{\"data\":[{\"x\":[\"2022-01-20\",\"2022-01-21\",\"2022-01-22\",\"2022-01-23\",\"2022-01-24\",\"2022-01-25\",\"2022-01-26\",\"2022-01-27\",\"2022-01-28\",\"2022-01-29\",\"2022-01-30\",\"2022-01-31\",\"2022-02-01\",\"2022-02-02\",\"2022-02-03\",\"2022-02-04\",\"2022-02-05\",\"2022-02-06\",\"2022-02-07\",\"2022-02-08\",\"2022-02-09\",\"2022-02-10\",\"2022-02-11\",\"2022-02-12\",\"2022-02-13\",\"2022-02-14\",\"2022-02-15\",\"2022-02-16\",\"2022-02-17\"],\"y\":[83.87096774193549,69.23076923076923,68.42105263157895,69.0909090909091,73.17073170731707,84.0909090909091,87.5,65.38461538461539,71.42857142857143,73.61111111111111,76.0,72.72727272727273,71.42857142857143,66.66666666666666,75.60975609756098,68.75,60.0,77.38095238095238,62.19512195121951,81.81818181818183,72.22222222222221,66.66666666666666,75.0,54.90196078431373,81.48148148148148,61.25000000000001,68.75,60.0,62.16216216216216],\"type\":\"scatter\"},{\"x\":[\"2022-01-20\",\"2022-01-21\",\"2022-01-22\",\"2022-01-23\",\"2022-01-24\",\"2022-01-25\",\"2022-01-26\",\"2022-01-27\",\"2022-01-28\",\"2022-01-29\",\"2022-01-30\",\"2022-01-31\",\"2022-02-01\",\"2022-02-02\",\"2022-02-03\",\"2022-02-04\",\"2022-02-05\",\"2022-02-06\",\"2022-02-07\",\"2022-02-08\",\"2022-02-09\",\"2022-02-10\",\"2022-02-11\",\"2022-02-12\",\"2022-02-13\",\"2022-02-14\",\"2022-02-15\",\"2022-02-16\",\"2022-02-17\"],\"y\":[16.129032258064516,30.76923076923077,31.57894736842105,30.909090909090907,26.82926829268293,15.909090909090908,12.5,34.61538461538461,28.57142857142857,26.38888888888889,24.0,27.27272727272727,28.57142857142857,33.33333333333333,24.390243902439025,31.25,40.0,22.61904761904762,37.80487804878049,18.181818181818183,27.77777777777778,33.33333333333333,25.0,45.09803921568628,18.51851851851852,38.75,31.25,40.0,37.83783783783784],\"type\":\"scatter\"}]},{\"data\":[{\"x\":[\"2022-01-20\",\"2022-01-21\",\"2022-01-22\",\"2022-01-23\",\"2022-01-24\",\"2022-01-25\",\"2022-01-26\",\"2022-01-27\",\"2022-01-28\",\"2022-01-29\",\"2022-01-30\",\"2022-01-31\",\"2022-02-01\",\"2022-02-02\",\"2022-02-03\",\"2022-02-04\",\"2022-02-05\",\"2022-02-06\",\"2022-02-07\",\"2022-02-08\",\"2022-02-09\",\"2022-02-10\",\"2022-02-11\",\"2022-02-12\",\"2022-02-13\",\"2022-02-14\",\"2022-02-15\",\"2022-02-16\",\"2022-02-17\",\"2022-02-18\"],\"y\":[83.87096774193549,69.23076923076923,68.42105263157895,69.0909090909091,73.17073170731707,84.0909090909091,87.5,65.38461538461539,71.42857142857143,73.61111111111111,76.0,72.72727272727273,71.42857142857143,66.66666666666666,75.60975609756098,68.75,60.0,77.38095238095238,62.19512195121951,81.81818181818183,72.22222222222221,66.66666666666666,75.0,54.90196078431373,81.48148148148148,61.25000000000001,68.75,60.0,62.16216216216216,60.0],\"type\":\"scatter\"},{\"x\":[\"2022-01-20\",\"2022-01-21\",\"2022-01-22\",\"2022-01-23\",\"2022-01-24\",\"2022-01-25\",\"2022-01-26\",\"2022-01-27\",\"2022-01-28\",\"2022-01-29\",\"2022-01-30\",\"2022-01-31\",\"2022-02-01\",\"2022-02-02\",\"2022-02-03\",\"2022-02-04\",\"2022-02-05\",\"2022-02-06\",\"2022-02-07\",\"2022-02-08\",\"2022-02-09\",\"2022-02-10\",\"2022-02-11\",\"2022-02-12\",\"2022-02-13\",\"2022-02-14\",\"2022-02-15\",\"2022-02-16\",\"2022-02-17\",\"2022-02-18\"],\"y\":[16.129032258064516,30.76923076923077,31.57894736842105,30.909090909090907,26.82926829268293,15.909090909090908,12.5,34.61538461538461,28.57142857142857,26.38888888888889,24.0,27.27272727272727,28.57142857142857,33.33333333333333,24.390243902439025,31.25,40.0,22.61904761904762,37.80487804878049,18.181818181818183,27.77777777777778,33.33333333333333,25.0,45.09803921568628,18.51851851851852,38.75,31.25,40.0,37.83783783783784,40.0],\"type\":\"scatter\"}]},{\"data\":[{\"x\":[\"2022-01-20\",\"2022-01-21\",\"2022-01-22\",\"2022-01-23\",\"2022-01-24\",\"2022-01-25\",\"2022-01-26\",\"2022-01-27\",\"2022-01-28\",\"2022-01-29\",\"2022-01-30\",\"2022-01-31\",\"2022-02-01\",\"2022-02-02\",\"2022-02-03\",\"2022-02-04\",\"2022-02-05\",\"2022-02-06\",\"2022-02-07\",\"2022-02-08\",\"2022-02-09\",\"2022-02-10\",\"2022-02-11\",\"2022-02-12\",\"2022-02-13\",\"2022-02-14\",\"2022-02-15\",\"2022-02-16\",\"2022-02-17\",\"2022-02-18\",\"2022-02-19\"],\"y\":[83.87096774193549,69.23076923076923,68.42105263157895,69.0909090909091,73.17073170731707,84.0909090909091,87.5,65.38461538461539,71.42857142857143,73.61111111111111,76.0,72.72727272727273,71.42857142857143,66.66666666666666,75.60975609756098,68.75,60.0,77.38095238095238,62.19512195121951,81.81818181818183,72.22222222222221,66.66666666666666,75.0,54.90196078431373,81.48148148148148,61.25000000000001,68.75,60.0,62.16216216216216,60.0,46.15384615384615],\"type\":\"scatter\"},{\"x\":[\"2022-01-20\",\"2022-01-21\",\"2022-01-22\",\"2022-01-23\",\"2022-01-24\",\"2022-01-25\",\"2022-01-26\",\"2022-01-27\",\"2022-01-28\",\"2022-01-29\",\"2022-01-30\",\"2022-01-31\",\"2022-02-01\",\"2022-02-02\",\"2022-02-03\",\"2022-02-04\",\"2022-02-05\",\"2022-02-06\",\"2022-02-07\",\"2022-02-08\",\"2022-02-09\",\"2022-02-10\",\"2022-02-11\",\"2022-02-12\",\"2022-02-13\",\"2022-02-14\",\"2022-02-15\",\"2022-02-16\",\"2022-02-17\",\"2022-02-18\",\"2022-02-19\"],\"y\":[16.129032258064516,30.76923076923077,31.57894736842105,30.909090909090907,26.82926829268293,15.909090909090908,12.5,34.61538461538461,28.57142857142857,26.38888888888889,24.0,27.27272727272727,28.57142857142857,33.33333333333333,24.390243902439025,31.25,40.0,22.61904761904762,37.80487804878049,18.181818181818183,27.77777777777778,33.33333333333333,25.0,45.09803921568628,18.51851851851852,38.75,31.25,40.0,37.83783783783784,40.0,53.84615384615385],\"type\":\"scatter\"}]},{\"data\":[{\"x\":[\"2022-01-20\",\"2022-01-21\",\"2022-01-22\",\"2022-01-23\",\"2022-01-24\",\"2022-01-25\",\"2022-01-26\",\"2022-01-27\",\"2022-01-28\",\"2022-01-29\",\"2022-01-30\",\"2022-01-31\",\"2022-02-01\",\"2022-02-02\",\"2022-02-03\",\"2022-02-04\",\"2022-02-05\",\"2022-02-06\",\"2022-02-07\",\"2022-02-08\",\"2022-02-09\",\"2022-02-10\",\"2022-02-11\",\"2022-02-12\",\"2022-02-13\",\"2022-02-14\",\"2022-02-15\",\"2022-02-16\",\"2022-02-17\",\"2022-02-18\",\"2022-02-19\",\"2022-02-20\"],\"y\":[83.87096774193549,69.23076923076923,68.42105263157895,69.0909090909091,73.17073170731707,84.0909090909091,87.5,65.38461538461539,71.42857142857143,73.61111111111111,76.0,72.72727272727273,71.42857142857143,66.66666666666666,75.60975609756098,68.75,60.0,77.38095238095238,62.19512195121951,81.81818181818183,72.22222222222221,66.66666666666666,75.0,54.90196078431373,81.48148148148148,61.25000000000001,68.75,60.0,62.16216216216216,60.0,46.15384615384615,66.66666666666666],\"type\":\"scatter\"},{\"x\":[\"2022-01-20\",\"2022-01-21\",\"2022-01-22\",\"2022-01-23\",\"2022-01-24\",\"2022-01-25\",\"2022-01-26\",\"2022-01-27\",\"2022-01-28\",\"2022-01-29\",\"2022-01-30\",\"2022-01-31\",\"2022-02-01\",\"2022-02-02\",\"2022-02-03\",\"2022-02-04\",\"2022-02-05\",\"2022-02-06\",\"2022-02-07\",\"2022-02-08\",\"2022-02-09\",\"2022-02-10\",\"2022-02-11\",\"2022-02-12\",\"2022-02-13\",\"2022-02-14\",\"2022-02-15\",\"2022-02-16\",\"2022-02-17\",\"2022-02-18\",\"2022-02-19\",\"2022-02-20\"],\"y\":[16.129032258064516,30.76923076923077,31.57894736842105,30.909090909090907,26.82926829268293,15.909090909090908,12.5,34.61538461538461,28.57142857142857,26.38888888888889,24.0,27.27272727272727,28.57142857142857,33.33333333333333,24.390243902439025,31.25,40.0,22.61904761904762,37.80487804878049,18.181818181818183,27.77777777777778,33.33333333333333,25.0,45.09803921568628,18.51851851851852,38.75,31.25,40.0,37.83783783783784,40.0,53.84615384615385,33.33333333333333],\"type\":\"scatter\"}]},{\"data\":[{\"x\":[\"2022-01-20\",\"2022-01-21\",\"2022-01-22\",\"2022-01-23\",\"2022-01-24\",\"2022-01-25\",\"2022-01-26\",\"2022-01-27\",\"2022-01-28\",\"2022-01-29\",\"2022-01-30\",\"2022-01-31\",\"2022-02-01\",\"2022-02-02\",\"2022-02-03\",\"2022-02-04\",\"2022-02-05\",\"2022-02-06\",\"2022-02-07\",\"2022-02-08\",\"2022-02-09\",\"2022-02-10\",\"2022-02-11\",\"2022-02-12\",\"2022-02-13\",\"2022-02-14\",\"2022-02-15\",\"2022-02-16\",\"2022-02-17\",\"2022-02-18\",\"2022-02-19\",\"2022-02-20\",\"2022-02-21\"],\"y\":[83.87096774193549,69.23076923076923,68.42105263157895,69.0909090909091,73.17073170731707,84.0909090909091,87.5,65.38461538461539,71.42857142857143,73.61111111111111,76.0,72.72727272727273,71.42857142857143,66.66666666666666,75.60975609756098,68.75,60.0,77.38095238095238,62.19512195121951,81.81818181818183,72.22222222222221,66.66666666666666,75.0,54.90196078431373,81.48148148148148,61.25000000000001,68.75,60.0,62.16216216216216,60.0,46.15384615384615,66.66666666666666,50.0],\"type\":\"scatter\"},{\"x\":[\"2022-01-20\",\"2022-01-21\",\"2022-01-22\",\"2022-01-23\",\"2022-01-24\",\"2022-01-25\",\"2022-01-26\",\"2022-01-27\",\"2022-01-28\",\"2022-01-29\",\"2022-01-30\",\"2022-01-31\",\"2022-02-01\",\"2022-02-02\",\"2022-02-03\",\"2022-02-04\",\"2022-02-05\",\"2022-02-06\",\"2022-02-07\",\"2022-02-08\",\"2022-02-09\",\"2022-02-10\",\"2022-02-11\",\"2022-02-12\",\"2022-02-13\",\"2022-02-14\",\"2022-02-15\",\"2022-02-16\",\"2022-02-17\",\"2022-02-18\",\"2022-02-19\",\"2022-02-20\",\"2022-02-21\"],\"y\":[16.129032258064516,30.76923076923077,31.57894736842105,30.909090909090907,26.82926829268293,15.909090909090908,12.5,34.61538461538461,28.57142857142857,26.38888888888889,24.0,27.27272727272727,28.57142857142857,33.33333333333333,24.390243902439025,31.25,40.0,22.61904761904762,37.80487804878049,18.181818181818183,27.77777777777778,33.33333333333333,25.0,45.09803921568628,18.51851851851852,38.75,31.25,40.0,37.83783783783784,40.0,53.84615384615385,33.33333333333333,50.0],\"type\":\"scatter\"}]},{\"data\":[{\"x\":[\"2022-01-20\",\"2022-01-21\",\"2022-01-22\",\"2022-01-23\",\"2022-01-24\",\"2022-01-25\",\"2022-01-26\",\"2022-01-27\",\"2022-01-28\",\"2022-01-29\",\"2022-01-30\",\"2022-01-31\",\"2022-02-01\",\"2022-02-02\",\"2022-02-03\",\"2022-02-04\",\"2022-02-05\",\"2022-02-06\",\"2022-02-07\",\"2022-02-08\",\"2022-02-09\",\"2022-02-10\",\"2022-02-11\",\"2022-02-12\",\"2022-02-13\",\"2022-02-14\",\"2022-02-15\",\"2022-02-16\",\"2022-02-17\",\"2022-02-18\",\"2022-02-19\",\"2022-02-20\",\"2022-02-21\",\"2022-02-22\"],\"y\":[83.87096774193549,69.23076923076923,68.42105263157895,69.0909090909091,73.17073170731707,84.0909090909091,87.5,65.38461538461539,71.42857142857143,73.61111111111111,76.0,72.72727272727273,71.42857142857143,66.66666666666666,75.60975609756098,68.75,60.0,77.38095238095238,62.19512195121951,81.81818181818183,72.22222222222221,66.66666666666666,75.0,54.90196078431373,81.48148148148148,61.25000000000001,68.75,60.0,62.16216216216216,60.0,46.15384615384615,66.66666666666666,50.0,52.94117647058824],\"type\":\"scatter\"},{\"x\":[\"2022-01-20\",\"2022-01-21\",\"2022-01-22\",\"2022-01-23\",\"2022-01-24\",\"2022-01-25\",\"2022-01-26\",\"2022-01-27\",\"2022-01-28\",\"2022-01-29\",\"2022-01-30\",\"2022-01-31\",\"2022-02-01\",\"2022-02-02\",\"2022-02-03\",\"2022-02-04\",\"2022-02-05\",\"2022-02-06\",\"2022-02-07\",\"2022-02-08\",\"2022-02-09\",\"2022-02-10\",\"2022-02-11\",\"2022-02-12\",\"2022-02-13\",\"2022-02-14\",\"2022-02-15\",\"2022-02-16\",\"2022-02-17\",\"2022-02-18\",\"2022-02-19\",\"2022-02-20\",\"2022-02-21\",\"2022-02-22\"],\"y\":[16.129032258064516,30.76923076923077,31.57894736842105,30.909090909090907,26.82926829268293,15.909090909090908,12.5,34.61538461538461,28.57142857142857,26.38888888888889,24.0,27.27272727272727,28.57142857142857,33.33333333333333,24.390243902439025,31.25,40.0,22.61904761904762,37.80487804878049,18.181818181818183,27.77777777777778,33.33333333333333,25.0,45.09803921568628,18.51851851851852,38.75,31.25,40.0,37.83783783783784,40.0,53.84615384615385,33.33333333333333,50.0,47.05882352941176],\"type\":\"scatter\"}]},{\"data\":[{\"x\":[\"2022-01-20\",\"2022-01-21\",\"2022-01-22\",\"2022-01-23\",\"2022-01-24\",\"2022-01-25\",\"2022-01-26\",\"2022-01-27\",\"2022-01-28\",\"2022-01-29\",\"2022-01-30\",\"2022-01-31\",\"2022-02-01\",\"2022-02-02\",\"2022-02-03\",\"2022-02-04\",\"2022-02-05\",\"2022-02-06\",\"2022-02-07\",\"2022-02-08\",\"2022-02-09\",\"2022-02-10\",\"2022-02-11\",\"2022-02-12\",\"2022-02-13\",\"2022-02-14\",\"2022-02-15\",\"2022-02-16\",\"2022-02-17\",\"2022-02-18\",\"2022-02-19\",\"2022-02-20\",\"2022-02-21\",\"2022-02-22\",\"2022-02-23\"],\"y\":[83.87096774193549,69.23076923076923,68.42105263157895,69.0909090909091,73.17073170731707,84.0909090909091,87.5,65.38461538461539,71.42857142857143,73.61111111111111,76.0,72.72727272727273,71.42857142857143,66.66666666666666,75.60975609756098,68.75,60.0,77.38095238095238,62.19512195121951,81.81818181818183,72.22222222222221,66.66666666666666,75.0,54.90196078431373,81.48148148148148,61.25000000000001,68.75,60.0,62.16216216216216,60.0,46.15384615384615,66.66666666666666,50.0,52.94117647058824,71.66666666666667],\"type\":\"scatter\"},{\"x\":[\"2022-01-20\",\"2022-01-21\",\"2022-01-22\",\"2022-01-23\",\"2022-01-24\",\"2022-01-25\",\"2022-01-26\",\"2022-01-27\",\"2022-01-28\",\"2022-01-29\",\"2022-01-30\",\"2022-01-31\",\"2022-02-01\",\"2022-02-02\",\"2022-02-03\",\"2022-02-04\",\"2022-02-05\",\"2022-02-06\",\"2022-02-07\",\"2022-02-08\",\"2022-02-09\",\"2022-02-10\",\"2022-02-11\",\"2022-02-12\",\"2022-02-13\",\"2022-02-14\",\"2022-02-15\",\"2022-02-16\",\"2022-02-17\",\"2022-02-18\",\"2022-02-19\",\"2022-02-20\",\"2022-02-21\",\"2022-02-22\",\"2022-02-23\"],\"y\":[16.129032258064516,30.76923076923077,31.57894736842105,30.909090909090907,26.82926829268293,15.909090909090908,12.5,34.61538461538461,28.57142857142857,26.38888888888889,24.0,27.27272727272727,28.57142857142857,33.33333333333333,24.390243902439025,31.25,40.0,22.61904761904762,37.80487804878049,18.181818181818183,27.77777777777778,33.33333333333333,25.0,45.09803921568628,18.51851851851852,38.75,31.25,40.0,37.83783783783784,40.0,53.84615384615385,33.33333333333333,50.0,47.05882352941176,28.333333333333332],\"type\":\"scatter\"}]},{\"data\":[{\"x\":[\"2022-01-20\",\"2022-01-21\",\"2022-01-22\",\"2022-01-23\",\"2022-01-24\",\"2022-01-25\",\"2022-01-26\",\"2022-01-27\",\"2022-01-28\",\"2022-01-29\",\"2022-01-30\",\"2022-01-31\",\"2022-02-01\",\"2022-02-02\",\"2022-02-03\",\"2022-02-04\",\"2022-02-05\",\"2022-02-06\",\"2022-02-07\",\"2022-02-08\",\"2022-02-09\",\"2022-02-10\",\"2022-02-11\",\"2022-02-12\",\"2022-02-13\",\"2022-02-14\",\"2022-02-15\",\"2022-02-16\",\"2022-02-17\",\"2022-02-18\",\"2022-02-19\",\"2022-02-20\",\"2022-02-21\",\"2022-02-22\",\"2022-02-23\",\"2022-02-24\"],\"y\":[83.87096774193549,69.23076923076923,68.42105263157895,69.0909090909091,73.17073170731707,84.0909090909091,87.5,65.38461538461539,71.42857142857143,73.61111111111111,76.0,72.72727272727273,71.42857142857143,66.66666666666666,75.60975609756098,68.75,60.0,77.38095238095238,62.19512195121951,81.81818181818183,72.22222222222221,66.66666666666666,75.0,54.90196078431373,81.48148148148148,61.25000000000001,68.75,60.0,62.16216216216216,60.0,46.15384615384615,66.66666666666666,50.0,52.94117647058824,71.66666666666667,58.536585365853654],\"type\":\"scatter\"},{\"x\":[\"2022-01-20\",\"2022-01-21\",\"2022-01-22\",\"2022-01-23\",\"2022-01-24\",\"2022-01-25\",\"2022-01-26\",\"2022-01-27\",\"2022-01-28\",\"2022-01-29\",\"2022-01-30\",\"2022-01-31\",\"2022-02-01\",\"2022-02-02\",\"2022-02-03\",\"2022-02-04\",\"2022-02-05\",\"2022-02-06\",\"2022-02-07\",\"2022-02-08\",\"2022-02-09\",\"2022-02-10\",\"2022-02-11\",\"2022-02-12\",\"2022-02-13\",\"2022-02-14\",\"2022-02-15\",\"2022-02-16\",\"2022-02-17\",\"2022-02-18\",\"2022-02-19\",\"2022-02-20\",\"2022-02-21\",\"2022-02-22\",\"2022-02-23\",\"2022-02-24\"],\"y\":[16.129032258064516,30.76923076923077,31.57894736842105,30.909090909090907,26.82926829268293,15.909090909090908,12.5,34.61538461538461,28.57142857142857,26.38888888888889,24.0,27.27272727272727,28.57142857142857,33.33333333333333,24.390243902439025,31.25,40.0,22.61904761904762,37.80487804878049,18.181818181818183,27.77777777777778,33.33333333333333,25.0,45.09803921568628,18.51851851851852,38.75,31.25,40.0,37.83783783783784,40.0,53.84615384615385,33.33333333333333,50.0,47.05882352941176,28.333333333333332,41.46341463414634],\"type\":\"scatter\"}]},{\"data\":[{\"x\":[\"2022-01-20\",\"2022-01-21\",\"2022-01-22\",\"2022-01-23\",\"2022-01-24\",\"2022-01-25\",\"2022-01-26\",\"2022-01-27\",\"2022-01-28\",\"2022-01-29\",\"2022-01-30\",\"2022-01-31\",\"2022-02-01\",\"2022-02-02\",\"2022-02-03\",\"2022-02-04\",\"2022-02-05\",\"2022-02-06\",\"2022-02-07\",\"2022-02-08\",\"2022-02-09\",\"2022-02-10\",\"2022-02-11\",\"2022-02-12\",\"2022-02-13\",\"2022-02-14\",\"2022-02-15\",\"2022-02-16\",\"2022-02-17\",\"2022-02-18\",\"2022-02-19\",\"2022-02-20\",\"2022-02-21\",\"2022-02-22\",\"2022-02-23\",\"2022-02-24\",\"2022-02-25\"],\"y\":[83.87096774193549,69.23076923076923,68.42105263157895,69.0909090909091,73.17073170731707,84.0909090909091,87.5,65.38461538461539,71.42857142857143,73.61111111111111,76.0,72.72727272727273,71.42857142857143,66.66666666666666,75.60975609756098,68.75,60.0,77.38095238095238,62.19512195121951,81.81818181818183,72.22222222222221,66.66666666666666,75.0,54.90196078431373,81.48148148148148,61.25000000000001,68.75,60.0,62.16216216216216,60.0,46.15384615384615,66.66666666666666,50.0,52.94117647058824,71.66666666666667,58.536585365853654,66.66666666666666],\"type\":\"scatter\"},{\"x\":[\"2022-01-20\",\"2022-01-21\",\"2022-01-22\",\"2022-01-23\",\"2022-01-24\",\"2022-01-25\",\"2022-01-26\",\"2022-01-27\",\"2022-01-28\",\"2022-01-29\",\"2022-01-30\",\"2022-01-31\",\"2022-02-01\",\"2022-02-02\",\"2022-02-03\",\"2022-02-04\",\"2022-02-05\",\"2022-02-06\",\"2022-02-07\",\"2022-02-08\",\"2022-02-09\",\"2022-02-10\",\"2022-02-11\",\"2022-02-12\",\"2022-02-13\",\"2022-02-14\",\"2022-02-15\",\"2022-02-16\",\"2022-02-17\",\"2022-02-18\",\"2022-02-19\",\"2022-02-20\",\"2022-02-21\",\"2022-02-22\",\"2022-02-23\",\"2022-02-24\",\"2022-02-25\"],\"y\":[16.129032258064516,30.76923076923077,31.57894736842105,30.909090909090907,26.82926829268293,15.909090909090908,12.5,34.61538461538461,28.57142857142857,26.38888888888889,24.0,27.27272727272727,28.57142857142857,33.33333333333333,24.390243902439025,31.25,40.0,22.61904761904762,37.80487804878049,18.181818181818183,27.77777777777778,33.33333333333333,25.0,45.09803921568628,18.51851851851852,38.75,31.25,40.0,37.83783783783784,40.0,53.84615384615385,33.33333333333333,50.0,47.05882352941176,28.333333333333332,41.46341463414634,33.33333333333333],\"type\":\"scatter\"}]},{\"data\":[{\"x\":[\"2022-01-20\",\"2022-01-21\",\"2022-01-22\",\"2022-01-23\",\"2022-01-24\",\"2022-01-25\",\"2022-01-26\",\"2022-01-27\",\"2022-01-28\",\"2022-01-29\",\"2022-01-30\",\"2022-01-31\",\"2022-02-01\",\"2022-02-02\",\"2022-02-03\",\"2022-02-04\",\"2022-02-05\",\"2022-02-06\",\"2022-02-07\",\"2022-02-08\",\"2022-02-09\",\"2022-02-10\",\"2022-02-11\",\"2022-02-12\",\"2022-02-13\",\"2022-02-14\",\"2022-02-15\",\"2022-02-16\",\"2022-02-17\",\"2022-02-18\",\"2022-02-19\",\"2022-02-20\",\"2022-02-21\",\"2022-02-22\",\"2022-02-23\",\"2022-02-24\",\"2022-02-25\",\"2022-02-26\"],\"y\":[83.87096774193549,69.23076923076923,68.42105263157895,69.0909090909091,73.17073170731707,84.0909090909091,87.5,65.38461538461539,71.42857142857143,73.61111111111111,76.0,72.72727272727273,71.42857142857143,66.66666666666666,75.60975609756098,68.75,60.0,77.38095238095238,62.19512195121951,81.81818181818183,72.22222222222221,66.66666666666666,75.0,54.90196078431373,81.48148148148148,61.25000000000001,68.75,60.0,62.16216216216216,60.0,46.15384615384615,66.66666666666666,50.0,52.94117647058824,71.66666666666667,58.536585365853654,66.66666666666666,59.09090909090909],\"type\":\"scatter\"},{\"x\":[\"2022-01-20\",\"2022-01-21\",\"2022-01-22\",\"2022-01-23\",\"2022-01-24\",\"2022-01-25\",\"2022-01-26\",\"2022-01-27\",\"2022-01-28\",\"2022-01-29\",\"2022-01-30\",\"2022-01-31\",\"2022-02-01\",\"2022-02-02\",\"2022-02-03\",\"2022-02-04\",\"2022-02-05\",\"2022-02-06\",\"2022-02-07\",\"2022-02-08\",\"2022-02-09\",\"2022-02-10\",\"2022-02-11\",\"2022-02-12\",\"2022-02-13\",\"2022-02-14\",\"2022-02-15\",\"2022-02-16\",\"2022-02-17\",\"2022-02-18\",\"2022-02-19\",\"2022-02-20\",\"2022-02-21\",\"2022-02-22\",\"2022-02-23\",\"2022-02-24\",\"2022-02-25\",\"2022-02-26\"],\"y\":[16.129032258064516,30.76923076923077,31.57894736842105,30.909090909090907,26.82926829268293,15.909090909090908,12.5,34.61538461538461,28.57142857142857,26.38888888888889,24.0,27.27272727272727,28.57142857142857,33.33333333333333,24.390243902439025,31.25,40.0,22.61904761904762,37.80487804878049,18.181818181818183,27.77777777777778,33.33333333333333,25.0,45.09803921568628,18.51851851851852,38.75,31.25,40.0,37.83783783783784,40.0,53.84615384615385,33.33333333333333,50.0,47.05882352941176,28.333333333333332,41.46341463414634,33.33333333333333,40.909090909090914],\"type\":\"scatter\"}]},{\"data\":[{\"x\":[\"2022-01-20\",\"2022-01-21\",\"2022-01-22\",\"2022-01-23\",\"2022-01-24\",\"2022-01-25\",\"2022-01-26\",\"2022-01-27\",\"2022-01-28\",\"2022-01-29\",\"2022-01-30\",\"2022-01-31\",\"2022-02-01\",\"2022-02-02\",\"2022-02-03\",\"2022-02-04\",\"2022-02-05\",\"2022-02-06\",\"2022-02-07\",\"2022-02-08\",\"2022-02-09\",\"2022-02-10\",\"2022-02-11\",\"2022-02-12\",\"2022-02-13\",\"2022-02-14\",\"2022-02-15\",\"2022-02-16\",\"2022-02-17\",\"2022-02-18\",\"2022-02-19\",\"2022-02-20\",\"2022-02-21\",\"2022-02-22\",\"2022-02-23\",\"2022-02-24\",\"2022-02-25\",\"2022-02-26\",\"2022-02-27\"],\"y\":[83.87096774193549,69.23076923076923,68.42105263157895,69.0909090909091,73.17073170731707,84.0909090909091,87.5,65.38461538461539,71.42857142857143,73.61111111111111,76.0,72.72727272727273,71.42857142857143,66.66666666666666,75.60975609756098,68.75,60.0,77.38095238095238,62.19512195121951,81.81818181818183,72.22222222222221,66.66666666666666,75.0,54.90196078431373,81.48148148148148,61.25000000000001,68.75,60.0,62.16216216216216,60.0,46.15384615384615,66.66666666666666,50.0,52.94117647058824,71.66666666666667,58.536585365853654,66.66666666666666,59.09090909090909,70.58823529411765],\"type\":\"scatter\"},{\"x\":[\"2022-01-20\",\"2022-01-21\",\"2022-01-22\",\"2022-01-23\",\"2022-01-24\",\"2022-01-25\",\"2022-01-26\",\"2022-01-27\",\"2022-01-28\",\"2022-01-29\",\"2022-01-30\",\"2022-01-31\",\"2022-02-01\",\"2022-02-02\",\"2022-02-03\",\"2022-02-04\",\"2022-02-05\",\"2022-02-06\",\"2022-02-07\",\"2022-02-08\",\"2022-02-09\",\"2022-02-10\",\"2022-02-11\",\"2022-02-12\",\"2022-02-13\",\"2022-02-14\",\"2022-02-15\",\"2022-02-16\",\"2022-02-17\",\"2022-02-18\",\"2022-02-19\",\"2022-02-20\",\"2022-02-21\",\"2022-02-22\",\"2022-02-23\",\"2022-02-24\",\"2022-02-25\",\"2022-02-26\",\"2022-02-27\"],\"y\":[16.129032258064516,30.76923076923077,31.57894736842105,30.909090909090907,26.82926829268293,15.909090909090908,12.5,34.61538461538461,28.57142857142857,26.38888888888889,24.0,27.27272727272727,28.57142857142857,33.33333333333333,24.390243902439025,31.25,40.0,22.61904761904762,37.80487804878049,18.181818181818183,27.77777777777778,33.33333333333333,25.0,45.09803921568628,18.51851851851852,38.75,31.25,40.0,37.83783783783784,40.0,53.84615384615385,33.33333333333333,50.0,47.05882352941176,28.333333333333332,41.46341463414634,33.33333333333333,40.909090909090914,29.411764705882355],\"type\":\"scatter\"}]},{\"data\":[{\"x\":[\"2022-01-20\",\"2022-01-21\",\"2022-01-22\",\"2022-01-23\",\"2022-01-24\",\"2022-01-25\",\"2022-01-26\",\"2022-01-27\",\"2022-01-28\",\"2022-01-29\",\"2022-01-30\",\"2022-01-31\",\"2022-02-01\",\"2022-02-02\",\"2022-02-03\",\"2022-02-04\",\"2022-02-05\",\"2022-02-06\",\"2022-02-07\",\"2022-02-08\",\"2022-02-09\",\"2022-02-10\",\"2022-02-11\",\"2022-02-12\",\"2022-02-13\",\"2022-02-14\",\"2022-02-15\",\"2022-02-16\",\"2022-02-17\",\"2022-02-18\",\"2022-02-19\",\"2022-02-20\",\"2022-02-21\",\"2022-02-22\",\"2022-02-23\",\"2022-02-24\",\"2022-02-25\",\"2022-02-26\",\"2022-02-27\",\"2022-02-28\"],\"y\":[83.87096774193549,69.23076923076923,68.42105263157895,69.0909090909091,73.17073170731707,84.0909090909091,87.5,65.38461538461539,71.42857142857143,73.61111111111111,76.0,72.72727272727273,71.42857142857143,66.66666666666666,75.60975609756098,68.75,60.0,77.38095238095238,62.19512195121951,81.81818181818183,72.22222222222221,66.66666666666666,75.0,54.90196078431373,81.48148148148148,61.25000000000001,68.75,60.0,62.16216216216216,60.0,46.15384615384615,66.66666666666666,50.0,52.94117647058824,71.66666666666667,58.536585365853654,66.66666666666666,59.09090909090909,70.58823529411765,46.15384615384615],\"type\":\"scatter\"},{\"x\":[\"2022-01-20\",\"2022-01-21\",\"2022-01-22\",\"2022-01-23\",\"2022-01-24\",\"2022-01-25\",\"2022-01-26\",\"2022-01-27\",\"2022-01-28\",\"2022-01-29\",\"2022-01-30\",\"2022-01-31\",\"2022-02-01\",\"2022-02-02\",\"2022-02-03\",\"2022-02-04\",\"2022-02-05\",\"2022-02-06\",\"2022-02-07\",\"2022-02-08\",\"2022-02-09\",\"2022-02-10\",\"2022-02-11\",\"2022-02-12\",\"2022-02-13\",\"2022-02-14\",\"2022-02-15\",\"2022-02-16\",\"2022-02-17\",\"2022-02-18\",\"2022-02-19\",\"2022-02-20\",\"2022-02-21\",\"2022-02-22\",\"2022-02-23\",\"2022-02-24\",\"2022-02-25\",\"2022-02-26\",\"2022-02-27\",\"2022-02-28\"],\"y\":[16.129032258064516,30.76923076923077,31.57894736842105,30.909090909090907,26.82926829268293,15.909090909090908,12.5,34.61538461538461,28.57142857142857,26.38888888888889,24.0,27.27272727272727,28.57142857142857,33.33333333333333,24.390243902439025,31.25,40.0,22.61904761904762,37.80487804878049,18.181818181818183,27.77777777777778,33.33333333333333,25.0,45.09803921568628,18.51851851851852,38.75,31.25,40.0,37.83783783783784,40.0,53.84615384615385,33.33333333333333,50.0,47.05882352941176,28.333333333333332,41.46341463414634,33.33333333333333,40.909090909090914,29.411764705882355,53.84615384615385],\"type\":\"scatter\"}]},{\"data\":[{\"x\":[\"2022-01-20\",\"2022-01-21\",\"2022-01-22\",\"2022-01-23\",\"2022-01-24\",\"2022-01-25\",\"2022-01-26\",\"2022-01-27\",\"2022-01-28\",\"2022-01-29\",\"2022-01-30\",\"2022-01-31\",\"2022-02-01\",\"2022-02-02\",\"2022-02-03\",\"2022-02-04\",\"2022-02-05\",\"2022-02-06\",\"2022-02-07\",\"2022-02-08\",\"2022-02-09\",\"2022-02-10\",\"2022-02-11\",\"2022-02-12\",\"2022-02-13\",\"2022-02-14\",\"2022-02-15\",\"2022-02-16\",\"2022-02-17\",\"2022-02-18\",\"2022-02-19\",\"2022-02-20\",\"2022-02-21\",\"2022-02-22\",\"2022-02-23\",\"2022-02-24\",\"2022-02-25\",\"2022-02-26\",\"2022-02-27\",\"2022-02-28\",\"2022-03-01\"],\"y\":[83.87096774193549,69.23076923076923,68.42105263157895,69.0909090909091,73.17073170731707,84.0909090909091,87.5,65.38461538461539,71.42857142857143,73.61111111111111,76.0,72.72727272727273,71.42857142857143,66.66666666666666,75.60975609756098,68.75,60.0,77.38095238095238,62.19512195121951,81.81818181818183,72.22222222222221,66.66666666666666,75.0,54.90196078431373,81.48148148148148,61.25000000000001,68.75,60.0,62.16216216216216,60.0,46.15384615384615,66.66666666666666,50.0,52.94117647058824,71.66666666666667,58.536585365853654,66.66666666666666,59.09090909090909,70.58823529411765,46.15384615384615,66.66666666666666],\"type\":\"scatter\"},{\"x\":[\"2022-01-20\",\"2022-01-21\",\"2022-01-22\",\"2022-01-23\",\"2022-01-24\",\"2022-01-25\",\"2022-01-26\",\"2022-01-27\",\"2022-01-28\",\"2022-01-29\",\"2022-01-30\",\"2022-01-31\",\"2022-02-01\",\"2022-02-02\",\"2022-02-03\",\"2022-02-04\",\"2022-02-05\",\"2022-02-06\",\"2022-02-07\",\"2022-02-08\",\"2022-02-09\",\"2022-02-10\",\"2022-02-11\",\"2022-02-12\",\"2022-02-13\",\"2022-02-14\",\"2022-02-15\",\"2022-02-16\",\"2022-02-17\",\"2022-02-18\",\"2022-02-19\",\"2022-02-20\",\"2022-02-21\",\"2022-02-22\",\"2022-02-23\",\"2022-02-24\",\"2022-02-25\",\"2022-02-26\",\"2022-02-27\",\"2022-02-28\",\"2022-03-01\"],\"y\":[16.129032258064516,30.76923076923077,31.57894736842105,30.909090909090907,26.82926829268293,15.909090909090908,12.5,34.61538461538461,28.57142857142857,26.38888888888889,24.0,27.27272727272727,28.57142857142857,33.33333333333333,24.390243902439025,31.25,40.0,22.61904761904762,37.80487804878049,18.181818181818183,27.77777777777778,33.33333333333333,25.0,45.09803921568628,18.51851851851852,38.75,31.25,40.0,37.83783783783784,40.0,53.84615384615385,33.33333333333333,50.0,47.05882352941176,28.333333333333332,41.46341463414634,33.33333333333333,40.909090909090914,29.411764705882355,53.84615384615385,33.33333333333333],\"type\":\"scatter\"}]},{\"data\":[{\"x\":[\"2022-01-20\",\"2022-01-21\",\"2022-01-22\",\"2022-01-23\",\"2022-01-24\",\"2022-01-25\",\"2022-01-26\",\"2022-01-27\",\"2022-01-28\",\"2022-01-29\",\"2022-01-30\",\"2022-01-31\",\"2022-02-01\",\"2022-02-02\",\"2022-02-03\",\"2022-02-04\",\"2022-02-05\",\"2022-02-06\",\"2022-02-07\",\"2022-02-08\",\"2022-02-09\",\"2022-02-10\",\"2022-02-11\",\"2022-02-12\",\"2022-02-13\",\"2022-02-14\",\"2022-02-15\",\"2022-02-16\",\"2022-02-17\",\"2022-02-18\",\"2022-02-19\",\"2022-02-20\",\"2022-02-21\",\"2022-02-22\",\"2022-02-23\",\"2022-02-24\",\"2022-02-25\",\"2022-02-26\",\"2022-02-27\",\"2022-02-28\",\"2022-03-01\",\"2022-03-02\"],\"y\":[83.87096774193549,69.23076923076923,68.42105263157895,69.0909090909091,73.17073170731707,84.0909090909091,87.5,65.38461538461539,71.42857142857143,73.61111111111111,76.0,72.72727272727273,71.42857142857143,66.66666666666666,75.60975609756098,68.75,60.0,77.38095238095238,62.19512195121951,81.81818181818183,72.22222222222221,66.66666666666666,75.0,54.90196078431373,81.48148148148148,61.25000000000001,68.75,60.0,62.16216216216216,60.0,46.15384615384615,66.66666666666666,50.0,52.94117647058824,71.66666666666667,58.536585365853654,66.66666666666666,59.09090909090909,70.58823529411765,46.15384615384615,66.66666666666666,66.66666666666666],\"type\":\"scatter\"},{\"x\":[\"2022-01-20\",\"2022-01-21\",\"2022-01-22\",\"2022-01-23\",\"2022-01-24\",\"2022-01-25\",\"2022-01-26\",\"2022-01-27\",\"2022-01-28\",\"2022-01-29\",\"2022-01-30\",\"2022-01-31\",\"2022-02-01\",\"2022-02-02\",\"2022-02-03\",\"2022-02-04\",\"2022-02-05\",\"2022-02-06\",\"2022-02-07\",\"2022-02-08\",\"2022-02-09\",\"2022-02-10\",\"2022-02-11\",\"2022-02-12\",\"2022-02-13\",\"2022-02-14\",\"2022-02-15\",\"2022-02-16\",\"2022-02-17\",\"2022-02-18\",\"2022-02-19\",\"2022-02-20\",\"2022-02-21\",\"2022-02-22\",\"2022-02-23\",\"2022-02-24\",\"2022-02-25\",\"2022-02-26\",\"2022-02-27\",\"2022-02-28\",\"2022-03-01\",\"2022-03-02\"],\"y\":[16.129032258064516,30.76923076923077,31.57894736842105,30.909090909090907,26.82926829268293,15.909090909090908,12.5,34.61538461538461,28.57142857142857,26.38888888888889,24.0,27.27272727272727,28.57142857142857,33.33333333333333,24.390243902439025,31.25,40.0,22.61904761904762,37.80487804878049,18.181818181818183,27.77777777777778,33.33333333333333,25.0,45.09803921568628,18.51851851851852,38.75,31.25,40.0,37.83783783783784,40.0,53.84615384615385,33.33333333333333,50.0,47.05882352941176,28.333333333333332,41.46341463414634,33.33333333333333,40.909090909090914,29.411764705882355,53.84615384615385,33.33333333333333,33.33333333333333],\"type\":\"scatter\"}]},{\"data\":[{\"x\":[\"2022-01-20\",\"2022-01-21\",\"2022-01-22\",\"2022-01-23\",\"2022-01-24\",\"2022-01-25\",\"2022-01-26\",\"2022-01-27\",\"2022-01-28\",\"2022-01-29\",\"2022-01-30\",\"2022-01-31\",\"2022-02-01\",\"2022-02-02\",\"2022-02-03\",\"2022-02-04\",\"2022-02-05\",\"2022-02-06\",\"2022-02-07\",\"2022-02-08\",\"2022-02-09\",\"2022-02-10\",\"2022-02-11\",\"2022-02-12\",\"2022-02-13\",\"2022-02-14\",\"2022-02-15\",\"2022-02-16\",\"2022-02-17\",\"2022-02-18\",\"2022-02-19\",\"2022-02-20\",\"2022-02-21\",\"2022-02-22\",\"2022-02-23\",\"2022-02-24\",\"2022-02-25\",\"2022-02-26\",\"2022-02-27\",\"2022-02-28\",\"2022-03-01\",\"2022-03-02\",\"2022-03-03\"],\"y\":[83.87096774193549,69.23076923076923,68.42105263157895,69.0909090909091,73.17073170731707,84.0909090909091,87.5,65.38461538461539,71.42857142857143,73.61111111111111,76.0,72.72727272727273,71.42857142857143,66.66666666666666,75.60975609756098,68.75,60.0,77.38095238095238,62.19512195121951,81.81818181818183,72.22222222222221,66.66666666666666,75.0,54.90196078431373,81.48148148148148,61.25000000000001,68.75,60.0,62.16216216216216,60.0,46.15384615384615,66.66666666666666,50.0,52.94117647058824,71.66666666666667,58.536585365853654,66.66666666666666,59.09090909090909,70.58823529411765,46.15384615384615,66.66666666666666,66.66666666666666,62.5],\"type\":\"scatter\"},{\"x\":[\"2022-01-20\",\"2022-01-21\",\"2022-01-22\",\"2022-01-23\",\"2022-01-24\",\"2022-01-25\",\"2022-01-26\",\"2022-01-27\",\"2022-01-28\",\"2022-01-29\",\"2022-01-30\",\"2022-01-31\",\"2022-02-01\",\"2022-02-02\",\"2022-02-03\",\"2022-02-04\",\"2022-02-05\",\"2022-02-06\",\"2022-02-07\",\"2022-02-08\",\"2022-02-09\",\"2022-02-10\",\"2022-02-11\",\"2022-02-12\",\"2022-02-13\",\"2022-02-14\",\"2022-02-15\",\"2022-02-16\",\"2022-02-17\",\"2022-02-18\",\"2022-02-19\",\"2022-02-20\",\"2022-02-21\",\"2022-02-22\",\"2022-02-23\",\"2022-02-24\",\"2022-02-25\",\"2022-02-26\",\"2022-02-27\",\"2022-02-28\",\"2022-03-01\",\"2022-03-02\",\"2022-03-03\"],\"y\":[16.129032258064516,30.76923076923077,31.57894736842105,30.909090909090907,26.82926829268293,15.909090909090908,12.5,34.61538461538461,28.57142857142857,26.38888888888889,24.0,27.27272727272727,28.57142857142857,33.33333333333333,24.390243902439025,31.25,40.0,22.61904761904762,37.80487804878049,18.181818181818183,27.77777777777778,33.33333333333333,25.0,45.09803921568628,18.51851851851852,38.75,31.25,40.0,37.83783783783784,40.0,53.84615384615385,33.33333333333333,50.0,47.05882352941176,28.333333333333332,41.46341463414634,33.33333333333333,40.909090909090914,29.411764705882355,53.84615384615385,33.33333333333333,33.33333333333333,37.5],\"type\":\"scatter\"}]},{\"data\":[{\"x\":[\"2022-01-20\",\"2022-01-21\",\"2022-01-22\",\"2022-01-23\",\"2022-01-24\",\"2022-01-25\",\"2022-01-26\",\"2022-01-27\",\"2022-01-28\",\"2022-01-29\",\"2022-01-30\",\"2022-01-31\",\"2022-02-01\",\"2022-02-02\",\"2022-02-03\",\"2022-02-04\",\"2022-02-05\",\"2022-02-06\",\"2022-02-07\",\"2022-02-08\",\"2022-02-09\",\"2022-02-10\",\"2022-02-11\",\"2022-02-12\",\"2022-02-13\",\"2022-02-14\",\"2022-02-15\",\"2022-02-16\",\"2022-02-17\",\"2022-02-18\",\"2022-02-19\",\"2022-02-20\",\"2022-02-21\",\"2022-02-22\",\"2022-02-23\",\"2022-02-24\",\"2022-02-25\",\"2022-02-26\",\"2022-02-27\",\"2022-02-28\",\"2022-03-01\",\"2022-03-02\",\"2022-03-03\",\"2022-03-04\"],\"y\":[83.87096774193549,69.23076923076923,68.42105263157895,69.0909090909091,73.17073170731707,84.0909090909091,87.5,65.38461538461539,71.42857142857143,73.61111111111111,76.0,72.72727272727273,71.42857142857143,66.66666666666666,75.60975609756098,68.75,60.0,77.38095238095238,62.19512195121951,81.81818181818183,72.22222222222221,66.66666666666666,75.0,54.90196078431373,81.48148148148148,61.25000000000001,68.75,60.0,62.16216216216216,60.0,46.15384615384615,66.66666666666666,50.0,52.94117647058824,71.66666666666667,58.536585365853654,66.66666666666666,59.09090909090909,70.58823529411765,46.15384615384615,66.66666666666666,66.66666666666666,62.5,69.76744186046511],\"type\":\"scatter\"},{\"x\":[\"2022-01-20\",\"2022-01-21\",\"2022-01-22\",\"2022-01-23\",\"2022-01-24\",\"2022-01-25\",\"2022-01-26\",\"2022-01-27\",\"2022-01-28\",\"2022-01-29\",\"2022-01-30\",\"2022-01-31\",\"2022-02-01\",\"2022-02-02\",\"2022-02-03\",\"2022-02-04\",\"2022-02-05\",\"2022-02-06\",\"2022-02-07\",\"2022-02-08\",\"2022-02-09\",\"2022-02-10\",\"2022-02-11\",\"2022-02-12\",\"2022-02-13\",\"2022-02-14\",\"2022-02-15\",\"2022-02-16\",\"2022-02-17\",\"2022-02-18\",\"2022-02-19\",\"2022-02-20\",\"2022-02-21\",\"2022-02-22\",\"2022-02-23\",\"2022-02-24\",\"2022-02-25\",\"2022-02-26\",\"2022-02-27\",\"2022-02-28\",\"2022-03-01\",\"2022-03-02\",\"2022-03-03\",\"2022-03-04\"],\"y\":[16.129032258064516,30.76923076923077,31.57894736842105,30.909090909090907,26.82926829268293,15.909090909090908,12.5,34.61538461538461,28.57142857142857,26.38888888888889,24.0,27.27272727272727,28.57142857142857,33.33333333333333,24.390243902439025,31.25,40.0,22.61904761904762,37.80487804878049,18.181818181818183,27.77777777777778,33.33333333333333,25.0,45.09803921568628,18.51851851851852,38.75,31.25,40.0,37.83783783783784,40.0,53.84615384615385,33.33333333333333,50.0,47.05882352941176,28.333333333333332,41.46341463414634,33.33333333333333,40.909090909090914,29.411764705882355,53.84615384615385,33.33333333333333,33.33333333333333,37.5,30.23255813953488],\"type\":\"scatter\"}]},{\"data\":[{\"x\":[\"2022-01-20\",\"2022-01-21\",\"2022-01-22\",\"2022-01-23\",\"2022-01-24\",\"2022-01-25\",\"2022-01-26\",\"2022-01-27\",\"2022-01-28\",\"2022-01-29\",\"2022-01-30\",\"2022-01-31\",\"2022-02-01\",\"2022-02-02\",\"2022-02-03\",\"2022-02-04\",\"2022-02-05\",\"2022-02-06\",\"2022-02-07\",\"2022-02-08\",\"2022-02-09\",\"2022-02-10\",\"2022-02-11\",\"2022-02-12\",\"2022-02-13\",\"2022-02-14\",\"2022-02-15\",\"2022-02-16\",\"2022-02-17\",\"2022-02-18\",\"2022-02-19\",\"2022-02-20\",\"2022-02-21\",\"2022-02-22\",\"2022-02-23\",\"2022-02-24\",\"2022-02-25\",\"2022-02-26\",\"2022-02-27\",\"2022-02-28\",\"2022-03-01\",\"2022-03-02\",\"2022-03-03\",\"2022-03-04\",\"2022-03-05\"],\"y\":[83.87096774193549,69.23076923076923,68.42105263157895,69.0909090909091,73.17073170731707,84.0909090909091,87.5,65.38461538461539,71.42857142857143,73.61111111111111,76.0,72.72727272727273,71.42857142857143,66.66666666666666,75.60975609756098,68.75,60.0,77.38095238095238,62.19512195121951,81.81818181818183,72.22222222222221,66.66666666666666,75.0,54.90196078431373,81.48148148148148,61.25000000000001,68.75,60.0,62.16216216216216,60.0,46.15384615384615,66.66666666666666,50.0,52.94117647058824,71.66666666666667,58.536585365853654,66.66666666666666,59.09090909090909,70.58823529411765,46.15384615384615,66.66666666666666,66.66666666666666,62.5,69.76744186046511,71.42857142857143],\"type\":\"scatter\"},{\"x\":[\"2022-01-20\",\"2022-01-21\",\"2022-01-22\",\"2022-01-23\",\"2022-01-24\",\"2022-01-25\",\"2022-01-26\",\"2022-01-27\",\"2022-01-28\",\"2022-01-29\",\"2022-01-30\",\"2022-01-31\",\"2022-02-01\",\"2022-02-02\",\"2022-02-03\",\"2022-02-04\",\"2022-02-05\",\"2022-02-06\",\"2022-02-07\",\"2022-02-08\",\"2022-02-09\",\"2022-02-10\",\"2022-02-11\",\"2022-02-12\",\"2022-02-13\",\"2022-02-14\",\"2022-02-15\",\"2022-02-16\",\"2022-02-17\",\"2022-02-18\",\"2022-02-19\",\"2022-02-20\",\"2022-02-21\",\"2022-02-22\",\"2022-02-23\",\"2022-02-24\",\"2022-02-25\",\"2022-02-26\",\"2022-02-27\",\"2022-02-28\",\"2022-03-01\",\"2022-03-02\",\"2022-03-03\",\"2022-03-04\",\"2022-03-05\"],\"y\":[16.129032258064516,30.76923076923077,31.57894736842105,30.909090909090907,26.82926829268293,15.909090909090908,12.5,34.61538461538461,28.57142857142857,26.38888888888889,24.0,27.27272727272727,28.57142857142857,33.33333333333333,24.390243902439025,31.25,40.0,22.61904761904762,37.80487804878049,18.181818181818183,27.77777777777778,33.33333333333333,25.0,45.09803921568628,18.51851851851852,38.75,31.25,40.0,37.83783783783784,40.0,53.84615384615385,33.33333333333333,50.0,47.05882352941176,28.333333333333332,41.46341463414634,33.33333333333333,40.909090909090914,29.411764705882355,53.84615384615385,33.33333333333333,33.33333333333333,37.5,30.23255813953488,28.57142857142857],\"type\":\"scatter\"}]},{\"data\":[{\"x\":[\"2022-01-20\",\"2022-01-21\",\"2022-01-22\",\"2022-01-23\",\"2022-01-24\",\"2022-01-25\",\"2022-01-26\",\"2022-01-27\",\"2022-01-28\",\"2022-01-29\",\"2022-01-30\",\"2022-01-31\",\"2022-02-01\",\"2022-02-02\",\"2022-02-03\",\"2022-02-04\",\"2022-02-05\",\"2022-02-06\",\"2022-02-07\",\"2022-02-08\",\"2022-02-09\",\"2022-02-10\",\"2022-02-11\",\"2022-02-12\",\"2022-02-13\",\"2022-02-14\",\"2022-02-15\",\"2022-02-16\",\"2022-02-17\",\"2022-02-18\",\"2022-02-19\",\"2022-02-20\",\"2022-02-21\",\"2022-02-22\",\"2022-02-23\",\"2022-02-24\",\"2022-02-25\",\"2022-02-26\",\"2022-02-27\",\"2022-02-28\",\"2022-03-01\",\"2022-03-02\",\"2022-03-03\",\"2022-03-04\",\"2022-03-05\",\"2022-03-06\"],\"y\":[83.87096774193549,69.23076923076923,68.42105263157895,69.0909090909091,73.17073170731707,84.0909090909091,87.5,65.38461538461539,71.42857142857143,73.61111111111111,76.0,72.72727272727273,71.42857142857143,66.66666666666666,75.60975609756098,68.75,60.0,77.38095238095238,62.19512195121951,81.81818181818183,72.22222222222221,66.66666666666666,75.0,54.90196078431373,81.48148148148148,61.25000000000001,68.75,60.0,62.16216216216216,60.0,46.15384615384615,66.66666666666666,50.0,52.94117647058824,71.66666666666667,58.536585365853654,66.66666666666666,59.09090909090909,70.58823529411765,46.15384615384615,66.66666666666666,66.66666666666666,62.5,69.76744186046511,71.42857142857143,71.05263157894737],\"type\":\"scatter\"},{\"x\":[\"2022-01-20\",\"2022-01-21\",\"2022-01-22\",\"2022-01-23\",\"2022-01-24\",\"2022-01-25\",\"2022-01-26\",\"2022-01-27\",\"2022-01-28\",\"2022-01-29\",\"2022-01-30\",\"2022-01-31\",\"2022-02-01\",\"2022-02-02\",\"2022-02-03\",\"2022-02-04\",\"2022-02-05\",\"2022-02-06\",\"2022-02-07\",\"2022-02-08\",\"2022-02-09\",\"2022-02-10\",\"2022-02-11\",\"2022-02-12\",\"2022-02-13\",\"2022-02-14\",\"2022-02-15\",\"2022-02-16\",\"2022-02-17\",\"2022-02-18\",\"2022-02-19\",\"2022-02-20\",\"2022-02-21\",\"2022-02-22\",\"2022-02-23\",\"2022-02-24\",\"2022-02-25\",\"2022-02-26\",\"2022-02-27\",\"2022-02-28\",\"2022-03-01\",\"2022-03-02\",\"2022-03-03\",\"2022-03-04\",\"2022-03-05\",\"2022-03-06\"],\"y\":[16.129032258064516,30.76923076923077,31.57894736842105,30.909090909090907,26.82926829268293,15.909090909090908,12.5,34.61538461538461,28.57142857142857,26.38888888888889,24.0,27.27272727272727,28.57142857142857,33.33333333333333,24.390243902439025,31.25,40.0,22.61904761904762,37.80487804878049,18.181818181818183,27.77777777777778,33.33333333333333,25.0,45.09803921568628,18.51851851851852,38.75,31.25,40.0,37.83783783783784,40.0,53.84615384615385,33.33333333333333,50.0,47.05882352941176,28.333333333333332,41.46341463414634,33.33333333333333,40.909090909090914,29.411764705882355,53.84615384615385,33.33333333333333,33.33333333333333,37.5,30.23255813953488,28.57142857142857,28.947368421052634],\"type\":\"scatter\"}]},{\"data\":[{\"x\":[\"2022-01-20\",\"2022-01-21\",\"2022-01-22\",\"2022-01-23\",\"2022-01-24\",\"2022-01-25\",\"2022-01-26\",\"2022-01-27\",\"2022-01-28\",\"2022-01-29\",\"2022-01-30\",\"2022-01-31\",\"2022-02-01\",\"2022-02-02\",\"2022-02-03\",\"2022-02-04\",\"2022-02-05\",\"2022-02-06\",\"2022-02-07\",\"2022-02-08\",\"2022-02-09\",\"2022-02-10\",\"2022-02-11\",\"2022-02-12\",\"2022-02-13\",\"2022-02-14\",\"2022-02-15\",\"2022-02-16\",\"2022-02-17\",\"2022-02-18\",\"2022-02-19\",\"2022-02-20\",\"2022-02-21\",\"2022-02-22\",\"2022-02-23\",\"2022-02-24\",\"2022-02-25\",\"2022-02-26\",\"2022-02-27\",\"2022-02-28\",\"2022-03-01\",\"2022-03-02\",\"2022-03-03\",\"2022-03-04\",\"2022-03-05\",\"2022-03-06\",\"2022-03-07\"],\"y\":[83.87096774193549,69.23076923076923,68.42105263157895,69.0909090909091,73.17073170731707,84.0909090909091,87.5,65.38461538461539,71.42857142857143,73.61111111111111,76.0,72.72727272727273,71.42857142857143,66.66666666666666,75.60975609756098,68.75,60.0,77.38095238095238,62.19512195121951,81.81818181818183,72.22222222222221,66.66666666666666,75.0,54.90196078431373,81.48148148148148,61.25000000000001,68.75,60.0,62.16216216216216,60.0,46.15384615384615,66.66666666666666,50.0,52.94117647058824,71.66666666666667,58.536585365853654,66.66666666666666,59.09090909090909,70.58823529411765,46.15384615384615,66.66666666666666,66.66666666666666,62.5,69.76744186046511,71.42857142857143,71.05263157894737,65.51724137931035],\"type\":\"scatter\"},{\"x\":[\"2022-01-20\",\"2022-01-21\",\"2022-01-22\",\"2022-01-23\",\"2022-01-24\",\"2022-01-25\",\"2022-01-26\",\"2022-01-27\",\"2022-01-28\",\"2022-01-29\",\"2022-01-30\",\"2022-01-31\",\"2022-02-01\",\"2022-02-02\",\"2022-02-03\",\"2022-02-04\",\"2022-02-05\",\"2022-02-06\",\"2022-02-07\",\"2022-02-08\",\"2022-02-09\",\"2022-02-10\",\"2022-02-11\",\"2022-02-12\",\"2022-02-13\",\"2022-02-14\",\"2022-02-15\",\"2022-02-16\",\"2022-02-17\",\"2022-02-18\",\"2022-02-19\",\"2022-02-20\",\"2022-02-21\",\"2022-02-22\",\"2022-02-23\",\"2022-02-24\",\"2022-02-25\",\"2022-02-26\",\"2022-02-27\",\"2022-02-28\",\"2022-03-01\",\"2022-03-02\",\"2022-03-03\",\"2022-03-04\",\"2022-03-05\",\"2022-03-06\",\"2022-03-07\"],\"y\":[16.129032258064516,30.76923076923077,31.57894736842105,30.909090909090907,26.82926829268293,15.909090909090908,12.5,34.61538461538461,28.57142857142857,26.38888888888889,24.0,27.27272727272727,28.57142857142857,33.33333333333333,24.390243902439025,31.25,40.0,22.61904761904762,37.80487804878049,18.181818181818183,27.77777777777778,33.33333333333333,25.0,45.09803921568628,18.51851851851852,38.75,31.25,40.0,37.83783783783784,40.0,53.84615384615385,33.33333333333333,50.0,47.05882352941176,28.333333333333332,41.46341463414634,33.33333333333333,40.909090909090914,29.411764705882355,53.84615384615385,33.33333333333333,33.33333333333333,37.5,30.23255813953488,28.57142857142857,28.947368421052634,34.48275862068966],\"type\":\"scatter\"}]},{\"data\":[{\"x\":[\"2022-01-20\",\"2022-01-21\",\"2022-01-22\",\"2022-01-23\",\"2022-01-24\",\"2022-01-25\",\"2022-01-26\",\"2022-01-27\",\"2022-01-28\",\"2022-01-29\",\"2022-01-30\",\"2022-01-31\",\"2022-02-01\",\"2022-02-02\",\"2022-02-03\",\"2022-02-04\",\"2022-02-05\",\"2022-02-06\",\"2022-02-07\",\"2022-02-08\",\"2022-02-09\",\"2022-02-10\",\"2022-02-11\",\"2022-02-12\",\"2022-02-13\",\"2022-02-14\",\"2022-02-15\",\"2022-02-16\",\"2022-02-17\",\"2022-02-18\",\"2022-02-19\",\"2022-02-20\",\"2022-02-21\",\"2022-02-22\",\"2022-02-23\",\"2022-02-24\",\"2022-02-25\",\"2022-02-26\",\"2022-02-27\",\"2022-02-28\",\"2022-03-01\",\"2022-03-02\",\"2022-03-03\",\"2022-03-04\",\"2022-03-05\",\"2022-03-06\",\"2022-03-07\",\"2022-03-08\"],\"y\":[83.87096774193549,69.23076923076923,68.42105263157895,69.0909090909091,73.17073170731707,84.0909090909091,87.5,65.38461538461539,71.42857142857143,73.61111111111111,76.0,72.72727272727273,71.42857142857143,66.66666666666666,75.60975609756098,68.75,60.0,77.38095238095238,62.19512195121951,81.81818181818183,72.22222222222221,66.66666666666666,75.0,54.90196078431373,81.48148148148148,61.25000000000001,68.75,60.0,62.16216216216216,60.0,46.15384615384615,66.66666666666666,50.0,52.94117647058824,71.66666666666667,58.536585365853654,66.66666666666666,59.09090909090909,70.58823529411765,46.15384615384615,66.66666666666666,66.66666666666666,62.5,69.76744186046511,71.42857142857143,71.05263157894737,65.51724137931035,60.86956521739131],\"type\":\"scatter\"},{\"x\":[\"2022-01-20\",\"2022-01-21\",\"2022-01-22\",\"2022-01-23\",\"2022-01-24\",\"2022-01-25\",\"2022-01-26\",\"2022-01-27\",\"2022-01-28\",\"2022-01-29\",\"2022-01-30\",\"2022-01-31\",\"2022-02-01\",\"2022-02-02\",\"2022-02-03\",\"2022-02-04\",\"2022-02-05\",\"2022-02-06\",\"2022-02-07\",\"2022-02-08\",\"2022-02-09\",\"2022-02-10\",\"2022-02-11\",\"2022-02-12\",\"2022-02-13\",\"2022-02-14\",\"2022-02-15\",\"2022-02-16\",\"2022-02-17\",\"2022-02-18\",\"2022-02-19\",\"2022-02-20\",\"2022-02-21\",\"2022-02-22\",\"2022-02-23\",\"2022-02-24\",\"2022-02-25\",\"2022-02-26\",\"2022-02-27\",\"2022-02-28\",\"2022-03-01\",\"2022-03-02\",\"2022-03-03\",\"2022-03-04\",\"2022-03-05\",\"2022-03-06\",\"2022-03-07\",\"2022-03-08\"],\"y\":[16.129032258064516,30.76923076923077,31.57894736842105,30.909090909090907,26.82926829268293,15.909090909090908,12.5,34.61538461538461,28.57142857142857,26.38888888888889,24.0,27.27272727272727,28.57142857142857,33.33333333333333,24.390243902439025,31.25,40.0,22.61904761904762,37.80487804878049,18.181818181818183,27.77777777777778,33.33333333333333,25.0,45.09803921568628,18.51851851851852,38.75,31.25,40.0,37.83783783783784,40.0,53.84615384615385,33.33333333333333,50.0,47.05882352941176,28.333333333333332,41.46341463414634,33.33333333333333,40.909090909090914,29.411764705882355,53.84615384615385,33.33333333333333,33.33333333333333,37.5,30.23255813953488,28.57142857142857,28.947368421052634,34.48275862068966,39.130434782608695],\"type\":\"scatter\"}]},{\"data\":[{\"x\":[\"2022-01-20\",\"2022-01-21\",\"2022-01-22\",\"2022-01-23\",\"2022-01-24\",\"2022-01-25\",\"2022-01-26\",\"2022-01-27\",\"2022-01-28\",\"2022-01-29\",\"2022-01-30\",\"2022-01-31\",\"2022-02-01\",\"2022-02-02\",\"2022-02-03\",\"2022-02-04\",\"2022-02-05\",\"2022-02-06\",\"2022-02-07\",\"2022-02-08\",\"2022-02-09\",\"2022-02-10\",\"2022-02-11\",\"2022-02-12\",\"2022-02-13\",\"2022-02-14\",\"2022-02-15\",\"2022-02-16\",\"2022-02-17\",\"2022-02-18\",\"2022-02-19\",\"2022-02-20\",\"2022-02-21\",\"2022-02-22\",\"2022-02-23\",\"2022-02-24\",\"2022-02-25\",\"2022-02-26\",\"2022-02-27\",\"2022-02-28\",\"2022-03-01\",\"2022-03-02\",\"2022-03-03\",\"2022-03-04\",\"2022-03-05\",\"2022-03-06\",\"2022-03-07\",\"2022-03-08\",\"2022-03-09\"],\"y\":[83.87096774193549,69.23076923076923,68.42105263157895,69.0909090909091,73.17073170731707,84.0909090909091,87.5,65.38461538461539,71.42857142857143,73.61111111111111,76.0,72.72727272727273,71.42857142857143,66.66666666666666,75.60975609756098,68.75,60.0,77.38095238095238,62.19512195121951,81.81818181818183,72.22222222222221,66.66666666666666,75.0,54.90196078431373,81.48148148148148,61.25000000000001,68.75,60.0,62.16216216216216,60.0,46.15384615384615,66.66666666666666,50.0,52.94117647058824,71.66666666666667,58.536585365853654,66.66666666666666,59.09090909090909,70.58823529411765,46.15384615384615,66.66666666666666,66.66666666666666,62.5,69.76744186046511,71.42857142857143,71.05263157894737,65.51724137931035,60.86956521739131,55.55555555555556],\"type\":\"scatter\"},{\"x\":[\"2022-01-20\",\"2022-01-21\",\"2022-01-22\",\"2022-01-23\",\"2022-01-24\",\"2022-01-25\",\"2022-01-26\",\"2022-01-27\",\"2022-01-28\",\"2022-01-29\",\"2022-01-30\",\"2022-01-31\",\"2022-02-01\",\"2022-02-02\",\"2022-02-03\",\"2022-02-04\",\"2022-02-05\",\"2022-02-06\",\"2022-02-07\",\"2022-02-08\",\"2022-02-09\",\"2022-02-10\",\"2022-02-11\",\"2022-02-12\",\"2022-02-13\",\"2022-02-14\",\"2022-02-15\",\"2022-02-16\",\"2022-02-17\",\"2022-02-18\",\"2022-02-19\",\"2022-02-20\",\"2022-02-21\",\"2022-02-22\",\"2022-02-23\",\"2022-02-24\",\"2022-02-25\",\"2022-02-26\",\"2022-02-27\",\"2022-02-28\",\"2022-03-01\",\"2022-03-02\",\"2022-03-03\",\"2022-03-04\",\"2022-03-05\",\"2022-03-06\",\"2022-03-07\",\"2022-03-08\",\"2022-03-09\"],\"y\":[16.129032258064516,30.76923076923077,31.57894736842105,30.909090909090907,26.82926829268293,15.909090909090908,12.5,34.61538461538461,28.57142857142857,26.38888888888889,24.0,27.27272727272727,28.57142857142857,33.33333333333333,24.390243902439025,31.25,40.0,22.61904761904762,37.80487804878049,18.181818181818183,27.77777777777778,33.33333333333333,25.0,45.09803921568628,18.51851851851852,38.75,31.25,40.0,37.83783783783784,40.0,53.84615384615385,33.33333333333333,50.0,47.05882352941176,28.333333333333332,41.46341463414634,33.33333333333333,40.909090909090914,29.411764705882355,53.84615384615385,33.33333333333333,33.33333333333333,37.5,30.23255813953488,28.57142857142857,28.947368421052634,34.48275862068966,39.130434782608695,44.44444444444444],\"type\":\"scatter\"}]},{\"data\":[{\"x\":[\"2022-01-20\",\"2022-01-21\",\"2022-01-22\",\"2022-01-23\",\"2022-01-24\",\"2022-01-25\",\"2022-01-26\",\"2022-01-27\",\"2022-01-28\",\"2022-01-29\",\"2022-01-30\",\"2022-01-31\",\"2022-02-01\",\"2022-02-02\",\"2022-02-03\",\"2022-02-04\",\"2022-02-05\",\"2022-02-06\",\"2022-02-07\",\"2022-02-08\",\"2022-02-09\",\"2022-02-10\",\"2022-02-11\",\"2022-02-12\",\"2022-02-13\",\"2022-02-14\",\"2022-02-15\",\"2022-02-16\",\"2022-02-17\",\"2022-02-18\",\"2022-02-19\",\"2022-02-20\",\"2022-02-21\",\"2022-02-22\",\"2022-02-23\",\"2022-02-24\",\"2022-02-25\",\"2022-02-26\",\"2022-02-27\",\"2022-02-28\",\"2022-03-01\",\"2022-03-02\",\"2022-03-03\",\"2022-03-04\",\"2022-03-05\",\"2022-03-06\",\"2022-03-07\",\"2022-03-08\",\"2022-03-09\",\"2022-03-10\"],\"y\":[83.87096774193549,69.23076923076923,68.42105263157895,69.0909090909091,73.17073170731707,84.0909090909091,87.5,65.38461538461539,71.42857142857143,73.61111111111111,76.0,72.72727272727273,71.42857142857143,66.66666666666666,75.60975609756098,68.75,60.0,77.38095238095238,62.19512195121951,81.81818181818183,72.22222222222221,66.66666666666666,75.0,54.90196078431373,81.48148148148148,61.25000000000001,68.75,60.0,62.16216216216216,60.0,46.15384615384615,66.66666666666666,50.0,52.94117647058824,71.66666666666667,58.536585365853654,66.66666666666666,59.09090909090909,70.58823529411765,46.15384615384615,66.66666666666666,66.66666666666666,62.5,69.76744186046511,71.42857142857143,71.05263157894737,65.51724137931035,60.86956521739131,55.55555555555556,75.0],\"type\":\"scatter\"},{\"x\":[\"2022-01-20\",\"2022-01-21\",\"2022-01-22\",\"2022-01-23\",\"2022-01-24\",\"2022-01-25\",\"2022-01-26\",\"2022-01-27\",\"2022-01-28\",\"2022-01-29\",\"2022-01-30\",\"2022-01-31\",\"2022-02-01\",\"2022-02-02\",\"2022-02-03\",\"2022-02-04\",\"2022-02-05\",\"2022-02-06\",\"2022-02-07\",\"2022-02-08\",\"2022-02-09\",\"2022-02-10\",\"2022-02-11\",\"2022-02-12\",\"2022-02-13\",\"2022-02-14\",\"2022-02-15\",\"2022-02-16\",\"2022-02-17\",\"2022-02-18\",\"2022-02-19\",\"2022-02-20\",\"2022-02-21\",\"2022-02-22\",\"2022-02-23\",\"2022-02-24\",\"2022-02-25\",\"2022-02-26\",\"2022-02-27\",\"2022-02-28\",\"2022-03-01\",\"2022-03-02\",\"2022-03-03\",\"2022-03-04\",\"2022-03-05\",\"2022-03-06\",\"2022-03-07\",\"2022-03-08\",\"2022-03-09\",\"2022-03-10\"],\"y\":[16.129032258064516,30.76923076923077,31.57894736842105,30.909090909090907,26.82926829268293,15.909090909090908,12.5,34.61538461538461,28.57142857142857,26.38888888888889,24.0,27.27272727272727,28.57142857142857,33.33333333333333,24.390243902439025,31.25,40.0,22.61904761904762,37.80487804878049,18.181818181818183,27.77777777777778,33.33333333333333,25.0,45.09803921568628,18.51851851851852,38.75,31.25,40.0,37.83783783783784,40.0,53.84615384615385,33.33333333333333,50.0,47.05882352941176,28.333333333333332,41.46341463414634,33.33333333333333,40.909090909090914,29.411764705882355,53.84615384615385,33.33333333333333,33.33333333333333,37.5,30.23255813953488,28.57142857142857,28.947368421052634,34.48275862068966,39.130434782608695,44.44444444444444,25.0],\"type\":\"scatter\"}]},{\"data\":[{\"x\":[\"2022-01-20\",\"2022-01-21\",\"2022-01-22\",\"2022-01-23\",\"2022-01-24\",\"2022-01-25\",\"2022-01-26\",\"2022-01-27\",\"2022-01-28\",\"2022-01-29\",\"2022-01-30\",\"2022-01-31\",\"2022-02-01\",\"2022-02-02\",\"2022-02-03\",\"2022-02-04\",\"2022-02-05\",\"2022-02-06\",\"2022-02-07\",\"2022-02-08\",\"2022-02-09\",\"2022-02-10\",\"2022-02-11\",\"2022-02-12\",\"2022-02-13\",\"2022-02-14\",\"2022-02-15\",\"2022-02-16\",\"2022-02-17\",\"2022-02-18\",\"2022-02-19\",\"2022-02-20\",\"2022-02-21\",\"2022-02-22\",\"2022-02-23\",\"2022-02-24\",\"2022-02-25\",\"2022-02-26\",\"2022-02-27\",\"2022-02-28\",\"2022-03-01\",\"2022-03-02\",\"2022-03-03\",\"2022-03-04\",\"2022-03-05\",\"2022-03-06\",\"2022-03-07\",\"2022-03-08\",\"2022-03-09\",\"2022-03-10\",\"2022-03-11\"],\"y\":[83.87096774193549,69.23076923076923,68.42105263157895,69.0909090909091,73.17073170731707,84.0909090909091,87.5,65.38461538461539,71.42857142857143,73.61111111111111,76.0,72.72727272727273,71.42857142857143,66.66666666666666,75.60975609756098,68.75,60.0,77.38095238095238,62.19512195121951,81.81818181818183,72.22222222222221,66.66666666666666,75.0,54.90196078431373,81.48148148148148,61.25000000000001,68.75,60.0,62.16216216216216,60.0,46.15384615384615,66.66666666666666,50.0,52.94117647058824,71.66666666666667,58.536585365853654,66.66666666666666,59.09090909090909,70.58823529411765,46.15384615384615,66.66666666666666,66.66666666666666,62.5,69.76744186046511,71.42857142857143,71.05263157894737,65.51724137931035,60.86956521739131,55.55555555555556,75.0,50.0],\"type\":\"scatter\"},{\"x\":[\"2022-01-20\",\"2022-01-21\",\"2022-01-22\",\"2022-01-23\",\"2022-01-24\",\"2022-01-25\",\"2022-01-26\",\"2022-01-27\",\"2022-01-28\",\"2022-01-29\",\"2022-01-30\",\"2022-01-31\",\"2022-02-01\",\"2022-02-02\",\"2022-02-03\",\"2022-02-04\",\"2022-02-05\",\"2022-02-06\",\"2022-02-07\",\"2022-02-08\",\"2022-02-09\",\"2022-02-10\",\"2022-02-11\",\"2022-02-12\",\"2022-02-13\",\"2022-02-14\",\"2022-02-15\",\"2022-02-16\",\"2022-02-17\",\"2022-02-18\",\"2022-02-19\",\"2022-02-20\",\"2022-02-21\",\"2022-02-22\",\"2022-02-23\",\"2022-02-24\",\"2022-02-25\",\"2022-02-26\",\"2022-02-27\",\"2022-02-28\",\"2022-03-01\",\"2022-03-02\",\"2022-03-03\",\"2022-03-04\",\"2022-03-05\",\"2022-03-06\",\"2022-03-07\",\"2022-03-08\",\"2022-03-09\",\"2022-03-10\",\"2022-03-11\"],\"y\":[16.129032258064516,30.76923076923077,31.57894736842105,30.909090909090907,26.82926829268293,15.909090909090908,12.5,34.61538461538461,28.57142857142857,26.38888888888889,24.0,27.27272727272727,28.57142857142857,33.33333333333333,24.390243902439025,31.25,40.0,22.61904761904762,37.80487804878049,18.181818181818183,27.77777777777778,33.33333333333333,25.0,45.09803921568628,18.51851851851852,38.75,31.25,40.0,37.83783783783784,40.0,53.84615384615385,33.33333333333333,50.0,47.05882352941176,28.333333333333332,41.46341463414634,33.33333333333333,40.909090909090914,29.411764705882355,53.84615384615385,33.33333333333333,33.33333333333333,37.5,30.23255813953488,28.57142857142857,28.947368421052634,34.48275862068966,39.130434782608695,44.44444444444444,25.0,50.0],\"type\":\"scatter\"}]},{\"data\":[{\"x\":[\"2022-01-20\",\"2022-01-21\",\"2022-01-22\",\"2022-01-23\",\"2022-01-24\",\"2022-01-25\",\"2022-01-26\",\"2022-01-27\",\"2022-01-28\",\"2022-01-29\",\"2022-01-30\",\"2022-01-31\",\"2022-02-01\",\"2022-02-02\",\"2022-02-03\",\"2022-02-04\",\"2022-02-05\",\"2022-02-06\",\"2022-02-07\",\"2022-02-08\",\"2022-02-09\",\"2022-02-10\",\"2022-02-11\",\"2022-02-12\",\"2022-02-13\",\"2022-02-14\",\"2022-02-15\",\"2022-02-16\",\"2022-02-17\",\"2022-02-18\",\"2022-02-19\",\"2022-02-20\",\"2022-02-21\",\"2022-02-22\",\"2022-02-23\",\"2022-02-24\",\"2022-02-25\",\"2022-02-26\",\"2022-02-27\",\"2022-02-28\",\"2022-03-01\",\"2022-03-02\",\"2022-03-03\",\"2022-03-04\",\"2022-03-05\",\"2022-03-06\",\"2022-03-07\",\"2022-03-08\",\"2022-03-09\",\"2022-03-10\",\"2022-03-11\",\"2022-03-12\"],\"y\":[83.87096774193549,69.23076923076923,68.42105263157895,69.0909090909091,73.17073170731707,84.0909090909091,87.5,65.38461538461539,71.42857142857143,73.61111111111111,76.0,72.72727272727273,71.42857142857143,66.66666666666666,75.60975609756098,68.75,60.0,77.38095238095238,62.19512195121951,81.81818181818183,72.22222222222221,66.66666666666666,75.0,54.90196078431373,81.48148148148148,61.25000000000001,68.75,60.0,62.16216216216216,60.0,46.15384615384615,66.66666666666666,50.0,52.94117647058824,71.66666666666667,58.536585365853654,66.66666666666666,59.09090909090909,70.58823529411765,46.15384615384615,66.66666666666666,66.66666666666666,62.5,69.76744186046511,71.42857142857143,71.05263157894737,65.51724137931035,60.86956521739131,55.55555555555556,75.0,50.0,73.64864864864865],\"type\":\"scatter\"},{\"x\":[\"2022-01-20\",\"2022-01-21\",\"2022-01-22\",\"2022-01-23\",\"2022-01-24\",\"2022-01-25\",\"2022-01-26\",\"2022-01-27\",\"2022-01-28\",\"2022-01-29\",\"2022-01-30\",\"2022-01-31\",\"2022-02-01\",\"2022-02-02\",\"2022-02-03\",\"2022-02-04\",\"2022-02-05\",\"2022-02-06\",\"2022-02-07\",\"2022-02-08\",\"2022-02-09\",\"2022-02-10\",\"2022-02-11\",\"2022-02-12\",\"2022-02-13\",\"2022-02-14\",\"2022-02-15\",\"2022-02-16\",\"2022-02-17\",\"2022-02-18\",\"2022-02-19\",\"2022-02-20\",\"2022-02-21\",\"2022-02-22\",\"2022-02-23\",\"2022-02-24\",\"2022-02-25\",\"2022-02-26\",\"2022-02-27\",\"2022-02-28\",\"2022-03-01\",\"2022-03-02\",\"2022-03-03\",\"2022-03-04\",\"2022-03-05\",\"2022-03-06\",\"2022-03-07\",\"2022-03-08\",\"2022-03-09\",\"2022-03-10\",\"2022-03-11\",\"2022-03-12\"],\"y\":[16.129032258064516,30.76923076923077,31.57894736842105,30.909090909090907,26.82926829268293,15.909090909090908,12.5,34.61538461538461,28.57142857142857,26.38888888888889,24.0,27.27272727272727,28.57142857142857,33.33333333333333,24.390243902439025,31.25,40.0,22.61904761904762,37.80487804878049,18.181818181818183,27.77777777777778,33.33333333333333,25.0,45.09803921568628,18.51851851851852,38.75,31.25,40.0,37.83783783783784,40.0,53.84615384615385,33.33333333333333,50.0,47.05882352941176,28.333333333333332,41.46341463414634,33.33333333333333,40.909090909090914,29.411764705882355,53.84615384615385,33.33333333333333,33.33333333333333,37.5,30.23255813953488,28.57142857142857,28.947368421052634,34.48275862068966,39.130434782608695,44.44444444444444,25.0,50.0,26.351351351351347],\"type\":\"scatter\"}]}]);\n",
       "                        }).then(function(){\n",
       "                            \n",
       "var gd = document.getElementById('262f99bf-1c7d-47bb-8937-24482de6f293');\n",
       "var x = new MutationObserver(function (mutations, observer) {{\n",
       "        var display = window.getComputedStyle(gd).display;\n",
       "        if (!display || display === 'none') {{\n",
       "            console.log([gd, 'removed!']);\n",
       "            Plotly.purge(gd);\n",
       "            observer.disconnect();\n",
       "        }}\n",
       "}});\n",
       "\n",
       "// Listen for the removal of the full notebook cells\n",
       "var notebookContainer = gd.closest('#notebook-container');\n",
       "if (notebookContainer) {{\n",
       "    x.observe(notebookContainer, {childList: true});\n",
       "}}\n",
       "\n",
       "// Listen for the clearing of the current output cell\n",
       "var outputEl = gd.closest('.output');\n",
       "if (outputEl) {{\n",
       "    x.observe(outputEl, {childList: true});\n",
       "}}\n",
       "\n",
       "                        })                };                });            </script>        </div>"
      ]
     },
     "metadata": {},
     "output_type": "display_data"
    }
   ],
   "source": [
    "covid_sentiment_df = get_flair_dummies(covid_df)\n",
    "figure_covid = get_scatter_animation(covid_sentiment_df)\n",
    "figure_covid.show(renderer='notebook_connected')"
   ]
  },
  {
   "cell_type": "code",
   "execution_count": 31,
   "metadata": {},
   "outputs": [
    {
     "data": {
      "text/html": [
       "        <script type=\"text/javascript\">\n",
       "        window.PlotlyConfig = {MathJaxConfig: 'local'};\n",
       "        if (window.MathJax) {MathJax.Hub.Config({SVG: {font: \"STIX-Web\"}});}\n",
       "        if (typeof require !== 'undefined') {\n",
       "        require.undef(\"plotly\");\n",
       "        requirejs.config({\n",
       "            paths: {\n",
       "                'plotly': ['https://cdn.plot.ly/plotly-2.6.3.min']\n",
       "            }\n",
       "        });\n",
       "        require(['plotly'], function(Plotly) {\n",
       "            window._Plotly = Plotly;\n",
       "        });\n",
       "        }\n",
       "        </script>\n",
       "        "
      ]
     },
     "metadata": {},
     "output_type": "display_data"
    },
    {
     "data": {
      "text/html": [
       "<div>                            <div id=\"40677266-d1e3-412c-b3ec-9bc8fed3db25\" class=\"plotly-graph-div\" style=\"height:525px; width:100%;\"></div>            <script type=\"text/javascript\">                require([\"plotly\"], function(Plotly) {                    window.PLOTLYENV=window.PLOTLYENV || {};                                    if (document.getElementById(\"40677266-d1e3-412c-b3ec-9bc8fed3db25\")) {                    Plotly.newPlot(                        \"40677266-d1e3-412c-b3ec-9bc8fed3db25\",                        [{\"line\":{\"color\":\"olive\",\"dash\":\"dash\"},\"name\":\"Negative\",\"visible\":true,\"x\":[\"2022-01-20\",\"2022-01-21\",\"2022-01-22\",\"2022-01-23\",\"2022-01-24\",\"2022-01-25\",\"2022-01-26\",\"2022-01-27\",\"2022-01-28\",\"2022-01-29\",\"2022-01-30\",\"2022-01-31\",\"2022-02-01\",\"2022-02-02\",\"2022-02-03\",\"2022-02-04\",\"2022-02-05\",\"2022-02-06\",\"2022-02-07\",\"2022-02-08\",\"2022-02-09\",\"2022-02-10\",\"2022-02-11\",\"2022-02-12\",\"2022-02-13\",\"2022-02-14\",\"2022-02-15\",\"2022-02-16\",\"2022-02-17\",\"2022-02-18\",\"2022-02-19\",\"2022-02-20\",\"2022-02-21\",\"2022-02-22\",\"2022-02-23\",\"2022-02-24\",\"2022-02-25\",\"2022-02-26\",\"2022-02-27\",\"2022-02-28\",\"2022-03-01\",\"2022-03-02\",\"2022-03-03\",\"2022-03-04\",\"2022-03-05\",\"2022-03-06\",\"2022-03-07\",\"2022-03-08\",\"2022-03-09\",\"2022-03-10\",\"2022-03-11\",\"2022-03-12\"],\"y\":[47.05882352941176,48.38709677419355,53.06122448979592,63.63636363636363,25.0,54.0,61.904761904761905,36.92307692307693,55.55555555555556,33.33333333333333,63.63636363636363,57.692307692307686,54.629629629629626,54.285714285714285,58.18181818181818,63.1578947368421,54.054054054054056,88.88888888888889,57.6271186440678,60.0,66.66666666666666,64.17910447761194,58.82352941176471,63.04347826086957,60.0,59.45945945945946,60.0,88.88888888888889,50.0,75.0,64.70588235294117,62.16216216216216,85.71428571428571,45.45454545454545,62.5,73.13432835820896,66.66666666666666,62.0,65.38461538461539,60.37735849056604,54.54545454545454,56.09756097560976,61.53846153846154,53.57142857142857,53.48837209302325,65.93406593406593,44.642857142857146,18.181818181818183,77.77777777777779,59.183673469387756,46.875,65.38461538461539],\"type\":\"scatter\"},{\"line\":{\"color\":\"gold\",\"dash\":\"dash\"},\"name\":\"Positive\",\"visible\":true,\"x\":[\"2022-01-20\",\"2022-01-21\",\"2022-01-22\",\"2022-01-23\",\"2022-01-24\",\"2022-01-25\",\"2022-01-26\",\"2022-01-27\",\"2022-01-28\",\"2022-01-29\",\"2022-01-30\",\"2022-01-31\",\"2022-02-01\",\"2022-02-02\",\"2022-02-03\",\"2022-02-04\",\"2022-02-05\",\"2022-02-06\",\"2022-02-07\",\"2022-02-08\",\"2022-02-09\",\"2022-02-10\",\"2022-02-11\",\"2022-02-12\",\"2022-02-13\",\"2022-02-14\",\"2022-02-15\",\"2022-02-16\",\"2022-02-17\",\"2022-02-18\",\"2022-02-19\",\"2022-02-20\",\"2022-02-21\",\"2022-02-22\",\"2022-02-23\",\"2022-02-24\",\"2022-02-25\",\"2022-02-26\",\"2022-02-27\",\"2022-02-28\",\"2022-03-01\",\"2022-03-02\",\"2022-03-03\",\"2022-03-04\",\"2022-03-05\",\"2022-03-06\",\"2022-03-07\",\"2022-03-08\",\"2022-03-09\",\"2022-03-10\",\"2022-03-11\",\"2022-03-12\"],\"y\":[52.94117647058824,51.61290322580645,46.93877551020408,36.36363636363637,75.0,46.0,38.095238095238095,63.07692307692307,44.44444444444444,66.66666666666666,36.36363636363637,42.30769230769231,45.370370370370374,45.714285714285715,41.81818181818181,36.84210526315789,45.94594594594595,11.11111111111111,42.3728813559322,40.0,33.33333333333333,35.82089552238806,41.17647058823529,36.95652173913043,40.0,40.54054054054054,40.0,11.11111111111111,50.0,25.0,35.294117647058826,37.83783783783784,14.285714285714285,54.54545454545454,37.5,26.865671641791046,33.33333333333333,38.0,34.61538461538461,39.62264150943396,45.45454545454545,43.90243902439025,38.46153846153847,46.42857142857143,46.51162790697674,34.065934065934066,55.35714285714286,81.81818181818183,22.22222222222222,40.816326530612244,53.125,34.61538461538461],\"type\":\"scatter\"}],                        {\"title\":{\"text\":\"Sentiment by Time\"},\"updatemenus\":[{\"direction\":\"right\",\"type\":\"buttons\",\"x\":0.9,\"y\":1.16,\"buttons\":[{\"args\":[null,{\"frame\":{\"duration\":700}}],\"label\":\"Play\",\"method\":\"animate\"},{\"args\":[{\"visible\":[false,true]},{\"showlegend\":true}],\"label\":\"Positive\",\"method\":\"update\"},{\"args\":[{\"visible\":[true,false]},{\"showlegend\":true}],\"label\":\"Negative\",\"method\":\"update\"},{\"args\":[{\"visible\":[true,true,true]},{\"showlegend\":true}],\"label\":\"All\",\"method\":\"update\"}]}],\"xaxis\":{\"tickmode\":\"linear\",\"title\":{\"text\":\"date\"},\"ticks\":\"outside\",\"tickwidth\":2,\"tickcolor\":\"white\"},\"yaxis\":{\"title\":{\"text\":\"percentage(%)\"},\"ticks\":\"outside\",\"tickwidth\":2,\"tickcolor\":\"white\",\"tickformat\":\",\"},\"template\":{\"data\":{\"bar\":[{\"error_x\":{\"color\":\"#2a3f5f\"},\"error_y\":{\"color\":\"#2a3f5f\"},\"marker\":{\"line\":{\"color\":\"#E5ECF6\",\"width\":0.5},\"pattern\":{\"fillmode\":\"overlay\",\"size\":10,\"solidity\":0.2}},\"type\":\"bar\"}],\"barpolar\":[{\"marker\":{\"line\":{\"color\":\"#E5ECF6\",\"width\":0.5},\"pattern\":{\"fillmode\":\"overlay\",\"size\":10,\"solidity\":0.2}},\"type\":\"barpolar\"}],\"carpet\":[{\"aaxis\":{\"endlinecolor\":\"#2a3f5f\",\"gridcolor\":\"white\",\"linecolor\":\"white\",\"minorgridcolor\":\"white\",\"startlinecolor\":\"#2a3f5f\"},\"baxis\":{\"endlinecolor\":\"#2a3f5f\",\"gridcolor\":\"white\",\"linecolor\":\"white\",\"minorgridcolor\":\"white\",\"startlinecolor\":\"#2a3f5f\"},\"type\":\"carpet\"}],\"choropleth\":[{\"colorbar\":{\"outlinewidth\":0,\"ticks\":\"\"},\"type\":\"choropleth\"}],\"contour\":[{\"colorbar\":{\"outlinewidth\":0,\"ticks\":\"\"},\"colorscale\":[[0.0,\"#0d0887\"],[0.1111111111111111,\"#46039f\"],[0.2222222222222222,\"#7201a8\"],[0.3333333333333333,\"#9c179e\"],[0.4444444444444444,\"#bd3786\"],[0.5555555555555556,\"#d8576b\"],[0.6666666666666666,\"#ed7953\"],[0.7777777777777778,\"#fb9f3a\"],[0.8888888888888888,\"#fdca26\"],[1.0,\"#f0f921\"]],\"type\":\"contour\"}],\"contourcarpet\":[{\"colorbar\":{\"outlinewidth\":0,\"ticks\":\"\"},\"type\":\"contourcarpet\"}],\"heatmap\":[{\"colorbar\":{\"outlinewidth\":0,\"ticks\":\"\"},\"colorscale\":[[0.0,\"#0d0887\"],[0.1111111111111111,\"#46039f\"],[0.2222222222222222,\"#7201a8\"],[0.3333333333333333,\"#9c179e\"],[0.4444444444444444,\"#bd3786\"],[0.5555555555555556,\"#d8576b\"],[0.6666666666666666,\"#ed7953\"],[0.7777777777777778,\"#fb9f3a\"],[0.8888888888888888,\"#fdca26\"],[1.0,\"#f0f921\"]],\"type\":\"heatmap\"}],\"heatmapgl\":[{\"colorbar\":{\"outlinewidth\":0,\"ticks\":\"\"},\"colorscale\":[[0.0,\"#0d0887\"],[0.1111111111111111,\"#46039f\"],[0.2222222222222222,\"#7201a8\"],[0.3333333333333333,\"#9c179e\"],[0.4444444444444444,\"#bd3786\"],[0.5555555555555556,\"#d8576b\"],[0.6666666666666666,\"#ed7953\"],[0.7777777777777778,\"#fb9f3a\"],[0.8888888888888888,\"#fdca26\"],[1.0,\"#f0f921\"]],\"type\":\"heatmapgl\"}],\"histogram\":[{\"marker\":{\"pattern\":{\"fillmode\":\"overlay\",\"size\":10,\"solidity\":0.2}},\"type\":\"histogram\"}],\"histogram2d\":[{\"colorbar\":{\"outlinewidth\":0,\"ticks\":\"\"},\"colorscale\":[[0.0,\"#0d0887\"],[0.1111111111111111,\"#46039f\"],[0.2222222222222222,\"#7201a8\"],[0.3333333333333333,\"#9c179e\"],[0.4444444444444444,\"#bd3786\"],[0.5555555555555556,\"#d8576b\"],[0.6666666666666666,\"#ed7953\"],[0.7777777777777778,\"#fb9f3a\"],[0.8888888888888888,\"#fdca26\"],[1.0,\"#f0f921\"]],\"type\":\"histogram2d\"}],\"histogram2dcontour\":[{\"colorbar\":{\"outlinewidth\":0,\"ticks\":\"\"},\"colorscale\":[[0.0,\"#0d0887\"],[0.1111111111111111,\"#46039f\"],[0.2222222222222222,\"#7201a8\"],[0.3333333333333333,\"#9c179e\"],[0.4444444444444444,\"#bd3786\"],[0.5555555555555556,\"#d8576b\"],[0.6666666666666666,\"#ed7953\"],[0.7777777777777778,\"#fb9f3a\"],[0.8888888888888888,\"#fdca26\"],[1.0,\"#f0f921\"]],\"type\":\"histogram2dcontour\"}],\"mesh3d\":[{\"colorbar\":{\"outlinewidth\":0,\"ticks\":\"\"},\"type\":\"mesh3d\"}],\"parcoords\":[{\"line\":{\"colorbar\":{\"outlinewidth\":0,\"ticks\":\"\"}},\"type\":\"parcoords\"}],\"pie\":[{\"automargin\":true,\"type\":\"pie\"}],\"scatter\":[{\"marker\":{\"colorbar\":{\"outlinewidth\":0,\"ticks\":\"\"}},\"type\":\"scatter\"}],\"scatter3d\":[{\"line\":{\"colorbar\":{\"outlinewidth\":0,\"ticks\":\"\"}},\"marker\":{\"colorbar\":{\"outlinewidth\":0,\"ticks\":\"\"}},\"type\":\"scatter3d\"}],\"scattercarpet\":[{\"marker\":{\"colorbar\":{\"outlinewidth\":0,\"ticks\":\"\"}},\"type\":\"scattercarpet\"}],\"scattergeo\":[{\"marker\":{\"colorbar\":{\"outlinewidth\":0,\"ticks\":\"\"}},\"type\":\"scattergeo\"}],\"scattergl\":[{\"marker\":{\"colorbar\":{\"outlinewidth\":0,\"ticks\":\"\"}},\"type\":\"scattergl\"}],\"scattermapbox\":[{\"marker\":{\"colorbar\":{\"outlinewidth\":0,\"ticks\":\"\"}},\"type\":\"scattermapbox\"}],\"scatterpolar\":[{\"marker\":{\"colorbar\":{\"outlinewidth\":0,\"ticks\":\"\"}},\"type\":\"scatterpolar\"}],\"scatterpolargl\":[{\"marker\":{\"colorbar\":{\"outlinewidth\":0,\"ticks\":\"\"}},\"type\":\"scatterpolargl\"}],\"scatterternary\":[{\"marker\":{\"colorbar\":{\"outlinewidth\":0,\"ticks\":\"\"}},\"type\":\"scatterternary\"}],\"surface\":[{\"colorbar\":{\"outlinewidth\":0,\"ticks\":\"\"},\"colorscale\":[[0.0,\"#0d0887\"],[0.1111111111111111,\"#46039f\"],[0.2222222222222222,\"#7201a8\"],[0.3333333333333333,\"#9c179e\"],[0.4444444444444444,\"#bd3786\"],[0.5555555555555556,\"#d8576b\"],[0.6666666666666666,\"#ed7953\"],[0.7777777777777778,\"#fb9f3a\"],[0.8888888888888888,\"#fdca26\"],[1.0,\"#f0f921\"]],\"type\":\"surface\"}],\"table\":[{\"cells\":{\"fill\":{\"color\":\"#EBF0F8\"},\"line\":{\"color\":\"white\"}},\"header\":{\"fill\":{\"color\":\"#C8D4E3\"},\"line\":{\"color\":\"white\"}},\"type\":\"table\"}]},\"layout\":{\"annotationdefaults\":{\"arrowcolor\":\"#2a3f5f\",\"arrowhead\":0,\"arrowwidth\":1},\"autotypenumbers\":\"strict\",\"coloraxis\":{\"colorbar\":{\"outlinewidth\":0,\"ticks\":\"\"}},\"colorscale\":{\"diverging\":[[0,\"#8e0152\"],[0.1,\"#c51b7d\"],[0.2,\"#de77ae\"],[0.3,\"#f1b6da\"],[0.4,\"#fde0ef\"],[0.5,\"#f7f7f7\"],[0.6,\"#e6f5d0\"],[0.7,\"#b8e186\"],[0.8,\"#7fbc41\"],[0.9,\"#4d9221\"],[1,\"#276419\"]],\"sequential\":[[0.0,\"#0d0887\"],[0.1111111111111111,\"#46039f\"],[0.2222222222222222,\"#7201a8\"],[0.3333333333333333,\"#9c179e\"],[0.4444444444444444,\"#bd3786\"],[0.5555555555555556,\"#d8576b\"],[0.6666666666666666,\"#ed7953\"],[0.7777777777777778,\"#fb9f3a\"],[0.8888888888888888,\"#fdca26\"],[1.0,\"#f0f921\"]],\"sequentialminus\":[[0.0,\"#0d0887\"],[0.1111111111111111,\"#46039f\"],[0.2222222222222222,\"#7201a8\"],[0.3333333333333333,\"#9c179e\"],[0.4444444444444444,\"#bd3786\"],[0.5555555555555556,\"#d8576b\"],[0.6666666666666666,\"#ed7953\"],[0.7777777777777778,\"#fb9f3a\"],[0.8888888888888888,\"#fdca26\"],[1.0,\"#f0f921\"]]},\"colorway\":[\"#636efa\",\"#EF553B\",\"#00cc96\",\"#ab63fa\",\"#FFA15A\",\"#19d3f3\",\"#FF6692\",\"#B6E880\",\"#FF97FF\",\"#FECB52\"],\"font\":{\"color\":\"#2a3f5f\"},\"geo\":{\"bgcolor\":\"white\",\"lakecolor\":\"white\",\"landcolor\":\"#E5ECF6\",\"showlakes\":true,\"showland\":true,\"subunitcolor\":\"white\"},\"hoverlabel\":{\"align\":\"left\"},\"hovermode\":\"closest\",\"mapbox\":{\"style\":\"light\"},\"paper_bgcolor\":\"white\",\"plot_bgcolor\":\"#E5ECF6\",\"polar\":{\"angularaxis\":{\"gridcolor\":\"white\",\"linecolor\":\"white\",\"ticks\":\"\"},\"bgcolor\":\"#E5ECF6\",\"radialaxis\":{\"gridcolor\":\"white\",\"linecolor\":\"white\",\"ticks\":\"\"}},\"scene\":{\"xaxis\":{\"backgroundcolor\":\"#E5ECF6\",\"gridcolor\":\"white\",\"gridwidth\":2,\"linecolor\":\"white\",\"showbackground\":true,\"ticks\":\"\",\"zerolinecolor\":\"white\"},\"yaxis\":{\"backgroundcolor\":\"#E5ECF6\",\"gridcolor\":\"white\",\"gridwidth\":2,\"linecolor\":\"white\",\"showbackground\":true,\"ticks\":\"\",\"zerolinecolor\":\"white\"},\"zaxis\":{\"backgroundcolor\":\"#E5ECF6\",\"gridcolor\":\"white\",\"gridwidth\":2,\"linecolor\":\"white\",\"showbackground\":true,\"ticks\":\"\",\"zerolinecolor\":\"white\"}},\"shapedefaults\":{\"line\":{\"color\":\"#2a3f5f\"}},\"ternary\":{\"aaxis\":{\"gridcolor\":\"white\",\"linecolor\":\"white\",\"ticks\":\"\"},\"baxis\":{\"gridcolor\":\"white\",\"linecolor\":\"white\",\"ticks\":\"\"},\"bgcolor\":\"#E5ECF6\",\"caxis\":{\"gridcolor\":\"white\",\"linecolor\":\"white\",\"ticks\":\"\"}},\"title\":{\"x\":0.05},\"xaxis\":{\"automargin\":true,\"gridcolor\":\"white\",\"linecolor\":\"white\",\"ticks\":\"\",\"title\":{\"standoff\":15},\"zerolinecolor\":\"white\",\"zerolinewidth\":2},\"yaxis\":{\"automargin\":true,\"gridcolor\":\"white\",\"linecolor\":\"white\",\"ticks\":\"\",\"title\":{\"standoff\":15},\"zerolinecolor\":\"white\",\"zerolinewidth\":2}}},\"legend\":{\"x\":0,\"y\":1.1,\"orientation\":\"h\"}},                        {\"responsive\": true}                    ).then(function(){\n",
       "                            Plotly.addFrames('40677266-d1e3-412c-b3ec-9bc8fed3db25', [{\"data\":[{\"x\":[],\"y\":[],\"type\":\"scatter\"},{\"x\":[],\"y\":[],\"type\":\"scatter\"}]},{\"data\":[{\"x\":[\"2022-01-20\"],\"y\":[47.05882352941176],\"type\":\"scatter\"},{\"x\":[\"2022-01-20\"],\"y\":[52.94117647058824],\"type\":\"scatter\"}]},{\"data\":[{\"x\":[\"2022-01-20\",\"2022-01-21\"],\"y\":[47.05882352941176,48.38709677419355],\"type\":\"scatter\"},{\"x\":[\"2022-01-20\",\"2022-01-21\"],\"y\":[52.94117647058824,51.61290322580645],\"type\":\"scatter\"}]},{\"data\":[{\"x\":[\"2022-01-20\",\"2022-01-21\",\"2022-01-22\"],\"y\":[47.05882352941176,48.38709677419355,53.06122448979592],\"type\":\"scatter\"},{\"x\":[\"2022-01-20\",\"2022-01-21\",\"2022-01-22\"],\"y\":[52.94117647058824,51.61290322580645,46.93877551020408],\"type\":\"scatter\"}]},{\"data\":[{\"x\":[\"2022-01-20\",\"2022-01-21\",\"2022-01-22\",\"2022-01-23\"],\"y\":[47.05882352941176,48.38709677419355,53.06122448979592,63.63636363636363],\"type\":\"scatter\"},{\"x\":[\"2022-01-20\",\"2022-01-21\",\"2022-01-22\",\"2022-01-23\"],\"y\":[52.94117647058824,51.61290322580645,46.93877551020408,36.36363636363637],\"type\":\"scatter\"}]},{\"data\":[{\"x\":[\"2022-01-20\",\"2022-01-21\",\"2022-01-22\",\"2022-01-23\",\"2022-01-24\"],\"y\":[47.05882352941176,48.38709677419355,53.06122448979592,63.63636363636363,25.0],\"type\":\"scatter\"},{\"x\":[\"2022-01-20\",\"2022-01-21\",\"2022-01-22\",\"2022-01-23\",\"2022-01-24\"],\"y\":[52.94117647058824,51.61290322580645,46.93877551020408,36.36363636363637,75.0],\"type\":\"scatter\"}]},{\"data\":[{\"x\":[\"2022-01-20\",\"2022-01-21\",\"2022-01-22\",\"2022-01-23\",\"2022-01-24\",\"2022-01-25\"],\"y\":[47.05882352941176,48.38709677419355,53.06122448979592,63.63636363636363,25.0,54.0],\"type\":\"scatter\"},{\"x\":[\"2022-01-20\",\"2022-01-21\",\"2022-01-22\",\"2022-01-23\",\"2022-01-24\",\"2022-01-25\"],\"y\":[52.94117647058824,51.61290322580645,46.93877551020408,36.36363636363637,75.0,46.0],\"type\":\"scatter\"}]},{\"data\":[{\"x\":[\"2022-01-20\",\"2022-01-21\",\"2022-01-22\",\"2022-01-23\",\"2022-01-24\",\"2022-01-25\",\"2022-01-26\"],\"y\":[47.05882352941176,48.38709677419355,53.06122448979592,63.63636363636363,25.0,54.0,61.904761904761905],\"type\":\"scatter\"},{\"x\":[\"2022-01-20\",\"2022-01-21\",\"2022-01-22\",\"2022-01-23\",\"2022-01-24\",\"2022-01-25\",\"2022-01-26\"],\"y\":[52.94117647058824,51.61290322580645,46.93877551020408,36.36363636363637,75.0,46.0,38.095238095238095],\"type\":\"scatter\"}]},{\"data\":[{\"x\":[\"2022-01-20\",\"2022-01-21\",\"2022-01-22\",\"2022-01-23\",\"2022-01-24\",\"2022-01-25\",\"2022-01-26\",\"2022-01-27\"],\"y\":[47.05882352941176,48.38709677419355,53.06122448979592,63.63636363636363,25.0,54.0,61.904761904761905,36.92307692307693],\"type\":\"scatter\"},{\"x\":[\"2022-01-20\",\"2022-01-21\",\"2022-01-22\",\"2022-01-23\",\"2022-01-24\",\"2022-01-25\",\"2022-01-26\",\"2022-01-27\"],\"y\":[52.94117647058824,51.61290322580645,46.93877551020408,36.36363636363637,75.0,46.0,38.095238095238095,63.07692307692307],\"type\":\"scatter\"}]},{\"data\":[{\"x\":[\"2022-01-20\",\"2022-01-21\",\"2022-01-22\",\"2022-01-23\",\"2022-01-24\",\"2022-01-25\",\"2022-01-26\",\"2022-01-27\",\"2022-01-28\"],\"y\":[47.05882352941176,48.38709677419355,53.06122448979592,63.63636363636363,25.0,54.0,61.904761904761905,36.92307692307693,55.55555555555556],\"type\":\"scatter\"},{\"x\":[\"2022-01-20\",\"2022-01-21\",\"2022-01-22\",\"2022-01-23\",\"2022-01-24\",\"2022-01-25\",\"2022-01-26\",\"2022-01-27\",\"2022-01-28\"],\"y\":[52.94117647058824,51.61290322580645,46.93877551020408,36.36363636363637,75.0,46.0,38.095238095238095,63.07692307692307,44.44444444444444],\"type\":\"scatter\"}]},{\"data\":[{\"x\":[\"2022-01-20\",\"2022-01-21\",\"2022-01-22\",\"2022-01-23\",\"2022-01-24\",\"2022-01-25\",\"2022-01-26\",\"2022-01-27\",\"2022-01-28\",\"2022-01-29\"],\"y\":[47.05882352941176,48.38709677419355,53.06122448979592,63.63636363636363,25.0,54.0,61.904761904761905,36.92307692307693,55.55555555555556,33.33333333333333],\"type\":\"scatter\"},{\"x\":[\"2022-01-20\",\"2022-01-21\",\"2022-01-22\",\"2022-01-23\",\"2022-01-24\",\"2022-01-25\",\"2022-01-26\",\"2022-01-27\",\"2022-01-28\",\"2022-01-29\"],\"y\":[52.94117647058824,51.61290322580645,46.93877551020408,36.36363636363637,75.0,46.0,38.095238095238095,63.07692307692307,44.44444444444444,66.66666666666666],\"type\":\"scatter\"}]},{\"data\":[{\"x\":[\"2022-01-20\",\"2022-01-21\",\"2022-01-22\",\"2022-01-23\",\"2022-01-24\",\"2022-01-25\",\"2022-01-26\",\"2022-01-27\",\"2022-01-28\",\"2022-01-29\",\"2022-01-30\"],\"y\":[47.05882352941176,48.38709677419355,53.06122448979592,63.63636363636363,25.0,54.0,61.904761904761905,36.92307692307693,55.55555555555556,33.33333333333333,63.63636363636363],\"type\":\"scatter\"},{\"x\":[\"2022-01-20\",\"2022-01-21\",\"2022-01-22\",\"2022-01-23\",\"2022-01-24\",\"2022-01-25\",\"2022-01-26\",\"2022-01-27\",\"2022-01-28\",\"2022-01-29\",\"2022-01-30\"],\"y\":[52.94117647058824,51.61290322580645,46.93877551020408,36.36363636363637,75.0,46.0,38.095238095238095,63.07692307692307,44.44444444444444,66.66666666666666,36.36363636363637],\"type\":\"scatter\"}]},{\"data\":[{\"x\":[\"2022-01-20\",\"2022-01-21\",\"2022-01-22\",\"2022-01-23\",\"2022-01-24\",\"2022-01-25\",\"2022-01-26\",\"2022-01-27\",\"2022-01-28\",\"2022-01-29\",\"2022-01-30\",\"2022-01-31\"],\"y\":[47.05882352941176,48.38709677419355,53.06122448979592,63.63636363636363,25.0,54.0,61.904761904761905,36.92307692307693,55.55555555555556,33.33333333333333,63.63636363636363,57.692307692307686],\"type\":\"scatter\"},{\"x\":[\"2022-01-20\",\"2022-01-21\",\"2022-01-22\",\"2022-01-23\",\"2022-01-24\",\"2022-01-25\",\"2022-01-26\",\"2022-01-27\",\"2022-01-28\",\"2022-01-29\",\"2022-01-30\",\"2022-01-31\"],\"y\":[52.94117647058824,51.61290322580645,46.93877551020408,36.36363636363637,75.0,46.0,38.095238095238095,63.07692307692307,44.44444444444444,66.66666666666666,36.36363636363637,42.30769230769231],\"type\":\"scatter\"}]},{\"data\":[{\"x\":[\"2022-01-20\",\"2022-01-21\",\"2022-01-22\",\"2022-01-23\",\"2022-01-24\",\"2022-01-25\",\"2022-01-26\",\"2022-01-27\",\"2022-01-28\",\"2022-01-29\",\"2022-01-30\",\"2022-01-31\",\"2022-02-01\"],\"y\":[47.05882352941176,48.38709677419355,53.06122448979592,63.63636363636363,25.0,54.0,61.904761904761905,36.92307692307693,55.55555555555556,33.33333333333333,63.63636363636363,57.692307692307686,54.629629629629626],\"type\":\"scatter\"},{\"x\":[\"2022-01-20\",\"2022-01-21\",\"2022-01-22\",\"2022-01-23\",\"2022-01-24\",\"2022-01-25\",\"2022-01-26\",\"2022-01-27\",\"2022-01-28\",\"2022-01-29\",\"2022-01-30\",\"2022-01-31\",\"2022-02-01\"],\"y\":[52.94117647058824,51.61290322580645,46.93877551020408,36.36363636363637,75.0,46.0,38.095238095238095,63.07692307692307,44.44444444444444,66.66666666666666,36.36363636363637,42.30769230769231,45.370370370370374],\"type\":\"scatter\"}]},{\"data\":[{\"x\":[\"2022-01-20\",\"2022-01-21\",\"2022-01-22\",\"2022-01-23\",\"2022-01-24\",\"2022-01-25\",\"2022-01-26\",\"2022-01-27\",\"2022-01-28\",\"2022-01-29\",\"2022-01-30\",\"2022-01-31\",\"2022-02-01\",\"2022-02-02\"],\"y\":[47.05882352941176,48.38709677419355,53.06122448979592,63.63636363636363,25.0,54.0,61.904761904761905,36.92307692307693,55.55555555555556,33.33333333333333,63.63636363636363,57.692307692307686,54.629629629629626,54.285714285714285],\"type\":\"scatter\"},{\"x\":[\"2022-01-20\",\"2022-01-21\",\"2022-01-22\",\"2022-01-23\",\"2022-01-24\",\"2022-01-25\",\"2022-01-26\",\"2022-01-27\",\"2022-01-28\",\"2022-01-29\",\"2022-01-30\",\"2022-01-31\",\"2022-02-01\",\"2022-02-02\"],\"y\":[52.94117647058824,51.61290322580645,46.93877551020408,36.36363636363637,75.0,46.0,38.095238095238095,63.07692307692307,44.44444444444444,66.66666666666666,36.36363636363637,42.30769230769231,45.370370370370374,45.714285714285715],\"type\":\"scatter\"}]},{\"data\":[{\"x\":[\"2022-01-20\",\"2022-01-21\",\"2022-01-22\",\"2022-01-23\",\"2022-01-24\",\"2022-01-25\",\"2022-01-26\",\"2022-01-27\",\"2022-01-28\",\"2022-01-29\",\"2022-01-30\",\"2022-01-31\",\"2022-02-01\",\"2022-02-02\",\"2022-02-03\"],\"y\":[47.05882352941176,48.38709677419355,53.06122448979592,63.63636363636363,25.0,54.0,61.904761904761905,36.92307692307693,55.55555555555556,33.33333333333333,63.63636363636363,57.692307692307686,54.629629629629626,54.285714285714285,58.18181818181818],\"type\":\"scatter\"},{\"x\":[\"2022-01-20\",\"2022-01-21\",\"2022-01-22\",\"2022-01-23\",\"2022-01-24\",\"2022-01-25\",\"2022-01-26\",\"2022-01-27\",\"2022-01-28\",\"2022-01-29\",\"2022-01-30\",\"2022-01-31\",\"2022-02-01\",\"2022-02-02\",\"2022-02-03\"],\"y\":[52.94117647058824,51.61290322580645,46.93877551020408,36.36363636363637,75.0,46.0,38.095238095238095,63.07692307692307,44.44444444444444,66.66666666666666,36.36363636363637,42.30769230769231,45.370370370370374,45.714285714285715,41.81818181818181],\"type\":\"scatter\"}]},{\"data\":[{\"x\":[\"2022-01-20\",\"2022-01-21\",\"2022-01-22\",\"2022-01-23\",\"2022-01-24\",\"2022-01-25\",\"2022-01-26\",\"2022-01-27\",\"2022-01-28\",\"2022-01-29\",\"2022-01-30\",\"2022-01-31\",\"2022-02-01\",\"2022-02-02\",\"2022-02-03\",\"2022-02-04\"],\"y\":[47.05882352941176,48.38709677419355,53.06122448979592,63.63636363636363,25.0,54.0,61.904761904761905,36.92307692307693,55.55555555555556,33.33333333333333,63.63636363636363,57.692307692307686,54.629629629629626,54.285714285714285,58.18181818181818,63.1578947368421],\"type\":\"scatter\"},{\"x\":[\"2022-01-20\",\"2022-01-21\",\"2022-01-22\",\"2022-01-23\",\"2022-01-24\",\"2022-01-25\",\"2022-01-26\",\"2022-01-27\",\"2022-01-28\",\"2022-01-29\",\"2022-01-30\",\"2022-01-31\",\"2022-02-01\",\"2022-02-02\",\"2022-02-03\",\"2022-02-04\"],\"y\":[52.94117647058824,51.61290322580645,46.93877551020408,36.36363636363637,75.0,46.0,38.095238095238095,63.07692307692307,44.44444444444444,66.66666666666666,36.36363636363637,42.30769230769231,45.370370370370374,45.714285714285715,41.81818181818181,36.84210526315789],\"type\":\"scatter\"}]},{\"data\":[{\"x\":[\"2022-01-20\",\"2022-01-21\",\"2022-01-22\",\"2022-01-23\",\"2022-01-24\",\"2022-01-25\",\"2022-01-26\",\"2022-01-27\",\"2022-01-28\",\"2022-01-29\",\"2022-01-30\",\"2022-01-31\",\"2022-02-01\",\"2022-02-02\",\"2022-02-03\",\"2022-02-04\",\"2022-02-05\"],\"y\":[47.05882352941176,48.38709677419355,53.06122448979592,63.63636363636363,25.0,54.0,61.904761904761905,36.92307692307693,55.55555555555556,33.33333333333333,63.63636363636363,57.692307692307686,54.629629629629626,54.285714285714285,58.18181818181818,63.1578947368421,54.054054054054056],\"type\":\"scatter\"},{\"x\":[\"2022-01-20\",\"2022-01-21\",\"2022-01-22\",\"2022-01-23\",\"2022-01-24\",\"2022-01-25\",\"2022-01-26\",\"2022-01-27\",\"2022-01-28\",\"2022-01-29\",\"2022-01-30\",\"2022-01-31\",\"2022-02-01\",\"2022-02-02\",\"2022-02-03\",\"2022-02-04\",\"2022-02-05\"],\"y\":[52.94117647058824,51.61290322580645,46.93877551020408,36.36363636363637,75.0,46.0,38.095238095238095,63.07692307692307,44.44444444444444,66.66666666666666,36.36363636363637,42.30769230769231,45.370370370370374,45.714285714285715,41.81818181818181,36.84210526315789,45.94594594594595],\"type\":\"scatter\"}]},{\"data\":[{\"x\":[\"2022-01-20\",\"2022-01-21\",\"2022-01-22\",\"2022-01-23\",\"2022-01-24\",\"2022-01-25\",\"2022-01-26\",\"2022-01-27\",\"2022-01-28\",\"2022-01-29\",\"2022-01-30\",\"2022-01-31\",\"2022-02-01\",\"2022-02-02\",\"2022-02-03\",\"2022-02-04\",\"2022-02-05\",\"2022-02-06\"],\"y\":[47.05882352941176,48.38709677419355,53.06122448979592,63.63636363636363,25.0,54.0,61.904761904761905,36.92307692307693,55.55555555555556,33.33333333333333,63.63636363636363,57.692307692307686,54.629629629629626,54.285714285714285,58.18181818181818,63.1578947368421,54.054054054054056,88.88888888888889],\"type\":\"scatter\"},{\"x\":[\"2022-01-20\",\"2022-01-21\",\"2022-01-22\",\"2022-01-23\",\"2022-01-24\",\"2022-01-25\",\"2022-01-26\",\"2022-01-27\",\"2022-01-28\",\"2022-01-29\",\"2022-01-30\",\"2022-01-31\",\"2022-02-01\",\"2022-02-02\",\"2022-02-03\",\"2022-02-04\",\"2022-02-05\",\"2022-02-06\"],\"y\":[52.94117647058824,51.61290322580645,46.93877551020408,36.36363636363637,75.0,46.0,38.095238095238095,63.07692307692307,44.44444444444444,66.66666666666666,36.36363636363637,42.30769230769231,45.370370370370374,45.714285714285715,41.81818181818181,36.84210526315789,45.94594594594595,11.11111111111111],\"type\":\"scatter\"}]},{\"data\":[{\"x\":[\"2022-01-20\",\"2022-01-21\",\"2022-01-22\",\"2022-01-23\",\"2022-01-24\",\"2022-01-25\",\"2022-01-26\",\"2022-01-27\",\"2022-01-28\",\"2022-01-29\",\"2022-01-30\",\"2022-01-31\",\"2022-02-01\",\"2022-02-02\",\"2022-02-03\",\"2022-02-04\",\"2022-02-05\",\"2022-02-06\",\"2022-02-07\"],\"y\":[47.05882352941176,48.38709677419355,53.06122448979592,63.63636363636363,25.0,54.0,61.904761904761905,36.92307692307693,55.55555555555556,33.33333333333333,63.63636363636363,57.692307692307686,54.629629629629626,54.285714285714285,58.18181818181818,63.1578947368421,54.054054054054056,88.88888888888889,57.6271186440678],\"type\":\"scatter\"},{\"x\":[\"2022-01-20\",\"2022-01-21\",\"2022-01-22\",\"2022-01-23\",\"2022-01-24\",\"2022-01-25\",\"2022-01-26\",\"2022-01-27\",\"2022-01-28\",\"2022-01-29\",\"2022-01-30\",\"2022-01-31\",\"2022-02-01\",\"2022-02-02\",\"2022-02-03\",\"2022-02-04\",\"2022-02-05\",\"2022-02-06\",\"2022-02-07\"],\"y\":[52.94117647058824,51.61290322580645,46.93877551020408,36.36363636363637,75.0,46.0,38.095238095238095,63.07692307692307,44.44444444444444,66.66666666666666,36.36363636363637,42.30769230769231,45.370370370370374,45.714285714285715,41.81818181818181,36.84210526315789,45.94594594594595,11.11111111111111,42.3728813559322],\"type\":\"scatter\"}]},{\"data\":[{\"x\":[\"2022-01-20\",\"2022-01-21\",\"2022-01-22\",\"2022-01-23\",\"2022-01-24\",\"2022-01-25\",\"2022-01-26\",\"2022-01-27\",\"2022-01-28\",\"2022-01-29\",\"2022-01-30\",\"2022-01-31\",\"2022-02-01\",\"2022-02-02\",\"2022-02-03\",\"2022-02-04\",\"2022-02-05\",\"2022-02-06\",\"2022-02-07\",\"2022-02-08\"],\"y\":[47.05882352941176,48.38709677419355,53.06122448979592,63.63636363636363,25.0,54.0,61.904761904761905,36.92307692307693,55.55555555555556,33.33333333333333,63.63636363636363,57.692307692307686,54.629629629629626,54.285714285714285,58.18181818181818,63.1578947368421,54.054054054054056,88.88888888888889,57.6271186440678,60.0],\"type\":\"scatter\"},{\"x\":[\"2022-01-20\",\"2022-01-21\",\"2022-01-22\",\"2022-01-23\",\"2022-01-24\",\"2022-01-25\",\"2022-01-26\",\"2022-01-27\",\"2022-01-28\",\"2022-01-29\",\"2022-01-30\",\"2022-01-31\",\"2022-02-01\",\"2022-02-02\",\"2022-02-03\",\"2022-02-04\",\"2022-02-05\",\"2022-02-06\",\"2022-02-07\",\"2022-02-08\"],\"y\":[52.94117647058824,51.61290322580645,46.93877551020408,36.36363636363637,75.0,46.0,38.095238095238095,63.07692307692307,44.44444444444444,66.66666666666666,36.36363636363637,42.30769230769231,45.370370370370374,45.714285714285715,41.81818181818181,36.84210526315789,45.94594594594595,11.11111111111111,42.3728813559322,40.0],\"type\":\"scatter\"}]},{\"data\":[{\"x\":[\"2022-01-20\",\"2022-01-21\",\"2022-01-22\",\"2022-01-23\",\"2022-01-24\",\"2022-01-25\",\"2022-01-26\",\"2022-01-27\",\"2022-01-28\",\"2022-01-29\",\"2022-01-30\",\"2022-01-31\",\"2022-02-01\",\"2022-02-02\",\"2022-02-03\",\"2022-02-04\",\"2022-02-05\",\"2022-02-06\",\"2022-02-07\",\"2022-02-08\",\"2022-02-09\"],\"y\":[47.05882352941176,48.38709677419355,53.06122448979592,63.63636363636363,25.0,54.0,61.904761904761905,36.92307692307693,55.55555555555556,33.33333333333333,63.63636363636363,57.692307692307686,54.629629629629626,54.285714285714285,58.18181818181818,63.1578947368421,54.054054054054056,88.88888888888889,57.6271186440678,60.0,66.66666666666666],\"type\":\"scatter\"},{\"x\":[\"2022-01-20\",\"2022-01-21\",\"2022-01-22\",\"2022-01-23\",\"2022-01-24\",\"2022-01-25\",\"2022-01-26\",\"2022-01-27\",\"2022-01-28\",\"2022-01-29\",\"2022-01-30\",\"2022-01-31\",\"2022-02-01\",\"2022-02-02\",\"2022-02-03\",\"2022-02-04\",\"2022-02-05\",\"2022-02-06\",\"2022-02-07\",\"2022-02-08\",\"2022-02-09\"],\"y\":[52.94117647058824,51.61290322580645,46.93877551020408,36.36363636363637,75.0,46.0,38.095238095238095,63.07692307692307,44.44444444444444,66.66666666666666,36.36363636363637,42.30769230769231,45.370370370370374,45.714285714285715,41.81818181818181,36.84210526315789,45.94594594594595,11.11111111111111,42.3728813559322,40.0,33.33333333333333],\"type\":\"scatter\"}]},{\"data\":[{\"x\":[\"2022-01-20\",\"2022-01-21\",\"2022-01-22\",\"2022-01-23\",\"2022-01-24\",\"2022-01-25\",\"2022-01-26\",\"2022-01-27\",\"2022-01-28\",\"2022-01-29\",\"2022-01-30\",\"2022-01-31\",\"2022-02-01\",\"2022-02-02\",\"2022-02-03\",\"2022-02-04\",\"2022-02-05\",\"2022-02-06\",\"2022-02-07\",\"2022-02-08\",\"2022-02-09\",\"2022-02-10\"],\"y\":[47.05882352941176,48.38709677419355,53.06122448979592,63.63636363636363,25.0,54.0,61.904761904761905,36.92307692307693,55.55555555555556,33.33333333333333,63.63636363636363,57.692307692307686,54.629629629629626,54.285714285714285,58.18181818181818,63.1578947368421,54.054054054054056,88.88888888888889,57.6271186440678,60.0,66.66666666666666,64.17910447761194],\"type\":\"scatter\"},{\"x\":[\"2022-01-20\",\"2022-01-21\",\"2022-01-22\",\"2022-01-23\",\"2022-01-24\",\"2022-01-25\",\"2022-01-26\",\"2022-01-27\",\"2022-01-28\",\"2022-01-29\",\"2022-01-30\",\"2022-01-31\",\"2022-02-01\",\"2022-02-02\",\"2022-02-03\",\"2022-02-04\",\"2022-02-05\",\"2022-02-06\",\"2022-02-07\",\"2022-02-08\",\"2022-02-09\",\"2022-02-10\"],\"y\":[52.94117647058824,51.61290322580645,46.93877551020408,36.36363636363637,75.0,46.0,38.095238095238095,63.07692307692307,44.44444444444444,66.66666666666666,36.36363636363637,42.30769230769231,45.370370370370374,45.714285714285715,41.81818181818181,36.84210526315789,45.94594594594595,11.11111111111111,42.3728813559322,40.0,33.33333333333333,35.82089552238806],\"type\":\"scatter\"}]},{\"data\":[{\"x\":[\"2022-01-20\",\"2022-01-21\",\"2022-01-22\",\"2022-01-23\",\"2022-01-24\",\"2022-01-25\",\"2022-01-26\",\"2022-01-27\",\"2022-01-28\",\"2022-01-29\",\"2022-01-30\",\"2022-01-31\",\"2022-02-01\",\"2022-02-02\",\"2022-02-03\",\"2022-02-04\",\"2022-02-05\",\"2022-02-06\",\"2022-02-07\",\"2022-02-08\",\"2022-02-09\",\"2022-02-10\",\"2022-02-11\"],\"y\":[47.05882352941176,48.38709677419355,53.06122448979592,63.63636363636363,25.0,54.0,61.904761904761905,36.92307692307693,55.55555555555556,33.33333333333333,63.63636363636363,57.692307692307686,54.629629629629626,54.285714285714285,58.18181818181818,63.1578947368421,54.054054054054056,88.88888888888889,57.6271186440678,60.0,66.66666666666666,64.17910447761194,58.82352941176471],\"type\":\"scatter\"},{\"x\":[\"2022-01-20\",\"2022-01-21\",\"2022-01-22\",\"2022-01-23\",\"2022-01-24\",\"2022-01-25\",\"2022-01-26\",\"2022-01-27\",\"2022-01-28\",\"2022-01-29\",\"2022-01-30\",\"2022-01-31\",\"2022-02-01\",\"2022-02-02\",\"2022-02-03\",\"2022-02-04\",\"2022-02-05\",\"2022-02-06\",\"2022-02-07\",\"2022-02-08\",\"2022-02-09\",\"2022-02-10\",\"2022-02-11\"],\"y\":[52.94117647058824,51.61290322580645,46.93877551020408,36.36363636363637,75.0,46.0,38.095238095238095,63.07692307692307,44.44444444444444,66.66666666666666,36.36363636363637,42.30769230769231,45.370370370370374,45.714285714285715,41.81818181818181,36.84210526315789,45.94594594594595,11.11111111111111,42.3728813559322,40.0,33.33333333333333,35.82089552238806,41.17647058823529],\"type\":\"scatter\"}]},{\"data\":[{\"x\":[\"2022-01-20\",\"2022-01-21\",\"2022-01-22\",\"2022-01-23\",\"2022-01-24\",\"2022-01-25\",\"2022-01-26\",\"2022-01-27\",\"2022-01-28\",\"2022-01-29\",\"2022-01-30\",\"2022-01-31\",\"2022-02-01\",\"2022-02-02\",\"2022-02-03\",\"2022-02-04\",\"2022-02-05\",\"2022-02-06\",\"2022-02-07\",\"2022-02-08\",\"2022-02-09\",\"2022-02-10\",\"2022-02-11\",\"2022-02-12\"],\"y\":[47.05882352941176,48.38709677419355,53.06122448979592,63.63636363636363,25.0,54.0,61.904761904761905,36.92307692307693,55.55555555555556,33.33333333333333,63.63636363636363,57.692307692307686,54.629629629629626,54.285714285714285,58.18181818181818,63.1578947368421,54.054054054054056,88.88888888888889,57.6271186440678,60.0,66.66666666666666,64.17910447761194,58.82352941176471,63.04347826086957],\"type\":\"scatter\"},{\"x\":[\"2022-01-20\",\"2022-01-21\",\"2022-01-22\",\"2022-01-23\",\"2022-01-24\",\"2022-01-25\",\"2022-01-26\",\"2022-01-27\",\"2022-01-28\",\"2022-01-29\",\"2022-01-30\",\"2022-01-31\",\"2022-02-01\",\"2022-02-02\",\"2022-02-03\",\"2022-02-04\",\"2022-02-05\",\"2022-02-06\",\"2022-02-07\",\"2022-02-08\",\"2022-02-09\",\"2022-02-10\",\"2022-02-11\",\"2022-02-12\"],\"y\":[52.94117647058824,51.61290322580645,46.93877551020408,36.36363636363637,75.0,46.0,38.095238095238095,63.07692307692307,44.44444444444444,66.66666666666666,36.36363636363637,42.30769230769231,45.370370370370374,45.714285714285715,41.81818181818181,36.84210526315789,45.94594594594595,11.11111111111111,42.3728813559322,40.0,33.33333333333333,35.82089552238806,41.17647058823529,36.95652173913043],\"type\":\"scatter\"}]},{\"data\":[{\"x\":[\"2022-01-20\",\"2022-01-21\",\"2022-01-22\",\"2022-01-23\",\"2022-01-24\",\"2022-01-25\",\"2022-01-26\",\"2022-01-27\",\"2022-01-28\",\"2022-01-29\",\"2022-01-30\",\"2022-01-31\",\"2022-02-01\",\"2022-02-02\",\"2022-02-03\",\"2022-02-04\",\"2022-02-05\",\"2022-02-06\",\"2022-02-07\",\"2022-02-08\",\"2022-02-09\",\"2022-02-10\",\"2022-02-11\",\"2022-02-12\",\"2022-02-13\"],\"y\":[47.05882352941176,48.38709677419355,53.06122448979592,63.63636363636363,25.0,54.0,61.904761904761905,36.92307692307693,55.55555555555556,33.33333333333333,63.63636363636363,57.692307692307686,54.629629629629626,54.285714285714285,58.18181818181818,63.1578947368421,54.054054054054056,88.88888888888889,57.6271186440678,60.0,66.66666666666666,64.17910447761194,58.82352941176471,63.04347826086957,60.0],\"type\":\"scatter\"},{\"x\":[\"2022-01-20\",\"2022-01-21\",\"2022-01-22\",\"2022-01-23\",\"2022-01-24\",\"2022-01-25\",\"2022-01-26\",\"2022-01-27\",\"2022-01-28\",\"2022-01-29\",\"2022-01-30\",\"2022-01-31\",\"2022-02-01\",\"2022-02-02\",\"2022-02-03\",\"2022-02-04\",\"2022-02-05\",\"2022-02-06\",\"2022-02-07\",\"2022-02-08\",\"2022-02-09\",\"2022-02-10\",\"2022-02-11\",\"2022-02-12\",\"2022-02-13\"],\"y\":[52.94117647058824,51.61290322580645,46.93877551020408,36.36363636363637,75.0,46.0,38.095238095238095,63.07692307692307,44.44444444444444,66.66666666666666,36.36363636363637,42.30769230769231,45.370370370370374,45.714285714285715,41.81818181818181,36.84210526315789,45.94594594594595,11.11111111111111,42.3728813559322,40.0,33.33333333333333,35.82089552238806,41.17647058823529,36.95652173913043,40.0],\"type\":\"scatter\"}]},{\"data\":[{\"x\":[\"2022-01-20\",\"2022-01-21\",\"2022-01-22\",\"2022-01-23\",\"2022-01-24\",\"2022-01-25\",\"2022-01-26\",\"2022-01-27\",\"2022-01-28\",\"2022-01-29\",\"2022-01-30\",\"2022-01-31\",\"2022-02-01\",\"2022-02-02\",\"2022-02-03\",\"2022-02-04\",\"2022-02-05\",\"2022-02-06\",\"2022-02-07\",\"2022-02-08\",\"2022-02-09\",\"2022-02-10\",\"2022-02-11\",\"2022-02-12\",\"2022-02-13\",\"2022-02-14\"],\"y\":[47.05882352941176,48.38709677419355,53.06122448979592,63.63636363636363,25.0,54.0,61.904761904761905,36.92307692307693,55.55555555555556,33.33333333333333,63.63636363636363,57.692307692307686,54.629629629629626,54.285714285714285,58.18181818181818,63.1578947368421,54.054054054054056,88.88888888888889,57.6271186440678,60.0,66.66666666666666,64.17910447761194,58.82352941176471,63.04347826086957,60.0,59.45945945945946],\"type\":\"scatter\"},{\"x\":[\"2022-01-20\",\"2022-01-21\",\"2022-01-22\",\"2022-01-23\",\"2022-01-24\",\"2022-01-25\",\"2022-01-26\",\"2022-01-27\",\"2022-01-28\",\"2022-01-29\",\"2022-01-30\",\"2022-01-31\",\"2022-02-01\",\"2022-02-02\",\"2022-02-03\",\"2022-02-04\",\"2022-02-05\",\"2022-02-06\",\"2022-02-07\",\"2022-02-08\",\"2022-02-09\",\"2022-02-10\",\"2022-02-11\",\"2022-02-12\",\"2022-02-13\",\"2022-02-14\"],\"y\":[52.94117647058824,51.61290322580645,46.93877551020408,36.36363636363637,75.0,46.0,38.095238095238095,63.07692307692307,44.44444444444444,66.66666666666666,36.36363636363637,42.30769230769231,45.370370370370374,45.714285714285715,41.81818181818181,36.84210526315789,45.94594594594595,11.11111111111111,42.3728813559322,40.0,33.33333333333333,35.82089552238806,41.17647058823529,36.95652173913043,40.0,40.54054054054054],\"type\":\"scatter\"}]},{\"data\":[{\"x\":[\"2022-01-20\",\"2022-01-21\",\"2022-01-22\",\"2022-01-23\",\"2022-01-24\",\"2022-01-25\",\"2022-01-26\",\"2022-01-27\",\"2022-01-28\",\"2022-01-29\",\"2022-01-30\",\"2022-01-31\",\"2022-02-01\",\"2022-02-02\",\"2022-02-03\",\"2022-02-04\",\"2022-02-05\",\"2022-02-06\",\"2022-02-07\",\"2022-02-08\",\"2022-02-09\",\"2022-02-10\",\"2022-02-11\",\"2022-02-12\",\"2022-02-13\",\"2022-02-14\",\"2022-02-15\"],\"y\":[47.05882352941176,48.38709677419355,53.06122448979592,63.63636363636363,25.0,54.0,61.904761904761905,36.92307692307693,55.55555555555556,33.33333333333333,63.63636363636363,57.692307692307686,54.629629629629626,54.285714285714285,58.18181818181818,63.1578947368421,54.054054054054056,88.88888888888889,57.6271186440678,60.0,66.66666666666666,64.17910447761194,58.82352941176471,63.04347826086957,60.0,59.45945945945946,60.0],\"type\":\"scatter\"},{\"x\":[\"2022-01-20\",\"2022-01-21\",\"2022-01-22\",\"2022-01-23\",\"2022-01-24\",\"2022-01-25\",\"2022-01-26\",\"2022-01-27\",\"2022-01-28\",\"2022-01-29\",\"2022-01-30\",\"2022-01-31\",\"2022-02-01\",\"2022-02-02\",\"2022-02-03\",\"2022-02-04\",\"2022-02-05\",\"2022-02-06\",\"2022-02-07\",\"2022-02-08\",\"2022-02-09\",\"2022-02-10\",\"2022-02-11\",\"2022-02-12\",\"2022-02-13\",\"2022-02-14\",\"2022-02-15\"],\"y\":[52.94117647058824,51.61290322580645,46.93877551020408,36.36363636363637,75.0,46.0,38.095238095238095,63.07692307692307,44.44444444444444,66.66666666666666,36.36363636363637,42.30769230769231,45.370370370370374,45.714285714285715,41.81818181818181,36.84210526315789,45.94594594594595,11.11111111111111,42.3728813559322,40.0,33.33333333333333,35.82089552238806,41.17647058823529,36.95652173913043,40.0,40.54054054054054,40.0],\"type\":\"scatter\"}]},{\"data\":[{\"x\":[\"2022-01-20\",\"2022-01-21\",\"2022-01-22\",\"2022-01-23\",\"2022-01-24\",\"2022-01-25\",\"2022-01-26\",\"2022-01-27\",\"2022-01-28\",\"2022-01-29\",\"2022-01-30\",\"2022-01-31\",\"2022-02-01\",\"2022-02-02\",\"2022-02-03\",\"2022-02-04\",\"2022-02-05\",\"2022-02-06\",\"2022-02-07\",\"2022-02-08\",\"2022-02-09\",\"2022-02-10\",\"2022-02-11\",\"2022-02-12\",\"2022-02-13\",\"2022-02-14\",\"2022-02-15\",\"2022-02-16\"],\"y\":[47.05882352941176,48.38709677419355,53.06122448979592,63.63636363636363,25.0,54.0,61.904761904761905,36.92307692307693,55.55555555555556,33.33333333333333,63.63636363636363,57.692307692307686,54.629629629629626,54.285714285714285,58.18181818181818,63.1578947368421,54.054054054054056,88.88888888888889,57.6271186440678,60.0,66.66666666666666,64.17910447761194,58.82352941176471,63.04347826086957,60.0,59.45945945945946,60.0,88.88888888888889],\"type\":\"scatter\"},{\"x\":[\"2022-01-20\",\"2022-01-21\",\"2022-01-22\",\"2022-01-23\",\"2022-01-24\",\"2022-01-25\",\"2022-01-26\",\"2022-01-27\",\"2022-01-28\",\"2022-01-29\",\"2022-01-30\",\"2022-01-31\",\"2022-02-01\",\"2022-02-02\",\"2022-02-03\",\"2022-02-04\",\"2022-02-05\",\"2022-02-06\",\"2022-02-07\",\"2022-02-08\",\"2022-02-09\",\"2022-02-10\",\"2022-02-11\",\"2022-02-12\",\"2022-02-13\",\"2022-02-14\",\"2022-02-15\",\"2022-02-16\"],\"y\":[52.94117647058824,51.61290322580645,46.93877551020408,36.36363636363637,75.0,46.0,38.095238095238095,63.07692307692307,44.44444444444444,66.66666666666666,36.36363636363637,42.30769230769231,45.370370370370374,45.714285714285715,41.81818181818181,36.84210526315789,45.94594594594595,11.11111111111111,42.3728813559322,40.0,33.33333333333333,35.82089552238806,41.17647058823529,36.95652173913043,40.0,40.54054054054054,40.0,11.11111111111111],\"type\":\"scatter\"}]},{\"data\":[{\"x\":[\"2022-01-20\",\"2022-01-21\",\"2022-01-22\",\"2022-01-23\",\"2022-01-24\",\"2022-01-25\",\"2022-01-26\",\"2022-01-27\",\"2022-01-28\",\"2022-01-29\",\"2022-01-30\",\"2022-01-31\",\"2022-02-01\",\"2022-02-02\",\"2022-02-03\",\"2022-02-04\",\"2022-02-05\",\"2022-02-06\",\"2022-02-07\",\"2022-02-08\",\"2022-02-09\",\"2022-02-10\",\"2022-02-11\",\"2022-02-12\",\"2022-02-13\",\"2022-02-14\",\"2022-02-15\",\"2022-02-16\",\"2022-02-17\"],\"y\":[47.05882352941176,48.38709677419355,53.06122448979592,63.63636363636363,25.0,54.0,61.904761904761905,36.92307692307693,55.55555555555556,33.33333333333333,63.63636363636363,57.692307692307686,54.629629629629626,54.285714285714285,58.18181818181818,63.1578947368421,54.054054054054056,88.88888888888889,57.6271186440678,60.0,66.66666666666666,64.17910447761194,58.82352941176471,63.04347826086957,60.0,59.45945945945946,60.0,88.88888888888889,50.0],\"type\":\"scatter\"},{\"x\":[\"2022-01-20\",\"2022-01-21\",\"2022-01-22\",\"2022-01-23\",\"2022-01-24\",\"2022-01-25\",\"2022-01-26\",\"2022-01-27\",\"2022-01-28\",\"2022-01-29\",\"2022-01-30\",\"2022-01-31\",\"2022-02-01\",\"2022-02-02\",\"2022-02-03\",\"2022-02-04\",\"2022-02-05\",\"2022-02-06\",\"2022-02-07\",\"2022-02-08\",\"2022-02-09\",\"2022-02-10\",\"2022-02-11\",\"2022-02-12\",\"2022-02-13\",\"2022-02-14\",\"2022-02-15\",\"2022-02-16\",\"2022-02-17\"],\"y\":[52.94117647058824,51.61290322580645,46.93877551020408,36.36363636363637,75.0,46.0,38.095238095238095,63.07692307692307,44.44444444444444,66.66666666666666,36.36363636363637,42.30769230769231,45.370370370370374,45.714285714285715,41.81818181818181,36.84210526315789,45.94594594594595,11.11111111111111,42.3728813559322,40.0,33.33333333333333,35.82089552238806,41.17647058823529,36.95652173913043,40.0,40.54054054054054,40.0,11.11111111111111,50.0],\"type\":\"scatter\"}]},{\"data\":[{\"x\":[\"2022-01-20\",\"2022-01-21\",\"2022-01-22\",\"2022-01-23\",\"2022-01-24\",\"2022-01-25\",\"2022-01-26\",\"2022-01-27\",\"2022-01-28\",\"2022-01-29\",\"2022-01-30\",\"2022-01-31\",\"2022-02-01\",\"2022-02-02\",\"2022-02-03\",\"2022-02-04\",\"2022-02-05\",\"2022-02-06\",\"2022-02-07\",\"2022-02-08\",\"2022-02-09\",\"2022-02-10\",\"2022-02-11\",\"2022-02-12\",\"2022-02-13\",\"2022-02-14\",\"2022-02-15\",\"2022-02-16\",\"2022-02-17\",\"2022-02-18\"],\"y\":[47.05882352941176,48.38709677419355,53.06122448979592,63.63636363636363,25.0,54.0,61.904761904761905,36.92307692307693,55.55555555555556,33.33333333333333,63.63636363636363,57.692307692307686,54.629629629629626,54.285714285714285,58.18181818181818,63.1578947368421,54.054054054054056,88.88888888888889,57.6271186440678,60.0,66.66666666666666,64.17910447761194,58.82352941176471,63.04347826086957,60.0,59.45945945945946,60.0,88.88888888888889,50.0,75.0],\"type\":\"scatter\"},{\"x\":[\"2022-01-20\",\"2022-01-21\",\"2022-01-22\",\"2022-01-23\",\"2022-01-24\",\"2022-01-25\",\"2022-01-26\",\"2022-01-27\",\"2022-01-28\",\"2022-01-29\",\"2022-01-30\",\"2022-01-31\",\"2022-02-01\",\"2022-02-02\",\"2022-02-03\",\"2022-02-04\",\"2022-02-05\",\"2022-02-06\",\"2022-02-07\",\"2022-02-08\",\"2022-02-09\",\"2022-02-10\",\"2022-02-11\",\"2022-02-12\",\"2022-02-13\",\"2022-02-14\",\"2022-02-15\",\"2022-02-16\",\"2022-02-17\",\"2022-02-18\"],\"y\":[52.94117647058824,51.61290322580645,46.93877551020408,36.36363636363637,75.0,46.0,38.095238095238095,63.07692307692307,44.44444444444444,66.66666666666666,36.36363636363637,42.30769230769231,45.370370370370374,45.714285714285715,41.81818181818181,36.84210526315789,45.94594594594595,11.11111111111111,42.3728813559322,40.0,33.33333333333333,35.82089552238806,41.17647058823529,36.95652173913043,40.0,40.54054054054054,40.0,11.11111111111111,50.0,25.0],\"type\":\"scatter\"}]},{\"data\":[{\"x\":[\"2022-01-20\",\"2022-01-21\",\"2022-01-22\",\"2022-01-23\",\"2022-01-24\",\"2022-01-25\",\"2022-01-26\",\"2022-01-27\",\"2022-01-28\",\"2022-01-29\",\"2022-01-30\",\"2022-01-31\",\"2022-02-01\",\"2022-02-02\",\"2022-02-03\",\"2022-02-04\",\"2022-02-05\",\"2022-02-06\",\"2022-02-07\",\"2022-02-08\",\"2022-02-09\",\"2022-02-10\",\"2022-02-11\",\"2022-02-12\",\"2022-02-13\",\"2022-02-14\",\"2022-02-15\",\"2022-02-16\",\"2022-02-17\",\"2022-02-18\",\"2022-02-19\"],\"y\":[47.05882352941176,48.38709677419355,53.06122448979592,63.63636363636363,25.0,54.0,61.904761904761905,36.92307692307693,55.55555555555556,33.33333333333333,63.63636363636363,57.692307692307686,54.629629629629626,54.285714285714285,58.18181818181818,63.1578947368421,54.054054054054056,88.88888888888889,57.6271186440678,60.0,66.66666666666666,64.17910447761194,58.82352941176471,63.04347826086957,60.0,59.45945945945946,60.0,88.88888888888889,50.0,75.0,64.70588235294117],\"type\":\"scatter\"},{\"x\":[\"2022-01-20\",\"2022-01-21\",\"2022-01-22\",\"2022-01-23\",\"2022-01-24\",\"2022-01-25\",\"2022-01-26\",\"2022-01-27\",\"2022-01-28\",\"2022-01-29\",\"2022-01-30\",\"2022-01-31\",\"2022-02-01\",\"2022-02-02\",\"2022-02-03\",\"2022-02-04\",\"2022-02-05\",\"2022-02-06\",\"2022-02-07\",\"2022-02-08\",\"2022-02-09\",\"2022-02-10\",\"2022-02-11\",\"2022-02-12\",\"2022-02-13\",\"2022-02-14\",\"2022-02-15\",\"2022-02-16\",\"2022-02-17\",\"2022-02-18\",\"2022-02-19\"],\"y\":[52.94117647058824,51.61290322580645,46.93877551020408,36.36363636363637,75.0,46.0,38.095238095238095,63.07692307692307,44.44444444444444,66.66666666666666,36.36363636363637,42.30769230769231,45.370370370370374,45.714285714285715,41.81818181818181,36.84210526315789,45.94594594594595,11.11111111111111,42.3728813559322,40.0,33.33333333333333,35.82089552238806,41.17647058823529,36.95652173913043,40.0,40.54054054054054,40.0,11.11111111111111,50.0,25.0,35.294117647058826],\"type\":\"scatter\"}]},{\"data\":[{\"x\":[\"2022-01-20\",\"2022-01-21\",\"2022-01-22\",\"2022-01-23\",\"2022-01-24\",\"2022-01-25\",\"2022-01-26\",\"2022-01-27\",\"2022-01-28\",\"2022-01-29\",\"2022-01-30\",\"2022-01-31\",\"2022-02-01\",\"2022-02-02\",\"2022-02-03\",\"2022-02-04\",\"2022-02-05\",\"2022-02-06\",\"2022-02-07\",\"2022-02-08\",\"2022-02-09\",\"2022-02-10\",\"2022-02-11\",\"2022-02-12\",\"2022-02-13\",\"2022-02-14\",\"2022-02-15\",\"2022-02-16\",\"2022-02-17\",\"2022-02-18\",\"2022-02-19\",\"2022-02-20\"],\"y\":[47.05882352941176,48.38709677419355,53.06122448979592,63.63636363636363,25.0,54.0,61.904761904761905,36.92307692307693,55.55555555555556,33.33333333333333,63.63636363636363,57.692307692307686,54.629629629629626,54.285714285714285,58.18181818181818,63.1578947368421,54.054054054054056,88.88888888888889,57.6271186440678,60.0,66.66666666666666,64.17910447761194,58.82352941176471,63.04347826086957,60.0,59.45945945945946,60.0,88.88888888888889,50.0,75.0,64.70588235294117,62.16216216216216],\"type\":\"scatter\"},{\"x\":[\"2022-01-20\",\"2022-01-21\",\"2022-01-22\",\"2022-01-23\",\"2022-01-24\",\"2022-01-25\",\"2022-01-26\",\"2022-01-27\",\"2022-01-28\",\"2022-01-29\",\"2022-01-30\",\"2022-01-31\",\"2022-02-01\",\"2022-02-02\",\"2022-02-03\",\"2022-02-04\",\"2022-02-05\",\"2022-02-06\",\"2022-02-07\",\"2022-02-08\",\"2022-02-09\",\"2022-02-10\",\"2022-02-11\",\"2022-02-12\",\"2022-02-13\",\"2022-02-14\",\"2022-02-15\",\"2022-02-16\",\"2022-02-17\",\"2022-02-18\",\"2022-02-19\",\"2022-02-20\"],\"y\":[52.94117647058824,51.61290322580645,46.93877551020408,36.36363636363637,75.0,46.0,38.095238095238095,63.07692307692307,44.44444444444444,66.66666666666666,36.36363636363637,42.30769230769231,45.370370370370374,45.714285714285715,41.81818181818181,36.84210526315789,45.94594594594595,11.11111111111111,42.3728813559322,40.0,33.33333333333333,35.82089552238806,41.17647058823529,36.95652173913043,40.0,40.54054054054054,40.0,11.11111111111111,50.0,25.0,35.294117647058826,37.83783783783784],\"type\":\"scatter\"}]},{\"data\":[{\"x\":[\"2022-01-20\",\"2022-01-21\",\"2022-01-22\",\"2022-01-23\",\"2022-01-24\",\"2022-01-25\",\"2022-01-26\",\"2022-01-27\",\"2022-01-28\",\"2022-01-29\",\"2022-01-30\",\"2022-01-31\",\"2022-02-01\",\"2022-02-02\",\"2022-02-03\",\"2022-02-04\",\"2022-02-05\",\"2022-02-06\",\"2022-02-07\",\"2022-02-08\",\"2022-02-09\",\"2022-02-10\",\"2022-02-11\",\"2022-02-12\",\"2022-02-13\",\"2022-02-14\",\"2022-02-15\",\"2022-02-16\",\"2022-02-17\",\"2022-02-18\",\"2022-02-19\",\"2022-02-20\",\"2022-02-21\"],\"y\":[47.05882352941176,48.38709677419355,53.06122448979592,63.63636363636363,25.0,54.0,61.904761904761905,36.92307692307693,55.55555555555556,33.33333333333333,63.63636363636363,57.692307692307686,54.629629629629626,54.285714285714285,58.18181818181818,63.1578947368421,54.054054054054056,88.88888888888889,57.6271186440678,60.0,66.66666666666666,64.17910447761194,58.82352941176471,63.04347826086957,60.0,59.45945945945946,60.0,88.88888888888889,50.0,75.0,64.70588235294117,62.16216216216216,85.71428571428571],\"type\":\"scatter\"},{\"x\":[\"2022-01-20\",\"2022-01-21\",\"2022-01-22\",\"2022-01-23\",\"2022-01-24\",\"2022-01-25\",\"2022-01-26\",\"2022-01-27\",\"2022-01-28\",\"2022-01-29\",\"2022-01-30\",\"2022-01-31\",\"2022-02-01\",\"2022-02-02\",\"2022-02-03\",\"2022-02-04\",\"2022-02-05\",\"2022-02-06\",\"2022-02-07\",\"2022-02-08\",\"2022-02-09\",\"2022-02-10\",\"2022-02-11\",\"2022-02-12\",\"2022-02-13\",\"2022-02-14\",\"2022-02-15\",\"2022-02-16\",\"2022-02-17\",\"2022-02-18\",\"2022-02-19\",\"2022-02-20\",\"2022-02-21\"],\"y\":[52.94117647058824,51.61290322580645,46.93877551020408,36.36363636363637,75.0,46.0,38.095238095238095,63.07692307692307,44.44444444444444,66.66666666666666,36.36363636363637,42.30769230769231,45.370370370370374,45.714285714285715,41.81818181818181,36.84210526315789,45.94594594594595,11.11111111111111,42.3728813559322,40.0,33.33333333333333,35.82089552238806,41.17647058823529,36.95652173913043,40.0,40.54054054054054,40.0,11.11111111111111,50.0,25.0,35.294117647058826,37.83783783783784,14.285714285714285],\"type\":\"scatter\"}]},{\"data\":[{\"x\":[\"2022-01-20\",\"2022-01-21\",\"2022-01-22\",\"2022-01-23\",\"2022-01-24\",\"2022-01-25\",\"2022-01-26\",\"2022-01-27\",\"2022-01-28\",\"2022-01-29\",\"2022-01-30\",\"2022-01-31\",\"2022-02-01\",\"2022-02-02\",\"2022-02-03\",\"2022-02-04\",\"2022-02-05\",\"2022-02-06\",\"2022-02-07\",\"2022-02-08\",\"2022-02-09\",\"2022-02-10\",\"2022-02-11\",\"2022-02-12\",\"2022-02-13\",\"2022-02-14\",\"2022-02-15\",\"2022-02-16\",\"2022-02-17\",\"2022-02-18\",\"2022-02-19\",\"2022-02-20\",\"2022-02-21\",\"2022-02-22\"],\"y\":[47.05882352941176,48.38709677419355,53.06122448979592,63.63636363636363,25.0,54.0,61.904761904761905,36.92307692307693,55.55555555555556,33.33333333333333,63.63636363636363,57.692307692307686,54.629629629629626,54.285714285714285,58.18181818181818,63.1578947368421,54.054054054054056,88.88888888888889,57.6271186440678,60.0,66.66666666666666,64.17910447761194,58.82352941176471,63.04347826086957,60.0,59.45945945945946,60.0,88.88888888888889,50.0,75.0,64.70588235294117,62.16216216216216,85.71428571428571,45.45454545454545],\"type\":\"scatter\"},{\"x\":[\"2022-01-20\",\"2022-01-21\",\"2022-01-22\",\"2022-01-23\",\"2022-01-24\",\"2022-01-25\",\"2022-01-26\",\"2022-01-27\",\"2022-01-28\",\"2022-01-29\",\"2022-01-30\",\"2022-01-31\",\"2022-02-01\",\"2022-02-02\",\"2022-02-03\",\"2022-02-04\",\"2022-02-05\",\"2022-02-06\",\"2022-02-07\",\"2022-02-08\",\"2022-02-09\",\"2022-02-10\",\"2022-02-11\",\"2022-02-12\",\"2022-02-13\",\"2022-02-14\",\"2022-02-15\",\"2022-02-16\",\"2022-02-17\",\"2022-02-18\",\"2022-02-19\",\"2022-02-20\",\"2022-02-21\",\"2022-02-22\"],\"y\":[52.94117647058824,51.61290322580645,46.93877551020408,36.36363636363637,75.0,46.0,38.095238095238095,63.07692307692307,44.44444444444444,66.66666666666666,36.36363636363637,42.30769230769231,45.370370370370374,45.714285714285715,41.81818181818181,36.84210526315789,45.94594594594595,11.11111111111111,42.3728813559322,40.0,33.33333333333333,35.82089552238806,41.17647058823529,36.95652173913043,40.0,40.54054054054054,40.0,11.11111111111111,50.0,25.0,35.294117647058826,37.83783783783784,14.285714285714285,54.54545454545454],\"type\":\"scatter\"}]},{\"data\":[{\"x\":[\"2022-01-20\",\"2022-01-21\",\"2022-01-22\",\"2022-01-23\",\"2022-01-24\",\"2022-01-25\",\"2022-01-26\",\"2022-01-27\",\"2022-01-28\",\"2022-01-29\",\"2022-01-30\",\"2022-01-31\",\"2022-02-01\",\"2022-02-02\",\"2022-02-03\",\"2022-02-04\",\"2022-02-05\",\"2022-02-06\",\"2022-02-07\",\"2022-02-08\",\"2022-02-09\",\"2022-02-10\",\"2022-02-11\",\"2022-02-12\",\"2022-02-13\",\"2022-02-14\",\"2022-02-15\",\"2022-02-16\",\"2022-02-17\",\"2022-02-18\",\"2022-02-19\",\"2022-02-20\",\"2022-02-21\",\"2022-02-22\",\"2022-02-23\"],\"y\":[47.05882352941176,48.38709677419355,53.06122448979592,63.63636363636363,25.0,54.0,61.904761904761905,36.92307692307693,55.55555555555556,33.33333333333333,63.63636363636363,57.692307692307686,54.629629629629626,54.285714285714285,58.18181818181818,63.1578947368421,54.054054054054056,88.88888888888889,57.6271186440678,60.0,66.66666666666666,64.17910447761194,58.82352941176471,63.04347826086957,60.0,59.45945945945946,60.0,88.88888888888889,50.0,75.0,64.70588235294117,62.16216216216216,85.71428571428571,45.45454545454545,62.5],\"type\":\"scatter\"},{\"x\":[\"2022-01-20\",\"2022-01-21\",\"2022-01-22\",\"2022-01-23\",\"2022-01-24\",\"2022-01-25\",\"2022-01-26\",\"2022-01-27\",\"2022-01-28\",\"2022-01-29\",\"2022-01-30\",\"2022-01-31\",\"2022-02-01\",\"2022-02-02\",\"2022-02-03\",\"2022-02-04\",\"2022-02-05\",\"2022-02-06\",\"2022-02-07\",\"2022-02-08\",\"2022-02-09\",\"2022-02-10\",\"2022-02-11\",\"2022-02-12\",\"2022-02-13\",\"2022-02-14\",\"2022-02-15\",\"2022-02-16\",\"2022-02-17\",\"2022-02-18\",\"2022-02-19\",\"2022-02-20\",\"2022-02-21\",\"2022-02-22\",\"2022-02-23\"],\"y\":[52.94117647058824,51.61290322580645,46.93877551020408,36.36363636363637,75.0,46.0,38.095238095238095,63.07692307692307,44.44444444444444,66.66666666666666,36.36363636363637,42.30769230769231,45.370370370370374,45.714285714285715,41.81818181818181,36.84210526315789,45.94594594594595,11.11111111111111,42.3728813559322,40.0,33.33333333333333,35.82089552238806,41.17647058823529,36.95652173913043,40.0,40.54054054054054,40.0,11.11111111111111,50.0,25.0,35.294117647058826,37.83783783783784,14.285714285714285,54.54545454545454,37.5],\"type\":\"scatter\"}]},{\"data\":[{\"x\":[\"2022-01-20\",\"2022-01-21\",\"2022-01-22\",\"2022-01-23\",\"2022-01-24\",\"2022-01-25\",\"2022-01-26\",\"2022-01-27\",\"2022-01-28\",\"2022-01-29\",\"2022-01-30\",\"2022-01-31\",\"2022-02-01\",\"2022-02-02\",\"2022-02-03\",\"2022-02-04\",\"2022-02-05\",\"2022-02-06\",\"2022-02-07\",\"2022-02-08\",\"2022-02-09\",\"2022-02-10\",\"2022-02-11\",\"2022-02-12\",\"2022-02-13\",\"2022-02-14\",\"2022-02-15\",\"2022-02-16\",\"2022-02-17\",\"2022-02-18\",\"2022-02-19\",\"2022-02-20\",\"2022-02-21\",\"2022-02-22\",\"2022-02-23\",\"2022-02-24\"],\"y\":[47.05882352941176,48.38709677419355,53.06122448979592,63.63636363636363,25.0,54.0,61.904761904761905,36.92307692307693,55.55555555555556,33.33333333333333,63.63636363636363,57.692307692307686,54.629629629629626,54.285714285714285,58.18181818181818,63.1578947368421,54.054054054054056,88.88888888888889,57.6271186440678,60.0,66.66666666666666,64.17910447761194,58.82352941176471,63.04347826086957,60.0,59.45945945945946,60.0,88.88888888888889,50.0,75.0,64.70588235294117,62.16216216216216,85.71428571428571,45.45454545454545,62.5,73.13432835820896],\"type\":\"scatter\"},{\"x\":[\"2022-01-20\",\"2022-01-21\",\"2022-01-22\",\"2022-01-23\",\"2022-01-24\",\"2022-01-25\",\"2022-01-26\",\"2022-01-27\",\"2022-01-28\",\"2022-01-29\",\"2022-01-30\",\"2022-01-31\",\"2022-02-01\",\"2022-02-02\",\"2022-02-03\",\"2022-02-04\",\"2022-02-05\",\"2022-02-06\",\"2022-02-07\",\"2022-02-08\",\"2022-02-09\",\"2022-02-10\",\"2022-02-11\",\"2022-02-12\",\"2022-02-13\",\"2022-02-14\",\"2022-02-15\",\"2022-02-16\",\"2022-02-17\",\"2022-02-18\",\"2022-02-19\",\"2022-02-20\",\"2022-02-21\",\"2022-02-22\",\"2022-02-23\",\"2022-02-24\"],\"y\":[52.94117647058824,51.61290322580645,46.93877551020408,36.36363636363637,75.0,46.0,38.095238095238095,63.07692307692307,44.44444444444444,66.66666666666666,36.36363636363637,42.30769230769231,45.370370370370374,45.714285714285715,41.81818181818181,36.84210526315789,45.94594594594595,11.11111111111111,42.3728813559322,40.0,33.33333333333333,35.82089552238806,41.17647058823529,36.95652173913043,40.0,40.54054054054054,40.0,11.11111111111111,50.0,25.0,35.294117647058826,37.83783783783784,14.285714285714285,54.54545454545454,37.5,26.865671641791046],\"type\":\"scatter\"}]},{\"data\":[{\"x\":[\"2022-01-20\",\"2022-01-21\",\"2022-01-22\",\"2022-01-23\",\"2022-01-24\",\"2022-01-25\",\"2022-01-26\",\"2022-01-27\",\"2022-01-28\",\"2022-01-29\",\"2022-01-30\",\"2022-01-31\",\"2022-02-01\",\"2022-02-02\",\"2022-02-03\",\"2022-02-04\",\"2022-02-05\",\"2022-02-06\",\"2022-02-07\",\"2022-02-08\",\"2022-02-09\",\"2022-02-10\",\"2022-02-11\",\"2022-02-12\",\"2022-02-13\",\"2022-02-14\",\"2022-02-15\",\"2022-02-16\",\"2022-02-17\",\"2022-02-18\",\"2022-02-19\",\"2022-02-20\",\"2022-02-21\",\"2022-02-22\",\"2022-02-23\",\"2022-02-24\",\"2022-02-25\"],\"y\":[47.05882352941176,48.38709677419355,53.06122448979592,63.63636363636363,25.0,54.0,61.904761904761905,36.92307692307693,55.55555555555556,33.33333333333333,63.63636363636363,57.692307692307686,54.629629629629626,54.285714285714285,58.18181818181818,63.1578947368421,54.054054054054056,88.88888888888889,57.6271186440678,60.0,66.66666666666666,64.17910447761194,58.82352941176471,63.04347826086957,60.0,59.45945945945946,60.0,88.88888888888889,50.0,75.0,64.70588235294117,62.16216216216216,85.71428571428571,45.45454545454545,62.5,73.13432835820896,66.66666666666666],\"type\":\"scatter\"},{\"x\":[\"2022-01-20\",\"2022-01-21\",\"2022-01-22\",\"2022-01-23\",\"2022-01-24\",\"2022-01-25\",\"2022-01-26\",\"2022-01-27\",\"2022-01-28\",\"2022-01-29\",\"2022-01-30\",\"2022-01-31\",\"2022-02-01\",\"2022-02-02\",\"2022-02-03\",\"2022-02-04\",\"2022-02-05\",\"2022-02-06\",\"2022-02-07\",\"2022-02-08\",\"2022-02-09\",\"2022-02-10\",\"2022-02-11\",\"2022-02-12\",\"2022-02-13\",\"2022-02-14\",\"2022-02-15\",\"2022-02-16\",\"2022-02-17\",\"2022-02-18\",\"2022-02-19\",\"2022-02-20\",\"2022-02-21\",\"2022-02-22\",\"2022-02-23\",\"2022-02-24\",\"2022-02-25\"],\"y\":[52.94117647058824,51.61290322580645,46.93877551020408,36.36363636363637,75.0,46.0,38.095238095238095,63.07692307692307,44.44444444444444,66.66666666666666,36.36363636363637,42.30769230769231,45.370370370370374,45.714285714285715,41.81818181818181,36.84210526315789,45.94594594594595,11.11111111111111,42.3728813559322,40.0,33.33333333333333,35.82089552238806,41.17647058823529,36.95652173913043,40.0,40.54054054054054,40.0,11.11111111111111,50.0,25.0,35.294117647058826,37.83783783783784,14.285714285714285,54.54545454545454,37.5,26.865671641791046,33.33333333333333],\"type\":\"scatter\"}]},{\"data\":[{\"x\":[\"2022-01-20\",\"2022-01-21\",\"2022-01-22\",\"2022-01-23\",\"2022-01-24\",\"2022-01-25\",\"2022-01-26\",\"2022-01-27\",\"2022-01-28\",\"2022-01-29\",\"2022-01-30\",\"2022-01-31\",\"2022-02-01\",\"2022-02-02\",\"2022-02-03\",\"2022-02-04\",\"2022-02-05\",\"2022-02-06\",\"2022-02-07\",\"2022-02-08\",\"2022-02-09\",\"2022-02-10\",\"2022-02-11\",\"2022-02-12\",\"2022-02-13\",\"2022-02-14\",\"2022-02-15\",\"2022-02-16\",\"2022-02-17\",\"2022-02-18\",\"2022-02-19\",\"2022-02-20\",\"2022-02-21\",\"2022-02-22\",\"2022-02-23\",\"2022-02-24\",\"2022-02-25\",\"2022-02-26\"],\"y\":[47.05882352941176,48.38709677419355,53.06122448979592,63.63636363636363,25.0,54.0,61.904761904761905,36.92307692307693,55.55555555555556,33.33333333333333,63.63636363636363,57.692307692307686,54.629629629629626,54.285714285714285,58.18181818181818,63.1578947368421,54.054054054054056,88.88888888888889,57.6271186440678,60.0,66.66666666666666,64.17910447761194,58.82352941176471,63.04347826086957,60.0,59.45945945945946,60.0,88.88888888888889,50.0,75.0,64.70588235294117,62.16216216216216,85.71428571428571,45.45454545454545,62.5,73.13432835820896,66.66666666666666,62.0],\"type\":\"scatter\"},{\"x\":[\"2022-01-20\",\"2022-01-21\",\"2022-01-22\",\"2022-01-23\",\"2022-01-24\",\"2022-01-25\",\"2022-01-26\",\"2022-01-27\",\"2022-01-28\",\"2022-01-29\",\"2022-01-30\",\"2022-01-31\",\"2022-02-01\",\"2022-02-02\",\"2022-02-03\",\"2022-02-04\",\"2022-02-05\",\"2022-02-06\",\"2022-02-07\",\"2022-02-08\",\"2022-02-09\",\"2022-02-10\",\"2022-02-11\",\"2022-02-12\",\"2022-02-13\",\"2022-02-14\",\"2022-02-15\",\"2022-02-16\",\"2022-02-17\",\"2022-02-18\",\"2022-02-19\",\"2022-02-20\",\"2022-02-21\",\"2022-02-22\",\"2022-02-23\",\"2022-02-24\",\"2022-02-25\",\"2022-02-26\"],\"y\":[52.94117647058824,51.61290322580645,46.93877551020408,36.36363636363637,75.0,46.0,38.095238095238095,63.07692307692307,44.44444444444444,66.66666666666666,36.36363636363637,42.30769230769231,45.370370370370374,45.714285714285715,41.81818181818181,36.84210526315789,45.94594594594595,11.11111111111111,42.3728813559322,40.0,33.33333333333333,35.82089552238806,41.17647058823529,36.95652173913043,40.0,40.54054054054054,40.0,11.11111111111111,50.0,25.0,35.294117647058826,37.83783783783784,14.285714285714285,54.54545454545454,37.5,26.865671641791046,33.33333333333333,38.0],\"type\":\"scatter\"}]},{\"data\":[{\"x\":[\"2022-01-20\",\"2022-01-21\",\"2022-01-22\",\"2022-01-23\",\"2022-01-24\",\"2022-01-25\",\"2022-01-26\",\"2022-01-27\",\"2022-01-28\",\"2022-01-29\",\"2022-01-30\",\"2022-01-31\",\"2022-02-01\",\"2022-02-02\",\"2022-02-03\",\"2022-02-04\",\"2022-02-05\",\"2022-02-06\",\"2022-02-07\",\"2022-02-08\",\"2022-02-09\",\"2022-02-10\",\"2022-02-11\",\"2022-02-12\",\"2022-02-13\",\"2022-02-14\",\"2022-02-15\",\"2022-02-16\",\"2022-02-17\",\"2022-02-18\",\"2022-02-19\",\"2022-02-20\",\"2022-02-21\",\"2022-02-22\",\"2022-02-23\",\"2022-02-24\",\"2022-02-25\",\"2022-02-26\",\"2022-02-27\"],\"y\":[47.05882352941176,48.38709677419355,53.06122448979592,63.63636363636363,25.0,54.0,61.904761904761905,36.92307692307693,55.55555555555556,33.33333333333333,63.63636363636363,57.692307692307686,54.629629629629626,54.285714285714285,58.18181818181818,63.1578947368421,54.054054054054056,88.88888888888889,57.6271186440678,60.0,66.66666666666666,64.17910447761194,58.82352941176471,63.04347826086957,60.0,59.45945945945946,60.0,88.88888888888889,50.0,75.0,64.70588235294117,62.16216216216216,85.71428571428571,45.45454545454545,62.5,73.13432835820896,66.66666666666666,62.0,65.38461538461539],\"type\":\"scatter\"},{\"x\":[\"2022-01-20\",\"2022-01-21\",\"2022-01-22\",\"2022-01-23\",\"2022-01-24\",\"2022-01-25\",\"2022-01-26\",\"2022-01-27\",\"2022-01-28\",\"2022-01-29\",\"2022-01-30\",\"2022-01-31\",\"2022-02-01\",\"2022-02-02\",\"2022-02-03\",\"2022-02-04\",\"2022-02-05\",\"2022-02-06\",\"2022-02-07\",\"2022-02-08\",\"2022-02-09\",\"2022-02-10\",\"2022-02-11\",\"2022-02-12\",\"2022-02-13\",\"2022-02-14\",\"2022-02-15\",\"2022-02-16\",\"2022-02-17\",\"2022-02-18\",\"2022-02-19\",\"2022-02-20\",\"2022-02-21\",\"2022-02-22\",\"2022-02-23\",\"2022-02-24\",\"2022-02-25\",\"2022-02-26\",\"2022-02-27\"],\"y\":[52.94117647058824,51.61290322580645,46.93877551020408,36.36363636363637,75.0,46.0,38.095238095238095,63.07692307692307,44.44444444444444,66.66666666666666,36.36363636363637,42.30769230769231,45.370370370370374,45.714285714285715,41.81818181818181,36.84210526315789,45.94594594594595,11.11111111111111,42.3728813559322,40.0,33.33333333333333,35.82089552238806,41.17647058823529,36.95652173913043,40.0,40.54054054054054,40.0,11.11111111111111,50.0,25.0,35.294117647058826,37.83783783783784,14.285714285714285,54.54545454545454,37.5,26.865671641791046,33.33333333333333,38.0,34.61538461538461],\"type\":\"scatter\"}]},{\"data\":[{\"x\":[\"2022-01-20\",\"2022-01-21\",\"2022-01-22\",\"2022-01-23\",\"2022-01-24\",\"2022-01-25\",\"2022-01-26\",\"2022-01-27\",\"2022-01-28\",\"2022-01-29\",\"2022-01-30\",\"2022-01-31\",\"2022-02-01\",\"2022-02-02\",\"2022-02-03\",\"2022-02-04\",\"2022-02-05\",\"2022-02-06\",\"2022-02-07\",\"2022-02-08\",\"2022-02-09\",\"2022-02-10\",\"2022-02-11\",\"2022-02-12\",\"2022-02-13\",\"2022-02-14\",\"2022-02-15\",\"2022-02-16\",\"2022-02-17\",\"2022-02-18\",\"2022-02-19\",\"2022-02-20\",\"2022-02-21\",\"2022-02-22\",\"2022-02-23\",\"2022-02-24\",\"2022-02-25\",\"2022-02-26\",\"2022-02-27\",\"2022-02-28\"],\"y\":[47.05882352941176,48.38709677419355,53.06122448979592,63.63636363636363,25.0,54.0,61.904761904761905,36.92307692307693,55.55555555555556,33.33333333333333,63.63636363636363,57.692307692307686,54.629629629629626,54.285714285714285,58.18181818181818,63.1578947368421,54.054054054054056,88.88888888888889,57.6271186440678,60.0,66.66666666666666,64.17910447761194,58.82352941176471,63.04347826086957,60.0,59.45945945945946,60.0,88.88888888888889,50.0,75.0,64.70588235294117,62.16216216216216,85.71428571428571,45.45454545454545,62.5,73.13432835820896,66.66666666666666,62.0,65.38461538461539,60.37735849056604],\"type\":\"scatter\"},{\"x\":[\"2022-01-20\",\"2022-01-21\",\"2022-01-22\",\"2022-01-23\",\"2022-01-24\",\"2022-01-25\",\"2022-01-26\",\"2022-01-27\",\"2022-01-28\",\"2022-01-29\",\"2022-01-30\",\"2022-01-31\",\"2022-02-01\",\"2022-02-02\",\"2022-02-03\",\"2022-02-04\",\"2022-02-05\",\"2022-02-06\",\"2022-02-07\",\"2022-02-08\",\"2022-02-09\",\"2022-02-10\",\"2022-02-11\",\"2022-02-12\",\"2022-02-13\",\"2022-02-14\",\"2022-02-15\",\"2022-02-16\",\"2022-02-17\",\"2022-02-18\",\"2022-02-19\",\"2022-02-20\",\"2022-02-21\",\"2022-02-22\",\"2022-02-23\",\"2022-02-24\",\"2022-02-25\",\"2022-02-26\",\"2022-02-27\",\"2022-02-28\"],\"y\":[52.94117647058824,51.61290322580645,46.93877551020408,36.36363636363637,75.0,46.0,38.095238095238095,63.07692307692307,44.44444444444444,66.66666666666666,36.36363636363637,42.30769230769231,45.370370370370374,45.714285714285715,41.81818181818181,36.84210526315789,45.94594594594595,11.11111111111111,42.3728813559322,40.0,33.33333333333333,35.82089552238806,41.17647058823529,36.95652173913043,40.0,40.54054054054054,40.0,11.11111111111111,50.0,25.0,35.294117647058826,37.83783783783784,14.285714285714285,54.54545454545454,37.5,26.865671641791046,33.33333333333333,38.0,34.61538461538461,39.62264150943396],\"type\":\"scatter\"}]},{\"data\":[{\"x\":[\"2022-01-20\",\"2022-01-21\",\"2022-01-22\",\"2022-01-23\",\"2022-01-24\",\"2022-01-25\",\"2022-01-26\",\"2022-01-27\",\"2022-01-28\",\"2022-01-29\",\"2022-01-30\",\"2022-01-31\",\"2022-02-01\",\"2022-02-02\",\"2022-02-03\",\"2022-02-04\",\"2022-02-05\",\"2022-02-06\",\"2022-02-07\",\"2022-02-08\",\"2022-02-09\",\"2022-02-10\",\"2022-02-11\",\"2022-02-12\",\"2022-02-13\",\"2022-02-14\",\"2022-02-15\",\"2022-02-16\",\"2022-02-17\",\"2022-02-18\",\"2022-02-19\",\"2022-02-20\",\"2022-02-21\",\"2022-02-22\",\"2022-02-23\",\"2022-02-24\",\"2022-02-25\",\"2022-02-26\",\"2022-02-27\",\"2022-02-28\",\"2022-03-01\"],\"y\":[47.05882352941176,48.38709677419355,53.06122448979592,63.63636363636363,25.0,54.0,61.904761904761905,36.92307692307693,55.55555555555556,33.33333333333333,63.63636363636363,57.692307692307686,54.629629629629626,54.285714285714285,58.18181818181818,63.1578947368421,54.054054054054056,88.88888888888889,57.6271186440678,60.0,66.66666666666666,64.17910447761194,58.82352941176471,63.04347826086957,60.0,59.45945945945946,60.0,88.88888888888889,50.0,75.0,64.70588235294117,62.16216216216216,85.71428571428571,45.45454545454545,62.5,73.13432835820896,66.66666666666666,62.0,65.38461538461539,60.37735849056604,54.54545454545454],\"type\":\"scatter\"},{\"x\":[\"2022-01-20\",\"2022-01-21\",\"2022-01-22\",\"2022-01-23\",\"2022-01-24\",\"2022-01-25\",\"2022-01-26\",\"2022-01-27\",\"2022-01-28\",\"2022-01-29\",\"2022-01-30\",\"2022-01-31\",\"2022-02-01\",\"2022-02-02\",\"2022-02-03\",\"2022-02-04\",\"2022-02-05\",\"2022-02-06\",\"2022-02-07\",\"2022-02-08\",\"2022-02-09\",\"2022-02-10\",\"2022-02-11\",\"2022-02-12\",\"2022-02-13\",\"2022-02-14\",\"2022-02-15\",\"2022-02-16\",\"2022-02-17\",\"2022-02-18\",\"2022-02-19\",\"2022-02-20\",\"2022-02-21\",\"2022-02-22\",\"2022-02-23\",\"2022-02-24\",\"2022-02-25\",\"2022-02-26\",\"2022-02-27\",\"2022-02-28\",\"2022-03-01\"],\"y\":[52.94117647058824,51.61290322580645,46.93877551020408,36.36363636363637,75.0,46.0,38.095238095238095,63.07692307692307,44.44444444444444,66.66666666666666,36.36363636363637,42.30769230769231,45.370370370370374,45.714285714285715,41.81818181818181,36.84210526315789,45.94594594594595,11.11111111111111,42.3728813559322,40.0,33.33333333333333,35.82089552238806,41.17647058823529,36.95652173913043,40.0,40.54054054054054,40.0,11.11111111111111,50.0,25.0,35.294117647058826,37.83783783783784,14.285714285714285,54.54545454545454,37.5,26.865671641791046,33.33333333333333,38.0,34.61538461538461,39.62264150943396,45.45454545454545],\"type\":\"scatter\"}]},{\"data\":[{\"x\":[\"2022-01-20\",\"2022-01-21\",\"2022-01-22\",\"2022-01-23\",\"2022-01-24\",\"2022-01-25\",\"2022-01-26\",\"2022-01-27\",\"2022-01-28\",\"2022-01-29\",\"2022-01-30\",\"2022-01-31\",\"2022-02-01\",\"2022-02-02\",\"2022-02-03\",\"2022-02-04\",\"2022-02-05\",\"2022-02-06\",\"2022-02-07\",\"2022-02-08\",\"2022-02-09\",\"2022-02-10\",\"2022-02-11\",\"2022-02-12\",\"2022-02-13\",\"2022-02-14\",\"2022-02-15\",\"2022-02-16\",\"2022-02-17\",\"2022-02-18\",\"2022-02-19\",\"2022-02-20\",\"2022-02-21\",\"2022-02-22\",\"2022-02-23\",\"2022-02-24\",\"2022-02-25\",\"2022-02-26\",\"2022-02-27\",\"2022-02-28\",\"2022-03-01\",\"2022-03-02\"],\"y\":[47.05882352941176,48.38709677419355,53.06122448979592,63.63636363636363,25.0,54.0,61.904761904761905,36.92307692307693,55.55555555555556,33.33333333333333,63.63636363636363,57.692307692307686,54.629629629629626,54.285714285714285,58.18181818181818,63.1578947368421,54.054054054054056,88.88888888888889,57.6271186440678,60.0,66.66666666666666,64.17910447761194,58.82352941176471,63.04347826086957,60.0,59.45945945945946,60.0,88.88888888888889,50.0,75.0,64.70588235294117,62.16216216216216,85.71428571428571,45.45454545454545,62.5,73.13432835820896,66.66666666666666,62.0,65.38461538461539,60.37735849056604,54.54545454545454,56.09756097560976],\"type\":\"scatter\"},{\"x\":[\"2022-01-20\",\"2022-01-21\",\"2022-01-22\",\"2022-01-23\",\"2022-01-24\",\"2022-01-25\",\"2022-01-26\",\"2022-01-27\",\"2022-01-28\",\"2022-01-29\",\"2022-01-30\",\"2022-01-31\",\"2022-02-01\",\"2022-02-02\",\"2022-02-03\",\"2022-02-04\",\"2022-02-05\",\"2022-02-06\",\"2022-02-07\",\"2022-02-08\",\"2022-02-09\",\"2022-02-10\",\"2022-02-11\",\"2022-02-12\",\"2022-02-13\",\"2022-02-14\",\"2022-02-15\",\"2022-02-16\",\"2022-02-17\",\"2022-02-18\",\"2022-02-19\",\"2022-02-20\",\"2022-02-21\",\"2022-02-22\",\"2022-02-23\",\"2022-02-24\",\"2022-02-25\",\"2022-02-26\",\"2022-02-27\",\"2022-02-28\",\"2022-03-01\",\"2022-03-02\"],\"y\":[52.94117647058824,51.61290322580645,46.93877551020408,36.36363636363637,75.0,46.0,38.095238095238095,63.07692307692307,44.44444444444444,66.66666666666666,36.36363636363637,42.30769230769231,45.370370370370374,45.714285714285715,41.81818181818181,36.84210526315789,45.94594594594595,11.11111111111111,42.3728813559322,40.0,33.33333333333333,35.82089552238806,41.17647058823529,36.95652173913043,40.0,40.54054054054054,40.0,11.11111111111111,50.0,25.0,35.294117647058826,37.83783783783784,14.285714285714285,54.54545454545454,37.5,26.865671641791046,33.33333333333333,38.0,34.61538461538461,39.62264150943396,45.45454545454545,43.90243902439025],\"type\":\"scatter\"}]},{\"data\":[{\"x\":[\"2022-01-20\",\"2022-01-21\",\"2022-01-22\",\"2022-01-23\",\"2022-01-24\",\"2022-01-25\",\"2022-01-26\",\"2022-01-27\",\"2022-01-28\",\"2022-01-29\",\"2022-01-30\",\"2022-01-31\",\"2022-02-01\",\"2022-02-02\",\"2022-02-03\",\"2022-02-04\",\"2022-02-05\",\"2022-02-06\",\"2022-02-07\",\"2022-02-08\",\"2022-02-09\",\"2022-02-10\",\"2022-02-11\",\"2022-02-12\",\"2022-02-13\",\"2022-02-14\",\"2022-02-15\",\"2022-02-16\",\"2022-02-17\",\"2022-02-18\",\"2022-02-19\",\"2022-02-20\",\"2022-02-21\",\"2022-02-22\",\"2022-02-23\",\"2022-02-24\",\"2022-02-25\",\"2022-02-26\",\"2022-02-27\",\"2022-02-28\",\"2022-03-01\",\"2022-03-02\",\"2022-03-03\"],\"y\":[47.05882352941176,48.38709677419355,53.06122448979592,63.63636363636363,25.0,54.0,61.904761904761905,36.92307692307693,55.55555555555556,33.33333333333333,63.63636363636363,57.692307692307686,54.629629629629626,54.285714285714285,58.18181818181818,63.1578947368421,54.054054054054056,88.88888888888889,57.6271186440678,60.0,66.66666666666666,64.17910447761194,58.82352941176471,63.04347826086957,60.0,59.45945945945946,60.0,88.88888888888889,50.0,75.0,64.70588235294117,62.16216216216216,85.71428571428571,45.45454545454545,62.5,73.13432835820896,66.66666666666666,62.0,65.38461538461539,60.37735849056604,54.54545454545454,56.09756097560976,61.53846153846154],\"type\":\"scatter\"},{\"x\":[\"2022-01-20\",\"2022-01-21\",\"2022-01-22\",\"2022-01-23\",\"2022-01-24\",\"2022-01-25\",\"2022-01-26\",\"2022-01-27\",\"2022-01-28\",\"2022-01-29\",\"2022-01-30\",\"2022-01-31\",\"2022-02-01\",\"2022-02-02\",\"2022-02-03\",\"2022-02-04\",\"2022-02-05\",\"2022-02-06\",\"2022-02-07\",\"2022-02-08\",\"2022-02-09\",\"2022-02-10\",\"2022-02-11\",\"2022-02-12\",\"2022-02-13\",\"2022-02-14\",\"2022-02-15\",\"2022-02-16\",\"2022-02-17\",\"2022-02-18\",\"2022-02-19\",\"2022-02-20\",\"2022-02-21\",\"2022-02-22\",\"2022-02-23\",\"2022-02-24\",\"2022-02-25\",\"2022-02-26\",\"2022-02-27\",\"2022-02-28\",\"2022-03-01\",\"2022-03-02\",\"2022-03-03\"],\"y\":[52.94117647058824,51.61290322580645,46.93877551020408,36.36363636363637,75.0,46.0,38.095238095238095,63.07692307692307,44.44444444444444,66.66666666666666,36.36363636363637,42.30769230769231,45.370370370370374,45.714285714285715,41.81818181818181,36.84210526315789,45.94594594594595,11.11111111111111,42.3728813559322,40.0,33.33333333333333,35.82089552238806,41.17647058823529,36.95652173913043,40.0,40.54054054054054,40.0,11.11111111111111,50.0,25.0,35.294117647058826,37.83783783783784,14.285714285714285,54.54545454545454,37.5,26.865671641791046,33.33333333333333,38.0,34.61538461538461,39.62264150943396,45.45454545454545,43.90243902439025,38.46153846153847],\"type\":\"scatter\"}]},{\"data\":[{\"x\":[\"2022-01-20\",\"2022-01-21\",\"2022-01-22\",\"2022-01-23\",\"2022-01-24\",\"2022-01-25\",\"2022-01-26\",\"2022-01-27\",\"2022-01-28\",\"2022-01-29\",\"2022-01-30\",\"2022-01-31\",\"2022-02-01\",\"2022-02-02\",\"2022-02-03\",\"2022-02-04\",\"2022-02-05\",\"2022-02-06\",\"2022-02-07\",\"2022-02-08\",\"2022-02-09\",\"2022-02-10\",\"2022-02-11\",\"2022-02-12\",\"2022-02-13\",\"2022-02-14\",\"2022-02-15\",\"2022-02-16\",\"2022-02-17\",\"2022-02-18\",\"2022-02-19\",\"2022-02-20\",\"2022-02-21\",\"2022-02-22\",\"2022-02-23\",\"2022-02-24\",\"2022-02-25\",\"2022-02-26\",\"2022-02-27\",\"2022-02-28\",\"2022-03-01\",\"2022-03-02\",\"2022-03-03\",\"2022-03-04\"],\"y\":[47.05882352941176,48.38709677419355,53.06122448979592,63.63636363636363,25.0,54.0,61.904761904761905,36.92307692307693,55.55555555555556,33.33333333333333,63.63636363636363,57.692307692307686,54.629629629629626,54.285714285714285,58.18181818181818,63.1578947368421,54.054054054054056,88.88888888888889,57.6271186440678,60.0,66.66666666666666,64.17910447761194,58.82352941176471,63.04347826086957,60.0,59.45945945945946,60.0,88.88888888888889,50.0,75.0,64.70588235294117,62.16216216216216,85.71428571428571,45.45454545454545,62.5,73.13432835820896,66.66666666666666,62.0,65.38461538461539,60.37735849056604,54.54545454545454,56.09756097560976,61.53846153846154,53.57142857142857],\"type\":\"scatter\"},{\"x\":[\"2022-01-20\",\"2022-01-21\",\"2022-01-22\",\"2022-01-23\",\"2022-01-24\",\"2022-01-25\",\"2022-01-26\",\"2022-01-27\",\"2022-01-28\",\"2022-01-29\",\"2022-01-30\",\"2022-01-31\",\"2022-02-01\",\"2022-02-02\",\"2022-02-03\",\"2022-02-04\",\"2022-02-05\",\"2022-02-06\",\"2022-02-07\",\"2022-02-08\",\"2022-02-09\",\"2022-02-10\",\"2022-02-11\",\"2022-02-12\",\"2022-02-13\",\"2022-02-14\",\"2022-02-15\",\"2022-02-16\",\"2022-02-17\",\"2022-02-18\",\"2022-02-19\",\"2022-02-20\",\"2022-02-21\",\"2022-02-22\",\"2022-02-23\",\"2022-02-24\",\"2022-02-25\",\"2022-02-26\",\"2022-02-27\",\"2022-02-28\",\"2022-03-01\",\"2022-03-02\",\"2022-03-03\",\"2022-03-04\"],\"y\":[52.94117647058824,51.61290322580645,46.93877551020408,36.36363636363637,75.0,46.0,38.095238095238095,63.07692307692307,44.44444444444444,66.66666666666666,36.36363636363637,42.30769230769231,45.370370370370374,45.714285714285715,41.81818181818181,36.84210526315789,45.94594594594595,11.11111111111111,42.3728813559322,40.0,33.33333333333333,35.82089552238806,41.17647058823529,36.95652173913043,40.0,40.54054054054054,40.0,11.11111111111111,50.0,25.0,35.294117647058826,37.83783783783784,14.285714285714285,54.54545454545454,37.5,26.865671641791046,33.33333333333333,38.0,34.61538461538461,39.62264150943396,45.45454545454545,43.90243902439025,38.46153846153847,46.42857142857143],\"type\":\"scatter\"}]},{\"data\":[{\"x\":[\"2022-01-20\",\"2022-01-21\",\"2022-01-22\",\"2022-01-23\",\"2022-01-24\",\"2022-01-25\",\"2022-01-26\",\"2022-01-27\",\"2022-01-28\",\"2022-01-29\",\"2022-01-30\",\"2022-01-31\",\"2022-02-01\",\"2022-02-02\",\"2022-02-03\",\"2022-02-04\",\"2022-02-05\",\"2022-02-06\",\"2022-02-07\",\"2022-02-08\",\"2022-02-09\",\"2022-02-10\",\"2022-02-11\",\"2022-02-12\",\"2022-02-13\",\"2022-02-14\",\"2022-02-15\",\"2022-02-16\",\"2022-02-17\",\"2022-02-18\",\"2022-02-19\",\"2022-02-20\",\"2022-02-21\",\"2022-02-22\",\"2022-02-23\",\"2022-02-24\",\"2022-02-25\",\"2022-02-26\",\"2022-02-27\",\"2022-02-28\",\"2022-03-01\",\"2022-03-02\",\"2022-03-03\",\"2022-03-04\",\"2022-03-05\"],\"y\":[47.05882352941176,48.38709677419355,53.06122448979592,63.63636363636363,25.0,54.0,61.904761904761905,36.92307692307693,55.55555555555556,33.33333333333333,63.63636363636363,57.692307692307686,54.629629629629626,54.285714285714285,58.18181818181818,63.1578947368421,54.054054054054056,88.88888888888889,57.6271186440678,60.0,66.66666666666666,64.17910447761194,58.82352941176471,63.04347826086957,60.0,59.45945945945946,60.0,88.88888888888889,50.0,75.0,64.70588235294117,62.16216216216216,85.71428571428571,45.45454545454545,62.5,73.13432835820896,66.66666666666666,62.0,65.38461538461539,60.37735849056604,54.54545454545454,56.09756097560976,61.53846153846154,53.57142857142857,53.48837209302325],\"type\":\"scatter\"},{\"x\":[\"2022-01-20\",\"2022-01-21\",\"2022-01-22\",\"2022-01-23\",\"2022-01-24\",\"2022-01-25\",\"2022-01-26\",\"2022-01-27\",\"2022-01-28\",\"2022-01-29\",\"2022-01-30\",\"2022-01-31\",\"2022-02-01\",\"2022-02-02\",\"2022-02-03\",\"2022-02-04\",\"2022-02-05\",\"2022-02-06\",\"2022-02-07\",\"2022-02-08\",\"2022-02-09\",\"2022-02-10\",\"2022-02-11\",\"2022-02-12\",\"2022-02-13\",\"2022-02-14\",\"2022-02-15\",\"2022-02-16\",\"2022-02-17\",\"2022-02-18\",\"2022-02-19\",\"2022-02-20\",\"2022-02-21\",\"2022-02-22\",\"2022-02-23\",\"2022-02-24\",\"2022-02-25\",\"2022-02-26\",\"2022-02-27\",\"2022-02-28\",\"2022-03-01\",\"2022-03-02\",\"2022-03-03\",\"2022-03-04\",\"2022-03-05\"],\"y\":[52.94117647058824,51.61290322580645,46.93877551020408,36.36363636363637,75.0,46.0,38.095238095238095,63.07692307692307,44.44444444444444,66.66666666666666,36.36363636363637,42.30769230769231,45.370370370370374,45.714285714285715,41.81818181818181,36.84210526315789,45.94594594594595,11.11111111111111,42.3728813559322,40.0,33.33333333333333,35.82089552238806,41.17647058823529,36.95652173913043,40.0,40.54054054054054,40.0,11.11111111111111,50.0,25.0,35.294117647058826,37.83783783783784,14.285714285714285,54.54545454545454,37.5,26.865671641791046,33.33333333333333,38.0,34.61538461538461,39.62264150943396,45.45454545454545,43.90243902439025,38.46153846153847,46.42857142857143,46.51162790697674],\"type\":\"scatter\"}]},{\"data\":[{\"x\":[\"2022-01-20\",\"2022-01-21\",\"2022-01-22\",\"2022-01-23\",\"2022-01-24\",\"2022-01-25\",\"2022-01-26\",\"2022-01-27\",\"2022-01-28\",\"2022-01-29\",\"2022-01-30\",\"2022-01-31\",\"2022-02-01\",\"2022-02-02\",\"2022-02-03\",\"2022-02-04\",\"2022-02-05\",\"2022-02-06\",\"2022-02-07\",\"2022-02-08\",\"2022-02-09\",\"2022-02-10\",\"2022-02-11\",\"2022-02-12\",\"2022-02-13\",\"2022-02-14\",\"2022-02-15\",\"2022-02-16\",\"2022-02-17\",\"2022-02-18\",\"2022-02-19\",\"2022-02-20\",\"2022-02-21\",\"2022-02-22\",\"2022-02-23\",\"2022-02-24\",\"2022-02-25\",\"2022-02-26\",\"2022-02-27\",\"2022-02-28\",\"2022-03-01\",\"2022-03-02\",\"2022-03-03\",\"2022-03-04\",\"2022-03-05\",\"2022-03-06\"],\"y\":[47.05882352941176,48.38709677419355,53.06122448979592,63.63636363636363,25.0,54.0,61.904761904761905,36.92307692307693,55.55555555555556,33.33333333333333,63.63636363636363,57.692307692307686,54.629629629629626,54.285714285714285,58.18181818181818,63.1578947368421,54.054054054054056,88.88888888888889,57.6271186440678,60.0,66.66666666666666,64.17910447761194,58.82352941176471,63.04347826086957,60.0,59.45945945945946,60.0,88.88888888888889,50.0,75.0,64.70588235294117,62.16216216216216,85.71428571428571,45.45454545454545,62.5,73.13432835820896,66.66666666666666,62.0,65.38461538461539,60.37735849056604,54.54545454545454,56.09756097560976,61.53846153846154,53.57142857142857,53.48837209302325,65.93406593406593],\"type\":\"scatter\"},{\"x\":[\"2022-01-20\",\"2022-01-21\",\"2022-01-22\",\"2022-01-23\",\"2022-01-24\",\"2022-01-25\",\"2022-01-26\",\"2022-01-27\",\"2022-01-28\",\"2022-01-29\",\"2022-01-30\",\"2022-01-31\",\"2022-02-01\",\"2022-02-02\",\"2022-02-03\",\"2022-02-04\",\"2022-02-05\",\"2022-02-06\",\"2022-02-07\",\"2022-02-08\",\"2022-02-09\",\"2022-02-10\",\"2022-02-11\",\"2022-02-12\",\"2022-02-13\",\"2022-02-14\",\"2022-02-15\",\"2022-02-16\",\"2022-02-17\",\"2022-02-18\",\"2022-02-19\",\"2022-02-20\",\"2022-02-21\",\"2022-02-22\",\"2022-02-23\",\"2022-02-24\",\"2022-02-25\",\"2022-02-26\",\"2022-02-27\",\"2022-02-28\",\"2022-03-01\",\"2022-03-02\",\"2022-03-03\",\"2022-03-04\",\"2022-03-05\",\"2022-03-06\"],\"y\":[52.94117647058824,51.61290322580645,46.93877551020408,36.36363636363637,75.0,46.0,38.095238095238095,63.07692307692307,44.44444444444444,66.66666666666666,36.36363636363637,42.30769230769231,45.370370370370374,45.714285714285715,41.81818181818181,36.84210526315789,45.94594594594595,11.11111111111111,42.3728813559322,40.0,33.33333333333333,35.82089552238806,41.17647058823529,36.95652173913043,40.0,40.54054054054054,40.0,11.11111111111111,50.0,25.0,35.294117647058826,37.83783783783784,14.285714285714285,54.54545454545454,37.5,26.865671641791046,33.33333333333333,38.0,34.61538461538461,39.62264150943396,45.45454545454545,43.90243902439025,38.46153846153847,46.42857142857143,46.51162790697674,34.065934065934066],\"type\":\"scatter\"}]},{\"data\":[{\"x\":[\"2022-01-20\",\"2022-01-21\",\"2022-01-22\",\"2022-01-23\",\"2022-01-24\",\"2022-01-25\",\"2022-01-26\",\"2022-01-27\",\"2022-01-28\",\"2022-01-29\",\"2022-01-30\",\"2022-01-31\",\"2022-02-01\",\"2022-02-02\",\"2022-02-03\",\"2022-02-04\",\"2022-02-05\",\"2022-02-06\",\"2022-02-07\",\"2022-02-08\",\"2022-02-09\",\"2022-02-10\",\"2022-02-11\",\"2022-02-12\",\"2022-02-13\",\"2022-02-14\",\"2022-02-15\",\"2022-02-16\",\"2022-02-17\",\"2022-02-18\",\"2022-02-19\",\"2022-02-20\",\"2022-02-21\",\"2022-02-22\",\"2022-02-23\",\"2022-02-24\",\"2022-02-25\",\"2022-02-26\",\"2022-02-27\",\"2022-02-28\",\"2022-03-01\",\"2022-03-02\",\"2022-03-03\",\"2022-03-04\",\"2022-03-05\",\"2022-03-06\",\"2022-03-07\"],\"y\":[47.05882352941176,48.38709677419355,53.06122448979592,63.63636363636363,25.0,54.0,61.904761904761905,36.92307692307693,55.55555555555556,33.33333333333333,63.63636363636363,57.692307692307686,54.629629629629626,54.285714285714285,58.18181818181818,63.1578947368421,54.054054054054056,88.88888888888889,57.6271186440678,60.0,66.66666666666666,64.17910447761194,58.82352941176471,63.04347826086957,60.0,59.45945945945946,60.0,88.88888888888889,50.0,75.0,64.70588235294117,62.16216216216216,85.71428571428571,45.45454545454545,62.5,73.13432835820896,66.66666666666666,62.0,65.38461538461539,60.37735849056604,54.54545454545454,56.09756097560976,61.53846153846154,53.57142857142857,53.48837209302325,65.93406593406593,44.642857142857146],\"type\":\"scatter\"},{\"x\":[\"2022-01-20\",\"2022-01-21\",\"2022-01-22\",\"2022-01-23\",\"2022-01-24\",\"2022-01-25\",\"2022-01-26\",\"2022-01-27\",\"2022-01-28\",\"2022-01-29\",\"2022-01-30\",\"2022-01-31\",\"2022-02-01\",\"2022-02-02\",\"2022-02-03\",\"2022-02-04\",\"2022-02-05\",\"2022-02-06\",\"2022-02-07\",\"2022-02-08\",\"2022-02-09\",\"2022-02-10\",\"2022-02-11\",\"2022-02-12\",\"2022-02-13\",\"2022-02-14\",\"2022-02-15\",\"2022-02-16\",\"2022-02-17\",\"2022-02-18\",\"2022-02-19\",\"2022-02-20\",\"2022-02-21\",\"2022-02-22\",\"2022-02-23\",\"2022-02-24\",\"2022-02-25\",\"2022-02-26\",\"2022-02-27\",\"2022-02-28\",\"2022-03-01\",\"2022-03-02\",\"2022-03-03\",\"2022-03-04\",\"2022-03-05\",\"2022-03-06\",\"2022-03-07\"],\"y\":[52.94117647058824,51.61290322580645,46.93877551020408,36.36363636363637,75.0,46.0,38.095238095238095,63.07692307692307,44.44444444444444,66.66666666666666,36.36363636363637,42.30769230769231,45.370370370370374,45.714285714285715,41.81818181818181,36.84210526315789,45.94594594594595,11.11111111111111,42.3728813559322,40.0,33.33333333333333,35.82089552238806,41.17647058823529,36.95652173913043,40.0,40.54054054054054,40.0,11.11111111111111,50.0,25.0,35.294117647058826,37.83783783783784,14.285714285714285,54.54545454545454,37.5,26.865671641791046,33.33333333333333,38.0,34.61538461538461,39.62264150943396,45.45454545454545,43.90243902439025,38.46153846153847,46.42857142857143,46.51162790697674,34.065934065934066,55.35714285714286],\"type\":\"scatter\"}]},{\"data\":[{\"x\":[\"2022-01-20\",\"2022-01-21\",\"2022-01-22\",\"2022-01-23\",\"2022-01-24\",\"2022-01-25\",\"2022-01-26\",\"2022-01-27\",\"2022-01-28\",\"2022-01-29\",\"2022-01-30\",\"2022-01-31\",\"2022-02-01\",\"2022-02-02\",\"2022-02-03\",\"2022-02-04\",\"2022-02-05\",\"2022-02-06\",\"2022-02-07\",\"2022-02-08\",\"2022-02-09\",\"2022-02-10\",\"2022-02-11\",\"2022-02-12\",\"2022-02-13\",\"2022-02-14\",\"2022-02-15\",\"2022-02-16\",\"2022-02-17\",\"2022-02-18\",\"2022-02-19\",\"2022-02-20\",\"2022-02-21\",\"2022-02-22\",\"2022-02-23\",\"2022-02-24\",\"2022-02-25\",\"2022-02-26\",\"2022-02-27\",\"2022-02-28\",\"2022-03-01\",\"2022-03-02\",\"2022-03-03\",\"2022-03-04\",\"2022-03-05\",\"2022-03-06\",\"2022-03-07\",\"2022-03-08\"],\"y\":[47.05882352941176,48.38709677419355,53.06122448979592,63.63636363636363,25.0,54.0,61.904761904761905,36.92307692307693,55.55555555555556,33.33333333333333,63.63636363636363,57.692307692307686,54.629629629629626,54.285714285714285,58.18181818181818,63.1578947368421,54.054054054054056,88.88888888888889,57.6271186440678,60.0,66.66666666666666,64.17910447761194,58.82352941176471,63.04347826086957,60.0,59.45945945945946,60.0,88.88888888888889,50.0,75.0,64.70588235294117,62.16216216216216,85.71428571428571,45.45454545454545,62.5,73.13432835820896,66.66666666666666,62.0,65.38461538461539,60.37735849056604,54.54545454545454,56.09756097560976,61.53846153846154,53.57142857142857,53.48837209302325,65.93406593406593,44.642857142857146,18.181818181818183],\"type\":\"scatter\"},{\"x\":[\"2022-01-20\",\"2022-01-21\",\"2022-01-22\",\"2022-01-23\",\"2022-01-24\",\"2022-01-25\",\"2022-01-26\",\"2022-01-27\",\"2022-01-28\",\"2022-01-29\",\"2022-01-30\",\"2022-01-31\",\"2022-02-01\",\"2022-02-02\",\"2022-02-03\",\"2022-02-04\",\"2022-02-05\",\"2022-02-06\",\"2022-02-07\",\"2022-02-08\",\"2022-02-09\",\"2022-02-10\",\"2022-02-11\",\"2022-02-12\",\"2022-02-13\",\"2022-02-14\",\"2022-02-15\",\"2022-02-16\",\"2022-02-17\",\"2022-02-18\",\"2022-02-19\",\"2022-02-20\",\"2022-02-21\",\"2022-02-22\",\"2022-02-23\",\"2022-02-24\",\"2022-02-25\",\"2022-02-26\",\"2022-02-27\",\"2022-02-28\",\"2022-03-01\",\"2022-03-02\",\"2022-03-03\",\"2022-03-04\",\"2022-03-05\",\"2022-03-06\",\"2022-03-07\",\"2022-03-08\"],\"y\":[52.94117647058824,51.61290322580645,46.93877551020408,36.36363636363637,75.0,46.0,38.095238095238095,63.07692307692307,44.44444444444444,66.66666666666666,36.36363636363637,42.30769230769231,45.370370370370374,45.714285714285715,41.81818181818181,36.84210526315789,45.94594594594595,11.11111111111111,42.3728813559322,40.0,33.33333333333333,35.82089552238806,41.17647058823529,36.95652173913043,40.0,40.54054054054054,40.0,11.11111111111111,50.0,25.0,35.294117647058826,37.83783783783784,14.285714285714285,54.54545454545454,37.5,26.865671641791046,33.33333333333333,38.0,34.61538461538461,39.62264150943396,45.45454545454545,43.90243902439025,38.46153846153847,46.42857142857143,46.51162790697674,34.065934065934066,55.35714285714286,81.81818181818183],\"type\":\"scatter\"}]},{\"data\":[{\"x\":[\"2022-01-20\",\"2022-01-21\",\"2022-01-22\",\"2022-01-23\",\"2022-01-24\",\"2022-01-25\",\"2022-01-26\",\"2022-01-27\",\"2022-01-28\",\"2022-01-29\",\"2022-01-30\",\"2022-01-31\",\"2022-02-01\",\"2022-02-02\",\"2022-02-03\",\"2022-02-04\",\"2022-02-05\",\"2022-02-06\",\"2022-02-07\",\"2022-02-08\",\"2022-02-09\",\"2022-02-10\",\"2022-02-11\",\"2022-02-12\",\"2022-02-13\",\"2022-02-14\",\"2022-02-15\",\"2022-02-16\",\"2022-02-17\",\"2022-02-18\",\"2022-02-19\",\"2022-02-20\",\"2022-02-21\",\"2022-02-22\",\"2022-02-23\",\"2022-02-24\",\"2022-02-25\",\"2022-02-26\",\"2022-02-27\",\"2022-02-28\",\"2022-03-01\",\"2022-03-02\",\"2022-03-03\",\"2022-03-04\",\"2022-03-05\",\"2022-03-06\",\"2022-03-07\",\"2022-03-08\",\"2022-03-09\"],\"y\":[47.05882352941176,48.38709677419355,53.06122448979592,63.63636363636363,25.0,54.0,61.904761904761905,36.92307692307693,55.55555555555556,33.33333333333333,63.63636363636363,57.692307692307686,54.629629629629626,54.285714285714285,58.18181818181818,63.1578947368421,54.054054054054056,88.88888888888889,57.6271186440678,60.0,66.66666666666666,64.17910447761194,58.82352941176471,63.04347826086957,60.0,59.45945945945946,60.0,88.88888888888889,50.0,75.0,64.70588235294117,62.16216216216216,85.71428571428571,45.45454545454545,62.5,73.13432835820896,66.66666666666666,62.0,65.38461538461539,60.37735849056604,54.54545454545454,56.09756097560976,61.53846153846154,53.57142857142857,53.48837209302325,65.93406593406593,44.642857142857146,18.181818181818183,77.77777777777779],\"type\":\"scatter\"},{\"x\":[\"2022-01-20\",\"2022-01-21\",\"2022-01-22\",\"2022-01-23\",\"2022-01-24\",\"2022-01-25\",\"2022-01-26\",\"2022-01-27\",\"2022-01-28\",\"2022-01-29\",\"2022-01-30\",\"2022-01-31\",\"2022-02-01\",\"2022-02-02\",\"2022-02-03\",\"2022-02-04\",\"2022-02-05\",\"2022-02-06\",\"2022-02-07\",\"2022-02-08\",\"2022-02-09\",\"2022-02-10\",\"2022-02-11\",\"2022-02-12\",\"2022-02-13\",\"2022-02-14\",\"2022-02-15\",\"2022-02-16\",\"2022-02-17\",\"2022-02-18\",\"2022-02-19\",\"2022-02-20\",\"2022-02-21\",\"2022-02-22\",\"2022-02-23\",\"2022-02-24\",\"2022-02-25\",\"2022-02-26\",\"2022-02-27\",\"2022-02-28\",\"2022-03-01\",\"2022-03-02\",\"2022-03-03\",\"2022-03-04\",\"2022-03-05\",\"2022-03-06\",\"2022-03-07\",\"2022-03-08\",\"2022-03-09\"],\"y\":[52.94117647058824,51.61290322580645,46.93877551020408,36.36363636363637,75.0,46.0,38.095238095238095,63.07692307692307,44.44444444444444,66.66666666666666,36.36363636363637,42.30769230769231,45.370370370370374,45.714285714285715,41.81818181818181,36.84210526315789,45.94594594594595,11.11111111111111,42.3728813559322,40.0,33.33333333333333,35.82089552238806,41.17647058823529,36.95652173913043,40.0,40.54054054054054,40.0,11.11111111111111,50.0,25.0,35.294117647058826,37.83783783783784,14.285714285714285,54.54545454545454,37.5,26.865671641791046,33.33333333333333,38.0,34.61538461538461,39.62264150943396,45.45454545454545,43.90243902439025,38.46153846153847,46.42857142857143,46.51162790697674,34.065934065934066,55.35714285714286,81.81818181818183,22.22222222222222],\"type\":\"scatter\"}]},{\"data\":[{\"x\":[\"2022-01-20\",\"2022-01-21\",\"2022-01-22\",\"2022-01-23\",\"2022-01-24\",\"2022-01-25\",\"2022-01-26\",\"2022-01-27\",\"2022-01-28\",\"2022-01-29\",\"2022-01-30\",\"2022-01-31\",\"2022-02-01\",\"2022-02-02\",\"2022-02-03\",\"2022-02-04\",\"2022-02-05\",\"2022-02-06\",\"2022-02-07\",\"2022-02-08\",\"2022-02-09\",\"2022-02-10\",\"2022-02-11\",\"2022-02-12\",\"2022-02-13\",\"2022-02-14\",\"2022-02-15\",\"2022-02-16\",\"2022-02-17\",\"2022-02-18\",\"2022-02-19\",\"2022-02-20\",\"2022-02-21\",\"2022-02-22\",\"2022-02-23\",\"2022-02-24\",\"2022-02-25\",\"2022-02-26\",\"2022-02-27\",\"2022-02-28\",\"2022-03-01\",\"2022-03-02\",\"2022-03-03\",\"2022-03-04\",\"2022-03-05\",\"2022-03-06\",\"2022-03-07\",\"2022-03-08\",\"2022-03-09\",\"2022-03-10\"],\"y\":[47.05882352941176,48.38709677419355,53.06122448979592,63.63636363636363,25.0,54.0,61.904761904761905,36.92307692307693,55.55555555555556,33.33333333333333,63.63636363636363,57.692307692307686,54.629629629629626,54.285714285714285,58.18181818181818,63.1578947368421,54.054054054054056,88.88888888888889,57.6271186440678,60.0,66.66666666666666,64.17910447761194,58.82352941176471,63.04347826086957,60.0,59.45945945945946,60.0,88.88888888888889,50.0,75.0,64.70588235294117,62.16216216216216,85.71428571428571,45.45454545454545,62.5,73.13432835820896,66.66666666666666,62.0,65.38461538461539,60.37735849056604,54.54545454545454,56.09756097560976,61.53846153846154,53.57142857142857,53.48837209302325,65.93406593406593,44.642857142857146,18.181818181818183,77.77777777777779,59.183673469387756],\"type\":\"scatter\"},{\"x\":[\"2022-01-20\",\"2022-01-21\",\"2022-01-22\",\"2022-01-23\",\"2022-01-24\",\"2022-01-25\",\"2022-01-26\",\"2022-01-27\",\"2022-01-28\",\"2022-01-29\",\"2022-01-30\",\"2022-01-31\",\"2022-02-01\",\"2022-02-02\",\"2022-02-03\",\"2022-02-04\",\"2022-02-05\",\"2022-02-06\",\"2022-02-07\",\"2022-02-08\",\"2022-02-09\",\"2022-02-10\",\"2022-02-11\",\"2022-02-12\",\"2022-02-13\",\"2022-02-14\",\"2022-02-15\",\"2022-02-16\",\"2022-02-17\",\"2022-02-18\",\"2022-02-19\",\"2022-02-20\",\"2022-02-21\",\"2022-02-22\",\"2022-02-23\",\"2022-02-24\",\"2022-02-25\",\"2022-02-26\",\"2022-02-27\",\"2022-02-28\",\"2022-03-01\",\"2022-03-02\",\"2022-03-03\",\"2022-03-04\",\"2022-03-05\",\"2022-03-06\",\"2022-03-07\",\"2022-03-08\",\"2022-03-09\",\"2022-03-10\"],\"y\":[52.94117647058824,51.61290322580645,46.93877551020408,36.36363636363637,75.0,46.0,38.095238095238095,63.07692307692307,44.44444444444444,66.66666666666666,36.36363636363637,42.30769230769231,45.370370370370374,45.714285714285715,41.81818181818181,36.84210526315789,45.94594594594595,11.11111111111111,42.3728813559322,40.0,33.33333333333333,35.82089552238806,41.17647058823529,36.95652173913043,40.0,40.54054054054054,40.0,11.11111111111111,50.0,25.0,35.294117647058826,37.83783783783784,14.285714285714285,54.54545454545454,37.5,26.865671641791046,33.33333333333333,38.0,34.61538461538461,39.62264150943396,45.45454545454545,43.90243902439025,38.46153846153847,46.42857142857143,46.51162790697674,34.065934065934066,55.35714285714286,81.81818181818183,22.22222222222222,40.816326530612244],\"type\":\"scatter\"}]},{\"data\":[{\"x\":[\"2022-01-20\",\"2022-01-21\",\"2022-01-22\",\"2022-01-23\",\"2022-01-24\",\"2022-01-25\",\"2022-01-26\",\"2022-01-27\",\"2022-01-28\",\"2022-01-29\",\"2022-01-30\",\"2022-01-31\",\"2022-02-01\",\"2022-02-02\",\"2022-02-03\",\"2022-02-04\",\"2022-02-05\",\"2022-02-06\",\"2022-02-07\",\"2022-02-08\",\"2022-02-09\",\"2022-02-10\",\"2022-02-11\",\"2022-02-12\",\"2022-02-13\",\"2022-02-14\",\"2022-02-15\",\"2022-02-16\",\"2022-02-17\",\"2022-02-18\",\"2022-02-19\",\"2022-02-20\",\"2022-02-21\",\"2022-02-22\",\"2022-02-23\",\"2022-02-24\",\"2022-02-25\",\"2022-02-26\",\"2022-02-27\",\"2022-02-28\",\"2022-03-01\",\"2022-03-02\",\"2022-03-03\",\"2022-03-04\",\"2022-03-05\",\"2022-03-06\",\"2022-03-07\",\"2022-03-08\",\"2022-03-09\",\"2022-03-10\",\"2022-03-11\"],\"y\":[47.05882352941176,48.38709677419355,53.06122448979592,63.63636363636363,25.0,54.0,61.904761904761905,36.92307692307693,55.55555555555556,33.33333333333333,63.63636363636363,57.692307692307686,54.629629629629626,54.285714285714285,58.18181818181818,63.1578947368421,54.054054054054056,88.88888888888889,57.6271186440678,60.0,66.66666666666666,64.17910447761194,58.82352941176471,63.04347826086957,60.0,59.45945945945946,60.0,88.88888888888889,50.0,75.0,64.70588235294117,62.16216216216216,85.71428571428571,45.45454545454545,62.5,73.13432835820896,66.66666666666666,62.0,65.38461538461539,60.37735849056604,54.54545454545454,56.09756097560976,61.53846153846154,53.57142857142857,53.48837209302325,65.93406593406593,44.642857142857146,18.181818181818183,77.77777777777779,59.183673469387756,46.875],\"type\":\"scatter\"},{\"x\":[\"2022-01-20\",\"2022-01-21\",\"2022-01-22\",\"2022-01-23\",\"2022-01-24\",\"2022-01-25\",\"2022-01-26\",\"2022-01-27\",\"2022-01-28\",\"2022-01-29\",\"2022-01-30\",\"2022-01-31\",\"2022-02-01\",\"2022-02-02\",\"2022-02-03\",\"2022-02-04\",\"2022-02-05\",\"2022-02-06\",\"2022-02-07\",\"2022-02-08\",\"2022-02-09\",\"2022-02-10\",\"2022-02-11\",\"2022-02-12\",\"2022-02-13\",\"2022-02-14\",\"2022-02-15\",\"2022-02-16\",\"2022-02-17\",\"2022-02-18\",\"2022-02-19\",\"2022-02-20\",\"2022-02-21\",\"2022-02-22\",\"2022-02-23\",\"2022-02-24\",\"2022-02-25\",\"2022-02-26\",\"2022-02-27\",\"2022-02-28\",\"2022-03-01\",\"2022-03-02\",\"2022-03-03\",\"2022-03-04\",\"2022-03-05\",\"2022-03-06\",\"2022-03-07\",\"2022-03-08\",\"2022-03-09\",\"2022-03-10\",\"2022-03-11\"],\"y\":[52.94117647058824,51.61290322580645,46.93877551020408,36.36363636363637,75.0,46.0,38.095238095238095,63.07692307692307,44.44444444444444,66.66666666666666,36.36363636363637,42.30769230769231,45.370370370370374,45.714285714285715,41.81818181818181,36.84210526315789,45.94594594594595,11.11111111111111,42.3728813559322,40.0,33.33333333333333,35.82089552238806,41.17647058823529,36.95652173913043,40.0,40.54054054054054,40.0,11.11111111111111,50.0,25.0,35.294117647058826,37.83783783783784,14.285714285714285,54.54545454545454,37.5,26.865671641791046,33.33333333333333,38.0,34.61538461538461,39.62264150943396,45.45454545454545,43.90243902439025,38.46153846153847,46.42857142857143,46.51162790697674,34.065934065934066,55.35714285714286,81.81818181818183,22.22222222222222,40.816326530612244,53.125],\"type\":\"scatter\"}]},{\"data\":[{\"x\":[\"2022-01-20\",\"2022-01-21\",\"2022-01-22\",\"2022-01-23\",\"2022-01-24\",\"2022-01-25\",\"2022-01-26\",\"2022-01-27\",\"2022-01-28\",\"2022-01-29\",\"2022-01-30\",\"2022-01-31\",\"2022-02-01\",\"2022-02-02\",\"2022-02-03\",\"2022-02-04\",\"2022-02-05\",\"2022-02-06\",\"2022-02-07\",\"2022-02-08\",\"2022-02-09\",\"2022-02-10\",\"2022-02-11\",\"2022-02-12\",\"2022-02-13\",\"2022-02-14\",\"2022-02-15\",\"2022-02-16\",\"2022-02-17\",\"2022-02-18\",\"2022-02-19\",\"2022-02-20\",\"2022-02-21\",\"2022-02-22\",\"2022-02-23\",\"2022-02-24\",\"2022-02-25\",\"2022-02-26\",\"2022-02-27\",\"2022-02-28\",\"2022-03-01\",\"2022-03-02\",\"2022-03-03\",\"2022-03-04\",\"2022-03-05\",\"2022-03-06\",\"2022-03-07\",\"2022-03-08\",\"2022-03-09\",\"2022-03-10\",\"2022-03-11\",\"2022-03-12\"],\"y\":[47.05882352941176,48.38709677419355,53.06122448979592,63.63636363636363,25.0,54.0,61.904761904761905,36.92307692307693,55.55555555555556,33.33333333333333,63.63636363636363,57.692307692307686,54.629629629629626,54.285714285714285,58.18181818181818,63.1578947368421,54.054054054054056,88.88888888888889,57.6271186440678,60.0,66.66666666666666,64.17910447761194,58.82352941176471,63.04347826086957,60.0,59.45945945945946,60.0,88.88888888888889,50.0,75.0,64.70588235294117,62.16216216216216,85.71428571428571,45.45454545454545,62.5,73.13432835820896,66.66666666666666,62.0,65.38461538461539,60.37735849056604,54.54545454545454,56.09756097560976,61.53846153846154,53.57142857142857,53.48837209302325,65.93406593406593,44.642857142857146,18.181818181818183,77.77777777777779,59.183673469387756,46.875,65.38461538461539],\"type\":\"scatter\"},{\"x\":[\"2022-01-20\",\"2022-01-21\",\"2022-01-22\",\"2022-01-23\",\"2022-01-24\",\"2022-01-25\",\"2022-01-26\",\"2022-01-27\",\"2022-01-28\",\"2022-01-29\",\"2022-01-30\",\"2022-01-31\",\"2022-02-01\",\"2022-02-02\",\"2022-02-03\",\"2022-02-04\",\"2022-02-05\",\"2022-02-06\",\"2022-02-07\",\"2022-02-08\",\"2022-02-09\",\"2022-02-10\",\"2022-02-11\",\"2022-02-12\",\"2022-02-13\",\"2022-02-14\",\"2022-02-15\",\"2022-02-16\",\"2022-02-17\",\"2022-02-18\",\"2022-02-19\",\"2022-02-20\",\"2022-02-21\",\"2022-02-22\",\"2022-02-23\",\"2022-02-24\",\"2022-02-25\",\"2022-02-26\",\"2022-02-27\",\"2022-02-28\",\"2022-03-01\",\"2022-03-02\",\"2022-03-03\",\"2022-03-04\",\"2022-03-05\",\"2022-03-06\",\"2022-03-07\",\"2022-03-08\",\"2022-03-09\",\"2022-03-10\",\"2022-03-11\",\"2022-03-12\"],\"y\":[52.94117647058824,51.61290322580645,46.93877551020408,36.36363636363637,75.0,46.0,38.095238095238095,63.07692307692307,44.44444444444444,66.66666666666666,36.36363636363637,42.30769230769231,45.370370370370374,45.714285714285715,41.81818181818181,36.84210526315789,45.94594594594595,11.11111111111111,42.3728813559322,40.0,33.33333333333333,35.82089552238806,41.17647058823529,36.95652173913043,40.0,40.54054054054054,40.0,11.11111111111111,50.0,25.0,35.294117647058826,37.83783783783784,14.285714285714285,54.54545454545454,37.5,26.865671641791046,33.33333333333333,38.0,34.61538461538461,39.62264150943396,45.45454545454545,43.90243902439025,38.46153846153847,46.42857142857143,46.51162790697674,34.065934065934066,55.35714285714286,81.81818181818183,22.22222222222222,40.816326530612244,53.125,34.61538461538461],\"type\":\"scatter\"}]}]);\n",
       "                        }).then(function(){\n",
       "                            \n",
       "var gd = document.getElementById('40677266-d1e3-412c-b3ec-9bc8fed3db25');\n",
       "var x = new MutationObserver(function (mutations, observer) {{\n",
       "        var display = window.getComputedStyle(gd).display;\n",
       "        if (!display || display === 'none') {{\n",
       "            console.log([gd, 'removed!']);\n",
       "            Plotly.purge(gd);\n",
       "            observer.disconnect();\n",
       "        }}\n",
       "}});\n",
       "\n",
       "// Listen for the removal of the full notebook cells\n",
       "var notebookContainer = gd.closest('#notebook-container');\n",
       "if (notebookContainer) {{\n",
       "    x.observe(notebookContainer, {childList: true});\n",
       "}}\n",
       "\n",
       "// Listen for the clearing of the current output cell\n",
       "var outputEl = gd.closest('.output');\n",
       "if (outputEl) {{\n",
       "    x.observe(outputEl, {childList: true});\n",
       "}}\n",
       "\n",
       "                        })                };                });            </script>        </div>"
      ]
     },
     "metadata": {},
     "output_type": "display_data"
    }
   ],
   "source": [
    "truckers_sentiment_df = get_flair_dummies(truckers_df)\n",
    "figure_truckers = get_scatter_animation(truckers_sentiment_df)\n",
    "figure_truckers.show(renderer='notebook_connected')"
   ]
  },
  {
   "cell_type": "code",
   "execution_count": 13,
   "metadata": {},
   "outputs": [],
   "source": [
    "def labeled_df(file):\n",
    "    df = pd.read_csv(file, lineterminator='\\n')\n",
    "    df = get_sentiment_analysis(df)\n",
    "    df['sentiment'] = df['sentiment_flair'].apply(\n",
    "        lambda x: (0 if x == 'positive' else 1)\n",
    "    )\n",
    "    return df\n",
    "\n",
    "def prediction_sentiment_figure(labeled_df, topic):\n",
    "    df_flair = pd.get_dummies(\n",
    "        labeled_df[['label', 'sentiment_flair']],\n",
    "        columns=['sentiment_flair']\n",
    "    )\n",
    "    df_flair = df_flair.groupby('label').sum()\n",
    "    labels = ['Negative', 'Positive']\n",
    "    fig = make_subplots(\n",
    "        1, 2, specs=[[{'type':'domain'}, {'type':'domain'}]],\n",
    "        subplot_titles=['Prediction: 0', 'Prediction: 1']\n",
    "    )\n",
    "    fig.add_trace(\n",
    "        go.Pie(\n",
    "            labels=labels, values=df_flair.loc[0],\n",
    "            name=\"Label 0\"\n",
    "        ), 1, 1\n",
    "    )\n",
    "    fig.add_trace(\n",
    "        go.Pie(\n",
    "            labels=labels, values=df_flair.loc[1],\n",
    "            name='Label 1'\n",
    "        ), 1, 2\n",
    "    )\n",
    "    fig.update_layout(title_text='Sentiment Analysis for {} Tweets'.format(topic))\n",
    "    return fig"
   ]
  },
  {
   "cell_type": "code",
   "execution_count": 14,
   "metadata": {},
   "outputs": [],
   "source": [
    "labeled_covid_df = labeled_df(\n",
    "    'bert/model_best_bert/test_covid_data_labeled.csv'\n",
    ")"
   ]
  },
  {
   "cell_type": "code",
   "execution_count": 16,
   "metadata": {},
   "outputs": [
    {
     "data": {
      "application/vnd.plotly.v1+json": {
       "config": {
        "linkText": "Export to plot.ly",
        "plotlyServerURL": "https://plot.ly",
        "showLink": false
       },
       "data": [
        {
         "alignmentgroup": "True",
         "bingroup": "x",
         "hovertemplate": "label=%{x}<br>count=%{y}<extra></extra>",
         "legendgroup": "",
         "marker": {
          "color": "#636efa",
          "pattern": {
           "shape": ""
          }
         },
         "name": "",
         "offsetgroup": "",
         "orientation": "v",
         "showlegend": false,
         "type": "histogram",
         "x": [
          0,
          0,
          0,
          0,
          0,
          1,
          0,
          0,
          0,
          0,
          0,
          0,
          0,
          1,
          0,
          0,
          0,
          0,
          0,
          0,
          0,
          0,
          0,
          0,
          0,
          0,
          0,
          1,
          0,
          0,
          0,
          1,
          0,
          0,
          0,
          0,
          0,
          0,
          0,
          0,
          0,
          0,
          0,
          0,
          0,
          0,
          0,
          0,
          0,
          1,
          1,
          0,
          0,
          0,
          0,
          0,
          1,
          0,
          1,
          0,
          0,
          0,
          1,
          0,
          1,
          1,
          0,
          1,
          0,
          0,
          0,
          0,
          0,
          0,
          0,
          1,
          0,
          0,
          0,
          0,
          1,
          0,
          0,
          0,
          0,
          0,
          1,
          1,
          0,
          0,
          0,
          1,
          1,
          0,
          0,
          0,
          0,
          0,
          0,
          0,
          0,
          0,
          0,
          0,
          0,
          0,
          0,
          0,
          0,
          0,
          0,
          0,
          1,
          0,
          0,
          0,
          0,
          0,
          1,
          0,
          0,
          0,
          0,
          0,
          0,
          0,
          0,
          0,
          0,
          0,
          0,
          0,
          0,
          1,
          0,
          0,
          0,
          0,
          0,
          0,
          0,
          0,
          0,
          0,
          0,
          1,
          0,
          0,
          1,
          0,
          0,
          0,
          0,
          0,
          0,
          0,
          0,
          0,
          1,
          0,
          1,
          0,
          0,
          0,
          0,
          0,
          0,
          0,
          0,
          0,
          0,
          0,
          0,
          0,
          0,
          0,
          1,
          0,
          1,
          0,
          0,
          0,
          0,
          0,
          0,
          0,
          0,
          0,
          0,
          0,
          0,
          0,
          0,
          0,
          0,
          0,
          0,
          0,
          0,
          0,
          0,
          0,
          1,
          0,
          0,
          0,
          0,
          0,
          0,
          0,
          0,
          1,
          0,
          0,
          0,
          0,
          0,
          0,
          0,
          0,
          0,
          0,
          0,
          0,
          0,
          0,
          0,
          1,
          0,
          0,
          0,
          0,
          1,
          0,
          0,
          0,
          1,
          1,
          0,
          0,
          0,
          0,
          0,
          1,
          1,
          0,
          0,
          0,
          0,
          0,
          0,
          0,
          0,
          0,
          1,
          0,
          0,
          0,
          0,
          0,
          1,
          0,
          0,
          0,
          0,
          0,
          0,
          0,
          0,
          1,
          1,
          1,
          1,
          0,
          0,
          1,
          0,
          0,
          1,
          0,
          0,
          1,
          1,
          0,
          1,
          0,
          0,
          0,
          0,
          1,
          0,
          0,
          1,
          0,
          0,
          0,
          0,
          0,
          0,
          0,
          1,
          0,
          0,
          0,
          0,
          0,
          0,
          0,
          0,
          0,
          0,
          0,
          1,
          0,
          0,
          0,
          0,
          0,
          0,
          0,
          1,
          0,
          0,
          0,
          0,
          1,
          0,
          0,
          0,
          0,
          0,
          0,
          0,
          0,
          0,
          0,
          1,
          0,
          1,
          0,
          0,
          1,
          0,
          0,
          0,
          0,
          1,
          0,
          0,
          0,
          1,
          1,
          0,
          0,
          0,
          0,
          1,
          0,
          0,
          0,
          0,
          1,
          0,
          0,
          0,
          0,
          0,
          0,
          0,
          0,
          0,
          0,
          0,
          0,
          0,
          1,
          1,
          0,
          0,
          1,
          0,
          0,
          0,
          0,
          0,
          1,
          0,
          0,
          0,
          0,
          0,
          0,
          0,
          0,
          0,
          0,
          0,
          0,
          0,
          0,
          0,
          1,
          0,
          0,
          0,
          0,
          0,
          1,
          0,
          0,
          0,
          0,
          0,
          0,
          0,
          0,
          0,
          1,
          1,
          0,
          0,
          0,
          0,
          0,
          0,
          0,
          0,
          0,
          1,
          1,
          0,
          1,
          1,
          0,
          0,
          1,
          0,
          0,
          0,
          0,
          0,
          0,
          1,
          0,
          1,
          0,
          0,
          0,
          0,
          0,
          0,
          0,
          1,
          1,
          1,
          1,
          1,
          0,
          0,
          0,
          0,
          0,
          0,
          0,
          0,
          0,
          0,
          0,
          0,
          0,
          1,
          0,
          0,
          0,
          0,
          0,
          0,
          0,
          0,
          1,
          0,
          0,
          0,
          0,
          0,
          0,
          1,
          0,
          0,
          1,
          0,
          0,
          1,
          0,
          0,
          0,
          0,
          0,
          0,
          0,
          0,
          0,
          0,
          0,
          1,
          0,
          0,
          0,
          0,
          0,
          0,
          0,
          0,
          0,
          0,
          0,
          0,
          0,
          0,
          0,
          0,
          0,
          0,
          0,
          0,
          0,
          0,
          0,
          0,
          0,
          0,
          1,
          0,
          0,
          0,
          0,
          0,
          0,
          0,
          0,
          0,
          0,
          1,
          0,
          0,
          0,
          0,
          0,
          0,
          0,
          0,
          0,
          0,
          0,
          0,
          0,
          0,
          0,
          0,
          1,
          0,
          0,
          1,
          0,
          0,
          0,
          0,
          0,
          0,
          0,
          0,
          0,
          0,
          0,
          0,
          0,
          0,
          0,
          0,
          1,
          0,
          0,
          0,
          0,
          0,
          0,
          1,
          1,
          0,
          0,
          0,
          0,
          0,
          0,
          0,
          0,
          0,
          0,
          0,
          0,
          0,
          0,
          0,
          0,
          0,
          0,
          1,
          1,
          0,
          0,
          0,
          0,
          0,
          0,
          0,
          0,
          0,
          0,
          0,
          0,
          0,
          1,
          0,
          1,
          1,
          0,
          0,
          1,
          0,
          1,
          0,
          0,
          0,
          0,
          0,
          0,
          0,
          0,
          0,
          0,
          0,
          0,
          0,
          1,
          1,
          1,
          0,
          0,
          0,
          0,
          0,
          0,
          0,
          0,
          1,
          0,
          0,
          0,
          0,
          0,
          0,
          1,
          0,
          0,
          0,
          1,
          0,
          0,
          1,
          1,
          0,
          0,
          0,
          0,
          0,
          0,
          0,
          0,
          1,
          0,
          0,
          0,
          1,
          0,
          0,
          0,
          0,
          0,
          0,
          0,
          0,
          0,
          0,
          1,
          1,
          1,
          0,
          0,
          0,
          0,
          0,
          0,
          1,
          0,
          0,
          0,
          0,
          0,
          0,
          0,
          0,
          0,
          0,
          0,
          0,
          0,
          0,
          0,
          0,
          0,
          0,
          0,
          0,
          0,
          0,
          0,
          0,
          1,
          0,
          0,
          0,
          0,
          1,
          0,
          0,
          0,
          1,
          0,
          0,
          1,
          0,
          0,
          0,
          0,
          0,
          0,
          0,
          0,
          0,
          0,
          1,
          0,
          1,
          0,
          0,
          0,
          0,
          0,
          0,
          0,
          0,
          1,
          0,
          0,
          0,
          0,
          0,
          0,
          0,
          0,
          0,
          0,
          1,
          0,
          0,
          0,
          0,
          0,
          0,
          0,
          0,
          0,
          0,
          0,
          0,
          0,
          0,
          0,
          0,
          0,
          0,
          0,
          0,
          0,
          0,
          1,
          0,
          0,
          1,
          0,
          1,
          0,
          1,
          0,
          1,
          0,
          0,
          1,
          1,
          0,
          0,
          0,
          0,
          0,
          0,
          0,
          0,
          0,
          0,
          0,
          0,
          0,
          0,
          0,
          0,
          0,
          0,
          0,
          1,
          0,
          0,
          0,
          0,
          0,
          0,
          0,
          0,
          0,
          0,
          0,
          1,
          0,
          1,
          1,
          0,
          0,
          1,
          0,
          0,
          0,
          1,
          1,
          0,
          0,
          1,
          0,
          1,
          0,
          0,
          0,
          1,
          0,
          0,
          0,
          0,
          0,
          0,
          0,
          0,
          1,
          0,
          0,
          0,
          1,
          0,
          0,
          0,
          0,
          0,
          0,
          0,
          0,
          0,
          0,
          0,
          0,
          0,
          0,
          0,
          0,
          0,
          0,
          0,
          0,
          1,
          0,
          0,
          0,
          0,
          0,
          0,
          0,
          0,
          1,
          1,
          0,
          0,
          0,
          0,
          0,
          1,
          0,
          0,
          0,
          1,
          1,
          0,
          0,
          0,
          0,
          0,
          1,
          0,
          0,
          1,
          0,
          0,
          1,
          0,
          0,
          0,
          0,
          0,
          0,
          0,
          0,
          0,
          0,
          0,
          1,
          0,
          0,
          0,
          0,
          0,
          0,
          0,
          0,
          0,
          0,
          0,
          0,
          0,
          0,
          0,
          0,
          1,
          0,
          0,
          0,
          0,
          0,
          0,
          0,
          0,
          0,
          0,
          0,
          0,
          0,
          0,
          0,
          0,
          0,
          0,
          0,
          0,
          0,
          0,
          0,
          1,
          0,
          1,
          0,
          1,
          0,
          0,
          0,
          0,
          0,
          0,
          0,
          0,
          0,
          1,
          0,
          0,
          0,
          0,
          0,
          1,
          0,
          1,
          0,
          0,
          0,
          0,
          1,
          0,
          0,
          0,
          0,
          1,
          0,
          0,
          0,
          0,
          0,
          0,
          0,
          0,
          0,
          0,
          0,
          0,
          0,
          0,
          0,
          0,
          0,
          0,
          0,
          1,
          0,
          0,
          0,
          0,
          1,
          1,
          0,
          0,
          0,
          0,
          0,
          0,
          0,
          1,
          0,
          0,
          0,
          0,
          0,
          0,
          0,
          0,
          0,
          0,
          0,
          0,
          1,
          0,
          0,
          0,
          0,
          0,
          0,
          0,
          1,
          0,
          0,
          0,
          0,
          1,
          0,
          0,
          0,
          0,
          0,
          0,
          0,
          0,
          0,
          0,
          1,
          0,
          0,
          0,
          0,
          0,
          0,
          0,
          0,
          0,
          0,
          1,
          0,
          0,
          0,
          0,
          1,
          0,
          0,
          0,
          0,
          0,
          1,
          0,
          1,
          1,
          1,
          0,
          0,
          1,
          0,
          0,
          0,
          0,
          0,
          0,
          1,
          1,
          1,
          0,
          0,
          1,
          0,
          0,
          0,
          0,
          0,
          0,
          0,
          0,
          0,
          1,
          1,
          1,
          0,
          0,
          0,
          0,
          1,
          0,
          0,
          0,
          0,
          1,
          0,
          0,
          0,
          0,
          1,
          0,
          0,
          0,
          0,
          1,
          1,
          0,
          0,
          0,
          0,
          0,
          0,
          1,
          1,
          0,
          1,
          1,
          0,
          0,
          0,
          0,
          0,
          1,
          0,
          0,
          0,
          1,
          1,
          0,
          0,
          0,
          0,
          0,
          1,
          1,
          0,
          0,
          0,
          0,
          1,
          0,
          1,
          0,
          0,
          0,
          0,
          0,
          0,
          0,
          0,
          0,
          0,
          0,
          0,
          0,
          0,
          0,
          0,
          0,
          0,
          0,
          0,
          1,
          0,
          0,
          0,
          0,
          0,
          0,
          0,
          0,
          0,
          0,
          0,
          0,
          0,
          0,
          1,
          0,
          0,
          0,
          0,
          0,
          0,
          1,
          0,
          0,
          0,
          0,
          0,
          1,
          0,
          0,
          0,
          1,
          0,
          0,
          0,
          0,
          0,
          0,
          0,
          0,
          1,
          0,
          0,
          1,
          0,
          0,
          0,
          0,
          0,
          0,
          1,
          0,
          0,
          1,
          0,
          0,
          0,
          0,
          0,
          1,
          0,
          0,
          1,
          0,
          0,
          0,
          0,
          1,
          1,
          0,
          0,
          1,
          1,
          0,
          0,
          0,
          0,
          0,
          0,
          0,
          0,
          0,
          0,
          0,
          0,
          0,
          0,
          1,
          0,
          1,
          0,
          0,
          1,
          0,
          0,
          0,
          0,
          0,
          1,
          0,
          0,
          0,
          0,
          0,
          0,
          1,
          0,
          0,
          0,
          0,
          0,
          1,
          1,
          0,
          0,
          0,
          0,
          0,
          0,
          0,
          0,
          0,
          0,
          0,
          1,
          0,
          0,
          1,
          0,
          0,
          0,
          0,
          0,
          0,
          1,
          0,
          0,
          0,
          0,
          0,
          0,
          0,
          0,
          0,
          0,
          0,
          0,
          0,
          0,
          1,
          0,
          1,
          0,
          0,
          0,
          0,
          0,
          0,
          0,
          0,
          0,
          1,
          0,
          1,
          0,
          1,
          0,
          1,
          1,
          0,
          0,
          1,
          0,
          0,
          1,
          1,
          1,
          0,
          0,
          0,
          0,
          0,
          0,
          0,
          0,
          0,
          0,
          0,
          0,
          0,
          0,
          0,
          0,
          0,
          0,
          0,
          0,
          0,
          0,
          0,
          0,
          0,
          0,
          0,
          0,
          1,
          1,
          0,
          0,
          0,
          0,
          0,
          0,
          0,
          1,
          0,
          0,
          0,
          0,
          0,
          0,
          0,
          1,
          0,
          0,
          0,
          0,
          0,
          0,
          0,
          0,
          1,
          0,
          0,
          0,
          0,
          0,
          0,
          0,
          0,
          0,
          0,
          0,
          0,
          0,
          0,
          0,
          0,
          0,
          1,
          0,
          0,
          0,
          0,
          0,
          1,
          0,
          0,
          0,
          0,
          1,
          0,
          0,
          0,
          1,
          0,
          1,
          0,
          0,
          1,
          0,
          1,
          0,
          0,
          1,
          0,
          0,
          0,
          0,
          1,
          1,
          0,
          0,
          0,
          0,
          0,
          0,
          0,
          1,
          0,
          0,
          1,
          0,
          0,
          0,
          0,
          0,
          0,
          0,
          0,
          0,
          0,
          0,
          1,
          0,
          0,
          1,
          0,
          0,
          0,
          0,
          0,
          0,
          0,
          1,
          0,
          0,
          0,
          1,
          0,
          0,
          0,
          0,
          0,
          1,
          0,
          1,
          0,
          0,
          1,
          1,
          0,
          1,
          1,
          1,
          0,
          1,
          0,
          0,
          1,
          0,
          0,
          0,
          0,
          0,
          0,
          1,
          0,
          0,
          0,
          0,
          1,
          0,
          0,
          1,
          0,
          0,
          0,
          0,
          0,
          0,
          0,
          0,
          0,
          0,
          0,
          1,
          0,
          0,
          0,
          1,
          0,
          0,
          0,
          1,
          0,
          1,
          0,
          0,
          0,
          0,
          0,
          0,
          0,
          1,
          0,
          0,
          0,
          0,
          0,
          0,
          0,
          0,
          0,
          1,
          0,
          1,
          0,
          0,
          0,
          0,
          0,
          0,
          0,
          0,
          0,
          0,
          1,
          0,
          0,
          0,
          0,
          0,
          0,
          0,
          0,
          0,
          1,
          0,
          0,
          0,
          0,
          0,
          0,
          0,
          1,
          1,
          0,
          0,
          0,
          0,
          0,
          1,
          0,
          0,
          0,
          0,
          0,
          0,
          1,
          0,
          0,
          0,
          0,
          0,
          0,
          1,
          0,
          0,
          0,
          0,
          0,
          1,
          0,
          0,
          1,
          0,
          1,
          1,
          1,
          0,
          0,
          0,
          1,
          0,
          0,
          1,
          1,
          1,
          0,
          0,
          0,
          0,
          0,
          0,
          1,
          0,
          1,
          0,
          0,
          0,
          0,
          1,
          0,
          0,
          0,
          0,
          1,
          0,
          0,
          0,
          0,
          0,
          0,
          0,
          1,
          1,
          0,
          0,
          0,
          0,
          0,
          0,
          0,
          1,
          0,
          0,
          0,
          0,
          1,
          0,
          0,
          0,
          0,
          0,
          0,
          0,
          1,
          1,
          0,
          0,
          1,
          0,
          0,
          0,
          0,
          0,
          0,
          0,
          0,
          0,
          0,
          1,
          0,
          0,
          1,
          0,
          0,
          0,
          0,
          0,
          0,
          0,
          0,
          0,
          1,
          0,
          0,
          0,
          1,
          0,
          0,
          0,
          0,
          1,
          0,
          0,
          1,
          0,
          0,
          0,
          0,
          0,
          0,
          0,
          0,
          0,
          0,
          0,
          0,
          0,
          1,
          0,
          0,
          1,
          0,
          0,
          0,
          1,
          0,
          0,
          0,
          0,
          0,
          0,
          0,
          0,
          0,
          0,
          0,
          0,
          0,
          0,
          1,
          0,
          0,
          1,
          0,
          0,
          0,
          1,
          0,
          1,
          0,
          0,
          0,
          0,
          1,
          1,
          0,
          0,
          0,
          1,
          0,
          0,
          0,
          1,
          1,
          0,
          1,
          0,
          0,
          0,
          0,
          0,
          0,
          0,
          0,
          0,
          0,
          0,
          0,
          0,
          0,
          0,
          0,
          0,
          0,
          0,
          0,
          0,
          0,
          0,
          0,
          0,
          1,
          0,
          0,
          0,
          0,
          0,
          0,
          0,
          0,
          0,
          1,
          0,
          0,
          0,
          0,
          0,
          0,
          1,
          0,
          0,
          0,
          0,
          0,
          0,
          0,
          0,
          0,
          1,
          0,
          0,
          0,
          1,
          0,
          1,
          0,
          0,
          0,
          0,
          0,
          0,
          0,
          0,
          0,
          0,
          0,
          0,
          0,
          1,
          0,
          1,
          0,
          0,
          0,
          0,
          0,
          0,
          0,
          0,
          0,
          0,
          0,
          0,
          0,
          0,
          1,
          0,
          0,
          0,
          0,
          0,
          1,
          0,
          0,
          1,
          0,
          0,
          0,
          1,
          1,
          0,
          0,
          0,
          0,
          1,
          1,
          0,
          0,
          0,
          0,
          0
         ],
         "xaxis": "x",
         "yaxis": "y"
        }
       ],
       "layout": {
        "bargap": 0.2,
        "barmode": "relative",
        "legend": {
         "tracegroupgap": 0
        },
        "template": {
         "data": {
          "bar": [
           {
            "error_x": {
             "color": "#2a3f5f"
            },
            "error_y": {
             "color": "#2a3f5f"
            },
            "marker": {
             "line": {
              "color": "#E5ECF6",
              "width": 0.5
             },
             "pattern": {
              "fillmode": "overlay",
              "size": 10,
              "solidity": 0.2
             }
            },
            "type": "bar"
           }
          ],
          "barpolar": [
           {
            "marker": {
             "line": {
              "color": "#E5ECF6",
              "width": 0.5
             },
             "pattern": {
              "fillmode": "overlay",
              "size": 10,
              "solidity": 0.2
             }
            },
            "type": "barpolar"
           }
          ],
          "carpet": [
           {
            "aaxis": {
             "endlinecolor": "#2a3f5f",
             "gridcolor": "white",
             "linecolor": "white",
             "minorgridcolor": "white",
             "startlinecolor": "#2a3f5f"
            },
            "baxis": {
             "endlinecolor": "#2a3f5f",
             "gridcolor": "white",
             "linecolor": "white",
             "minorgridcolor": "white",
             "startlinecolor": "#2a3f5f"
            },
            "type": "carpet"
           }
          ],
          "choropleth": [
           {
            "colorbar": {
             "outlinewidth": 0,
             "ticks": ""
            },
            "type": "choropleth"
           }
          ],
          "contour": [
           {
            "colorbar": {
             "outlinewidth": 0,
             "ticks": ""
            },
            "colorscale": [
             [
              0,
              "#0d0887"
             ],
             [
              0.1111111111111111,
              "#46039f"
             ],
             [
              0.2222222222222222,
              "#7201a8"
             ],
             [
              0.3333333333333333,
              "#9c179e"
             ],
             [
              0.4444444444444444,
              "#bd3786"
             ],
             [
              0.5555555555555556,
              "#d8576b"
             ],
             [
              0.6666666666666666,
              "#ed7953"
             ],
             [
              0.7777777777777778,
              "#fb9f3a"
             ],
             [
              0.8888888888888888,
              "#fdca26"
             ],
             [
              1,
              "#f0f921"
             ]
            ],
            "type": "contour"
           }
          ],
          "contourcarpet": [
           {
            "colorbar": {
             "outlinewidth": 0,
             "ticks": ""
            },
            "type": "contourcarpet"
           }
          ],
          "heatmap": [
           {
            "colorbar": {
             "outlinewidth": 0,
             "ticks": ""
            },
            "colorscale": [
             [
              0,
              "#0d0887"
             ],
             [
              0.1111111111111111,
              "#46039f"
             ],
             [
              0.2222222222222222,
              "#7201a8"
             ],
             [
              0.3333333333333333,
              "#9c179e"
             ],
             [
              0.4444444444444444,
              "#bd3786"
             ],
             [
              0.5555555555555556,
              "#d8576b"
             ],
             [
              0.6666666666666666,
              "#ed7953"
             ],
             [
              0.7777777777777778,
              "#fb9f3a"
             ],
             [
              0.8888888888888888,
              "#fdca26"
             ],
             [
              1,
              "#f0f921"
             ]
            ],
            "type": "heatmap"
           }
          ],
          "heatmapgl": [
           {
            "colorbar": {
             "outlinewidth": 0,
             "ticks": ""
            },
            "colorscale": [
             [
              0,
              "#0d0887"
             ],
             [
              0.1111111111111111,
              "#46039f"
             ],
             [
              0.2222222222222222,
              "#7201a8"
             ],
             [
              0.3333333333333333,
              "#9c179e"
             ],
             [
              0.4444444444444444,
              "#bd3786"
             ],
             [
              0.5555555555555556,
              "#d8576b"
             ],
             [
              0.6666666666666666,
              "#ed7953"
             ],
             [
              0.7777777777777778,
              "#fb9f3a"
             ],
             [
              0.8888888888888888,
              "#fdca26"
             ],
             [
              1,
              "#f0f921"
             ]
            ],
            "type": "heatmapgl"
           }
          ],
          "histogram": [
           {
            "marker": {
             "pattern": {
              "fillmode": "overlay",
              "size": 10,
              "solidity": 0.2
             }
            },
            "type": "histogram"
           }
          ],
          "histogram2d": [
           {
            "colorbar": {
             "outlinewidth": 0,
             "ticks": ""
            },
            "colorscale": [
             [
              0,
              "#0d0887"
             ],
             [
              0.1111111111111111,
              "#46039f"
             ],
             [
              0.2222222222222222,
              "#7201a8"
             ],
             [
              0.3333333333333333,
              "#9c179e"
             ],
             [
              0.4444444444444444,
              "#bd3786"
             ],
             [
              0.5555555555555556,
              "#d8576b"
             ],
             [
              0.6666666666666666,
              "#ed7953"
             ],
             [
              0.7777777777777778,
              "#fb9f3a"
             ],
             [
              0.8888888888888888,
              "#fdca26"
             ],
             [
              1,
              "#f0f921"
             ]
            ],
            "type": "histogram2d"
           }
          ],
          "histogram2dcontour": [
           {
            "colorbar": {
             "outlinewidth": 0,
             "ticks": ""
            },
            "colorscale": [
             [
              0,
              "#0d0887"
             ],
             [
              0.1111111111111111,
              "#46039f"
             ],
             [
              0.2222222222222222,
              "#7201a8"
             ],
             [
              0.3333333333333333,
              "#9c179e"
             ],
             [
              0.4444444444444444,
              "#bd3786"
             ],
             [
              0.5555555555555556,
              "#d8576b"
             ],
             [
              0.6666666666666666,
              "#ed7953"
             ],
             [
              0.7777777777777778,
              "#fb9f3a"
             ],
             [
              0.8888888888888888,
              "#fdca26"
             ],
             [
              1,
              "#f0f921"
             ]
            ],
            "type": "histogram2dcontour"
           }
          ],
          "mesh3d": [
           {
            "colorbar": {
             "outlinewidth": 0,
             "ticks": ""
            },
            "type": "mesh3d"
           }
          ],
          "parcoords": [
           {
            "line": {
             "colorbar": {
              "outlinewidth": 0,
              "ticks": ""
             }
            },
            "type": "parcoords"
           }
          ],
          "pie": [
           {
            "automargin": true,
            "type": "pie"
           }
          ],
          "scatter": [
           {
            "marker": {
             "colorbar": {
              "outlinewidth": 0,
              "ticks": ""
             }
            },
            "type": "scatter"
           }
          ],
          "scatter3d": [
           {
            "line": {
             "colorbar": {
              "outlinewidth": 0,
              "ticks": ""
             }
            },
            "marker": {
             "colorbar": {
              "outlinewidth": 0,
              "ticks": ""
             }
            },
            "type": "scatter3d"
           }
          ],
          "scattercarpet": [
           {
            "marker": {
             "colorbar": {
              "outlinewidth": 0,
              "ticks": ""
             }
            },
            "type": "scattercarpet"
           }
          ],
          "scattergeo": [
           {
            "marker": {
             "colorbar": {
              "outlinewidth": 0,
              "ticks": ""
             }
            },
            "type": "scattergeo"
           }
          ],
          "scattergl": [
           {
            "marker": {
             "colorbar": {
              "outlinewidth": 0,
              "ticks": ""
             }
            },
            "type": "scattergl"
           }
          ],
          "scattermapbox": [
           {
            "marker": {
             "colorbar": {
              "outlinewidth": 0,
              "ticks": ""
             }
            },
            "type": "scattermapbox"
           }
          ],
          "scatterpolar": [
           {
            "marker": {
             "colorbar": {
              "outlinewidth": 0,
              "ticks": ""
             }
            },
            "type": "scatterpolar"
           }
          ],
          "scatterpolargl": [
           {
            "marker": {
             "colorbar": {
              "outlinewidth": 0,
              "ticks": ""
             }
            },
            "type": "scatterpolargl"
           }
          ],
          "scatterternary": [
           {
            "marker": {
             "colorbar": {
              "outlinewidth": 0,
              "ticks": ""
             }
            },
            "type": "scatterternary"
           }
          ],
          "surface": [
           {
            "colorbar": {
             "outlinewidth": 0,
             "ticks": ""
            },
            "colorscale": [
             [
              0,
              "#0d0887"
             ],
             [
              0.1111111111111111,
              "#46039f"
             ],
             [
              0.2222222222222222,
              "#7201a8"
             ],
             [
              0.3333333333333333,
              "#9c179e"
             ],
             [
              0.4444444444444444,
              "#bd3786"
             ],
             [
              0.5555555555555556,
              "#d8576b"
             ],
             [
              0.6666666666666666,
              "#ed7953"
             ],
             [
              0.7777777777777778,
              "#fb9f3a"
             ],
             [
              0.8888888888888888,
              "#fdca26"
             ],
             [
              1,
              "#f0f921"
             ]
            ],
            "type": "surface"
           }
          ],
          "table": [
           {
            "cells": {
             "fill": {
              "color": "#EBF0F8"
             },
             "line": {
              "color": "white"
             }
            },
            "header": {
             "fill": {
              "color": "#C8D4E3"
             },
             "line": {
              "color": "white"
             }
            },
            "type": "table"
           }
          ]
         },
         "layout": {
          "annotationdefaults": {
           "arrowcolor": "#2a3f5f",
           "arrowhead": 0,
           "arrowwidth": 1
          },
          "autotypenumbers": "strict",
          "coloraxis": {
           "colorbar": {
            "outlinewidth": 0,
            "ticks": ""
           }
          },
          "colorscale": {
           "diverging": [
            [
             0,
             "#8e0152"
            ],
            [
             0.1,
             "#c51b7d"
            ],
            [
             0.2,
             "#de77ae"
            ],
            [
             0.3,
             "#f1b6da"
            ],
            [
             0.4,
             "#fde0ef"
            ],
            [
             0.5,
             "#f7f7f7"
            ],
            [
             0.6,
             "#e6f5d0"
            ],
            [
             0.7,
             "#b8e186"
            ],
            [
             0.8,
             "#7fbc41"
            ],
            [
             0.9,
             "#4d9221"
            ],
            [
             1,
             "#276419"
            ]
           ],
           "sequential": [
            [
             0,
             "#0d0887"
            ],
            [
             0.1111111111111111,
             "#46039f"
            ],
            [
             0.2222222222222222,
             "#7201a8"
            ],
            [
             0.3333333333333333,
             "#9c179e"
            ],
            [
             0.4444444444444444,
             "#bd3786"
            ],
            [
             0.5555555555555556,
             "#d8576b"
            ],
            [
             0.6666666666666666,
             "#ed7953"
            ],
            [
             0.7777777777777778,
             "#fb9f3a"
            ],
            [
             0.8888888888888888,
             "#fdca26"
            ],
            [
             1,
             "#f0f921"
            ]
           ],
           "sequentialminus": [
            [
             0,
             "#0d0887"
            ],
            [
             0.1111111111111111,
             "#46039f"
            ],
            [
             0.2222222222222222,
             "#7201a8"
            ],
            [
             0.3333333333333333,
             "#9c179e"
            ],
            [
             0.4444444444444444,
             "#bd3786"
            ],
            [
             0.5555555555555556,
             "#d8576b"
            ],
            [
             0.6666666666666666,
             "#ed7953"
            ],
            [
             0.7777777777777778,
             "#fb9f3a"
            ],
            [
             0.8888888888888888,
             "#fdca26"
            ],
            [
             1,
             "#f0f921"
            ]
           ]
          },
          "colorway": [
           "#636efa",
           "#EF553B",
           "#00cc96",
           "#ab63fa",
           "#FFA15A",
           "#19d3f3",
           "#FF6692",
           "#B6E880",
           "#FF97FF",
           "#FECB52"
          ],
          "font": {
           "color": "#2a3f5f"
          },
          "geo": {
           "bgcolor": "white",
           "lakecolor": "white",
           "landcolor": "#E5ECF6",
           "showlakes": true,
           "showland": true,
           "subunitcolor": "white"
          },
          "hoverlabel": {
           "align": "left"
          },
          "hovermode": "closest",
          "mapbox": {
           "style": "light"
          },
          "paper_bgcolor": "white",
          "plot_bgcolor": "#E5ECF6",
          "polar": {
           "angularaxis": {
            "gridcolor": "white",
            "linecolor": "white",
            "ticks": ""
           },
           "bgcolor": "#E5ECF6",
           "radialaxis": {
            "gridcolor": "white",
            "linecolor": "white",
            "ticks": ""
           }
          },
          "scene": {
           "xaxis": {
            "backgroundcolor": "#E5ECF6",
            "gridcolor": "white",
            "gridwidth": 2,
            "linecolor": "white",
            "showbackground": true,
            "ticks": "",
            "zerolinecolor": "white"
           },
           "yaxis": {
            "backgroundcolor": "#E5ECF6",
            "gridcolor": "white",
            "gridwidth": 2,
            "linecolor": "white",
            "showbackground": true,
            "ticks": "",
            "zerolinecolor": "white"
           },
           "zaxis": {
            "backgroundcolor": "#E5ECF6",
            "gridcolor": "white",
            "gridwidth": 2,
            "linecolor": "white",
            "showbackground": true,
            "ticks": "",
            "zerolinecolor": "white"
           }
          },
          "shapedefaults": {
           "line": {
            "color": "#2a3f5f"
           }
          },
          "ternary": {
           "aaxis": {
            "gridcolor": "white",
            "linecolor": "white",
            "ticks": ""
           },
           "baxis": {
            "gridcolor": "white",
            "linecolor": "white",
            "ticks": ""
           },
           "bgcolor": "#E5ECF6",
           "caxis": {
            "gridcolor": "white",
            "linecolor": "white",
            "ticks": ""
           }
          },
          "title": {
           "x": 0.05
          },
          "xaxis": {
           "automargin": true,
           "gridcolor": "white",
           "linecolor": "white",
           "ticks": "",
           "title": {
            "standoff": 15
           },
           "zerolinecolor": "white",
           "zerolinewidth": 2
          },
          "yaxis": {
           "automargin": true,
           "gridcolor": "white",
           "linecolor": "white",
           "ticks": "",
           "title": {
            "standoff": 15
           },
           "zerolinecolor": "white",
           "zerolinewidth": 2
          }
         }
        },
        "title": {
         "text": "Predicted Label for COVID Tweets"
        },
        "xaxis": {
         "anchor": "y",
         "domain": [
          0,
          1
         ],
         "title": {
          "text": "label"
         }
        },
        "yaxis": {
         "anchor": "x",
         "domain": [
          0,
          1
         ],
         "title": {
          "text": "count"
         }
        }
       }
      },
      "text/html": [
       "<div>                            <div id=\"b9673e9c-9586-4317-87db-a5f082d3ac0c\" class=\"plotly-graph-div\" style=\"height:525px; width:100%;\"></div>            <script type=\"text/javascript\">                require([\"plotly\"], function(Plotly) {                    window.PLOTLYENV=window.PLOTLYENV || {};                                    if (document.getElementById(\"b9673e9c-9586-4317-87db-a5f082d3ac0c\")) {                    Plotly.newPlot(                        \"b9673e9c-9586-4317-87db-a5f082d3ac0c\",                        [{\"alignmentgroup\":\"True\",\"bingroup\":\"x\",\"hovertemplate\":\"label=%{x}<br>count=%{y}<extra></extra>\",\"legendgroup\":\"\",\"marker\":{\"color\":\"#636efa\",\"pattern\":{\"shape\":\"\"}},\"name\":\"\",\"offsetgroup\":\"\",\"orientation\":\"v\",\"showlegend\":false,\"type\":\"histogram\",\"x\":[0,0,0,0,0,1,0,0,0,0,0,0,0,1,0,0,0,0,0,0,0,0,0,0,0,0,0,1,0,0,0,1,0,0,0,0,0,0,0,0,0,0,0,0,0,0,0,0,0,1,1,0,0,0,0,0,1,0,1,0,0,0,1,0,1,1,0,1,0,0,0,0,0,0,0,1,0,0,0,0,1,0,0,0,0,0,1,1,0,0,0,1,1,0,0,0,0,0,0,0,0,0,0,0,0,0,0,0,0,0,0,0,1,0,0,0,0,0,1,0,0,0,0,0,0,0,0,0,0,0,0,0,0,1,0,0,0,0,0,0,0,0,0,0,0,1,0,0,1,0,0,0,0,0,0,0,0,0,1,0,1,0,0,0,0,0,0,0,0,0,0,0,0,0,0,0,1,0,1,0,0,0,0,0,0,0,0,0,0,0,0,0,0,0,0,0,0,0,0,0,0,0,1,0,0,0,0,0,0,0,0,1,0,0,0,0,0,0,0,0,0,0,0,0,0,0,0,1,0,0,0,0,1,0,0,0,1,1,0,0,0,0,0,1,1,0,0,0,0,0,0,0,0,0,1,0,0,0,0,0,1,0,0,0,0,0,0,0,0,1,1,1,1,0,0,1,0,0,1,0,0,1,1,0,1,0,0,0,0,1,0,0,1,0,0,0,0,0,0,0,1,0,0,0,0,0,0,0,0,0,0,0,1,0,0,0,0,0,0,0,1,0,0,0,0,1,0,0,0,0,0,0,0,0,0,0,1,0,1,0,0,1,0,0,0,0,1,0,0,0,1,1,0,0,0,0,1,0,0,0,0,1,0,0,0,0,0,0,0,0,0,0,0,0,0,1,1,0,0,1,0,0,0,0,0,1,0,0,0,0,0,0,0,0,0,0,0,0,0,0,0,1,0,0,0,0,0,1,0,0,0,0,0,0,0,0,0,1,1,0,0,0,0,0,0,0,0,0,1,1,0,1,1,0,0,1,0,0,0,0,0,0,1,0,1,0,0,0,0,0,0,0,1,1,1,1,1,0,0,0,0,0,0,0,0,0,0,0,0,0,1,0,0,0,0,0,0,0,0,1,0,0,0,0,0,0,1,0,0,1,0,0,1,0,0,0,0,0,0,0,0,0,0,0,1,0,0,0,0,0,0,0,0,0,0,0,0,0,0,0,0,0,0,0,0,0,0,0,0,0,0,1,0,0,0,0,0,0,0,0,0,0,1,0,0,0,0,0,0,0,0,0,0,0,0,0,0,0,0,1,0,0,1,0,0,0,0,0,0,0,0,0,0,0,0,0,0,0,0,1,0,0,0,0,0,0,1,1,0,0,0,0,0,0,0,0,0,0,0,0,0,0,0,0,0,0,1,1,0,0,0,0,0,0,0,0,0,0,0,0,0,1,0,1,1,0,0,1,0,1,0,0,0,0,0,0,0,0,0,0,0,0,0,1,1,1,0,0,0,0,0,0,0,0,1,0,0,0,0,0,0,1,0,0,0,1,0,0,1,1,0,0,0,0,0,0,0,0,1,0,0,0,1,0,0,0,0,0,0,0,0,0,0,1,1,1,0,0,0,0,0,0,1,0,0,0,0,0,0,0,0,0,0,0,0,0,0,0,0,0,0,0,0,0,0,0,0,1,0,0,0,0,1,0,0,0,1,0,0,1,0,0,0,0,0,0,0,0,0,0,1,0,1,0,0,0,0,0,0,0,0,1,0,0,0,0,0,0,0,0,0,0,1,0,0,0,0,0,0,0,0,0,0,0,0,0,0,0,0,0,0,0,0,0,0,1,0,0,1,0,1,0,1,0,1,0,0,1,1,0,0,0,0,0,0,0,0,0,0,0,0,0,0,0,0,0,0,0,1,0,0,0,0,0,0,0,0,0,0,0,1,0,1,1,0,0,1,0,0,0,1,1,0,0,1,0,1,0,0,0,1,0,0,0,0,0,0,0,0,1,0,0,0,1,0,0,0,0,0,0,0,0,0,0,0,0,0,0,0,0,0,0,0,0,1,0,0,0,0,0,0,0,0,1,1,0,0,0,0,0,1,0,0,0,1,1,0,0,0,0,0,1,0,0,1,0,0,1,0,0,0,0,0,0,0,0,0,0,0,1,0,0,0,0,0,0,0,0,0,0,0,0,0,0,0,0,1,0,0,0,0,0,0,0,0,0,0,0,0,0,0,0,0,0,0,0,0,0,0,0,1,0,1,0,1,0,0,0,0,0,0,0,0,0,1,0,0,0,0,0,1,0,1,0,0,0,0,1,0,0,0,0,1,0,0,0,0,0,0,0,0,0,0,0,0,0,0,0,0,0,0,0,1,0,0,0,0,1,1,0,0,0,0,0,0,0,1,0,0,0,0,0,0,0,0,0,0,0,0,1,0,0,0,0,0,0,0,1,0,0,0,0,1,0,0,0,0,0,0,0,0,0,0,1,0,0,0,0,0,0,0,0,0,0,1,0,0,0,0,1,0,0,0,0,0,1,0,1,1,1,0,0,1,0,0,0,0,0,0,1,1,1,0,0,1,0,0,0,0,0,0,0,0,0,1,1,1,0,0,0,0,1,0,0,0,0,1,0,0,0,0,1,0,0,0,0,1,1,0,0,0,0,0,0,1,1,0,1,1,0,0,0,0,0,1,0,0,0,1,1,0,0,0,0,0,1,1,0,0,0,0,1,0,1,0,0,0,0,0,0,0,0,0,0,0,0,0,0,0,0,0,0,0,0,1,0,0,0,0,0,0,0,0,0,0,0,0,0,0,1,0,0,0,0,0,0,1,0,0,0,0,0,1,0,0,0,1,0,0,0,0,0,0,0,0,1,0,0,1,0,0,0,0,0,0,1,0,0,1,0,0,0,0,0,1,0,0,1,0,0,0,0,1,1,0,0,1,1,0,0,0,0,0,0,0,0,0,0,0,0,0,0,1,0,1,0,0,1,0,0,0,0,0,1,0,0,0,0,0,0,1,0,0,0,0,0,1,1,0,0,0,0,0,0,0,0,0,0,0,1,0,0,1,0,0,0,0,0,0,1,0,0,0,0,0,0,0,0,0,0,0,0,0,0,1,0,1,0,0,0,0,0,0,0,0,0,1,0,1,0,1,0,1,1,0,0,1,0,0,1,1,1,0,0,0,0,0,0,0,0,0,0,0,0,0,0,0,0,0,0,0,0,0,0,0,0,0,0,0,0,1,1,0,0,0,0,0,0,0,1,0,0,0,0,0,0,0,1,0,0,0,0,0,0,0,0,1,0,0,0,0,0,0,0,0,0,0,0,0,0,0,0,0,0,1,0,0,0,0,0,1,0,0,0,0,1,0,0,0,1,0,1,0,0,1,0,1,0,0,1,0,0,0,0,1,1,0,0,0,0,0,0,0,1,0,0,1,0,0,0,0,0,0,0,0,0,0,0,1,0,0,1,0,0,0,0,0,0,0,1,0,0,0,1,0,0,0,0,0,1,0,1,0,0,1,1,0,1,1,1,0,1,0,0,1,0,0,0,0,0,0,1,0,0,0,0,1,0,0,1,0,0,0,0,0,0,0,0,0,0,0,1,0,0,0,1,0,0,0,1,0,1,0,0,0,0,0,0,0,1,0,0,0,0,0,0,0,0,0,1,0,1,0,0,0,0,0,0,0,0,0,0,1,0,0,0,0,0,0,0,0,0,1,0,0,0,0,0,0,0,1,1,0,0,0,0,0,1,0,0,0,0,0,0,1,0,0,0,0,0,0,1,0,0,0,0,0,1,0,0,1,0,1,1,1,0,0,0,1,0,0,1,1,1,0,0,0,0,0,0,1,0,1,0,0,0,0,1,0,0,0,0,1,0,0,0,0,0,0,0,1,1,0,0,0,0,0,0,0,1,0,0,0,0,1,0,0,0,0,0,0,0,1,1,0,0,1,0,0,0,0,0,0,0,0,0,0,1,0,0,1,0,0,0,0,0,0,0,0,0,1,0,0,0,1,0,0,0,0,1,0,0,1,0,0,0,0,0,0,0,0,0,0,0,0,0,1,0,0,1,0,0,0,1,0,0,0,0,0,0,0,0,0,0,0,0,0,0,1,0,0,1,0,0,0,1,0,1,0,0,0,0,1,1,0,0,0,1,0,0,0,1,1,0,1,0,0,0,0,0,0,0,0,0,0,0,0,0,0,0,0,0,0,0,0,0,0,0,0,0,1,0,0,0,0,0,0,0,0,0,1,0,0,0,0,0,0,1,0,0,0,0,0,0,0,0,0,1,0,0,0,1,0,1,0,0,0,0,0,0,0,0,0,0,0,0,0,1,0,1,0,0,0,0,0,0,0,0,0,0,0,0,0,0,1,0,0,0,0,0,1,0,0,1,0,0,0,1,1,0,0,0,0,1,1,0,0,0,0,0],\"xaxis\":\"x\",\"yaxis\":\"y\"}],                        {\"bargap\":0.2,\"barmode\":\"relative\",\"legend\":{\"tracegroupgap\":0},\"template\":{\"data\":{\"bar\":[{\"error_x\":{\"color\":\"#2a3f5f\"},\"error_y\":{\"color\":\"#2a3f5f\"},\"marker\":{\"line\":{\"color\":\"#E5ECF6\",\"width\":0.5},\"pattern\":{\"fillmode\":\"overlay\",\"size\":10,\"solidity\":0.2}},\"type\":\"bar\"}],\"barpolar\":[{\"marker\":{\"line\":{\"color\":\"#E5ECF6\",\"width\":0.5},\"pattern\":{\"fillmode\":\"overlay\",\"size\":10,\"solidity\":0.2}},\"type\":\"barpolar\"}],\"carpet\":[{\"aaxis\":{\"endlinecolor\":\"#2a3f5f\",\"gridcolor\":\"white\",\"linecolor\":\"white\",\"minorgridcolor\":\"white\",\"startlinecolor\":\"#2a3f5f\"},\"baxis\":{\"endlinecolor\":\"#2a3f5f\",\"gridcolor\":\"white\",\"linecolor\":\"white\",\"minorgridcolor\":\"white\",\"startlinecolor\":\"#2a3f5f\"},\"type\":\"carpet\"}],\"choropleth\":[{\"colorbar\":{\"outlinewidth\":0,\"ticks\":\"\"},\"type\":\"choropleth\"}],\"contour\":[{\"colorbar\":{\"outlinewidth\":0,\"ticks\":\"\"},\"colorscale\":[[0.0,\"#0d0887\"],[0.1111111111111111,\"#46039f\"],[0.2222222222222222,\"#7201a8\"],[0.3333333333333333,\"#9c179e\"],[0.4444444444444444,\"#bd3786\"],[0.5555555555555556,\"#d8576b\"],[0.6666666666666666,\"#ed7953\"],[0.7777777777777778,\"#fb9f3a\"],[0.8888888888888888,\"#fdca26\"],[1.0,\"#f0f921\"]],\"type\":\"contour\"}],\"contourcarpet\":[{\"colorbar\":{\"outlinewidth\":0,\"ticks\":\"\"},\"type\":\"contourcarpet\"}],\"heatmap\":[{\"colorbar\":{\"outlinewidth\":0,\"ticks\":\"\"},\"colorscale\":[[0.0,\"#0d0887\"],[0.1111111111111111,\"#46039f\"],[0.2222222222222222,\"#7201a8\"],[0.3333333333333333,\"#9c179e\"],[0.4444444444444444,\"#bd3786\"],[0.5555555555555556,\"#d8576b\"],[0.6666666666666666,\"#ed7953\"],[0.7777777777777778,\"#fb9f3a\"],[0.8888888888888888,\"#fdca26\"],[1.0,\"#f0f921\"]],\"type\":\"heatmap\"}],\"heatmapgl\":[{\"colorbar\":{\"outlinewidth\":0,\"ticks\":\"\"},\"colorscale\":[[0.0,\"#0d0887\"],[0.1111111111111111,\"#46039f\"],[0.2222222222222222,\"#7201a8\"],[0.3333333333333333,\"#9c179e\"],[0.4444444444444444,\"#bd3786\"],[0.5555555555555556,\"#d8576b\"],[0.6666666666666666,\"#ed7953\"],[0.7777777777777778,\"#fb9f3a\"],[0.8888888888888888,\"#fdca26\"],[1.0,\"#f0f921\"]],\"type\":\"heatmapgl\"}],\"histogram\":[{\"marker\":{\"pattern\":{\"fillmode\":\"overlay\",\"size\":10,\"solidity\":0.2}},\"type\":\"histogram\"}],\"histogram2d\":[{\"colorbar\":{\"outlinewidth\":0,\"ticks\":\"\"},\"colorscale\":[[0.0,\"#0d0887\"],[0.1111111111111111,\"#46039f\"],[0.2222222222222222,\"#7201a8\"],[0.3333333333333333,\"#9c179e\"],[0.4444444444444444,\"#bd3786\"],[0.5555555555555556,\"#d8576b\"],[0.6666666666666666,\"#ed7953\"],[0.7777777777777778,\"#fb9f3a\"],[0.8888888888888888,\"#fdca26\"],[1.0,\"#f0f921\"]],\"type\":\"histogram2d\"}],\"histogram2dcontour\":[{\"colorbar\":{\"outlinewidth\":0,\"ticks\":\"\"},\"colorscale\":[[0.0,\"#0d0887\"],[0.1111111111111111,\"#46039f\"],[0.2222222222222222,\"#7201a8\"],[0.3333333333333333,\"#9c179e\"],[0.4444444444444444,\"#bd3786\"],[0.5555555555555556,\"#d8576b\"],[0.6666666666666666,\"#ed7953\"],[0.7777777777777778,\"#fb9f3a\"],[0.8888888888888888,\"#fdca26\"],[1.0,\"#f0f921\"]],\"type\":\"histogram2dcontour\"}],\"mesh3d\":[{\"colorbar\":{\"outlinewidth\":0,\"ticks\":\"\"},\"type\":\"mesh3d\"}],\"parcoords\":[{\"line\":{\"colorbar\":{\"outlinewidth\":0,\"ticks\":\"\"}},\"type\":\"parcoords\"}],\"pie\":[{\"automargin\":true,\"type\":\"pie\"}],\"scatter\":[{\"marker\":{\"colorbar\":{\"outlinewidth\":0,\"ticks\":\"\"}},\"type\":\"scatter\"}],\"scatter3d\":[{\"line\":{\"colorbar\":{\"outlinewidth\":0,\"ticks\":\"\"}},\"marker\":{\"colorbar\":{\"outlinewidth\":0,\"ticks\":\"\"}},\"type\":\"scatter3d\"}],\"scattercarpet\":[{\"marker\":{\"colorbar\":{\"outlinewidth\":0,\"ticks\":\"\"}},\"type\":\"scattercarpet\"}],\"scattergeo\":[{\"marker\":{\"colorbar\":{\"outlinewidth\":0,\"ticks\":\"\"}},\"type\":\"scattergeo\"}],\"scattergl\":[{\"marker\":{\"colorbar\":{\"outlinewidth\":0,\"ticks\":\"\"}},\"type\":\"scattergl\"}],\"scattermapbox\":[{\"marker\":{\"colorbar\":{\"outlinewidth\":0,\"ticks\":\"\"}},\"type\":\"scattermapbox\"}],\"scatterpolar\":[{\"marker\":{\"colorbar\":{\"outlinewidth\":0,\"ticks\":\"\"}},\"type\":\"scatterpolar\"}],\"scatterpolargl\":[{\"marker\":{\"colorbar\":{\"outlinewidth\":0,\"ticks\":\"\"}},\"type\":\"scatterpolargl\"}],\"scatterternary\":[{\"marker\":{\"colorbar\":{\"outlinewidth\":0,\"ticks\":\"\"}},\"type\":\"scatterternary\"}],\"surface\":[{\"colorbar\":{\"outlinewidth\":0,\"ticks\":\"\"},\"colorscale\":[[0.0,\"#0d0887\"],[0.1111111111111111,\"#46039f\"],[0.2222222222222222,\"#7201a8\"],[0.3333333333333333,\"#9c179e\"],[0.4444444444444444,\"#bd3786\"],[0.5555555555555556,\"#d8576b\"],[0.6666666666666666,\"#ed7953\"],[0.7777777777777778,\"#fb9f3a\"],[0.8888888888888888,\"#fdca26\"],[1.0,\"#f0f921\"]],\"type\":\"surface\"}],\"table\":[{\"cells\":{\"fill\":{\"color\":\"#EBF0F8\"},\"line\":{\"color\":\"white\"}},\"header\":{\"fill\":{\"color\":\"#C8D4E3\"},\"line\":{\"color\":\"white\"}},\"type\":\"table\"}]},\"layout\":{\"annotationdefaults\":{\"arrowcolor\":\"#2a3f5f\",\"arrowhead\":0,\"arrowwidth\":1},\"autotypenumbers\":\"strict\",\"coloraxis\":{\"colorbar\":{\"outlinewidth\":0,\"ticks\":\"\"}},\"colorscale\":{\"diverging\":[[0,\"#8e0152\"],[0.1,\"#c51b7d\"],[0.2,\"#de77ae\"],[0.3,\"#f1b6da\"],[0.4,\"#fde0ef\"],[0.5,\"#f7f7f7\"],[0.6,\"#e6f5d0\"],[0.7,\"#b8e186\"],[0.8,\"#7fbc41\"],[0.9,\"#4d9221\"],[1,\"#276419\"]],\"sequential\":[[0.0,\"#0d0887\"],[0.1111111111111111,\"#46039f\"],[0.2222222222222222,\"#7201a8\"],[0.3333333333333333,\"#9c179e\"],[0.4444444444444444,\"#bd3786\"],[0.5555555555555556,\"#d8576b\"],[0.6666666666666666,\"#ed7953\"],[0.7777777777777778,\"#fb9f3a\"],[0.8888888888888888,\"#fdca26\"],[1.0,\"#f0f921\"]],\"sequentialminus\":[[0.0,\"#0d0887\"],[0.1111111111111111,\"#46039f\"],[0.2222222222222222,\"#7201a8\"],[0.3333333333333333,\"#9c179e\"],[0.4444444444444444,\"#bd3786\"],[0.5555555555555556,\"#d8576b\"],[0.6666666666666666,\"#ed7953\"],[0.7777777777777778,\"#fb9f3a\"],[0.8888888888888888,\"#fdca26\"],[1.0,\"#f0f921\"]]},\"colorway\":[\"#636efa\",\"#EF553B\",\"#00cc96\",\"#ab63fa\",\"#FFA15A\",\"#19d3f3\",\"#FF6692\",\"#B6E880\",\"#FF97FF\",\"#FECB52\"],\"font\":{\"color\":\"#2a3f5f\"},\"geo\":{\"bgcolor\":\"white\",\"lakecolor\":\"white\",\"landcolor\":\"#E5ECF6\",\"showlakes\":true,\"showland\":true,\"subunitcolor\":\"white\"},\"hoverlabel\":{\"align\":\"left\"},\"hovermode\":\"closest\",\"mapbox\":{\"style\":\"light\"},\"paper_bgcolor\":\"white\",\"plot_bgcolor\":\"#E5ECF6\",\"polar\":{\"angularaxis\":{\"gridcolor\":\"white\",\"linecolor\":\"white\",\"ticks\":\"\"},\"bgcolor\":\"#E5ECF6\",\"radialaxis\":{\"gridcolor\":\"white\",\"linecolor\":\"white\",\"ticks\":\"\"}},\"scene\":{\"xaxis\":{\"backgroundcolor\":\"#E5ECF6\",\"gridcolor\":\"white\",\"gridwidth\":2,\"linecolor\":\"white\",\"showbackground\":true,\"ticks\":\"\",\"zerolinecolor\":\"white\"},\"yaxis\":{\"backgroundcolor\":\"#E5ECF6\",\"gridcolor\":\"white\",\"gridwidth\":2,\"linecolor\":\"white\",\"showbackground\":true,\"ticks\":\"\",\"zerolinecolor\":\"white\"},\"zaxis\":{\"backgroundcolor\":\"#E5ECF6\",\"gridcolor\":\"white\",\"gridwidth\":2,\"linecolor\":\"white\",\"showbackground\":true,\"ticks\":\"\",\"zerolinecolor\":\"white\"}},\"shapedefaults\":{\"line\":{\"color\":\"#2a3f5f\"}},\"ternary\":{\"aaxis\":{\"gridcolor\":\"white\",\"linecolor\":\"white\",\"ticks\":\"\"},\"baxis\":{\"gridcolor\":\"white\",\"linecolor\":\"white\",\"ticks\":\"\"},\"bgcolor\":\"#E5ECF6\",\"caxis\":{\"gridcolor\":\"white\",\"linecolor\":\"white\",\"ticks\":\"\"}},\"title\":{\"x\":0.05},\"xaxis\":{\"automargin\":true,\"gridcolor\":\"white\",\"linecolor\":\"white\",\"ticks\":\"\",\"title\":{\"standoff\":15},\"zerolinecolor\":\"white\",\"zerolinewidth\":2},\"yaxis\":{\"automargin\":true,\"gridcolor\":\"white\",\"linecolor\":\"white\",\"ticks\":\"\",\"title\":{\"standoff\":15},\"zerolinecolor\":\"white\",\"zerolinewidth\":2}}},\"title\":{\"text\":\"Predicted Label for COVID Tweets\"},\"xaxis\":{\"anchor\":\"y\",\"domain\":[0.0,1.0],\"title\":{\"text\":\"label\"}},\"yaxis\":{\"anchor\":\"x\",\"domain\":[0.0,1.0],\"title\":{\"text\":\"count\"}}},                        {\"responsive\": true}                    ).then(function(){\n",
       "                            \n",
       "var gd = document.getElementById('b9673e9c-9586-4317-87db-a5f082d3ac0c');\n",
       "var x = new MutationObserver(function (mutations, observer) {{\n",
       "        var display = window.getComputedStyle(gd).display;\n",
       "        if (!display || display === 'none') {{\n",
       "            console.log([gd, 'removed!']);\n",
       "            Plotly.purge(gd);\n",
       "            observer.disconnect();\n",
       "        }}\n",
       "}});\n",
       "\n",
       "// Listen for the removal of the full notebook cells\n",
       "var notebookContainer = gd.closest('#notebook-container');\n",
       "if (notebookContainer) {{\n",
       "    x.observe(notebookContainer, {childList: true});\n",
       "}}\n",
       "\n",
       "// Listen for the clearing of the current output cell\n",
       "var outputEl = gd.closest('.output');\n",
       "if (outputEl) {{\n",
       "    x.observe(outputEl, {childList: true});\n",
       "}}\n",
       "\n",
       "                        })                };                });            </script>        </div>"
      ]
     },
     "metadata": {},
     "output_type": "display_data"
    }
   ],
   "source": [
    "labeled_covid_fig = px.histogram(\n",
    "    labeled_covid_df, x='label',\n",
    "    title='Predicted Label for COVID Tweets'\n",
    ")\n",
    "labeled_covid_fig.update_layout(bargap=0.2)\n",
    "offline.iplot(labeled_covid_fig)"
   ]
  },
  {
   "cell_type": "code",
   "execution_count": 17,
   "metadata": {},
   "outputs": [
    {
     "data": {
      "application/vnd.plotly.v1+json": {
       "config": {
        "linkText": "Export to plot.ly",
        "plotlyServerURL": "https://plot.ly",
        "showLink": false
       },
       "data": [
        {
         "domain": {
          "x": [
           0,
           0.45
          ],
          "y": [
           0,
           1
          ]
         },
         "labels": [
          "Negative",
          "Positive"
         ],
         "name": "Label 0",
         "type": "pie",
         "values": [
          1090,
          525
         ]
        },
        {
         "domain": {
          "x": [
           0.55,
           1
          ],
          "y": [
           0,
           1
          ]
         },
         "labels": [
          "Negative",
          "Positive"
         ],
         "name": "Label 1",
         "type": "pie",
         "values": [
          246,
          89
         ]
        }
       ],
       "layout": {
        "annotations": [
         {
          "font": {
           "size": 16
          },
          "showarrow": false,
          "text": "Prediction: 0",
          "x": 0.225,
          "xanchor": "center",
          "xref": "paper",
          "y": 1,
          "yanchor": "bottom",
          "yref": "paper"
         },
         {
          "font": {
           "size": 16
          },
          "showarrow": false,
          "text": "Prediction: 1",
          "x": 0.775,
          "xanchor": "center",
          "xref": "paper",
          "y": 1,
          "yanchor": "bottom",
          "yref": "paper"
         }
        ],
        "template": {
         "data": {
          "bar": [
           {
            "error_x": {
             "color": "#2a3f5f"
            },
            "error_y": {
             "color": "#2a3f5f"
            },
            "marker": {
             "line": {
              "color": "#E5ECF6",
              "width": 0.5
             },
             "pattern": {
              "fillmode": "overlay",
              "size": 10,
              "solidity": 0.2
             }
            },
            "type": "bar"
           }
          ],
          "barpolar": [
           {
            "marker": {
             "line": {
              "color": "#E5ECF6",
              "width": 0.5
             },
             "pattern": {
              "fillmode": "overlay",
              "size": 10,
              "solidity": 0.2
             }
            },
            "type": "barpolar"
           }
          ],
          "carpet": [
           {
            "aaxis": {
             "endlinecolor": "#2a3f5f",
             "gridcolor": "white",
             "linecolor": "white",
             "minorgridcolor": "white",
             "startlinecolor": "#2a3f5f"
            },
            "baxis": {
             "endlinecolor": "#2a3f5f",
             "gridcolor": "white",
             "linecolor": "white",
             "minorgridcolor": "white",
             "startlinecolor": "#2a3f5f"
            },
            "type": "carpet"
           }
          ],
          "choropleth": [
           {
            "colorbar": {
             "outlinewidth": 0,
             "ticks": ""
            },
            "type": "choropleth"
           }
          ],
          "contour": [
           {
            "colorbar": {
             "outlinewidth": 0,
             "ticks": ""
            },
            "colorscale": [
             [
              0,
              "#0d0887"
             ],
             [
              0.1111111111111111,
              "#46039f"
             ],
             [
              0.2222222222222222,
              "#7201a8"
             ],
             [
              0.3333333333333333,
              "#9c179e"
             ],
             [
              0.4444444444444444,
              "#bd3786"
             ],
             [
              0.5555555555555556,
              "#d8576b"
             ],
             [
              0.6666666666666666,
              "#ed7953"
             ],
             [
              0.7777777777777778,
              "#fb9f3a"
             ],
             [
              0.8888888888888888,
              "#fdca26"
             ],
             [
              1,
              "#f0f921"
             ]
            ],
            "type": "contour"
           }
          ],
          "contourcarpet": [
           {
            "colorbar": {
             "outlinewidth": 0,
             "ticks": ""
            },
            "type": "contourcarpet"
           }
          ],
          "heatmap": [
           {
            "colorbar": {
             "outlinewidth": 0,
             "ticks": ""
            },
            "colorscale": [
             [
              0,
              "#0d0887"
             ],
             [
              0.1111111111111111,
              "#46039f"
             ],
             [
              0.2222222222222222,
              "#7201a8"
             ],
             [
              0.3333333333333333,
              "#9c179e"
             ],
             [
              0.4444444444444444,
              "#bd3786"
             ],
             [
              0.5555555555555556,
              "#d8576b"
             ],
             [
              0.6666666666666666,
              "#ed7953"
             ],
             [
              0.7777777777777778,
              "#fb9f3a"
             ],
             [
              0.8888888888888888,
              "#fdca26"
             ],
             [
              1,
              "#f0f921"
             ]
            ],
            "type": "heatmap"
           }
          ],
          "heatmapgl": [
           {
            "colorbar": {
             "outlinewidth": 0,
             "ticks": ""
            },
            "colorscale": [
             [
              0,
              "#0d0887"
             ],
             [
              0.1111111111111111,
              "#46039f"
             ],
             [
              0.2222222222222222,
              "#7201a8"
             ],
             [
              0.3333333333333333,
              "#9c179e"
             ],
             [
              0.4444444444444444,
              "#bd3786"
             ],
             [
              0.5555555555555556,
              "#d8576b"
             ],
             [
              0.6666666666666666,
              "#ed7953"
             ],
             [
              0.7777777777777778,
              "#fb9f3a"
             ],
             [
              0.8888888888888888,
              "#fdca26"
             ],
             [
              1,
              "#f0f921"
             ]
            ],
            "type": "heatmapgl"
           }
          ],
          "histogram": [
           {
            "marker": {
             "pattern": {
              "fillmode": "overlay",
              "size": 10,
              "solidity": 0.2
             }
            },
            "type": "histogram"
           }
          ],
          "histogram2d": [
           {
            "colorbar": {
             "outlinewidth": 0,
             "ticks": ""
            },
            "colorscale": [
             [
              0,
              "#0d0887"
             ],
             [
              0.1111111111111111,
              "#46039f"
             ],
             [
              0.2222222222222222,
              "#7201a8"
             ],
             [
              0.3333333333333333,
              "#9c179e"
             ],
             [
              0.4444444444444444,
              "#bd3786"
             ],
             [
              0.5555555555555556,
              "#d8576b"
             ],
             [
              0.6666666666666666,
              "#ed7953"
             ],
             [
              0.7777777777777778,
              "#fb9f3a"
             ],
             [
              0.8888888888888888,
              "#fdca26"
             ],
             [
              1,
              "#f0f921"
             ]
            ],
            "type": "histogram2d"
           }
          ],
          "histogram2dcontour": [
           {
            "colorbar": {
             "outlinewidth": 0,
             "ticks": ""
            },
            "colorscale": [
             [
              0,
              "#0d0887"
             ],
             [
              0.1111111111111111,
              "#46039f"
             ],
             [
              0.2222222222222222,
              "#7201a8"
             ],
             [
              0.3333333333333333,
              "#9c179e"
             ],
             [
              0.4444444444444444,
              "#bd3786"
             ],
             [
              0.5555555555555556,
              "#d8576b"
             ],
             [
              0.6666666666666666,
              "#ed7953"
             ],
             [
              0.7777777777777778,
              "#fb9f3a"
             ],
             [
              0.8888888888888888,
              "#fdca26"
             ],
             [
              1,
              "#f0f921"
             ]
            ],
            "type": "histogram2dcontour"
           }
          ],
          "mesh3d": [
           {
            "colorbar": {
             "outlinewidth": 0,
             "ticks": ""
            },
            "type": "mesh3d"
           }
          ],
          "parcoords": [
           {
            "line": {
             "colorbar": {
              "outlinewidth": 0,
              "ticks": ""
             }
            },
            "type": "parcoords"
           }
          ],
          "pie": [
           {
            "automargin": true,
            "type": "pie"
           }
          ],
          "scatter": [
           {
            "marker": {
             "colorbar": {
              "outlinewidth": 0,
              "ticks": ""
             }
            },
            "type": "scatter"
           }
          ],
          "scatter3d": [
           {
            "line": {
             "colorbar": {
              "outlinewidth": 0,
              "ticks": ""
             }
            },
            "marker": {
             "colorbar": {
              "outlinewidth": 0,
              "ticks": ""
             }
            },
            "type": "scatter3d"
           }
          ],
          "scattercarpet": [
           {
            "marker": {
             "colorbar": {
              "outlinewidth": 0,
              "ticks": ""
             }
            },
            "type": "scattercarpet"
           }
          ],
          "scattergeo": [
           {
            "marker": {
             "colorbar": {
              "outlinewidth": 0,
              "ticks": ""
             }
            },
            "type": "scattergeo"
           }
          ],
          "scattergl": [
           {
            "marker": {
             "colorbar": {
              "outlinewidth": 0,
              "ticks": ""
             }
            },
            "type": "scattergl"
           }
          ],
          "scattermapbox": [
           {
            "marker": {
             "colorbar": {
              "outlinewidth": 0,
              "ticks": ""
             }
            },
            "type": "scattermapbox"
           }
          ],
          "scatterpolar": [
           {
            "marker": {
             "colorbar": {
              "outlinewidth": 0,
              "ticks": ""
             }
            },
            "type": "scatterpolar"
           }
          ],
          "scatterpolargl": [
           {
            "marker": {
             "colorbar": {
              "outlinewidth": 0,
              "ticks": ""
             }
            },
            "type": "scatterpolargl"
           }
          ],
          "scatterternary": [
           {
            "marker": {
             "colorbar": {
              "outlinewidth": 0,
              "ticks": ""
             }
            },
            "type": "scatterternary"
           }
          ],
          "surface": [
           {
            "colorbar": {
             "outlinewidth": 0,
             "ticks": ""
            },
            "colorscale": [
             [
              0,
              "#0d0887"
             ],
             [
              0.1111111111111111,
              "#46039f"
             ],
             [
              0.2222222222222222,
              "#7201a8"
             ],
             [
              0.3333333333333333,
              "#9c179e"
             ],
             [
              0.4444444444444444,
              "#bd3786"
             ],
             [
              0.5555555555555556,
              "#d8576b"
             ],
             [
              0.6666666666666666,
              "#ed7953"
             ],
             [
              0.7777777777777778,
              "#fb9f3a"
             ],
             [
              0.8888888888888888,
              "#fdca26"
             ],
             [
              1,
              "#f0f921"
             ]
            ],
            "type": "surface"
           }
          ],
          "table": [
           {
            "cells": {
             "fill": {
              "color": "#EBF0F8"
             },
             "line": {
              "color": "white"
             }
            },
            "header": {
             "fill": {
              "color": "#C8D4E3"
             },
             "line": {
              "color": "white"
             }
            },
            "type": "table"
           }
          ]
         },
         "layout": {
          "annotationdefaults": {
           "arrowcolor": "#2a3f5f",
           "arrowhead": 0,
           "arrowwidth": 1
          },
          "autotypenumbers": "strict",
          "coloraxis": {
           "colorbar": {
            "outlinewidth": 0,
            "ticks": ""
           }
          },
          "colorscale": {
           "diverging": [
            [
             0,
             "#8e0152"
            ],
            [
             0.1,
             "#c51b7d"
            ],
            [
             0.2,
             "#de77ae"
            ],
            [
             0.3,
             "#f1b6da"
            ],
            [
             0.4,
             "#fde0ef"
            ],
            [
             0.5,
             "#f7f7f7"
            ],
            [
             0.6,
             "#e6f5d0"
            ],
            [
             0.7,
             "#b8e186"
            ],
            [
             0.8,
             "#7fbc41"
            ],
            [
             0.9,
             "#4d9221"
            ],
            [
             1,
             "#276419"
            ]
           ],
           "sequential": [
            [
             0,
             "#0d0887"
            ],
            [
             0.1111111111111111,
             "#46039f"
            ],
            [
             0.2222222222222222,
             "#7201a8"
            ],
            [
             0.3333333333333333,
             "#9c179e"
            ],
            [
             0.4444444444444444,
             "#bd3786"
            ],
            [
             0.5555555555555556,
             "#d8576b"
            ],
            [
             0.6666666666666666,
             "#ed7953"
            ],
            [
             0.7777777777777778,
             "#fb9f3a"
            ],
            [
             0.8888888888888888,
             "#fdca26"
            ],
            [
             1,
             "#f0f921"
            ]
           ],
           "sequentialminus": [
            [
             0,
             "#0d0887"
            ],
            [
             0.1111111111111111,
             "#46039f"
            ],
            [
             0.2222222222222222,
             "#7201a8"
            ],
            [
             0.3333333333333333,
             "#9c179e"
            ],
            [
             0.4444444444444444,
             "#bd3786"
            ],
            [
             0.5555555555555556,
             "#d8576b"
            ],
            [
             0.6666666666666666,
             "#ed7953"
            ],
            [
             0.7777777777777778,
             "#fb9f3a"
            ],
            [
             0.8888888888888888,
             "#fdca26"
            ],
            [
             1,
             "#f0f921"
            ]
           ]
          },
          "colorway": [
           "#636efa",
           "#EF553B",
           "#00cc96",
           "#ab63fa",
           "#FFA15A",
           "#19d3f3",
           "#FF6692",
           "#B6E880",
           "#FF97FF",
           "#FECB52"
          ],
          "font": {
           "color": "#2a3f5f"
          },
          "geo": {
           "bgcolor": "white",
           "lakecolor": "white",
           "landcolor": "#E5ECF6",
           "showlakes": true,
           "showland": true,
           "subunitcolor": "white"
          },
          "hoverlabel": {
           "align": "left"
          },
          "hovermode": "closest",
          "mapbox": {
           "style": "light"
          },
          "paper_bgcolor": "white",
          "plot_bgcolor": "#E5ECF6",
          "polar": {
           "angularaxis": {
            "gridcolor": "white",
            "linecolor": "white",
            "ticks": ""
           },
           "bgcolor": "#E5ECF6",
           "radialaxis": {
            "gridcolor": "white",
            "linecolor": "white",
            "ticks": ""
           }
          },
          "scene": {
           "xaxis": {
            "backgroundcolor": "#E5ECF6",
            "gridcolor": "white",
            "gridwidth": 2,
            "linecolor": "white",
            "showbackground": true,
            "ticks": "",
            "zerolinecolor": "white"
           },
           "yaxis": {
            "backgroundcolor": "#E5ECF6",
            "gridcolor": "white",
            "gridwidth": 2,
            "linecolor": "white",
            "showbackground": true,
            "ticks": "",
            "zerolinecolor": "white"
           },
           "zaxis": {
            "backgroundcolor": "#E5ECF6",
            "gridcolor": "white",
            "gridwidth": 2,
            "linecolor": "white",
            "showbackground": true,
            "ticks": "",
            "zerolinecolor": "white"
           }
          },
          "shapedefaults": {
           "line": {
            "color": "#2a3f5f"
           }
          },
          "ternary": {
           "aaxis": {
            "gridcolor": "white",
            "linecolor": "white",
            "ticks": ""
           },
           "baxis": {
            "gridcolor": "white",
            "linecolor": "white",
            "ticks": ""
           },
           "bgcolor": "#E5ECF6",
           "caxis": {
            "gridcolor": "white",
            "linecolor": "white",
            "ticks": ""
           }
          },
          "title": {
           "x": 0.05
          },
          "xaxis": {
           "automargin": true,
           "gridcolor": "white",
           "linecolor": "white",
           "ticks": "",
           "title": {
            "standoff": 15
           },
           "zerolinecolor": "white",
           "zerolinewidth": 2
          },
          "yaxis": {
           "automargin": true,
           "gridcolor": "white",
           "linecolor": "white",
           "ticks": "",
           "title": {
            "standoff": 15
           },
           "zerolinecolor": "white",
           "zerolinewidth": 2
          }
         }
        },
        "title": {
         "text": "Sentiment Analysis for COVID Tweets"
        }
       }
      },
      "text/html": [
       "<div>                            <div id=\"a1e98d5c-11bc-45a4-86d8-26f9600145b7\" class=\"plotly-graph-div\" style=\"height:525px; width:100%;\"></div>            <script type=\"text/javascript\">                require([\"plotly\"], function(Plotly) {                    window.PLOTLYENV=window.PLOTLYENV || {};                                    if (document.getElementById(\"a1e98d5c-11bc-45a4-86d8-26f9600145b7\")) {                    Plotly.newPlot(                        \"a1e98d5c-11bc-45a4-86d8-26f9600145b7\",                        [{\"domain\":{\"x\":[0.0,0.45],\"y\":[0.0,1.0]},\"labels\":[\"Negative\",\"Positive\"],\"name\":\"Label 0\",\"type\":\"pie\",\"values\":[1090.0,525.0]},{\"domain\":{\"x\":[0.55,1.0],\"y\":[0.0,1.0]},\"labels\":[\"Negative\",\"Positive\"],\"name\":\"Label 1\",\"type\":\"pie\",\"values\":[246.0,89.0]}],                        {\"annotations\":[{\"font\":{\"size\":16},\"showarrow\":false,\"text\":\"Prediction: 0\",\"x\":0.225,\"xanchor\":\"center\",\"xref\":\"paper\",\"y\":1.0,\"yanchor\":\"bottom\",\"yref\":\"paper\"},{\"font\":{\"size\":16},\"showarrow\":false,\"text\":\"Prediction: 1\",\"x\":0.775,\"xanchor\":\"center\",\"xref\":\"paper\",\"y\":1.0,\"yanchor\":\"bottom\",\"yref\":\"paper\"}],\"template\":{\"data\":{\"bar\":[{\"error_x\":{\"color\":\"#2a3f5f\"},\"error_y\":{\"color\":\"#2a3f5f\"},\"marker\":{\"line\":{\"color\":\"#E5ECF6\",\"width\":0.5},\"pattern\":{\"fillmode\":\"overlay\",\"size\":10,\"solidity\":0.2}},\"type\":\"bar\"}],\"barpolar\":[{\"marker\":{\"line\":{\"color\":\"#E5ECF6\",\"width\":0.5},\"pattern\":{\"fillmode\":\"overlay\",\"size\":10,\"solidity\":0.2}},\"type\":\"barpolar\"}],\"carpet\":[{\"aaxis\":{\"endlinecolor\":\"#2a3f5f\",\"gridcolor\":\"white\",\"linecolor\":\"white\",\"minorgridcolor\":\"white\",\"startlinecolor\":\"#2a3f5f\"},\"baxis\":{\"endlinecolor\":\"#2a3f5f\",\"gridcolor\":\"white\",\"linecolor\":\"white\",\"minorgridcolor\":\"white\",\"startlinecolor\":\"#2a3f5f\"},\"type\":\"carpet\"}],\"choropleth\":[{\"colorbar\":{\"outlinewidth\":0,\"ticks\":\"\"},\"type\":\"choropleth\"}],\"contour\":[{\"colorbar\":{\"outlinewidth\":0,\"ticks\":\"\"},\"colorscale\":[[0.0,\"#0d0887\"],[0.1111111111111111,\"#46039f\"],[0.2222222222222222,\"#7201a8\"],[0.3333333333333333,\"#9c179e\"],[0.4444444444444444,\"#bd3786\"],[0.5555555555555556,\"#d8576b\"],[0.6666666666666666,\"#ed7953\"],[0.7777777777777778,\"#fb9f3a\"],[0.8888888888888888,\"#fdca26\"],[1.0,\"#f0f921\"]],\"type\":\"contour\"}],\"contourcarpet\":[{\"colorbar\":{\"outlinewidth\":0,\"ticks\":\"\"},\"type\":\"contourcarpet\"}],\"heatmap\":[{\"colorbar\":{\"outlinewidth\":0,\"ticks\":\"\"},\"colorscale\":[[0.0,\"#0d0887\"],[0.1111111111111111,\"#46039f\"],[0.2222222222222222,\"#7201a8\"],[0.3333333333333333,\"#9c179e\"],[0.4444444444444444,\"#bd3786\"],[0.5555555555555556,\"#d8576b\"],[0.6666666666666666,\"#ed7953\"],[0.7777777777777778,\"#fb9f3a\"],[0.8888888888888888,\"#fdca26\"],[1.0,\"#f0f921\"]],\"type\":\"heatmap\"}],\"heatmapgl\":[{\"colorbar\":{\"outlinewidth\":0,\"ticks\":\"\"},\"colorscale\":[[0.0,\"#0d0887\"],[0.1111111111111111,\"#46039f\"],[0.2222222222222222,\"#7201a8\"],[0.3333333333333333,\"#9c179e\"],[0.4444444444444444,\"#bd3786\"],[0.5555555555555556,\"#d8576b\"],[0.6666666666666666,\"#ed7953\"],[0.7777777777777778,\"#fb9f3a\"],[0.8888888888888888,\"#fdca26\"],[1.0,\"#f0f921\"]],\"type\":\"heatmapgl\"}],\"histogram\":[{\"marker\":{\"pattern\":{\"fillmode\":\"overlay\",\"size\":10,\"solidity\":0.2}},\"type\":\"histogram\"}],\"histogram2d\":[{\"colorbar\":{\"outlinewidth\":0,\"ticks\":\"\"},\"colorscale\":[[0.0,\"#0d0887\"],[0.1111111111111111,\"#46039f\"],[0.2222222222222222,\"#7201a8\"],[0.3333333333333333,\"#9c179e\"],[0.4444444444444444,\"#bd3786\"],[0.5555555555555556,\"#d8576b\"],[0.6666666666666666,\"#ed7953\"],[0.7777777777777778,\"#fb9f3a\"],[0.8888888888888888,\"#fdca26\"],[1.0,\"#f0f921\"]],\"type\":\"histogram2d\"}],\"histogram2dcontour\":[{\"colorbar\":{\"outlinewidth\":0,\"ticks\":\"\"},\"colorscale\":[[0.0,\"#0d0887\"],[0.1111111111111111,\"#46039f\"],[0.2222222222222222,\"#7201a8\"],[0.3333333333333333,\"#9c179e\"],[0.4444444444444444,\"#bd3786\"],[0.5555555555555556,\"#d8576b\"],[0.6666666666666666,\"#ed7953\"],[0.7777777777777778,\"#fb9f3a\"],[0.8888888888888888,\"#fdca26\"],[1.0,\"#f0f921\"]],\"type\":\"histogram2dcontour\"}],\"mesh3d\":[{\"colorbar\":{\"outlinewidth\":0,\"ticks\":\"\"},\"type\":\"mesh3d\"}],\"parcoords\":[{\"line\":{\"colorbar\":{\"outlinewidth\":0,\"ticks\":\"\"}},\"type\":\"parcoords\"}],\"pie\":[{\"automargin\":true,\"type\":\"pie\"}],\"scatter\":[{\"marker\":{\"colorbar\":{\"outlinewidth\":0,\"ticks\":\"\"}},\"type\":\"scatter\"}],\"scatter3d\":[{\"line\":{\"colorbar\":{\"outlinewidth\":0,\"ticks\":\"\"}},\"marker\":{\"colorbar\":{\"outlinewidth\":0,\"ticks\":\"\"}},\"type\":\"scatter3d\"}],\"scattercarpet\":[{\"marker\":{\"colorbar\":{\"outlinewidth\":0,\"ticks\":\"\"}},\"type\":\"scattercarpet\"}],\"scattergeo\":[{\"marker\":{\"colorbar\":{\"outlinewidth\":0,\"ticks\":\"\"}},\"type\":\"scattergeo\"}],\"scattergl\":[{\"marker\":{\"colorbar\":{\"outlinewidth\":0,\"ticks\":\"\"}},\"type\":\"scattergl\"}],\"scattermapbox\":[{\"marker\":{\"colorbar\":{\"outlinewidth\":0,\"ticks\":\"\"}},\"type\":\"scattermapbox\"}],\"scatterpolar\":[{\"marker\":{\"colorbar\":{\"outlinewidth\":0,\"ticks\":\"\"}},\"type\":\"scatterpolar\"}],\"scatterpolargl\":[{\"marker\":{\"colorbar\":{\"outlinewidth\":0,\"ticks\":\"\"}},\"type\":\"scatterpolargl\"}],\"scatterternary\":[{\"marker\":{\"colorbar\":{\"outlinewidth\":0,\"ticks\":\"\"}},\"type\":\"scatterternary\"}],\"surface\":[{\"colorbar\":{\"outlinewidth\":0,\"ticks\":\"\"},\"colorscale\":[[0.0,\"#0d0887\"],[0.1111111111111111,\"#46039f\"],[0.2222222222222222,\"#7201a8\"],[0.3333333333333333,\"#9c179e\"],[0.4444444444444444,\"#bd3786\"],[0.5555555555555556,\"#d8576b\"],[0.6666666666666666,\"#ed7953\"],[0.7777777777777778,\"#fb9f3a\"],[0.8888888888888888,\"#fdca26\"],[1.0,\"#f0f921\"]],\"type\":\"surface\"}],\"table\":[{\"cells\":{\"fill\":{\"color\":\"#EBF0F8\"},\"line\":{\"color\":\"white\"}},\"header\":{\"fill\":{\"color\":\"#C8D4E3\"},\"line\":{\"color\":\"white\"}},\"type\":\"table\"}]},\"layout\":{\"annotationdefaults\":{\"arrowcolor\":\"#2a3f5f\",\"arrowhead\":0,\"arrowwidth\":1},\"autotypenumbers\":\"strict\",\"coloraxis\":{\"colorbar\":{\"outlinewidth\":0,\"ticks\":\"\"}},\"colorscale\":{\"diverging\":[[0,\"#8e0152\"],[0.1,\"#c51b7d\"],[0.2,\"#de77ae\"],[0.3,\"#f1b6da\"],[0.4,\"#fde0ef\"],[0.5,\"#f7f7f7\"],[0.6,\"#e6f5d0\"],[0.7,\"#b8e186\"],[0.8,\"#7fbc41\"],[0.9,\"#4d9221\"],[1,\"#276419\"]],\"sequential\":[[0.0,\"#0d0887\"],[0.1111111111111111,\"#46039f\"],[0.2222222222222222,\"#7201a8\"],[0.3333333333333333,\"#9c179e\"],[0.4444444444444444,\"#bd3786\"],[0.5555555555555556,\"#d8576b\"],[0.6666666666666666,\"#ed7953\"],[0.7777777777777778,\"#fb9f3a\"],[0.8888888888888888,\"#fdca26\"],[1.0,\"#f0f921\"]],\"sequentialminus\":[[0.0,\"#0d0887\"],[0.1111111111111111,\"#46039f\"],[0.2222222222222222,\"#7201a8\"],[0.3333333333333333,\"#9c179e\"],[0.4444444444444444,\"#bd3786\"],[0.5555555555555556,\"#d8576b\"],[0.6666666666666666,\"#ed7953\"],[0.7777777777777778,\"#fb9f3a\"],[0.8888888888888888,\"#fdca26\"],[1.0,\"#f0f921\"]]},\"colorway\":[\"#636efa\",\"#EF553B\",\"#00cc96\",\"#ab63fa\",\"#FFA15A\",\"#19d3f3\",\"#FF6692\",\"#B6E880\",\"#FF97FF\",\"#FECB52\"],\"font\":{\"color\":\"#2a3f5f\"},\"geo\":{\"bgcolor\":\"white\",\"lakecolor\":\"white\",\"landcolor\":\"#E5ECF6\",\"showlakes\":true,\"showland\":true,\"subunitcolor\":\"white\"},\"hoverlabel\":{\"align\":\"left\"},\"hovermode\":\"closest\",\"mapbox\":{\"style\":\"light\"},\"paper_bgcolor\":\"white\",\"plot_bgcolor\":\"#E5ECF6\",\"polar\":{\"angularaxis\":{\"gridcolor\":\"white\",\"linecolor\":\"white\",\"ticks\":\"\"},\"bgcolor\":\"#E5ECF6\",\"radialaxis\":{\"gridcolor\":\"white\",\"linecolor\":\"white\",\"ticks\":\"\"}},\"scene\":{\"xaxis\":{\"backgroundcolor\":\"#E5ECF6\",\"gridcolor\":\"white\",\"gridwidth\":2,\"linecolor\":\"white\",\"showbackground\":true,\"ticks\":\"\",\"zerolinecolor\":\"white\"},\"yaxis\":{\"backgroundcolor\":\"#E5ECF6\",\"gridcolor\":\"white\",\"gridwidth\":2,\"linecolor\":\"white\",\"showbackground\":true,\"ticks\":\"\",\"zerolinecolor\":\"white\"},\"zaxis\":{\"backgroundcolor\":\"#E5ECF6\",\"gridcolor\":\"white\",\"gridwidth\":2,\"linecolor\":\"white\",\"showbackground\":true,\"ticks\":\"\",\"zerolinecolor\":\"white\"}},\"shapedefaults\":{\"line\":{\"color\":\"#2a3f5f\"}},\"ternary\":{\"aaxis\":{\"gridcolor\":\"white\",\"linecolor\":\"white\",\"ticks\":\"\"},\"baxis\":{\"gridcolor\":\"white\",\"linecolor\":\"white\",\"ticks\":\"\"},\"bgcolor\":\"#E5ECF6\",\"caxis\":{\"gridcolor\":\"white\",\"linecolor\":\"white\",\"ticks\":\"\"}},\"title\":{\"x\":0.05},\"xaxis\":{\"automargin\":true,\"gridcolor\":\"white\",\"linecolor\":\"white\",\"ticks\":\"\",\"title\":{\"standoff\":15},\"zerolinecolor\":\"white\",\"zerolinewidth\":2},\"yaxis\":{\"automargin\":true,\"gridcolor\":\"white\",\"linecolor\":\"white\",\"ticks\":\"\",\"title\":{\"standoff\":15},\"zerolinecolor\":\"white\",\"zerolinewidth\":2}}},\"title\":{\"text\":\"Sentiment Analysis for COVID Tweets\"}},                        {\"responsive\": true}                    ).then(function(){\n",
       "                            \n",
       "var gd = document.getElementById('a1e98d5c-11bc-45a4-86d8-26f9600145b7');\n",
       "var x = new MutationObserver(function (mutations, observer) {{\n",
       "        var display = window.getComputedStyle(gd).display;\n",
       "        if (!display || display === 'none') {{\n",
       "            console.log([gd, 'removed!']);\n",
       "            Plotly.purge(gd);\n",
       "            observer.disconnect();\n",
       "        }}\n",
       "}});\n",
       "\n",
       "// Listen for the removal of the full notebook cells\n",
       "var notebookContainer = gd.closest('#notebook-container');\n",
       "if (notebookContainer) {{\n",
       "    x.observe(notebookContainer, {childList: true});\n",
       "}}\n",
       "\n",
       "// Listen for the clearing of the current output cell\n",
       "var outputEl = gd.closest('.output');\n",
       "if (outputEl) {{\n",
       "    x.observe(outputEl, {childList: true});\n",
       "}}\n",
       "\n",
       "                        })                };                });            </script>        </div>"
      ]
     },
     "metadata": {},
     "output_type": "display_data"
    }
   ],
   "source": [
    "covid_pred_senti_fig = prediction_sentiment_figure(\n",
    "    labeled_covid_df, 'COVID'\n",
    ")\n",
    "offline.iplot(covid_pred_senti_fig)"
   ]
  },
  {
   "cell_type": "code",
   "execution_count": 18,
   "metadata": {},
   "outputs": [
    {
     "data": {
      "text/html": [
       "<div>\n",
       "<style scoped>\n",
       "    .dataframe tbody tr th:only-of-type {\n",
       "        vertical-align: middle;\n",
       "    }\n",
       "\n",
       "    .dataframe tbody tr th {\n",
       "        vertical-align: top;\n",
       "    }\n",
       "\n",
       "    .dataframe thead th {\n",
       "        text-align: right;\n",
       "    }\n",
       "</style>\n",
       "<table border=\"1\" class=\"dataframe\">\n",
       "  <thead>\n",
       "    <tr style=\"text-align: right;\">\n",
       "      <th></th>\n",
       "      <th>label</th>\n",
       "      <th>sentiment</th>\n",
       "    </tr>\n",
       "  </thead>\n",
       "  <tbody>\n",
       "    <tr>\n",
       "      <th>label</th>\n",
       "      <td>1.000000</td>\n",
       "      <td>0.048245</td>\n",
       "    </tr>\n",
       "    <tr>\n",
       "      <th>sentiment</th>\n",
       "      <td>0.048245</td>\n",
       "      <td>1.000000</td>\n",
       "    </tr>\n",
       "  </tbody>\n",
       "</table>\n",
       "</div>"
      ],
      "text/plain": [
       "              label  sentiment\n",
       "label      1.000000   0.048245\n",
       "sentiment  0.048245   1.000000"
      ]
     },
     "execution_count": 18,
     "metadata": {},
     "output_type": "execute_result"
    }
   ],
   "source": [
    "labeled_covid_df[['label', 'sentiment']].corr(method='spearman')"
   ]
  },
  {
   "cell_type": "code",
   "execution_count": 21,
   "metadata": {},
   "outputs": [],
   "source": [
    "labeled_truckers_df = labeled_df(\n",
    "    'bert/model_best_bert/test_truckers_data_labeled.csv'\n",
    ")"
   ]
  },
  {
   "cell_type": "code",
   "execution_count": 23,
   "metadata": {},
   "outputs": [
    {
     "data": {
      "application/vnd.plotly.v1+json": {
       "config": {
        "linkText": "Export to plot.ly",
        "plotlyServerURL": "https://plot.ly",
        "showLink": false
       },
       "data": [
        {
         "alignmentgroup": "True",
         "bingroup": "x",
         "hovertemplate": "label=%{x}<br>count=%{y}<extra></extra>",
         "legendgroup": "",
         "marker": {
          "color": "#636efa",
          "pattern": {
           "shape": ""
          }
         },
         "name": "",
         "offsetgroup": "",
         "orientation": "v",
         "showlegend": false,
         "type": "histogram",
         "x": [
          0,
          0,
          0,
          0,
          0,
          0,
          0,
          0,
          0,
          0,
          0,
          0,
          0,
          0,
          0,
          0,
          1,
          0,
          0,
          0,
          0,
          0,
          0,
          0,
          0,
          0,
          0,
          0,
          0,
          0,
          0,
          0,
          0,
          0,
          0,
          1,
          0,
          0,
          0,
          0,
          0,
          0,
          0,
          0,
          1,
          0,
          0,
          0,
          0,
          0,
          0,
          0,
          1,
          0,
          0,
          0,
          0,
          0,
          0,
          0,
          0,
          0,
          0,
          0,
          0,
          0,
          0,
          0,
          0,
          0,
          0,
          0,
          0,
          0,
          0,
          0,
          0,
          0,
          1,
          0,
          0,
          0,
          0,
          0,
          0,
          0,
          0,
          0,
          0,
          0,
          0,
          1,
          0,
          0,
          0,
          0,
          0,
          0,
          0,
          0,
          0,
          0,
          0,
          0,
          0,
          0,
          0,
          0,
          0,
          0,
          0,
          1,
          0,
          0,
          0,
          0,
          0,
          0,
          0,
          0,
          0,
          0,
          0,
          0,
          0,
          0,
          0,
          0,
          0,
          0,
          0,
          0,
          0,
          0,
          0,
          0,
          0,
          0,
          0,
          0,
          0,
          0,
          0,
          0,
          0,
          0,
          0,
          0,
          0,
          0,
          1,
          0,
          0,
          0,
          0,
          0,
          0,
          0,
          0,
          0,
          0,
          0,
          0,
          0,
          0,
          0,
          0,
          0,
          0,
          1,
          0,
          0,
          0,
          0,
          0,
          0,
          0,
          0,
          0,
          0,
          0,
          0,
          1,
          0,
          0,
          0,
          0,
          0,
          0,
          0,
          1,
          0,
          0,
          0,
          0,
          0,
          0,
          0,
          0,
          0,
          0,
          0,
          0,
          0,
          0,
          0,
          0,
          0,
          0,
          0,
          0,
          0,
          0,
          0,
          1,
          0,
          0,
          0,
          0,
          0,
          1,
          0,
          1,
          0,
          0,
          0,
          0,
          0,
          0,
          0,
          0,
          0,
          0,
          0,
          0,
          0,
          0,
          0,
          0,
          0,
          0,
          0,
          0,
          0,
          0,
          0,
          0,
          0,
          0,
          0,
          0,
          0,
          0,
          0,
          0,
          0,
          0,
          0,
          0,
          0,
          0,
          0,
          0,
          0,
          0,
          0,
          0,
          0,
          0,
          0,
          0,
          0,
          0,
          0,
          0,
          0,
          0,
          0,
          0,
          0,
          0,
          0,
          0,
          0,
          0,
          0,
          0,
          0,
          0,
          0,
          0,
          0,
          1,
          0,
          0,
          0,
          0,
          1,
          0,
          0,
          0,
          0,
          0,
          0,
          0,
          0,
          0,
          0,
          0,
          0,
          0,
          0,
          1,
          0,
          0,
          0,
          0,
          0,
          0,
          0,
          0,
          1,
          0,
          0,
          0,
          0,
          0,
          0,
          0,
          0,
          0,
          0,
          0,
          0,
          0,
          0,
          0,
          0,
          0,
          0,
          0,
          1,
          0,
          0,
          1,
          0,
          0,
          0,
          0,
          0,
          0,
          0,
          0,
          0,
          1,
          1,
          0,
          0,
          0,
          0,
          0,
          0,
          0,
          0,
          0,
          0,
          1,
          0,
          0,
          1,
          0,
          0,
          0,
          0,
          0,
          0,
          0,
          0,
          0,
          0,
          0,
          0,
          0,
          0,
          0,
          0,
          0,
          0,
          0,
          0,
          0,
          0,
          0,
          0,
          0,
          0,
          0,
          0,
          0,
          0,
          0,
          0,
          0,
          0,
          0,
          0,
          0,
          0,
          0,
          0,
          0,
          0,
          0,
          0,
          0,
          0,
          0,
          0,
          0,
          0,
          0,
          0,
          0,
          0,
          0,
          0,
          0,
          0,
          0,
          0,
          0,
          0,
          0,
          0,
          0,
          0,
          0,
          0,
          0,
          1,
          0,
          0,
          0,
          0,
          0,
          0,
          0,
          0,
          0,
          0,
          0,
          0,
          0,
          0,
          1,
          0,
          1,
          0,
          1,
          0,
          0,
          0,
          0,
          0,
          1,
          0,
          0,
          0,
          0,
          1,
          0,
          0,
          0,
          0,
          0,
          0,
          1,
          0,
          0,
          0,
          0,
          0,
          0,
          0,
          1,
          0,
          0,
          0,
          0,
          0,
          1,
          0,
          0,
          0,
          0,
          1,
          0,
          0,
          0,
          0,
          0,
          0,
          0,
          0,
          0,
          0,
          0,
          0,
          0,
          0,
          0,
          0,
          0,
          1,
          0,
          0,
          0,
          0,
          0,
          0,
          0,
          0,
          0,
          0,
          0,
          1,
          0,
          0,
          1,
          0,
          0,
          0,
          0,
          0,
          0,
          0,
          0,
          0,
          0,
          0,
          0,
          0,
          0,
          0,
          1,
          0,
          0,
          0,
          0,
          0,
          0,
          0,
          0,
          0,
          0,
          0,
          0,
          1,
          0,
          0,
          0,
          0,
          0,
          0,
          0,
          0,
          0,
          0,
          0,
          0,
          0,
          0,
          0,
          0,
          0,
          0,
          0,
          0,
          0,
          0,
          0,
          0,
          0,
          0,
          0,
          0,
          0,
          0,
          0,
          0,
          0,
          0,
          0,
          0,
          0,
          1,
          1,
          0,
          0,
          0,
          0,
          0,
          0,
          0,
          0,
          0,
          0,
          0,
          1,
          0,
          0,
          0,
          0,
          0,
          1,
          0,
          0,
          0,
          0,
          0,
          0,
          1,
          0,
          0,
          0,
          1,
          0,
          0,
          0,
          0,
          0,
          0,
          1,
          0,
          0,
          0,
          0,
          0,
          0,
          0,
          1,
          0,
          0,
          0,
          0,
          0,
          0,
          0,
          0,
          0,
          0,
          0,
          0,
          0,
          0,
          0,
          0,
          0,
          0,
          0,
          0,
          0,
          0,
          0,
          0,
          0,
          0,
          0,
          0,
          0,
          0,
          0,
          1,
          0,
          0,
          0,
          0,
          0,
          0,
          0,
          1,
          0,
          0,
          0,
          0,
          0,
          0,
          0,
          0,
          0,
          0,
          0,
          0,
          0,
          0,
          0,
          0,
          0,
          0,
          0,
          1,
          0,
          0,
          0,
          0,
          0,
          0,
          0,
          0,
          0,
          0,
          0,
          0,
          0,
          0,
          0,
          1,
          0,
          1,
          0,
          0,
          0,
          0,
          0,
          0,
          0,
          0,
          0,
          0,
          0,
          0,
          0,
          0,
          1,
          0,
          0,
          1,
          0,
          0,
          0,
          0,
          0,
          0,
          0,
          0,
          0,
          0,
          1,
          0,
          0,
          0,
          0,
          0,
          0,
          0,
          0,
          0,
          0,
          1,
          0,
          0,
          0,
          0,
          0,
          0,
          0,
          0,
          0,
          0,
          0,
          0,
          1,
          0,
          0,
          0,
          0,
          0,
          0,
          0,
          0,
          0,
          0,
          0,
          0,
          0,
          0,
          0,
          0,
          0,
          0,
          0,
          0,
          0,
          0,
          0,
          1,
          0,
          0,
          0,
          0,
          0,
          0,
          0,
          0,
          0,
          0,
          0,
          0,
          0,
          0,
          0,
          0,
          0,
          0,
          0,
          0,
          0,
          0,
          0,
          0,
          0,
          0,
          0,
          1,
          0,
          0,
          0,
          0,
          0,
          0,
          0,
          0,
          0,
          0,
          0,
          0,
          0,
          0,
          0,
          0,
          0,
          0,
          0,
          0,
          0,
          0,
          0,
          0,
          0,
          0,
          0,
          0,
          0,
          0,
          0,
          0,
          1,
          0,
          0,
          0,
          0,
          0,
          0,
          0,
          0,
          0,
          0,
          0,
          0,
          0,
          1,
          0,
          0,
          0,
          0,
          1,
          0,
          1,
          0,
          0,
          0,
          0,
          0,
          0,
          0,
          0,
          0,
          0,
          0,
          0,
          0,
          0,
          0,
          0,
          0,
          0,
          0,
          0,
          0,
          0,
          0,
          1,
          0,
          0,
          0,
          0,
          0,
          0,
          0,
          0,
          0,
          0,
          0,
          0,
          0,
          0,
          0,
          0,
          0,
          0,
          0,
          0,
          0,
          0,
          0,
          0,
          0,
          0,
          0,
          0,
          0,
          0,
          0,
          0,
          0,
          0,
          1,
          0,
          0,
          0,
          0,
          0,
          0,
          0,
          0,
          0,
          1,
          0,
          0,
          0,
          0,
          0,
          1,
          0,
          0,
          0,
          0,
          0,
          1,
          0,
          0,
          0,
          0,
          0,
          0,
          0,
          0,
          0,
          0,
          0,
          0,
          0,
          0,
          0,
          0,
          0,
          0,
          0,
          0,
          0,
          0,
          0,
          0,
          0,
          1,
          0,
          0,
          0,
          0,
          0,
          0,
          0,
          0,
          0,
          1,
          0,
          0,
          0,
          0,
          0,
          0,
          0,
          0,
          1,
          0,
          0,
          0,
          0,
          0,
          0,
          0,
          0,
          0,
          0,
          1,
          0,
          0,
          0,
          0,
          1,
          0,
          0,
          0,
          0,
          0,
          0,
          0,
          0,
          0,
          0,
          0,
          0,
          0,
          0,
          0,
          0,
          0,
          0,
          0,
          0,
          0,
          0,
          0,
          0,
          0,
          0,
          0,
          0,
          0,
          0,
          0,
          1,
          0,
          0,
          0,
          0,
          0,
          0,
          0,
          0,
          0,
          0,
          0,
          0,
          0,
          0,
          0,
          0,
          0,
          0,
          0,
          0,
          0,
          0,
          0,
          0,
          0,
          0,
          0,
          0,
          0,
          0,
          1,
          0,
          0,
          0,
          0,
          0,
          0,
          0,
          0,
          0,
          0,
          0,
          0,
          0,
          1,
          0,
          0,
          0,
          0,
          0,
          0,
          0,
          0,
          0,
          0,
          0,
          0,
          0,
          0,
          0,
          0,
          0,
          0,
          0,
          0,
          0,
          1,
          0,
          0,
          0,
          0,
          0,
          0,
          0,
          0,
          0,
          0,
          0,
          0,
          0,
          0,
          0,
          0,
          0,
          0,
          0,
          0,
          0,
          0,
          1,
          0,
          0,
          0,
          0,
          0,
          0,
          1,
          0,
          0,
          0,
          1,
          0,
          0,
          0,
          0,
          0,
          0,
          0,
          0,
          0,
          1,
          0,
          0,
          0,
          0,
          1,
          0,
          0,
          0,
          0,
          0,
          0,
          0,
          0,
          0,
          0,
          1,
          0,
          0,
          0,
          1,
          0,
          0,
          0,
          0,
          0,
          0,
          0,
          0,
          0,
          0,
          0,
          1,
          0,
          0,
          0,
          0,
          0,
          0,
          0,
          0,
          0,
          0,
          0,
          0,
          0,
          0,
          0,
          0,
          0,
          0,
          0,
          0,
          0,
          0,
          0,
          0,
          0,
          0,
          0,
          0,
          0,
          0,
          0,
          0,
          0,
          0,
          0,
          0,
          0,
          0,
          0,
          0,
          0,
          0,
          0,
          0,
          0,
          0,
          0,
          0,
          0,
          0,
          0,
          0,
          0,
          0,
          0,
          0,
          0,
          0,
          0,
          0,
          0,
          0,
          0,
          0,
          0,
          0,
          0,
          0,
          0,
          0,
          0,
          0,
          0,
          0,
          0,
          0,
          0,
          1,
          0,
          0,
          0,
          0,
          0,
          0,
          0,
          0,
          0,
          0,
          0,
          0,
          0,
          0,
          0,
          0,
          0,
          0,
          0,
          0,
          0,
          0,
          1,
          0,
          0,
          0,
          0,
          0,
          0,
          0,
          0,
          0,
          1,
          0,
          0,
          0,
          0,
          0,
          0,
          0,
          0,
          0,
          0,
          0,
          0,
          0,
          0,
          0,
          0,
          0,
          0,
          0,
          1,
          0,
          0,
          0,
          0,
          0,
          0,
          0,
          0,
          0,
          0,
          1,
          0,
          0,
          0,
          0,
          0,
          0,
          0,
          0,
          0,
          0,
          0,
          0,
          0,
          0,
          0,
          0,
          0,
          0,
          0,
          0,
          0,
          0,
          0,
          0,
          0,
          0,
          0,
          0,
          0,
          0,
          0,
          0,
          0,
          0,
          0,
          0,
          0,
          0,
          0,
          0,
          0,
          0,
          0,
          0,
          0,
          0,
          0,
          0,
          0,
          0,
          0,
          0,
          0,
          0,
          0,
          0,
          0,
          0,
          0,
          0,
          1,
          1,
          0,
          0,
          0,
          0,
          0,
          1,
          0,
          0,
          1,
          0,
          0,
          0,
          0,
          1,
          0,
          0,
          0,
          0,
          0,
          0,
          0,
          0,
          1,
          0,
          0,
          0,
          0,
          0,
          0,
          0,
          0,
          0,
          0,
          0,
          0,
          0,
          0,
          0,
          0,
          0,
          0,
          0,
          0,
          0,
          0,
          0,
          0,
          0,
          0,
          0,
          0,
          0,
          0,
          0,
          0,
          0,
          0,
          0,
          0,
          0,
          0,
          0,
          0,
          0,
          1,
          0,
          0,
          0,
          1,
          0,
          0,
          0,
          0,
          0,
          0,
          0,
          0,
          0,
          0,
          0,
          0,
          0,
          0,
          0,
          0,
          0,
          0,
          0,
          0,
          0,
          0,
          0,
          0,
          1,
          0,
          0,
          0,
          0,
          0,
          0,
          0,
          0,
          0,
          0,
          0,
          0,
          0,
          0,
          0,
          0,
          0,
          0,
          0,
          0,
          0,
          0,
          0,
          0,
          0,
          1,
          0,
          1,
          0,
          0,
          0,
          0,
          0,
          0,
          0,
          0,
          0,
          0,
          0,
          0,
          0,
          0,
          1,
          0,
          0,
          0,
          0,
          0,
          0,
          0,
          0,
          0,
          0,
          0,
          0,
          0,
          0,
          0,
          0,
          0,
          0,
          0,
          0,
          0,
          0,
          0,
          0,
          0,
          0,
          0,
          0,
          0,
          0,
          0,
          0,
          0,
          0,
          0,
          0,
          0,
          0,
          0,
          0,
          0,
          0,
          0,
          0,
          0,
          0,
          0,
          0,
          0,
          0,
          0,
          0,
          0,
          0,
          0,
          0,
          0,
          0,
          0,
          0,
          0,
          0,
          0,
          0,
          0,
          0,
          0,
          0,
          0,
          0,
          0,
          0,
          0,
          0,
          0,
          0,
          0,
          0,
          0,
          0,
          0,
          0,
          0,
          0,
          0,
          1,
          0,
          0,
          0,
          0,
          0,
          0,
          0,
          0,
          0,
          0,
          0,
          0,
          0,
          0,
          0,
          0,
          0,
          0,
          1,
          0,
          0,
          0,
          0,
          0,
          0,
          0,
          0,
          0,
          0,
          0,
          0,
          0,
          0,
          0,
          0,
          1,
          1,
          0,
          0,
          0,
          0,
          0,
          0,
          0,
          0,
          1,
          0,
          0,
          0,
          1,
          0,
          0,
          0,
          0,
          0,
          0,
          0,
          0,
          0,
          0,
          0,
          0,
          0,
          0,
          0,
          0,
          0,
          0,
          0,
          0,
          0,
          0,
          0,
          0,
          0,
          0,
          0,
          0,
          0,
          0,
          0,
          0,
          0,
          0,
          0,
          0,
          0,
          0,
          0,
          0,
          0,
          0,
          0,
          0,
          0,
          0,
          0,
          0,
          0,
          0,
          0,
          0,
          0,
          0,
          0,
          0,
          0,
          0,
          0,
          0,
          1,
          0,
          0,
          0,
          0,
          0,
          0,
          0,
          0,
          0,
          0,
          0,
          0,
          0,
          0,
          0,
          0,
          0,
          0,
          0,
          0,
          0,
          0,
          0,
          0,
          0,
          0,
          0,
          0,
          0,
          0,
          0,
          0,
          0,
          0,
          0,
          0,
          0,
          0,
          0,
          0,
          0,
          0,
          0,
          1,
          0,
          1,
          0,
          0,
          0,
          0,
          0,
          0,
          0,
          0,
          0,
          0,
          0,
          0,
          0,
          0,
          0,
          0,
          0,
          0,
          0,
          0,
          0
         ],
         "xaxis": "x",
         "yaxis": "y"
        }
       ],
       "layout": {
        "bargap": 0.2,
        "barmode": "relative",
        "legend": {
         "tracegroupgap": 0
        },
        "template": {
         "data": {
          "bar": [
           {
            "error_x": {
             "color": "#2a3f5f"
            },
            "error_y": {
             "color": "#2a3f5f"
            },
            "marker": {
             "line": {
              "color": "#E5ECF6",
              "width": 0.5
             },
             "pattern": {
              "fillmode": "overlay",
              "size": 10,
              "solidity": 0.2
             }
            },
            "type": "bar"
           }
          ],
          "barpolar": [
           {
            "marker": {
             "line": {
              "color": "#E5ECF6",
              "width": 0.5
             },
             "pattern": {
              "fillmode": "overlay",
              "size": 10,
              "solidity": 0.2
             }
            },
            "type": "barpolar"
           }
          ],
          "carpet": [
           {
            "aaxis": {
             "endlinecolor": "#2a3f5f",
             "gridcolor": "white",
             "linecolor": "white",
             "minorgridcolor": "white",
             "startlinecolor": "#2a3f5f"
            },
            "baxis": {
             "endlinecolor": "#2a3f5f",
             "gridcolor": "white",
             "linecolor": "white",
             "minorgridcolor": "white",
             "startlinecolor": "#2a3f5f"
            },
            "type": "carpet"
           }
          ],
          "choropleth": [
           {
            "colorbar": {
             "outlinewidth": 0,
             "ticks": ""
            },
            "type": "choropleth"
           }
          ],
          "contour": [
           {
            "colorbar": {
             "outlinewidth": 0,
             "ticks": ""
            },
            "colorscale": [
             [
              0,
              "#0d0887"
             ],
             [
              0.1111111111111111,
              "#46039f"
             ],
             [
              0.2222222222222222,
              "#7201a8"
             ],
             [
              0.3333333333333333,
              "#9c179e"
             ],
             [
              0.4444444444444444,
              "#bd3786"
             ],
             [
              0.5555555555555556,
              "#d8576b"
             ],
             [
              0.6666666666666666,
              "#ed7953"
             ],
             [
              0.7777777777777778,
              "#fb9f3a"
             ],
             [
              0.8888888888888888,
              "#fdca26"
             ],
             [
              1,
              "#f0f921"
             ]
            ],
            "type": "contour"
           }
          ],
          "contourcarpet": [
           {
            "colorbar": {
             "outlinewidth": 0,
             "ticks": ""
            },
            "type": "contourcarpet"
           }
          ],
          "heatmap": [
           {
            "colorbar": {
             "outlinewidth": 0,
             "ticks": ""
            },
            "colorscale": [
             [
              0,
              "#0d0887"
             ],
             [
              0.1111111111111111,
              "#46039f"
             ],
             [
              0.2222222222222222,
              "#7201a8"
             ],
             [
              0.3333333333333333,
              "#9c179e"
             ],
             [
              0.4444444444444444,
              "#bd3786"
             ],
             [
              0.5555555555555556,
              "#d8576b"
             ],
             [
              0.6666666666666666,
              "#ed7953"
             ],
             [
              0.7777777777777778,
              "#fb9f3a"
             ],
             [
              0.8888888888888888,
              "#fdca26"
             ],
             [
              1,
              "#f0f921"
             ]
            ],
            "type": "heatmap"
           }
          ],
          "heatmapgl": [
           {
            "colorbar": {
             "outlinewidth": 0,
             "ticks": ""
            },
            "colorscale": [
             [
              0,
              "#0d0887"
             ],
             [
              0.1111111111111111,
              "#46039f"
             ],
             [
              0.2222222222222222,
              "#7201a8"
             ],
             [
              0.3333333333333333,
              "#9c179e"
             ],
             [
              0.4444444444444444,
              "#bd3786"
             ],
             [
              0.5555555555555556,
              "#d8576b"
             ],
             [
              0.6666666666666666,
              "#ed7953"
             ],
             [
              0.7777777777777778,
              "#fb9f3a"
             ],
             [
              0.8888888888888888,
              "#fdca26"
             ],
             [
              1,
              "#f0f921"
             ]
            ],
            "type": "heatmapgl"
           }
          ],
          "histogram": [
           {
            "marker": {
             "pattern": {
              "fillmode": "overlay",
              "size": 10,
              "solidity": 0.2
             }
            },
            "type": "histogram"
           }
          ],
          "histogram2d": [
           {
            "colorbar": {
             "outlinewidth": 0,
             "ticks": ""
            },
            "colorscale": [
             [
              0,
              "#0d0887"
             ],
             [
              0.1111111111111111,
              "#46039f"
             ],
             [
              0.2222222222222222,
              "#7201a8"
             ],
             [
              0.3333333333333333,
              "#9c179e"
             ],
             [
              0.4444444444444444,
              "#bd3786"
             ],
             [
              0.5555555555555556,
              "#d8576b"
             ],
             [
              0.6666666666666666,
              "#ed7953"
             ],
             [
              0.7777777777777778,
              "#fb9f3a"
             ],
             [
              0.8888888888888888,
              "#fdca26"
             ],
             [
              1,
              "#f0f921"
             ]
            ],
            "type": "histogram2d"
           }
          ],
          "histogram2dcontour": [
           {
            "colorbar": {
             "outlinewidth": 0,
             "ticks": ""
            },
            "colorscale": [
             [
              0,
              "#0d0887"
             ],
             [
              0.1111111111111111,
              "#46039f"
             ],
             [
              0.2222222222222222,
              "#7201a8"
             ],
             [
              0.3333333333333333,
              "#9c179e"
             ],
             [
              0.4444444444444444,
              "#bd3786"
             ],
             [
              0.5555555555555556,
              "#d8576b"
             ],
             [
              0.6666666666666666,
              "#ed7953"
             ],
             [
              0.7777777777777778,
              "#fb9f3a"
             ],
             [
              0.8888888888888888,
              "#fdca26"
             ],
             [
              1,
              "#f0f921"
             ]
            ],
            "type": "histogram2dcontour"
           }
          ],
          "mesh3d": [
           {
            "colorbar": {
             "outlinewidth": 0,
             "ticks": ""
            },
            "type": "mesh3d"
           }
          ],
          "parcoords": [
           {
            "line": {
             "colorbar": {
              "outlinewidth": 0,
              "ticks": ""
             }
            },
            "type": "parcoords"
           }
          ],
          "pie": [
           {
            "automargin": true,
            "type": "pie"
           }
          ],
          "scatter": [
           {
            "marker": {
             "colorbar": {
              "outlinewidth": 0,
              "ticks": ""
             }
            },
            "type": "scatter"
           }
          ],
          "scatter3d": [
           {
            "line": {
             "colorbar": {
              "outlinewidth": 0,
              "ticks": ""
             }
            },
            "marker": {
             "colorbar": {
              "outlinewidth": 0,
              "ticks": ""
             }
            },
            "type": "scatter3d"
           }
          ],
          "scattercarpet": [
           {
            "marker": {
             "colorbar": {
              "outlinewidth": 0,
              "ticks": ""
             }
            },
            "type": "scattercarpet"
           }
          ],
          "scattergeo": [
           {
            "marker": {
             "colorbar": {
              "outlinewidth": 0,
              "ticks": ""
             }
            },
            "type": "scattergeo"
           }
          ],
          "scattergl": [
           {
            "marker": {
             "colorbar": {
              "outlinewidth": 0,
              "ticks": ""
             }
            },
            "type": "scattergl"
           }
          ],
          "scattermapbox": [
           {
            "marker": {
             "colorbar": {
              "outlinewidth": 0,
              "ticks": ""
             }
            },
            "type": "scattermapbox"
           }
          ],
          "scatterpolar": [
           {
            "marker": {
             "colorbar": {
              "outlinewidth": 0,
              "ticks": ""
             }
            },
            "type": "scatterpolar"
           }
          ],
          "scatterpolargl": [
           {
            "marker": {
             "colorbar": {
              "outlinewidth": 0,
              "ticks": ""
             }
            },
            "type": "scatterpolargl"
           }
          ],
          "scatterternary": [
           {
            "marker": {
             "colorbar": {
              "outlinewidth": 0,
              "ticks": ""
             }
            },
            "type": "scatterternary"
           }
          ],
          "surface": [
           {
            "colorbar": {
             "outlinewidth": 0,
             "ticks": ""
            },
            "colorscale": [
             [
              0,
              "#0d0887"
             ],
             [
              0.1111111111111111,
              "#46039f"
             ],
             [
              0.2222222222222222,
              "#7201a8"
             ],
             [
              0.3333333333333333,
              "#9c179e"
             ],
             [
              0.4444444444444444,
              "#bd3786"
             ],
             [
              0.5555555555555556,
              "#d8576b"
             ],
             [
              0.6666666666666666,
              "#ed7953"
             ],
             [
              0.7777777777777778,
              "#fb9f3a"
             ],
             [
              0.8888888888888888,
              "#fdca26"
             ],
             [
              1,
              "#f0f921"
             ]
            ],
            "type": "surface"
           }
          ],
          "table": [
           {
            "cells": {
             "fill": {
              "color": "#EBF0F8"
             },
             "line": {
              "color": "white"
             }
            },
            "header": {
             "fill": {
              "color": "#C8D4E3"
             },
             "line": {
              "color": "white"
             }
            },
            "type": "table"
           }
          ]
         },
         "layout": {
          "annotationdefaults": {
           "arrowcolor": "#2a3f5f",
           "arrowhead": 0,
           "arrowwidth": 1
          },
          "autotypenumbers": "strict",
          "coloraxis": {
           "colorbar": {
            "outlinewidth": 0,
            "ticks": ""
           }
          },
          "colorscale": {
           "diverging": [
            [
             0,
             "#8e0152"
            ],
            [
             0.1,
             "#c51b7d"
            ],
            [
             0.2,
             "#de77ae"
            ],
            [
             0.3,
             "#f1b6da"
            ],
            [
             0.4,
             "#fde0ef"
            ],
            [
             0.5,
             "#f7f7f7"
            ],
            [
             0.6,
             "#e6f5d0"
            ],
            [
             0.7,
             "#b8e186"
            ],
            [
             0.8,
             "#7fbc41"
            ],
            [
             0.9,
             "#4d9221"
            ],
            [
             1,
             "#276419"
            ]
           ],
           "sequential": [
            [
             0,
             "#0d0887"
            ],
            [
             0.1111111111111111,
             "#46039f"
            ],
            [
             0.2222222222222222,
             "#7201a8"
            ],
            [
             0.3333333333333333,
             "#9c179e"
            ],
            [
             0.4444444444444444,
             "#bd3786"
            ],
            [
             0.5555555555555556,
             "#d8576b"
            ],
            [
             0.6666666666666666,
             "#ed7953"
            ],
            [
             0.7777777777777778,
             "#fb9f3a"
            ],
            [
             0.8888888888888888,
             "#fdca26"
            ],
            [
             1,
             "#f0f921"
            ]
           ],
           "sequentialminus": [
            [
             0,
             "#0d0887"
            ],
            [
             0.1111111111111111,
             "#46039f"
            ],
            [
             0.2222222222222222,
             "#7201a8"
            ],
            [
             0.3333333333333333,
             "#9c179e"
            ],
            [
             0.4444444444444444,
             "#bd3786"
            ],
            [
             0.5555555555555556,
             "#d8576b"
            ],
            [
             0.6666666666666666,
             "#ed7953"
            ],
            [
             0.7777777777777778,
             "#fb9f3a"
            ],
            [
             0.8888888888888888,
             "#fdca26"
            ],
            [
             1,
             "#f0f921"
            ]
           ]
          },
          "colorway": [
           "#636efa",
           "#EF553B",
           "#00cc96",
           "#ab63fa",
           "#FFA15A",
           "#19d3f3",
           "#FF6692",
           "#B6E880",
           "#FF97FF",
           "#FECB52"
          ],
          "font": {
           "color": "#2a3f5f"
          },
          "geo": {
           "bgcolor": "white",
           "lakecolor": "white",
           "landcolor": "#E5ECF6",
           "showlakes": true,
           "showland": true,
           "subunitcolor": "white"
          },
          "hoverlabel": {
           "align": "left"
          },
          "hovermode": "closest",
          "mapbox": {
           "style": "light"
          },
          "paper_bgcolor": "white",
          "plot_bgcolor": "#E5ECF6",
          "polar": {
           "angularaxis": {
            "gridcolor": "white",
            "linecolor": "white",
            "ticks": ""
           },
           "bgcolor": "#E5ECF6",
           "radialaxis": {
            "gridcolor": "white",
            "linecolor": "white",
            "ticks": ""
           }
          },
          "scene": {
           "xaxis": {
            "backgroundcolor": "#E5ECF6",
            "gridcolor": "white",
            "gridwidth": 2,
            "linecolor": "white",
            "showbackground": true,
            "ticks": "",
            "zerolinecolor": "white"
           },
           "yaxis": {
            "backgroundcolor": "#E5ECF6",
            "gridcolor": "white",
            "gridwidth": 2,
            "linecolor": "white",
            "showbackground": true,
            "ticks": "",
            "zerolinecolor": "white"
           },
           "zaxis": {
            "backgroundcolor": "#E5ECF6",
            "gridcolor": "white",
            "gridwidth": 2,
            "linecolor": "white",
            "showbackground": true,
            "ticks": "",
            "zerolinecolor": "white"
           }
          },
          "shapedefaults": {
           "line": {
            "color": "#2a3f5f"
           }
          },
          "ternary": {
           "aaxis": {
            "gridcolor": "white",
            "linecolor": "white",
            "ticks": ""
           },
           "baxis": {
            "gridcolor": "white",
            "linecolor": "white",
            "ticks": ""
           },
           "bgcolor": "#E5ECF6",
           "caxis": {
            "gridcolor": "white",
            "linecolor": "white",
            "ticks": ""
           }
          },
          "title": {
           "x": 0.05
          },
          "xaxis": {
           "automargin": true,
           "gridcolor": "white",
           "linecolor": "white",
           "ticks": "",
           "title": {
            "standoff": 15
           },
           "zerolinecolor": "white",
           "zerolinewidth": 2
          },
          "yaxis": {
           "automargin": true,
           "gridcolor": "white",
           "linecolor": "white",
           "ticks": "",
           "title": {
            "standoff": 15
           },
           "zerolinecolor": "white",
           "zerolinewidth": 2
          }
         }
        },
        "title": {
         "text": "Predicted Label for truckers Tweets"
        },
        "xaxis": {
         "anchor": "y",
         "domain": [
          0,
          1
         ],
         "title": {
          "text": "label"
         }
        },
        "yaxis": {
         "anchor": "x",
         "domain": [
          0,
          1
         ],
         "title": {
          "text": "count"
         }
        }
       }
      },
      "text/html": [
       "<div>                            <div id=\"2c3094ca-603e-4de1-9fa1-ef24dc25e031\" class=\"plotly-graph-div\" style=\"height:525px; width:100%;\"></div>            <script type=\"text/javascript\">                require([\"plotly\"], function(Plotly) {                    window.PLOTLYENV=window.PLOTLYENV || {};                                    if (document.getElementById(\"2c3094ca-603e-4de1-9fa1-ef24dc25e031\")) {                    Plotly.newPlot(                        \"2c3094ca-603e-4de1-9fa1-ef24dc25e031\",                        [{\"alignmentgroup\":\"True\",\"bingroup\":\"x\",\"hovertemplate\":\"label=%{x}<br>count=%{y}<extra></extra>\",\"legendgroup\":\"\",\"marker\":{\"color\":\"#636efa\",\"pattern\":{\"shape\":\"\"}},\"name\":\"\",\"offsetgroup\":\"\",\"orientation\":\"v\",\"showlegend\":false,\"type\":\"histogram\",\"x\":[0,0,0,0,0,0,0,0,0,0,0,0,0,0,0,0,1,0,0,0,0,0,0,0,0,0,0,0,0,0,0,0,0,0,0,1,0,0,0,0,0,0,0,0,1,0,0,0,0,0,0,0,1,0,0,0,0,0,0,0,0,0,0,0,0,0,0,0,0,0,0,0,0,0,0,0,0,0,1,0,0,0,0,0,0,0,0,0,0,0,0,1,0,0,0,0,0,0,0,0,0,0,0,0,0,0,0,0,0,0,0,1,0,0,0,0,0,0,0,0,0,0,0,0,0,0,0,0,0,0,0,0,0,0,0,0,0,0,0,0,0,0,0,0,0,0,0,0,0,0,1,0,0,0,0,0,0,0,0,0,0,0,0,0,0,0,0,0,0,1,0,0,0,0,0,0,0,0,0,0,0,0,1,0,0,0,0,0,0,0,1,0,0,0,0,0,0,0,0,0,0,0,0,0,0,0,0,0,0,0,0,0,0,0,1,0,0,0,0,0,1,0,1,0,0,0,0,0,0,0,0,0,0,0,0,0,0,0,0,0,0,0,0,0,0,0,0,0,0,0,0,0,0,0,0,0,0,0,0,0,0,0,0,0,0,0,0,0,0,0,0,0,0,0,0,0,0,0,0,0,0,0,0,0,0,0,0,0,0,0,0,0,1,0,0,0,0,1,0,0,0,0,0,0,0,0,0,0,0,0,0,0,1,0,0,0,0,0,0,0,0,1,0,0,0,0,0,0,0,0,0,0,0,0,0,0,0,0,0,0,0,1,0,0,1,0,0,0,0,0,0,0,0,0,1,1,0,0,0,0,0,0,0,0,0,0,1,0,0,1,0,0,0,0,0,0,0,0,0,0,0,0,0,0,0,0,0,0,0,0,0,0,0,0,0,0,0,0,0,0,0,0,0,0,0,0,0,0,0,0,0,0,0,0,0,0,0,0,0,0,0,0,0,0,0,0,0,0,0,0,0,0,0,0,0,0,0,0,0,1,0,0,0,0,0,0,0,0,0,0,0,0,0,0,1,0,1,0,1,0,0,0,0,0,1,0,0,0,0,1,0,0,0,0,0,0,1,0,0,0,0,0,0,0,1,0,0,0,0,0,1,0,0,0,0,1,0,0,0,0,0,0,0,0,0,0,0,0,0,0,0,0,0,1,0,0,0,0,0,0,0,0,0,0,0,1,0,0,1,0,0,0,0,0,0,0,0,0,0,0,0,0,0,0,1,0,0,0,0,0,0,0,0,0,0,0,0,1,0,0,0,0,0,0,0,0,0,0,0,0,0,0,0,0,0,0,0,0,0,0,0,0,0,0,0,0,0,0,0,0,0,0,0,0,0,1,1,0,0,0,0,0,0,0,0,0,0,0,1,0,0,0,0,0,1,0,0,0,0,0,0,1,0,0,0,1,0,0,0,0,0,0,1,0,0,0,0,0,0,0,1,0,0,0,0,0,0,0,0,0,0,0,0,0,0,0,0,0,0,0,0,0,0,0,0,0,0,0,0,0,0,0,1,0,0,0,0,0,0,0,1,0,0,0,0,0,0,0,0,0,0,0,0,0,0,0,0,0,0,0,1,0,0,0,0,0,0,0,0,0,0,0,0,0,0,0,1,0,1,0,0,0,0,0,0,0,0,0,0,0,0,0,0,1,0,0,1,0,0,0,0,0,0,0,0,0,0,1,0,0,0,0,0,0,0,0,0,0,1,0,0,0,0,0,0,0,0,0,0,0,0,1,0,0,0,0,0,0,0,0,0,0,0,0,0,0,0,0,0,0,0,0,0,0,0,1,0,0,0,0,0,0,0,0,0,0,0,0,0,0,0,0,0,0,0,0,0,0,0,0,0,0,0,1,0,0,0,0,0,0,0,0,0,0,0,0,0,0,0,0,0,0,0,0,0,0,0,0,0,0,0,0,0,0,0,0,1,0,0,0,0,0,0,0,0,0,0,0,0,0,1,0,0,0,0,1,0,1,0,0,0,0,0,0,0,0,0,0,0,0,0,0,0,0,0,0,0,0,0,0,0,1,0,0,0,0,0,0,0,0,0,0,0,0,0,0,0,0,0,0,0,0,0,0,0,0,0,0,0,0,0,0,0,0,0,0,1,0,0,0,0,0,0,0,0,0,1,0,0,0,0,0,1,0,0,0,0,0,1,0,0,0,0,0,0,0,0,0,0,0,0,0,0,0,0,0,0,0,0,0,0,0,0,0,1,0,0,0,0,0,0,0,0,0,1,0,0,0,0,0,0,0,0,1,0,0,0,0,0,0,0,0,0,0,1,0,0,0,0,1,0,0,0,0,0,0,0,0,0,0,0,0,0,0,0,0,0,0,0,0,0,0,0,0,0,0,0,0,0,0,0,1,0,0,0,0,0,0,0,0,0,0,0,0,0,0,0,0,0,0,0,0,0,0,0,0,0,0,0,0,0,0,1,0,0,0,0,0,0,0,0,0,0,0,0,0,1,0,0,0,0,0,0,0,0,0,0,0,0,0,0,0,0,0,0,0,0,0,1,0,0,0,0,0,0,0,0,0,0,0,0,0,0,0,0,0,0,0,0,0,0,1,0,0,0,0,0,0,1,0,0,0,1,0,0,0,0,0,0,0,0,0,1,0,0,0,0,1,0,0,0,0,0,0,0,0,0,0,1,0,0,0,1,0,0,0,0,0,0,0,0,0,0,0,1,0,0,0,0,0,0,0,0,0,0,0,0,0,0,0,0,0,0,0,0,0,0,0,0,0,0,0,0,0,0,0,0,0,0,0,0,0,0,0,0,0,0,0,0,0,0,0,0,0,0,0,0,0,0,0,0,0,0,0,0,0,0,0,0,0,0,0,0,0,0,0,0,0,0,0,0,0,1,0,0,0,0,0,0,0,0,0,0,0,0,0,0,0,0,0,0,0,0,0,0,1,0,0,0,0,0,0,0,0,0,1,0,0,0,0,0,0,0,0,0,0,0,0,0,0,0,0,0,0,0,1,0,0,0,0,0,0,0,0,0,0,1,0,0,0,0,0,0,0,0,0,0,0,0,0,0,0,0,0,0,0,0,0,0,0,0,0,0,0,0,0,0,0,0,0,0,0,0,0,0,0,0,0,0,0,0,0,0,0,0,0,0,0,0,0,0,0,0,0,0,0,0,1,1,0,0,0,0,0,1,0,0,1,0,0,0,0,1,0,0,0,0,0,0,0,0,1,0,0,0,0,0,0,0,0,0,0,0,0,0,0,0,0,0,0,0,0,0,0,0,0,0,0,0,0,0,0,0,0,0,0,0,0,0,0,0,0,0,1,0,0,0,1,0,0,0,0,0,0,0,0,0,0,0,0,0,0,0,0,0,0,0,0,0,0,0,0,1,0,0,0,0,0,0,0,0,0,0,0,0,0,0,0,0,0,0,0,0,0,0,0,0,0,1,0,1,0,0,0,0,0,0,0,0,0,0,0,0,0,0,1,0,0,0,0,0,0,0,0,0,0,0,0,0,0,0,0,0,0,0,0,0,0,0,0,0,0,0,0,0,0,0,0,0,0,0,0,0,0,0,0,0,0,0,0,0,0,0,0,0,0,0,0,0,0,0,0,0,0,0,0,0,0,0,0,0,0,0,0,0,0,0,0,0,0,0,0,0,0,0,0,0,0,0,0,0,1,0,0,0,0,0,0,0,0,0,0,0,0,0,0,0,0,0,0,1,0,0,0,0,0,0,0,0,0,0,0,0,0,0,0,0,1,1,0,0,0,0,0,0,0,0,1,0,0,0,1,0,0,0,0,0,0,0,0,0,0,0,0,0,0,0,0,0,0,0,0,0,0,0,0,0,0,0,0,0,0,0,0,0,0,0,0,0,0,0,0,0,0,0,0,0,0,0,0,0,0,0,0,0,0,0,0,0,0,0,0,1,0,0,0,0,0,0,0,0,0,0,0,0,0,0,0,0,0,0,0,0,0,0,0,0,0,0,0,0,0,0,0,0,0,0,0,0,0,0,0,0,0,0,0,1,0,1,0,0,0,0,0,0,0,0,0,0,0,0,0,0,0,0,0,0,0,0,0],\"xaxis\":\"x\",\"yaxis\":\"y\"}],                        {\"bargap\":0.2,\"barmode\":\"relative\",\"legend\":{\"tracegroupgap\":0},\"template\":{\"data\":{\"bar\":[{\"error_x\":{\"color\":\"#2a3f5f\"},\"error_y\":{\"color\":\"#2a3f5f\"},\"marker\":{\"line\":{\"color\":\"#E5ECF6\",\"width\":0.5},\"pattern\":{\"fillmode\":\"overlay\",\"size\":10,\"solidity\":0.2}},\"type\":\"bar\"}],\"barpolar\":[{\"marker\":{\"line\":{\"color\":\"#E5ECF6\",\"width\":0.5},\"pattern\":{\"fillmode\":\"overlay\",\"size\":10,\"solidity\":0.2}},\"type\":\"barpolar\"}],\"carpet\":[{\"aaxis\":{\"endlinecolor\":\"#2a3f5f\",\"gridcolor\":\"white\",\"linecolor\":\"white\",\"minorgridcolor\":\"white\",\"startlinecolor\":\"#2a3f5f\"},\"baxis\":{\"endlinecolor\":\"#2a3f5f\",\"gridcolor\":\"white\",\"linecolor\":\"white\",\"minorgridcolor\":\"white\",\"startlinecolor\":\"#2a3f5f\"},\"type\":\"carpet\"}],\"choropleth\":[{\"colorbar\":{\"outlinewidth\":0,\"ticks\":\"\"},\"type\":\"choropleth\"}],\"contour\":[{\"colorbar\":{\"outlinewidth\":0,\"ticks\":\"\"},\"colorscale\":[[0.0,\"#0d0887\"],[0.1111111111111111,\"#46039f\"],[0.2222222222222222,\"#7201a8\"],[0.3333333333333333,\"#9c179e\"],[0.4444444444444444,\"#bd3786\"],[0.5555555555555556,\"#d8576b\"],[0.6666666666666666,\"#ed7953\"],[0.7777777777777778,\"#fb9f3a\"],[0.8888888888888888,\"#fdca26\"],[1.0,\"#f0f921\"]],\"type\":\"contour\"}],\"contourcarpet\":[{\"colorbar\":{\"outlinewidth\":0,\"ticks\":\"\"},\"type\":\"contourcarpet\"}],\"heatmap\":[{\"colorbar\":{\"outlinewidth\":0,\"ticks\":\"\"},\"colorscale\":[[0.0,\"#0d0887\"],[0.1111111111111111,\"#46039f\"],[0.2222222222222222,\"#7201a8\"],[0.3333333333333333,\"#9c179e\"],[0.4444444444444444,\"#bd3786\"],[0.5555555555555556,\"#d8576b\"],[0.6666666666666666,\"#ed7953\"],[0.7777777777777778,\"#fb9f3a\"],[0.8888888888888888,\"#fdca26\"],[1.0,\"#f0f921\"]],\"type\":\"heatmap\"}],\"heatmapgl\":[{\"colorbar\":{\"outlinewidth\":0,\"ticks\":\"\"},\"colorscale\":[[0.0,\"#0d0887\"],[0.1111111111111111,\"#46039f\"],[0.2222222222222222,\"#7201a8\"],[0.3333333333333333,\"#9c179e\"],[0.4444444444444444,\"#bd3786\"],[0.5555555555555556,\"#d8576b\"],[0.6666666666666666,\"#ed7953\"],[0.7777777777777778,\"#fb9f3a\"],[0.8888888888888888,\"#fdca26\"],[1.0,\"#f0f921\"]],\"type\":\"heatmapgl\"}],\"histogram\":[{\"marker\":{\"pattern\":{\"fillmode\":\"overlay\",\"size\":10,\"solidity\":0.2}},\"type\":\"histogram\"}],\"histogram2d\":[{\"colorbar\":{\"outlinewidth\":0,\"ticks\":\"\"},\"colorscale\":[[0.0,\"#0d0887\"],[0.1111111111111111,\"#46039f\"],[0.2222222222222222,\"#7201a8\"],[0.3333333333333333,\"#9c179e\"],[0.4444444444444444,\"#bd3786\"],[0.5555555555555556,\"#d8576b\"],[0.6666666666666666,\"#ed7953\"],[0.7777777777777778,\"#fb9f3a\"],[0.8888888888888888,\"#fdca26\"],[1.0,\"#f0f921\"]],\"type\":\"histogram2d\"}],\"histogram2dcontour\":[{\"colorbar\":{\"outlinewidth\":0,\"ticks\":\"\"},\"colorscale\":[[0.0,\"#0d0887\"],[0.1111111111111111,\"#46039f\"],[0.2222222222222222,\"#7201a8\"],[0.3333333333333333,\"#9c179e\"],[0.4444444444444444,\"#bd3786\"],[0.5555555555555556,\"#d8576b\"],[0.6666666666666666,\"#ed7953\"],[0.7777777777777778,\"#fb9f3a\"],[0.8888888888888888,\"#fdca26\"],[1.0,\"#f0f921\"]],\"type\":\"histogram2dcontour\"}],\"mesh3d\":[{\"colorbar\":{\"outlinewidth\":0,\"ticks\":\"\"},\"type\":\"mesh3d\"}],\"parcoords\":[{\"line\":{\"colorbar\":{\"outlinewidth\":0,\"ticks\":\"\"}},\"type\":\"parcoords\"}],\"pie\":[{\"automargin\":true,\"type\":\"pie\"}],\"scatter\":[{\"marker\":{\"colorbar\":{\"outlinewidth\":0,\"ticks\":\"\"}},\"type\":\"scatter\"}],\"scatter3d\":[{\"line\":{\"colorbar\":{\"outlinewidth\":0,\"ticks\":\"\"}},\"marker\":{\"colorbar\":{\"outlinewidth\":0,\"ticks\":\"\"}},\"type\":\"scatter3d\"}],\"scattercarpet\":[{\"marker\":{\"colorbar\":{\"outlinewidth\":0,\"ticks\":\"\"}},\"type\":\"scattercarpet\"}],\"scattergeo\":[{\"marker\":{\"colorbar\":{\"outlinewidth\":0,\"ticks\":\"\"}},\"type\":\"scattergeo\"}],\"scattergl\":[{\"marker\":{\"colorbar\":{\"outlinewidth\":0,\"ticks\":\"\"}},\"type\":\"scattergl\"}],\"scattermapbox\":[{\"marker\":{\"colorbar\":{\"outlinewidth\":0,\"ticks\":\"\"}},\"type\":\"scattermapbox\"}],\"scatterpolar\":[{\"marker\":{\"colorbar\":{\"outlinewidth\":0,\"ticks\":\"\"}},\"type\":\"scatterpolar\"}],\"scatterpolargl\":[{\"marker\":{\"colorbar\":{\"outlinewidth\":0,\"ticks\":\"\"}},\"type\":\"scatterpolargl\"}],\"scatterternary\":[{\"marker\":{\"colorbar\":{\"outlinewidth\":0,\"ticks\":\"\"}},\"type\":\"scatterternary\"}],\"surface\":[{\"colorbar\":{\"outlinewidth\":0,\"ticks\":\"\"},\"colorscale\":[[0.0,\"#0d0887\"],[0.1111111111111111,\"#46039f\"],[0.2222222222222222,\"#7201a8\"],[0.3333333333333333,\"#9c179e\"],[0.4444444444444444,\"#bd3786\"],[0.5555555555555556,\"#d8576b\"],[0.6666666666666666,\"#ed7953\"],[0.7777777777777778,\"#fb9f3a\"],[0.8888888888888888,\"#fdca26\"],[1.0,\"#f0f921\"]],\"type\":\"surface\"}],\"table\":[{\"cells\":{\"fill\":{\"color\":\"#EBF0F8\"},\"line\":{\"color\":\"white\"}},\"header\":{\"fill\":{\"color\":\"#C8D4E3\"},\"line\":{\"color\":\"white\"}},\"type\":\"table\"}]},\"layout\":{\"annotationdefaults\":{\"arrowcolor\":\"#2a3f5f\",\"arrowhead\":0,\"arrowwidth\":1},\"autotypenumbers\":\"strict\",\"coloraxis\":{\"colorbar\":{\"outlinewidth\":0,\"ticks\":\"\"}},\"colorscale\":{\"diverging\":[[0,\"#8e0152\"],[0.1,\"#c51b7d\"],[0.2,\"#de77ae\"],[0.3,\"#f1b6da\"],[0.4,\"#fde0ef\"],[0.5,\"#f7f7f7\"],[0.6,\"#e6f5d0\"],[0.7,\"#b8e186\"],[0.8,\"#7fbc41\"],[0.9,\"#4d9221\"],[1,\"#276419\"]],\"sequential\":[[0.0,\"#0d0887\"],[0.1111111111111111,\"#46039f\"],[0.2222222222222222,\"#7201a8\"],[0.3333333333333333,\"#9c179e\"],[0.4444444444444444,\"#bd3786\"],[0.5555555555555556,\"#d8576b\"],[0.6666666666666666,\"#ed7953\"],[0.7777777777777778,\"#fb9f3a\"],[0.8888888888888888,\"#fdca26\"],[1.0,\"#f0f921\"]],\"sequentialminus\":[[0.0,\"#0d0887\"],[0.1111111111111111,\"#46039f\"],[0.2222222222222222,\"#7201a8\"],[0.3333333333333333,\"#9c179e\"],[0.4444444444444444,\"#bd3786\"],[0.5555555555555556,\"#d8576b\"],[0.6666666666666666,\"#ed7953\"],[0.7777777777777778,\"#fb9f3a\"],[0.8888888888888888,\"#fdca26\"],[1.0,\"#f0f921\"]]},\"colorway\":[\"#636efa\",\"#EF553B\",\"#00cc96\",\"#ab63fa\",\"#FFA15A\",\"#19d3f3\",\"#FF6692\",\"#B6E880\",\"#FF97FF\",\"#FECB52\"],\"font\":{\"color\":\"#2a3f5f\"},\"geo\":{\"bgcolor\":\"white\",\"lakecolor\":\"white\",\"landcolor\":\"#E5ECF6\",\"showlakes\":true,\"showland\":true,\"subunitcolor\":\"white\"},\"hoverlabel\":{\"align\":\"left\"},\"hovermode\":\"closest\",\"mapbox\":{\"style\":\"light\"},\"paper_bgcolor\":\"white\",\"plot_bgcolor\":\"#E5ECF6\",\"polar\":{\"angularaxis\":{\"gridcolor\":\"white\",\"linecolor\":\"white\",\"ticks\":\"\"},\"bgcolor\":\"#E5ECF6\",\"radialaxis\":{\"gridcolor\":\"white\",\"linecolor\":\"white\",\"ticks\":\"\"}},\"scene\":{\"xaxis\":{\"backgroundcolor\":\"#E5ECF6\",\"gridcolor\":\"white\",\"gridwidth\":2,\"linecolor\":\"white\",\"showbackground\":true,\"ticks\":\"\",\"zerolinecolor\":\"white\"},\"yaxis\":{\"backgroundcolor\":\"#E5ECF6\",\"gridcolor\":\"white\",\"gridwidth\":2,\"linecolor\":\"white\",\"showbackground\":true,\"ticks\":\"\",\"zerolinecolor\":\"white\"},\"zaxis\":{\"backgroundcolor\":\"#E5ECF6\",\"gridcolor\":\"white\",\"gridwidth\":2,\"linecolor\":\"white\",\"showbackground\":true,\"ticks\":\"\",\"zerolinecolor\":\"white\"}},\"shapedefaults\":{\"line\":{\"color\":\"#2a3f5f\"}},\"ternary\":{\"aaxis\":{\"gridcolor\":\"white\",\"linecolor\":\"white\",\"ticks\":\"\"},\"baxis\":{\"gridcolor\":\"white\",\"linecolor\":\"white\",\"ticks\":\"\"},\"bgcolor\":\"#E5ECF6\",\"caxis\":{\"gridcolor\":\"white\",\"linecolor\":\"white\",\"ticks\":\"\"}},\"title\":{\"x\":0.05},\"xaxis\":{\"automargin\":true,\"gridcolor\":\"white\",\"linecolor\":\"white\",\"ticks\":\"\",\"title\":{\"standoff\":15},\"zerolinecolor\":\"white\",\"zerolinewidth\":2},\"yaxis\":{\"automargin\":true,\"gridcolor\":\"white\",\"linecolor\":\"white\",\"ticks\":\"\",\"title\":{\"standoff\":15},\"zerolinecolor\":\"white\",\"zerolinewidth\":2}}},\"title\":{\"text\":\"Predicted Label for truckers Tweets\"},\"xaxis\":{\"anchor\":\"y\",\"domain\":[0.0,1.0],\"title\":{\"text\":\"label\"}},\"yaxis\":{\"anchor\":\"x\",\"domain\":[0.0,1.0],\"title\":{\"text\":\"count\"}}},                        {\"responsive\": true}                    ).then(function(){\n",
       "                            \n",
       "var gd = document.getElementById('2c3094ca-603e-4de1-9fa1-ef24dc25e031');\n",
       "var x = new MutationObserver(function (mutations, observer) {{\n",
       "        var display = window.getComputedStyle(gd).display;\n",
       "        if (!display || display === 'none') {{\n",
       "            console.log([gd, 'removed!']);\n",
       "            Plotly.purge(gd);\n",
       "            observer.disconnect();\n",
       "        }}\n",
       "}});\n",
       "\n",
       "// Listen for the removal of the full notebook cells\n",
       "var notebookContainer = gd.closest('#notebook-container');\n",
       "if (notebookContainer) {{\n",
       "    x.observe(notebookContainer, {childList: true});\n",
       "}}\n",
       "\n",
       "// Listen for the clearing of the current output cell\n",
       "var outputEl = gd.closest('.output');\n",
       "if (outputEl) {{\n",
       "    x.observe(outputEl, {childList: true});\n",
       "}}\n",
       "\n",
       "                        })                };                });            </script>        </div>"
      ]
     },
     "metadata": {},
     "output_type": "display_data"
    }
   ],
   "source": [
    "labeled_truckers_fig = px.histogram(\n",
    "    labeled_truckers_df, x='label',\n",
    "    title='Predicted Label for truckers Tweets'\n",
    ")\n",
    "labeled_truckers_fig.update_layout(bargap=0.2)\n",
    "offline.iplot(labeled_truckers_fig)"
   ]
  },
  {
   "cell_type": "code",
   "execution_count": 24,
   "metadata": {},
   "outputs": [
    {
     "data": {
      "application/vnd.plotly.v1+json": {
       "config": {
        "linkText": "Export to plot.ly",
        "plotlyServerURL": "https://plot.ly",
        "showLink": false
       },
       "data": [
        {
         "domain": {
          "x": [
           0,
           0.45
          ],
          "y": [
           0,
           1
          ]
         },
         "labels": [
          "Negative",
          "Positive"
         ],
         "name": "Label 0",
         "type": "pie",
         "values": [
          957,
          732
         ]
        },
        {
         "domain": {
          "x": [
           0.55,
           1
          ],
          "y": [
           0,
           1
          ]
         },
         "labels": [
          "Negative",
          "Positive"
         ],
         "name": "Label 1",
         "type": "pie",
         "values": [
          86,
          25
         ]
        }
       ],
       "layout": {
        "annotations": [
         {
          "font": {
           "size": 16
          },
          "showarrow": false,
          "text": "Prediction: 0",
          "x": 0.225,
          "xanchor": "center",
          "xref": "paper",
          "y": 1,
          "yanchor": "bottom",
          "yref": "paper"
         },
         {
          "font": {
           "size": 16
          },
          "showarrow": false,
          "text": "Prediction: 1",
          "x": 0.775,
          "xanchor": "center",
          "xref": "paper",
          "y": 1,
          "yanchor": "bottom",
          "yref": "paper"
         }
        ],
        "template": {
         "data": {
          "bar": [
           {
            "error_x": {
             "color": "#2a3f5f"
            },
            "error_y": {
             "color": "#2a3f5f"
            },
            "marker": {
             "line": {
              "color": "#E5ECF6",
              "width": 0.5
             },
             "pattern": {
              "fillmode": "overlay",
              "size": 10,
              "solidity": 0.2
             }
            },
            "type": "bar"
           }
          ],
          "barpolar": [
           {
            "marker": {
             "line": {
              "color": "#E5ECF6",
              "width": 0.5
             },
             "pattern": {
              "fillmode": "overlay",
              "size": 10,
              "solidity": 0.2
             }
            },
            "type": "barpolar"
           }
          ],
          "carpet": [
           {
            "aaxis": {
             "endlinecolor": "#2a3f5f",
             "gridcolor": "white",
             "linecolor": "white",
             "minorgridcolor": "white",
             "startlinecolor": "#2a3f5f"
            },
            "baxis": {
             "endlinecolor": "#2a3f5f",
             "gridcolor": "white",
             "linecolor": "white",
             "minorgridcolor": "white",
             "startlinecolor": "#2a3f5f"
            },
            "type": "carpet"
           }
          ],
          "choropleth": [
           {
            "colorbar": {
             "outlinewidth": 0,
             "ticks": ""
            },
            "type": "choropleth"
           }
          ],
          "contour": [
           {
            "colorbar": {
             "outlinewidth": 0,
             "ticks": ""
            },
            "colorscale": [
             [
              0,
              "#0d0887"
             ],
             [
              0.1111111111111111,
              "#46039f"
             ],
             [
              0.2222222222222222,
              "#7201a8"
             ],
             [
              0.3333333333333333,
              "#9c179e"
             ],
             [
              0.4444444444444444,
              "#bd3786"
             ],
             [
              0.5555555555555556,
              "#d8576b"
             ],
             [
              0.6666666666666666,
              "#ed7953"
             ],
             [
              0.7777777777777778,
              "#fb9f3a"
             ],
             [
              0.8888888888888888,
              "#fdca26"
             ],
             [
              1,
              "#f0f921"
             ]
            ],
            "type": "contour"
           }
          ],
          "contourcarpet": [
           {
            "colorbar": {
             "outlinewidth": 0,
             "ticks": ""
            },
            "type": "contourcarpet"
           }
          ],
          "heatmap": [
           {
            "colorbar": {
             "outlinewidth": 0,
             "ticks": ""
            },
            "colorscale": [
             [
              0,
              "#0d0887"
             ],
             [
              0.1111111111111111,
              "#46039f"
             ],
             [
              0.2222222222222222,
              "#7201a8"
             ],
             [
              0.3333333333333333,
              "#9c179e"
             ],
             [
              0.4444444444444444,
              "#bd3786"
             ],
             [
              0.5555555555555556,
              "#d8576b"
             ],
             [
              0.6666666666666666,
              "#ed7953"
             ],
             [
              0.7777777777777778,
              "#fb9f3a"
             ],
             [
              0.8888888888888888,
              "#fdca26"
             ],
             [
              1,
              "#f0f921"
             ]
            ],
            "type": "heatmap"
           }
          ],
          "heatmapgl": [
           {
            "colorbar": {
             "outlinewidth": 0,
             "ticks": ""
            },
            "colorscale": [
             [
              0,
              "#0d0887"
             ],
             [
              0.1111111111111111,
              "#46039f"
             ],
             [
              0.2222222222222222,
              "#7201a8"
             ],
             [
              0.3333333333333333,
              "#9c179e"
             ],
             [
              0.4444444444444444,
              "#bd3786"
             ],
             [
              0.5555555555555556,
              "#d8576b"
             ],
             [
              0.6666666666666666,
              "#ed7953"
             ],
             [
              0.7777777777777778,
              "#fb9f3a"
             ],
             [
              0.8888888888888888,
              "#fdca26"
             ],
             [
              1,
              "#f0f921"
             ]
            ],
            "type": "heatmapgl"
           }
          ],
          "histogram": [
           {
            "marker": {
             "pattern": {
              "fillmode": "overlay",
              "size": 10,
              "solidity": 0.2
             }
            },
            "type": "histogram"
           }
          ],
          "histogram2d": [
           {
            "colorbar": {
             "outlinewidth": 0,
             "ticks": ""
            },
            "colorscale": [
             [
              0,
              "#0d0887"
             ],
             [
              0.1111111111111111,
              "#46039f"
             ],
             [
              0.2222222222222222,
              "#7201a8"
             ],
             [
              0.3333333333333333,
              "#9c179e"
             ],
             [
              0.4444444444444444,
              "#bd3786"
             ],
             [
              0.5555555555555556,
              "#d8576b"
             ],
             [
              0.6666666666666666,
              "#ed7953"
             ],
             [
              0.7777777777777778,
              "#fb9f3a"
             ],
             [
              0.8888888888888888,
              "#fdca26"
             ],
             [
              1,
              "#f0f921"
             ]
            ],
            "type": "histogram2d"
           }
          ],
          "histogram2dcontour": [
           {
            "colorbar": {
             "outlinewidth": 0,
             "ticks": ""
            },
            "colorscale": [
             [
              0,
              "#0d0887"
             ],
             [
              0.1111111111111111,
              "#46039f"
             ],
             [
              0.2222222222222222,
              "#7201a8"
             ],
             [
              0.3333333333333333,
              "#9c179e"
             ],
             [
              0.4444444444444444,
              "#bd3786"
             ],
             [
              0.5555555555555556,
              "#d8576b"
             ],
             [
              0.6666666666666666,
              "#ed7953"
             ],
             [
              0.7777777777777778,
              "#fb9f3a"
             ],
             [
              0.8888888888888888,
              "#fdca26"
             ],
             [
              1,
              "#f0f921"
             ]
            ],
            "type": "histogram2dcontour"
           }
          ],
          "mesh3d": [
           {
            "colorbar": {
             "outlinewidth": 0,
             "ticks": ""
            },
            "type": "mesh3d"
           }
          ],
          "parcoords": [
           {
            "line": {
             "colorbar": {
              "outlinewidth": 0,
              "ticks": ""
             }
            },
            "type": "parcoords"
           }
          ],
          "pie": [
           {
            "automargin": true,
            "type": "pie"
           }
          ],
          "scatter": [
           {
            "marker": {
             "colorbar": {
              "outlinewidth": 0,
              "ticks": ""
             }
            },
            "type": "scatter"
           }
          ],
          "scatter3d": [
           {
            "line": {
             "colorbar": {
              "outlinewidth": 0,
              "ticks": ""
             }
            },
            "marker": {
             "colorbar": {
              "outlinewidth": 0,
              "ticks": ""
             }
            },
            "type": "scatter3d"
           }
          ],
          "scattercarpet": [
           {
            "marker": {
             "colorbar": {
              "outlinewidth": 0,
              "ticks": ""
             }
            },
            "type": "scattercarpet"
           }
          ],
          "scattergeo": [
           {
            "marker": {
             "colorbar": {
              "outlinewidth": 0,
              "ticks": ""
             }
            },
            "type": "scattergeo"
           }
          ],
          "scattergl": [
           {
            "marker": {
             "colorbar": {
              "outlinewidth": 0,
              "ticks": ""
             }
            },
            "type": "scattergl"
           }
          ],
          "scattermapbox": [
           {
            "marker": {
             "colorbar": {
              "outlinewidth": 0,
              "ticks": ""
             }
            },
            "type": "scattermapbox"
           }
          ],
          "scatterpolar": [
           {
            "marker": {
             "colorbar": {
              "outlinewidth": 0,
              "ticks": ""
             }
            },
            "type": "scatterpolar"
           }
          ],
          "scatterpolargl": [
           {
            "marker": {
             "colorbar": {
              "outlinewidth": 0,
              "ticks": ""
             }
            },
            "type": "scatterpolargl"
           }
          ],
          "scatterternary": [
           {
            "marker": {
             "colorbar": {
              "outlinewidth": 0,
              "ticks": ""
             }
            },
            "type": "scatterternary"
           }
          ],
          "surface": [
           {
            "colorbar": {
             "outlinewidth": 0,
             "ticks": ""
            },
            "colorscale": [
             [
              0,
              "#0d0887"
             ],
             [
              0.1111111111111111,
              "#46039f"
             ],
             [
              0.2222222222222222,
              "#7201a8"
             ],
             [
              0.3333333333333333,
              "#9c179e"
             ],
             [
              0.4444444444444444,
              "#bd3786"
             ],
             [
              0.5555555555555556,
              "#d8576b"
             ],
             [
              0.6666666666666666,
              "#ed7953"
             ],
             [
              0.7777777777777778,
              "#fb9f3a"
             ],
             [
              0.8888888888888888,
              "#fdca26"
             ],
             [
              1,
              "#f0f921"
             ]
            ],
            "type": "surface"
           }
          ],
          "table": [
           {
            "cells": {
             "fill": {
              "color": "#EBF0F8"
             },
             "line": {
              "color": "white"
             }
            },
            "header": {
             "fill": {
              "color": "#C8D4E3"
             },
             "line": {
              "color": "white"
             }
            },
            "type": "table"
           }
          ]
         },
         "layout": {
          "annotationdefaults": {
           "arrowcolor": "#2a3f5f",
           "arrowhead": 0,
           "arrowwidth": 1
          },
          "autotypenumbers": "strict",
          "coloraxis": {
           "colorbar": {
            "outlinewidth": 0,
            "ticks": ""
           }
          },
          "colorscale": {
           "diverging": [
            [
             0,
             "#8e0152"
            ],
            [
             0.1,
             "#c51b7d"
            ],
            [
             0.2,
             "#de77ae"
            ],
            [
             0.3,
             "#f1b6da"
            ],
            [
             0.4,
             "#fde0ef"
            ],
            [
             0.5,
             "#f7f7f7"
            ],
            [
             0.6,
             "#e6f5d0"
            ],
            [
             0.7,
             "#b8e186"
            ],
            [
             0.8,
             "#7fbc41"
            ],
            [
             0.9,
             "#4d9221"
            ],
            [
             1,
             "#276419"
            ]
           ],
           "sequential": [
            [
             0,
             "#0d0887"
            ],
            [
             0.1111111111111111,
             "#46039f"
            ],
            [
             0.2222222222222222,
             "#7201a8"
            ],
            [
             0.3333333333333333,
             "#9c179e"
            ],
            [
             0.4444444444444444,
             "#bd3786"
            ],
            [
             0.5555555555555556,
             "#d8576b"
            ],
            [
             0.6666666666666666,
             "#ed7953"
            ],
            [
             0.7777777777777778,
             "#fb9f3a"
            ],
            [
             0.8888888888888888,
             "#fdca26"
            ],
            [
             1,
             "#f0f921"
            ]
           ],
           "sequentialminus": [
            [
             0,
             "#0d0887"
            ],
            [
             0.1111111111111111,
             "#46039f"
            ],
            [
             0.2222222222222222,
             "#7201a8"
            ],
            [
             0.3333333333333333,
             "#9c179e"
            ],
            [
             0.4444444444444444,
             "#bd3786"
            ],
            [
             0.5555555555555556,
             "#d8576b"
            ],
            [
             0.6666666666666666,
             "#ed7953"
            ],
            [
             0.7777777777777778,
             "#fb9f3a"
            ],
            [
             0.8888888888888888,
             "#fdca26"
            ],
            [
             1,
             "#f0f921"
            ]
           ]
          },
          "colorway": [
           "#636efa",
           "#EF553B",
           "#00cc96",
           "#ab63fa",
           "#FFA15A",
           "#19d3f3",
           "#FF6692",
           "#B6E880",
           "#FF97FF",
           "#FECB52"
          ],
          "font": {
           "color": "#2a3f5f"
          },
          "geo": {
           "bgcolor": "white",
           "lakecolor": "white",
           "landcolor": "#E5ECF6",
           "showlakes": true,
           "showland": true,
           "subunitcolor": "white"
          },
          "hoverlabel": {
           "align": "left"
          },
          "hovermode": "closest",
          "mapbox": {
           "style": "light"
          },
          "paper_bgcolor": "white",
          "plot_bgcolor": "#E5ECF6",
          "polar": {
           "angularaxis": {
            "gridcolor": "white",
            "linecolor": "white",
            "ticks": ""
           },
           "bgcolor": "#E5ECF6",
           "radialaxis": {
            "gridcolor": "white",
            "linecolor": "white",
            "ticks": ""
           }
          },
          "scene": {
           "xaxis": {
            "backgroundcolor": "#E5ECF6",
            "gridcolor": "white",
            "gridwidth": 2,
            "linecolor": "white",
            "showbackground": true,
            "ticks": "",
            "zerolinecolor": "white"
           },
           "yaxis": {
            "backgroundcolor": "#E5ECF6",
            "gridcolor": "white",
            "gridwidth": 2,
            "linecolor": "white",
            "showbackground": true,
            "ticks": "",
            "zerolinecolor": "white"
           },
           "zaxis": {
            "backgroundcolor": "#E5ECF6",
            "gridcolor": "white",
            "gridwidth": 2,
            "linecolor": "white",
            "showbackground": true,
            "ticks": "",
            "zerolinecolor": "white"
           }
          },
          "shapedefaults": {
           "line": {
            "color": "#2a3f5f"
           }
          },
          "ternary": {
           "aaxis": {
            "gridcolor": "white",
            "linecolor": "white",
            "ticks": ""
           },
           "baxis": {
            "gridcolor": "white",
            "linecolor": "white",
            "ticks": ""
           },
           "bgcolor": "#E5ECF6",
           "caxis": {
            "gridcolor": "white",
            "linecolor": "white",
            "ticks": ""
           }
          },
          "title": {
           "x": 0.05
          },
          "xaxis": {
           "automargin": true,
           "gridcolor": "white",
           "linecolor": "white",
           "ticks": "",
           "title": {
            "standoff": 15
           },
           "zerolinecolor": "white",
           "zerolinewidth": 2
          },
          "yaxis": {
           "automargin": true,
           "gridcolor": "white",
           "linecolor": "white",
           "ticks": "",
           "title": {
            "standoff": 15
           },
           "zerolinecolor": "white",
           "zerolinewidth": 2
          }
         }
        },
        "title": {
         "text": "Sentiment Analysis for truckers Tweets"
        }
       }
      },
      "text/html": [
       "<div>                            <div id=\"fd9bc6c6-95ad-4be9-af54-0a4ffad303ae\" class=\"plotly-graph-div\" style=\"height:525px; width:100%;\"></div>            <script type=\"text/javascript\">                require([\"plotly\"], function(Plotly) {                    window.PLOTLYENV=window.PLOTLYENV || {};                                    if (document.getElementById(\"fd9bc6c6-95ad-4be9-af54-0a4ffad303ae\")) {                    Plotly.newPlot(                        \"fd9bc6c6-95ad-4be9-af54-0a4ffad303ae\",                        [{\"domain\":{\"x\":[0.0,0.45],\"y\":[0.0,1.0]},\"labels\":[\"Negative\",\"Positive\"],\"name\":\"Label 0\",\"type\":\"pie\",\"values\":[957.0,732.0]},{\"domain\":{\"x\":[0.55,1.0],\"y\":[0.0,1.0]},\"labels\":[\"Negative\",\"Positive\"],\"name\":\"Label 1\",\"type\":\"pie\",\"values\":[86.0,25.0]}],                        {\"annotations\":[{\"font\":{\"size\":16},\"showarrow\":false,\"text\":\"Prediction: 0\",\"x\":0.225,\"xanchor\":\"center\",\"xref\":\"paper\",\"y\":1.0,\"yanchor\":\"bottom\",\"yref\":\"paper\"},{\"font\":{\"size\":16},\"showarrow\":false,\"text\":\"Prediction: 1\",\"x\":0.775,\"xanchor\":\"center\",\"xref\":\"paper\",\"y\":1.0,\"yanchor\":\"bottom\",\"yref\":\"paper\"}],\"template\":{\"data\":{\"bar\":[{\"error_x\":{\"color\":\"#2a3f5f\"},\"error_y\":{\"color\":\"#2a3f5f\"},\"marker\":{\"line\":{\"color\":\"#E5ECF6\",\"width\":0.5},\"pattern\":{\"fillmode\":\"overlay\",\"size\":10,\"solidity\":0.2}},\"type\":\"bar\"}],\"barpolar\":[{\"marker\":{\"line\":{\"color\":\"#E5ECF6\",\"width\":0.5},\"pattern\":{\"fillmode\":\"overlay\",\"size\":10,\"solidity\":0.2}},\"type\":\"barpolar\"}],\"carpet\":[{\"aaxis\":{\"endlinecolor\":\"#2a3f5f\",\"gridcolor\":\"white\",\"linecolor\":\"white\",\"minorgridcolor\":\"white\",\"startlinecolor\":\"#2a3f5f\"},\"baxis\":{\"endlinecolor\":\"#2a3f5f\",\"gridcolor\":\"white\",\"linecolor\":\"white\",\"minorgridcolor\":\"white\",\"startlinecolor\":\"#2a3f5f\"},\"type\":\"carpet\"}],\"choropleth\":[{\"colorbar\":{\"outlinewidth\":0,\"ticks\":\"\"},\"type\":\"choropleth\"}],\"contour\":[{\"colorbar\":{\"outlinewidth\":0,\"ticks\":\"\"},\"colorscale\":[[0.0,\"#0d0887\"],[0.1111111111111111,\"#46039f\"],[0.2222222222222222,\"#7201a8\"],[0.3333333333333333,\"#9c179e\"],[0.4444444444444444,\"#bd3786\"],[0.5555555555555556,\"#d8576b\"],[0.6666666666666666,\"#ed7953\"],[0.7777777777777778,\"#fb9f3a\"],[0.8888888888888888,\"#fdca26\"],[1.0,\"#f0f921\"]],\"type\":\"contour\"}],\"contourcarpet\":[{\"colorbar\":{\"outlinewidth\":0,\"ticks\":\"\"},\"type\":\"contourcarpet\"}],\"heatmap\":[{\"colorbar\":{\"outlinewidth\":0,\"ticks\":\"\"},\"colorscale\":[[0.0,\"#0d0887\"],[0.1111111111111111,\"#46039f\"],[0.2222222222222222,\"#7201a8\"],[0.3333333333333333,\"#9c179e\"],[0.4444444444444444,\"#bd3786\"],[0.5555555555555556,\"#d8576b\"],[0.6666666666666666,\"#ed7953\"],[0.7777777777777778,\"#fb9f3a\"],[0.8888888888888888,\"#fdca26\"],[1.0,\"#f0f921\"]],\"type\":\"heatmap\"}],\"heatmapgl\":[{\"colorbar\":{\"outlinewidth\":0,\"ticks\":\"\"},\"colorscale\":[[0.0,\"#0d0887\"],[0.1111111111111111,\"#46039f\"],[0.2222222222222222,\"#7201a8\"],[0.3333333333333333,\"#9c179e\"],[0.4444444444444444,\"#bd3786\"],[0.5555555555555556,\"#d8576b\"],[0.6666666666666666,\"#ed7953\"],[0.7777777777777778,\"#fb9f3a\"],[0.8888888888888888,\"#fdca26\"],[1.0,\"#f0f921\"]],\"type\":\"heatmapgl\"}],\"histogram\":[{\"marker\":{\"pattern\":{\"fillmode\":\"overlay\",\"size\":10,\"solidity\":0.2}},\"type\":\"histogram\"}],\"histogram2d\":[{\"colorbar\":{\"outlinewidth\":0,\"ticks\":\"\"},\"colorscale\":[[0.0,\"#0d0887\"],[0.1111111111111111,\"#46039f\"],[0.2222222222222222,\"#7201a8\"],[0.3333333333333333,\"#9c179e\"],[0.4444444444444444,\"#bd3786\"],[0.5555555555555556,\"#d8576b\"],[0.6666666666666666,\"#ed7953\"],[0.7777777777777778,\"#fb9f3a\"],[0.8888888888888888,\"#fdca26\"],[1.0,\"#f0f921\"]],\"type\":\"histogram2d\"}],\"histogram2dcontour\":[{\"colorbar\":{\"outlinewidth\":0,\"ticks\":\"\"},\"colorscale\":[[0.0,\"#0d0887\"],[0.1111111111111111,\"#46039f\"],[0.2222222222222222,\"#7201a8\"],[0.3333333333333333,\"#9c179e\"],[0.4444444444444444,\"#bd3786\"],[0.5555555555555556,\"#d8576b\"],[0.6666666666666666,\"#ed7953\"],[0.7777777777777778,\"#fb9f3a\"],[0.8888888888888888,\"#fdca26\"],[1.0,\"#f0f921\"]],\"type\":\"histogram2dcontour\"}],\"mesh3d\":[{\"colorbar\":{\"outlinewidth\":0,\"ticks\":\"\"},\"type\":\"mesh3d\"}],\"parcoords\":[{\"line\":{\"colorbar\":{\"outlinewidth\":0,\"ticks\":\"\"}},\"type\":\"parcoords\"}],\"pie\":[{\"automargin\":true,\"type\":\"pie\"}],\"scatter\":[{\"marker\":{\"colorbar\":{\"outlinewidth\":0,\"ticks\":\"\"}},\"type\":\"scatter\"}],\"scatter3d\":[{\"line\":{\"colorbar\":{\"outlinewidth\":0,\"ticks\":\"\"}},\"marker\":{\"colorbar\":{\"outlinewidth\":0,\"ticks\":\"\"}},\"type\":\"scatter3d\"}],\"scattercarpet\":[{\"marker\":{\"colorbar\":{\"outlinewidth\":0,\"ticks\":\"\"}},\"type\":\"scattercarpet\"}],\"scattergeo\":[{\"marker\":{\"colorbar\":{\"outlinewidth\":0,\"ticks\":\"\"}},\"type\":\"scattergeo\"}],\"scattergl\":[{\"marker\":{\"colorbar\":{\"outlinewidth\":0,\"ticks\":\"\"}},\"type\":\"scattergl\"}],\"scattermapbox\":[{\"marker\":{\"colorbar\":{\"outlinewidth\":0,\"ticks\":\"\"}},\"type\":\"scattermapbox\"}],\"scatterpolar\":[{\"marker\":{\"colorbar\":{\"outlinewidth\":0,\"ticks\":\"\"}},\"type\":\"scatterpolar\"}],\"scatterpolargl\":[{\"marker\":{\"colorbar\":{\"outlinewidth\":0,\"ticks\":\"\"}},\"type\":\"scatterpolargl\"}],\"scatterternary\":[{\"marker\":{\"colorbar\":{\"outlinewidth\":0,\"ticks\":\"\"}},\"type\":\"scatterternary\"}],\"surface\":[{\"colorbar\":{\"outlinewidth\":0,\"ticks\":\"\"},\"colorscale\":[[0.0,\"#0d0887\"],[0.1111111111111111,\"#46039f\"],[0.2222222222222222,\"#7201a8\"],[0.3333333333333333,\"#9c179e\"],[0.4444444444444444,\"#bd3786\"],[0.5555555555555556,\"#d8576b\"],[0.6666666666666666,\"#ed7953\"],[0.7777777777777778,\"#fb9f3a\"],[0.8888888888888888,\"#fdca26\"],[1.0,\"#f0f921\"]],\"type\":\"surface\"}],\"table\":[{\"cells\":{\"fill\":{\"color\":\"#EBF0F8\"},\"line\":{\"color\":\"white\"}},\"header\":{\"fill\":{\"color\":\"#C8D4E3\"},\"line\":{\"color\":\"white\"}},\"type\":\"table\"}]},\"layout\":{\"annotationdefaults\":{\"arrowcolor\":\"#2a3f5f\",\"arrowhead\":0,\"arrowwidth\":1},\"autotypenumbers\":\"strict\",\"coloraxis\":{\"colorbar\":{\"outlinewidth\":0,\"ticks\":\"\"}},\"colorscale\":{\"diverging\":[[0,\"#8e0152\"],[0.1,\"#c51b7d\"],[0.2,\"#de77ae\"],[0.3,\"#f1b6da\"],[0.4,\"#fde0ef\"],[0.5,\"#f7f7f7\"],[0.6,\"#e6f5d0\"],[0.7,\"#b8e186\"],[0.8,\"#7fbc41\"],[0.9,\"#4d9221\"],[1,\"#276419\"]],\"sequential\":[[0.0,\"#0d0887\"],[0.1111111111111111,\"#46039f\"],[0.2222222222222222,\"#7201a8\"],[0.3333333333333333,\"#9c179e\"],[0.4444444444444444,\"#bd3786\"],[0.5555555555555556,\"#d8576b\"],[0.6666666666666666,\"#ed7953\"],[0.7777777777777778,\"#fb9f3a\"],[0.8888888888888888,\"#fdca26\"],[1.0,\"#f0f921\"]],\"sequentialminus\":[[0.0,\"#0d0887\"],[0.1111111111111111,\"#46039f\"],[0.2222222222222222,\"#7201a8\"],[0.3333333333333333,\"#9c179e\"],[0.4444444444444444,\"#bd3786\"],[0.5555555555555556,\"#d8576b\"],[0.6666666666666666,\"#ed7953\"],[0.7777777777777778,\"#fb9f3a\"],[0.8888888888888888,\"#fdca26\"],[1.0,\"#f0f921\"]]},\"colorway\":[\"#636efa\",\"#EF553B\",\"#00cc96\",\"#ab63fa\",\"#FFA15A\",\"#19d3f3\",\"#FF6692\",\"#B6E880\",\"#FF97FF\",\"#FECB52\"],\"font\":{\"color\":\"#2a3f5f\"},\"geo\":{\"bgcolor\":\"white\",\"lakecolor\":\"white\",\"landcolor\":\"#E5ECF6\",\"showlakes\":true,\"showland\":true,\"subunitcolor\":\"white\"},\"hoverlabel\":{\"align\":\"left\"},\"hovermode\":\"closest\",\"mapbox\":{\"style\":\"light\"},\"paper_bgcolor\":\"white\",\"plot_bgcolor\":\"#E5ECF6\",\"polar\":{\"angularaxis\":{\"gridcolor\":\"white\",\"linecolor\":\"white\",\"ticks\":\"\"},\"bgcolor\":\"#E5ECF6\",\"radialaxis\":{\"gridcolor\":\"white\",\"linecolor\":\"white\",\"ticks\":\"\"}},\"scene\":{\"xaxis\":{\"backgroundcolor\":\"#E5ECF6\",\"gridcolor\":\"white\",\"gridwidth\":2,\"linecolor\":\"white\",\"showbackground\":true,\"ticks\":\"\",\"zerolinecolor\":\"white\"},\"yaxis\":{\"backgroundcolor\":\"#E5ECF6\",\"gridcolor\":\"white\",\"gridwidth\":2,\"linecolor\":\"white\",\"showbackground\":true,\"ticks\":\"\",\"zerolinecolor\":\"white\"},\"zaxis\":{\"backgroundcolor\":\"#E5ECF6\",\"gridcolor\":\"white\",\"gridwidth\":2,\"linecolor\":\"white\",\"showbackground\":true,\"ticks\":\"\",\"zerolinecolor\":\"white\"}},\"shapedefaults\":{\"line\":{\"color\":\"#2a3f5f\"}},\"ternary\":{\"aaxis\":{\"gridcolor\":\"white\",\"linecolor\":\"white\",\"ticks\":\"\"},\"baxis\":{\"gridcolor\":\"white\",\"linecolor\":\"white\",\"ticks\":\"\"},\"bgcolor\":\"#E5ECF6\",\"caxis\":{\"gridcolor\":\"white\",\"linecolor\":\"white\",\"ticks\":\"\"}},\"title\":{\"x\":0.05},\"xaxis\":{\"automargin\":true,\"gridcolor\":\"white\",\"linecolor\":\"white\",\"ticks\":\"\",\"title\":{\"standoff\":15},\"zerolinecolor\":\"white\",\"zerolinewidth\":2},\"yaxis\":{\"automargin\":true,\"gridcolor\":\"white\",\"linecolor\":\"white\",\"ticks\":\"\",\"title\":{\"standoff\":15},\"zerolinecolor\":\"white\",\"zerolinewidth\":2}}},\"title\":{\"text\":\"Sentiment Analysis for truckers Tweets\"}},                        {\"responsive\": true}                    ).then(function(){\n",
       "                            \n",
       "var gd = document.getElementById('fd9bc6c6-95ad-4be9-af54-0a4ffad303ae');\n",
       "var x = new MutationObserver(function (mutations, observer) {{\n",
       "        var display = window.getComputedStyle(gd).display;\n",
       "        if (!display || display === 'none') {{\n",
       "            console.log([gd, 'removed!']);\n",
       "            Plotly.purge(gd);\n",
       "            observer.disconnect();\n",
       "        }}\n",
       "}});\n",
       "\n",
       "// Listen for the removal of the full notebook cells\n",
       "var notebookContainer = gd.closest('#notebook-container');\n",
       "if (notebookContainer) {{\n",
       "    x.observe(notebookContainer, {childList: true});\n",
       "}}\n",
       "\n",
       "// Listen for the clearing of the current output cell\n",
       "var outputEl = gd.closest('.output');\n",
       "if (outputEl) {{\n",
       "    x.observe(outputEl, {childList: true});\n",
       "}}\n",
       "\n",
       "                        })                };                });            </script>        </div>"
      ]
     },
     "metadata": {},
     "output_type": "display_data"
    }
   ],
   "source": [
    "truckers_pred_senti_fig = prediction_sentiment_figure(\n",
    "    labeled_truckers_df, 'truckers'\n",
    ")\n",
    "offline.iplot(truckers_pred_senti_fig)"
   ]
  },
  {
   "cell_type": "code",
   "execution_count": 25,
   "metadata": {},
   "outputs": [
    {
     "data": {
      "text/html": [
       "<div>\n",
       "<style scoped>\n",
       "    .dataframe tbody tr th:only-of-type {\n",
       "        vertical-align: middle;\n",
       "    }\n",
       "\n",
       "    .dataframe tbody tr th {\n",
       "        vertical-align: top;\n",
       "    }\n",
       "\n",
       "    .dataframe thead th {\n",
       "        text-align: right;\n",
       "    }\n",
       "</style>\n",
       "<table border=\"1\" class=\"dataframe\">\n",
       "  <thead>\n",
       "    <tr style=\"text-align: right;\">\n",
       "      <th></th>\n",
       "      <th>label</th>\n",
       "      <th>sentiment</th>\n",
       "    </tr>\n",
       "  </thead>\n",
       "  <tbody>\n",
       "    <tr>\n",
       "      <th>label</th>\n",
       "      <td>1.000000</td>\n",
       "      <td>0.101438</td>\n",
       "    </tr>\n",
       "    <tr>\n",
       "      <th>sentiment</th>\n",
       "      <td>0.101438</td>\n",
       "      <td>1.000000</td>\n",
       "    </tr>\n",
       "  </tbody>\n",
       "</table>\n",
       "</div>"
      ],
      "text/plain": [
       "              label  sentiment\n",
       "label      1.000000   0.101438\n",
       "sentiment  0.101438   1.000000"
      ]
     },
     "execution_count": 25,
     "metadata": {},
     "output_type": "execute_result"
    }
   ],
   "source": [
    "labeled_truckers_df[['label', 'sentiment']].corr(method='spearman')"
   ]
  }
 ],
 "metadata": {
  "interpreter": {
   "hash": "40d3a090f54c6569ab1632332b64b2c03c39dcf918b08424e98f38b5ae0af88f"
  },
  "kernelspec": {
   "display_name": "mybase",
   "language": "python",
   "name": "mybase"
  },
  "language_info": {
   "codemirror_mode": {
    "name": "ipython",
    "version": 3
   },
   "file_extension": ".py",
   "mimetype": "text/x-python",
   "name": "python",
   "nbconvert_exporter": "python",
   "pygments_lexer": "ipython3",
   "version": "3.8.3"
  }
 },
 "nbformat": 4,
 "nbformat_minor": 4
}
