{
 "cells": [
  {
   "cell_type": "code",
   "execution_count": 1,
   "metadata": {},
   "outputs": [
    {
     "data": {
      "text/html": [
       "        <script type=\"text/javascript\">\n",
       "        window.PlotlyConfig = {MathJaxConfig: 'local'};\n",
       "        if (window.MathJax) {MathJax.Hub.Config({SVG: {font: \"STIX-Web\"}});}\n",
       "        if (typeof require !== 'undefined') {\n",
       "        require.undef(\"plotly\");\n",
       "        requirejs.config({\n",
       "            paths: {\n",
       "                'plotly': ['https://cdn.plot.ly/plotly-2.6.3.min']\n",
       "            }\n",
       "        });\n",
       "        require(['plotly'], function(Plotly) {\n",
       "            window._Plotly = Plotly;\n",
       "        });\n",
       "        }\n",
       "        </script>\n",
       "        "
      ]
     },
     "metadata": {},
     "output_type": "display_data"
    }
   ],
   "source": [
    "import re\n",
    "import numpy as np \n",
    "import pandas as pd\n",
    "import matplotlib.pyplot as plt\n",
    "import seaborn as sns\n",
    "from scipy.stats import chi2_contingency\n",
    "from colour import Color\n",
    "\n",
    "import nltk  \n",
    "from nltk.tokenize import word_tokenize\n",
    "from nltk.corpus import stopwords, wordnet\n",
    "from nltk.sentiment.vader import SentimentIntensityAnalyzer\n",
    "from nltk.stem import WordNetLemmatizer \n",
    "#from nltk.corpus import wordnet\n",
    "\n",
    "from flair.models import TextClassifier\n",
    "from flair.data import Sentence\n",
    "import plotly.graph_objects as go\n",
    "import plotly.express as px\n",
    "from plotly.subplots import make_subplots\n",
    "\n",
    "import plotly.offline as offline\n",
    "offline.init_notebook_mode(connected=True)"
   ]
  },
  {
   "cell_type": "code",
   "execution_count": 2,
   "metadata": {},
   "outputs": [
    {
     "name": "stderr",
     "output_type": "stream",
     "text": [
      "[nltk_data] Downloading package stopwords to\n",
      "[nltk_data]     C:\\Users\\wslin\\AppData\\Roaming\\nltk_data...\n",
      "[nltk_data]   Package stopwords is already up-to-date!\n",
      "[nltk_data] Downloading package punkt to\n",
      "[nltk_data]     C:\\Users\\wslin\\AppData\\Roaming\\nltk_data...\n",
      "[nltk_data]   Package punkt is already up-to-date!\n",
      "[nltk_data] Downloading package averaged_perceptron_tagger to\n",
      "[nltk_data]     C:\\Users\\wslin\\AppData\\Roaming\\nltk_data...\n",
      "[nltk_data]   Package averaged_perceptron_tagger is already up-to-\n",
      "[nltk_data]       date!\n",
      "[nltk_data] Downloading package wordnet to\n",
      "[nltk_data]     C:\\Users\\wslin\\AppData\\Roaming\\nltk_data...\n",
      "[nltk_data]   Package wordnet is already up-to-date!\n"
     ]
    },
    {
     "data": {
      "text/plain": [
       "True"
      ]
     },
     "execution_count": 2,
     "metadata": {},
     "output_type": "execute_result"
    }
   ],
   "source": [
    "nltk.download('stopwords')\n",
    "nltk.download('punkt')\n",
    "nltk.download('averaged_perceptron_tagger')\n",
    "nltk.download('wordnet')"
   ]
  },
  {
   "cell_type": "code",
   "execution_count": 3,
   "metadata": {},
   "outputs": [
    {
     "name": "stdout",
     "output_type": "stream",
     "text": [
      "2022-04-14 17:40:52,767 loading file C:\\Users\\wslin\\.flair\\models\\sentiment-en-mix-distillbert_4.pt\n"
     ]
    }
   ],
   "source": [
    "lemmatizer = WordNetLemmatizer()\n",
    "stopword = set(stopwords.words('english'))\n",
    "sia = TextClassifier.load('en-sentiment')"
   ]
  },
  {
   "cell_type": "code",
   "execution_count": 4,
   "metadata": {
    "scrolled": true
   },
   "outputs": [
    {
     "data": {
      "text/html": [
       "<div>\n",
       "<style scoped>\n",
       "    .dataframe tbody tr th:only-of-type {\n",
       "        vertical-align: middle;\n",
       "    }\n",
       "\n",
       "    .dataframe tbody tr th {\n",
       "        vertical-align: top;\n",
       "    }\n",
       "\n",
       "    .dataframe thead th {\n",
       "        text-align: right;\n",
       "    }\n",
       "</style>\n",
       "<table border=\"1\" class=\"dataframe\">\n",
       "  <thead>\n",
       "    <tr style=\"text-align: right;\">\n",
       "      <th></th>\n",
       "      <th>id</th>\n",
       "      <th>date</th>\n",
       "      <th>search</th>\n",
       "      <th>tweet</th>\n",
       "      <th>tidyTweet</th>\n",
       "    </tr>\n",
       "  </thead>\n",
       "  <tbody>\n",
       "    <tr>\n",
       "      <th>0</th>\n",
       "      <td>1484309873059934208</td>\n",
       "      <td>2022-01-20 15:40:25</td>\n",
       "      <td>#americafirst</td>\n",
       "      <td>@77WABCradio @RudyGiuliani I suppose all the e...</td>\n",
       "      <td>I suppose all the election fraud, the Biden ...</td>\n",
       "    </tr>\n",
       "    <tr>\n",
       "      <th>1</th>\n",
       "      <td>1484309738808840192</td>\n",
       "      <td>2022-01-20 15:39:53</td>\n",
       "      <td>#americafirst</td>\n",
       "      <td>The press had a lot of questions about Ukraine...</td>\n",
       "      <td>The press had a lot of questions about Ukraine...</td>\n",
       "    </tr>\n",
       "    <tr>\n",
       "      <th>2</th>\n",
       "      <td>1484309298867933186</td>\n",
       "      <td>2022-01-20 15:38:08</td>\n",
       "      <td>#americafirst</td>\n",
       "      <td>Nevada, vote for the candidate who has the rig...</td>\n",
       "      <td>Nevada, vote for the candidate who has the rig...</td>\n",
       "    </tr>\n",
       "    <tr>\n",
       "      <th>3</th>\n",
       "      <td>1484307683532754944</td>\n",
       "      <td>2022-01-20 15:31:43</td>\n",
       "      <td>#americafirst</td>\n",
       "      <td>@POTUS PLEASE TAKE ACTION AND ABOLISH YOUR TRU...</td>\n",
       "      <td>PLEASE TAKE ACTION AND ABOLISH YOUR TRUTH IN ...</td>\n",
       "    </tr>\n",
       "    <tr>\n",
       "      <th>4</th>\n",
       "      <td>1484306314432032768</td>\n",
       "      <td>2022-01-20 15:26:17</td>\n",
       "      <td>#americafirst</td>\n",
       "      <td>#Trump Backs Banning #NancyPelosi from #StockT...</td>\n",
       "      <td>#Trump Backs Banning #NancyPelosi from #StockT...</td>\n",
       "    </tr>\n",
       "    <tr>\n",
       "      <th>...</th>\n",
       "      <td>...</td>\n",
       "      <td>...</td>\n",
       "      <td>...</td>\n",
       "      <td>...</td>\n",
       "      <td>...</td>\n",
       "    </tr>\n",
       "    <tr>\n",
       "      <th>12084</th>\n",
       "      <td>1502623553891741701</td>\n",
       "      <td>2022-03-12 04:32:27</td>\n",
       "      <td>#wheresfauci</td>\n",
       "      <td>@MusicManVA 🐸🐷  Missing❗️  🌸  #WheresFauci??? ...</td>\n",
       "      <td>🐸🐷  Missing❗️  🌸  #WheresFauci???  😆</td>\n",
       "    </tr>\n",
       "    <tr>\n",
       "      <th>12085</th>\n",
       "      <td>1502623511592173570</td>\n",
       "      <td>2022-03-12 04:32:17</td>\n",
       "      <td>#wheresfauci</td>\n",
       "      <td>🐸🐷  Missing❗️  🌸  #WheresFauci???  😆  https://...</td>\n",
       "      <td>🐸🐷  Missing❗️  🌸  #WheresFauci???  😆</td>\n",
       "    </tr>\n",
       "    <tr>\n",
       "      <th>12086</th>\n",
       "      <td>1502621900618489856</td>\n",
       "      <td>2022-03-12 04:25:53</td>\n",
       "      <td>#wheresfauci</td>\n",
       "      <td>#WheresFauci  ??  His stubby little fingerprin...</td>\n",
       "      <td>#WheresFauci  ??  His stubby little fingerprin...</td>\n",
       "    </tr>\n",
       "    <tr>\n",
       "      <th>12087</th>\n",
       "      <td>1502607009652293634</td>\n",
       "      <td>2022-03-12 03:26:42</td>\n",
       "      <td>#wheresfauci</td>\n",
       "      <td>good morning...#WheresFauci</td>\n",
       "      <td>good morning...#WheresFauci</td>\n",
       "    </tr>\n",
       "    <tr>\n",
       "      <th>12088</th>\n",
       "      <td>1502600791571501061</td>\n",
       "      <td>2022-03-12 03:02:00</td>\n",
       "      <td>#wheresfauci</td>\n",
       "      <td>Good morning and don't forget to \"Spring Ahead...</td>\n",
       "      <td>Good morning and don't forget to \"Spring Ahead...</td>\n",
       "    </tr>\n",
       "  </tbody>\n",
       "</table>\n",
       "<p>12089 rows × 5 columns</p>\n",
       "</div>"
      ],
      "text/plain": [
       "                        id                 date         search  \\\n",
       "0      1484309873059934208  2022-01-20 15:40:25  #americafirst   \n",
       "1      1484309738808840192  2022-01-20 15:39:53  #americafirst   \n",
       "2      1484309298867933186  2022-01-20 15:38:08  #americafirst   \n",
       "3      1484307683532754944  2022-01-20 15:31:43  #americafirst   \n",
       "4      1484306314432032768  2022-01-20 15:26:17  #americafirst   \n",
       "...                    ...                  ...            ...   \n",
       "12084  1502623553891741701  2022-03-12 04:32:27   #wheresfauci   \n",
       "12085  1502623511592173570  2022-03-12 04:32:17   #wheresfauci   \n",
       "12086  1502621900618489856  2022-03-12 04:25:53   #wheresfauci   \n",
       "12087  1502607009652293634  2022-03-12 03:26:42   #wheresfauci   \n",
       "12088  1502600791571501061  2022-03-12 03:02:00   #wheresfauci   \n",
       "\n",
       "                                                   tweet  \\\n",
       "0      @77WABCradio @RudyGiuliani I suppose all the e...   \n",
       "1      The press had a lot of questions about Ukraine...   \n",
       "2      Nevada, vote for the candidate who has the rig...   \n",
       "3      @POTUS PLEASE TAKE ACTION AND ABOLISH YOUR TRU...   \n",
       "4      #Trump Backs Banning #NancyPelosi from #StockT...   \n",
       "...                                                  ...   \n",
       "12084  @MusicManVA 🐸🐷  Missing❗️  🌸  #WheresFauci??? ...   \n",
       "12085  🐸🐷  Missing❗️  🌸  #WheresFauci???  😆  https://...   \n",
       "12086  #WheresFauci  ??  His stubby little fingerprin...   \n",
       "12087                        good morning...#WheresFauci   \n",
       "12088  Good morning and don't forget to \"Spring Ahead...   \n",
       "\n",
       "                                               tidyTweet  \n",
       "0        I suppose all the election fraud, the Biden ...  \n",
       "1      The press had a lot of questions about Ukraine...  \n",
       "2      Nevada, vote for the candidate who has the rig...  \n",
       "3       PLEASE TAKE ACTION AND ABOLISH YOUR TRUTH IN ...  \n",
       "4      #Trump Backs Banning #NancyPelosi from #StockT...  \n",
       "...                                                  ...  \n",
       "12084             🐸🐷  Missing❗️  🌸  #WheresFauci???  😆    \n",
       "12085             🐸🐷  Missing❗️  🌸  #WheresFauci???  😆    \n",
       "12086  #WheresFauci  ??  His stubby little fingerprin...  \n",
       "12087                        good morning...#WheresFauci  \n",
       "12088  Good morning and don't forget to \"Spring Ahead...  \n",
       "\n",
       "[12089 rows x 5 columns]"
      ]
     },
     "execution_count": 4,
     "metadata": {},
     "output_type": "execute_result"
    }
   ],
   "source": [
    "df = pd.read_csv('./conspiracy_theories_data.csv')\n",
    "df"
   ]
  },
  {
   "cell_type": "code",
   "execution_count": 5,
   "metadata": {},
   "outputs": [],
   "source": [
    "def clean_tweet(s):\n",
    "    s = str(s).lower()\n",
    "    url_pattern = re.compile(r'https?://\\S+')\n",
    "    no_url = url_pattern.sub(r'', s)\n",
    "    username_pattern = re.compile(r'@\\w+')\n",
    "    no_username = username_pattern.sub(r'', no_url)\n",
    "    hashtag_pattern = re.compile(r'#')\n",
    "    no_hashtag = hashtag_pattern.sub(r'', no_username)\n",
    "    punct_pattern = re.compile(r'[^\\w\\s\\']')\n",
    "    no_punct = punct_pattern.sub(r'', no_hashtag)\n",
    "    amp_pattern = re.compile(r'&amp;')\n",
    "    tidy_tweet = amp_pattern.sub(r'and', no_punct)\n",
    "    return tidy_tweet\n",
    "\n",
    "def get_wordnet_pos(word):\n",
    "    tag = nltk.pos_tag([word])[0][1][0].upper()\n",
    "    tag_dict = {\"J\": wordnet.ADJ,\n",
    "                \"N\": wordnet.NOUN,\n",
    "                \"V\": wordnet.VERB,\n",
    "                \"R\": wordnet.ADV}\n",
    "    return tag_dict.get(tag, wordnet.NOUN)\n",
    "\n",
    "def normalize_words(tokens):\n",
    "    norm_tokens = [lemmatizer.lemmatize(t, get_wordnet_pos(t)) for t in tokens]\n",
    "    return norm_tokens\n",
    "\n",
    "def remove_stopwords(tokens):\n",
    "    result_tokens = []\n",
    "    for t in tokens:\n",
    "        if (t not in stopword and len(t) > 2 and not t.isnumeric() and t.isalpha()):\n",
    "            result_tokens.append(t)\n",
    "    return result_tokens\n",
    "\n",
    "def combine_tokens(tokens): \n",
    "    non_tokenized = ' '.join([t for t in tokens])\n",
    "    return non_tokenized\n",
    "\n",
    "def tweets_preprocessing(tweet):\n",
    "    tidy_tweet = clean_tweet(tweet)\n",
    "    tokens = nltk.word_tokenize(tidy_tweet)\n",
    "    norm_tokens = normalize_words(tokens)\n",
    "    result_tokens = remove_stopwords(norm_tokens)\n",
    "    non_tokenized = combine_tokens(result_tokens)\n",
    "    return non_tokenized if len(non_tokenized) != 0 else np.nan"
   ]
  },
  {
   "cell_type": "code",
   "execution_count": 6,
   "metadata": {},
   "outputs": [],
   "source": [
    "def sentiment_Flair_score(tweet):\n",
    "    sentence = Sentence(tweet)\n",
    "    sia.predict(sentence)\n",
    "    if 'NEGATIVE' in str(sentence.labels[0]):\n",
    "        score = -(sentence.labels[0].score)\n",
    "    else:\n",
    "        score = sentence.labels[0].score\n",
    "    return score\n",
    "\n",
    "def sentiment_Vader_score(text):\n",
    "    score = SentimentIntensityAnalyzer().polarity_scores(text)\n",
    "    compound_score = score['compound']\n",
    "    return compound_score\n",
    "\n",
    "def sentiment_analysis(score):\n",
    "    if score >= 0:\n",
    "        return 'positive'\n",
    "    else:\n",
    "        return 'negative'"
   ]
  },
  {
   "cell_type": "code",
   "execution_count": 7,
   "metadata": {},
   "outputs": [],
   "source": [
    "def get_sentiment_analysis(df):\n",
    "    df['tidyTweet'] = df['tweet'].apply(tweets_preprocessing)\n",
    "    df = df.dropna(subset=['tidyTweet']).reset_index(drop=True)\n",
    "    df['flair_score'] = df['tidyTweet'].apply(sentiment_Flair_score)\n",
    "    df['sentiment_flair'] = df['flair_score'].apply(sentiment_analysis)\n",
    "\n",
    "    df['vader_score'] = df['tidyTweet'].apply(sentiment_Vader_score)\n",
    "    df['sentiment_vader'] = df['vader_score'].apply(sentiment_analysis)\n",
    "    return df"
   ]
  },
  {
   "cell_type": "code",
   "execution_count": 8,
   "metadata": {},
   "outputs": [],
   "source": [
    "df = pd.read_csv('./conspiracy_theories_data.csv')\n",
    "df = get_sentiment_analysis(df)"
   ]
  },
  {
   "cell_type": "code",
   "execution_count": 9,
   "metadata": {},
   "outputs": [
    {
     "data": {
      "image/png": "[encoded data removed]",
      "text/plain": [
       "<Figure size 1224x720 with 1 Axes>"
      ]
     },
     "metadata": {
      "needs_background": "light"
     },
     "output_type": "display_data"
    }
   ],
   "source": [
    "fig1 = plt.figure(figsize=(17,10))\n",
    "\n",
    "sns.histplot(df['flair_score'], kde=True, color=\"olive\", stat=\"density\", bins=50, alpha=0.6, linewidth=0, label='Flair_score')\n",
    "sns.histplot(df['vader_score'], kde=True, color=\"gold\", stat=\"density\", bins=50, alpha=0.6, linewidth=0, label='Vader_score')\n",
    "\n",
    "plt.legend(fontsize=10)\n",
    "plt.title('Distribution of Sentiment Scores: Vader vs Flair', fontsize=15)\n",
    "plt.ylabel('Density of sentiment scores', fontsize=11)\n",
    "plt.xlabel('Sentiment scores', fontsize=11)\n",
    "\n",
    "plt.show()\n",
    "fig1.savefig('libraries_distribution.png')"
   ]
  },
  {
   "cell_type": "code",
   "execution_count": 10,
   "metadata": {},
   "outputs": [
    {
     "data": {
      "image/png": "[encoded data removed]",
      "text/plain": [
       "<Figure size 1224x720 with 1 Axes>"
      ]
     },
     "metadata": {
      "needs_background": "light"
     },
     "output_type": "display_data"
    }
   ],
   "source": [
    "flair_percent = (df['sentiment_flair'].value_counts()/len(df['sentiment_flair']))*100\n",
    "vader_percent = (df['sentiment_vader'].value_counts()/len(df['sentiment_vader']))*100\n",
    "\n",
    "fig2 = plt.figure(figsize=(17,10))\n",
    "x_axis = np.arange(2)\n",
    "\n",
    "plt.bar(x_axis-0.15, flair_percent, label='Flair', width=0.3, color='olive')\n",
    "plt.bar(x_axis+0.15, vader_percent, label='Vader', width=0.3, color='gold')\n",
    "\n",
    "plt.xticks(x_axis, df['sentiment_flair'].value_counts().index)\n",
    "plt.legend(fontsize=10)\n",
    "plt.title('Percentage Distribution of Sentiment: Vader vs Flair', fontsize=15)\n",
    "plt.ylabel('Percent', fontsize=11)\n",
    "plt.xlabel('Sentiment', fontsize=11)\n",
    "\n",
    "plt.show()\n",
    "fig2.savefig('libraries_percent.png')"
   ]
  },
  {
   "cell_type": "code",
   "execution_count": 11,
   "metadata": {},
   "outputs": [],
   "source": [
    "df['diff'] = np.where(df['sentiment_flair'] == df['sentiment_vader'], 1, 0)\n",
    "df_diff = df.query('diff == 0')\n",
    "great_diff = df_diff.loc[(df_diff['flair_score'].abs() > 0.9) & (df_diff['vader_score'].abs() > 0.90)]\n",
    "great_diff = great_diff [['tweet', 'sentiment_flair', 'sentiment_vader']]"
   ]
  },
  {
   "cell_type": "code",
   "execution_count": 12,
   "metadata": {},
   "outputs": [
    {
     "name": "stdout",
     "output_type": "stream",
     "text": [
      "If you need a lawyer, do you hire the best, or trust the public defender. If you HAVE to send secure pkg, use FedEx or postal service?..so WHY WOULD YOU TRUST A GOVT FRAUD OVER BRILLIANT PRIVATE DOCTORS? #Covid_19 #MandateFreedom #NHS #FauciLied @RandPaul @BuckSexton @ClayTravis\n",
      "\n",
      "\n",
      "Who else loves America??  This is the GREATEST COUNTRY on the planet!!   The anti-American ideologues should move to any other Country on earth. Just choose one. You will beg to get back to America.   Don’t let them take America away.  We are America. Respect it. #AmericaFirst  https://t.co/IJ9PWTpIOY\n",
      "\n",
      "\n",
      "Wow @Spotify glad I don’t use you.  You keep an #Antivaxxer like Joe Rogan and delete a national treasure like Neil Young?  #DumpSpotify #BoycottSpotify\n",
      "\n",
      "\n",
      "It’s absolutely no wonder that #QAnon &amp; the #GOP are so focused on child sexual abuse &amp; #childtrafficking they are the predators &amp; the perpetrators of these crimes. Those that scream the loudest are usually the guilty parties. #GOPHypocrisy\n",
      "\n",
      "\n",
      "So you’re a #Veteran pushing against peace, democracy &amp; public health &amp; safety. Way to expose yourself.  #Traitor #January6th #TrumpTreason #QAnonCult The #CanadaTruckers have been infiltrated by right wing militias, just like Jan 6 “freedom fighters.” #VaccinesWork #USA #Canada\n",
      "\n",
      "\n",
      "Canadian Pappu got scared by few truckers and even pretends to be #chinavirus positive. #BeAMan and face the brave #CanadaTruckers who are braving all hardships to demand freedom peacefully.\n",
      "\n",
      "\n",
      "Any Jan. 6th insurrectionist who believes Trump cares and will Pardon them, might as well just kiss any hope of a good life goodbye now. You are too much of a follower to survive on your own. #InsurrectionHasConsequences #TrumpCrimeFamily\n",
      "\n",
      "\n",
      ".@bbcnews usually taking a #depopulation alarmist position. gradual ethical attrition is the best hope of humans surviving without losing any more humanity. #antinatalism\n",
      "\n",
      "\n",
      "I hope all the governors in the country are paying attention to this.  It brings me joy to see kids get this excited about masks coming off.  Now they can have their freedom back.  @Justine_Brooke @JackPosobiec @w_terrence @CarriePrejean1  #Masks #MasksOff #MasksDontWork\n",
      "\n",
      "\n",
      "@kakar_harsha @globaltimesnews @HuXijin_GT @SpokespersonCHN All wise men and any human striving for human decency and dignity of other human won't support this. Only slaves including all those who remain silent to know #wuhanvirus origin will support a #CCPvirus regime. Karma is awaiting huge on all responsible. Om Namah Shivaya 🙏\n",
      "\n",
      "\n",
      "PHOTO ~ I am also active on LinkedIn ~ Andre Bloem ~ Journalist and Teacher ~ Feel free to connect 🌝 ~ Best wishes from #Wuhan ~ #Sport #Music #Nature #China #SouthAfrica  https://t.co/eFv3AbFrrS\n",
      "\n",
      "\n",
      "Watching @RSBNetwork. Help @CollinsforTX, @Israel4PA, and many others candidates win their seats and help #SaveAmerica and put #AMERICAFIRST. Retweet, donate, and #HelpTheUnderDogs for America's sake! To God be the glory!  https://t.co/4yOTvEKUHM\n",
      "\n",
      "\n",
      "President Trump proved World Peace is attainable with a rational economic approach and a strong hand.  He had the best work ethic in living memory and the world was a safer place during his administration.  #AmericaFirst  #WeThePeople  #TrumpWasRight #FairElectionsMatter  #MAGA\n",
      "\n",
      "\n",
      "@Ktuttle24 @Ditzy_horse @Mensa142 @GraySavage @OttawaPolice That's your subconscious trying to tell you what you need to hear, #antimasker #antivaxxer nutjob.  You confuse freedom with privileges, which are earned. Get vaxxed &amp; you too can enjoy privileges like restaurants, bars, flights that are private businesses, not public spaces.\n",
      "\n",
      "\n",
      "@Urunderarrest It's a gamble either way but I'd prefer to gamble on proven talent like Watson over unproven talent like #MAGA. Also, Steelers tried to trade Ben once over similar allegations yet yinzers act like he walks on water.\n",
      "\n",
      "\n",
      "Wine of peace treaty of Mexico and a @NRA we got peace! That can't contest anyone 🤣 Italy stable of good marriage and Irish liquor 🥃 #COVIDIOT take our country!  https://t.co/5qVIWsxnVs\n",
      "\n",
      "\n",
      "#RussiaInvasion is forcing me to cleanse my list of follows. All is fun &amp; games until #ConspiracyTheories pop up invoking #GeorgeSoros. Have we not learned anything? Consider yourself fortunate, intelligent, and respected to be still followed by this account.\n",
      "\n",
      "\n",
      "#ConspiracyTheory: #Trump tries to \"negotiate\" peace between #Russia (aka #Putin) and #Ukraine. Magically Putin accepts some weirdly good compromise solution. This will tell you this was all a rehearsed show to make them both great again. I hope I'm wrong.\n",
      "\n",
      "\n",
      "@_mitchmitchell Bonus! People will die too! Wow!! What's not for the cabal to like? The smart meters are on hand to make sure any rations are adhered to, mercilessly. #DepopulationAgenda\n",
      "\n",
      "\n",
      "@PaulSonne @IvanOnTech if you guys think Russia wasn’t provoked into this war by Biden and NATO, Then I should remind the non intellectuals who is behind the #inflation and #Plandemic, This is what they need to happen for the great reset. Wake up!!!\n",
      "\n",
      "\n",
      "Trippy blog lady has been documenting her holiday at parliament. She's talking about rumors of police clearing the Uni tonight &amp; how the box on his head guy had a pretty good voice. She coughs at bit, laugh's dismissively about her \"little cold\"  #COVIDIOT #endtheprotest  https://t.co/UWqZkzDLve\n",
      "\n",
      "\n",
      "@vixey_voter Hope you have the ear of other #veterans. Between #FauxNews playing 24/7 on military bases &amp; #ConspiracyTheories on social media, not sure the folks are voting in their OWN best interest 😣🥺🥺 #PutinsMitch #ComplicitCorruptGOP #MAGA\n",
      "\n",
      "\n",
      "She hit us with I have a black friend taking point and now admits she got a friend in the Azov battalion lmfao wow wtf #ConspiracyTheories  https://t.co/yIvEUGIDGw\n",
      "\n",
      "\n",
      "Thread 🧵 about what #AmericaFirst means to elected #Republicans. Based upon their voting records, it doesn't mean taking care of the American people. Their agenda is always in favor of the rich &amp; corporate America, not the regular people like you and me.\n",
      "\n",
      "\n",
      "@RyuseiiMasamune @Nick_McGurk @catturd2 Wow, Ryuseii- The level of denial of (obvious) facts you display is truly astounding. You could easily be the poster child for brainwashed #MAGA #Trump supporter. Also astounding?  The number of times Twitter has to warn me that your tweets may contain insensitive content.\n",
      "\n",
      "\n",
      "@mitchisright @FrankGrimes_Jr Unemployed after 20 yrs, for an ultimatum is definitely not informed consent or freedom of choice. #freedom #pfizerdocuments #pfizerwhistleblower #CrimesAgainstHumanity\n",
      "\n",
      "\n"
     ]
    }
   ],
   "source": [
    "for t in great_diff['tweet']:\n",
    "    print(t)\n",
    "    print('\\n')"
   ]
  },
  {
   "cell_type": "code",
   "execution_count": 13,
   "metadata": {},
   "outputs": [
    {
     "data": {
      "image/png": "[encoded data removed]",
      "text/plain": [
       "<Figure size 1224x1080 with 1 Axes>"
      ]
     },
     "metadata": {
      "needs_background": "light"
     },
     "output_type": "display_data"
    }
   ],
   "source": [
    "df1 = df.groupby('search')['flair_score'].mean().sort_values().head(10).to_frame().reset_index()\n",
    "\n",
    "fig5 = plt.figure(figsize=(17,15))\n",
    "\n",
    "olive = Color(\"olive\")\n",
    "colors = list(olive.range_to(Color(\"gold\"), 10))\n",
    "colors = [color.rgb for color in colors]\n",
    "\n",
    "plt.bar(df1['search'], df1['flair_score'], width=0.3, color=colors)\n",
    "\n",
    "plt.title('Top 10 Negative Sentiment Twitter Hashtags', fontsize=15)\n",
    "plt.ylabel('Sentiment Score', fontsize=13)\n",
    "plt.xlabel('Hashtag', fontsize=13)\n",
    "plt.xticks(rotation=50, fontsize=11)\n",
    "\n",
    "plt.show()\n",
    "fig5.savefig('top10.png')"
   ]
  },
  {
   "cell_type": "code",
   "execution_count": 14,
   "metadata": {},
   "outputs": [],
   "source": [
    "df2 = pd.read_excel(\"month.xlsx\")"
   ]
  },
  {
   "cell_type": "code",
   "execution_count": 15,
   "metadata": {},
   "outputs": [],
   "source": [
    "def get_datetime(df):\n",
    "    df['date_notime'] = df['date'].str.split(' ', expand=True,)[0]\n",
    "    df3 = df.groupby('date_notime')['flair_score'].describe()\n",
    "    df3['datetime'] = df3.index\n",
    "    return df3"
   ]
  },
  {
   "cell_type": "code",
   "execution_count": 16,
   "metadata": {},
   "outputs": [],
   "source": [
    "df3 = get_datetime(df)"
   ]
  },
  {
   "cell_type": "code",
   "execution_count": 17,
   "metadata": {},
   "outputs": [],
   "source": [
    "def get_avg_std_graph(df3, name):\n",
    "    fig = plt.figure(figsize=(17,10))\n",
    "    plt.subplots_adjust(left=None, bottom=None, right=None, top=None,\n",
    "                wspace=None, hspace=0.3)\n",
    "    ax_1_1 = fig.add_subplot(2,1,1)\n",
    "    ax_1_1.bar(df3['datetime'], df3['mean'], width=0.5, label='mean', color='olive') \n",
    "    ax_1_1.set_title(r'Average and Standard Deviation of Sentiment Scores by Date', fontsize=15)\n",
    "    ax_1_1.set_ylabel(r'Average', fontsize=11)\n",
    "    ax_1_1.tick_params(axis='x', labelrotation=50, size=6, direction='inout')\n",
    "\n",
    "    ax_1_2 = fig.add_subplot(2,1,2)\n",
    "    ax_1_2.bar(df3['datetime'], df3['std'], width=0.5, label='std', color='gold')\n",
    "    ax_1_2.set_ylabel(r'Standard Deviation', fontsize=11)\n",
    "    ax_1_2.tick_params(axis='x', labelrotation=50, size=6, direction='inout')\n",
    "\n",
    "    fig.savefig(name+'_mean&std.png')   "
   ]
  },
  {
   "cell_type": "code",
   "execution_count": 18,
   "metadata": {},
   "outputs": [
    {
     "data": {
      "image/png": "[encoded data removed]",
      "text/plain": [
       "<Figure size 1224x720 with 2 Axes>"
      ]
     },
     "metadata": {
      "needs_background": "light"
     },
     "output_type": "display_data"
    }
   ],
   "source": [
    "get_avg_std_graph(df3, 'conspiracy')"
   ]
  },
  {
   "cell_type": "code",
   "execution_count": 19,
   "metadata": {},
   "outputs": [],
   "source": [
    "def get_month(df2, df3):\n",
    "    df4 = pd.merge(df2, df3, how = \"outer\")\n",
    "    df4['day'] = df4['datetime'].apply(lambda x: pd.to_datetime(x).strftime(\"%A\"))\n",
    "    df4['month'] = df4['datetime'].str.slice(5, 7)\n",
    "\n",
    "    df_jan = df4[df4['month'] == '01']\n",
    "    df_feb = df4[df4['month'] == '02']\n",
    "    df_mar = df4[df4['month'] == '03']\n",
    "    return df_jan, df_feb, df_mar"
   ]
  },
  {
   "cell_type": "code",
   "execution_count": 20,
   "metadata": {},
   "outputs": [],
   "source": [
    "df_jan, df_feb, df_mar = get_month(df2, df3)"
   ]
  },
  {
   "cell_type": "code",
   "execution_count": 21,
   "metadata": {},
   "outputs": [],
   "source": [
    "def get_calender_graph(df_jan, df_feb, df_mar, name, vmin, vmax):\n",
    "    fig4, (ax_2_1, ax_2_2, ax_2_3) = plt.subplots(figsize=(17,10), nrows = 3)\n",
    "    plt.subplots_adjust(left=None, bottom=None, right=None, top=None,\n",
    "                wspace=None, hspace=0.4)\n",
    "\n",
    "    column_order = ['Sunday', 'Monday', 'Tuesday', 'Wednesday', 'Thursday', 'Friday', 'Saturday']\n",
    "\n",
    "    pivot1 = df_jan.pivot(index='week_num', columns='day', values='mean')\n",
    "    pivot1 = pivot1.reindex(column_order, axis=1)\n",
    "    sns.heatmap(pivot1, annot=True, cmap='YlGnBu_r', ax=ax_2_1, vmin=vmin, vmax=vmax)\n",
    "    ax_2_1.set_title('January', fontsize=15)\n",
    "\n",
    "    pivot2 = df_feb.pivot(index='week_num', columns='day', values='mean')\n",
    "    pivot2 = pivot2.reindex(column_order, axis=1)\n",
    "    sns.heatmap(pivot2, annot=True, cmap='YlGnBu_r', ax=ax_2_2, vmin=vmin, vmax=vmax)\n",
    "    ax_2_2.set_title('February',  fontsize=15)\n",
    "\n",
    "    pivot3 = df_mar.pivot(index='week_num', columns='day', values='mean')\n",
    "    pivot3 = pivot3.reindex(column_order, axis=1)\n",
    "    sns.heatmap(pivot3, annot=True, cmap='YlGnBu_r', ax=ax_2_3, vmin=vmin, vmax=vmax)\n",
    "    ax_2_3.set_title('March',  fontsize=15)\n",
    "\n",
    "    fig4.savefig(name+'_calendar.png')  "
   ]
  },
  {
   "cell_type": "code",
   "execution_count": 22,
   "metadata": {},
   "outputs": [
    {
     "data": {
      "image/png": "[encoded data removed]",
      "text/plain": [
       "<Figure size 1224x720 with 6 Axes>"
      ]
     },
     "metadata": {
      "needs_background": "light"
     },
     "output_type": "display_data"
    }
   ],
   "source": [
    "get_calender_graph(df_jan, df_feb, df_mar, 'conspiracy', -0.45, -0.75)"
   ]
  },
  {
   "cell_type": "code",
   "execution_count": 23,
   "metadata": {},
   "outputs": [],
   "source": [
    "def labeled_df(file):\n",
    "    df = pd.read_csv(file)\n",
    "    df = df[df['Label'].notna()]\n",
    "    df = get_sentiment_analysis(df)\n",
    "    df['sentiment'] = df['sentiment_flair'].apply(\n",
    "        lambda x: (0 if x == 'positive' else 1)\n",
    "    )\n",
    "    return df\n",
    "\n",
    "def prediction_sentiment_figure(labeled_df):\n",
    "    df_flair = pd.get_dummies(\n",
    "        labeled_df[['Label', 'sentiment_flair']],\n",
    "        columns=['sentiment_flair']\n",
    "    )\n",
    "    df_flair = df_flair.groupby('Label').sum()\n",
    "    labels = ['Negative', 'Positive']\n",
    "    fig = make_subplots(\n",
    "        1, 2, specs=[[{'type':'domain'}, {'type':'domain'}]],\n",
    "        subplot_titles=['Prediction: 0', 'Prediction: 1']\n",
    "    )\n",
    "    fig.add_trace(\n",
    "        go.Pie(\n",
    "            labels=labels, values=df_flair.loc[0],\n",
    "            name=\"Label 0\"\n",
    "        ), 1, 1\n",
    "    )\n",
    "    fig.add_trace(\n",
    "        go.Pie(\n",
    "            labels=labels, values=df_flair.loc[1],\n",
    "            name='Label 1'\n",
    "        ), 1, 2\n",
    "    )\n",
    "    return fig"
   ]
  },
  {
   "cell_type": "code",
   "execution_count": 24,
   "metadata": {},
   "outputs": [],
   "source": [
    "labeled_data = labeled_df('./dataset.csv')"
   ]
  },
  {
   "cell_type": "code",
   "execution_count": 27,
   "metadata": {},
   "outputs": [
    {
     "data": {
      "application/vnd.plotly.v1+json": {
       "config": {
        "linkText": "Export to plotly.com",
        "plotlyServerURL": "https://plotly.com",
        "showLink": false
       },
       "data": [
        {
         "domain": {
          "x": [
           0,
           0.45
          ],
          "y": [
           0,
           1
          ]
         },
         "labels": [
          "Negative",
          "Positive"
         ],
         "name": "Label 0",
         "type": "pie",
         "values": [
          7059,
          1806
         ]
        },
        {
         "domain": {
          "x": [
           0.55,
           1
          ],
          "y": [
           0,
           1
          ]
         },
         "labels": [
          "Negative",
          "Positive"
         ],
         "name": "Label 1",
         "type": "pie",
         "values": [
          2458,
          426
         ]
        }
       ],
       "layout": {
        "annotations": [
         {
          "font": {
           "size": 16
          },
          "showarrow": false,
          "text": "Prediction: 0",
          "x": 0.225,
          "xanchor": "center",
          "xref": "paper",
          "y": 1,
          "yanchor": "bottom",
          "yref": "paper"
         },
         {
          "font": {
           "size": 16
          },
          "showarrow": false,
          "text": "Prediction: 1",
          "x": 0.775,
          "xanchor": "center",
          "xref": "paper",
          "y": 1,
          "yanchor": "bottom",
          "yref": "paper"
         }
        ],
        "template": {
         "data": {
          "bar": [
           {
            "error_x": {
             "color": "#2a3f5f"
            },
            "error_y": {
             "color": "#2a3f5f"
            },
            "marker": {
             "line": {
              "color": "#E5ECF6",
              "width": 0.5
             },
             "pattern": {
              "fillmode": "overlay",
              "size": 10,
              "solidity": 0.2
             }
            },
            "type": "bar"
           }
          ],
          "barpolar": [
           {
            "marker": {
             "line": {
              "color": "#E5ECF6",
              "width": 0.5
             },
             "pattern": {
              "fillmode": "overlay",
              "size": 10,
              "solidity": 0.2
             }
            },
            "type": "barpolar"
           }
          ],
          "carpet": [
           {
            "aaxis": {
             "endlinecolor": "#2a3f5f",
             "gridcolor": "white",
             "linecolor": "white",
             "minorgridcolor": "white",
             "startlinecolor": "#2a3f5f"
            },
            "baxis": {
             "endlinecolor": "#2a3f5f",
             "gridcolor": "white",
             "linecolor": "white",
             "minorgridcolor": "white",
             "startlinecolor": "#2a3f5f"
            },
            "type": "carpet"
           }
          ],
          "choropleth": [
           {
            "colorbar": {
             "outlinewidth": 0,
             "ticks": ""
            },
            "type": "choropleth"
           }
          ],
          "contour": [
           {
            "colorbar": {
             "outlinewidth": 0,
             "ticks": ""
            },
            "colorscale": [
             [
              0,
              "#0d0887"
             ],
             [
              0.1111111111111111,
              "#46039f"
             ],
             [
              0.2222222222222222,
              "#7201a8"
             ],
             [
              0.3333333333333333,
              "#9c179e"
             ],
             [
              0.4444444444444444,
              "#bd3786"
             ],
             [
              0.5555555555555556,
              "#d8576b"
             ],
             [
              0.6666666666666666,
              "#ed7953"
             ],
             [
              0.7777777777777778,
              "#fb9f3a"
             ],
             [
              0.8888888888888888,
              "#fdca26"
             ],
             [
              1,
              "#f0f921"
             ]
            ],
            "type": "contour"
           }
          ],
          "contourcarpet": [
           {
            "colorbar": {
             "outlinewidth": 0,
             "ticks": ""
            },
            "type": "contourcarpet"
           }
          ],
          "heatmap": [
           {
            "colorbar": {
             "outlinewidth": 0,
             "ticks": ""
            },
            "colorscale": [
             [
              0,
              "#0d0887"
             ],
             [
              0.1111111111111111,
              "#46039f"
             ],
             [
              0.2222222222222222,
              "#7201a8"
             ],
             [
              0.3333333333333333,
              "#9c179e"
             ],
             [
              0.4444444444444444,
              "#bd3786"
             ],
             [
              0.5555555555555556,
              "#d8576b"
             ],
             [
              0.6666666666666666,
              "#ed7953"
             ],
             [
              0.7777777777777778,
              "#fb9f3a"
             ],
             [
              0.8888888888888888,
              "#fdca26"
             ],
             [
              1,
              "#f0f921"
             ]
            ],
            "type": "heatmap"
           }
          ],
          "heatmapgl": [
           {
            "colorbar": {
             "outlinewidth": 0,
             "ticks": ""
            },
            "colorscale": [
             [
              0,
              "#0d0887"
             ],
             [
              0.1111111111111111,
              "#46039f"
             ],
             [
              0.2222222222222222,
              "#7201a8"
             ],
             [
              0.3333333333333333,
              "#9c179e"
             ],
             [
              0.4444444444444444,
              "#bd3786"
             ],
             [
              0.5555555555555556,
              "#d8576b"
             ],
             [
              0.6666666666666666,
              "#ed7953"
             ],
             [
              0.7777777777777778,
              "#fb9f3a"
             ],
             [
              0.8888888888888888,
              "#fdca26"
             ],
             [
              1,
              "#f0f921"
             ]
            ],
            "type": "heatmapgl"
           }
          ],
          "histogram": [
           {
            "marker": {
             "pattern": {
              "fillmode": "overlay",
              "size": 10,
              "solidity": 0.2
             }
            },
            "type": "histogram"
           }
          ],
          "histogram2d": [
           {
            "colorbar": {
             "outlinewidth": 0,
             "ticks": ""
            },
            "colorscale": [
             [
              0,
              "#0d0887"
             ],
             [
              0.1111111111111111,
              "#46039f"
             ],
             [
              0.2222222222222222,
              "#7201a8"
             ],
             [
              0.3333333333333333,
              "#9c179e"
             ],
             [
              0.4444444444444444,
              "#bd3786"
             ],
             [
              0.5555555555555556,
              "#d8576b"
             ],
             [
              0.6666666666666666,
              "#ed7953"
             ],
             [
              0.7777777777777778,
              "#fb9f3a"
             ],
             [
              0.8888888888888888,
              "#fdca26"
             ],
             [
              1,
              "#f0f921"
             ]
            ],
            "type": "histogram2d"
           }
          ],
          "histogram2dcontour": [
           {
            "colorbar": {
             "outlinewidth": 0,
             "ticks": ""
            },
            "colorscale": [
             [
              0,
              "#0d0887"
             ],
             [
              0.1111111111111111,
              "#46039f"
             ],
             [
              0.2222222222222222,
              "#7201a8"
             ],
             [
              0.3333333333333333,
              "#9c179e"
             ],
             [
              0.4444444444444444,
              "#bd3786"
             ],
             [
              0.5555555555555556,
              "#d8576b"
             ],
             [
              0.6666666666666666,
              "#ed7953"
             ],
             [
              0.7777777777777778,
              "#fb9f3a"
             ],
             [
              0.8888888888888888,
              "#fdca26"
             ],
             [
              1,
              "#f0f921"
             ]
            ],
            "type": "histogram2dcontour"
           }
          ],
          "mesh3d": [
           {
            "colorbar": {
             "outlinewidth": 0,
             "ticks": ""
            },
            "type": "mesh3d"
           }
          ],
          "parcoords": [
           {
            "line": {
             "colorbar": {
              "outlinewidth": 0,
              "ticks": ""
             }
            },
            "type": "parcoords"
           }
          ],
          "pie": [
           {
            "automargin": true,
            "type": "pie"
           }
          ],
          "scatter": [
           {
            "marker": {
             "colorbar": {
              "outlinewidth": 0,
              "ticks": ""
             }
            },
            "type": "scatter"
           }
          ],
          "scatter3d": [
           {
            "line": {
             "colorbar": {
              "outlinewidth": 0,
              "ticks": ""
             }
            },
            "marker": {
             "colorbar": {
              "outlinewidth": 0,
              "ticks": ""
             }
            },
            "type": "scatter3d"
           }
          ],
          "scattercarpet": [
           {
            "marker": {
             "colorbar": {
              "outlinewidth": 0,
              "ticks": ""
             }
            },
            "type": "scattercarpet"
           }
          ],
          "scattergeo": [
           {
            "marker": {
             "colorbar": {
              "outlinewidth": 0,
              "ticks": ""
             }
            },
            "type": "scattergeo"
           }
          ],
          "scattergl": [
           {
            "marker": {
             "colorbar": {
              "outlinewidth": 0,
              "ticks": ""
             }
            },
            "type": "scattergl"
           }
          ],
          "scattermapbox": [
           {
            "marker": {
             "colorbar": {
              "outlinewidth": 0,
              "ticks": ""
             }
            },
            "type": "scattermapbox"
           }
          ],
          "scatterpolar": [
           {
            "marker": {
             "colorbar": {
              "outlinewidth": 0,
              "ticks": ""
             }
            },
            "type": "scatterpolar"
           }
          ],
          "scatterpolargl": [
           {
            "marker": {
             "colorbar": {
              "outlinewidth": 0,
              "ticks": ""
             }
            },
            "type": "scatterpolargl"
           }
          ],
          "scatterternary": [
           {
            "marker": {
             "colorbar": {
              "outlinewidth": 0,
              "ticks": ""
             }
            },
            "type": "scatterternary"
           }
          ],
          "surface": [
           {
            "colorbar": {
             "outlinewidth": 0,
             "ticks": ""
            },
            "colorscale": [
             [
              0,
              "#0d0887"
             ],
             [
              0.1111111111111111,
              "#46039f"
             ],
             [
              0.2222222222222222,
              "#7201a8"
             ],
             [
              0.3333333333333333,
              "#9c179e"
             ],
             [
              0.4444444444444444,
              "#bd3786"
             ],
             [
              0.5555555555555556,
              "#d8576b"
             ],
             [
              0.6666666666666666,
              "#ed7953"
             ],
             [
              0.7777777777777778,
              "#fb9f3a"
             ],
             [
              0.8888888888888888,
              "#fdca26"
             ],
             [
              1,
              "#f0f921"
             ]
            ],
            "type": "surface"
           }
          ],
          "table": [
           {
            "cells": {
             "fill": {
              "color": "#EBF0F8"
             },
             "line": {
              "color": "white"
             }
            },
            "header": {
             "fill": {
              "color": "#C8D4E3"
             },
             "line": {
              "color": "white"
             }
            },
            "type": "table"
           }
          ]
         },
         "layout": {
          "annotationdefaults": {
           "arrowcolor": "#2a3f5f",
           "arrowhead": 0,
           "arrowwidth": 1
          },
          "autotypenumbers": "strict",
          "coloraxis": {
           "colorbar": {
            "outlinewidth": 0,
            "ticks": ""
           }
          },
          "colorscale": {
           "diverging": [
            [
             0,
             "#8e0152"
            ],
            [
             0.1,
             "#c51b7d"
            ],
            [
             0.2,
             "#de77ae"
            ],
            [
             0.3,
             "#f1b6da"
            ],
            [
             0.4,
             "#fde0ef"
            ],
            [
             0.5,
             "#f7f7f7"
            ],
            [
             0.6,
             "#e6f5d0"
            ],
            [
             0.7,
             "#b8e186"
            ],
            [
             0.8,
             "#7fbc41"
            ],
            [
             0.9,
             "#4d9221"
            ],
            [
             1,
             "#276419"
            ]
           ],
           "sequential": [
            [
             0,
             "#0d0887"
            ],
            [
             0.1111111111111111,
             "#46039f"
            ],
            [
             0.2222222222222222,
             "#7201a8"
            ],
            [
             0.3333333333333333,
             "#9c179e"
            ],
            [
             0.4444444444444444,
             "#bd3786"
            ],
            [
             0.5555555555555556,
             "#d8576b"
            ],
            [
             0.6666666666666666,
             "#ed7953"
            ],
            [
             0.7777777777777778,
             "#fb9f3a"
            ],
            [
             0.8888888888888888,
             "#fdca26"
            ],
            [
             1,
             "#f0f921"
            ]
           ],
           "sequentialminus": [
            [
             0,
             "#0d0887"
            ],
            [
             0.1111111111111111,
             "#46039f"
            ],
            [
             0.2222222222222222,
             "#7201a8"
            ],
            [
             0.3333333333333333,
             "#9c179e"
            ],
            [
             0.4444444444444444,
             "#bd3786"
            ],
            [
             0.5555555555555556,
             "#d8576b"
            ],
            [
             0.6666666666666666,
             "#ed7953"
            ],
            [
             0.7777777777777778,
             "#fb9f3a"
            ],
            [
             0.8888888888888888,
             "#fdca26"
            ],
            [
             1,
             "#f0f921"
            ]
           ]
          },
          "colorway": [
           "#636efa",
           "#EF553B",
           "#00cc96",
           "#ab63fa",
           "#FFA15A",
           "#19d3f3",
           "#FF6692",
           "#B6E880",
           "#FF97FF",
           "#FECB52"
          ],
          "font": {
           "color": "#2a3f5f"
          },
          "geo": {
           "bgcolor": "white",
           "lakecolor": "white",
           "landcolor": "#E5ECF6",
           "showlakes": true,
           "showland": true,
           "subunitcolor": "white"
          },
          "hoverlabel": {
           "align": "left"
          },
          "hovermode": "closest",
          "mapbox": {
           "style": "light"
          },
          "paper_bgcolor": "white",
          "plot_bgcolor": "#E5ECF6",
          "polar": {
           "angularaxis": {
            "gridcolor": "white",
            "linecolor": "white",
            "ticks": ""
           },
           "bgcolor": "#E5ECF6",
           "radialaxis": {
            "gridcolor": "white",
            "linecolor": "white",
            "ticks": ""
           }
          },
          "scene": {
           "xaxis": {
            "backgroundcolor": "#E5ECF6",
            "gridcolor": "white",
            "gridwidth": 2,
            "linecolor": "white",
            "showbackground": true,
            "ticks": "",
            "zerolinecolor": "white"
           },
           "yaxis": {
            "backgroundcolor": "#E5ECF6",
            "gridcolor": "white",
            "gridwidth": 2,
            "linecolor": "white",
            "showbackground": true,
            "ticks": "",
            "zerolinecolor": "white"
           },
           "zaxis": {
            "backgroundcolor": "#E5ECF6",
            "gridcolor": "white",
            "gridwidth": 2,
            "linecolor": "white",
            "showbackground": true,
            "ticks": "",
            "zerolinecolor": "white"
           }
          },
          "shapedefaults": {
           "line": {
            "color": "#2a3f5f"
           }
          },
          "ternary": {
           "aaxis": {
            "gridcolor": "white",
            "linecolor": "white",
            "ticks": ""
           },
           "baxis": {
            "gridcolor": "white",
            "linecolor": "white",
            "ticks": ""
           },
           "bgcolor": "#E5ECF6",
           "caxis": {
            "gridcolor": "white",
            "linecolor": "white",
            "ticks": ""
           }
          },
          "title": {
           "x": 0.05
          },
          "xaxis": {
           "automargin": true,
           "gridcolor": "white",
           "linecolor": "white",
           "ticks": "",
           "title": {
            "standoff": 15
           },
           "zerolinecolor": "white",
           "zerolinewidth": 2
          },
          "yaxis": {
           "automargin": true,
           "gridcolor": "white",
           "linecolor": "white",
           "ticks": "",
           "title": {
            "standoff": 15
           },
           "zerolinecolor": "white",
           "zerolinewidth": 2
          }
         }
        }
       }
      },
      "text/html": [
       "<div>                            <div id=\"85390890-b560-4fe0-b58e-43092f596d67\" class=\"plotly-graph-div\" style=\"height:525px; width:100%;\"></div>            <script type=\"text/javascript\">                require([\"plotly\"], function(Plotly) {                    window.PLOTLYENV=window.PLOTLYENV || {};                                    if (document.getElementById(\"85390890-b560-4fe0-b58e-43092f596d67\")) {                    Plotly.newPlot(                        \"85390890-b560-4fe0-b58e-43092f596d67\",                        [{\"domain\":{\"x\":[0.0,0.45],\"y\":[0.0,1.0]},\"labels\":[\"Negative\",\"Positive\"],\"name\":\"Label 0\",\"values\":[7059.0,1806.0],\"type\":\"pie\"},{\"domain\":{\"x\":[0.55,1.0],\"y\":[0.0,1.0]},\"labels\":[\"Negative\",\"Positive\"],\"name\":\"Label 1\",\"values\":[2458.0,426.0],\"type\":\"pie\"}],                        {\"annotations\":[{\"font\":{\"size\":16},\"showarrow\":false,\"text\":\"Prediction: 0\",\"x\":0.225,\"xanchor\":\"center\",\"xref\":\"paper\",\"y\":1.0,\"yanchor\":\"bottom\",\"yref\":\"paper\"},{\"font\":{\"size\":16},\"showarrow\":false,\"text\":\"Prediction: 1\",\"x\":0.775,\"xanchor\":\"center\",\"xref\":\"paper\",\"y\":1.0,\"yanchor\":\"bottom\",\"yref\":\"paper\"}],\"template\":{\"data\":{\"barpolar\":[{\"marker\":{\"line\":{\"color\":\"#E5ECF6\",\"width\":0.5},\"pattern\":{\"fillmode\":\"overlay\",\"size\":10,\"solidity\":0.2}},\"type\":\"barpolar\"}],\"bar\":[{\"error_x\":{\"color\":\"#2a3f5f\"},\"error_y\":{\"color\":\"#2a3f5f\"},\"marker\":{\"line\":{\"color\":\"#E5ECF6\",\"width\":0.5},\"pattern\":{\"fillmode\":\"overlay\",\"size\":10,\"solidity\":0.2}},\"type\":\"bar\"}],\"carpet\":[{\"aaxis\":{\"endlinecolor\":\"#2a3f5f\",\"gridcolor\":\"white\",\"linecolor\":\"white\",\"minorgridcolor\":\"white\",\"startlinecolor\":\"#2a3f5f\"},\"baxis\":{\"endlinecolor\":\"#2a3f5f\",\"gridcolor\":\"white\",\"linecolor\":\"white\",\"minorgridcolor\":\"white\",\"startlinecolor\":\"#2a3f5f\"},\"type\":\"carpet\"}],\"choropleth\":[{\"colorbar\":{\"outlinewidth\":0,\"ticks\":\"\"},\"type\":\"choropleth\"}],\"contourcarpet\":[{\"colorbar\":{\"outlinewidth\":0,\"ticks\":\"\"},\"type\":\"contourcarpet\"}],\"contour\":[{\"colorbar\":{\"outlinewidth\":0,\"ticks\":\"\"},\"colorscale\":[[0.0,\"#0d0887\"],[0.1111111111111111,\"#46039f\"],[0.2222222222222222,\"#7201a8\"],[0.3333333333333333,\"#9c179e\"],[0.4444444444444444,\"#bd3786\"],[0.5555555555555556,\"#d8576b\"],[0.6666666666666666,\"#ed7953\"],[0.7777777777777778,\"#fb9f3a\"],[0.8888888888888888,\"#fdca26\"],[1.0,\"#f0f921\"]],\"type\":\"contour\"}],\"heatmapgl\":[{\"colorbar\":{\"outlinewidth\":0,\"ticks\":\"\"},\"colorscale\":[[0.0,\"#0d0887\"],[0.1111111111111111,\"#46039f\"],[0.2222222222222222,\"#7201a8\"],[0.3333333333333333,\"#9c179e\"],[0.4444444444444444,\"#bd3786\"],[0.5555555555555556,\"#d8576b\"],[0.6666666666666666,\"#ed7953\"],[0.7777777777777778,\"#fb9f3a\"],[0.8888888888888888,\"#fdca26\"],[1.0,\"#f0f921\"]],\"type\":\"heatmapgl\"}],\"heatmap\":[{\"colorbar\":{\"outlinewidth\":0,\"ticks\":\"\"},\"colorscale\":[[0.0,\"#0d0887\"],[0.1111111111111111,\"#46039f\"],[0.2222222222222222,\"#7201a8\"],[0.3333333333333333,\"#9c179e\"],[0.4444444444444444,\"#bd3786\"],[0.5555555555555556,\"#d8576b\"],[0.6666666666666666,\"#ed7953\"],[0.7777777777777778,\"#fb9f3a\"],[0.8888888888888888,\"#fdca26\"],[1.0,\"#f0f921\"]],\"type\":\"heatmap\"}],\"histogram2dcontour\":[{\"colorbar\":{\"outlinewidth\":0,\"ticks\":\"\"},\"colorscale\":[[0.0,\"#0d0887\"],[0.1111111111111111,\"#46039f\"],[0.2222222222222222,\"#7201a8\"],[0.3333333333333333,\"#9c179e\"],[0.4444444444444444,\"#bd3786\"],[0.5555555555555556,\"#d8576b\"],[0.6666666666666666,\"#ed7953\"],[0.7777777777777778,\"#fb9f3a\"],[0.8888888888888888,\"#fdca26\"],[1.0,\"#f0f921\"]],\"type\":\"histogram2dcontour\"}],\"histogram2d\":[{\"colorbar\":{\"outlinewidth\":0,\"ticks\":\"\"},\"colorscale\":[[0.0,\"#0d0887\"],[0.1111111111111111,\"#46039f\"],[0.2222222222222222,\"#7201a8\"],[0.3333333333333333,\"#9c179e\"],[0.4444444444444444,\"#bd3786\"],[0.5555555555555556,\"#d8576b\"],[0.6666666666666666,\"#ed7953\"],[0.7777777777777778,\"#fb9f3a\"],[0.8888888888888888,\"#fdca26\"],[1.0,\"#f0f921\"]],\"type\":\"histogram2d\"}],\"histogram\":[{\"marker\":{\"pattern\":{\"fillmode\":\"overlay\",\"size\":10,\"solidity\":0.2}},\"type\":\"histogram\"}],\"mesh3d\":[{\"colorbar\":{\"outlinewidth\":0,\"ticks\":\"\"},\"type\":\"mesh3d\"}],\"parcoords\":[{\"line\":{\"colorbar\":{\"outlinewidth\":0,\"ticks\":\"\"}},\"type\":\"parcoords\"}],\"pie\":[{\"automargin\":true,\"type\":\"pie\"}],\"scatter3d\":[{\"line\":{\"colorbar\":{\"outlinewidth\":0,\"ticks\":\"\"}},\"marker\":{\"colorbar\":{\"outlinewidth\":0,\"ticks\":\"\"}},\"type\":\"scatter3d\"}],\"scattercarpet\":[{\"marker\":{\"colorbar\":{\"outlinewidth\":0,\"ticks\":\"\"}},\"type\":\"scattercarpet\"}],\"scattergeo\":[{\"marker\":{\"colorbar\":{\"outlinewidth\":0,\"ticks\":\"\"}},\"type\":\"scattergeo\"}],\"scattergl\":[{\"marker\":{\"colorbar\":{\"outlinewidth\":0,\"ticks\":\"\"}},\"type\":\"scattergl\"}],\"scattermapbox\":[{\"marker\":{\"colorbar\":{\"outlinewidth\":0,\"ticks\":\"\"}},\"type\":\"scattermapbox\"}],\"scatterpolargl\":[{\"marker\":{\"colorbar\":{\"outlinewidth\":0,\"ticks\":\"\"}},\"type\":\"scatterpolargl\"}],\"scatterpolar\":[{\"marker\":{\"colorbar\":{\"outlinewidth\":0,\"ticks\":\"\"}},\"type\":\"scatterpolar\"}],\"scatter\":[{\"marker\":{\"colorbar\":{\"outlinewidth\":0,\"ticks\":\"\"}},\"type\":\"scatter\"}],\"scatterternary\":[{\"marker\":{\"colorbar\":{\"outlinewidth\":0,\"ticks\":\"\"}},\"type\":\"scatterternary\"}],\"surface\":[{\"colorbar\":{\"outlinewidth\":0,\"ticks\":\"\"},\"colorscale\":[[0.0,\"#0d0887\"],[0.1111111111111111,\"#46039f\"],[0.2222222222222222,\"#7201a8\"],[0.3333333333333333,\"#9c179e\"],[0.4444444444444444,\"#bd3786\"],[0.5555555555555556,\"#d8576b\"],[0.6666666666666666,\"#ed7953\"],[0.7777777777777778,\"#fb9f3a\"],[0.8888888888888888,\"#fdca26\"],[1.0,\"#f0f921\"]],\"type\":\"surface\"}],\"table\":[{\"cells\":{\"fill\":{\"color\":\"#EBF0F8\"},\"line\":{\"color\":\"white\"}},\"header\":{\"fill\":{\"color\":\"#C8D4E3\"},\"line\":{\"color\":\"white\"}},\"type\":\"table\"}]},\"layout\":{\"annotationdefaults\":{\"arrowcolor\":\"#2a3f5f\",\"arrowhead\":0,\"arrowwidth\":1},\"autotypenumbers\":\"strict\",\"coloraxis\":{\"colorbar\":{\"outlinewidth\":0,\"ticks\":\"\"}},\"colorscale\":{\"diverging\":[[0,\"#8e0152\"],[0.1,\"#c51b7d\"],[0.2,\"#de77ae\"],[0.3,\"#f1b6da\"],[0.4,\"#fde0ef\"],[0.5,\"#f7f7f7\"],[0.6,\"#e6f5d0\"],[0.7,\"#b8e186\"],[0.8,\"#7fbc41\"],[0.9,\"#4d9221\"],[1,\"#276419\"]],\"sequential\":[[0.0,\"#0d0887\"],[0.1111111111111111,\"#46039f\"],[0.2222222222222222,\"#7201a8\"],[0.3333333333333333,\"#9c179e\"],[0.4444444444444444,\"#bd3786\"],[0.5555555555555556,\"#d8576b\"],[0.6666666666666666,\"#ed7953\"],[0.7777777777777778,\"#fb9f3a\"],[0.8888888888888888,\"#fdca26\"],[1.0,\"#f0f921\"]],\"sequentialminus\":[[0.0,\"#0d0887\"],[0.1111111111111111,\"#46039f\"],[0.2222222222222222,\"#7201a8\"],[0.3333333333333333,\"#9c179e\"],[0.4444444444444444,\"#bd3786\"],[0.5555555555555556,\"#d8576b\"],[0.6666666666666666,\"#ed7953\"],[0.7777777777777778,\"#fb9f3a\"],[0.8888888888888888,\"#fdca26\"],[1.0,\"#f0f921\"]]},\"colorway\":[\"#636efa\",\"#EF553B\",\"#00cc96\",\"#ab63fa\",\"#FFA15A\",\"#19d3f3\",\"#FF6692\",\"#B6E880\",\"#FF97FF\",\"#FECB52\"],\"font\":{\"color\":\"#2a3f5f\"},\"geo\":{\"bgcolor\":\"white\",\"lakecolor\":\"white\",\"landcolor\":\"#E5ECF6\",\"showlakes\":true,\"showland\":true,\"subunitcolor\":\"white\"},\"hoverlabel\":{\"align\":\"left\"},\"hovermode\":\"closest\",\"mapbox\":{\"style\":\"light\"},\"paper_bgcolor\":\"white\",\"plot_bgcolor\":\"#E5ECF6\",\"polar\":{\"angularaxis\":{\"gridcolor\":\"white\",\"linecolor\":\"white\",\"ticks\":\"\"},\"bgcolor\":\"#E5ECF6\",\"radialaxis\":{\"gridcolor\":\"white\",\"linecolor\":\"white\",\"ticks\":\"\"}},\"scene\":{\"xaxis\":{\"backgroundcolor\":\"#E5ECF6\",\"gridcolor\":\"white\",\"gridwidth\":2,\"linecolor\":\"white\",\"showbackground\":true,\"ticks\":\"\",\"zerolinecolor\":\"white\"},\"yaxis\":{\"backgroundcolor\":\"#E5ECF6\",\"gridcolor\":\"white\",\"gridwidth\":2,\"linecolor\":\"white\",\"showbackground\":true,\"ticks\":\"\",\"zerolinecolor\":\"white\"},\"zaxis\":{\"backgroundcolor\":\"#E5ECF6\",\"gridcolor\":\"white\",\"gridwidth\":2,\"linecolor\":\"white\",\"showbackground\":true,\"ticks\":\"\",\"zerolinecolor\":\"white\"}},\"shapedefaults\":{\"line\":{\"color\":\"#2a3f5f\"}},\"ternary\":{\"aaxis\":{\"gridcolor\":\"white\",\"linecolor\":\"white\",\"ticks\":\"\"},\"baxis\":{\"gridcolor\":\"white\",\"linecolor\":\"white\",\"ticks\":\"\"},\"bgcolor\":\"#E5ECF6\",\"caxis\":{\"gridcolor\":\"white\",\"linecolor\":\"white\",\"ticks\":\"\"}},\"title\":{\"x\":0.05},\"xaxis\":{\"automargin\":true,\"gridcolor\":\"white\",\"linecolor\":\"white\",\"ticks\":\"\",\"title\":{\"standoff\":15},\"zerolinecolor\":\"white\",\"zerolinewidth\":2},\"yaxis\":{\"automargin\":true,\"gridcolor\":\"white\",\"linecolor\":\"white\",\"ticks\":\"\",\"title\":{\"standoff\":15},\"zerolinecolor\":\"white\",\"zerolinewidth\":2}}}},                        {\"responsive\": true}                    ).then(function(){\n",
       "                            \n",
       "var gd = document.getElementById('85390890-b560-4fe0-b58e-43092f596d67');\n",
       "var x = new MutationObserver(function (mutations, observer) {{\n",
       "        var display = window.getComputedStyle(gd).display;\n",
       "        if (!display || display === 'none') {{\n",
       "            console.log([gd, 'removed!']);\n",
       "            Plotly.purge(gd);\n",
       "            observer.disconnect();\n",
       "        }}\n",
       "}});\n",
       "\n",
       "// Listen for the removal of the full notebook cells\n",
       "var notebookContainer = gd.closest('#notebook-container');\n",
       "if (notebookContainer) {{\n",
       "    x.observe(notebookContainer, {childList: true});\n",
       "}}\n",
       "\n",
       "// Listen for the clearing of the current output cell\n",
       "var outputEl = gd.closest('.output');\n",
       "if (outputEl) {{\n",
       "    x.observe(outputEl, {childList: true});\n",
       "}}\n",
       "\n",
       "                        })                };                });            </script>        </div>"
      ]
     },
     "metadata": {},
     "output_type": "display_data"
    }
   ],
   "source": [
    "pred_senti_fig = prediction_sentiment_figure(labeled_data)\n",
    "offline.iplot(pred_senti_fig)"
   ]
  },
  {
   "cell_type": "code",
   "execution_count": 28,
   "metadata": {},
   "outputs": [],
   "source": [
    "table = pd.crosstab(labeled_data['Label'], labeled_data['sentiment_flair']) \n",
    "chi2, p, dof, expected = chi2_contingency(table) "
   ]
  },
  {
   "cell_type": "code",
   "execution_count": 29,
   "metadata": {},
   "outputs": [
    {
     "name": "stdout",
     "output_type": "stream",
     "text": [
      "3.2830806552835724e-11\n"
     ]
    }
   ],
   "source": [
    "print(p)"
   ]
  },
  {
   "cell_type": "code",
   "execution_count": null,
   "metadata": {},
   "outputs": [],
   "source": []
  }
 ],
 "metadata": {
  "interpreter": {
   "hash": "40d3a090f54c6569ab1632332b64b2c03c39dcf918b08424e98f38b5ae0af88f"
  },
  "kernelspec": {
   "display_name": "Python 3",
   "language": "python",
   "name": "python3"
  },
  "language_info": {
   "codemirror_mode": {
    "name": "ipython",
    "version": 3
   },
   "file_extension": ".py",
   "mimetype": "text/x-python",
   "name": "python",
   "nbconvert_exporter": "python",
   "pygments_lexer": "ipython3",
   "version": "3.8.5"
  }
 },
 "nbformat": 4,
 "nbformat_minor": 4
}
