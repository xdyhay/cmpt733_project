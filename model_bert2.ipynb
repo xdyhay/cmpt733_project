{
  "cells": [
    {
      "cell_type": "code",
      "source": [
        "# pip install tensorflow_text"
      ],
      "metadata": {
        "id": "CFj7E5gfr8I9"
      },
      "execution_count": null,
      "outputs": []
    },
    {
      "cell_type": "code",
      "execution_count": null,
      "metadata": {
        "id": "AZYpuIQujlYU"
      },
      "outputs": [],
      "source": [
        "import os\n",
        "import pandas as pd\n",
        "import numpy as np\n",
        "\n",
        "import tensorflow as tf\n",
        "import tensorflow_hub as hub\n",
        "import tensorflow_text as text\n",
        "from sklearn.model_selection import train_test_split\n",
        "\n",
        "from utilize import gen_dataframe"
      ]
    },
    {
      "cell_type": "code",
      "source": [
        "tf.__version__"
      ],
      "metadata": {
        "colab": {
          "base_uri": "https://localhost:8080/",
          "height": 35
        },
        "id": "fQMTW-T2sAG0",
        "outputId": "820b6fc2-987e-4890-9a9f-28f47558c822"
      },
      "execution_count": null,
      "outputs": [
        {
          "output_type": "execute_result",
          "data": {
            "text/plain": [
              "'2.8.0'"
            ],
            "application/vnd.google.colaboratory.intrinsic+json": {
              "type": "string"
            }
          },
          "metadata": {},
          "execution_count": 8
        }
      ]
    },
    {
      "cell_type": "code",
      "source": [
        "physical_devices = tf.config.list_physical_devices(\"GPU\")\n",
        "print(physical_devices)\n",
        "\n",
        "tf.config.experimental.set_memory_growth(physical_devices[0], True)"
      ],
      "metadata": {
        "colab": {
          "base_uri": "https://localhost:8080/"
        },
        "id": "JMvFhqDB4xd2",
        "outputId": "62d68078-dcfe-478b-eb27-ecc50b988254"
      },
      "execution_count": null,
      "outputs": [
        {
          "output_type": "stream",
          "name": "stdout",
          "text": [
            "[PhysicalDevice(name='/physical_device:GPU:0', device_type='GPU')]\n"
          ]
        }
      ]
    },
    {
      "cell_type": "code",
      "source": [
        ""
      ],
      "metadata": {
        "id": "PW5F3b5BA4qF"
      },
      "execution_count": null,
      "outputs": []
    },
    {
      "cell_type": "code",
      "source": [
        ""
      ],
      "metadata": {
        "id": "_tEslhBLAtJQ"
      },
      "execution_count": null,
      "outputs": []
    },
    {
      "cell_type": "code",
      "execution_count": null,
      "metadata": {
        "colab": {
          "base_uri": "https://localhost:8080/",
          "height": 250
        },
        "id": "hmqDOtiA3gJj",
        "outputId": "6f9f1568-7ce4-4380-cef4-5f723239ce63"
      },
      "outputs": [
        {
          "output_type": "execute_result",
          "data": {
            "text/plain": [
              "                  date                                              tweet  \\\n",
              "0  2022-03-07 14:40:41  Have you missed the origins of covid debate &a...   \n",
              "1  2022-03-07 13:40:12  This is another clue that this virus is not na...   \n",
              "2  2022-03-07 13:00:06  Shhh! This is an example of how reality can da...   \n",
              "3  2022-03-07 06:59:43  “Hard earned American taxpayer dollars should ...   \n",
              "4  2022-03-07 06:52:10  @Shoshin41734407 @OpIndia_com \"two biological ...   \n",
              "\n",
              "                                       cleaned_tweet  \n",
              "0  missed origin covid debate entirely medicine a...  \n",
              "1  another clue virus natural man made lab leak n...  \n",
              "2  shhh example reality damage approved narrative...  \n",
              "3  hard earned american taxpayer dollar goingto l...  \n",
              "4             two biological warfare lab kiev odessa  "
            ],
            "text/html": [
              "\n",
              "  <div id=\"df-3b2e79a9-720d-4f5f-a386-6ab29c12a618\">\n",
              "    <div class=\"colab-df-container\">\n",
              "      <div>\n",
              "<style scoped>\n",
              "    .dataframe tbody tr th:only-of-type {\n",
              "        vertical-align: middle;\n",
              "    }\n",
              "\n",
              "    .dataframe tbody tr th {\n",
              "        vertical-align: top;\n",
              "    }\n",
              "\n",
              "    .dataframe thead th {\n",
              "        text-align: right;\n",
              "    }\n",
              "</style>\n",
              "<table border=\"1\" class=\"dataframe\">\n",
              "  <thead>\n",
              "    <tr style=\"text-align: right;\">\n",
              "      <th></th>\n",
              "      <th>date</th>\n",
              "      <th>tweet</th>\n",
              "      <th>cleaned_tweet</th>\n",
              "    </tr>\n",
              "  </thead>\n",
              "  <tbody>\n",
              "    <tr>\n",
              "      <th>0</th>\n",
              "      <td>2022-03-07 14:40:41</td>\n",
              "      <td>Have you missed the origins of covid debate &amp;a...</td>\n",
              "      <td>missed origin covid debate entirely medicine a...</td>\n",
              "    </tr>\n",
              "    <tr>\n",
              "      <th>1</th>\n",
              "      <td>2022-03-07 13:40:12</td>\n",
              "      <td>This is another clue that this virus is not na...</td>\n",
              "      <td>another clue virus natural man made lab leak n...</td>\n",
              "    </tr>\n",
              "    <tr>\n",
              "      <th>2</th>\n",
              "      <td>2022-03-07 13:00:06</td>\n",
              "      <td>Shhh! This is an example of how reality can da...</td>\n",
              "      <td>shhh example reality damage approved narrative...</td>\n",
              "    </tr>\n",
              "    <tr>\n",
              "      <th>3</th>\n",
              "      <td>2022-03-07 06:59:43</td>\n",
              "      <td>“Hard earned American taxpayer dollars should ...</td>\n",
              "      <td>hard earned american taxpayer dollar goingto l...</td>\n",
              "    </tr>\n",
              "    <tr>\n",
              "      <th>4</th>\n",
              "      <td>2022-03-07 06:52:10</td>\n",
              "      <td>@Shoshin41734407 @OpIndia_com \"two biological ...</td>\n",
              "      <td>two biological warfare lab kiev odessa</td>\n",
              "    </tr>\n",
              "  </tbody>\n",
              "</table>\n",
              "</div>\n",
              "      <button class=\"colab-df-convert\" onclick=\"convertToInteractive('df-3b2e79a9-720d-4f5f-a386-6ab29c12a618')\"\n",
              "              title=\"Convert this dataframe to an interactive table.\"\n",
              "              style=\"display:none;\">\n",
              "        \n",
              "  <svg xmlns=\"http://www.w3.org/2000/svg\" height=\"24px\"viewBox=\"0 0 24 24\"\n",
              "       width=\"24px\">\n",
              "    <path d=\"M0 0h24v24H0V0z\" fill=\"none\"/>\n",
              "    <path d=\"M18.56 5.44l.94 2.06.94-2.06 2.06-.94-2.06-.94-.94-2.06-.94 2.06-2.06.94zm-11 1L8.5 8.5l.94-2.06 2.06-.94-2.06-.94L8.5 2.5l-.94 2.06-2.06.94zm10 10l.94 2.06.94-2.06 2.06-.94-2.06-.94-.94-2.06-.94 2.06-2.06.94z\"/><path d=\"M17.41 7.96l-1.37-1.37c-.4-.4-.92-.59-1.43-.59-.52 0-1.04.2-1.43.59L10.3 9.45l-7.72 7.72c-.78.78-.78 2.05 0 2.83L4 21.41c.39.39.9.59 1.41.59.51 0 1.02-.2 1.41-.59l7.78-7.78 2.81-2.81c.8-.78.8-2.07 0-2.86zM5.41 20L4 18.59l7.72-7.72 1.47 1.35L5.41 20z\"/>\n",
              "  </svg>\n",
              "      </button>\n",
              "      \n",
              "  <style>\n",
              "    .colab-df-container {\n",
              "      display:flex;\n",
              "      flex-wrap:wrap;\n",
              "      gap: 12px;\n",
              "    }\n",
              "\n",
              "    .colab-df-convert {\n",
              "      background-color: #E8F0FE;\n",
              "      border: none;\n",
              "      border-radius: 50%;\n",
              "      cursor: pointer;\n",
              "      display: none;\n",
              "      fill: #1967D2;\n",
              "      height: 32px;\n",
              "      padding: 0 0 0 0;\n",
              "      width: 32px;\n",
              "    }\n",
              "\n",
              "    .colab-df-convert:hover {\n",
              "      background-color: #E2EBFA;\n",
              "      box-shadow: 0px 1px 2px rgba(60, 64, 67, 0.3), 0px 1px 3px 1px rgba(60, 64, 67, 0.15);\n",
              "      fill: #174EA6;\n",
              "    }\n",
              "\n",
              "    [theme=dark] .colab-df-convert {\n",
              "      background-color: #3B4455;\n",
              "      fill: #D2E3FC;\n",
              "    }\n",
              "\n",
              "    [theme=dark] .colab-df-convert:hover {\n",
              "      background-color: #434B5C;\n",
              "      box-shadow: 0px 1px 3px 1px rgba(0, 0, 0, 0.15);\n",
              "      filter: drop-shadow(0px 1px 2px rgba(0, 0, 0, 0.3));\n",
              "      fill: #FFFFFF;\n",
              "    }\n",
              "  </style>\n",
              "\n",
              "      <script>\n",
              "        const buttonEl =\n",
              "          document.querySelector('#df-3b2e79a9-720d-4f5f-a386-6ab29c12a618 button.colab-df-convert');\n",
              "        buttonEl.style.display =\n",
              "          google.colab.kernel.accessAllowed ? 'block' : 'none';\n",
              "\n",
              "        async function convertToInteractive(key) {\n",
              "          const element = document.querySelector('#df-3b2e79a9-720d-4f5f-a386-6ab29c12a618');\n",
              "          const dataTable =\n",
              "            await google.colab.kernel.invokeFunction('convertToInteractive',\n",
              "                                                     [key], {});\n",
              "          if (!dataTable) return;\n",
              "\n",
              "          const docLinkHtml = 'Like what you see? Visit the ' +\n",
              "            '<a target=\"_blank\" href=https://colab.research.google.com/notebooks/data_table.ipynb>data table notebook</a>'\n",
              "            + ' to learn more about interactive tables.';\n",
              "          element.innerHTML = '';\n",
              "          dataTable['output_type'] = 'display_data';\n",
              "          await google.colab.output.renderOutput(dataTable, element);\n",
              "          const docLink = document.createElement('div');\n",
              "          docLink.innerHTML = docLinkHtml;\n",
              "          element.appendChild(docLink);\n",
              "        }\n",
              "      </script>\n",
              "    </div>\n",
              "  </div>\n",
              "  "
            ]
          },
          "metadata": {},
          "execution_count": 28
        }
      ],
      "source": [
        "df = gen_dataframe('./data/')\n",
        "df.head()"
      ]
    },
    {
      "cell_type": "code",
      "source": [
        "df.count()"
      ],
      "metadata": {
        "colab": {
          "base_uri": "https://localhost:8080/"
        },
        "id": "fyvBfGrO7TV7",
        "outputId": "d1ab3b45-8b5f-4859-eb0c-b7a4ff018526"
      },
      "execution_count": null,
      "outputs": [
        {
          "output_type": "execute_result",
          "data": {
            "text/plain": [
              "date             24976\n",
              "tweet            24976\n",
              "cleaned_tweet    24976\n",
              "label            24976\n",
              "dtype: int64"
            ]
          },
          "metadata": {},
          "execution_count": 19
        }
      ]
    },
    {
      "cell_type": "code",
      "execution_count": null,
      "metadata": {
        "id": "rxyJQ7yBjlYZ"
      },
      "outputs": [],
      "source": [
        ""
      ]
    },
    {
      "cell_type": "code",
      "execution_count": null,
      "metadata": {
        "colab": {
          "base_uri": "https://localhost:8080/"
        },
        "id": "hU6HpXOhjlYZ",
        "outputId": "dc19bacb-2ebd-4121-cf03-c7b163aa26c4"
      },
      "outputs": [
        {
          "output_type": "stream",
          "name": "stderr",
          "text": [
            "/usr/local/lib/python3.7/dist-packages/nltk/twitter/__init__.py:20: UserWarning: The twython library has not been installed. Some functionality from the twitter package will not be available.\n",
            "  warnings.warn(\"The twython library has not been installed. \"\n"
          ]
        },
        {
          "output_type": "stream",
          "name": "stdout",
          "text": [
            "[nltk_data] Downloading package names to /root/nltk_data...\n",
            "[nltk_data]   Unzipping corpora/names.zip.\n",
            "[nltk_data] Downloading package stopwords to /root/nltk_data...\n",
            "[nltk_data]   Package stopwords is already up-to-date!\n",
            "[nltk_data] Downloading package state_union to /root/nltk_data...\n",
            "[nltk_data]   Unzipping corpora/state_union.zip.\n",
            "[nltk_data] Downloading package twitter_samples to /root/nltk_data...\n",
            "[nltk_data]   Unzipping corpora/twitter_samples.zip.\n",
            "[nltk_data] Downloading package movie_reviews to /root/nltk_data...\n",
            "[nltk_data]   Unzipping corpora/movie_reviews.zip.\n",
            "[nltk_data] Downloading package averaged_perceptron_tagger to\n",
            "[nltk_data]     /root/nltk_data...\n",
            "[nltk_data]   Unzipping taggers/averaged_perceptron_tagger.zip.\n",
            "[nltk_data] Downloading package vader_lexicon to /root/nltk_data...\n",
            "[nltk_data] Downloading package punkt to /root/nltk_data...\n",
            "[nltk_data]   Unzipping tokenizers/punkt.zip.\n"
          ]
        },
        {
          "output_type": "execute_result",
          "data": {
            "text/plain": [
              "True"
            ]
          },
          "metadata": {},
          "execution_count": 11
        }
      ],
      "source": [
        "import nltk\n",
        "from nltk.sentiment import SentimentIntensityAnalyzer\n",
        "\n",
        "nltk.download([\n",
        "    \"names\",\n",
        "    \"stopwords\",\n",
        "    \"state_union\",\n",
        "    \"twitter_samples\",\n",
        "    \"movie_reviews\",\n",
        "    \"averaged_perceptron_tagger\",\n",
        "    \"vader_lexicon\",\n",
        "    \"punkt\",\n",
        "])"
      ]
    },
    {
      "cell_type": "code",
      "source": [
        "def assign_labels(df):\n",
        "    labels = []\n",
        "    sia = SentimentIntensityAnalyzer()\n",
        "    for _, row in df.iterrows():\n",
        "        scores = sia.polarity_scores(row['tweet'])\n",
        "        label = 0\n",
        "        if scores['pos'] < scores['neg']:\n",
        "            label = 1\n",
        "        if scores['neg'] == 1:\n",
        "            label = 1\n",
        "        labels.append(label)\n",
        "    df['label'] = labels\n",
        "    return df\n",
        "\n",
        "df = assign_labels(df)\n",
        "\n",
        "print(df.head())\n",
        "print(df.groupby(['label']).count())"
      ],
      "metadata": {
        "colab": {
          "base_uri": "https://localhost:8080/"
        },
        "id": "eVoh4S2vrdXu",
        "outputId": "e5402fab-3003-47bd-c835-abf1f89077e3"
      },
      "execution_count": null,
      "outputs": [
        {
          "output_type": "stream",
          "name": "stdout",
          "text": [
            "                  date                                              tweet  \\\n",
            "0  2022-03-07 14:40:41  Have you missed the origins of covid debate &a...   \n",
            "1  2022-03-07 13:40:12  This is another clue that this virus is not na...   \n",
            "2  2022-03-07 13:00:06  Shhh! This is an example of how reality can da...   \n",
            "3  2022-03-07 06:59:43  “Hard earned American taxpayer dollars should ...   \n",
            "4  2022-03-07 06:52:10  @Shoshin41734407 @OpIndia_com \"two biological ...   \n",
            "\n",
            "                                       cleaned_tweet  label  \n",
            "0  missed origin covid debate entirely medicine a...      1  \n",
            "1  another clue virus natural man made lab leak n...      1  \n",
            "2  shhh example reality damage approved narrative...      1  \n",
            "3  hard earned american taxpayer dollar goingto l...      0  \n",
            "4             two biological warfare lab kiev odessa      1  \n",
            "        date  tweet  cleaned_tweet\n",
            "label                             \n",
            "0      15071  15071          15071\n",
            "1       9905   9905           9905\n"
          ]
        }
      ]
    },
    {
      "cell_type": "code",
      "execution_count": null,
      "metadata": {
        "id": "0mWT8tBRjlYZ"
      },
      "outputs": [],
      "source": [
        ""
      ]
    },
    {
      "cell_type": "code",
      "execution_count": null,
      "metadata": {
        "colab": {
          "base_uri": "https://localhost:8080/"
        },
        "id": "qTYpG0FIjlYZ",
        "outputId": "532331a1-083e-47fe-f374-a4b63c1f829b"
      },
      "outputs": [
        {
          "output_type": "execute_result",
          "data": {
            "text/plain": [
              "((16733,), (8243,), (16733,), (8243,))"
            ]
          },
          "metadata": {},
          "execution_count": 13
        }
      ],
      "source": [
        "# split dataset to train test\n",
        "X = df['cleaned_tweet']\n",
        "y = df['label']\n",
        "X_train, X_test, y_train, y_test = train_test_split(X, y, test_size=.33)\n",
        "\n",
        "X_train.shape, X_test.shape, y_train.shape, y_test.shape"
      ]
    },
    {
      "cell_type": "code",
      "execution_count": null,
      "metadata": {
        "id": "IadyT2HfjlYa"
      },
      "outputs": [],
      "source": [
        "# preprocessing https://tfhub.dev/tensorflow/bert_en_uncased_preprocess/3\n",
        "bert_preprocess = hub.KerasLayer('https://tfhub.dev/tensorflow/bert_en_uncased_preprocess/3')\n",
        "# encoder https://tfhub.dev/tensorflow/bert_en_uncased_L-12_H-768_A-12/4\n",
        "bert_encoder = hub.KerasLayer('https://tfhub.dev/tensorflow/bert_en_uncased_L-12_H-768_A-12/4')"
      ]
    },
    {
      "cell_type": "code",
      "source": [
        "# build functional model\n",
        "text_inputs = tf.keras.layers.Input(shape=(), dtype=tf.string, name='text')\n",
        "\n",
        "preprocessed_text = bert_preprocess(text_inputs)\n",
        "encoded_text = bert_encoder(preprocessed_text)\n",
        "\n",
        "layer = tf.keras.layers.Dropout(.1, name='dropout')(encoded_text['pooled_output'])\n",
        "layer = tf.keras.layers.Dense(1, activation='sigmoid', name='output')(layer)\n",
        "\n",
        "model = tf.keras.Model(inputs=[text_inputs], outputs=[layer])\n",
        "model.summary()"
      ],
      "metadata": {
        "colab": {
          "base_uri": "https://localhost:8080/"
        },
        "id": "uBGzGj59k7Ex",
        "outputId": "5d9830f5-b6f4-4445-b12e-59d257896353"
      },
      "execution_count": null,
      "outputs": [
        {
          "output_type": "stream",
          "name": "stdout",
          "text": [
            "Model: \"model\"\n",
            "__________________________________________________________________________________________________\n",
            " Layer (type)                   Output Shape         Param #     Connected to                     \n",
            "==================================================================================================\n",
            " text (InputLayer)              [(None,)]            0           []                               \n",
            "                                                                                                  \n",
            " keras_layer (KerasLayer)       {'input_word_ids':   0           ['text[0][0]']                   \n",
            "                                (None, 128),                                                      \n",
            "                                 'input_mask': (Non                                               \n",
            "                                e, 128),                                                          \n",
            "                                 'input_type_ids':                                                \n",
            "                                (None, 128)}                                                      \n",
            "                                                                                                  \n",
            " keras_layer_1 (KerasLayer)     {'encoder_outputs':  109482241   ['keras_layer[0][0]',            \n",
            "                                 [(None, 128, 768),               'keras_layer[0][1]',            \n",
            "                                 (None, 128, 768),                'keras_layer[0][2]']            \n",
            "                                 (None, 128, 768),                                                \n",
            "                                 (None, 128, 768),                                                \n",
            "                                 (None, 128, 768),                                                \n",
            "                                 (None, 128, 768),                                                \n",
            "                                 (None, 128, 768),                                                \n",
            "                                 (None, 128, 768),                                                \n",
            "                                 (None, 128, 768),                                                \n",
            "                                 (None, 128, 768),                                                \n",
            "                                 (None, 128, 768),                                                \n",
            "                                 (None, 128, 768)],                                               \n",
            "                                 'default': (None,                                                \n",
            "                                768),                                                             \n",
            "                                 'pooled_output': (                                               \n",
            "                                None, 768),                                                       \n",
            "                                 'sequence_output':                                               \n",
            "                                 (None, 128, 768)}                                                \n",
            "                                                                                                  \n",
            " dropout (Dropout)              (None, 768)          0           ['keras_layer_1[0][13]']         \n",
            "                                                                                                  \n",
            " output (Dense)                 (None, 1)            769         ['dropout[0][0]']                \n",
            "                                                                                                  \n",
            "==================================================================================================\n",
            "Total params: 109,483,010\n",
            "Trainable params: 769\n",
            "Non-trainable params: 109,482,241\n",
            "__________________________________________________________________________________________________\n"
          ]
        }
      ]
    },
    {
      "cell_type": "code",
      "source": [
        "log_dir = 'model/log'\n",
        "checkpoint_filepath = 'model/checkpoint'\n",
        "\n",
        "callbacks = [tf.keras.callbacks.ModelCheckpoint(filepath=checkpoint_filepath, \n",
        "                                                save_weights_only=True, \n",
        "                                                monitor='val_loss', \n",
        "                                                mode='min', \n",
        "                                                save_best_only=True), \n",
        "            tf.keras.callbacks.TensorBoard(log_dir=log_dir)]"
      ],
      "metadata": {
        "id": "ulc2c4PkzxI5"
      },
      "execution_count": null,
      "outputs": []
    },
    {
      "cell_type": "code",
      "source": [
        "loss = tf.keras.losses.BinaryCrossentropy(from_logits=False)\n",
        "optimizer = tf.keras.optimizers.Adam(learning_rate=1e-5)\n",
        "metrics = ['accuracy']\n",
        "\n",
        "model.compile(loss=loss, optimizer=optimizer, metrics=metrics)"
      ],
      "metadata": {
        "id": "Zd6MCryzk7MC"
      },
      "execution_count": null,
      "outputs": []
    },
    {
      "cell_type": "code",
      "source": [
        "history = model.fit(X_train,\n",
        "                    y_train,\n",
        "                    batch_size=32,\n",
        "                    epochs=5,\n",
        "                    validation_data=(X_test, y_test),\n",
        "                    callbacks=callbacks)"
      ],
      "metadata": {
        "colab": {
          "base_uri": "https://localhost:8080/"
        },
        "id": "U4K8fFkm0qyM",
        "outputId": "0b6c8a77-535e-4cc0-ce02-bc64f9cac848"
      },
      "execution_count": null,
      "outputs": [
        {
          "output_type": "stream",
          "name": "stdout",
          "text": [
            "Epoch 1/5\n",
            "523/523 [==============================] - 326s 601ms/step - loss: 0.7062 - accuracy: 0.5324 - val_loss: 0.6702 - val_accuracy: 0.5913\n",
            "Epoch 2/5\n",
            "523/523 [==============================] - 318s 608ms/step - loss: 0.6834 - accuracy: 0.5795 - val_loss: 0.6675 - val_accuracy: 0.6032\n",
            "Epoch 3/5\n",
            "523/523 [==============================] - 318s 609ms/step - loss: 0.6803 - accuracy: 0.5830 - val_loss: 0.6659 - val_accuracy: 0.6041\n",
            "Epoch 4/5\n",
            "523/523 [==============================] - 318s 608ms/step - loss: 0.6772 - accuracy: 0.5861 - val_loss: 0.6644 - val_accuracy: 0.6048\n",
            "Epoch 5/5\n",
            "523/523 [==============================] - 318s 608ms/step - loss: 0.6770 - accuracy: 0.5849 - val_loss: 0.6630 - val_accuracy: 0.6061\n"
          ]
        }
      ]
    },
    {
      "cell_type": "code",
      "source": [
        ""
      ],
      "metadata": {
        "id": "W7OdoFfjCViu"
      },
      "execution_count": null,
      "outputs": []
    },
    {
      "cell_type": "code",
      "source": [
        ""
      ],
      "metadata": {
        "id": "9mEemt5_Ca2w"
      },
      "execution_count": null,
      "outputs": []
    }
  ],
  "metadata": {
    "accelerator": "GPU",
    "colab": {
      "collapsed_sections": [],
      "name": "model_bert.ipynb",
      "provenance": []
    },
    "interpreter": {
      "hash": "b62b5b20d49cf776f47e328cdf5f7d2ee85b56b6194ef00de6e062f6b4a044e4"
    },
    "kernelspec": {
      "display_name": "Python 3.7.9 ('733_env')",
      "language": "python",
      "name": "python3"
    },
    "language_info": {
      "codemirror_mode": {
        "name": "ipython",
        "version": 3
      },
      "file_extension": ".py",
      "mimetype": "text/x-python",
      "name": "python",
      "nbconvert_exporter": "python",
      "pygments_lexer": "ipython3",
      "version": "3.7.9"
    },
    "orig_nbformat": 4
  },
  "nbformat": 4,
  "nbformat_minor": 0
}