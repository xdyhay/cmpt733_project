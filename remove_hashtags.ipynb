{
 "cells": [
  {
   "cell_type": "code",
   "execution_count": 1,
   "metadata": {},
   "outputs": [],
   "source": [
    "import pandas as pd\n",
    "from tqdm.notebook import tqdm\n",
    "import emoji\n",
    "from string import punctuation"
   ]
  },
  {
   "cell_type": "code",
   "execution_count": 2,
   "metadata": {},
   "outputs": [],
   "source": [
    "def remove_punc(string):\n",
    "    punctuation_zh = r\"\"\"!\"#$%&'()*+,-./:;<=>?@[\\]^_`{|}~“”？，！【】（）、。：；’‘……￥·\"\"\"\n",
    "    dicts = {i: '' for i in punctuation + punctuation_zh}\n",
    "    dicts.pop('#')  # keep#\n",
    "    punc_table = str.maketrans(dicts)\n",
    "    return string.translate(punc_table)"
   ]
  },
  {
   "cell_type": "code",
   "execution_count": 3,
   "metadata": {},
   "outputs": [],
   "source": [
    "def remove_emoji(string):\n",
    "    allchars = [str for str in string]\n",
    "    emoji_list = [c for c in allchars if c in emoji.UNICODE_EMOJI['en']]\n",
    "    clean_text = ' '.join([str for str in string.split() if not any(i in str for i in emoji_list)])\n",
    "    return clean_text"
   ]
  },
  {
   "cell_type": "code",
   "execution_count": 4,
   "metadata": {},
   "outputs": [],
   "source": [
    "def read_data(file):\n",
    "    texts = []\n",
    "    labels = []\n",
    "    data = pd.read_csv(file)\n",
    "    data.dropna(subset=['tidyTweet', 'Label'], inplace=True)\n",
    "    for i in tqdm(data.itertuples(), total=len(data)):\n",
    "        line = getattr(i, 'tidyTweet')\n",
    "        line = line.strip()\n",
    "        if not line:\n",
    "            continue\n",
    "        line = remove_emoji(line)\n",
    "        line = remove_punc(line).strip()\n",
    "        texts.append(line)\n",
    "        label = getattr(i, 'Label')\n",
    "        labels.append(label)\n",
    "        if label == 1.0:\n",
    "            texts.extend([line] * 2)\n",
    "            labels.extend([label] * 2)\n",
    "    assert len(texts) == len(labels)\n",
    "    return texts, labels"
   ]
  },
  {
   "cell_type": "code",
   "execution_count": 5,
   "metadata": {},
   "outputs": [
    {
     "data": {
      "application/vnd.jupyter.widget-view+json": {
       "model_id": "4c59f23ee6c24c5085bbae922784c6be",
       "version_major": 2,
       "version_minor": 0
      },
      "text/plain": [
       "  0%|          | 0/12058 [00:00<?, ?it/s]"
      ]
     },
     "metadata": {},
     "output_type": "display_data"
    }
   ],
   "source": [
    "texts, labels = read_data(\"./bert/733 label data - 2.csv\")"
   ]
  },
  {
   "cell_type": "code",
   "execution_count": 16,
   "metadata": {},
   "outputs": [
    {
     "name": "stdout",
     "output_type": "stream",
     "text": [
      "17820\n",
      "17549\n"
     ]
    }
   ],
   "source": [
    "df = pd.DataFrame({'text':texts, 'label':labels})\n",
    "print(len(df))\n",
    "df = df[~df['text'].str.contains('#depop ')].reset_index(drop=True)\n",
    "print(len(df))"
   ]
  },
  {
   "cell_type": "code",
   "execution_count": 17,
   "metadata": {},
   "outputs": [],
   "source": [
    "df.to_csv('./dataset.csv')"
   ]
  },
  {
   "cell_type": "code",
   "execution_count": null,
   "metadata": {},
   "outputs": [],
   "source": []
  }
 ],
 "metadata": {
  "interpreter": {
   "hash": "b62b5b20d49cf776f47e328cdf5f7d2ee85b56b6194ef00de6e062f6b4a044e4"
  },
  "kernelspec": {
   "display_name": "Python 3.7.9 ('733_env')",
   "language": "python",
   "name": "python3"
  },
  "language_info": {
   "codemirror_mode": {
    "name": "ipython",
    "version": 3
   },
   "file_extension": ".py",
   "mimetype": "text/x-python",
   "name": "python",
   "nbconvert_exporter": "python",
   "pygments_lexer": "ipython3",
   "version": "3.7.9"
  },
  "orig_nbformat": 4
 },
 "nbformat": 4,
 "nbformat_minor": 2
}
