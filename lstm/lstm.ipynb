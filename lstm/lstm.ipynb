{
 "cells": [
  {
   "cell_type": "code",
   "execution_count": 1,
   "metadata": {},
   "outputs": [
    {
     "name": "stderr",
     "output_type": "stream",
     "text": [
      "[nltk_data] Downloading package stopwords to /home/huiyiz/nltk_data...\n",
      "[nltk_data]   Package stopwords is already up-to-date!\n"
     ]
    },
    {
     "data": {
      "text/plain": [
       "True"
      ]
     },
     "execution_count": 1,
     "metadata": {},
     "output_type": "execute_result"
    }
   ],
   "source": [
    "from keras.models import Sequential, load_model\n",
    "from keras.callbacks import ModelCheckpoint, EarlyStopping\n",
    "from keras.layers import Dense, Embedding, Activation\n",
    "from keras.layers import Dropout, SpatialDropout1D\n",
    "from keras.layers import LSTM, Bidirectional\n",
    "from keras.utils.np_utils import to_categorical\n",
    "from sklearn import preprocessing\n",
    "import pandas as pd\n",
    "import numpy as np\n",
    "import nltk\n",
    "import gensim\n",
    "import emoji\n",
    "from nltk.corpus import stopwords\n",
    "from tqdm.notebook import tqdm\n",
    "from sklearn.metrics import accuracy_score, precision_score, recall_score, f1_score, classification_report\n",
    "from sklearn.model_selection import train_test_split\n",
    "import tensorflow as tf\n",
    "import re\n",
    "import matplotlib.pyplot as plt\n",
    "nltk.download('stopwords')"
   ]
  },
  {
   "cell_type": "code",
   "execution_count": 2,
   "metadata": {},
   "outputs": [],
   "source": [
    "stop_words = stopwords.words('english')"
   ]
  },
  {
   "cell_type": "code",
   "execution_count": 3,
   "metadata": {},
   "outputs": [],
   "source": [
    "def remove_punct(s):\n",
    "    punct_pattern = re.compile(r'[^\\w\\s]')\n",
    "    no_punct = punct_pattern.sub(r'', s)\n",
    "    return no_punct\n",
    "\n",
    "def remove_emoji(string):\n",
    "    allchars = [str for str in string]\n",
    "    emoji_list = [c for c in allchars if c in emoji.UNICODE_EMOJI['en']]\n",
    "    clean_text = ' '.join([str for str in string.split() if not any(i in str for i in emoji_list)])\n",
    "    return clean_text"
   ]
  },
  {
   "cell_type": "code",
   "execution_count": 4,
   "metadata": {},
   "outputs": [],
   "source": [
    "def tweet_preprocessing(tweet):\n",
    "    temp = []\n",
    "    tokens = list(nltk.word_tokenize(tweet.strip()))\n",
    "    for t in tokens:\n",
    "        if t in stop_words:\n",
    "            continue\n",
    "        token = remove_emoji(t)\n",
    "        token = remove_punct(token).strip()\n",
    "        if token:\n",
    "            temp.append(token)\n",
    "    return temp\n",
    "\n",
    "def data_preprocessing(data, test=False):\n",
    "    texts = []\n",
    "    labels = []\n",
    "    for i in tqdm(data.itertuples(), total=len(data)):\n",
    "        temp = tweet_preprocessing(i.tidyTweet)\n",
    "        texts.append(temp)\n",
    "        if not test:\n",
    "            labels.append(i.Label)\n",
    "            if i.Label == 1.0:\n",
    "                texts.extend([temp] * 2)\n",
    "                labels.extend([i.Label] * 2)\n",
    "    if not test:\n",
    "        assert len(texts) == len(labels)\n",
    "        return texts, labels\n",
    "    else:\n",
    "        return texts"
   ]
  },
  {
   "cell_type": "code",
   "execution_count": 5,
   "metadata": {},
   "outputs": [
    {
     "data": {
      "application/vnd.jupyter.widget-view+json": {
       "model_id": "95171722043e4935bdf75fe34310d641",
       "version_major": 2,
       "version_minor": 0
      },
      "text/plain": [
       "HBox(children=(FloatProgress(value=0.0, max=11747.0), HTML(value='')))"
      ]
     },
     "metadata": {},
     "output_type": "display_data"
    },
    {
     "name": "stdout",
     "output_type": "stream",
     "text": [
      "\n"
     ]
    }
   ],
   "source": [
    "train_df = pd.read_csv('../dataset.csv')\n",
    "train_df = train_df.dropna(subset=['tidyTweet', 'Label'])\n",
    "texts, labels = data_preprocessing(train_df)"
   ]
  },
  {
   "cell_type": "code",
   "execution_count": 6,
   "metadata": {},
   "outputs": [],
   "source": [
    "encoder = preprocessing.LabelEncoder()\n",
    "encoder_y = encoder.fit_transform(labels)\n",
    "y_cate = to_categorical(encoder_y, num_classes=len(set(encoder_y)))"
   ]
  },
  {
   "cell_type": "code",
   "execution_count": 7,
   "metadata": {},
   "outputs": [],
   "source": [
    "def build_word2vec_dict(w2v_model):\n",
    "    vocab_list = list(w2v_model.wv.key_to_index.keys())\n",
    "\n",
    "    embeddings_matrix = np.zeros((len(vocab_list), w2v_model.vector_size))\n",
    "    for i in range(len(vocab_list)):\n",
    "        word = vocab_list[i]\n",
    "        embeddings_matrix[i] =w2v_model.wv[word]\n",
    "    return len(vocab_list), embeddings_matrix\n",
    "\n",
    "def generate_data(texts, w2v_model, maxlen):\n",
    "    X = []\n",
    "    words_dict = w2v_model.wv.key_to_index\n",
    "    for text in texts:\n",
    "        temp = []\n",
    "        for word in text:\n",
    "            if word in words_dict:\n",
    "                temp.append(words_dict[word])\n",
    "            else:\n",
    "                temp.append(1)\n",
    "        if len(temp) < maxlen:\n",
    "            temp += [0] * (maxlen - len(temp))\n",
    "        else:\n",
    "            temp = temp[:maxlen]\n",
    "        X.append(temp)\n",
    "    X = np.array(X)\n",
    "    return X\n"
   ]
  },
  {
   "cell_type": "code",
   "execution_count": 8,
   "metadata": {},
   "outputs": [],
   "source": [
    "maxlen = 128\n",
    "\n",
    "w2v_model = gensim.models.Word2Vec(\n",
    "    texts,\n",
    "    vector_size=300,\n",
    "    window=5,\n",
    "    min_count=1,\n",
    "    workers=5\n",
    ")\n",
    "\n",
    "vocab_size, embeddings_matrix = build_word2vec_dict(w2v_model)\n",
    "X = generate_data(texts, w2v_model, maxlen)"
   ]
  },
  {
   "cell_type": "code",
   "execution_count": 9,
   "metadata": {},
   "outputs": [],
   "source": [
    "X_train, X_val, y_train, y_val = train_test_split(\n",
    "    X,\n",
    "    y_cate,\n",
    "    stratify=y_cate,\n",
    "    test_size=0.2,\n",
    "    random_state=1\n",
    ")"
   ]
  },
  {
   "cell_type": "code",
   "execution_count": 31,
   "metadata": {},
   "outputs": [
    {
     "name": "stdout",
     "output_type": "stream",
     "text": [
      "Model: \"sequential_6\"\n",
      "_________________________________________________________________\n",
      " Layer (type)                Output Shape              Param #   \n",
      "=================================================================\n",
      " embedding_6 (Embedding)     (None, 128, 300)          9284100   \n",
      "                                                                 \n",
      " spatial_dropout1d_6 (Spatia  (None, 128, 300)         0         \n",
      " lDropout1D)                                                     \n",
      "                                                                 \n",
      " bidirectional_6 (Bidirectio  (None, 600)              1442400   \n",
      " nal)                                                            \n",
      "                                                                 \n",
      " dense_12 (Dense)            (None, 100)               60100     \n",
      "                                                                 \n",
      " dropout_6 (Dropout)         (None, 100)               0         \n",
      "                                                                 \n",
      " dense_13 (Dense)            (None, 2)                 202       \n",
      "                                                                 \n",
      " activation_6 (Activation)   (None, 2)                 0         \n",
      "                                                                 \n",
      "=================================================================\n",
      "Total params: 10,786,802\n",
      "Trainable params: 10,786,802\n",
      "Non-trainable params: 0\n",
      "_________________________________________________________________\n"
     ]
    }
   ],
   "source": [
    "model = Sequential()\n",
    "model.add(\n",
    "    Embedding(vocab_size,\n",
    "              300,\n",
    "              weights=[embeddings_matrix],\n",
    "              input_length=maxlen,\n",
    "              trainable=True))\n",
    "model.add(SpatialDropout1D(0.3))\n",
    "model.add(Bidirectional(LSTM(300, dropout=0.2)))\n",
    "model.add(Dense(100, activation='relu'))\n",
    "model.add(Dropout(0.5))\n",
    "\n",
    "model.add(Dense(y_train.shape[1]))\n",
    "model.add(Activation('softmax'))\n",
    "\n",
    "model.summary()"
   ]
  },
  {
   "cell_type": "code",
   "execution_count": 22,
   "metadata": {},
   "outputs": [],
   "source": [
    "def plot_history(history):\n",
    "    acc = history.history['accuracy']\n",
    "    val_acc = history.history['val_accuracy']\n",
    "    loss = history.history['loss']\n",
    "    val_loss = history.history['val_loss']\n",
    "    x = range(1, len(acc) + 1)\n",
    "    plt.figure(figsize=(12, 5))\n",
    "    plt.subplot(1, 2, 1)\n",
    "    plt.plot(x, acc, 'b', label='Training acc')\n",
    "    plt.plot(x, val_acc, 'r', label='Validation acc')\n",
    "    plt.title('Training and validation accuracy')\n",
    "    plt.legend()\n",
    "    plt.subplot(1, 2, 2)\n",
    "    plt.plot(x, loss, 'b', label='Training loss')\n",
    "    plt.plot(x, val_loss, 'r', label='Validation loss')\n",
    "    plt.title('Training and validation loss')\n",
    "    plt.legend()"
   ]
  },
  {
   "cell_type": "code",
   "execution_count": 32,
   "metadata": {},
   "outputs": [
    {
     "name": "stdout",
     "output_type": "stream",
     "text": [
      "Epoch 1/16\n",
      "110/110 [==============================] - ETA: 0s - loss: 0.6912 - accuracy: 0.5462\n",
      "Epoch 1: val_accuracy improved from -inf to 0.61319, saving model to lstm_weights.best.hdf5\n",
      "110/110 [==============================] - 73s 645ms/step - loss: 0.6912 - accuracy: 0.5462 - val_loss: 0.6572 - val_accuracy: 0.6132\n",
      "Epoch 2/16\n",
      "110/110 [==============================] - ETA: 0s - loss: 0.6611 - accuracy: 0.6056\n",
      "Epoch 2: val_accuracy improved from 0.61319 to 0.61890, saving model to lstm_weights.best.hdf5\n",
      "110/110 [==============================] - 70s 640ms/step - loss: 0.6611 - accuracy: 0.6056 - val_loss: 0.6527 - val_accuracy: 0.6189\n",
      "Epoch 3/16\n",
      "110/110 [==============================] - ETA: 0s - loss: 0.6509 - accuracy: 0.6215\n",
      "Epoch 3: val_accuracy improved from 0.61890 to 0.63089, saving model to lstm_weights.best.hdf5\n",
      "110/110 [==============================] - 71s 641ms/step - loss: 0.6509 - accuracy: 0.6215 - val_loss: 0.6409 - val_accuracy: 0.6309\n",
      "Epoch 4/16\n",
      "110/110 [==============================] - ETA: 0s - loss: 0.6436 - accuracy: 0.6360\n",
      "Epoch 4: val_accuracy improved from 0.63089 to 0.63688, saving model to lstm_weights.best.hdf5\n",
      "110/110 [==============================] - 71s 641ms/step - loss: 0.6436 - accuracy: 0.6360 - val_loss: 0.6396 - val_accuracy: 0.6369\n",
      "Epoch 5/16\n",
      "110/110 [==============================] - ETA: 0s - loss: 0.6381 - accuracy: 0.6414\n",
      "Epoch 5: val_accuracy improved from 0.63688 to 0.64916, saving model to lstm_weights.best.hdf5\n",
      "110/110 [==============================] - 70s 640ms/step - loss: 0.6381 - accuracy: 0.6414 - val_loss: 0.6351 - val_accuracy: 0.6492\n",
      "Epoch 6/16\n",
      "110/110 [==============================] - ETA: 0s - loss: 0.6282 - accuracy: 0.6476\n",
      "Epoch 6: val_accuracy improved from 0.64916 to 0.65344, saving model to lstm_weights.best.hdf5\n",
      "110/110 [==============================] - 70s 640ms/step - loss: 0.6282 - accuracy: 0.6476 - val_loss: 0.6302 - val_accuracy: 0.6534\n",
      "Epoch 7/16\n",
      "110/110 [==============================] - ETA: 0s - loss: 0.6242 - accuracy: 0.6607\n",
      "Epoch 7: val_accuracy improved from 0.65344 to 0.66200, saving model to lstm_weights.best.hdf5\n",
      "110/110 [==============================] - 70s 640ms/step - loss: 0.6242 - accuracy: 0.6607 - val_loss: 0.6243 - val_accuracy: 0.6620\n",
      "Epoch 8/16\n",
      "110/110 [==============================] - ETA: 0s - loss: 0.6161 - accuracy: 0.6640\n",
      "Epoch 8: val_accuracy improved from 0.66200 to 0.66771, saving model to lstm_weights.best.hdf5\n",
      "110/110 [==============================] - 70s 641ms/step - loss: 0.6161 - accuracy: 0.6640 - val_loss: 0.6137 - val_accuracy: 0.6677\n",
      "Epoch 9/16\n",
      "110/110 [==============================] - ETA: 0s - loss: 0.6041 - accuracy: 0.6837\n",
      "Epoch 9: val_accuracy improved from 0.66771 to 0.66828, saving model to lstm_weights.best.hdf5\n",
      "110/110 [==============================] - 71s 642ms/step - loss: 0.6041 - accuracy: 0.6837 - val_loss: 0.6200 - val_accuracy: 0.6683\n",
      "Epoch 10/16\n",
      "110/110 [==============================] - ETA: 0s - loss: 0.5886 - accuracy: 0.6961\n",
      "Epoch 10: val_accuracy improved from 0.66828 to 0.68456, saving model to lstm_weights.best.hdf5\n",
      "110/110 [==============================] - 70s 641ms/step - loss: 0.5886 - accuracy: 0.6961 - val_loss: 0.5962 - val_accuracy: 0.6846\n",
      "Epoch 11/16\n",
      "110/110 [==============================] - ETA: 0s - loss: 0.5683 - accuracy: 0.7138\n",
      "Epoch 11: val_accuracy did not improve from 0.68456\n",
      "110/110 [==============================] - 69s 629ms/step - loss: 0.5683 - accuracy: 0.7138 - val_loss: 0.6025 - val_accuracy: 0.6814\n",
      "Epoch 12/16\n",
      "110/110 [==============================] - ETA: 0s - loss: 0.5396 - accuracy: 0.7352\n",
      "Epoch 12: val_accuracy improved from 0.68456 to 0.72509, saving model to lstm_weights.best.hdf5\n",
      "110/110 [==============================] - 70s 640ms/step - loss: 0.5396 - accuracy: 0.7352 - val_loss: 0.5460 - val_accuracy: 0.7251\n",
      "Epoch 13/16\n",
      "110/110 [==============================] - ETA: 0s - loss: 0.4843 - accuracy: 0.7745\n",
      "Epoch 13: val_accuracy improved from 0.72509 to 0.75849, saving model to lstm_weights.best.hdf5\n",
      "110/110 [==============================] - 70s 641ms/step - loss: 0.4843 - accuracy: 0.7745 - val_loss: 0.5091 - val_accuracy: 0.7585\n",
      "Epoch 14/16\n",
      "110/110 [==============================] - ETA: 0s - loss: 0.4067 - accuracy: 0.8188\n",
      "Epoch 14: val_accuracy improved from 0.75849 to 0.78247, saving model to lstm_weights.best.hdf5\n",
      "110/110 [==============================] - 70s 640ms/step - loss: 0.4067 - accuracy: 0.8188 - val_loss: 0.4813 - val_accuracy: 0.7825\n",
      "Epoch 15/16\n",
      "110/110 [==============================] - ETA: 0s - loss: 0.3268 - accuracy: 0.8597\n",
      "Epoch 15: val_accuracy improved from 0.78247 to 0.82843, saving model to lstm_weights.best.hdf5\n",
      "110/110 [==============================] - 70s 640ms/step - loss: 0.3268 - accuracy: 0.8597 - val_loss: 0.3892 - val_accuracy: 0.8284\n",
      "Epoch 16/16\n",
      "110/110 [==============================] - ETA: 0s - loss: 0.2750 - accuracy: 0.8853\n",
      "Epoch 16: val_accuracy did not improve from 0.82843\n",
      "110/110 [==============================] - 69s 629ms/step - loss: 0.2750 - accuracy: 0.8853 - val_loss: 0.5072 - val_accuracy: 0.7910\n"
     ]
    }
   ],
   "source": [
    "filepath = 'lstm_weights.best.hdf5'\n",
    "checkpoint = ModelCheckpoint(filepath,\n",
    "                             monitor='val_accuracy',\n",
    "                             verbose=1,\n",
    "                             save_best_only=True,\n",
    "                             mode='max')\n",
    "earlystop = EarlyStopping(monitor='val_accuracy',\n",
    "                          patience=3,\n",
    "                          verbose=1,\n",
    "                          mode='max',\n",
    "                          restore_best_weights=True)\n",
    "callbacks_list = [checkpoint, earlystop]\n",
    "model.compile(loss='categorical_crossentropy',\n",
    "              optimizer=tf.keras.optimizers.Adam(learning_rate=5e-5),\n",
    "              metrics=['accuracy'])\n",
    "\n",
    "history = model.fit(X_train,\n",
    "                    y=y_train,\n",
    "                    batch_size=128,\n",
    "                    epochs=16,\n",
    "                    validation_data=(X_val, y_val),\n",
    "                    verbose=1,\n",
    "                    callbacks=callbacks_list)"
   ]
  },
  {
   "cell_type": "code",
   "execution_count": 33,
   "metadata": {},
   "outputs": [
    {
     "data": {
      "image/png": "[encoded data removed]",
      "text/plain": [
       "<Figure size 864x360 with 2 Axes>"
      ]
     },
     "metadata": {
      "needs_background": "light"
     },
     "output_type": "display_data"
    }
   ],
   "source": [
    "plot_history(history)"
   ]
  },
  {
   "cell_type": "code",
   "execution_count": 37,
   "metadata": {},
   "outputs": [
    {
     "data": {
      "text/plain": [
       "{'loss': [0.6911534070968628,\n",
       "  0.6610923409461975,\n",
       "  0.6509433388710022,\n",
       "  0.643636167049408,\n",
       "  0.6380919814109802,\n",
       "  0.628175675868988,\n",
       "  0.624180018901825,\n",
       "  0.6161030530929565,\n",
       "  0.6041081547737122,\n",
       "  0.5886096358299255,\n",
       "  0.5683085322380066,\n",
       "  0.5396124720573425,\n",
       "  0.4842868149280548,\n",
       "  0.40668442845344543,\n",
       "  0.3268476724624634,\n",
       "  0.2750071883201599],\n",
       " 'accuracy': [0.546181321144104,\n",
       "  0.605567455291748,\n",
       "  0.621484637260437,\n",
       "  0.6359742879867554,\n",
       "  0.6413990259170532,\n",
       "  0.6476088762283325,\n",
       "  0.6606709361076355,\n",
       "  0.6640257239341736,\n",
       "  0.6836545467376709,\n",
       "  0.6960742473602295,\n",
       "  0.7137758731842041,\n",
       "  0.7351891398429871,\n",
       "  0.7745181918144226,\n",
       "  0.8188436627388,\n",
       "  0.859743058681488,\n",
       "  0.8852962255477905],\n",
       " 'val_loss': [0.6572227478027344,\n",
       "  0.6526795625686646,\n",
       "  0.6409127116203308,\n",
       "  0.6395543217658997,\n",
       "  0.6351053714752197,\n",
       "  0.6302174925804138,\n",
       "  0.6243082284927368,\n",
       "  0.6137427091598511,\n",
       "  0.6199756264686584,\n",
       "  0.5962244868278503,\n",
       "  0.602538526058197,\n",
       "  0.5459566712379456,\n",
       "  0.5091407299041748,\n",
       "  0.48134100437164307,\n",
       "  0.38921332359313965,\n",
       "  0.5072131156921387],\n",
       " 'val_accuracy': [0.6131886839866638,\n",
       "  0.6188980937004089,\n",
       "  0.6308878064155579,\n",
       "  0.6368826627731323,\n",
       "  0.6491578817367554,\n",
       "  0.6534398794174194,\n",
       "  0.6620039939880371,\n",
       "  0.6677134037017822,\n",
       "  0.6682843565940857,\n",
       "  0.6845560669898987,\n",
       "  0.6814159154891968,\n",
       "  0.7250927686691284,\n",
       "  0.7584927082061768,\n",
       "  0.7824721932411194,\n",
       "  0.8284327983856201,\n",
       "  0.7910362482070923]}"
      ]
     },
     "execution_count": 37,
     "metadata": {},
     "output_type": "execute_result"
    }
   ],
   "source": [
    "history.history"
   ]
  },
  {
   "cell_type": "code",
   "execution_count": 36,
   "metadata": {},
   "outputs": [],
   "source": [
    "# import json\n",
    "# with open('istm_train.txt', 'w') as convert_file:\n",
    "#      convert_file.write(json.dumps(history.history))"
   ]
  },
  {
   "cell_type": "code",
   "execution_count": 38,
   "metadata": {},
   "outputs": [
    {
     "name": "stdout",
     "output_type": "stream",
     "text": [
      "acc: 0.8284327719097916\n",
      "precision: 0.8285917781671428\n",
      "recall: 0.8285716381561574\n",
      "f1 score: 0.8284325482053491\n",
      "              precision    recall  f1-score   support\n",
      "\n",
      "           0     0.8395    0.8173    0.8282      1773\n",
      "           1     0.8177    0.8399    0.8286      1730\n",
      "\n",
      "    accuracy                         0.8284      3503\n",
      "   macro avg     0.8286    0.8286    0.8284      3503\n",
      "weighted avg     0.8287    0.8284    0.8284      3503\n",
      "\n"
     ]
    }
   ],
   "source": [
    "model.load_weights(filepath)\n",
    "preds = np.argmax(model.predict(X_val), axis=-1)\n",
    "print(f'acc: {accuracy_score(np.argmax(y_val,axis=-1), preds)}')\n",
    "print(\n",
    "    f'precision: {precision_score(np.argmax(y_val,axis=-1), preds,average=\"macro\")}'\n",
    ")\n",
    "print(\n",
    "    f'recall: {recall_score(np.argmax(y_val,axis=-1), preds,average=\"macro\")}')\n",
    "print(f'f1 score: {f1_score(np.argmax(y_val,axis=-1), preds,average=\"macro\")}')\n",
    "print(classification_report(np.argmax(y_val, axis=-1), preds, digits=4))"
   ]
  },
  {
   "cell_type": "code",
   "execution_count": 52,
   "metadata": {},
   "outputs": [],
   "source": [
    "filepath = 'lstm_weights.best.hdf5'\n",
    "model = load_model(filepath)\n",
    "\n",
    "def test_event(file, model, w2v_model, maxlen):\n",
    "    test_df = pd.read_csv(file)\n",
    "    test_df = test_df.dropna(subset=['tidyTweet'])\n",
    "    test_texts = data_preprocessing(test_df, test=True)\n",
    "    X_test = generate_data(test_texts, w2v_model, maxlen)\n",
    "    test_preds = np.argmax(model.predict(X_test), axis=-1)\n",
    "    test_df['predict'] = test_preds\n",
    "    return test_df"
   ]
  },
  {
   "cell_type": "code",
   "execution_count": 53,
   "metadata": {},
   "outputs": [
    {
     "data": {
      "application/vnd.jupyter.widget-view+json": {
       "model_id": "a59b99b76ff34ca3a6285d6bebcbec57",
       "version_major": 2,
       "version_minor": 0
      },
      "text/plain": [
       "HBox(children=(FloatProgress(value=0.0, max=1935.0), HTML(value='')))"
      ]
     },
     "metadata": {},
     "output_type": "display_data"
    },
    {
     "name": "stdout",
     "output_type": "stream",
     "text": [
      "\n"
     ]
    }
   ],
   "source": [
    "covid_df = test_event('../test_covid_data.csv', model, w2v_model, maxlen)\n",
    "covid_df.to_csv('covid_result.csv') "
   ]
  },
  {
   "cell_type": "code",
   "execution_count": 54,
   "metadata": {},
   "outputs": [
    {
     "data": {
      "text/html": [
       "<div>\n",
       "<style scoped>\n",
       "    .dataframe tbody tr th:only-of-type {\n",
       "        vertical-align: middle;\n",
       "    }\n",
       "\n",
       "    .dataframe tbody tr th {\n",
       "        vertical-align: top;\n",
       "    }\n",
       "\n",
       "    .dataframe thead th {\n",
       "        text-align: right;\n",
       "    }\n",
       "</style>\n",
       "<table border=\"1\" class=\"dataframe\">\n",
       "  <thead>\n",
       "    <tr style=\"text-align: right;\">\n",
       "      <th></th>\n",
       "      <th>id</th>\n",
       "      <th>date</th>\n",
       "      <th>tweet</th>\n",
       "      <th>tidyTweet</th>\n",
       "    </tr>\n",
       "    <tr>\n",
       "      <th>predict</th>\n",
       "      <th></th>\n",
       "      <th></th>\n",
       "      <th></th>\n",
       "      <th></th>\n",
       "    </tr>\n",
       "  </thead>\n",
       "  <tbody>\n",
       "    <tr>\n",
       "      <th>0</th>\n",
       "      <td>1294</td>\n",
       "      <td>1294</td>\n",
       "      <td>1294</td>\n",
       "      <td>1294</td>\n",
       "    </tr>\n",
       "    <tr>\n",
       "      <th>1</th>\n",
       "      <td>641</td>\n",
       "      <td>641</td>\n",
       "      <td>641</td>\n",
       "      <td>641</td>\n",
       "    </tr>\n",
       "  </tbody>\n",
       "</table>\n",
       "</div>"
      ],
      "text/plain": [
       "           id  date  tweet  tidyTweet\n",
       "predict                              \n",
       "0        1294  1294   1294       1294\n",
       "1         641   641    641        641"
      ]
     },
     "execution_count": 54,
     "metadata": {},
     "output_type": "execute_result"
    }
   ],
   "source": [
    "covid_df.groupby('predict').count()"
   ]
  },
  {
   "cell_type": "code",
   "execution_count": 55,
   "metadata": {},
   "outputs": [
    {
     "data": {
      "application/vnd.jupyter.widget-view+json": {
       "model_id": "4ac9b37e5c6b4ccd87709f7b2dc35915",
       "version_major": 2,
       "version_minor": 0
      },
      "text/plain": [
       "HBox(children=(FloatProgress(value=0.0, max=1803.0), HTML(value='')))"
      ]
     },
     "metadata": {},
     "output_type": "display_data"
    },
    {
     "name": "stdout",
     "output_type": "stream",
     "text": [
      "\n"
     ]
    }
   ],
   "source": [
    "truckers_df = test_event('../test_truckers_data.csv', model, w2v_model, maxlen)\n",
    "truckers_df.to_csv('truckers_result.csv') "
   ]
  },
  {
   "cell_type": "code",
   "execution_count": 56,
   "metadata": {},
   "outputs": [
    {
     "data": {
      "text/html": [
       "<div>\n",
       "<style scoped>\n",
       "    .dataframe tbody tr th:only-of-type {\n",
       "        vertical-align: middle;\n",
       "    }\n",
       "\n",
       "    .dataframe tbody tr th {\n",
       "        vertical-align: top;\n",
       "    }\n",
       "\n",
       "    .dataframe thead th {\n",
       "        text-align: right;\n",
       "    }\n",
       "</style>\n",
       "<table border=\"1\" class=\"dataframe\">\n",
       "  <thead>\n",
       "    <tr style=\"text-align: right;\">\n",
       "      <th></th>\n",
       "      <th>id</th>\n",
       "      <th>date</th>\n",
       "      <th>tweet</th>\n",
       "      <th>tidyTweet</th>\n",
       "    </tr>\n",
       "    <tr>\n",
       "      <th>predict</th>\n",
       "      <th></th>\n",
       "      <th></th>\n",
       "      <th></th>\n",
       "      <th></th>\n",
       "    </tr>\n",
       "  </thead>\n",
       "  <tbody>\n",
       "    <tr>\n",
       "      <th>0</th>\n",
       "      <td>1574</td>\n",
       "      <td>1574</td>\n",
       "      <td>1574</td>\n",
       "      <td>1574</td>\n",
       "    </tr>\n",
       "    <tr>\n",
       "      <th>1</th>\n",
       "      <td>229</td>\n",
       "      <td>229</td>\n",
       "      <td>229</td>\n",
       "      <td>229</td>\n",
       "    </tr>\n",
       "  </tbody>\n",
       "</table>\n",
       "</div>"
      ],
      "text/plain": [
       "           id  date  tweet  tidyTweet\n",
       "predict                              \n",
       "0        1574  1574   1574       1574\n",
       "1         229   229    229        229"
      ]
     },
     "execution_count": 56,
     "metadata": {},
     "output_type": "execute_result"
    }
   ],
   "source": [
    "truckers_df.groupby('predict').count()"
   ]
  }
 ],
 "metadata": {
  "interpreter": {
   "hash": "40d3a090f54c6569ab1632332b64b2c03c39dcf918b08424e98f38b5ae0af88f"
  },
  "kernelspec": {
   "display_name": "py38-gt",
   "language": "python",
   "name": "py38-gt"
  },
  "language_info": {
   "codemirror_mode": {
    "name": "ipython",
    "version": 3
   },
   "file_extension": ".py",
   "mimetype": "text/x-python",
   "name": "python",
   "nbconvert_exporter": "python",
   "pygments_lexer": "ipython3",
   "version": "3.8.3"
  },
  "orig_nbformat": 4
 },
 "nbformat": 4,
 "nbformat_minor": 2
}
