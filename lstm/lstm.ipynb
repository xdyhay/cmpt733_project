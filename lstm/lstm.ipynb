{
 "cells": [
  {
   "cell_type": "code",
   "execution_count": 1,
   "metadata": {},
   "outputs": [
    {
     "name": "stderr",
     "output_type": "stream",
     "text": [
      "[nltk_data] Downloading package stopwords to /home/huiyiz/nltk_data...\n",
      "[nltk_data]   Package stopwords is already up-to-date!\n"
     ]
    },
    {
     "data": {
      "text/plain": [
       "True"
      ]
     },
     "execution_count": 1,
     "metadata": {},
     "output_type": "execute_result"
    }
   ],
   "source": [
    "from keras.models import Sequential, load_model\n",
    "from keras.callbacks import ModelCheckpoint, EarlyStopping\n",
    "from keras.layers import Dense, Embedding, Activation\n",
    "from keras.layers import Dropout, SpatialDropout1D\n",
    "from keras.layers import LSTM, Bidirectional\n",
    "from keras.utils.np_utils import to_categorical\n",
    "from sklearn import preprocessing\n",
    "import pandas as pd\n",
    "import numpy as np\n",
    "import nltk\n",
    "import gensim\n",
    "import emoji\n",
    "from nltk.corpus import stopwords\n",
    "from tqdm.notebook import tqdm\n",
    "from sklearn.metrics import accuracy_score, precision_score, recall_score, f1_score, classification_report\n",
    "from sklearn.model_selection import train_test_split\n",
    "import tensorflow as tf\n",
    "import re\n",
    "import matplotlib.pyplot as plt\n",
    "nltk.download('stopwords')"
   ]
  },
  {
   "cell_type": "code",
   "execution_count": 2,
   "metadata": {},
   "outputs": [],
   "source": [
    "stop_words = stopwords.words('english')"
   ]
  },
  {
   "cell_type": "code",
   "execution_count": 3,
   "metadata": {},
   "outputs": [],
   "source": [
    "def remove_punct(s):\n",
    "    punct_pattern = re.compile(r'[^\\w\\s]')\n",
    "    no_punct = punct_pattern.sub(r'', s)\n",
    "    return no_punct\n",
    "\n",
    "def remove_emoji(string):\n",
    "    allchars = [str for str in string]\n",
    "    emoji_list = [c for c in allchars if c in emoji.UNICODE_EMOJI['en']]\n",
    "    clean_text = ' '.join([str for str in string.split() if not any(i in str for i in emoji_list)])\n",
    "    return clean_text"
   ]
  },
  {
   "cell_type": "code",
   "execution_count": 4,
   "metadata": {},
   "outputs": [],
   "source": [
    "def tweet_preprocessing(tweet):\n",
    "    temp = []\n",
    "    tokens = list(nltk.word_tokenize(tweet.strip()))\n",
    "    for t in tokens:\n",
    "        if t in stop_words:\n",
    "            continue\n",
    "        token = remove_emoji(t)\n",
    "        token = remove_punct(token).strip()\n",
    "        if token:\n",
    "            temp.append(token)\n",
    "    return temp\n",
    "\n",
    "def data_preprocessing(data, test=False):\n",
    "    texts = []\n",
    "    labels = []\n",
    "    for i in tqdm(data.itertuples(), total=len(data)):\n",
    "        temp = tweet_preprocessing(i.tidyTweet)\n",
    "        texts.append(temp)\n",
    "        if not test:\n",
    "            labels.append(i.Label)\n",
    "            if i.Label == 1.0:\n",
    "                texts.extend([temp] * 2)\n",
    "                labels.extend([i.Label] * 2)\n",
    "    if not test:\n",
    "        assert len(texts) == len(labels)\n",
    "        return texts, labels\n",
    "    else:\n",
    "        return texts"
   ]
  },
  {
   "cell_type": "code",
   "execution_count": 7,
   "metadata": {},
   "outputs": [
    {
     "data": {
      "application/vnd.jupyter.widget-view+json": {
       "model_id": "c70d6239832b4f14838a06ee0a657dd7",
       "version_major": 2,
       "version_minor": 0
      },
      "text/plain": [
       "HBox(children=(FloatProgress(value=0.0, max=11747.0), HTML(value='')))"
      ]
     },
     "metadata": {},
     "output_type": "display_data"
    },
    {
     "name": "stdout",
     "output_type": "stream",
     "text": [
      "\n"
     ]
    }
   ],
   "source": [
    "train_df = pd.read_csv('./dataset.csv')\n",
    "train_df = train_df.dropna(subset=['tidyTweet', 'Label'])\n",
    "texts, labels = data_preprocessing(train_df)"
   ]
  },
  {
   "cell_type": "code",
   "execution_count": 14,
   "metadata": {},
   "outputs": [],
   "source": [
    "encoder = preprocessing.LabelEncoder()\n",
    "encoder_y = encoder.fit_transform(labels)\n",
    "y_cate = to_categorical(encoder_y, num_classes=len(set(encoder_y)))"
   ]
  },
  {
   "cell_type": "code",
   "execution_count": 15,
   "metadata": {},
   "outputs": [],
   "source": [
    "def build_word2vec_dict(w2v_model):\n",
    "    vocab_list = list(w2v_model.wv.key_to_index.keys())\n",
    "\n",
    "    embeddings_matrix = np.zeros((len(vocab_list), w2v_model.vector_size))\n",
    "\n",
    "    for i in range(len(vocab_list)):\n",
    "        word = vocab_list[i]\n",
    "        embeddings_matrix[i] = w2v_model.wv[word]\n",
    "    return len(vocab_list), embeddings_matrix\n",
    "\n",
    "def generate_data(texts, w2v_model, maxlen):\n",
    "    X = []\n",
    "    words_dict = w2v_model.wv.key_to_index\n",
    "    for text in texts:\n",
    "        temp = []\n",
    "        for word in text:\n",
    "            if word in words_dict:\n",
    "                temp.append(words_dict[word])\n",
    "            else:\n",
    "                temp.append(1)\n",
    "        if len(temp) < maxlen:\n",
    "            temp += [0] * (maxlen - len(temp))\n",
    "        else:\n",
    "            temp = temp[:maxlen]\n",
    "        X.append(temp)\n",
    "    X = np.array(X)\n",
    "    return X\n"
   ]
  },
  {
   "cell_type": "code",
   "execution_count": 16,
   "metadata": {},
   "outputs": [],
   "source": [
    "maxlen = 128\n",
    "\n",
    "w2v_model = gensim.models.Word2Vec(\n",
    "    texts,\n",
    "    vector_size=300,\n",
    "    window=5,\n",
    "    min_count=1,\n",
    "    workers=5\n",
    ")\n",
    "\n",
    "vocab_size, embeddings_matrix = build_word2vec_dict(w2v_model)\n",
    "X = generate_data(texts, w2v_model, maxlen)"
   ]
  },
  {
   "cell_type": "code",
   "execution_count": 17,
   "metadata": {},
   "outputs": [],
   "source": [
    "X_train, X_val, y_train, y_val = train_test_split(\n",
    "    X,\n",
    "    y_cate,\n",
    "    stratify=y_cate,\n",
    "    test_size=0.2,\n",
    "    random_state=1\n",
    ")"
   ]
  },
  {
   "cell_type": "code",
   "execution_count": 18,
   "metadata": {},
   "outputs": [
    {
     "name": "stdout",
     "output_type": "stream",
     "text": [
      "Model: \"sequential\"\n",
      "_________________________________________________________________\n",
      " Layer (type)                Output Shape              Param #   \n",
      "=================================================================\n",
      " embedding (Embedding)       (None, 128, 300)          9284100   \n",
      "                                                                 \n",
      " spatial_dropout1d (SpatialD  (None, 128, 300)         0         \n",
      " ropout1D)                                                       \n",
      "                                                                 \n",
      " bidirectional (Bidirectiona  (None, 600)              1442400   \n",
      " l)                                                              \n",
      "                                                                 \n",
      " dense (Dense)               (None, 100)               60100     \n",
      "                                                                 \n",
      " dropout (Dropout)           (None, 100)               0         \n",
      "                                                                 \n",
      " dense_1 (Dense)             (None, 2)                 202       \n",
      "                                                                 \n",
      " activation (Activation)     (None, 2)                 0         \n",
      "                                                                 \n",
      "=================================================================\n",
      "Total params: 10,786,802\n",
      "Trainable params: 10,786,802\n",
      "Non-trainable params: 0\n",
      "_________________________________________________________________\n"
     ]
    }
   ],
   "source": [
    "model = Sequential()\n",
    "model.add(\n",
    "    Embedding(vocab_size,\n",
    "              300,\n",
    "              weights=[embeddings_matrix],\n",
    "              input_length=maxlen,\n",
    "              trainable=True))\n",
    "model.add(SpatialDropout1D(0.3))\n",
    "model.add(Bidirectional(LSTM(300, dropout=0.2)))\n",
    "model.add(Dense(100, activation='relu'))\n",
    "model.add(Dropout(0.5))\n",
    "\n",
    "model.add(Dense(y_train.shape[1]))\n",
    "model.add(Activation('sigmoid'))\n",
    "\n",
    "model.summary()"
   ]
  },
  {
   "cell_type": "code",
   "execution_count": 19,
   "metadata": {},
   "outputs": [],
   "source": [
    "def plot_history(history):\n",
    "    acc = history.history['accuracy']\n",
    "    val_acc = history.history['val_accuracy']\n",
    "    loss = history.history['loss']\n",
    "    val_loss = history.history['val_loss']\n",
    "    x = range(1, len(acc) + 1)\n",
    "    plt.figure(figsize=(12, 5))\n",
    "    plt.subplot(1, 2, 1)\n",
    "    plt.plot(x, acc, 'b', label='Training acc')\n",
    "    plt.plot(x, val_acc, 'r', label='Validation acc')\n",
    "    plt.title('Training and validation accuracy')\n",
    "    plt.legend()\n",
    "    plt.subplot(1, 2, 2)\n",
    "    plt.plot(x, loss, 'b', label='Training loss')\n",
    "    plt.plot(x, val_loss, 'r', label='Validation loss')\n",
    "    plt.title('Training and validation loss')\n",
    "    plt.legend()"
   ]
  },
  {
   "cell_type": "code",
   "execution_count": 20,
   "metadata": {},
   "outputs": [
    {
     "name": "stdout",
     "output_type": "stream",
     "text": [
      "Epoch 1/16\n",
      "110/110 [==============================] - ETA: 0s - loss: 0.6877 - accuracy: 0.5451\n",
      "Epoch 1: val_accuracy improved from -inf to 0.58093, saving model to lstm_weightst.hdf5\n",
      "110/110 [==============================] - 76s 656ms/step - loss: 0.6877 - accuracy: 0.5451 - val_loss: 0.6745 - val_accuracy: 0.5809\n",
      "Epoch 2/16\n",
      "110/110 [==============================] - ETA: 0s - loss: 0.6614 - accuracy: 0.6029\n",
      "Epoch 2: val_accuracy improved from 0.58093 to 0.61490, saving model to lstm_weightst.hdf5\n",
      "110/110 [==============================] - 71s 643ms/step - loss: 0.6614 - accuracy: 0.6029 - val_loss: 0.6602 - val_accuracy: 0.6149\n",
      "Epoch 3/16\n",
      "110/110 [==============================] - ETA: 0s - loss: 0.6526 - accuracy: 0.6255\n",
      "Epoch 3: val_accuracy improved from 0.61490 to 0.63546, saving model to lstm_weightst.hdf5\n",
      "110/110 [==============================] - 71s 642ms/step - loss: 0.6526 - accuracy: 0.6255 - val_loss: 0.6409 - val_accuracy: 0.6355\n",
      "Epoch 4/16\n",
      "110/110 [==============================] - ETA: 0s - loss: 0.6439 - accuracy: 0.6387\n",
      "Epoch 4: val_accuracy did not improve from 0.63546\n",
      "110/110 [==============================] - 69s 631ms/step - loss: 0.6439 - accuracy: 0.6387 - val_loss: 0.6440 - val_accuracy: 0.6335\n",
      "Epoch 5/16\n",
      "110/110 [==============================] - ETA: 0s - loss: 0.6357 - accuracy: 0.6433\n",
      "Epoch 5: val_accuracy improved from 0.63546 to 0.65087, saving model to lstm_weightst.hdf5\n",
      "110/110 [==============================] - 71s 642ms/step - loss: 0.6357 - accuracy: 0.6433 - val_loss: 0.6324 - val_accuracy: 0.6509\n",
      "Epoch 6/16\n",
      "110/110 [==============================] - ETA: 0s - loss: 0.6296 - accuracy: 0.6503\n",
      "Epoch 6: val_accuracy improved from 0.65087 to 0.65544, saving model to lstm_weightst.hdf5\n",
      "110/110 [==============================] - 71s 644ms/step - loss: 0.6296 - accuracy: 0.6503 - val_loss: 0.6252 - val_accuracy: 0.6554\n",
      "Epoch 7/16\n",
      "110/110 [==============================] - ETA: 0s - loss: 0.6212 - accuracy: 0.6635\n",
      "Epoch 7: val_accuracy improved from 0.65544 to 0.66600, saving model to lstm_weightst.hdf5\n",
      "110/110 [==============================] - 71s 645ms/step - loss: 0.6212 - accuracy: 0.6635 - val_loss: 0.6198 - val_accuracy: 0.6660\n",
      "Epoch 8/16\n",
      "110/110 [==============================] - ETA: 0s - loss: 0.6092 - accuracy: 0.6727\n",
      "Epoch 8: val_accuracy did not improve from 0.66600\n",
      "110/110 [==============================] - 70s 632ms/step - loss: 0.6092 - accuracy: 0.6727 - val_loss: 0.6141 - val_accuracy: 0.6660\n",
      "Epoch 9/16\n",
      "110/110 [==============================] - ETA: 0s - loss: 0.5998 - accuracy: 0.6837\n",
      "Epoch 9: val_accuracy improved from 0.66600 to 0.68256, saving model to lstm_weightst.hdf5\n",
      "110/110 [==============================] - 71s 642ms/step - loss: 0.5998 - accuracy: 0.6837 - val_loss: 0.6033 - val_accuracy: 0.6826\n",
      "Epoch 10/16\n",
      "110/110 [==============================] - ETA: 0s - loss: 0.5861 - accuracy: 0.6965\n",
      "Epoch 10: val_accuracy improved from 0.68256 to 0.69540, saving model to lstm_weightst.hdf5\n",
      "110/110 [==============================] - 71s 644ms/step - loss: 0.5861 - accuracy: 0.6965 - val_loss: 0.5880 - val_accuracy: 0.6954\n",
      "Epoch 11/16\n",
      "110/110 [==============================] - ETA: 0s - loss: 0.5601 - accuracy: 0.7213\n",
      "Epoch 11: val_accuracy improved from 0.69540 to 0.71110, saving model to lstm_weightst.hdf5\n",
      "110/110 [==============================] - 71s 643ms/step - loss: 0.5601 - accuracy: 0.7213 - val_loss: 0.5673 - val_accuracy: 0.7111\n",
      "Epoch 12/16\n",
      "110/110 [==============================] - ETA: 0s - loss: 0.5181 - accuracy: 0.7532\n",
      "Epoch 12: val_accuracy improved from 0.71110 to 0.74136, saving model to lstm_weightst.hdf5\n",
      "110/110 [==============================] - 72s 655ms/step - loss: 0.5181 - accuracy: 0.7532 - val_loss: 0.5214 - val_accuracy: 0.7414\n",
      "Epoch 13/16\n",
      "110/110 [==============================] - ETA: 0s - loss: 0.4615 - accuracy: 0.7874\n",
      "Epoch 13: val_accuracy improved from 0.74136 to 0.76506, saving model to lstm_weightst.hdf5\n",
      "110/110 [==============================] - 71s 646ms/step - loss: 0.4615 - accuracy: 0.7874 - val_loss: 0.4805 - val_accuracy: 0.7651\n",
      "Epoch 14/16\n",
      "110/110 [==============================] - ETA: 0s - loss: 0.3960 - accuracy: 0.8276\n",
      "Epoch 14: val_accuracy improved from 0.76506 to 0.80502, saving model to lstm_weightst.hdf5\n",
      "110/110 [==============================] - 72s 655ms/step - loss: 0.3960 - accuracy: 0.8276 - val_loss: 0.4212 - val_accuracy: 0.8050\n",
      "Epoch 15/16\n",
      "110/110 [==============================] - ETA: 0s - loss: 0.3328 - accuracy: 0.8590\n",
      "Epoch 15: val_accuracy improved from 0.80502 to 0.81444, saving model to lstm_weightst.hdf5\n",
      "110/110 [==============================] - 71s 646ms/step - loss: 0.3328 - accuracy: 0.8590 - val_loss: 0.4077 - val_accuracy: 0.8144\n",
      "Epoch 16/16\n",
      "110/110 [==============================] - ETA: 0s - loss: 0.2883 - accuracy: 0.8827\n",
      "Epoch 16: val_accuracy improved from 0.81444 to 0.83985, saving model to lstm_weightst.hdf5\n",
      "110/110 [==============================] - 71s 645ms/step - loss: 0.2883 - accuracy: 0.8827 - val_loss: 0.3707 - val_accuracy: 0.8399\n"
     ]
    }
   ],
   "source": [
    "filepath = 'lstm_weights.best.hdf5'\n",
    "checkpoint = ModelCheckpoint(filepath,\n",
    "                             monitor='val_accuracy',\n",
    "                             verbose=1,\n",
    "                             save_best_only=True,\n",
    "                             mode='max')\n",
    "earlystop = EarlyStopping(monitor='val_accuracy',\n",
    "                          patience=3,\n",
    "                          verbose=1,\n",
    "                          mode='max',\n",
    "                          restore_best_weights=True)\n",
    "callbacks_list = [checkpoint, earlystop]\n",
    "model.compile(loss='categorical_crossentropy',\n",
    "              optimizer=tf.keras.optimizers.Adam(learning_rate=5e-5),\n",
    "              metrics=['accuracy'])\n",
    "\n",
    "history = model.fit(X_train,\n",
    "                    y=y_train,\n",
    "                    batch_size=128,\n",
    "                    epochs=16,\n",
    "                    validation_data=(X_val, y_val),\n",
    "                    verbose=1,\n",
    "                    callbacks=callbacks_list)"
   ]
  },
  {
   "cell_type": "code",
   "execution_count": 21,
   "metadata": {},
   "outputs": [
    {
     "data": {
      "image/png": "[encoded data removed]",
      "text/plain": [
       "<Figure size 864x360 with 2 Axes>"
      ]
     },
     "metadata": {
      "needs_background": "light"
     },
     "output_type": "display_data"
    }
   ],
   "source": [
    "plot_history(history)"
   ]
  },
  {
   "cell_type": "code",
   "execution_count": 22,
   "metadata": {},
   "outputs": [
    {
     "data": {
      "text/plain": [
       "{'loss': [0.687709629535675,\n",
       "  0.661390483379364,\n",
       "  0.6525778770446777,\n",
       "  0.6438831090927124,\n",
       "  0.635733425617218,\n",
       "  0.6295689344406128,\n",
       "  0.621192991733551,\n",
       "  0.6092382669448853,\n",
       "  0.599843442440033,\n",
       "  0.5861261487007141,\n",
       "  0.5601187944412231,\n",
       "  0.5181341767311096,\n",
       "  0.46150121092796326,\n",
       "  0.39599427580833435,\n",
       "  0.3328125774860382,\n",
       "  0.28827905654907227],\n",
       " 'accuracy': [0.5451106429100037,\n",
       "  0.6028550863265991,\n",
       "  0.6254817843437195,\n",
       "  0.6386866569519043,\n",
       "  0.643254816532135,\n",
       "  0.6503211855888367,\n",
       "  0.6634546518325806,\n",
       "  0.6726623773574829,\n",
       "  0.683725893497467,\n",
       "  0.6965025067329407,\n",
       "  0.7212705016136169,\n",
       "  0.7532476782798767,\n",
       "  0.7873661518096924,\n",
       "  0.8276231288909912,\n",
       "  0.8589578866958618,\n",
       "  0.8826552629470825],\n",
       " 'val_loss': [0.6744617819786072,\n",
       "  0.6602225303649902,\n",
       "  0.6409002542495728,\n",
       "  0.6439865231513977,\n",
       "  0.632381021976471,\n",
       "  0.625171959400177,\n",
       "  0.6197506189346313,\n",
       "  0.6140570640563965,\n",
       "  0.6033292412757874,\n",
       "  0.5880464911460876,\n",
       "  0.5673015713691711,\n",
       "  0.5214409232139587,\n",
       "  0.48053330183029175,\n",
       "  0.42118340730667114,\n",
       "  0.40773439407348633,\n",
       "  0.37072059512138367],\n",
       " 'val_accuracy': [0.5809306502342224,\n",
       "  0.6149015426635742,\n",
       "  0.635455310344696,\n",
       "  0.6334570646286011,\n",
       "  0.650870680809021,\n",
       "  0.6554381847381592,\n",
       "  0.6660005450248718,\n",
       "  0.6660005450248718,\n",
       "  0.6825578212738037,\n",
       "  0.6954039335250854,\n",
       "  0.7111047506332397,\n",
       "  0.7413645386695862,\n",
       "  0.7650585174560547,\n",
       "  0.805024266242981,\n",
       "  0.8144447803497314,\n",
       "  0.8398515582084656]}"
      ]
     },
     "execution_count": 22,
     "metadata": {},
     "output_type": "execute_result"
    }
   ],
   "source": [
    "history.history"
   ]
  },
  {
   "cell_type": "code",
   "execution_count": 24,
   "metadata": {},
   "outputs": [],
   "source": [
    "# import json\n",
    "# with open('lstm_train.txt', 'w') as convert_file:\n",
    "#      convert_file.write(json.dumps(history.history))"
   ]
  },
  {
   "cell_type": "code",
   "execution_count": 25,
   "metadata": {},
   "outputs": [
    {
     "name": "stdout",
     "output_type": "stream",
     "text": [
      "acc: 0.8398515558093063\n",
      "precision: 0.8402060020860805\n",
      "recall: 0.8396416706604202\n",
      "f1 score: 0.8397311877634861\n",
      "              precision    recall  f1-score   support\n",
      "\n",
      "           0     0.8319    0.8567    0.8441      1773\n",
      "           1     0.8485    0.8225    0.8353      1730\n",
      "\n",
      "    accuracy                         0.8399      3503\n",
      "   macro avg     0.8402    0.8396    0.8397      3503\n",
      "weighted avg     0.8401    0.8399    0.8398      3503\n",
      "\n"
     ]
    }
   ],
   "source": [
    "model.load_weights(filepath)\n",
    "preds = np.argmax(model.predict(X_val), axis=-1)\n",
    "print(f'acc: {accuracy_score(np.argmax(y_val,axis=-1), preds)}')\n",
    "print(\n",
    "    f'precision: {precision_score(np.argmax(y_val,axis=-1), preds,average=\"macro\")}'\n",
    ")\n",
    "print(\n",
    "    f'recall: {recall_score(np.argmax(y_val,axis=-1), preds,average=\"macro\")}')\n",
    "print(f'f1 score: {f1_score(np.argmax(y_val,axis=-1), preds,average=\"macro\")}')\n",
    "print(classification_report(np.argmax(y_val, axis=-1), preds, digits=4))"
   ]
  },
  {
   "cell_type": "code",
   "execution_count": 32,
   "metadata": {},
   "outputs": [],
   "source": [
    "filepath = 'lstm_weights.best.hdf5'\n",
    "model = load_model(filepath)\n",
    "\n",
    "def test_event(file, model, w2v_model, maxlen):\n",
    "    test_df = pd.read_csv(file)\n",
    "    test_df = test_df.dropna(subset=['tidyTweet'])\n",
    "    test_texts = data_preprocessing(test_df, test=True)\n",
    "    X_test = generate_data(test_texts, w2v_model, maxlen)\n",
    "    test_preds = np.argmax(model.predict(X_test), axis=-1)\n",
    "    test_df['label'] = test_preds\n",
    "    return test_df"
   ]
  },
  {
   "cell_type": "code",
   "execution_count": 33,
   "metadata": {},
   "outputs": [
    {
     "data": {
      "application/vnd.jupyter.widget-view+json": {
       "model_id": "304d71bf9ef54d049daec80ad393ebeb",
       "version_major": 2,
       "version_minor": 0
      },
      "text/plain": [
       "HBox(children=(FloatProgress(value=0.0, max=1954.0), HTML(value='')))"
      ]
     },
     "metadata": {},
     "output_type": "display_data"
    },
    {
     "name": "stdout",
     "output_type": "stream",
     "text": [
      "\n"
     ]
    }
   ],
   "source": [
    "covid_df = test_event('./test_covid_data.csv', model, w2v_model, maxlen)\n",
    "covid_df.to_csv('lstm_covid_result.csv') "
   ]
  },
  {
   "cell_type": "code",
   "execution_count": 34,
   "metadata": {},
   "outputs": [
    {
     "data": {
      "text/html": [
       "<div>\n",
       "<style scoped>\n",
       "    .dataframe tbody tr th:only-of-type {\n",
       "        vertical-align: middle;\n",
       "    }\n",
       "\n",
       "    .dataframe tbody tr th {\n",
       "        vertical-align: top;\n",
       "    }\n",
       "\n",
       "    .dataframe thead th {\n",
       "        text-align: right;\n",
       "    }\n",
       "</style>\n",
       "<table border=\"1\" class=\"dataframe\">\n",
       "  <thead>\n",
       "    <tr style=\"text-align: right;\">\n",
       "      <th></th>\n",
       "      <th>id</th>\n",
       "      <th>date</th>\n",
       "      <th>search</th>\n",
       "      <th>tweet</th>\n",
       "      <th>tidyTweet</th>\n",
       "    </tr>\n",
       "    <tr>\n",
       "      <th>label</th>\n",
       "      <th></th>\n",
       "      <th></th>\n",
       "      <th></th>\n",
       "      <th></th>\n",
       "      <th></th>\n",
       "    </tr>\n",
       "  </thead>\n",
       "  <tbody>\n",
       "    <tr>\n",
       "      <th>0</th>\n",
       "      <td>1475</td>\n",
       "      <td>1475</td>\n",
       "      <td>1475</td>\n",
       "      <td>1475</td>\n",
       "      <td>1475</td>\n",
       "    </tr>\n",
       "    <tr>\n",
       "      <th>1</th>\n",
       "      <td>479</td>\n",
       "      <td>479</td>\n",
       "      <td>479</td>\n",
       "      <td>479</td>\n",
       "      <td>479</td>\n",
       "    </tr>\n",
       "  </tbody>\n",
       "</table>\n",
       "</div>"
      ],
      "text/plain": [
       "         id  date  search  tweet  tidyTweet\n",
       "label                                      \n",
       "0      1475  1475    1475   1475       1475\n",
       "1       479   479     479    479        479"
      ]
     },
     "execution_count": 34,
     "metadata": {},
     "output_type": "execute_result"
    }
   ],
   "source": [
    "covid_df.groupby('label').count()"
   ]
  },
  {
   "cell_type": "code",
   "execution_count": 35,
   "metadata": {},
   "outputs": [
    {
     "data": {
      "application/vnd.jupyter.widget-view+json": {
       "model_id": "e9ce8358654149e796ec37acfcef69b8",
       "version_major": 2,
       "version_minor": 0
      },
      "text/plain": [
       "HBox(children=(FloatProgress(value=0.0, max=1803.0), HTML(value='')))"
      ]
     },
     "metadata": {},
     "output_type": "display_data"
    },
    {
     "name": "stdout",
     "output_type": "stream",
     "text": [
      "\n"
     ]
    }
   ],
   "source": [
    "truckers_df = test_event('./test_truckers_data.csv', model, w2v_model, maxlen)\n",
    "truckers_df.to_csv('lstm_truckers_result.csv') "
   ]
  },
  {
   "cell_type": "code",
   "execution_count": 36,
   "metadata": {},
   "outputs": [
    {
     "data": {
      "text/html": [
       "<div>\n",
       "<style scoped>\n",
       "    .dataframe tbody tr th:only-of-type {\n",
       "        vertical-align: middle;\n",
       "    }\n",
       "\n",
       "    .dataframe tbody tr th {\n",
       "        vertical-align: top;\n",
       "    }\n",
       "\n",
       "    .dataframe thead th {\n",
       "        text-align: right;\n",
       "    }\n",
       "</style>\n",
       "<table border=\"1\" class=\"dataframe\">\n",
       "  <thead>\n",
       "    <tr style=\"text-align: right;\">\n",
       "      <th></th>\n",
       "      <th>id</th>\n",
       "      <th>date</th>\n",
       "      <th>search</th>\n",
       "      <th>tweet</th>\n",
       "      <th>tidyTweet</th>\n",
       "    </tr>\n",
       "    <tr>\n",
       "      <th>label</th>\n",
       "      <th></th>\n",
       "      <th></th>\n",
       "      <th></th>\n",
       "      <th></th>\n",
       "      <th></th>\n",
       "    </tr>\n",
       "  </thead>\n",
       "  <tbody>\n",
       "    <tr>\n",
       "      <th>0</th>\n",
       "      <td>1649</td>\n",
       "      <td>1649</td>\n",
       "      <td>1649</td>\n",
       "      <td>1649</td>\n",
       "      <td>1649</td>\n",
       "    </tr>\n",
       "    <tr>\n",
       "      <th>1</th>\n",
       "      <td>154</td>\n",
       "      <td>154</td>\n",
       "      <td>154</td>\n",
       "      <td>154</td>\n",
       "      <td>154</td>\n",
       "    </tr>\n",
       "  </tbody>\n",
       "</table>\n",
       "</div>"
      ],
      "text/plain": [
       "         id  date  search  tweet  tidyTweet\n",
       "label                                      \n",
       "0      1649  1649    1649   1649       1649\n",
       "1       154   154     154    154        154"
      ]
     },
     "execution_count": 36,
     "metadata": {},
     "output_type": "execute_result"
    }
   ],
   "source": [
    "truckers_df.groupby('label').count()"
   ]
  }
 ],
 "metadata": {
  "interpreter": {
   "hash": "40d3a090f54c6569ab1632332b64b2c03c39dcf918b08424e98f38b5ae0af88f"
  },
  "kernelspec": {
   "display_name": "py38-gt",
   "language": "python",
   "name": "py38-gt"
  },
  "language_info": {
   "codemirror_mode": {
    "name": "ipython",
    "version": 3
   },
   "file_extension": ".py",
   "mimetype": "text/x-python",
   "name": "python",
   "nbconvert_exporter": "python",
   "pygments_lexer": "ipython3",
   "version": "3.8.3"
  },
  "orig_nbformat": 4
 },
 "nbformat": 4,
 "nbformat_minor": 2
}
