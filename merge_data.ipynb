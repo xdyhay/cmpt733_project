{
 "cells": [
  {
   "cell_type": "code",
   "execution_count": 1,
   "metadata": {},
   "outputs": [],
   "source": [
    "import os\n",
    "import re\n",
    "import pandas as pd\n",
    "pd.options.mode.chained_assignment = None "
   ]
  },
  {
   "cell_type": "code",
   "execution_count": 2,
   "metadata": {
    "code_folding": []
   },
   "outputs": [],
   "source": [
    "path = './data_0312/'\n",
    "folders = os.listdir(path)\n",
    "data = []\n",
    "for folder in folders:\n",
    "    files = os.listdir(path+folder)\n",
    "    date = []\n",
    "    for file in files:\n",
    "        try:\n",
    "            df_file = pd.read_csv((path+folder+'/'+file), index_col=None, header=0)\n",
    "            date.append(df_file)\n",
    "        except pd.errors.EmptyDataError:\n",
    "            continue\n",
    "    df_date = pd.concat(date, axis=0, ignore_index=True)   \n",
    "    data.append(df_date)\n",
    "    \n",
    "df = pd.concat(data, axis=0, ignore_index=True) \n",
    "df = df.drop_duplicates()\n",
    "df = df[df['language']=='en']"
   ]
  },
  {
   "cell_type": "code",
   "execution_count": 3,
   "metadata": {},
   "outputs": [],
   "source": [
    "def assign_tidyTweet(s):\n",
    "    url_pattern = re.compile(r'https?://\\S+')\n",
    "    no_url = url_pattern.sub(r'', str(s))\n",
    "    username_pattern = re.compile(r'@\\w+')\n",
    "    no_username = username_pattern.sub(r'', no_url)\n",
    "    amp_pattern = re.compile(r'&amp;')\n",
    "    tidy_tweet = amp_pattern.sub(r'and', no_username)\n",
    "    return tidy_tweet\n",
    "\n",
    "def drop_hashtag(s):\n",
    "    tidy_tweet = assign_tidyTweet(s)\n",
    "    hashtag_pattern = re.compile(r'#\\w+')\n",
    "    no_hashtag = hashtag_pattern.sub(r'', tidy_tweet)\n",
    "    return no_hashtag"
   ]
  },
  {
   "cell_type": "code",
   "execution_count": 4,
   "metadata": {},
   "outputs": [],
   "source": [
    "df['no_hashtag'] = df['tweet'].apply(drop_hashtag)\n",
    "df = df[df['no_hashtag'].str.len()!=0]\n",
    "df = df.drop_duplicates(subset=['no_hashtag'], keep='first')"
   ]
  },
  {
   "cell_type": "code",
   "execution_count": 5,
   "metadata": {},
   "outputs": [],
   "source": [
    "df_tweets = df[['id','date', 'tweet']]\n",
    "df_tweets['tidyTweet'] = df_tweets['tweet'].apply(assign_tidyTweet)\n",
    "df_tweets.to_csv('./merged_data.csv', index=False)"
   ]
  },
  {
   "cell_type": "code",
   "execution_count": null,
   "metadata": {},
   "outputs": [],
   "source": []
  }
 ],
 "metadata": {
  "kernelspec": {
   "display_name": "Python 3",
   "language": "python",
   "name": "python3"
  },
  "language_info": {
   "codemirror_mode": {
    "name": "ipython",
    "version": 3
   },
   "file_extension": ".py",
   "mimetype": "text/x-python",
   "name": "python",
   "nbconvert_exporter": "python",
   "pygments_lexer": "ipython3",
   "version": "3.8.5"
  }
 },
 "nbformat": 4,
 "nbformat_minor": 4
}
